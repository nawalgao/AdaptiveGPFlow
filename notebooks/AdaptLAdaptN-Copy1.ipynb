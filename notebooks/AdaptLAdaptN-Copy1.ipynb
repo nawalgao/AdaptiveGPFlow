{
 "cells": [
  {
   "cell_type": "code",
   "execution_count": 1,
   "metadata": {},
   "outputs": [
    {
     "ename": "RuntimeError",
     "evalue": "module compiled against API version 0xb but this version of numpy is 0xa",
     "output_type": "error",
     "traceback": [
      "\u001b[0;31m---------------------------------------------------------------------------\u001b[0m",
      "\u001b[0;31mRuntimeError\u001b[0m                              Traceback (most recent call last)",
      "\u001b[0;31mRuntimeError\u001b[0m: module compiled against API version 0xb but this version of numpy is 0xa"
     ]
    },
    {
     "ename": "RuntimeError",
     "evalue": "module compiled against API version 0xb but this version of numpy is 0xa",
     "output_type": "error",
     "traceback": [
      "\u001b[0;31m---------------------------------------------------------------------------\u001b[0m",
      "\u001b[0;31mRuntimeError\u001b[0m                              Traceback (most recent call last)",
      "\u001b[0;31mRuntimeError\u001b[0m: module compiled against API version 0xb but this version of numpy is 0xa"
     ]
    }
   ],
   "source": [
    "import gpflow\n",
    "import numpy as np\n",
    "import matplotlib.pyplot as plt\n",
    "%matplotlib inline\n",
    "import sys\n",
    "sys.path.append('../')\n",
    "from GPHetero import hetero_kernels, hetero_likelihoods, hetero_gpmc"
   ]
  },
  {
   "cell_type": "code",
   "execution_count": 2,
   "metadata": {},
   "outputs": [
    {
     "data": {
      "text/plain": [
       "Text(0,0.5,u'$y$')"
      ]
     },
     "execution_count": 2,
     "metadata": {},
     "output_type": "execute_result"
    },
    {
     "data": {
      "image/png": "[encoded data removed]",
      "text/plain": [
       "<matplotlib.figure.Figure at 0x10e2dafd0>"
      ]
     },
     "metadata": {},
     "output_type": "display_data"
    }
   ],
   "source": [
    "data = np.loadtxt('../data/motor.dat')\n",
    "X = data[:, 0][:, None]\n",
    "Xm = np.mean(X)\n",
    "Xv = np.std(X)\n",
    "Xnorm = (X - Xm)/Xv\n",
    "Y = data[:, 1]\n",
    "fig, ax = plt.subplots()\n",
    "ax.plot(X, Y, 'x', markeredgewidth=2)\n",
    "ax.set_xlabel('$x$')\n",
    "ax.set_ylabel('$y$')"
   ]
  },
  {
   "cell_type": "code",
   "execution_count": 3,
   "metadata": {
    "collapsed": true
   },
   "outputs": [],
   "source": [
    "#build the model\n",
    "k = gpflow.kernels.RBF(input_dim=1)\n",
    "noisekern = gpflow.kernels.RBF(input_dim=1, ARD=True)\n",
    "nonstat = hetero_kernels.NonStationaryLengthscaleRBF()\n",
    "m = hetero_gpmc.GPMCAdaptiveLengthscale2D(Xnorm, Y[:, None], k, nonstat, noisekern)"
   ]
  },
  {
   "cell_type": "code",
   "execution_count": 4,
   "metadata": {
    "collapsed": true
   },
   "outputs": [],
   "source": [
    "m.kerns['ell0'].variance.prior = gpflow.priors.Gamma(.5,.5)\n",
    "#m.kerns['ell0'].lengthscales.prior = gpflow.priors.Gamma(1.,1.)\n",
    "m.kerns['ell0'].variance = 0.1\n",
    "m.kerns['ell0'].variance.fixed = True\n",
    "#m.kerns['ell0'].lengthscales = 1.\n",
    "#m.kerns['ell0'].lengthscales.fixed = True\n",
    "m.kerns['ell0'].lengthscales.prior = gpflow.priors.Gamma(1.,1.)\n",
    "m.nonstat.signal_variance = 100\n",
    "m.nonstat.signal_variance.fixed = True\n",
    "#m.nonstat.signal_variance.prior = gpflow.priors.Gamma(1.,1.)\n",
    "m.noisekern.lengthscales.prior = gpflow.priors.Gamma(1., 1.)\n",
    "#m.noisekern.variance.prior = gpflow.priors.Gamma(.1,.1)\n",
    "m.noisekern.variance = 0.05\n",
    "m.noisekern.variance.fixed = True"
   ]
  },
  {
   "cell_type": "code",
   "execution_count": 5,
   "metadata": {},
   "outputs": [
    {
     "data": {
      "text/plain": [
       "      fun: array([ 831.67808621])\n",
       " hess_inv: <284x284 LbfgsInvHessProduct with dtype=float64>\n",
       "      jac: array([  4.88880801e-03,   1.12420257e-03,   1.63761651e-03,\n",
       "         1.33239091e-03,   1.06781477e-03,   1.59902164e-03,\n",
       "         8.33132545e-04,   7.86783539e-04,   7.72696814e-04,\n",
       "         3.56862550e-04,   4.09346232e-06,   3.09032729e-05,\n",
       "        -1.99365759e-04,   7.64738598e-04,  -2.84773789e-04,\n",
       "         1.00025995e-03,   2.39991091e-04,  -5.92875938e-04,\n",
       "         1.64130737e-03,   3.11708488e-04,   4.07815376e-04,\n",
       "        -1.91772043e-04,  -1.31550108e-03,   3.28656103e-04,\n",
       "         4.04496721e-04,   1.89358530e-03,   5.86073523e-04,\n",
       "        -1.25616858e-03,   2.60185926e-04,  -3.27409155e-05,\n",
       "        -2.11738972e-04,   6.21399757e-04,   9.42031919e-05,\n",
       "         1.67372799e-04,   1.62249606e-04,   8.08029579e-05,\n",
       "         6.84835394e-05,   3.51230754e-05,   4.77682879e-05,\n",
       "         5.21769789e-05,   5.37244950e-05,   3.43111047e-05,\n",
       "         1.84895813e-05,   1.76297451e-06,   1.27854551e-04,\n",
       "        -1.30514193e-05,   8.00490059e-05,   8.33515117e-05,\n",
       "         1.02010902e-04,   7.71132036e-05,   6.88458994e-05,\n",
       "         7.96722316e-05,   4.72078678e-05,   5.61160087e-05,\n",
       "         7.48986601e-05,   9.93261813e-05,   7.44349839e-05,\n",
       "         4.89601358e-05,   8.50317881e-05,   6.56740625e-05,\n",
       "         7.13729193e-05,   6.44398169e-05,   4.38585954e-05,\n",
       "         4.52516391e-05,   4.35842144e-05,   4.22145091e-05,\n",
       "         3.25972833e-05,   3.94751805e-05,   2.37085078e-05,\n",
       "         3.67272246e-05,   2.08203112e-05,   2.23767827e-05,\n",
       "         3.26739531e-05,   4.08431547e-05,   1.08497992e-05,\n",
       "         5.09560823e-05,   3.28503675e-05,   1.96816406e-05,\n",
       "         2.20478546e-05,   2.31817514e-05,   1.75278293e-05,\n",
       "         1.91089797e-05,   1.53257030e-05,   1.33077500e-05,\n",
       "         1.57780567e-05,   1.75319654e-05,   3.89513513e-06,\n",
       "        -2.23212507e-06,   3.69865743e-07,  -6.18795963e-06,\n",
       "        -8.17578687e-06,  -8.01600471e-06,  -3.84701448e-06,\n",
       "        -8.58150130e-06,  -1.59472780e-03,  -9.75485932e-05,\n",
       "        -4.97849813e-04,  -2.53493000e-05,   1.73015341e-04,\n",
       "         7.06501419e-04,   8.32945857e-05,   5.38390188e-05,\n",
       "         1.18102095e-04,   3.66125437e-05,   8.33267449e-05,\n",
       "         1.81160260e-04,   1.73308778e-04,   1.49348701e-04,\n",
       "         2.15631955e-04,   2.67524359e-04,   3.01226600e-04,\n",
       "         6.09096778e-04,   2.19650832e-04,   1.33292006e-04,\n",
       "         1.97384956e-04,   1.27057536e-04,   1.56997220e-04,\n",
       "         1.14194317e-04,   9.95396044e-05,   9.37865527e-05,\n",
       "         9.31394218e-05,   9.37253288e-05,   9.70771982e-05,\n",
       "         9.99446184e-05,   1.87992050e-04,   1.48108875e-04,\n",
       "         2.12932797e-04,   2.09952223e-04,   1.51573490e-04,\n",
       "         1.30358835e-04,   1.80219606e-04,   1.50880894e-04,\n",
       "         2.28166052e-04,   1.72134340e-04,   1.74884034e-04,\n",
       "         1.47477783e-04,   2.60026595e-04,   1.62226636e-04,\n",
       "         1.65180603e-04,   1.21599390e-04,   1.20041147e-04,\n",
       "         1.18576611e-04,   1.16786441e-04,   9.77886430e-05,\n",
       "         1.04413779e-04,   9.16457443e-05,   8.46094805e-05,\n",
       "         1.12966872e-04,   9.65329433e-05,   1.02625474e-04,\n",
       "         1.21259551e-04,   9.84371995e-05,   8.59775203e-05,\n",
       "         1.23434814e-04,   1.40430574e-04,   1.40505162e-04,\n",
       "         9.59028176e-05,   1.14936142e-04,   1.20609141e-04,\n",
       "         1.06349898e-04,   8.73152099e-05,   8.82890200e-05,\n",
       "         7.73577862e-05,   7.03020170e-05,   5.82943397e-05,\n",
       "         5.10598223e-05,   6.27807957e-05,   1.10521665e-04,\n",
       "         8.35271582e-05,   4.46710385e-05,   4.21307697e-05,\n",
       "         3.66541650e-05,   5.25404295e-05,   4.66197480e-05,\n",
       "         3.40844205e-05,   2.57703416e-05,   3.43169806e-05,\n",
       "         2.72101567e-05,   2.62284839e-05,   3.40076242e-05,\n",
       "         2.43855949e-05,   1.73266551e-05,   1.62610183e-05,\n",
       "         1.05371076e-05,   8.64335157e-06,   4.46667872e-06,\n",
       "         2.21956098e-06,   2.45990852e-06,  -1.28892472e-04,\n",
       "        -1.11204841e-03,  -1.42004296e-03,  -1.35466428e-04,\n",
       "        -3.37849033e-04,  -4.37200872e-04,  -4.15075966e-04,\n",
       "         7.93331864e-05,   5.75545688e-04,  -6.91199703e-04,\n",
       "         2.05419143e-04,   7.54736398e-04,   1.16316984e-04,\n",
       "         3.20942571e-04,  -6.24730303e-04,   4.39427688e-04,\n",
       "        -5.32118780e-04,   2.17389406e-04,   8.13657427e-04,\n",
       "        -2.92233271e-04,  -2.78612836e-04,  -7.48808238e-04,\n",
       "        -2.61161647e-04,   1.59222988e-03,  -5.29237939e-05,\n",
       "        -4.20286618e-04,  -4.77487798e-04,  -6.08923131e-04,\n",
       "         2.07458024e-04,  -2.70623904e-04,  -3.93261965e-04,\n",
       "         8.36680146e-05,  -5.65743081e-04,  -3.58327764e-04,\n",
       "        -2.16684342e-04,  -2.83566220e-04,  -2.95957279e-04,\n",
       "        -1.16395608e-04,  -2.85052406e-04,  -1.17817061e-04,\n",
       "        -1.33870457e-04,  -5.51693491e-05,  -6.06977723e-05,\n",
       "         7.38731993e-05,  -4.95376407e-05,   9.37242290e-05,\n",
       "         9.92217142e-05,   8.46591754e-05,   5.09321819e-05,\n",
       "         7.37486186e-05,   1.59840132e-04,   1.29290379e-04,\n",
       "         1.31826917e-04,   1.90120136e-04,   9.35173560e-05,\n",
       "         1.79522418e-04,   2.20949750e-04,   1.38333842e-04,\n",
       "         1.40324479e-04,   2.59122377e-04,   2.58627177e-04,\n",
       "         2.55727270e-04,   1.23087065e-04,   2.55117169e-04,\n",
       "         2.48010901e-04,   2.19439037e-04,   1.72353195e-04,\n",
       "         2.00801174e-04,   1.69072683e-04,   1.53650571e-04,\n",
       "         1.09757807e-04,   1.00482094e-04,   1.57807676e-04,\n",
       "         1.78446185e-04,   5.48628832e-05,   1.22071163e-05,\n",
       "        -8.36091345e-05,  -8.06452585e-05,  -1.91150323e-04,\n",
       "        -2.28326869e-04,  -1.49781758e-04,  -1.04740175e-04,\n",
       "        -2.23603276e-04,  -1.18949476e-04,  -1.45330660e-04,\n",
       "        -1.15625284e-04,  -4.10229747e-05,  -5.41230475e-05,\n",
       "        -5.75766089e-05,  -1.32932259e-04,  -1.25348702e-04,\n",
       "        -7.42460959e-05,  -3.76333268e-05,  -7.29874280e-06,\n",
       "        -1.46772796e-03,   1.05837538e-02])\n",
       "  message: 'CONVERGENCE: REL_REDUCTION_OF_F_<=_FACTR*EPSMCH'\n",
       "     nfev: 202\n",
       "      nit: 188\n",
       "   status: 0\n",
       "  success: True\n",
       "        x: array([ -3.30360916e+00,  -3.34025405e-01,  -9.42012137e-01,\n",
       "        -8.75497987e-01,  -7.46112162e-01,  -9.73324691e-01,\n",
       "        -3.89474353e-01,  -2.47875860e-01,  -2.89580970e-01,\n",
       "        -2.40856480e-01,  -2.43867851e-01,  -2.73048263e-01,\n",
       "        -2.42360900e-01,  -2.01523960e-01,  -2.01886061e-01,\n",
       "        -1.98744004e-01,  -2.06986736e-01,  -3.46271675e-01,\n",
       "        -2.64891306e-01,  -2.11470822e-01,  -1.93492648e-01,\n",
       "        -1.83937874e-01,  -1.37972930e-01,  -8.66517597e-02,\n",
       "        -1.23674850e-01,  -6.98240596e-02,  -1.14751185e-01,\n",
       "        -1.37107832e-01,  -3.67949691e-02,  -2.79030487e-02,\n",
       "        -1.13023823e-01,  -4.90033622e-02,  -8.66535562e-02,\n",
       "        -1.00910249e-01,  -9.59032806e-02,  -8.19153366e-02,\n",
       "        -9.24802967e-02,  -8.27802522e-02,  -9.59844740e-02,\n",
       "        -8.14930344e-02,  -7.93350593e-02,  -7.16174704e-02,\n",
       "        -8.94491727e-02,  -7.40210209e-02,  -7.46328327e-02,\n",
       "        -6.82233930e-02,  -7.59581967e-02,  -6.67621298e-02,\n",
       "        -5.86945955e-02,  -7.02368812e-02,  -7.45681334e-02,\n",
       "        -1.94062929e-02,  -3.77628486e-02,  -6.30194787e-02,\n",
       "        -4.09050022e-02,  -6.38677044e-02,  -6.41500016e-02,\n",
       "        -3.90747229e-02,  -6.86108308e-02,  -3.47193064e-02,\n",
       "        -6.01406766e-02,  -6.86637675e-02,  -3.25854071e-02,\n",
       "        -4.71573594e-02,  -4.05944571e-02,  -3.16109040e-02,\n",
       "        -3.06902393e-02,  -2.69300670e-02,  -2.32539172e-02,\n",
       "        -2.55384024e-02,  -1.52045370e-02,  -1.67870076e-02,\n",
       "        -2.87642522e-02,  -1.70017978e-02,  -3.04305568e-02,\n",
       "        -2.48406661e-02,  -2.65327832e-02,  -1.96994780e-02,\n",
       "        -1.16494015e-02,  -1.34368129e-02,  -1.43834017e-02,\n",
       "        -1.09891697e-02,  -1.28372492e-02,  -1.12543997e-02,\n",
       "        -1.05517204e-02,  -1.15062225e-02,  -1.85082455e-02,\n",
       "        -1.24301302e-02,  -4.53729991e-03,   2.87519759e-03,\n",
       "        -2.05058596e-02,  -6.52302913e-03,  -4.23737015e-03,\n",
       "        -5.65674794e-03,   6.47933734e+00,   7.01618449e+00,\n",
       "         5.16798308e+00,   1.70003376e+00,   1.61383731e+00,\n",
       "         5.21488322e+00,   1.98295174e+00,   1.49386348e+00,\n",
       "         2.99294994e+00,   1.90829227e+00,   1.75244482e+00,\n",
       "         1.72077850e+00,   1.21880596e+00,   8.93195804e-01,\n",
       "         9.48444441e-01,   9.96413749e-01,   1.03228040e+00,\n",
       "         2.12808678e+00,   1.15164023e+00,   7.90349658e-01,\n",
       "         1.04704037e+00,   7.64144605e-01,   8.73625980e-01,\n",
       "         6.80511093e-01,   5.84761598e-01,   5.30900560e-01,\n",
       "         4.99275544e-01,   4.82087434e-01,   4.58933276e-01,\n",
       "         4.47140990e-01,   6.73549190e-01,   5.34040910e-01,\n",
       "         6.41519967e-01,   5.78414667e-01,   4.12781385e-01,\n",
       "         3.42110881e-01,   3.92575691e-01,   3.22246926e-01,\n",
       "         4.24201496e-01,   3.27634463e-01,   3.23030620e-01,\n",
       "         2.77621872e-01,   4.53392118e-01,   3.17206243e-01,\n",
       "         3.19489781e-01,   2.45053796e-01,   2.36733839e-01,\n",
       "         2.28110282e-01,   2.19854915e-01,   1.85601645e-01,\n",
       "         1.89751539e-01,   1.69319900e-01,   1.44617210e-01,\n",
       "         1.73562597e-01,   1.47673162e-01,   1.48530513e-01,\n",
       "         1.61872257e-01,   1.30246975e-01,   1.15620055e-01,\n",
       "         1.39944976e-01,   1.47417042e-01,   1.43330899e-01,\n",
       "         9.43259194e-02,   1.04048231e-01,   1.01824131e-01,\n",
       "         8.72755724e-02,   7.18287077e-02,   6.97726120e-02,\n",
       "         6.42246663e-02,   5.42059371e-02,   4.63214638e-02,\n",
       "         3.57352365e-02,   4.83554175e-02,   6.98439061e-02,\n",
       "         5.14140533e-02,   2.87145175e-02,   2.76468433e-02,\n",
       "         2.14864793e-02,   2.76567660e-02,   2.36228312e-02,\n",
       "         1.54686905e-02,   1.20576428e-02,   1.51443844e-02,\n",
       "         1.21877004e-02,   1.20496626e-02,   1.55512112e-02,\n",
       "         1.37482959e-02,   5.77672805e-03,   4.97008289e-03,\n",
       "         5.19327119e-03,   2.18569234e-03,  -6.73240835e-04,\n",
       "        -1.16866621e-04,   1.21180405e-03,  -8.72549764e-02,\n",
       "        -2.33164974e-01,  -2.23545959e-01,  -8.90851926e-02,\n",
       "        -3.78842761e-02,   1.07959051e-01,   3.77516467e-01,\n",
       "         1.26096044e-01,   2.38792117e-01,  -2.65025106e-03,\n",
       "        -2.13272046e-01,  -7.95150388e-01,  -1.01799919e+00,\n",
       "        -8.11269168e-01,  -1.35352994e+00,  -1.58122384e+00,\n",
       "        -1.95385631e+00,  -3.96507457e+00,  -4.09319091e+00,\n",
       "        -1.84580164e+00,  -3.50767336e+00,  -1.89814641e+00,\n",
       "        -3.57606667e+00,  -1.46827782e+00,  -1.54210039e+00,\n",
       "        -1.73456068e+00,  -1.53706475e+00,  -1.45242232e+00,\n",
       "        -1.50037902e+00,  -1.30514414e+00,  -2.03693300e+00,\n",
       "        -8.73580965e-01,  -1.53820912e+00,  -8.21385349e-01,\n",
       "        -3.36594325e-01,  -3.00310455e-01,  -2.72377217e-01,\n",
       "        -1.71137919e-02,   2.02541603e-01,   2.16949350e-01,\n",
       "         4.77107604e-01,   3.41455976e-01,   9.61868018e-01,\n",
       "         6.23344149e-01,   1.07084780e+00,   4.73532846e-01,\n",
       "         8.63231783e-01,   8.25340620e-01,   7.67371463e-01,\n",
       "         4.97899874e-01,   7.28575598e-01,   4.65568038e-01,\n",
       "         4.53792094e-01,   7.25510508e-01,   3.34262365e-01,\n",
       "         4.94187756e-01,   4.61010615e-01,   2.10043140e-01,\n",
       "         2.16399489e-01,   3.25875810e-01,   1.87019959e-01,\n",
       "         1.10091410e-01,   3.73036875e-02,   7.26248570e-02,\n",
       "         8.73816471e-02,   1.09304962e-01,   1.08118681e-01,\n",
       "         1.52091287e-01,   1.36940646e-01,   1.42878111e-01,\n",
       "         9.51112379e-02,   9.35214548e-02,   1.40337956e-01,\n",
       "         9.42079772e-02,  -1.37729890e-01,  -1.30305915e-01,\n",
       "        -2.88256623e-01,  -2.03931371e-01,  -3.71852427e-01,\n",
       "        -3.30286450e-01,  -1.73691388e-01,  -1.10633366e-01,\n",
       "        -1.75191608e-01,  -5.08437962e-02,  -2.09253211e-02,\n",
       "         9.61460581e-02,   2.65838407e-01,   3.26005725e-01,\n",
       "         4.31166347e-01,   4.22736393e-01,   2.91823632e-01,\n",
       "         1.99729659e-01,   5.73166054e-02,   5.52138752e-02,\n",
       "         2.07604073e+00,   1.48314825e+00])"
      ]
     },
     "execution_count": 5,
     "metadata": {},
     "output_type": "execute_result"
    }
   ],
   "source": [
    "m.optimize(maxiter=5000)"
   ]
  },
  {
   "cell_type": "code",
   "execution_count": 6,
   "metadata": {
    "scrolled": true
   },
   "outputs": [
    {
     "name": "stdout",
     "output_type": "stream",
     "text": [
      "burn-in sampling started\n",
      "Iteration:  100 \t Acc Rate:  98.0 %\n",
      "Iteration:  200 \t Acc Rate:  100.0 %\n",
      "Iteration:  300 \t Acc Rate:  100.0 %\n",
      "Iteration:  400 \t Acc Rate:  100.0 %\n",
      "Iteration:  500 \t Acc Rate:  100.0 %\n",
      "Iteration:  600 \t Acc Rate:  100.0 %\n",
      "Iteration:  700 \t Acc Rate:  100.0 %\n",
      "Iteration:  800 \t Acc Rate:  100.0 %\n",
      "Iteration:  900 \t Acc Rate:  100.0 %\n",
      "Iteration:  1000 \t Acc Rate:  100.0 %\n",
      "burn-in sampling ended\n",
      "Iteration:  100 \t Acc Rate:  98.0 %\n",
      "Iteration:  200 \t Acc Rate:  100.0 %\n",
      "Iteration:  300 \t Acc Rate:  100.0 %\n",
      "Iteration:  400 \t Acc Rate:  100.0 %\n",
      "Iteration:  500 \t Acc Rate:  100.0 %\n",
      "Iteration:  600 \t Acc Rate:  100.0 %\n",
      "Iteration:  700 \t Acc Rate:  100.0 %\n",
      "Iteration:  800 \t Acc Rate:  100.0 %\n",
      "Iteration:  900 \t Acc Rate:  100.0 %\n",
      "Iteration:  1000 \t Acc Rate:  100.0 %\n",
      "Iteration:  1100 \t Acc Rate:  100.0 %\n",
      "Iteration:  1200 \t Acc Rate:  100.0 %\n",
      "Iteration:  1300 \t Acc Rate:  100.0 %\n",
      "Iteration:  1400 \t Acc Rate:  100.0 %\n",
      "Iteration:  1500 \t Acc Rate:  100.0 %\n",
      "Iteration:  1600 \t Acc Rate:  100.0 %\n",
      "Iteration:  1700 \t Acc Rate:  100.0 %\n",
      "Iteration:  1800 \t Acc Rate:  100.0 %\n",
      "Iteration:  1900 \t Acc Rate:  100.0 %\n",
      "Iteration:  2000 \t Acc Rate:  100.0 %\n"
     ]
    }
   ],
   "source": [
    "samples = m.sample(1000, verbose=True, epsilon=0.001, thin = 2, burn = 1000, Lmax = 40)"
   ]
  },
  {
   "cell_type": "code",
   "execution_count": 7,
   "metadata": {
    "collapsed": true
   },
   "outputs": [],
   "source": [
    "sample_df = m.get_samples_df(samples)"
   ]
  },
  {
   "cell_type": "code",
   "execution_count": 8,
   "metadata": {
    "collapsed": true
   },
   "outputs": [],
   "source": [
    "xnew = np.linspace(0, 60, 50)[:,None]\n",
    "xx = (xnew - Xm) / Xv"
   ]
  },
  {
   "cell_type": "code",
   "execution_count": 9,
   "metadata": {
    "collapsed": true
   },
   "outputs": [],
   "source": [
    "mean_f_mat = np.zeros(shape = (sample_df.shape[0], xx.shape[0]))\n",
    "mean_n_mat = np.zeros(shape = (sample_df.shape[0], xx.shape[0]))\n",
    "var_f_mat = np.zeros(shape = (sample_df.shape[0], xx.shape[0]))"
   ]
  },
  {
   "cell_type": "code",
   "execution_count": 10,
   "metadata": {
    "collapsed": true
   },
   "outputs": [],
   "source": [
    "for i, s in sample_df.iterrows():\n",
    "    m.set_parameter_dict(s)\n",
    "    mean_f, var_f = m.predict_f(xx)\n",
    "    mean_f_mat[i, :] = mean_f[:, 0]\n",
    "    var_f_mat[i, :] = np.diag(var_f)\n",
    "    mean_n, var_n = m.predict_n(xx)\n",
    "    mean_n_mat[i, :] = np.exp(mean_n[:, 0]) ** 2"
   ]
  },
  {
   "cell_type": "code",
   "execution_count": 11,
   "metadata": {
    "collapsed": true
   },
   "outputs": [],
   "source": [
    "std_f_mat = np.sqrt(var_f_mat)\n",
    "Lowerf = mean_f_mat - 2 * std_f_mat\n",
    "Upperf = mean_f_mat + 2 * std_f_mat"
   ]
  },
  {
   "cell_type": "code",
   "execution_count": 12,
   "metadata": {
    "collapsed": true
   },
   "outputs": [],
   "source": [
    "def visualize(Xgrid, Mgrid, Vargrid, noise_var):\n",
    "    \"\"\"\n",
    "    Visualize 1D utility funciton values\n",
    "    Xgrid : grid states\n",
    "    Mgrid : mean of GP at those finite grid points\n",
    "    Vargrid : variance of GP at those finite grid points\n",
    "    \"\"\"\n",
    "    Sd_noise = np.sqrt(noise_var) \n",
    "    Sd_epis = np.sqrt(Vargrid)\n",
    "    \n",
    "    lower = Mgrid - 2. * Sd_epis\n",
    "    upper = Mgrid + 2. * Sd_epis\n",
    "    \n",
    "    lower1 = lower - 2. * Sd_noise\n",
    "    upper1 = upper + 2. * Sd_noise\n",
    "    \n",
    "    plt.plot(X, Y, '.')\n",
    "    line, = plt.plot(Xgrid, Mgrid, lw = 2, color = 'b', label = 'utility', alpha = 0.5)\n",
    "    plt.fill_between(Xgrid[:,0], lower, upper,\n",
    "                     color = 'b', alpha = 0.05)\n",
    "    plt.fill_between(Xgrid[:,0], lower1, upper1,\n",
    "                    color = 'g', alpha = 0.25)\n",
    "    plt.xlabel('x')\n",
    "    plt.ylabel('y')\n",
    "    return"
   ]
  },
  {
   "cell_type": "code",
   "execution_count": 15,
   "metadata": {},
   "outputs": [
    {
     "data": {
      "image/png": "[encoded data removed]",
      "text/plain": [
       "<matplotlib.figure.Figure at 0x1823000550>"
      ]
     },
     "metadata": {},
     "output_type": "display_data"
    }
   ],
   "source": [
    "mini = 700\n",
    "maxi = 900\n",
    "plt.figure(figsize=(12, 8))\n",
    "\n",
    "for i in xrange(mini,maxi):\n",
    "    visualize(xnew, mean_f_mat[i,:], var_f_mat[i,:], noise_var=mean_n_mat[i,:])  \n",
    "#plt.plot(X_true, Y_true, 'k')"
   ]
  },
  {
   "cell_type": "code",
   "execution_count": null,
   "metadata": {
    "collapsed": true
   },
   "outputs": [],
   "source": []
  }
 ],
 "metadata": {
  "kernelspec": {
   "display_name": "Python [default]",
   "language": "python",
   "name": "python2"
  },
  "language_info": {
   "codemirror_mode": {
    "name": "ipython",
    "version": 2
   },
   "file_extension": ".py",
   "mimetype": "text/x-python",
   "name": "python",
   "nbconvert_exporter": "python",
   "pygments_lexer": "ipython2",
   "version": "2.7.14"
  }
 },
 "nbformat": 4,
 "nbformat_minor": 2
}
