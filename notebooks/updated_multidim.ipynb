{
 "cells": [
  {
   "cell_type": "code",
   "execution_count": 1,
   "metadata": {},
   "outputs": [
    {
     "ename": "RuntimeError",
     "evalue": "module compiled against API version 0xb but this version of numpy is 0xa",
     "output_type": "error",
     "traceback": [
      "\u001b[0;31m---------------------------------------------------------------------------\u001b[0m",
      "\u001b[0;31mRuntimeError\u001b[0m                              Traceback (most recent call last)",
      "\u001b[0;31mRuntimeError\u001b[0m: module compiled against API version 0xb but this version of numpy is 0xa"
     ]
    },
    {
     "ename": "RuntimeError",
     "evalue": "module compiled against API version 0xb but this version of numpy is 0xa",
     "output_type": "error",
     "traceback": [
      "\u001b[0;31m---------------------------------------------------------------------------\u001b[0m",
      "\u001b[0;31mRuntimeError\u001b[0m                              Traceback (most recent call last)",
      "\u001b[0;31mRuntimeError\u001b[0m: module compiled against API version 0xb but this version of numpy is 0xa"
     ]
    }
   ],
   "source": [
    "import gpflow\n",
    "import numpy as np\n",
    "import matplotlib.pyplot as plt\n",
    "%matplotlib inline\n",
    "import sys\n",
    "sys.path.append('../')\n",
    "from GPHetero import hetero_kernels, hetero_likelihoods, hetero_gpmc\n",
    "from pyDOE import *\n",
    "import os\n",
    "from scipy.stats import norm"
   ]
  },
  {
   "cell_type": "code",
   "execution_count": 2,
   "metadata": {},
   "outputs": [
    {
     "data": {
      "text/plain": [
       "(array([-1. , -0.5,  0. ,  0.5,  1. ,  1.5,  2. ]),\n",
       " <a list of 7 Text yticklabel objects>)"
      ]
     },
     "execution_count": 2,
     "metadata": {},
     "output_type": "execute_result"
    },
    {
     "data": {
      "image/png": "[encoded data removed]",
      "text/plain": [
       "<matplotlib.figure.Figure at 0x1042af490>"
      ]
     },
     "metadata": {},
     "output_type": "display_data"
    }
   ],
   "source": [
    "dim = 8\n",
    "n = 10\n",
    "noise=0\n",
    "sigma = eval('lambda x: ' + str(noise))\n",
    "\n",
    "X = np.load('../data/X_init_8d_40.npy')\n",
    "Xnorm = (X - 0.5) /0.5\n",
    "Y = np.load('../data/Y_init_8d_40.npy') [:, 1][:, None]\n",
    "fig, ax = plt.subplots()\n",
    "ax.plot(X[:, 7], Y, 'x', markeredgewidth=2, color='black')\n",
    "ax.set_xlabel('$x$', fontsize=16)\n",
    "ax.set_ylabel('$f(x)$', fontsize=16)\n",
    "plt.xticks(fontsize=16)\n",
    "plt.yticks(fontsize=16)"
   ]
  },
  {
   "cell_type": "code",
   "execution_count": 3,
   "metadata": {
    "collapsed": true
   },
   "outputs": [],
   "source": [
    "kerns_list = [gpflow.kernels.RBF(1), gpflow.kernels.RBF(1), gpflow.kernels.RBF(1),\n",
    "             gpflow.kernels.RBF(1), gpflow.kernels.RBF(1), gpflow.kernels.RBF(1),\n",
    "             gpflow.kernels.RBF(1), gpflow.kernels.RBF(1)]\n",
    "mean_funcs_list = [gpflow.mean_functions.Constant(-2), gpflow.mean_functions.Constant(-2),\n",
    "                  gpflow.mean_functions.Constant(-2), gpflow.mean_functions.Constant(-2),\n",
    "                  gpflow.mean_functions.Constant(-2), gpflow.mean_functions.Constant(-2),\n",
    "                  gpflow.mean_functions.Constant(-2), gpflow.mean_functions.Constant(-2)]\n",
    "nonstat = hetero_kernels.NonStationaryLengthscaleRBF()"
   ]
  },
  {
   "cell_type": "code",
   "execution_count": 4,
   "metadata": {},
   "outputs": [
    {
     "name": "stdout",
     "output_type": "stream",
     "text": [
      "[<gpflow.kernels.RBF object at 0x1a15372290>, <gpflow.kernels.RBF object at 0x1a15372350>, <gpflow.kernels.RBF object at 0x1a153724d0>, <gpflow.kernels.RBF object at 0x1a153725d0>, <gpflow.kernels.RBF object at 0x1a15372690>, <gpflow.kernels.RBF object at 0x1a15372750>, <gpflow.kernels.RBF object at 0x1a15372810>, <gpflow.kernels.RBF object at 0x1a153728d0>]\n",
      "\n",
      "\n",
      "[<gpflow.mean_functions.Constant object at 0x1a15372250>, <gpflow.mean_functions.Constant object at 0x1a15372a10>, <gpflow.mean_functions.Constant object at 0x1a15372a90>, <gpflow.mean_functions.Constant object at 0x1a15372b10>, <gpflow.mean_functions.Constant object at 0x1a15372b90>, <gpflow.mean_functions.Constant object at 0x1a15372c10>, <gpflow.mean_functions.Constant object at 0x1a15372c90>, <gpflow.mean_functions.Constant object at 0x1a15372d10>]\n"
     ]
    }
   ],
   "source": [
    "print kerns_list\n",
    "print '\\n'\n",
    "print mean_funcs_list"
   ]
  },
  {
   "cell_type": "code",
   "execution_count": 5,
   "metadata": {},
   "outputs": [],
   "source": [
    "m = hetero_gpmc.GPMCAdaptiveLengthscaleMultDimDev(Xnorm, Y, kerns_list, nonstat, mean_funcs_list)"
   ]
  },
  {
   "cell_type": "code",
   "execution_count": 6,
   "metadata": {
    "scrolled": false
   },
   "outputs": [
    {
     "data": {
      "text/html": [
       "<table id='params' width=100%><tr><td>Name</td><td>values</td><td>prior</td><td>constraint</td></tr><tr><td>adaptive_lengthscale_gp_multdim.V</td><td>[[ 0.  0.  0.  0.  0.  0.  0.  0.]</br> [ 0.  0.  0.  0.  0.  0.  0.  0.]</br> [ 0.  0.  0.  0.  0.  0.  0.  0.]</br> [ 0.  0.  0.  0.  0.  0.  0.  0.]</br> [ 0.  0.  0.  0.  0.  0.  0.  0.]</br> [ 0.  0.  0.  0.  0.  0.  0.  0.]</br> [ 0.  0.  0.  0.  0.  0.  0.  0.]</br> [ 0.  0.  0.  0.  0.  0.  0.  0.]</br> [ 0.  0.  0.  0.  0.  0.  0.  0.]</br> [ 0.  0.  0.  0.  0.  0.  0.  0.]</br> [ 0.  0.  0.  0.  0.  0.  0.  0.]</br> [ 0.  0.  0.  0.  0.  0.  0.  0.]</br> [ 0.  0.  0.  0.  0.  0.  0.  0.]</br> [ 0.  0.  0.  0.  0.  0.  0.  0.]</br> [ 0.  0.  0.  0.  0.  0.  0.  0.]</br> [ 0.  0.  0.  0.  0.  0.  0.  0.]</br> [ 0.  0.  0.  0.  0.  0.  0.  0.]</br> [ 0.  0.  0.  0.  0.  0.  0.  0.]</br> [ 0.  0.  0.  0.  0.  0.  0.  0.]</br> [ 0.  0.  0.  0.  0.  0.  0.  0.]</br> [ 0.  0.  0.  0.  0.  0.  0.  0.]</br> [ 0.  0.  0.  0.  0.  0.  0.  0.]</br> [ 0.  0.  0.  0.  0.  0.  0.  0.]</br> [ 0.  0.  0.  0.  0.  0.  0.  0.]</br> [ 0.  0.  0.  0.  0.  0.  0.  0.]</br> [ 0.  0.  0.  0.  0.  0.  0.  0.]</br> [ 0.  0.  0.  0.  0.  0.  0.  0.]</br> [ 0.  0.  0.  0.  0.  0.  0.  0.]</br> [ 0.  0.  0.  0.  0.  0.  0.  0.]</br> [ 0.  0.  0.  0.  0.  0.  0.  0.]</br> [ 0.  0.  0.  0.  0.  0.  0.  0.]</br> [ 0.  0.  0.  0.  0.  0.  0.  0.]</br> [ 0.  0.  0.  0.  0.  0.  0.  0.]</br> [ 0.  0.  0.  0.  0.  0.  0.  0.]</br> [ 0.  0.  0.  0.  0.  0.  0.  0.]</br> [ 0.  0.  0.  0.  0.  0.  0.  0.]</br> [ 0.  0.  0.  0.  0.  0.  0.  0.]</br> [ 0.  0.  0.  0.  0.  0.  0.  0.]</br> [ 0.  0.  0.  0.  0.  0.  0.  0.]</br> [ 0.  0.  0.  0.  0.  0.  0.  0.]]</td><td>N([ 0.],[ 1.])</td><td>(none)</td></tr><tr><td>adaptive_lengthscale_gp_multdim.V4</td><td>[[ 0.]</br> [ 0.]</br> [ 0.]</br> [ 0.]</br> [ 0.]</br> [ 0.]</br> [ 0.]</br> [ 0.]</br> [ 0.]</br> [ 0.]</br> [ 0.]</br> [ 0.]</br> [ 0.]</br> [ 0.]</br> [ 0.]</br> [ 0.]</br> [ 0.]</br> [ 0.]</br> [ 0.]</br> [ 0.]</br> [ 0.]</br> [ 0.]</br> [ 0.]</br> [ 0.]</br> [ 0.]</br> [ 0.]</br> [ 0.]</br> [ 0.]</br> [ 0.]</br> [ 0.]</br> [ 0.]</br> [ 0.]</br> [ 0.]</br> [ 0.]</br> [ 0.]</br> [ 0.]</br> [ 0.]</br> [ 0.]</br> [ 0.]</br> [ 0.]]</td><td>N([ 0.],[ 1.])</td><td>(none)</td></tr><tr><td>adaptive_lengthscale_gp_multdim.kerns_list.item0.lengthscales</td><td>[ 1.]</td><td>None</td><td>+ve</td></tr><tr><td>adaptive_lengthscale_gp_multdim.kerns_list.item0.variance</td><td>[ 1.]</td><td>None</td><td>+ve</td></tr><tr><td>adaptive_lengthscale_gp_multdim.kerns_list.item1.lengthscales</td><td>[ 1.]</td><td>None</td><td>+ve</td></tr><tr><td>adaptive_lengthscale_gp_multdim.kerns_list.item1.variance</td><td>[ 1.]</td><td>None</td><td>+ve</td></tr><tr><td>adaptive_lengthscale_gp_multdim.kerns_list.item2.lengthscales</td><td>[ 1.]</td><td>None</td><td>+ve</td></tr><tr><td>adaptive_lengthscale_gp_multdim.kerns_list.item2.variance</td><td>[ 1.]</td><td>None</td><td>+ve</td></tr><tr><td>adaptive_lengthscale_gp_multdim.kerns_list.item3.lengthscales</td><td>[ 1.]</td><td>None</td><td>+ve</td></tr><tr><td>adaptive_lengthscale_gp_multdim.kerns_list.item3.variance</td><td>[ 1.]</td><td>None</td><td>+ve</td></tr><tr><td>adaptive_lengthscale_gp_multdim.kerns_list.item4.lengthscales</td><td>[ 1.]</td><td>None</td><td>+ve</td></tr><tr><td>adaptive_lengthscale_gp_multdim.kerns_list.item4.variance</td><td>[ 1.]</td><td>None</td><td>+ve</td></tr><tr><td>adaptive_lengthscale_gp_multdim.kerns_list.item5.lengthscales</td><td>[ 1.]</td><td>None</td><td>+ve</td></tr><tr><td>adaptive_lengthscale_gp_multdim.kerns_list.item5.variance</td><td>[ 1.]</td><td>None</td><td>+ve</td></tr><tr><td>adaptive_lengthscale_gp_multdim.kerns_list.item6.lengthscales</td><td>[ 1.]</td><td>None</td><td>+ve</td></tr><tr><td>adaptive_lengthscale_gp_multdim.kerns_list.item6.variance</td><td>[ 1.]</td><td>None</td><td>+ve</td></tr><tr><td>adaptive_lengthscale_gp_multdim.kerns_list.item7.lengthscales</td><td>[ 1.]</td><td>None</td><td>+ve</td></tr><tr><td>adaptive_lengthscale_gp_multdim.kerns_list.item7.variance</td><td>[ 1.]</td><td>None</td><td>+ve</td></tr><tr><td>adaptive_lengthscale_gp_multdim.likelihood.variance</td><td>[ 1.]</td><td>None</td><td>+ve</td></tr><tr><td>adaptive_lengthscale_gp_multdim.mean_funcs_list.item0.c</td><td>[-2.]</td><td>None</td><td>(none)</td></tr><tr><td>adaptive_lengthscale_gp_multdim.mean_funcs_list.item1.c</td><td>[-2.]</td><td>None</td><td>(none)</td></tr><tr><td>adaptive_lengthscale_gp_multdim.mean_funcs_list.item2.c</td><td>[-2.]</td><td>None</td><td>(none)</td></tr><tr><td>adaptive_lengthscale_gp_multdim.mean_funcs_list.item3.c</td><td>[-2.]</td><td>None</td><td>(none)</td></tr><tr><td>adaptive_lengthscale_gp_multdim.mean_funcs_list.item4.c</td><td>[-2.]</td><td>None</td><td>(none)</td></tr><tr><td>adaptive_lengthscale_gp_multdim.mean_funcs_list.item5.c</td><td>[-2.]</td><td>None</td><td>(none)</td></tr><tr><td>adaptive_lengthscale_gp_multdim.mean_funcs_list.item6.c</td><td>[-2.]</td><td>None</td><td>(none)</td></tr><tr><td>adaptive_lengthscale_gp_multdim.mean_funcs_list.item7.c</td><td>[-2.]</td><td>None</td><td>(none)</td></tr><tr><td>adaptive_lengthscale_gp_multdim.nonstat.signal_variance</td><td>[ 1.]</td><td>None</td><td>+ve</td></tr></table>"
      ],
      "text/plain": [
       "<GPHetero.hetero_gpmc.GPMCAdaptiveLengthscaleMultDimDev at 0x1042af410>"
      ]
     },
     "execution_count": 6,
     "metadata": {},
     "output_type": "execute_result"
    }
   ],
   "source": [
    "m"
   ]
  },
  {
   "cell_type": "code",
   "execution_count": 7,
   "metadata": {
    "collapsed": true
   },
   "outputs": [],
   "source": [
    "for i in xrange(dim):\n",
    "    m.kerns_list[i].lengthscales.prior = gpflow.priors.Gamma(1., 1.)\n",
    "    m.kerns_list[i].variance.prior = gpflow.priors.Gamma(1., 1.)\n",
    "    #m.mean_funcs_list[i].c = -2.\n",
    "    #m.mean_funcs_list[i].c.fixed = True \n",
    "    \n",
    "m.nonstat.signal_variance.prior = gpflow.priors.Gamma(1., 2.)\n",
    "m.likelihood.variance = 1e-6\n",
    "m.likelihood.variance.fixed = True"
   ]
  },
  {
   "cell_type": "code",
   "execution_count": null,
   "metadata": {
    "collapsed": true
   },
   "outputs": [],
   "source": []
  },
  {
   "cell_type": "code",
   "execution_count": 8,
   "metadata": {},
   "outputs": [
    {
     "data": {
      "text/plain": [
       "      fun: array([ 118.07822817])\n",
       " hess_inv: <385x385 LbfgsInvHessProduct with dtype=float64>\n",
       "      jac: array([  3.06465258e-09,   1.06139929e-10,   5.98260267e-10,\n",
       "         5.26541115e-09,   1.19777307e-09,   4.90551521e-10,\n",
       "         1.32501957e-10,   1.39822179e-09,   5.95011206e-10,\n",
       "        -1.97733219e-12,   5.26019777e-10,   2.25360996e-09,\n",
       "         6.05741753e-10,   1.63667295e-11,  -5.70486668e-12,\n",
       "        -8.42957583e-11,  -1.47051363e-10,   1.92943129e-12,\n",
       "         1.11707604e-11,   5.10307784e-10,  -8.18847668e-11,\n",
       "        -1.16751685e-10,   4.59233818e-12,   5.10812070e-11,\n",
       "        -1.00831509e-09,   1.05953155e-11,   1.24464958e-10,\n",
       "        -7.59047897e-10,  -6.38780543e-10,  -9.35216449e-12,\n",
       "         1.72695940e-12,  -1.64858894e-11,  -5.40041208e-10,\n",
       "        -1.79726522e-12,  -5.46814123e-11,   3.37400328e-12,\n",
       "         1.93211343e-10,   9.39942765e-11,   3.33843438e-12,\n",
       "         4.20311309e-11,   6.71397972e-12,   2.09656437e-12,\n",
       "         3.87396562e-11,  -1.24177147e-10,   6.87327681e-11,\n",
       "        -4.51399623e-11,  -2.16262923e-12,  -1.00334150e-10,\n",
       "        -9.68473976e-11,   6.66941648e-12,  -1.66975807e-11,\n",
       "         2.41578545e-13,  -4.98747465e-11,   8.39914349e-13,\n",
       "         7.50511885e-13,  -1.35372067e-10,  -6.91834702e-12,\n",
       "        -2.38447938e-12,   5.74215749e-11,  -4.86916762e-12,\n",
       "        -4.38291834e-11,   3.41190547e-11,  -7.39924302e-13,\n",
       "        -1.07207061e-11,   1.68248853e-11,  -7.51267980e-13,\n",
       "        -1.19758544e-11,   1.10131585e-12,   1.27015092e-12,\n",
       "        -4.80599923e-12,   8.43251653e-13,  -1.77783078e-12,\n",
       "        -1.78253193e-11,  -1.08508811e-12,   1.99061830e-11,\n",
       "         7.18193367e-12,  -1.82722271e-12,   7.88845815e-12,\n",
       "        -7.77981215e-13,   4.37794288e-12,   5.23177735e-12,\n",
       "         2.60023919e-13,  -1.24576131e-11,   2.27339406e-12,\n",
       "        -3.90011495e-12,  -1.61175013e-11,   6.08020074e-13,\n",
       "         1.95696778e-12,  -8.71702150e-12,   2.24621632e-12,\n",
       "        -1.21427898e-11,  -6.96523442e-12,   2.89608217e-12,\n",
       "         3.23537258e-14,  -1.62310375e-13,   5.08273949e-13,\n",
       "         7.38399689e-12,  -2.14119362e-12,  -2.43255164e-11,\n",
       "         6.63750362e-12,   1.76619788e-12,   2.80059611e-12,\n",
       "        -8.56984144e-14,   2.26920257e-12,  -3.38978661e-12,\n",
       "        -7.85665979e-14,   1.04866797e-12,  -4.20472269e-12,\n",
       "         1.66955801e-12,  -7.12436821e-13,   3.09641175e-13,\n",
       "         1.02585855e-12,  -5.05279076e-12,  -2.95295283e-14,\n",
       "         2.33338218e-13,   1.76740268e-11,  -7.42135288e-14,\n",
       "        -5.67081785e-13,   7.26411674e-14,  -1.44071930e-12,\n",
       "         1.90711628e-12,  -1.45737697e-14,   1.24237818e-13,\n",
       "         4.64898447e-12,  -2.88124440e-12,   2.61506723e-12,\n",
       "        -7.64271732e-14,  -7.35256008e-13,   1.03165379e-12,\n",
       "         1.17217967e-13,   9.30882090e-14,   1.86054014e-12,\n",
       "        -1.16039656e-12,  -2.17649117e-12,   7.74758466e-14,\n",
       "        -5.55883456e-13,   8.51710136e-13,   3.23910875e-14,\n",
       "        -4.32081867e-13,  -1.24952430e-12,  -2.14240410e-13,\n",
       "        -7.34004778e-14,  -1.64184255e-13,  -9.55364790e-13,\n",
       "        -3.64940784e-13,   6.35828914e-14,   1.17094395e-13,\n",
       "        -3.21514760e-12,   3.49023185e-14,   2.07900849e-13,\n",
       "        -7.13762324e-14,  -1.93604247e-13,  -1.81581110e-12,\n",
       "        -7.53692660e-14,   5.83677133e-13,  -2.73333417e-12,\n",
       "         1.51389294e-12,   2.67749708e-13,  -6.97557362e-14,\n",
       "        -3.30361218e-13,   2.47879788e-12,   5.01477886e-13,\n",
       "         1.82376949e-13,   3.16561083e-12,  -2.53822502e-12,\n",
       "         3.04070497e-13,  -5.62055788e-14,   5.44937098e-13,\n",
       "        -2.05369801e-12,   9.38010520e-14,   4.93074106e-13,\n",
       "         1.17543769e-12,   4.82291730e-13,   6.00540266e-13,\n",
       "        -2.94798387e-14,   9.13148427e-13,  -1.62681006e-12,\n",
       "        -4.12327123e-14,   5.01756890e-13,   2.07214907e-12,\n",
       "        -9.31875272e-13,   2.00015558e-13,   3.23973355e-13,\n",
       "         1.05451246e-12,  -3.67920024e-13,   1.04327783e-13,\n",
       "         2.36257757e-13,   1.04027742e-12,  -5.23170881e-13,\n",
       "        -2.46550111e-13,   1.08051298e-13,   9.52059282e-13,\n",
       "        -1.73215655e-12,  -7.08989056e-14,  -1.20862666e-12,\n",
       "         4.22236256e-12,   1.04802953e-12,   1.69280189e-12,\n",
       "        -4.68833713e-14,  -3.78636562e-13,   6.42923389e-13,\n",
       "         1.68290625e-14,   1.55165015e-14,   1.95481454e-12,\n",
       "        -8.43965254e-13,   3.86767697e-13,  -5.60697631e-14,\n",
       "        -4.62905300e-13,  -1.53360687e-12,  -1.07423174e-13,\n",
       "         8.38583003e-13,   1.49047227e-12,  -8.29135486e-13,\n",
       "        -2.03414798e-13,   1.74865871e-14,   9.15173506e-13,\n",
       "         3.55358129e-13,   7.04195424e-14,   1.59941279e-12,\n",
       "        -1.87678233e-12,   4.19587899e-13,   3.41891605e-13,\n",
       "         3.01202487e-14,   8.23087661e-13,  -1.35587688e-12,\n",
       "         1.03987778e-13,  -5.18595884e-13,  -1.95520721e-12,\n",
       "        -4.54607162e-13,  -2.26296737e-14,  -4.31741263e-14,\n",
       "         4.12934091e-13,  -1.16518510e-13,  -3.64773494e-14,\n",
       "         2.92677902e-13,   2.46092956e-12,  -6.03879323e-13,\n",
       "         2.88463105e-13,  -2.49258506e-14,   4.96597858e-13,\n",
       "        -2.82965303e-13,   9.44910623e-14,  -4.42968672e-13,\n",
       "        -1.68107143e-12,   3.45678112e-13,  -8.41173661e-14,\n",
       "         3.99040600e-14,  -4.35051188e-13,   1.01804967e-12,\n",
       "        -1.43640112e-13,   2.08171738e-13,  -6.47382878e-13,\n",
       "        -7.47269626e-13,  -2.15364209e-13,   2.34436602e-14,\n",
       "        -9.68413715e-13,   1.18240386e-12,  -5.87925152e-14,\n",
       "        -4.31044881e-13,   2.52174557e-12,  -4.14591909e-13,\n",
       "         1.59799900e-13,  -2.51187388e-14,   2.48425999e-14,\n",
       "         2.24552835e-12,   7.67820647e-14,   6.05069384e-13,\n",
       "         4.44635878e-12,   9.89951022e-13,   3.55613785e-13,\n",
       "         7.09818505e-14,   1.87382489e-12,  -1.61258703e-19,\n",
       "         6.70062997e-21,   1.39079431e-18,  -2.88234220e-19,\n",
       "         5.29817165e-20,  -7.79701832e-19,   1.43569867e-18,\n",
       "        -5.04636935e-19,  -1.84845942e-19,  -2.62848444e-19,\n",
       "        -7.73790922e-19,  -2.98069847e-19,  -1.68858239e-18,\n",
       "        -7.32463247e-19,   6.34474512e-20,  -6.04669737e-19,\n",
       "        -4.41088704e-21,  -2.75078913e-19,   3.89486514e-20,\n",
       "        -1.16831020e-19,   2.72511175e-19,  -2.60815830e-20,\n",
       "         2.99764102e-19,  -2.62672456e-19,  -2.29876174e-19,\n",
       "        -1.23226214e-19,  -1.27192839e-18,   6.35079808e-20,\n",
       "        -1.14042743e-19,  -1.34582889e-19,  -2.48899216e-19,\n",
       "        -1.00255593e-18,   3.45307500e-19,  -4.01070036e-19,\n",
       "         6.30762829e-20,  -6.64047007e-20,  -4.13675359e-20,\n",
       "        -3.20754633e-20,   4.55385550e-19,  -8.00906636e-19,\n",
       "         1.14598708e-18,  -3.71120873e-18,   2.20742920e-18,\n",
       "        -6.83879481e-19,   2.18072792e-18,   1.19498450e-18,\n",
       "         1.25100777e-18,  -4.96073685e-18,   4.29168129e-03,\n",
       "        -5.82199414e-03,  -1.49177911e-03,  -5.68466784e-03,\n",
       "         5.13680593e-04,  -3.38926474e-03,   5.34863227e-04,\n",
       "        -5.46968514e-03,   5.19260982e-03,  -4.38207001e-04,\n",
       "        -5.45867773e-03,  -8.91282193e-03,   2.53061725e-01,\n",
       "        -5.60813005e-03,  -4.36771478e-04,  -8.90019621e-04,\n",
       "        -1.28380845e-03,  -6.17191304e-04,  -2.11378339e-04,\n",
       "        -8.75589908e-03,  -3.45367400e-04,   2.60784989e-03,\n",
       "        -8.78046076e-03,  -1.66691477e-02,   1.91570028e-03,\n",
       "         6.14959645e-03,  -1.47171071e-03,  -1.70739461e-02,\n",
       "        -5.12454439e-03,  -2.90216810e-04,   6.34002001e-03,\n",
       "        -1.17826738e-03,  -2.80146488e-03,  -1.57426671e-01,\n",
       "        -7.54712385e-03,   9.14467727e-04,   2.27675442e-03,\n",
       "         1.17160147e-03,  -4.23546958e-03,  -1.34636011e-02,\n",
       "        -2.28715816e-02,  -2.28715816e-02,  -2.28715816e-02,\n",
       "        -2.28715816e-02,  -2.28715816e-02,  -2.28715816e-02,\n",
       "        -2.28715816e-02,  -2.28715816e-02,  -2.28715816e-02,\n",
       "        -2.28715816e-02,  -2.28715816e-02,  -2.28715816e-02,\n",
       "        -2.28715816e-02,  -2.28715816e-02,  -2.28715816e-02,\n",
       "        -2.28715816e-02,  -7.34507245e-09,  -3.58450287e-10,\n",
       "        -2.05906426e-09,  -1.33285858e-08,  -2.99656104e-09,\n",
       "        -1.46473283e-09,  -2.69503831e-10,  -4.59226807e-09,\n",
       "        -1.05035615e-01])\n",
       "  message: 'CONVERGENCE: REL_REDUCTION_OF_F_<=_FACTR*EPSMCH'\n",
       "     nfev: 240\n",
       "      nit: 184\n",
       "   status: 0\n",
       "  success: True\n",
       "        x: array([  6.27778152e-09,   3.93041949e-10,   6.92414758e-10,\n",
       "         7.96074393e-09,   2.74485421e-09,   1.54678598e-09,\n",
       "         3.24167151e-10,   5.04471586e-09,   4.80830503e-09,\n",
       "        -1.09658671e-11,   2.14341976e-09,   1.18244491e-08,\n",
       "         1.39511352e-09,  -4.63741245e-10,  -8.90627348e-11,\n",
       "        -1.85034887e-10,  -9.42097259e-10,  -2.08519114e-11,\n",
       "        -2.68177785e-10,   9.50161084e-10,   1.04094186e-09,\n",
       "         3.64791085e-11,   6.16554237e-11,   1.41213409e-10,\n",
       "         6.34395366e-10,  -7.43253896e-12,  -1.18500212e-10,\n",
       "         1.33215886e-09,   5.68236752e-10,   9.52141431e-11,\n",
       "        -2.84254264e-12,  -1.11355372e-10,   7.72990669e-10,\n",
       "         1.02229290e-12,  -1.70442370e-11,  -2.62858495e-11,\n",
       "        -2.10157505e-11,   4.09853375e-11,   1.67037795e-12,\n",
       "        -1.07077585e-11,  -4.45236850e-11,  -3.30668181e-12,\n",
       "        -1.01148650e-11,   9.06275493e-11,  -8.15493074e-11,\n",
       "         1.18638658e-10,   1.05099480e-12,   3.13277036e-11,\n",
       "         4.39534029e-11,  -3.43171987e-12,   3.44235369e-12,\n",
       "         2.76503087e-11,   4.45637330e-11,   5.23144045e-12,\n",
       "        -3.44864750e-13,   1.46740954e-10,  -6.83299301e-12,\n",
       "         1.41973833e-13,   2.25265331e-11,  -1.18765638e-12,\n",
       "         3.39156941e-11,   1.06056646e-11,  -3.67732955e-15,\n",
       "         2.02667248e-11,   2.84610068e-11,  -9.26969491e-13,\n",
       "         2.42214767e-12,   3.74042591e-11,   9.13410082e-12,\n",
       "        -5.24534864e-12,   8.09372952e-13,  -1.03851234e-12,\n",
       "        -5.97865779e-12,  -3.47959615e-13,   7.96411375e-12,\n",
       "         4.57288188e-11,   1.27154046e-11,   9.27732393e-12,\n",
       "         4.97191449e-14,   1.21917345e-12,   1.03374284e-11,\n",
       "         5.48972653e-13,  -8.68286932e-12,   2.87305983e-11,\n",
       "        -4.37193898e-12,   3.68387344e-11,   9.40060918e-13,\n",
       "         2.32324868e-12,   3.41007486e-11,   1.21743617e-12,\n",
       "         3.73988165e-11,  -4.82683583e-13,   1.82217875e-12,\n",
       "         7.73348219e-15,   3.75510099e-13,   3.17654920e-13,\n",
       "         5.10449094e-11,   6.12239812e-12,   4.81037973e-11,\n",
       "         8.04717538e-11,   2.10240049e-11,   1.18420733e-11,\n",
       "         1.68395144e-12,   3.29763753e-11,  -4.07252964e-13,\n",
       "        -1.32403503e-14,   5.41213718e-13,  -1.31161674e-12,\n",
       "        -3.23195802e-13,  -5.46536367e-13,   2.07348730e-13,\n",
       "         5.87773680e-14,   1.46487533e-11,   4.53539176e-13,\n",
       "         2.36057500e-12,   4.31388933e-12,   3.21465005e-12,\n",
       "        -2.59125442e-13,  -8.03940236e-14,   2.30067432e-13,\n",
       "         1.39613341e-12,  -5.32745908e-15,   8.74670430e-14,\n",
       "         1.04926571e-11,   5.92682167e-12,   1.41101743e-12,\n",
       "        -7.73993009e-14,  -5.77868700e-13,   9.93213911e-13,\n",
       "         1.18622956e-13,   1.98415960e-12,  -4.82627697e-12,\n",
       "        -7.21430804e-13,   9.29963885e-12,   2.29634575e-14,\n",
       "        -3.85155770e-13,   6.41012365e-12,   2.22148017e-13,\n",
       "        -1.93573785e-13,   1.61860274e-11,  -1.19524671e-12,\n",
       "        -2.45652450e-13,  -6.37715394e-14,  -6.28217890e-13,\n",
       "         8.63192723e-12,   3.40543003e-14,   8.58548131e-14,\n",
       "        -2.40229948e-12,   2.08381802e-13,  -1.43982985e-14,\n",
       "        -6.25599615e-14,  -3.21532668e-13,  -5.03682635e-13,\n",
       "        -8.27456965e-15,   3.48019895e-13,   1.55189563e-11,\n",
       "         8.33357801e-13,   1.37445599e-13,  -1.41809840e-14,\n",
       "        -1.00473053e-12,   3.71424807e-12,   5.05811112e-13,\n",
       "        -5.04974637e-13,   4.62559014e-12,  -1.51724966e-12,\n",
       "         3.44259419e-13,  -4.54242830e-14,   1.03662557e-11,\n",
       "         7.28459258e-12,   5.99123902e-14,   1.71517117e-12,\n",
       "         1.11724247e-12,   3.79404152e-13,   3.47678368e-12,\n",
       "        -5.23836720e-15,   7.56933984e-13,  -3.99565636e-13,\n",
       "         2.80338789e-14,   2.22134492e-13,   5.82082401e-12,\n",
       "        -1.09982921e-12,   6.92030388e-13,   8.00476855e-13,\n",
       "         1.12482170e-12,   5.80243357e-12,   4.06830827e-14,\n",
       "        -4.45784527e-13,   6.81241672e-12,  -3.93252037e-13,\n",
       "        -9.17683993e-14,  -6.01879513e-15,   3.46612382e-12,\n",
       "         6.09060765e-12,  -3.99977639e-14,   2.16119308e-12,\n",
       "         3.65429516e-12,   1.22429062e-12,   1.37485440e-12,\n",
       "         1.80211613e-13,  -3.04719954e-13,  -1.10678629e-12,\n",
       "         3.57229036e-13,   1.43629315e-13,  -1.80938756e-12,\n",
       "         3.00133199e-12,   2.98004569e-13,   1.73829734e-13,\n",
       "        -3.47876707e-13,  -1.47383022e-12,  -1.05189531e-13,\n",
       "         6.86118799e-13,  -1.38772106e-12,   2.90921057e-12,\n",
       "        -1.05648266e-13,  -4.26419016e-14,   9.08179431e-13,\n",
       "         5.00282240e-13,   3.90772938e-14,  -4.01885188e-13,\n",
       "        -2.44374341e-12,   2.53191675e-13,   2.30311960e-13,\n",
       "         1.76277625e-14,   6.68359988e-13,  -7.97040663e-13,\n",
       "        -1.34219429e-14,  -3.65130358e-13,   1.12888942e-11,\n",
       "        -1.73219512e-13,   1.26575118e-13,   1.53641305e-13,\n",
       "         6.37877061e-13,   4.16517158e-12,   1.35135197e-14,\n",
       "         2.18257871e-13,   9.86373947e-13,  -6.03959977e-13,\n",
       "         1.58403095e-13,   1.33471402e-13,   5.99574029e-13,\n",
       "        -1.15619446e-12,   5.30678272e-14,  -1.49599715e-13,\n",
       "        -1.88435550e-12,   1.41538507e-12,   1.23706034e-12,\n",
       "         2.52507578e-14,  -3.05128366e-13,   2.94015720e-12,\n",
       "         4.47793723e-13,   2.00058145e-13,   9.09857358e-12,\n",
       "         2.52952259e-12,   1.76893710e-15,  -2.10206304e-14,\n",
       "        -1.26552916e-12,  -5.57692967e-13,   3.37341937e-13,\n",
       "        -2.73896847e-13,   3.14087634e-12,   2.11640018e-12,\n",
       "         1.51213178e-13,  -2.35761190e-15,  -1.39346829e-12,\n",
       "         4.17450502e-11,   2.09669285e-12,   1.20511616e-11,\n",
       "         7.63947587e-11,   1.71571909e-11,   8.57031485e-12,\n",
       "         1.22272754e-12,   3.06368163e-11,  -1.92849779e-19,\n",
       "         1.31776419e-20,   1.30474456e-18,  -2.77431213e-19,\n",
       "         1.12245201e-19,  -7.76086671e-19,   1.27202411e-18,\n",
       "        -4.84954229e-19,  -3.61947487e-19,  -5.08653091e-19,\n",
       "        -1.43518588e-18,  -6.56156525e-19,  -3.37168755e-18,\n",
       "        -1.48066305e-18,  -4.21241961e-20,  -9.18726282e-19,\n",
       "        -1.00511819e-20,  -2.70978415e-19,  -2.46985516e-19,\n",
       "        -3.44094355e-19,   1.76363702e-19,  -1.54023740e-19,\n",
       "         3.26372160e-19,  -7.21139985e-19,  -4.35924439e-19,\n",
       "        -2.69577328e-19,  -2.58158921e-18,   5.80023382e-20,\n",
       "        -3.93938859e-19,  -2.90763267e-19,  -5.10145293e-19,\n",
       "        -2.06567575e-18,   3.88866894e-19,  -4.01070036e-19,\n",
       "         6.30762829e-20,  -1.06797534e-19,   1.87934900e-20,\n",
       "        -3.20754633e-20,   5.02030827e-19,  -8.00906636e-19,\n",
       "         1.14598708e-18,  -3.71120873e-18,   2.20742920e-18,\n",
       "        -6.83879481e-19,   2.82953578e-18,   1.19498450e-18,\n",
       "         1.57296178e-18,  -4.96073685e-18,  -2.32604386e-01,\n",
       "         3.15527430e-01,   8.25031804e-02,   3.16367157e-01,\n",
       "        -1.91037898e-02,   1.85579673e-01,  -2.89705824e-02,\n",
       "         2.97053436e-01,  -2.88656165e-01,   2.46669814e-02,\n",
       "         1.30787484e-01,   4.87566505e-01,   2.26201539e-01,\n",
       "         2.96843504e-01,   2.30924932e-02,   4.91240311e-02,\n",
       "         6.85427185e-02,   3.45337740e-02,   1.11263831e-02,\n",
       "         4.76755019e-01,   1.92087557e-02,  -1.46322434e-01,\n",
       "         4.22067797e-01,   9.08059814e-01,  -1.03811254e-01,\n",
       "        -3.55414464e-01,   8.18733851e-02,   9.45007803e-01,\n",
       "         2.95583913e-01,   1.62697111e-02,  -3.40404343e-01,\n",
       "         6.08802094e-02,   1.48421752e-01,   1.27533496e-01,\n",
       "         4.20598275e-01,  -5.04885875e-02,  -1.28688167e-01,\n",
       "        -6.48689128e-02,   2.36068260e-01,   7.18281505e-01,\n",
       "        -4.57511420e-02,  -4.57511420e-02,  -4.57511420e-02,\n",
       "        -4.57511420e-02,  -4.57511420e-02,  -4.57511420e-02,\n",
       "        -4.57511420e-02,  -4.57511420e-02,  -4.57511420e-02,\n",
       "        -4.57511420e-02,  -4.57511420e-02,  -4.57511420e-02,\n",
       "        -4.57511420e-02,  -4.57511420e-02,  -4.57511420e-02,\n",
       "        -4.57511420e-02,  -1.99999999e+00,  -2.00000000e+00,\n",
       "        -2.00000000e+00,  -1.99999998e+00,  -1.99999999e+00,\n",
       "        -2.00000000e+00,  -2.00000000e+00,  -1.99999999e+00,\n",
       "         3.60351018e+00])"
      ]
     },
     "execution_count": 8,
     "metadata": {},
     "output_type": "execute_result"
    }
   ],
   "source": [
    "m.optimize(maxiter=500) # start near MAP"
   ]
  },
  {
   "cell_type": "code",
   "execution_count": 9,
   "metadata": {
    "scrolled": false
   },
   "outputs": [
    {
     "data": {
      "text/html": [
       "<table id='params' width=100%><tr><td>Name</td><td>values</td><td>prior</td><td>constraint</td></tr><tr><td>adaptive_lengthscale_gp_multdim.V</td><td>[[  6.27778152e-09   3.93041949e-10   6.92414758e-10   7.96074393e-09</br>    2.74485421e-09   1.54678598e-09   3.24167151e-10   5.04471586e-09]</br> [  4.80830503e-09  -1.09658671e-11   2.14341976e-09   1.18244491e-08</br>    1.39511352e-09  -4.63741245e-10  -8.90627348e-11  -1.85034887e-10]</br> [ -9.42097259e-10  -2.08519114e-11  -2.68177785e-10   9.50161084e-10</br>    1.04094186e-09   3.64791085e-11   6.16554237e-11   1.41213409e-10]</br> [  6.34395366e-10  -7.43253896e-12  -1.18500212e-10   1.33215886e-09</br>    5.68236752e-10   9.52141431e-11  -2.84254264e-12  -1.11355372e-10]</br> [  7.72990669e-10   1.02229290e-12  -1.70442370e-11  -2.62858495e-11</br>   -2.10157505e-11   4.09853375e-11   1.67037795e-12  -1.07077585e-11]</br> [ -4.45236850e-11  -3.30668181e-12  -1.01148650e-11   9.06275493e-11</br>   -8.15493074e-11   1.18638658e-10   1.05099480e-12   3.13277036e-11]</br> [  4.39534029e-11  -3.43171987e-12   3.44235369e-12   2.76503087e-11</br>    4.45637330e-11   5.23144045e-12  -3.44864750e-13   1.46740954e-10]</br> [ -6.83299301e-12   1.41973833e-13   2.25265331e-11  -1.18765638e-12</br>    3.39156941e-11   1.06056646e-11  -3.67732955e-15   2.02667248e-11]</br> [  2.84610068e-11  -9.26969491e-13   2.42214767e-12   3.74042591e-11</br>    9.13410082e-12  -5.24534864e-12   8.09372952e-13  -1.03851234e-12]</br> [ -5.97865779e-12  -3.47959615e-13   7.96411375e-12   4.57288188e-11</br>    1.27154046e-11   9.27732393e-12   4.97191449e-14   1.21917345e-12]</br> [  1.03374284e-11   5.48972653e-13  -8.68286932e-12   2.87305983e-11</br>   -4.37193898e-12   3.68387344e-11   9.40060918e-13   2.32324868e-12]</br> [  3.41007486e-11   1.21743617e-12   3.73988165e-11  -4.82683583e-13</br>    1.82217875e-12   7.73348219e-15   3.75510099e-13   3.17654920e-13]</br> [  5.10449094e-11   6.12239812e-12   4.81037973e-11   8.04717538e-11</br>    2.10240049e-11   1.18420733e-11   1.68395144e-12   3.29763753e-11]</br> [ -4.07252964e-13  -1.32403503e-14   5.41213718e-13  -1.31161674e-12</br>   -3.23195802e-13  -5.46536367e-13   2.07348730e-13   5.87773680e-14]</br> [  1.46487533e-11   4.53539176e-13   2.36057500e-12   4.31388933e-12</br>    3.21465005e-12  -2.59125442e-13  -8.03940236e-14   2.30067432e-13]</br> [  1.39613341e-12  -5.32745908e-15   8.74670430e-14   1.04926571e-11</br>    5.92682167e-12   1.41101743e-12  -7.73993009e-14  -5.77868700e-13]</br> [  9.93213911e-13   1.18622956e-13   1.98415960e-12  -4.82627697e-12</br>   -7.21430804e-13   9.29963885e-12   2.29634575e-14  -3.85155770e-13]</br> [  6.41012365e-12   2.22148017e-13  -1.93573785e-13   1.61860274e-11</br>   -1.19524671e-12  -2.45652450e-13  -6.37715394e-14  -6.28217890e-13]</br> [  8.63192723e-12   3.40543003e-14   8.58548131e-14  -2.40229948e-12</br>    2.08381802e-13  -1.43982985e-14  -6.25599615e-14  -3.21532668e-13]</br> [ -5.03682635e-13  -8.27456965e-15   3.48019895e-13   1.55189563e-11</br>    8.33357801e-13   1.37445599e-13  -1.41809840e-14  -1.00473053e-12]</br> [  3.71424807e-12   5.05811112e-13  -5.04974637e-13   4.62559014e-12</br>   -1.51724966e-12   3.44259419e-13  -4.54242830e-14   1.03662557e-11]</br> [  7.28459258e-12   5.99123902e-14   1.71517117e-12   1.11724247e-12</br>    3.79404152e-13   3.47678368e-12  -5.23836720e-15   7.56933984e-13]</br> [ -3.99565636e-13   2.80338789e-14   2.22134492e-13   5.82082401e-12</br>   -1.09982921e-12   6.92030388e-13   8.00476855e-13   1.12482170e-12]</br> [  5.80243357e-12   4.06830827e-14  -4.45784527e-13   6.81241672e-12</br>   -3.93252037e-13  -9.17683993e-14  -6.01879513e-15   3.46612382e-12]</br> [  6.09060765e-12  -3.99977639e-14   2.16119308e-12   3.65429516e-12</br>    1.22429062e-12   1.37485440e-12   1.80211613e-13  -3.04719954e-13]</br> [ -1.10678629e-12   3.57229036e-13   1.43629315e-13  -1.80938756e-12</br>    3.00133199e-12   2.98004569e-13   1.73829734e-13  -3.47876707e-13]</br> [ -1.47383022e-12  -1.05189531e-13   6.86118799e-13  -1.38772106e-12</br>    2.90921057e-12  -1.05648266e-13  -4.26419016e-14   9.08179431e-13]</br> [  5.00282240e-13   3.90772938e-14  -4.01885188e-13  -2.44374341e-12</br>    2.53191675e-13   2.30311960e-13   1.76277625e-14   6.68359988e-13]</br> [ -7.97040663e-13  -1.34219429e-14  -3.65130358e-13   1.12888942e-11</br>   -1.73219512e-13   1.26575118e-13   1.53641305e-13   6.37877061e-13]</br> [  4.16517158e-12   1.35135197e-14   2.18257871e-13   9.86373947e-13</br>   -6.03959977e-13   1.58403095e-13   1.33471402e-13   5.99574029e-13]</br> [ -1.15619446e-12   5.30678272e-14  -1.49599715e-13  -1.88435550e-12</br>    1.41538507e-12   1.23706034e-12   2.52507578e-14  -3.05128366e-13]</br> [  2.94015720e-12   4.47793723e-13   2.00058145e-13   9.09857358e-12</br>    2.52952259e-12   1.76893710e-15  -2.10206304e-14  -1.26552916e-12]</br> [ -5.57692967e-13   3.37341937e-13  -2.73896847e-13   3.14087634e-12</br>    2.11640018e-12   1.51213178e-13  -2.35761190e-15  -1.39346829e-12]</br> [  4.17450502e-11   2.09669285e-12   1.20511616e-11   7.63947587e-11</br>    1.71571909e-11   8.57031485e-12   1.22272754e-12   3.06368163e-11]</br> [ -1.92849779e-19   1.31776419e-20   1.30474456e-18  -2.77431213e-19</br>    1.12245201e-19  -7.76086671e-19   1.27202411e-18  -4.84954229e-19]</br> [ -3.61947487e-19  -5.08653091e-19  -1.43518588e-18  -6.56156525e-19</br>   -3.37168755e-18  -1.48066305e-18  -4.21241961e-20  -9.18726282e-19]</br> [ -1.00511819e-20  -2.70978415e-19  -2.46985516e-19  -3.44094355e-19</br>    1.76363702e-19  -1.54023740e-19   3.26372160e-19  -7.21139985e-19]</br> [ -4.35924439e-19  -2.69577328e-19  -2.58158921e-18   5.80023382e-20</br>   -3.93938859e-19  -2.90763267e-19  -5.10145293e-19  -2.06567575e-18]</br> [  3.88866894e-19  -4.01070036e-19   6.30762829e-20  -1.06797534e-19</br>    1.87934900e-20  -3.20754633e-20   5.02030827e-19  -8.00906636e-19]</br> [  1.14598708e-18  -3.71120873e-18   2.20742920e-18  -6.83879481e-19</br>    2.82953578e-18   1.19498450e-18   1.57296178e-18  -4.96073685e-18]]</td><td>N([ 0.],[ 1.])</td><td>(none)</td></tr><tr><td>adaptive_lengthscale_gp_multdim.V4</td><td>[[-0.23260439]</br> [ 0.31552743]</br> [ 0.08250318]</br> [ 0.31636716]</br> [-0.01910379]</br> [ 0.18557967]</br> [-0.02897058]</br> [ 0.29705344]</br> [-0.28865617]</br> [ 0.02466698]</br> [ 0.13078748]</br> [ 0.4875665 ]</br> [ 0.22620154]</br> [ 0.2968435 ]</br> [ 0.02309249]</br> [ 0.04912403]</br> [ 0.06854272]</br> [ 0.03453377]</br> [ 0.01112638]</br> [ 0.47675502]</br> [ 0.01920876]</br> [-0.14632243]</br> [ 0.4220678 ]</br> [ 0.90805981]</br> [-0.10381125]</br> [-0.35541446]</br> [ 0.08187339]</br> [ 0.9450078 ]</br> [ 0.29558391]</br> [ 0.01626971]</br> [-0.34040434]</br> [ 0.06088021]</br> [ 0.14842175]</br> [ 0.1275335 ]</br> [ 0.42059827]</br> [-0.05048859]</br> [-0.12868817]</br> [-0.06486891]</br> [ 0.23606826]</br> [ 0.71828151]]</td><td>N([ 0.],[ 1.])</td><td>(none)</td></tr><tr><td>adaptive_lengthscale_gp_multdim.kerns_list.item0.lengthscales</td><td>[ 0.67053423]</td><td>Ga([ 1.],[ 1.])</td><td>+ve</td></tr><tr><td>adaptive_lengthscale_gp_multdim.kerns_list.item0.variance</td><td>[ 0.67053423]</td><td>Ga([ 1.],[ 1.])</td><td>+ve</td></tr><tr><td>adaptive_lengthscale_gp_multdim.kerns_list.item1.lengthscales</td><td>[ 0.67053423]</td><td>Ga([ 1.],[ 1.])</td><td>+ve</td></tr><tr><td>adaptive_lengthscale_gp_multdim.kerns_list.item1.variance</td><td>[ 0.67053423]</td><td>Ga([ 1.],[ 1.])</td><td>+ve</td></tr><tr><td>adaptive_lengthscale_gp_multdim.kerns_list.item2.lengthscales</td><td>[ 0.67053423]</td><td>Ga([ 1.],[ 1.])</td><td>+ve</td></tr><tr><td>adaptive_lengthscale_gp_multdim.kerns_list.item2.variance</td><td>[ 0.67053423]</td><td>Ga([ 1.],[ 1.])</td><td>+ve</td></tr><tr><td>adaptive_lengthscale_gp_multdim.kerns_list.item3.lengthscales</td><td>[ 0.67053423]</td><td>Ga([ 1.],[ 1.])</td><td>+ve</td></tr><tr><td>adaptive_lengthscale_gp_multdim.kerns_list.item3.variance</td><td>[ 0.67053423]</td><td>Ga([ 1.],[ 1.])</td><td>+ve</td></tr><tr><td>adaptive_lengthscale_gp_multdim.kerns_list.item4.lengthscales</td><td>[ 0.67053423]</td><td>Ga([ 1.],[ 1.])</td><td>+ve</td></tr><tr><td>adaptive_lengthscale_gp_multdim.kerns_list.item4.variance</td><td>[ 0.67053423]</td><td>Ga([ 1.],[ 1.])</td><td>+ve</td></tr><tr><td>adaptive_lengthscale_gp_multdim.kerns_list.item5.lengthscales</td><td>[ 0.67053423]</td><td>Ga([ 1.],[ 1.])</td><td>+ve</td></tr><tr><td>adaptive_lengthscale_gp_multdim.kerns_list.item5.variance</td><td>[ 0.67053423]</td><td>Ga([ 1.],[ 1.])</td><td>+ve</td></tr><tr><td>adaptive_lengthscale_gp_multdim.kerns_list.item6.lengthscales</td><td>[ 0.67053423]</td><td>Ga([ 1.],[ 1.])</td><td>+ve</td></tr><tr><td>adaptive_lengthscale_gp_multdim.kerns_list.item6.variance</td><td>[ 0.67053423]</td><td>Ga([ 1.],[ 1.])</td><td>+ve</td></tr><tr><td>adaptive_lengthscale_gp_multdim.kerns_list.item7.lengthscales</td><td>[ 0.67053423]</td><td>Ga([ 1.],[ 1.])</td><td>+ve</td></tr><tr><td>adaptive_lengthscale_gp_multdim.kerns_list.item7.variance</td><td>[ 0.67053423]</td><td>Ga([ 1.],[ 1.])</td><td>+ve</td></tr><tr><td>adaptive_lengthscale_gp_multdim.likelihood.variance</td><td>[  1.00000000e-06]</td><td>None</td><td>[FIXED]</td></tr><tr><td>adaptive_lengthscale_gp_multdim.mean_funcs_list.item0.c</td><td>[-1.99999999]</td><td>None</td><td>(none)</td></tr><tr><td>adaptive_lengthscale_gp_multdim.mean_funcs_list.item1.c</td><td>[-2.]</td><td>None</td><td>(none)</td></tr><tr><td>adaptive_lengthscale_gp_multdim.mean_funcs_list.item2.c</td><td>[-2.]</td><td>None</td><td>(none)</td></tr><tr><td>adaptive_lengthscale_gp_multdim.mean_funcs_list.item3.c</td><td>[-1.99999998]</td><td>None</td><td>(none)</td></tr><tr><td>adaptive_lengthscale_gp_multdim.mean_funcs_list.item4.c</td><td>[-1.99999999]</td><td>None</td><td>(none)</td></tr><tr><td>adaptive_lengthscale_gp_multdim.mean_funcs_list.item5.c</td><td>[-2.]</td><td>None</td><td>(none)</td></tr><tr><td>adaptive_lengthscale_gp_multdim.mean_funcs_list.item6.c</td><td>[-2.]</td><td>None</td><td>(none)</td></tr><tr><td>adaptive_lengthscale_gp_multdim.mean_funcs_list.item7.c</td><td>[-1.99999999]</td><td>None</td><td>(none)</td></tr><tr><td>adaptive_lengthscale_gp_multdim.nonstat.signal_variance</td><td>[ 3.63037507]</td><td>Ga([ 1.],[ 2.])</td><td>+ve</td></tr></table>"
      ],
      "text/plain": [
       "<GPHetero.hetero_gpmc.GPMCAdaptiveLengthscaleMultDimDev at 0x1042af410>"
      ]
     },
     "execution_count": 9,
     "metadata": {},
     "output_type": "execute_result"
    }
   ],
   "source": [
    "m"
   ]
  },
  {
   "cell_type": "code",
   "execution_count": 10,
   "metadata": {
    "collapsed": true
   },
   "outputs": [],
   "source": [
    "mcmc_samples = 1000\n",
    "num_samp_gp = 1"
   ]
  },
  {
   "cell_type": "code",
   "execution_count": 11,
   "metadata": {},
   "outputs": [
    {
     "name": "stdout",
     "output_type": "stream",
     "text": [
      "burn-in sampling started\n",
      "Iteration:  100 \t Acc Rate:  98.0 %\n",
      "Iteration:  200 \t Acc Rate:  100.0 %\n",
      "Iteration:  300 \t Acc Rate:  99.0 %\n",
      "Iteration:  400 \t Acc Rate:  100.0 %\n",
      "Iteration:  500 \t Acc Rate:  100.0 %\n",
      "burn-in sampling ended\n",
      "Iteration:  100 \t Acc Rate:  97.0 %\n",
      "Iteration:  200 \t Acc Rate:  100.0 %\n",
      "Iteration:  300 \t Acc Rate:  100.0 %\n",
      "Iteration:  400 \t Acc Rate:  99.0 %\n",
      "Iteration:  500 \t Acc Rate:  100.0 %\n",
      "Iteration:  600 \t Acc Rate:  100.0 %\n",
      "Iteration:  700 \t Acc Rate:  100.0 %\n",
      "Iteration:  800 \t Acc Rate:  100.0 %\n",
      "Iteration:  900 \t Acc Rate:  99.0 %\n",
      "Iteration:  1000 \t Acc Rate:  99.0 %\n",
      "Iteration:  1100 \t Acc Rate:  100.0 %\n",
      "Iteration:  1200 \t Acc Rate:  99.0 %\n",
      "Iteration:  1300 \t Acc Rate:  99.0 %\n",
      "Iteration:  1400 \t Acc Rate:  99.0 %\n",
      "Iteration:  1500 \t Acc Rate:  98.0 %\n",
      "Iteration:  1600 \t Acc Rate:  99.0 %\n",
      "Iteration:  1700 \t Acc Rate:  100.0 %\n",
      "Iteration:  1800 \t Acc Rate:  100.0 %\n",
      "Iteration:  1900 \t Acc Rate:  99.0 %\n",
      "Iteration:  2000 \t Acc Rate:  98.0 %\n"
     ]
    }
   ],
   "source": [
    "samples = m.sample(mcmc_samples, verbose=True, epsilon=0.00005, thin = 2, burn = 500, Lmax = 20)"
   ]
  },
  {
   "cell_type": "code",
   "execution_count": 12,
   "metadata": {
    "collapsed": true
   },
   "outputs": [],
   "source": [
    "kernel0_samples = m.kerns_list[0].get_samples_df(samples)\n",
    "kernel1_samples = m.kerns_list[1].get_samples_df(samples)\n",
    "kernel2_samples = m.kerns_list[2].get_samples_df(samples)\n",
    "kernel3_samples = m.kerns_list[3].get_samples_df(samples)\n",
    "kernel4_samples = m.kerns_list[4].get_samples_df(samples)\n",
    "kernel5_samples = m.kerns_list[5].get_samples_df(samples)\n",
    "kernel6_samples = m.kerns_list[6].get_samples_df(samples)\n",
    "kernel7_samples = m.kerns_list[7].get_samples_df(samples)"
   ]
  },
  {
   "cell_type": "code",
   "execution_count": 13,
   "metadata": {},
   "outputs": [
    {
     "data": {
      "text/plain": [
       "adaptive_lengthscale_gp_multdim.kerns_list.item0.lengthscales    0.664091\n",
       "adaptive_lengthscale_gp_multdim.kerns_list.item0.variance        0.668783\n",
       "dtype: float64"
      ]
     },
     "execution_count": 13,
     "metadata": {},
     "output_type": "execute_result"
    }
   ],
   "source": [
    "kernel0_samples.mean()"
   ]
  },
  {
   "cell_type": "code",
   "execution_count": 14,
   "metadata": {},
   "outputs": [
    {
     "data": {
      "text/plain": [
       "adaptive_lengthscale_gp_multdim.kerns_list.item0.lengthscales    0.005376\n",
       "adaptive_lengthscale_gp_multdim.kerns_list.item0.variance        0.007352\n",
       "dtype: float64"
      ]
     },
     "execution_count": 14,
     "metadata": {},
     "output_type": "execute_result"
    }
   ],
   "source": [
    "kernel0_samples.std()"
   ]
  },
  {
   "cell_type": "code",
   "execution_count": 15,
   "metadata": {},
   "outputs": [
    {
     "data": {
      "text/plain": [
       "adaptive_lengthscale_gp_multdim.kerns_list.item1.lengthscales    0.671758\n",
       "adaptive_lengthscale_gp_multdim.kerns_list.item1.variance        0.661860\n",
       "dtype: float64"
      ]
     },
     "execution_count": 15,
     "metadata": {},
     "output_type": "execute_result"
    }
   ],
   "source": [
    "kernel1_samples.mean()"
   ]
  },
  {
   "cell_type": "code",
   "execution_count": 16,
   "metadata": {},
   "outputs": [
    {
     "data": {
      "text/plain": [
       "adaptive_lengthscale_gp_multdim.kerns_list.item1.lengthscales    0.005336\n",
       "adaptive_lengthscale_gp_multdim.kerns_list.item1.variance        0.004906\n",
       "dtype: float64"
      ]
     },
     "execution_count": 16,
     "metadata": {},
     "output_type": "execute_result"
    }
   ],
   "source": [
    "kernel1_samples.std()"
   ]
  },
  {
   "cell_type": "code",
   "execution_count": 17,
   "metadata": {},
   "outputs": [
    {
     "data": {
      "text/plain": [
       "adaptive_lengthscale_gp_multdim.kerns_list.item2.lengthscales    0.665835\n",
       "adaptive_lengthscale_gp_multdim.kerns_list.item2.variance        0.667909\n",
       "dtype: float64"
      ]
     },
     "execution_count": 17,
     "metadata": {},
     "output_type": "execute_result"
    }
   ],
   "source": [
    "kernel2_samples.mean()"
   ]
  },
  {
   "cell_type": "code",
   "execution_count": 18,
   "metadata": {},
   "outputs": [
    {
     "data": {
      "text/plain": [
       "adaptive_lengthscale_gp_multdim.kerns_list.item2.lengthscales    0.007266\n",
       "adaptive_lengthscale_gp_multdim.kerns_list.item2.variance        0.008160\n",
       "dtype: float64"
      ]
     },
     "execution_count": 18,
     "metadata": {},
     "output_type": "execute_result"
    }
   ],
   "source": [
    "kernel2_samples.std()"
   ]
  },
  {
   "cell_type": "code",
   "execution_count": null,
   "metadata": {
    "collapsed": true
   },
   "outputs": [],
   "source": []
  }
 ],
 "metadata": {
  "kernelspec": {
   "display_name": "Python [default]",
   "language": "python",
   "name": "python2"
  },
  "language_info": {
   "codemirror_mode": {
    "name": "ipython",
    "version": 2
   },
   "file_extension": ".py",
   "mimetype": "text/x-python",
   "name": "python",
   "nbconvert_exporter": "python",
   "pygments_lexer": "ipython2",
   "version": "2.7.14"
  }
 },
 "nbformat": 4,
 "nbformat_minor": 2
}
