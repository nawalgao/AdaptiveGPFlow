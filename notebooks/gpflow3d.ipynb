{
 "cells": [
  {
   "cell_type": "code",
   "execution_count": 1,
   "metadata": {},
   "outputs": [
    {
     "ename": "RuntimeError",
     "evalue": "module compiled against API version 0xb but this version of numpy is 0xa",
     "output_type": "error",
     "traceback": [
      "\u001b[0;31m---------------------------------------------------------------------------\u001b[0m",
      "\u001b[0;31mRuntimeError\u001b[0m                              Traceback (most recent call last)",
      "\u001b[0;31mRuntimeError\u001b[0m: module compiled against API version 0xb but this version of numpy is 0xa"
     ]
    },
    {
     "ename": "RuntimeError",
     "evalue": "module compiled against API version 0xb but this version of numpy is 0xa",
     "output_type": "error",
     "traceback": [
      "\u001b[0;31m---------------------------------------------------------------------------\u001b[0m",
      "\u001b[0;31mRuntimeError\u001b[0m                              Traceback (most recent call last)",
      "\u001b[0;31mRuntimeError\u001b[0m: module compiled against API version 0xb but this version of numpy is 0xa"
     ]
    }
   ],
   "source": [
    "import gpflow\n",
    "import numpy as np\n",
    "import matplotlib.pyplot as plt\n",
    "%matplotlib inline\n",
    "import sys\n",
    "sys.path.append('../')\n",
    "from GPHetero import hetero_kernels, hetero_likelihoods, hetero_gpmc\n",
    "from pyDOE import *\n",
    "import os\n",
    "from scipy.stats import norm"
   ]
  },
  {
   "cell_type": "code",
   "execution_count": 2,
   "metadata": {
    "collapsed": true
   },
   "outputs": [],
   "source": [
    "class Ex5Func(object):\n",
    "\n",
    "    def __init__(self, sigma=lambda x: 0.5):\n",
    "        self.sigma = sigma\n",
    "\n",
    "    def __call__(self, x):\n",
    "        \"\"\"\n",
    "        Dette et. al. function.\n",
    "        Dette, Holger, and Andrey Pepelyshev. \"Generalized Latin hypercube design for computer experiments.\" Technometrics 52, no. 4 (2010): 421-429.\n",
    "\n",
    "        \"\"\"\n",
    "        y = 4 * ((x[0] - 2 + 8 * x[1] - 8 * (x[1] ** 2)) ** 2) + (3 - 4 * x[1]) ** 2 + 16 * np.sqrt(x[2] + 1) * ((2 * x[2] - 1)**2)\n",
    "        return (y - 50) / 50."
   ]
  },
  {
   "cell_type": "code",
   "execution_count": 3,
   "metadata": {},
   "outputs": [],
   "source": [
    "dim = 3\n",
    "n = 50\n",
    "noise=0\n",
    "sigma = eval('lambda x: ' + str(noise))\n",
    "\n",
    "objective = Ex5Func(sigma=sigma)\n",
    "X = lhs(dim, n , criterion='center')\n",
    "Xnorm = (X - 0.5) /0.5\n",
    "Y = np.array([objective(x) for x in X])[:, None]"
   ]
  },
  {
   "cell_type": "code",
   "execution_count": 4,
   "metadata": {
    "collapsed": true
   },
   "outputs": [],
   "source": [
    "k = gpflow.kernels.RBF(3, ARD = True)\n",
    "m = gpflow.gpr.GPR(Xnorm, Y, kern=k)\n",
    "m.likelihood.variance = 1e-6"
   ]
  },
  {
   "cell_type": "code",
   "execution_count": 5,
   "metadata": {},
   "outputs": [
    {
     "data": {
      "text/plain": [
       "      fun: -156.69080032545813\n",
       " hess_inv: <5x5 LbfgsInvHessProduct with dtype=float64>\n",
       "      jac: array([ -1.84319217e-07,   5.12247812e-05,  -8.93989124e-06,\n",
       "        -2.96859071e-09,   2.02285787e-09])\n",
       "  message: 'ABNORMAL_TERMINATION_IN_LNSRCH'\n",
       "     nfev: 98\n",
       "      nit: 49\n",
       "   status: 2\n",
       "  success: False\n",
       "        x: array([   48.80749114,     2.84352496,     8.3487381 ,  1525.59027416,\n",
       "         -36.04365563])"
      ]
     },
     "execution_count": 5,
     "metadata": {},
     "output_type": "execute_result"
    }
   ],
   "source": [
    "m.optimize(maxiter=5000)"
   ]
  },
  {
   "cell_type": "code",
   "execution_count": 30,
   "metadata": {},
   "outputs": [
    {
     "data": {
      "text/html": [
       "<table id='params' width=100%><tr><td>Name</td><td>values</td><td>prior</td><td>constraint</td></tr><tr><td>name.kern.lengthscales</td><td>[ 48.81450176   2.87963382   8.46690807]</td><td>None</td><td>+ve</td></tr><tr><td>name.kern.variance</td><td>[ 1525.69651082]</td><td>None</td><td>+ve</td></tr><tr><td>name.likelihood.variance</td><td>[  1.00000000e-06]</td><td>None</td><td>+ve</td></tr></table>"
      ],
      "text/plain": [
       "<gpflow.gpr.GPR at 0x1a22fc5050>"
      ]
     },
     "execution_count": 30,
     "metadata": {},
     "output_type": "execute_result"
    }
   ],
   "source": [
    "m"
   ]
  },
  {
   "cell_type": "code",
   "execution_count": 31,
   "metadata": {},
   "outputs": [
    {
     "name": "stdout",
     "output_type": "stream",
     "text": [
      "burn-in sampling started\n",
      "Iteration:  100 \t Acc Rate:  98.0 %\n",
      "burn-in sampling ended\n",
      "Iteration:  100 \t Acc Rate:  98.0 %\n",
      "Iteration:  200 \t Acc Rate:  100.0 %\n",
      "Iteration:  300 \t Acc Rate:  100.0 %\n",
      "Iteration:  400 \t Acc Rate:  100.0 %\n"
     ]
    }
   ],
   "source": [
    "samples = m.sample(mcmc_samples, verbose=True, epsilon=0.0005, thin = 2, burn = 100, Lmax = 20)"
   ]
  },
  {
   "cell_type": "code",
   "execution_count": 32,
   "metadata": {},
   "outputs": [],
   "source": [
    "X_test = lhs(dim, n , criterion='center')\n",
    "X_test_norm = (X_test - 0.5) /0.5\n",
    "Y_test = np.array([objective(x) for x in X_test])[:, None]"
   ]
  },
  {
   "cell_type": "code",
   "execution_count": 33,
   "metadata": {},
   "outputs": [],
   "source": [
    "sample_df = m.get_samples_df(samples)\n",
    "mean_f_mat = np.zeros(shape=(sample_df.shape[0], X_test_norm.shape[0]))\n",
    "var_f_mat = np.zeros(shape=(sample_df.shape[0], X_test_norm.shape[0]))"
   ]
  },
  {
   "cell_type": "code",
   "execution_count": 34,
   "metadata": {},
   "outputs": [],
   "source": [
    "for i, s in sample_df.iterrows():\n",
    "    m.set_parameter_dict(s)\n",
    "    mean_f, var_f = m.predict_f(X_test_norm)\n",
    "    mean_f_mat[i, :] = mean_f[:,0]\n",
    "    var_f_mat[i, :] = np.diag(var_f)"
   ]
  },
  {
   "cell_type": "code",
   "execution_count": 47,
   "metadata": {},
   "outputs": [
    {
     "data": {
      "text/plain": [
       "<matplotlib.collections.PathCollection at 0x1a2be73390>"
      ]
     },
     "execution_count": 47,
     "metadata": {},
     "output_type": "execute_result"
    },
    {
     "data": {
      "image/png": "[encoded data removed]",
      "text/plain": [
       "<matplotlib.figure.Figure at 0x1a2b821050>"
      ]
     },
     "metadata": {},
     "output_type": "display_data"
    }
   ],
   "source": [
    "plt.figure(figsize=(12,8))\n",
    "plt.scatter(mean_f_mat[0,:], Y_test)"
   ]
  }
 ],
 "metadata": {
  "kernelspec": {
   "display_name": "Python [default]",
   "language": "python",
   "name": "python2"
  },
  "language_info": {
   "codemirror_mode": {
    "name": "ipython",
    "version": 2
   },
   "file_extension": ".py",
   "mimetype": "text/x-python",
   "name": "python",
   "nbconvert_exporter": "python",
   "pygments_lexer": "ipython2",
   "version": "2.7.14"
  }
 },
 "nbformat": 4,
 "nbformat_minor": 2
}
