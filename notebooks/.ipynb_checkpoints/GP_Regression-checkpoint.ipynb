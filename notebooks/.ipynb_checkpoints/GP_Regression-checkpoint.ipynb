{
 "cells": [
  {
   "cell_type": "code",
   "execution_count": 4,
   "metadata": {},
   "outputs": [],
   "source": [
    "import gpflow\n",
    "import numpy as np\n",
    "import matplotlib.pyplot as plt\n",
    "%matplotlib inline\n",
    "import sys\n",
    "sys.path.append('../')"
   ]
  },
  {
   "cell_type": "code",
   "execution_count": 18,
   "metadata": {},
   "outputs": [
    {
     "data": {
      "text/plain": [
       "Text(0,0.5,u'$y$')"
      ]
     },
     "execution_count": 18,
     "metadata": {},
     "output_type": "execute_result"
    },
    {
     "data": {
      "image/png": "[encoded data removed]",
      "text/plain": [
       "<matplotlib.figure.Figure at 0x181e02d2d0>"
      ]
     },
     "metadata": {},
     "output_type": "display_data"
    }
   ],
   "source": [
    "data = np.loadtxt('../data/motor.dat')\n",
    "X = data[:, 0][:, None]\n",
    "Xm = np.mean(X)\n",
    "Xv = np.std(X)\n",
    "Xnorm = (X - Xm)/Xv\n",
    "Y = data[:, 1]\n",
    "fig, ax = plt.subplots()\n",
    "ax.plot(X, Y, 'x', markeredgewidth=2)\n",
    "ax.set_xlabel('$x$')\n",
    "ax.set_ylabel('$y$')"
   ]
  },
  {
   "cell_type": "code",
   "execution_count": 20,
   "metadata": {
    "scrolled": true
   },
   "outputs": [
    {
     "data": {
      "text/html": [
       "<table id='params' width=100%><tr><td>Name</td><td>values</td><td>prior</td><td>constraint</td></tr><tr><td>model.V</td><td>[[ 0.]</br> [ 0.]</br> [ 0.]</br> [ 0.]</br> [ 0.]</br> [ 0.]</br> [ 0.]</br> [ 0.]</br> [ 0.]</br> [ 0.]</br> [ 0.]</br> [ 0.]</br> [ 0.]</br> [ 0.]</br> [ 0.]</br> [ 0.]</br> [ 0.]</br> [ 0.]</br> [ 0.]</br> [ 0.]</br> [ 0.]</br> [ 0.]</br> [ 0.]</br> [ 0.]</br> [ 0.]</br> [ 0.]</br> [ 0.]</br> [ 0.]</br> [ 0.]</br> [ 0.]</br> [ 0.]</br> [ 0.]</br> [ 0.]</br> [ 0.]</br> [ 0.]</br> [ 0.]</br> [ 0.]</br> [ 0.]</br> [ 0.]</br> [ 0.]</br> [ 0.]</br> [ 0.]</br> [ 0.]</br> [ 0.]</br> [ 0.]</br> [ 0.]</br> [ 0.]</br> [ 0.]</br> [ 0.]</br> [ 0.]</br> [ 0.]</br> [ 0.]</br> [ 0.]</br> [ 0.]</br> [ 0.]</br> [ 0.]</br> [ 0.]</br> [ 0.]</br> [ 0.]</br> [ 0.]</br> [ 0.]</br> [ 0.]</br> [ 0.]</br> [ 0.]</br> [ 0.]</br> [ 0.]</br> [ 0.]</br> [ 0.]</br> [ 0.]</br> [ 0.]</br> [ 0.]</br> [ 0.]</br> [ 0.]</br> [ 0.]</br> [ 0.]</br> [ 0.]</br> [ 0.]</br> [ 0.]</br> [ 0.]</br> [ 0.]</br> [ 0.]</br> [ 0.]</br> [ 0.]</br> [ 0.]</br> [ 0.]</br> [ 0.]</br> [ 0.]</br> [ 0.]</br> [ 0.]</br> [ 0.]</br> [ 0.]</br> [ 0.]</br> [ 0.]</br> [ 0.]]</td><td>N([ 0.],[ 1.])</td><td>(none)</td></tr><tr><td>model.kern.lengthscales</td><td>[ 1.]</td><td>None</td><td>+ve</td></tr><tr><td>model.kern.variance</td><td>[ 1.]</td><td>None</td><td>+ve</td></tr><tr><td>model.likelihood.variance</td><td>[ 1.]</td><td>None</td><td>+ve</td></tr></table>"
      ],
      "text/plain": [
       "<gpflow.gpmc.GPMC at 0x181e3f8a10>"
      ]
     },
     "execution_count": 20,
     "metadata": {},
     "output_type": "execute_result"
    }
   ],
   "source": [
    "#build the model\n",
    "k = gpflow.kernels.RBF(1)\n",
    "l = gpflow.likelihoods.Gaussian()\n",
    "m = gpflow.gpmc.GPMC(Xnorm, Y[:,None], k, l)\n",
    "m"
   ]
  },
  {
   "cell_type": "code",
   "execution_count": 21,
   "metadata": {},
   "outputs": [],
   "source": [
    "m.kern.lengthscales.prior = gpflow.priors.Gamma(1., 1.)\n",
    "m.kern.variance.prior = gpflow.priors.Gamma(1.,1.)\n",
    "m.likelihood.variance.prior = gpflow.priors.Gamma(1.,1.)"
   ]
  },
  {
   "cell_type": "code",
   "execution_count": 25,
   "metadata": {},
   "outputs": [
    {
     "name": "stdout",
     "output_type": "stream",
     "text": [
      "burn-in sampling started\n",
      "Iteration:  100 \t Acc Rate:  96.0 %\n",
      "Iteration:  200 \t Acc Rate:  99.0 %\n",
      "Iteration:  300 \t Acc Rate:  100.0 %\n",
      "Iteration:  400 \t Acc Rate:  98.0 %\n",
      "Iteration:  500 \t Acc Rate:  99.0 %\n",
      "burn-in sampling ended\n",
      "Iteration:  100 \t Acc Rate:  97.0 %\n",
      "Iteration:  200 \t Acc Rate:  97.0 %\n",
      "Iteration:  300 \t Acc Rate:  97.0 %\n",
      "Iteration:  400 \t Acc Rate:  100.0 %\n",
      "Iteration:  500 \t Acc Rate:  98.0 %\n",
      "Iteration:  600 \t Acc Rate:  98.0 %\n",
      "Iteration:  700 \t Acc Rate:  99.0 %\n",
      "Iteration:  800 \t Acc Rate:  99.0 %\n",
      "Iteration:  900 \t Acc Rate:  97.0 %\n",
      "Iteration:  1000 \t Acc Rate:  99.0 %\n",
      "Iteration:  1100 \t Acc Rate:  97.0 %\n",
      "Iteration:  1200 \t Acc Rate:  95.0 %\n",
      "Iteration:  1300 \t Acc Rate:  99.0 %\n",
      "Iteration:  1400 \t Acc Rate:  100.0 %\n",
      "Iteration:  1500 \t Acc Rate:  97.0 %\n",
      "Iteration:  1600 \t Acc Rate:  97.0 %\n",
      "Iteration:  1700 \t Acc Rate:  91.0 %\n",
      "Iteration:  1800 \t Acc Rate:  98.0 %\n",
      "Iteration:  1900 \t Acc Rate:  99.0 %\n",
      "Iteration:  2000 \t Acc Rate:  98.0 %\n",
      "Iteration:  2100 \t Acc Rate:  97.0 %\n",
      "Iteration:  2200 \t Acc Rate:  96.0 %\n",
      "Iteration:  2300 \t Acc Rate:  98.0 %\n",
      "Iteration:  2400 \t Acc Rate:  96.0 %\n",
      "Iteration:  2500 \t Acc Rate:  100.0 %\n",
      "Iteration:  2600 \t Acc Rate:  97.0 %\n",
      "Iteration:  2700 \t Acc Rate:  99.0 %\n",
      "Iteration:  2800 \t Acc Rate:  97.0 %\n",
      "Iteration:  2900 \t Acc Rate:  99.0 %\n",
      "Iteration:  3000 \t Acc Rate:  97.0 %\n",
      "Iteration:  3100 \t Acc Rate:  97.0 %\n",
      "Iteration:  3200 \t Acc Rate:  99.0 %\n",
      "Iteration:  3300 \t Acc Rate:  98.0 %\n",
      "Iteration:  3400 \t Acc Rate:  99.0 %\n",
      "Iteration:  3500 \t Acc Rate:  99.0 %\n",
      "Iteration:  3600 \t Acc Rate:  98.0 %\n",
      "Iteration:  3700 \t Acc Rate:  97.0 %\n",
      "Iteration:  3800 \t Acc Rate:  98.0 %\n",
      "Iteration:  3900 \t Acc Rate:  98.0 %\n",
      "Iteration:  4000 \t Acc Rate:  95.0 %\n",
      "Iteration:  4100 \t Acc Rate:  95.0 %\n",
      "Iteration:  4200 \t Acc Rate:  95.0 %\n",
      "Iteration:  4300 \t Acc Rate:  97.0 %\n",
      "Iteration:  4400 \t Acc Rate:  97.0 %\n",
      "Iteration:  4500 \t Acc Rate:  97.0 %\n",
      "Iteration:  4600 \t Acc Rate:  98.0 %\n",
      "Iteration:  4700 \t Acc Rate:  96.0 %\n",
      "Iteration:  4800 \t Acc Rate:  99.0 %\n",
      "Iteration:  4900 \t Acc Rate:  96.0 %\n",
      "Iteration:  5000 \t Acc Rate:  98.0 %\n",
      "Iteration:  5100 \t Acc Rate:  95.0 %\n",
      "Iteration:  5200 \t Acc Rate:  100.0 %\n",
      "Iteration:  5300 \t Acc Rate:  99.0 %\n",
      "Iteration:  5400 \t Acc Rate:  98.0 %\n",
      "Iteration:  5500 \t Acc Rate:  95.0 %\n",
      "Iteration:  5600 \t Acc Rate:  100.0 %\n",
      "Iteration:  5700 \t Acc Rate:  99.0 %\n",
      "Iteration:  5800 \t Acc Rate:  96.0 %\n",
      "Iteration:  5900 \t Acc Rate:  95.0 %\n",
      "Iteration:  6000 \t Acc Rate:  97.0 %\n",
      "Iteration:  6100 \t Acc Rate:  97.0 %\n",
      "Iteration:  6200 \t Acc Rate:  99.0 %\n",
      "Iteration:  6300 \t Acc Rate:  96.0 %\n",
      "Iteration:  6400 \t Acc Rate:  99.0 %\n",
      "Iteration:  6500 \t Acc Rate:  97.0 %\n",
      "Iteration:  6600 \t Acc Rate:  98.0 %\n",
      "Iteration:  6700 \t Acc Rate:  97.0 %\n",
      "Iteration:  6800 \t Acc Rate:  92.0 %\n",
      "Iteration:  6900 \t Acc Rate:  98.0 %\n",
      "Iteration:  7000 \t Acc Rate:  98.0 %\n",
      "Iteration:  7100 \t Acc Rate:  95.0 %\n",
      "Iteration:  7200 \t Acc Rate:  97.0 %\n",
      "Iteration:  7300 \t Acc Rate:  94.0 %\n",
      "Iteration:  7400 \t Acc Rate:  94.0 %\n",
      "Iteration:  7500 \t Acc Rate:  97.0 %\n",
      "Iteration:  7600 \t Acc Rate:  99.0 %\n",
      "Iteration:  7700 \t Acc Rate:  97.0 %\n",
      "Iteration:  7800 \t Acc Rate:  98.0 %\n",
      "Iteration:  7900 \t Acc Rate:  96.0 %\n",
      "Iteration:  8000 \t Acc Rate:  97.0 %\n",
      "Iteration:  8100 \t Acc Rate:  98.0 %\n",
      "Iteration:  8200 \t Acc Rate:  99.0 %\n",
      "Iteration:  8300 \t Acc Rate:  99.0 %\n",
      "Iteration:  8400 \t Acc Rate:  96.0 %\n",
      "Iteration:  8500 \t Acc Rate:  94.0 %\n",
      "Iteration:  8600 \t Acc Rate:  96.0 %\n",
      "Iteration:  8700 \t Acc Rate:  100.0 %\n",
      "Iteration:  8800 \t Acc Rate:  96.0 %\n",
      "Iteration:  8900 \t Acc Rate:  99.0 %\n",
      "Iteration:  9000 \t Acc Rate:  99.0 %\n",
      "Iteration:  9100 \t Acc Rate:  99.0 %\n",
      "Iteration:  9200 \t Acc Rate:  98.0 %\n",
      "Iteration:  9300 \t Acc Rate:  98.0 %\n",
      "Iteration:  9400 \t Acc Rate:  96.0 %\n",
      "Iteration:  9500 \t Acc Rate:  97.0 %\n",
      "Iteration:  9600 \t Acc Rate:  99.0 %\n",
      "Iteration:  9700 \t Acc Rate:  94.0 %\n",
      "Iteration:  9800 \t Acc Rate:  96.0 %\n",
      "Iteration:  9900 \t Acc Rate:  99.0 %\n",
      "Iteration:  10000 \t Acc Rate:  95.0 %\n"
     ]
    }
   ],
   "source": [
    "m.optimize(maxiter=500) # start near MAP\n",
    "samples = m.sample(5000, verbose=True, epsilon=0.01, thin = 2, burn = 500, Lmax = 20)"
   ]
  },
  {
   "cell_type": "code",
   "execution_count": 26,
   "metadata": {},
   "outputs": [
    {
     "data": {
      "text/html": [
       "<table id='params' width=100%><tr><td>Name</td><td>values</td><td>prior</td><td>constraint</td></tr><tr><td>model.V</td><td>[[ -9.07473490e-02]</br> [ -1.21432383e-01]</br> [ -1.98618972e-01]</br> [ -2.30531914e-01]</br> [ -1.21488897e-01]</br> [ -8.53430782e-03]</br> [  2.95287147e-01]</br> [  3.42943572e-01]</br> [  3.22525411e-01]</br> [  1.60994714e-01]</br> [ -2.09396962e-01]</br> [ -7.31088073e-01]</br> [ -1.31152419e+00]</br> [ -9.87587501e-01]</br> [ -1.66707967e+00]</br> [ -2.05803019e+00]</br> [ -2.31880893e+00]</br> [ -4.52415556e+00]</br> [ -4.92311560e+00]</br> [ -2.70102233e+00]</br> [ -4.64833754e+00]</br> [ -2.93088439e+00]</br> [ -3.51944519e+00]</br> [ -2.55198747e+00]</br> [ -2.38023397e+00]</br> [ -1.81619352e+00]</br> [ -1.65754320e+00]</br> [ -1.71684056e+00]</br> [ -1.75633911e+00]</br> [ -1.67401820e+00]</br> [ -2.38738042e+00]</br> [ -1.40229975e+00]</br> [ -1.70043083e+00]</br> [ -1.19854006e+00]</br> [ -3.89126568e-01]</br> [ -3.24269833e-01]</br> [ -2.42077603e-01]</br> [  4.13723721e-02]</br> [  2.66545260e-01]</br> [  5.11451498e-01]</br> [  6.61760881e-01]</br> [  5.05674593e-01]</br> [  1.31271623e+00]</br> [  1.30393876e+00]</br> [  1.18056631e+00]</br> [  1.08144086e+00]</br> [  1.30811794e+00]</br> [  1.07764974e+00]</br> [  1.18491257e+00]</br> [  8.01187831e-01]</br> [  1.03017378e+00]</br> [  6.44650788e-01]</br> [  6.94916373e-01]</br> [  9.42305612e-01]</br> [  5.48211911e-01]</br> [  6.73431128e-01]</br> [  5.55492395e-01]</br> [  3.13870327e-01]</br> [  2.81918357e-01]</br> [  2.97715784e-01]</br> [  1.57593595e-01]</br> [ -5.24335901e-03]</br> [ -5.14386803e-02]</br> [ -7.84839512e-02]</br> [ -8.45436735e-02]</br> [  3.46186945e-03]</br> [  7.81467853e-02]</br> [  1.55570378e-01]</br> [  2.38423822e-01]</br> [  2.62375496e-01]</br> [  2.19468002e-01]</br> [  2.48982448e-01]</br> [  3.76736948e-01]</br> [  5.26974320e-01]</br> [  2.95823332e-01]</br> [ -7.55735071e-02]</br> [ -1.33931829e-01]</br> [ -3.18243408e-01]</br> [ -3.67343706e-01]</br> [ -4.51236572e-01]</br> [ -2.86353617e-01]</br> [ -1.32152362e-01]</br> [ -1.85538781e-01]</br> [ -9.23119840e-02]</br> [ -3.26013673e-02]</br> [ -1.24841378e-02]</br> [ -2.49780772e-02]</br> [ -5.12530823e-02]</br> [  1.14223681e-02]</br> [  1.55680755e-01]</br> [  2.24820906e-01]</br> [  1.79272429e-01]</br> [  6.86772236e-02]</br> [  2.06857839e-02]]</td><td>N([ 0.],[ 1.])</td><td>(none)</td></tr><tr><td>model.kern.lengthscales</td><td>[ 0.26165696]</td><td>Ga([ 1.],[ 1.])</td><td>+ve</td></tr><tr><td>model.kern.variance</td><td>[ 84.29915837]</td><td>Ga([ 1.],[ 1.])</td><td>+ve</td></tr><tr><td>model.likelihood.variance</td><td>[ 124.09097008]</td><td>Ga([ 1.],[ 1.])</td><td>+ve</td></tr></table>"
      ],
      "text/plain": [
       "<gpflow.gpmc.GPMC at 0x181e3f8a10>"
      ]
     },
     "execution_count": 26,
     "metadata": {},
     "output_type": "execute_result"
    }
   ],
   "source": [
    "m"
   ]
  },
  {
   "cell_type": "code",
   "execution_count": 27,
   "metadata": {
    "collapsed": true
   },
   "outputs": [],
   "source": [
    "sample_df = m.get_samples_df(samples)\n",
    "like_var_samples = m.likelihood.variance.get_samples_df(samples)"
   ]
  },
  {
   "cell_type": "code",
   "execution_count": 72,
   "metadata": {
    "collapsed": true
   },
   "outputs": [],
   "source": [
    "noise_var = np.array([])\n",
    "for s in like_var_samples:\n",
    "    noise_var = np.append(noise_var, s)"
   ]
  },
  {
   "cell_type": "code",
   "execution_count": 79,
   "metadata": {},
   "outputs": [],
   "source": [
    "xnew = np.linspace(0,60,50)[:,None]\n",
    "xx = (xnew - Xm)/Xv\n",
    "meanmat = np.zeros(shape = (samples.shape[0], xx.shape[0]))\n",
    "varmat = np.zeros(shape = (samples.shape[0], xx.shape[0]))\n",
    "noisemat = np.zeros(shape = (samples.shape[0], xx.shape[0]))\n",
    "for i, s in sample_df.iterrows():\n",
    "    m.set_parameter_dict(s)\n",
    "    mean, v = m.predict_f(xx)\n",
    "    var = v[:,:]\n",
    "    meanmat[i,:] = mean[:,0]\n",
    "    varmat[i,:] = np.diag(var)\n",
    "    noisemat[i,:] = noise_var[i]"
   ]
  },
  {
   "cell_type": "code",
   "execution_count": 111,
   "metadata": {},
   "outputs": [],
   "source": [
    "def visualize(Xgrid, Mgrid, Vargrid, noise_var):\n",
    "    \"\"\"\n",
    "    Visualize 1D utility funciton values\n",
    "    Xgrid : grid states\n",
    "    Mgrid : mean of GP at those finite grid points\n",
    "    Vargrid : variance of GP at those finite grid points\n",
    "    \"\"\"\n",
    "    Stdgrid = np.sqrt(Vargrid)\n",
    "    Std_noise = np.sqrt(noise_var)\n",
    "    \n",
    "    lower = Mgrid - 2*Stdgrid\n",
    "    print lower.shape\n",
    "    upper = Mgrid + 2*Stdgrid\n",
    "    \n",
    "    lower1 = lower - 2*Std_noise\n",
    "    print lower1.shape\n",
    "    upper1 = upper + 2*Std_noise\n",
    "    \n",
    "    plt.plot(X, Y, '.')\n",
    "    line, = plt.plot(Xgrid, Mgrid, lw = 2, color = 'k', label = 'utility', alpha = 0.5)\n",
    "    #plt.fill_between(Xgrid[:,0], lower, upper,\n",
    "    #                 color = 'g', alpha = 0.25)\n",
    "    plt.fill_between(Xgrid[:,0], lower1, upper1,\n",
    "                     color = 'g', alpha = 0.25)\n",
    "    #plt.fill_between(Xgrid[:,0], upper1, upper,\n",
    "    #                 color = 'r', alpha = 0.25)\n",
    "    plt.xlabel('x')\n",
    "    plt.ylabel('y')\n",
    "    return"
   ]
  },
  {
   "cell_type": "code",
   "execution_count": 112,
   "metadata": {},
   "outputs": [
    {
     "name": "stdout",
     "output_type": "stream",
     "text": [
      "(50,)\n",
      "(5000, 50)\n"
     ]
    },
    {
     "ename": "ValueError",
     "evalue": "Input passed into argument \"u'y1'\"is not 1-dimensional.",
     "output_type": "error",
     "traceback": [
      "\u001b[0;31m---------------------------------------------------------------------------\u001b[0m",
      "\u001b[0;31mValueError\u001b[0m                                Traceback (most recent call last)",
      "\u001b[0;32m<ipython-input-112-0b68651f0726>\u001b[0m in \u001b[0;36m<module>\u001b[0;34m()\u001b[0m\n\u001b[1;32m      3\u001b[0m \u001b[0mplt\u001b[0m\u001b[0;34m.\u001b[0m\u001b[0mfigure\u001b[0m\u001b[0;34m(\u001b[0m\u001b[0mfigsize\u001b[0m\u001b[0;34m=\u001b[0m\u001b[0;34m(\u001b[0m\u001b[0;36m12\u001b[0m\u001b[0;34m,\u001b[0m\u001b[0;36m8\u001b[0m\u001b[0;34m)\u001b[0m\u001b[0;34m)\u001b[0m\u001b[0;34m\u001b[0m\u001b[0m\n\u001b[1;32m      4\u001b[0m \u001b[0;32mfor\u001b[0m \u001b[0mi\u001b[0m \u001b[0;32min\u001b[0m \u001b[0mxrange\u001b[0m\u001b[0;34m(\u001b[0m\u001b[0mmini\u001b[0m\u001b[0;34m,\u001b[0m\u001b[0mmaxi\u001b[0m\u001b[0;34m)\u001b[0m\u001b[0;34m:\u001b[0m\u001b[0;34m\u001b[0m\u001b[0m\n\u001b[0;32m----> 5\u001b[0;31m     \u001b[0mvisualize\u001b[0m\u001b[0;34m(\u001b[0m\u001b[0mxnew\u001b[0m\u001b[0;34m,\u001b[0m \u001b[0mmeanmat\u001b[0m\u001b[0;34m[\u001b[0m\u001b[0mi\u001b[0m\u001b[0;34m,\u001b[0m\u001b[0;34m:\u001b[0m\u001b[0;34m]\u001b[0m\u001b[0;34m,\u001b[0m \u001b[0mvarmat\u001b[0m\u001b[0;34m[\u001b[0m\u001b[0mi\u001b[0m\u001b[0;34m,\u001b[0m\u001b[0;34m:\u001b[0m\u001b[0;34m]\u001b[0m\u001b[0;34m,\u001b[0m \u001b[0mnoisemat\u001b[0m\u001b[0;34m)\u001b[0m\u001b[0;34m\u001b[0m\u001b[0m\n\u001b[0m",
      "\u001b[0;32m<ipython-input-111-f2ae9c597605>\u001b[0m in \u001b[0;36mvisualize\u001b[0;34m(Xgrid, Mgrid, Vargrid, noise_var)\u001b[0m\n\u001b[1;32m     22\u001b[0m     \u001b[0;31m#                 color = 'g', alpha = 0.25)\u001b[0m\u001b[0;34m\u001b[0m\u001b[0;34m\u001b[0m\u001b[0m\n\u001b[1;32m     23\u001b[0m     plt.fill_between(Xgrid[:,0], lower1, upper1,\n\u001b[0;32m---> 24\u001b[0;31m                      color = 'g', alpha = 0.25)\n\u001b[0m\u001b[1;32m     25\u001b[0m     \u001b[0;31m#plt.fill_between(Xgrid[:,0], upper1, upper,\u001b[0m\u001b[0;34m\u001b[0m\u001b[0;34m\u001b[0m\u001b[0m\n\u001b[1;32m     26\u001b[0m     \u001b[0;31m#                 color = 'r', alpha = 0.25)\u001b[0m\u001b[0;34m\u001b[0m\u001b[0;34m\u001b[0m\u001b[0m\n",
      "\u001b[0;32m/Users/nimishawalgaonkar/anaconda2/lib/python2.7/site-packages/matplotlib/pyplot.pyc\u001b[0m in \u001b[0;36mfill_between\u001b[0;34m(x, y1, y2, where, interpolate, step, hold, data, **kwargs)\u001b[0m\n\u001b[1;32m   2921\u001b[0m         ret = ax.fill_between(x, y1, y2=y2, where=where,\n\u001b[1;32m   2922\u001b[0m                               \u001b[0minterpolate\u001b[0m\u001b[0;34m=\u001b[0m\u001b[0minterpolate\u001b[0m\u001b[0;34m,\u001b[0m \u001b[0mstep\u001b[0m\u001b[0;34m=\u001b[0m\u001b[0mstep\u001b[0m\u001b[0;34m,\u001b[0m \u001b[0mdata\u001b[0m\u001b[0;34m=\u001b[0m\u001b[0mdata\u001b[0m\u001b[0;34m,\u001b[0m\u001b[0;34m\u001b[0m\u001b[0m\n\u001b[0;32m-> 2923\u001b[0;31m                               **kwargs)\n\u001b[0m\u001b[1;32m   2924\u001b[0m     \u001b[0;32mfinally\u001b[0m\u001b[0;34m:\u001b[0m\u001b[0;34m\u001b[0m\u001b[0m\n\u001b[1;32m   2925\u001b[0m         \u001b[0max\u001b[0m\u001b[0;34m.\u001b[0m\u001b[0m_hold\u001b[0m \u001b[0;34m=\u001b[0m \u001b[0mwashold\u001b[0m\u001b[0;34m\u001b[0m\u001b[0m\n",
      "\u001b[0;32m/Users/nimishawalgaonkar/anaconda2/lib/python2.7/site-packages/matplotlib/__init__.pyc\u001b[0m in \u001b[0;36minner\u001b[0;34m(ax, *args, **kwargs)\u001b[0m\n\u001b[1;32m   1708\u001b[0m                     warnings.warn(msg % (label_namer, func.__name__),\n\u001b[1;32m   1709\u001b[0m                                   RuntimeWarning, stacklevel=2)\n\u001b[0;32m-> 1710\u001b[0;31m             \u001b[0;32mreturn\u001b[0m \u001b[0mfunc\u001b[0m\u001b[0;34m(\u001b[0m\u001b[0max\u001b[0m\u001b[0;34m,\u001b[0m \u001b[0;34m*\u001b[0m\u001b[0margs\u001b[0m\u001b[0;34m,\u001b[0m \u001b[0;34m**\u001b[0m\u001b[0mkwargs\u001b[0m\u001b[0;34m)\u001b[0m\u001b[0;34m\u001b[0m\u001b[0m\n\u001b[0m\u001b[1;32m   1711\u001b[0m         \u001b[0mpre_doc\u001b[0m \u001b[0;34m=\u001b[0m \u001b[0minner\u001b[0m\u001b[0;34m.\u001b[0m\u001b[0m__doc__\u001b[0m\u001b[0;34m\u001b[0m\u001b[0m\n\u001b[1;32m   1712\u001b[0m         \u001b[0;32mif\u001b[0m \u001b[0mpre_doc\u001b[0m \u001b[0;32mis\u001b[0m \u001b[0mNone\u001b[0m\u001b[0;34m:\u001b[0m\u001b[0;34m\u001b[0m\u001b[0m\n",
      "\u001b[0;32m/Users/nimishawalgaonkar/anaconda2/lib/python2.7/site-packages/matplotlib/axes/_axes.pyc\u001b[0m in \u001b[0;36mfill_between\u001b[0;34m(self, x, y1, y2, where, interpolate, step, **kwargs)\u001b[0m\n\u001b[1;32m   4837\u001b[0m             \u001b[0;32mif\u001b[0m \u001b[0marray\u001b[0m\u001b[0;34m.\u001b[0m\u001b[0mndim\u001b[0m \u001b[0;34m>\u001b[0m \u001b[0;36m1\u001b[0m\u001b[0;34m:\u001b[0m\u001b[0;34m\u001b[0m\u001b[0m\n\u001b[1;32m   4838\u001b[0m                 raise ValueError('Input passed into argument \"%r\"' % name +\n\u001b[0;32m-> 4839\u001b[0;31m                                  'is not 1-dimensional.')\n\u001b[0m\u001b[1;32m   4840\u001b[0m \u001b[0;34m\u001b[0m\u001b[0m\n\u001b[1;32m   4841\u001b[0m         \u001b[0;32mif\u001b[0m \u001b[0mwhere\u001b[0m \u001b[0;32mis\u001b[0m \u001b[0mNone\u001b[0m\u001b[0;34m:\u001b[0m\u001b[0;34m\u001b[0m\u001b[0m\n",
      "\u001b[0;31mValueError\u001b[0m: Input passed into argument \"u'y1'\"is not 1-dimensional."
     ]
    },
    {
     "data": {
      "image/png": "[encoded data removed]",
      "text/plain": [
       "<matplotlib.figure.Figure at 0x1823fc2cd0>"
      ]
     },
     "metadata": {},
     "output_type": "display_data"
    }
   ],
   "source": [
    "mini = 205\n",
    "maxi = 206\n",
    "plt.figure(figsize=(12,8))\n",
    "for i in xrange(mini,maxi):\n",
    "    visualize(xnew, meanmat[i,:], varmat[i,:], noisemat[i,:])"
   ]
  },
  {
   "cell_type": "code",
   "execution_count": 83,
   "metadata": {},
   "outputs": [
    {
     "data": {
      "text/plain": [
       "(5000, 50)"
      ]
     },
     "execution_count": 83,
     "metadata": {},
     "output_type": "execute_result"
    }
   ],
   "source": [
    "varmat.shape    "
   ]
  },
  {
   "cell_type": "code",
   "execution_count": 85,
   "metadata": {},
   "outputs": [
    {
     "data": {
      "text/plain": [
       "(5000, 50)"
      ]
     },
     "execution_count": 85,
     "metadata": {},
     "output_type": "execute_result"
    }
   ],
   "source": [
    "noisemat.shape"
   ]
  },
  {
   "cell_type": "code",
   "execution_count": 86,
   "metadata": {},
   "outputs": [
    {
     "data": {
      "text/plain": [
       "(5000, 50)"
      ]
     },
     "execution_count": 86,
     "metadata": {},
     "output_type": "execute_result"
    }
   ],
   "source": [
    "meanmat.shape"
   ]
  },
  {
   "cell_type": "code",
   "execution_count": 91,
   "metadata": {},
   "outputs": [],
   "source": [
    "Stdgrid = np.sqrt(varmat)\n",
    "Std_noise = np.sqrt(noisemat)\n",
    "    \n",
    "lower = meanmat - 2*Stdgrid\n",
    "upper = meanmat + 2*Stdgrid\n",
    "\n",
    "lower1 = lower - 2*Std_noise\n",
    "upper1 = upper + 2*Std_noise"
   ]
  },
  {
   "cell_type": "code",
   "execution_count": 102,
   "metadata": {},
   "outputs": [
    {
     "data": {
      "text/plain": [
       "(5000, 50)"
      ]
     },
     "execution_count": 102,
     "metadata": {},
     "output_type": "execute_result"
    }
   ],
   "source": [
    "lower1.shape"
   ]
  },
  {
   "cell_type": "code",
   "execution_count": 95,
   "metadata": {},
   "outputs": [
    {
     "data": {
      "text/plain": [
       "(5000, 50)"
      ]
     },
     "execution_count": 95,
     "metadata": {},
     "output_type": "execute_result"
    }
   ],
   "source": [
    "lower1.shape"
   ]
  },
  {
   "cell_type": "code",
   "execution_count": null,
   "metadata": {
    "collapsed": true
   },
   "outputs": [],
   "source": []
  }
 ],
 "metadata": {
  "kernelspec": {
   "display_name": "Python [default]",
   "language": "python",
   "name": "python2"
  },
  "language_info": {
   "codemirror_mode": {
    "name": "ipython",
    "version": 2
   },
   "file_extension": ".py",
   "mimetype": "text/x-python",
   "name": "python",
   "nbconvert_exporter": "python",
   "pygments_lexer": "ipython2",
   "version": "2.7.14"
  }
 },
 "nbformat": 4,
 "nbformat_minor": 2
}
