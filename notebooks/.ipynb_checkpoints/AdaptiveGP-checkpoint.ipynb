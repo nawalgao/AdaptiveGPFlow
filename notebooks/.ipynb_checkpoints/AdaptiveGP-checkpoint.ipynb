{
 "cells": [
  {
   "cell_type": "code",
   "execution_count": 1,
   "metadata": {},
   "outputs": [
    {
     "ename": "RuntimeError",
     "evalue": "module compiled against API version 0xb but this version of numpy is 0xa",
     "output_type": "error",
     "traceback": [
      "\u001b[0;31m---------------------------------------------------------------------------\u001b[0m",
      "\u001b[0;31mRuntimeError\u001b[0m                              Traceback (most recent call last)",
      "\u001b[0;31mRuntimeError\u001b[0m: module compiled against API version 0xb but this version of numpy is 0xa"
     ]
    },
    {
     "ename": "RuntimeError",
     "evalue": "module compiled against API version 0xb but this version of numpy is 0xa",
     "output_type": "error",
     "traceback": [
      "\u001b[0;31m---------------------------------------------------------------------------\u001b[0m",
      "\u001b[0;31mRuntimeError\u001b[0m                              Traceback (most recent call last)",
      "\u001b[0;31mRuntimeError\u001b[0m: module compiled against API version 0xb but this version of numpy is 0xa"
     ]
    }
   ],
   "source": [
    "import gpflow\n",
    "import numpy as np\n",
    "import matplotlib.pyplot as plt\n",
    "%matplotlib inline\n",
    "import sys\n",
    "sys.path.append('../')\n",
    "from GPHetero import hetero_kernels, hetero_likelihoods, hetero_gpmc"
   ]
  },
  {
   "cell_type": "code",
   "execution_count": 2,
   "metadata": {},
   "outputs": [
    {
     "data": {
      "text/plain": [
       "Text(0,0.5,u'$y$')"
      ]
     },
     "execution_count": 2,
     "metadata": {},
     "output_type": "execute_result"
    },
    {
     "data": {
      "image/png": "[encoded data removed]",
      "text/plain": [
       "<matplotlib.figure.Figure at 0x10d5447d0>"
      ]
     },
     "metadata": {},
     "output_type": "display_data"
    }
   ],
   "source": [
    "data = np.loadtxt('../data/motor.dat')\n",
    "X = data[:, 0][:, None]\n",
    "Xm = np.mean(X)\n",
    "Xv = np.std(X)\n",
    "Xnorm = (X - Xm)/Xv\n",
    "Y = data[:, 1]\n",
    "fig, ax = plt.subplots()\n",
    "ax.plot(X, Y, 'x', markeredgewidth=2)\n",
    "ax.set_xlabel('$x$')\n",
    "ax.set_ylabel('$y$')"
   ]
  },
  {
   "cell_type": "code",
   "execution_count": 3,
   "metadata": {
    "collapsed": true
   },
   "outputs": [],
   "source": [
    "#build the model\n",
    "k1 = hetero_kernels.RBF(1)\n",
    "k2 = hetero_kernels.RBF(1)\n",
    "k3 = hetero_kernels.RBF(1)\n",
    "m = hetero_gpmc.GPMCAdaptive(Xnorm, Y[:,None], k1, k2, k3)"
   ]
  },
  {
   "cell_type": "code",
   "execution_count": 4,
   "metadata": {},
   "outputs": [
    {
     "data": {
      "text/html": [
       "<table id='params' width=100%><tr><td>Name</td><td>values</td><td>prior</td><td>constraint</td></tr><tr><td>adaptive_gp.V1</td><td>[[ 0.]</br> [ 0.]</br> [ 0.]</br> [ 0.]</br> [ 0.]</br> [ 0.]</br> [ 0.]</br> [ 0.]</br> [ 0.]</br> [ 0.]</br> [ 0.]</br> [ 0.]</br> [ 0.]</br> [ 0.]</br> [ 0.]</br> [ 0.]</br> [ 0.]</br> [ 0.]</br> [ 0.]</br> [ 0.]</br> [ 0.]</br> [ 0.]</br> [ 0.]</br> [ 0.]</br> [ 0.]</br> [ 0.]</br> [ 0.]</br> [ 0.]</br> [ 0.]</br> [ 0.]</br> [ 0.]</br> [ 0.]</br> [ 0.]</br> [ 0.]</br> [ 0.]</br> [ 0.]</br> [ 0.]</br> [ 0.]</br> [ 0.]</br> [ 0.]</br> [ 0.]</br> [ 0.]</br> [ 0.]</br> [ 0.]</br> [ 0.]</br> [ 0.]</br> [ 0.]</br> [ 0.]</br> [ 0.]</br> [ 0.]</br> [ 0.]</br> [ 0.]</br> [ 0.]</br> [ 0.]</br> [ 0.]</br> [ 0.]</br> [ 0.]</br> [ 0.]</br> [ 0.]</br> [ 0.]</br> [ 0.]</br> [ 0.]</br> [ 0.]</br> [ 0.]</br> [ 0.]</br> [ 0.]</br> [ 0.]</br> [ 0.]</br> [ 0.]</br> [ 0.]</br> [ 0.]</br> [ 0.]</br> [ 0.]</br> [ 0.]</br> [ 0.]</br> [ 0.]</br> [ 0.]</br> [ 0.]</br> [ 0.]</br> [ 0.]</br> [ 0.]</br> [ 0.]</br> [ 0.]</br> [ 0.]</br> [ 0.]</br> [ 0.]</br> [ 0.]</br> [ 0.]</br> [ 0.]</br> [ 0.]</br> [ 0.]</br> [ 0.]</br> [ 0.]</br> [ 0.]]</td><td>N([ 0.],[ 1.])</td><td>(none)</td></tr><tr><td>adaptive_gp.V2</td><td>[[ 0.]</br> [ 0.]</br> [ 0.]</br> [ 0.]</br> [ 0.]</br> [ 0.]</br> [ 0.]</br> [ 0.]</br> [ 0.]</br> [ 0.]</br> [ 0.]</br> [ 0.]</br> [ 0.]</br> [ 0.]</br> [ 0.]</br> [ 0.]</br> [ 0.]</br> [ 0.]</br> [ 0.]</br> [ 0.]</br> [ 0.]</br> [ 0.]</br> [ 0.]</br> [ 0.]</br> [ 0.]</br> [ 0.]</br> [ 0.]</br> [ 0.]</br> [ 0.]</br> [ 0.]</br> [ 0.]</br> [ 0.]</br> [ 0.]</br> [ 0.]</br> [ 0.]</br> [ 0.]</br> [ 0.]</br> [ 0.]</br> [ 0.]</br> [ 0.]</br> [ 0.]</br> [ 0.]</br> [ 0.]</br> [ 0.]</br> [ 0.]</br> [ 0.]</br> [ 0.]</br> [ 0.]</br> [ 0.]</br> [ 0.]</br> [ 0.]</br> [ 0.]</br> [ 0.]</br> [ 0.]</br> [ 0.]</br> [ 0.]</br> [ 0.]</br> [ 0.]</br> [ 0.]</br> [ 0.]</br> [ 0.]</br> [ 0.]</br> [ 0.]</br> [ 0.]</br> [ 0.]</br> [ 0.]</br> [ 0.]</br> [ 0.]</br> [ 0.]</br> [ 0.]</br> [ 0.]</br> [ 0.]</br> [ 0.]</br> [ 0.]</br> [ 0.]</br> [ 0.]</br> [ 0.]</br> [ 0.]</br> [ 0.]</br> [ 0.]</br> [ 0.]</br> [ 0.]</br> [ 0.]</br> [ 0.]</br> [ 0.]</br> [ 0.]</br> [ 0.]</br> [ 0.]</br> [ 0.]</br> [ 0.]</br> [ 0.]</br> [ 0.]</br> [ 0.]</br> [ 0.]]</td><td>N([ 0.],[ 1.])</td><td>(none)</td></tr><tr><td>adaptive_gp.V3</td><td>[[ 0.]</br> [ 0.]</br> [ 0.]</br> [ 0.]</br> [ 0.]</br> [ 0.]</br> [ 0.]</br> [ 0.]</br> [ 0.]</br> [ 0.]</br> [ 0.]</br> [ 0.]</br> [ 0.]</br> [ 0.]</br> [ 0.]</br> [ 0.]</br> [ 0.]</br> [ 0.]</br> [ 0.]</br> [ 0.]</br> [ 0.]</br> [ 0.]</br> [ 0.]</br> [ 0.]</br> [ 0.]</br> [ 0.]</br> [ 0.]</br> [ 0.]</br> [ 0.]</br> [ 0.]</br> [ 0.]</br> [ 0.]</br> [ 0.]</br> [ 0.]</br> [ 0.]</br> [ 0.]</br> [ 0.]</br> [ 0.]</br> [ 0.]</br> [ 0.]</br> [ 0.]</br> [ 0.]</br> [ 0.]</br> [ 0.]</br> [ 0.]</br> [ 0.]</br> [ 0.]</br> [ 0.]</br> [ 0.]</br> [ 0.]</br> [ 0.]</br> [ 0.]</br> [ 0.]</br> [ 0.]</br> [ 0.]</br> [ 0.]</br> [ 0.]</br> [ 0.]</br> [ 0.]</br> [ 0.]</br> [ 0.]</br> [ 0.]</br> [ 0.]</br> [ 0.]</br> [ 0.]</br> [ 0.]</br> [ 0.]</br> [ 0.]</br> [ 0.]</br> [ 0.]</br> [ 0.]</br> [ 0.]</br> [ 0.]</br> [ 0.]</br> [ 0.]</br> [ 0.]</br> [ 0.]</br> [ 0.]</br> [ 0.]</br> [ 0.]</br> [ 0.]</br> [ 0.]</br> [ 0.]</br> [ 0.]</br> [ 0.]</br> [ 0.]</br> [ 0.]</br> [ 0.]</br> [ 0.]</br> [ 0.]</br> [ 0.]</br> [ 0.]</br> [ 0.]</br> [ 0.]]</td><td>N([ 0.],[ 1.])</td><td>(none)</td></tr><tr><td>adaptive_gp.V4</td><td>[[ 0.]</br> [ 0.]</br> [ 0.]</br> [ 0.]</br> [ 0.]</br> [ 0.]</br> [ 0.]</br> [ 0.]</br> [ 0.]</br> [ 0.]</br> [ 0.]</br> [ 0.]</br> [ 0.]</br> [ 0.]</br> [ 0.]</br> [ 0.]</br> [ 0.]</br> [ 0.]</br> [ 0.]</br> [ 0.]</br> [ 0.]</br> [ 0.]</br> [ 0.]</br> [ 0.]</br> [ 0.]</br> [ 0.]</br> [ 0.]</br> [ 0.]</br> [ 0.]</br> [ 0.]</br> [ 0.]</br> [ 0.]</br> [ 0.]</br> [ 0.]</br> [ 0.]</br> [ 0.]</br> [ 0.]</br> [ 0.]</br> [ 0.]</br> [ 0.]</br> [ 0.]</br> [ 0.]</br> [ 0.]</br> [ 0.]</br> [ 0.]</br> [ 0.]</br> [ 0.]</br> [ 0.]</br> [ 0.]</br> [ 0.]</br> [ 0.]</br> [ 0.]</br> [ 0.]</br> [ 0.]</br> [ 0.]</br> [ 0.]</br> [ 0.]</br> [ 0.]</br> [ 0.]</br> [ 0.]</br> [ 0.]</br> [ 0.]</br> [ 0.]</br> [ 0.]</br> [ 0.]</br> [ 0.]</br> [ 0.]</br> [ 0.]</br> [ 0.]</br> [ 0.]</br> [ 0.]</br> [ 0.]</br> [ 0.]</br> [ 0.]</br> [ 0.]</br> [ 0.]</br> [ 0.]</br> [ 0.]</br> [ 0.]</br> [ 0.]</br> [ 0.]</br> [ 0.]</br> [ 0.]</br> [ 0.]</br> [ 0.]</br> [ 0.]</br> [ 0.]</br> [ 0.]</br> [ 0.]</br> [ 0.]</br> [ 0.]</br> [ 0.]</br> [ 0.]</br> [ 0.]]</td><td>N([ 0.],[ 1.])</td><td>(none)</td></tr><tr><td>adaptive_gp.kern1.lengthscales</td><td>[ 1.]</td><td>None</td><td>+ve</td></tr><tr><td>adaptive_gp.kern1.variance</td><td>[ 1.]</td><td>None</td><td>+ve</td></tr><tr><td>adaptive_gp.kern2.lengthscales</td><td>[ 1.]</td><td>None</td><td>+ve</td></tr><tr><td>adaptive_gp.kern2.variance</td><td>[ 1.]</td><td>None</td><td>+ve</td></tr><tr><td>adaptive_gp.kern3.lengthscales</td><td>[ 1.]</td><td>None</td><td>+ve</td></tr><tr><td>adaptive_gp.kern3.variance</td><td>[ 1.]</td><td>None</td><td>+ve</td></tr></table>"
      ],
      "text/plain": [
       "<GPHetero.hetero_gpmc.GPMCAdaptive at 0x114a24350>"
      ]
     },
     "execution_count": 4,
     "metadata": {},
     "output_type": "execute_result"
    }
   ],
   "source": [
    "m"
   ]
  },
  {
   "cell_type": "code",
   "execution_count": 5,
   "metadata": {
    "collapsed": true
   },
   "outputs": [],
   "source": [
    "#m.kern1.lengthscales.prior = gpflow.priors.Gamma(1., 1.)\n",
    "#m.kern1.variance.prior = gpflow.priors.Gamma(1.,1.)\n",
    "\n",
    "#m.kern2.lengthscales.prior = gpflow.priors.Gamma(1., 1.)\n",
    "#m.kern2.variance.prior = gpflow.priors.Gamma(1.,1.)\n",
    "\n",
    "m.kern1.lengthscales.prior = gpflow.priors.Gamma(1., 1.)\n",
    "m.kern1.lengthscales = 1\n",
    "m.kern1.lengthscales.fixed = True\n",
    "m.kern1.variance = 1.\n",
    "m.kern1.variance.fixed = True\n",
    "\n",
    "#m.kern2.lengthscales.prior = gpflow.priors.Gamma(1., 1.)\n",
    "m.kern2.lengthscales = 1\n",
    "m.kern2.lengthscales.fixed = True\n",
    "m.kern2.variance = 40.\n",
    "m.kern2.variance.fixed = True\n",
    "#m.kern1.variance.prior = gpflow.priors.Gamma(1., 1.)\n",
    "\n",
    "m.kern3.lengthscales.prior = gpflow.priors.Gamma(1., 1.)\n",
    "#m.kern3.variance.prior = gpflow.priors.Gamma(1., 1.)\n",
    "m.kern3.variance = 100.\n",
    "m.kern3.variance.fixed = True"
   ]
  },
  {
   "cell_type": "code",
   "execution_count": 6,
   "metadata": {
    "scrolled": true
   },
   "outputs": [
    {
     "data": {
      "text/plain": [
       "      fun: array([ 739.65364105])\n",
       " hess_inv: <382x382 LbfgsInvHessProduct with dtype=float64>\n",
       "      jac: array([  1.29720430e+00,   3.07924805e+00,   3.78716814e-01,\n",
       "        -5.42137587e-02,  -2.15033515e-01,  -5.13388773e-01,\n",
       "        -7.86351495e-01,  -4.48285563e-01,  -3.72843924e-01,\n",
       "        -7.27914944e-02,  -2.19432519e-01,  -3.75569519e-01,\n",
       "        -2.49696568e-01,  -1.80816212e-01,  -2.42256738e-01,\n",
       "        -2.45978821e-01,  -2.41142036e-01,  -6.21572392e-01,\n",
       "        -2.59479867e-01,  -2.67839086e-01,  -5.60921341e-01,\n",
       "        -1.42640862e-01,  -2.82936815e-01,  -1.62601521e-01,\n",
       "        -1.10649302e-01,  -9.02690463e-02,  -8.33279130e-02,\n",
       "        -8.86585227e-02,  -1.02694461e-01,  -1.00173012e-01,\n",
       "        -3.20585728e-01,  -1.32528021e-01,  -2.04012988e-01,\n",
       "        -1.63422467e-01,   3.65011409e-02,  -4.01139738e-02,\n",
       "        -1.94476734e-01,   1.77362222e-02,  -1.33499153e-01,\n",
       "         3.35695342e-02,   6.13055812e-02,  -1.20776168e-01,\n",
       "        -7.73746372e-02,  -2.06103139e-02,  -6.68481699e-03,\n",
       "        -6.74345048e-02,  -7.78887630e-03,  -1.84694776e-02,\n",
       "        -2.33490349e-02,  -2.19074289e-02,  -1.49684444e-02,\n",
       "        -1.79073834e-02,  -1.09931345e-02,  -2.53820723e-02,\n",
       "        -2.02302161e-02,  -1.59539088e-02,  -2.31985654e-02,\n",
       "        -1.45772707e-02,  -1.05285739e-02,  -2.19271831e-02,\n",
       "        -1.84076660e-02,  -1.47583288e-02,  -7.36445204e-03,\n",
       "        -1.16707490e-02,  -9.28754907e-03,  -5.65156846e-03,\n",
       "        -3.45460281e-03,  -2.94479098e-03,  -1.50739079e-03,\n",
       "        -8.45617755e-04,  -2.50852412e-04,  -9.15080189e-06,\n",
       "         7.17613677e-04,   2.74580696e-03,   3.32756003e-03,\n",
       "         1.41350314e-03,   2.57739831e-03,   1.97813946e-03,\n",
       "         2.39969691e-03,   1.23390616e-03,   7.18676868e-04,\n",
       "         3.78770151e-04,   2.70791197e-04,  -1.43056051e-04,\n",
       "        -4.64119464e-04,  -1.24047753e-03,  -1.38183997e-03,\n",
       "        -1.50673415e-03,  -1.66428899e-03,  -1.03830901e-03,\n",
       "        -6.96774892e-04,  -5.47064549e-04,  -1.39668988e-04,\n",
       "        -1.89751732e-04,  -1.31231611e+00,   1.04130074e+00,\n",
       "         1.05534002e-01,   3.77116387e-01,   2.18097985e-01,\n",
       "        -7.08808810e-01,  -5.50310126e-01,  -6.99905963e-02,\n",
       "         8.51176820e-03,  -1.90404121e-01,  -4.24672722e-01,\n",
       "        -2.83179046e-01,  -5.07548915e-02,  -1.04386431e-02,\n",
       "        -1.14981424e-02,   8.55715962e-03,   3.17685031e-05,\n",
       "        -9.54315177e-02,  -1.00598863e-01,  -9.93035676e-02,\n",
       "        -2.14147316e-01,  -8.01282960e-02,  -2.01364432e-01,\n",
       "        -1.40918446e-01,  -1.56154473e-01,  -1.85665578e-01,\n",
       "        -2.11416202e-01,  -2.32432298e-01,  -2.50677001e-01,\n",
       "        -2.58556784e-01,  -5.15052711e-01,  -2.57170457e-01,\n",
       "        -5.05473438e-01,  -4.57184897e-01,  -2.73349067e-01,\n",
       "        -2.74773636e-01,  -5.14536712e-01,  -3.17947516e-01,\n",
       "        -5.55452164e-01,  -2.72456198e-01,  -3.54028359e-01,\n",
       "        -2.85892700e-01,  -6.27238680e-01,  -2.15179322e-01,\n",
       "        -3.43852037e-01,  -2.15595703e-01,  -2.63139060e-01,\n",
       "        -2.64075831e-01,  -2.40217142e-01,  -1.63224924e-01,\n",
       "        -1.95660752e-01,  -1.52134128e-01,  -1.33134451e-01,\n",
       "        -2.05654203e-01,  -1.24864566e-01,  -1.38126249e-01,\n",
       "        -1.57808449e-01,  -8.95093299e-02,  -7.64250066e-02,\n",
       "        -1.34464620e-01,  -1.09703715e-01,  -8.55768189e-02,\n",
       "        -3.91073726e-02,  -6.69305050e-02,  -5.20895375e-02,\n",
       "        -3.29860290e-02,  -2.27452129e-02,  -2.26641111e-02,\n",
       "        -1.55608338e-02,  -1.16944977e-02,  -8.09504153e-03,\n",
       "        -6.27245695e-03,  -7.57412085e-03,  -6.26512097e-03,\n",
       "         1.70593831e-03,   1.03324852e-03,   2.79259029e-03,\n",
       "         2.20442933e-03,   3.29538092e-03,   2.33930017e-03,\n",
       "         1.64801957e-03,   1.04283826e-03,   1.79474578e-03,\n",
       "         7.19113551e-04,   3.09511432e-04,  -2.82858996e-04,\n",
       "        -1.00427414e-03,  -1.01710529e-03,  -8.88609561e-04,\n",
       "        -6.67622538e-04,  -3.99744139e-04,  -1.78638060e-04,\n",
       "        -2.61969806e-05,  -2.69829310e-05,   4.59044753e+00,\n",
       "         1.73483297e+00,   2.26139761e+00,   1.40851102e+00,\n",
       "         1.30170084e+00,   1.89211725e+00,   1.78978253e+00,\n",
       "         6.68422003e-01,   1.34298101e+00,   1.04329262e+00,\n",
       "         1.07769337e+00,   1.25514404e+00,   9.81614676e-01,\n",
       "         6.56876782e-01,   7.97994554e-01,   5.93869758e-01,\n",
       "         5.56104267e-01,   9.04723347e-01,   2.86540923e-01,\n",
       "         1.57158732e-01,   1.73559460e-01,   4.20046355e-02,\n",
       "         4.48168942e-02,   3.43580807e-02,   4.31456770e-02,\n",
       "         6.12041093e-02,   7.89623557e-02,   1.02234057e-01,\n",
       "         1.34863108e-01,   1.66435000e-01,   4.70619699e-01,\n",
       "         2.90489779e-01,   8.54454373e-01,   9.14859178e-01,\n",
       "         6.13521628e-01,   7.52497590e-01,   1.47813684e+00,\n",
       "         7.84115863e-01,   1.90909830e+00,   8.86394369e-01,\n",
       "         1.55829201e+00,   1.08447481e+00,   2.34428839e+00,\n",
       "         9.02670285e-01,   2.08724524e+00,   9.23773702e-01,\n",
       "         1.21523864e+00,   1.08830023e+00,   1.00037005e+00,\n",
       "         6.73699620e-01,   9.24484543e-01,   5.92335471e-01,\n",
       "         5.27256516e-01,   7.62914767e-01,   3.32109561e-01,\n",
       "         4.12375716e-01,   4.14453941e-01,   1.76079648e-01,\n",
       "         1.49757426e-01,   2.13516882e-01,   7.13111959e-02,\n",
       "        -3.42728780e-03,  -1.77508056e-02,  -5.81789036e-02,\n",
       "        -4.66016544e-02,  -1.49899321e-02,   3.57743878e-03,\n",
       "         3.15471591e-02,   6.18549712e-02,   1.13379483e-01,\n",
       "         1.01683628e-01,   1.18852980e-01,   2.44486897e-01,\n",
       "         5.03225458e-01,   8.18475199e-01,   3.05546473e-01,\n",
       "         7.62651452e-01,   5.66289661e-01,   9.80443770e-01,\n",
       "         9.13065474e-01,   6.07407921e-01,   4.34998295e-01,\n",
       "         8.84441076e-01,   5.33163348e-01,   6.65812801e-01,\n",
       "         7.34098495e-01,   6.37782959e-01,   4.03079296e-01,\n",
       "         3.57852052e-01,   2.32184141e-01,   1.31018491e-01,\n",
       "         6.91527605e-02,   2.49994500e-02,   1.25629805e-02,\n",
       "         8.34153399e-02,  -8.44671345e-03,   1.58343004e-01,\n",
       "         2.20853059e-01,   2.03091795e-01,   2.13710429e-01,\n",
       "        -1.63927007e-02,   8.46132114e-02,   7.38541075e-01,\n",
       "         6.68772306e-01,   7.90543889e-01,   4.87845064e-01,\n",
       "         2.79326584e-01,   2.23348541e-01,   3.70754425e-01,\n",
       "         3.57970646e-01,   3.53989417e-01,   5.62703683e-01,\n",
       "         2.04249382e-01,   1.26821895e-01,   2.07982160e-01,\n",
       "         7.87036095e-02,   1.85299849e-01,   1.35927185e-01,\n",
       "         1.64016703e-01,   1.80833045e-01,   1.87095572e-01,\n",
       "         1.87886307e-01,   1.82608500e-01,   1.68986463e-01,\n",
       "         2.48856439e-01,   8.64167047e-02,   1.28321112e-01,\n",
       "         6.72242332e-02,   1.47673626e-02,   2.33869709e-02,\n",
       "        -4.01460190e-04,  -2.49371095e-02,  -5.72739129e-02,\n",
       "        -6.01184799e-02,  -9.35666350e-02,  -7.74668857e-02,\n",
       "        -2.38633706e-01,  -1.15483640e-01,  -2.01410460e-01,\n",
       "        -8.33431653e-02,  -1.43399320e-01,  -9.71161118e-02,\n",
       "        -8.09955527e-02,  -5.40763147e-02,  -8.20384557e-02,\n",
       "        -4.38191886e-02,  -5.11817011e-02,  -7.05395124e-02,\n",
       "        -3.16262525e-02,  -6.30107035e-02,  -4.94187563e-02,\n",
       "        -2.62371325e-02,  -3.59991656e-02,  -4.90472463e-02,\n",
       "        -4.55721624e-02,  -4.06822364e-02,  -1.65048539e-02,\n",
       "        -3.56101098e-02,  -3.04868421e-02,  -2.44851297e-02,\n",
       "        -1.74208142e-02,  -1.95077021e-02,  -1.40486757e-02,\n",
       "        -1.30065328e-02,  -8.91763133e-03,  -7.95533980e-03,\n",
       "        -1.19573155e-02,  -1.46378913e-02,  -6.48462145e-03,\n",
       "        -3.38564538e-03,  -5.23080477e-03,  -4.92628543e-03,\n",
       "        -7.02294841e-03,  -5.63911773e-03,  -4.49596955e-03,\n",
       "        -3.62859243e-03,  -9.06091904e-03,  -5.79519506e-03,\n",
       "        -8.04876093e-03,  -1.06750829e-02,  -8.52794470e-03,\n",
       "        -6.77675518e-03,  -6.04096534e-03,  -3.41991672e-03,\n",
       "        -1.85807432e-03,  -8.91272600e-04,  -1.55942276e-04,\n",
       "        -1.78473566e-04,  -3.38117363e-03,   2.55712801e-01,\n",
       "        -3.29702271e-01,  -1.58411770e+00,   3.54692036e+00,\n",
       "         2.14566286e+00])\n",
       "  message: 'STOP: TOTAL NO. of ITERATIONS EXCEEDS LIMIT'\n",
       "     nfev: 120\n",
       "      nit: 101\n",
       "   status: 1\n",
       "  success: False\n",
       "        x: array([  2.97736415e-01,  -1.62250551e-02,  -4.04224631e-02,\n",
       "        -1.27935980e-01,  -1.67922475e-01,  -2.14019270e-01,\n",
       "        -9.11694004e-02,  -6.66172279e-02,  -9.69278703e-02,\n",
       "        -5.25892279e-02,  -9.47286186e-02,  -1.17725314e-01,\n",
       "        -7.49186138e-02,  -5.31901566e-02,  -7.27654054e-02,\n",
       "        -7.14011279e-02,  -6.58448806e-02,  -1.34499436e-01,\n",
       "        -6.59839084e-02,  -5.62653702e-02,  -1.12393753e-01,\n",
       "        -5.11098462e-02,  -8.45722512e-02,  -5.34712150e-02,\n",
       "        -5.28785740e-02,  -5.68944376e-02,  -6.16121836e-02,\n",
       "        -6.60921092e-02,  -6.97466179e-02,  -7.18185046e-02,\n",
       "        -1.32742181e-01,  -7.23450516e-02,  -1.14505278e-01,\n",
       "        -1.06384420e-01,  -6.70914374e-02,  -6.81552124e-02,\n",
       "        -1.18929677e-01,  -7.95044393e-02,  -1.20815962e-01,\n",
       "        -6.57516378e-02,  -8.70460296e-02,  -7.19881689e-02,\n",
       "        -1.30691584e-01,  -7.01655448e-02,  -7.97422049e-02,\n",
       "        -5.25469199e-02,  -6.94078924e-02,  -6.49825650e-02,\n",
       "        -6.00363523e-02,  -4.24711899e-02,  -5.17756666e-02,\n",
       "        -3.82849915e-02,  -3.59592690e-02,  -5.56808647e-02,\n",
       "        -3.48918880e-02,  -4.02248116e-02,  -4.67944792e-02,\n",
       "        -2.78556598e-02,  -2.42183556e-02,  -4.27296016e-02,\n",
       "        -3.71565392e-02,  -2.99645077e-02,  -1.44196978e-02,\n",
       "        -2.44813445e-02,  -2.08515225e-02,  -1.41072781e-02,\n",
       "        -1.00327437e-02,  -1.04454160e-02,  -7.48940314e-03,\n",
       "        -6.04005755e-03,  -4.18461518e-03,  -3.41037082e-03,\n",
       "        -4.41341297e-03,  -4.01167232e-03,   6.18385365e-04,\n",
       "         5.92523867e-04,   1.91675635e-03,   1.81004912e-03,\n",
       "         3.40931917e-03,   3.18419760e-03,   2.64539709e-03,\n",
       "         2.04806283e-03,   4.63075281e-03,   2.46827748e-03,\n",
       "         2.82243862e-03,   4.36566238e-03,   3.37068225e-03,\n",
       "         2.77578810e-03,   2.74834689e-03,   1.75477648e-03,\n",
       "         1.15999562e-03,   8.11855678e-04,   2.01714054e-04,\n",
       "         2.71913326e-04,   3.26418566e-01,   1.20735924e-01,\n",
       "         7.11754724e-01,   1.06644103e+00,   7.70804193e-01,\n",
       "         1.23944502e+00,   1.08251913e+00,   8.04564872e-01,\n",
       "         1.21576075e+00,   4.61055618e-01,   6.05820780e-01,\n",
       "         7.12453948e-01,   4.47734116e-01,   3.20366188e-01,\n",
       "         4.04234067e-01,   3.92310590e-01,   3.35783354e-01,\n",
       "         5.04766995e-01,   1.62357510e-01,   1.24522276e-01,\n",
       "         2.37683161e-01,   1.11855941e-01,   1.38372206e-01,\n",
       "         8.08318879e-02,   6.64953941e-02,   6.22968615e-02,\n",
       "         5.97083381e-02,   5.78970821e-02,   5.67337014e-02,\n",
       "         5.42161486e-02,   9.09741456e-02,   4.64834678e-02,\n",
       "         6.87974412e-02,   5.47075480e-02,   3.13437440e-02,\n",
       "         2.84543009e-02,   4.74024917e-02,   2.94735130e-02,\n",
       "         4.60946825e-02,   2.24481376e-02,   2.66548783e-02,\n",
       "         2.11285393e-02,   4.57023447e-02,   1.62113056e-02,\n",
       "         2.50682136e-02,   1.59696008e-02,   1.93701341e-02,\n",
       "         1.97204487e-02,   1.81410470e-02,   1.22560647e-02,\n",
       "         1.45574874e-02,   1.18991109e-02,   1.01209144e-02,\n",
       "         1.54201977e-02,   9.83927006e-03,   1.06368680e-02,\n",
       "         1.24734763e-02,   7.41119939e-03,   6.02986841e-03,\n",
       "         1.08771279e-02,   8.66260671e-03,   6.27570618e-03,\n",
       "         2.82723247e-03,   4.22318103e-03,   2.88203920e-03,\n",
       "         1.38959274e-03,   6.69812254e-04,   2.62702107e-04,\n",
       "        -1.07737216e-04,  -4.15342764e-04,  -3.82380901e-04,\n",
       "        -4.56433992e-04,  -9.27292599e-04,  -1.70049682e-03,\n",
       "        -1.15460856e-03,  -4.60951532e-04,  -5.95916863e-04,\n",
       "        -3.77446641e-04,  -1.03801891e-04,   2.48326662e-04,\n",
       "         2.85952797e-04,   3.43348735e-04,   1.08935578e-03,\n",
       "         8.18225634e-04,   1.08238347e-03,   1.89619445e-03,\n",
       "         1.54529605e-03,   1.50134240e-03,   1.70883023e-03,\n",
       "         1.05402801e-03,   6.84880676e-04,   5.90727540e-04,\n",
       "         1.61098962e-04,   2.21790461e-04,   2.64314476e-01,\n",
       "        -8.29384209e-01,   1.98690048e-01,   5.30841437e-01,\n",
       "         4.98546994e-01,   6.98444474e-01,   8.75380847e-01,\n",
       "         3.07709901e-01,   5.01742884e-01,   2.92059120e-01,\n",
       "         2.40976709e-01,   3.57350863e-01,   2.82017544e-01,\n",
       "         1.64760400e-01,   1.59962974e-01,   9.87616029e-02,\n",
       "         1.24983691e-01,   3.29386524e-01,   2.26304232e-01,\n",
       "         1.54508250e-01,   2.81425348e-01,   1.43428790e-01,\n",
       "         3.38630536e-01,   1.83211526e-01,   1.89904298e-01,\n",
       "         2.01553878e-01,   2.02290426e-01,   2.04145363e-01,\n",
       "         2.09999681e-01,   2.16826552e-01,   4.36386468e-01,\n",
       "         2.08981674e-01,   4.49815046e-01,   3.51349431e-01,\n",
       "         2.07109119e-01,   2.37660803e-01,   4.01199370e-01,\n",
       "         1.93453264e-01,   4.35462922e-01,   1.87440931e-01,\n",
       "         3.22832764e-01,   2.10675260e-01,   4.67748701e-01,\n",
       "         2.06300873e-01,   5.03457432e-01,   2.16054286e-01,\n",
       "         2.92433884e-01,   2.81307583e-01,   2.93914455e-01,\n",
       "         2.17010784e-01,   3.28987126e-01,   2.27051453e-01,\n",
       "         2.08402625e-01,   3.40665683e-01,   1.68670661e-01,\n",
       "         2.48231449e-01,   3.12075392e-01,   1.59137724e-01,\n",
       "         1.59924168e-01,   3.08947700e-01,   2.42993405e-01,\n",
       "         2.31502798e-01,   9.27534434e-02,   1.91445677e-01,\n",
       "         1.61524904e-01,   1.54723508e-01,   1.22477912e-01,\n",
       "         1.48113880e-01,   1.29798785e-01,   1.64748914e-01,\n",
       "         1.30221238e-01,   1.37853213e-01,   2.54032180e-01,\n",
       "         4.15939143e-01,   5.44261476e-01,   1.71741922e-01,\n",
       "         4.05878429e-01,   2.75620814e-01,   4.08530026e-01,\n",
       "         2.90632144e-01,   1.64514025e-01,   1.11281729e-01,\n",
       "         1.93828943e-01,   1.10360842e-01,   1.09387311e-01,\n",
       "         1.45003521e-01,   2.29686956e-01,   2.47726586e-01,\n",
       "         3.39149731e-01,   3.36319697e-01,   2.42307819e-01,\n",
       "         1.56592632e-01,   5.76685033e-02,   4.06785696e-02,\n",
       "        -6.80312014e-01,   1.73763291e-02,  -1.59609338e-01,\n",
       "        -3.36687231e-01,  -3.96532452e-01,  -4.95989830e-01,\n",
       "        -2.33022729e-01,  -1.56197244e-01,  -2.84043645e-01,\n",
       "        -1.62628410e-01,  -2.45513904e-01,  -2.37465516e-01,\n",
       "        -1.08309538e-01,  -6.15195307e-02,  -5.05027586e-02,\n",
       "        -1.77702582e-02,   1.46062127e-02,   1.43518863e-01,\n",
       "         1.27220467e-01,   1.18792573e-01,   2.34757782e-01,\n",
       "         9.04591161e-02,   1.72354647e-01,   1.02100616e-01,\n",
       "         1.05010072e-01,   1.14971766e-01,   1.23213907e-01,\n",
       "         1.27295164e-01,   1.27617582e-01,   1.25793672e-01,\n",
       "         2.35862360e-01,   1.01435810e-01,   2.34235376e-01,\n",
       "         2.16451948e-01,   1.30012666e-01,   1.38304812e-01,\n",
       "         2.66908130e-01,   1.43114136e-01,   2.79318732e-01,\n",
       "         1.28625828e-01,   1.96960946e-01,   1.48137423e-01,\n",
       "         2.95264737e-01,   9.22701550e-02,   1.87858894e-01,\n",
       "         1.04472238e-01,   1.39567532e-01,   1.25336497e-01,\n",
       "         1.12827174e-01,   7.59703949e-02,   1.04362419e-01,\n",
       "         7.14343774e-02,   6.72042741e-02,   1.06786808e-01,\n",
       "         5.26047542e-02,   6.91022904e-02,   7.56981246e-02,\n",
       "         3.71224108e-02,   3.58463610e-02,   6.43938830e-02,\n",
       "         4.51998125e-02,   3.55437978e-02,   1.36391706e-02,\n",
       "         2.39907313e-02,   1.21898420e-02,   5.86591712e-03,\n",
       "         2.17968085e-03,  -5.35211189e-04,  -2.86303870e-03,\n",
       "        -3.79873336e-03,  -3.49722192e-03,  -3.47358401e-03,\n",
       "        -6.58835898e-03,  -1.24494441e-02,  -8.03835609e-03,\n",
       "        -3.57090469e-03,  -4.76186941e-03,  -3.71588712e-03,\n",
       "        -2.19597681e-03,   1.75565273e-03,   1.93321482e-03,\n",
       "         1.65650287e-03,   4.03875142e-03,   2.27363406e-03,\n",
       "         4.33195015e-03,   8.03084348e-03,   6.55083366e-03,\n",
       "         5.56514533e-03,   5.75859498e-03,   3.57454314e-03,\n",
       "         2.24823200e-03,   1.95035109e-03,   5.57612532e-04,\n",
       "         7.79082476e-04,   7.32927292e-02,   4.87370400e-03,\n",
       "         1.29943654e-01,   3.49021137e+00,  -5.74562946e-01,\n",
       "         4.46997420e+00])"
      ]
     },
     "execution_count": 6,
     "metadata": {},
     "output_type": "execute_result"
    }
   ],
   "source": [
    "m.optimize(maxiter=100) # start near MAP"
   ]
  },
  {
   "cell_type": "code",
   "execution_count": 7,
   "metadata": {},
   "outputs": [
    {
     "name": "stdout",
     "output_type": "stream",
     "text": [
      "burn-in sampling started\n",
      "warning: numerical instability.                  Rejecting this proposal prematurely\n",
      "warning: numerical instability.                  Rejecting this proposal prematurely\n",
      "warning: numerical instability.                  Rejecting this proposal prematurely\n"
     ]
    },
    {
     "ename": "InvalidArgumentError",
     "evalue": "Input matrix is not invertible.\n\t [[Node: gradients/adaptive_gp.build_likelihood/Cholesky_3_grad/MatrixTriangularSolve = MatrixTriangularSolve[T=DT_DOUBLE, adjoint=false, lower=true, _device=\"/job:localhost/replica:0/task:0/device:CPU:0\"](adaptive_gp.build_likelihood/Cholesky_3, gradients/adaptive_gp.build_likelihood/Cholesky_3_grad/eye/MatrixDiag)]]\n\nCaused by op u'gradients/adaptive_gp.build_likelihood/Cholesky_3_grad/MatrixTriangularSolve', defined at:\n  File \"/Users/nimishawalgaonkar/anaconda2/lib/python2.7/runpy.py\", line 174, in _run_module_as_main\n    \"__main__\", fname, loader, pkg_name)\n  File \"/Users/nimishawalgaonkar/anaconda2/lib/python2.7/runpy.py\", line 72, in _run_code\n    exec code in run_globals\n  File \"/Users/nimishawalgaonkar/anaconda2/lib/python2.7/site-packages/ipykernel/__main__.py\", line 3, in <module>\n    app.launch_new_instance()\n  File \"/Users/nimishawalgaonkar/anaconda2/lib/python2.7/site-packages/traitlets/config/application.py\", line 658, in launch_instance\n    app.start()\n  File \"/Users/nimishawalgaonkar/anaconda2/lib/python2.7/site-packages/ipykernel/kernelapp.py\", line 477, in start\n    ioloop.IOLoop.instance().start()\n  File \"/Users/nimishawalgaonkar/anaconda2/lib/python2.7/site-packages/zmq/eventloop/ioloop.py\", line 177, in start\n    super(ZMQIOLoop, self).start()\n  File \"/Users/nimishawalgaonkar/anaconda2/lib/python2.7/site-packages/tornado/ioloop.py\", line 888, in start\n    handler_func(fd_obj, events)\n  File \"/Users/nimishawalgaonkar/anaconda2/lib/python2.7/site-packages/tornado/stack_context.py\", line 277, in null_wrapper\n    return fn(*args, **kwargs)\n  File \"/Users/nimishawalgaonkar/anaconda2/lib/python2.7/site-packages/zmq/eventloop/zmqstream.py\", line 440, in _handle_events\n    self._handle_recv()\n  File \"/Users/nimishawalgaonkar/anaconda2/lib/python2.7/site-packages/zmq/eventloop/zmqstream.py\", line 472, in _handle_recv\n    self._run_callback(callback, msg)\n  File \"/Users/nimishawalgaonkar/anaconda2/lib/python2.7/site-packages/zmq/eventloop/zmqstream.py\", line 414, in _run_callback\n    callback(*args, **kwargs)\n  File \"/Users/nimishawalgaonkar/anaconda2/lib/python2.7/site-packages/tornado/stack_context.py\", line 277, in null_wrapper\n    return fn(*args, **kwargs)\n  File \"/Users/nimishawalgaonkar/anaconda2/lib/python2.7/site-packages/ipykernel/kernelbase.py\", line 283, in dispatcher\n    return self.dispatch_shell(stream, msg)\n  File \"/Users/nimishawalgaonkar/anaconda2/lib/python2.7/site-packages/ipykernel/kernelbase.py\", line 235, in dispatch_shell\n    handler(stream, idents, msg)\n  File \"/Users/nimishawalgaonkar/anaconda2/lib/python2.7/site-packages/ipykernel/kernelbase.py\", line 399, in execute_request\n    user_expressions, allow_stdin)\n  File \"/Users/nimishawalgaonkar/anaconda2/lib/python2.7/site-packages/ipykernel/ipkernel.py\", line 196, in do_execute\n    res = shell.run_cell(code, store_history=store_history, silent=silent)\n  File \"/Users/nimishawalgaonkar/anaconda2/lib/python2.7/site-packages/ipykernel/zmqshell.py\", line 533, in run_cell\n    return super(ZMQInteractiveShell, self).run_cell(*args, **kwargs)\n  File \"/Users/nimishawalgaonkar/anaconda2/lib/python2.7/site-packages/IPython/core/interactiveshell.py\", line 2718, in run_cell\n    interactivity=interactivity, compiler=compiler, result=result)\n  File \"/Users/nimishawalgaonkar/anaconda2/lib/python2.7/site-packages/IPython/core/interactiveshell.py\", line 2828, in run_ast_nodes\n    if self.run_code(code, result):\n  File \"/Users/nimishawalgaonkar/anaconda2/lib/python2.7/site-packages/IPython/core/interactiveshell.py\", line 2882, in run_code\n    exec(code_obj, self.user_global_ns, self.user_ns)\n  File \"<ipython-input-6-60108ba1597a>\", line 1, in <module>\n    m.optimize(maxiter=100) # start near MAP\n  File \"/Users/nimishawalgaonkar/anaconda2/lib/python2.7/site-packages/gpflow-0.4.0-py2.7.egg/gpflow/model.py\", line 250, in optimize\n    return self._optimize_np(method, tol, callback, maxiter, **kw)\n  File \"/Users/nimishawalgaonkar/anaconda2/lib/python2.7/site-packages/gpflow-0.4.0-py2.7.egg/gpflow/model.py\", line 311, in _optimize_np\n    self.compile()\n  File \"../GPHetero/hetero_gpmc.py\", line 270, in compile\n    optimizer=optimizer)\n  File \"/Users/nimishawalgaonkar/anaconda2/lib/python2.7/site-packages/gpflow-0.4.0-py2.7.egg/gpflow/model.py\", line 157, in compile\n    g = tf.gradients(f, self._free_vars)[0]\n  File \"/Users/nimishawalgaonkar/anaconda2/lib/python2.7/site-packages/tensorflow/python/ops/gradients_impl.py\", line 488, in gradients\n    gate_gradients, aggregation_method, stop_gradients)\n  File \"/Users/nimishawalgaonkar/anaconda2/lib/python2.7/site-packages/tensorflow/python/ops/gradients_impl.py\", line 625, in _GradientsHelper\n    lambda: grad_fn(op, *out_grads))\n  File \"/Users/nimishawalgaonkar/anaconda2/lib/python2.7/site-packages/tensorflow/python/ops/gradients_impl.py\", line 379, in _MaybeCompile\n    return grad_fn()  # Exit early\n  File \"/Users/nimishawalgaonkar/anaconda2/lib/python2.7/site-packages/tensorflow/python/ops/gradients_impl.py\", line 625, in <lambda>\n    lambda: grad_fn(op, *out_grads))\n  File \"/Users/nimishawalgaonkar/anaconda2/lib/python2.7/site-packages/tensorflow/python/ops/linalg_grad.py\", line 70, in _CholeskyGrad\n    dtype=l.dtype))\n  File \"/Users/nimishawalgaonkar/anaconda2/lib/python2.7/site-packages/tensorflow/python/ops/gen_linalg_ops.py\", line 1398, in matrix_triangular_solve\n    adjoint=adjoint, name=name)\n  File \"/Users/nimishawalgaonkar/anaconda2/lib/python2.7/site-packages/tensorflow/python/framework/op_def_library.py\", line 787, in _apply_op_helper\n    op_def=op_def)\n  File \"/Users/nimishawalgaonkar/anaconda2/lib/python2.7/site-packages/tensorflow/python/framework/ops.py\", line 3290, in create_op\n    op_def=op_def)\n  File \"/Users/nimishawalgaonkar/anaconda2/lib/python2.7/site-packages/tensorflow/python/framework/ops.py\", line 1654, in __init__\n    self._traceback = self._graph._extract_stack()  # pylint: disable=protected-access\n\n...which was originally created as op u'adaptive_gp.build_likelihood/Cholesky_3', defined at:\n  File \"/Users/nimishawalgaonkar/anaconda2/lib/python2.7/runpy.py\", line 174, in _run_module_as_main\n    \"__main__\", fname, loader, pkg_name)\n[elided 22 identical lines from previous traceback]\n  File \"../GPHetero/hetero_gpmc.py\", line 270, in compile\n    optimizer=optimizer)\n  File \"/Users/nimishawalgaonkar/anaconda2/lib/python2.7/site-packages/gpflow-0.4.0-py2.7.egg/gpflow/model.py\", line 156, in compile\n    f = self.build_likelihood() + self.build_prior()\n  File \"/Users/nimishawalgaonkar/anaconda2/lib/python2.7/site-packages/gpflow-0.4.0-py2.7.egg/gpflow/scoping.py\", line 43, in runnable\n    return f(*args, **kwargs)\n  File \"../GPHetero/hetero_gpmc.py\", line 301, in build_likelihood\n    Lnonstat = tf.cholesky(Knonstat + tf.eye(tf.shape(self.X)[0], dtype=float_type)*settings.numerics.jitter_level)\n  File \"/Users/nimishawalgaonkar/anaconda2/lib/python2.7/site-packages/tensorflow/python/ops/gen_linalg_ops.py\", line 704, in cholesky\n    \"Cholesky\", input=input, name=name)\n  File \"/Users/nimishawalgaonkar/anaconda2/lib/python2.7/site-packages/tensorflow/python/framework/op_def_library.py\", line 787, in _apply_op_helper\n    op_def=op_def)\n  File \"/Users/nimishawalgaonkar/anaconda2/lib/python2.7/site-packages/tensorflow/python/framework/ops.py\", line 3290, in create_op\n    op_def=op_def)\n  File \"/Users/nimishawalgaonkar/anaconda2/lib/python2.7/site-packages/tensorflow/python/framework/ops.py\", line 1654, in __init__\n    self._traceback = self._graph._extract_stack()  # pylint: disable=protected-access\n\nInvalidArgumentError (see above for traceback): Input matrix is not invertible.\n\t [[Node: gradients/adaptive_gp.build_likelihood/Cholesky_3_grad/MatrixTriangularSolve = MatrixTriangularSolve[T=DT_DOUBLE, adjoint=false, lower=true, _device=\"/job:localhost/replica:0/task:0/device:CPU:0\"](adaptive_gp.build_likelihood/Cholesky_3, gradients/adaptive_gp.build_likelihood/Cholesky_3_grad/eye/MatrixDiag)]]\n",
     "output_type": "error",
     "traceback": [
      "\u001b[0;31m---------------------------------------------------------------------------\u001b[0m",
      "\u001b[0;31mInvalidArgumentError\u001b[0m                      Traceback (most recent call last)",
      "\u001b[0;32m<ipython-input-7-4c4de83016d4>\u001b[0m in \u001b[0;36m<module>\u001b[0;34m()\u001b[0m\n\u001b[0;32m----> 1\u001b[0;31m \u001b[0msamples\u001b[0m \u001b[0;34m=\u001b[0m \u001b[0mm\u001b[0m\u001b[0;34m.\u001b[0m\u001b[0msample\u001b[0m\u001b[0;34m(\u001b[0m\u001b[0;36m1000\u001b[0m\u001b[0;34m,\u001b[0m \u001b[0mverbose\u001b[0m\u001b[0;34m=\u001b[0m\u001b[0mTrue\u001b[0m\u001b[0;34m,\u001b[0m \u001b[0mepsilon\u001b[0m\u001b[0;34m=\u001b[0m\u001b[0;36m0.05\u001b[0m\u001b[0;34m,\u001b[0m \u001b[0mthin\u001b[0m \u001b[0;34m=\u001b[0m \u001b[0;36m2\u001b[0m\u001b[0;34m,\u001b[0m \u001b[0mburn\u001b[0m \u001b[0;34m=\u001b[0m \u001b[0;36m500\u001b[0m\u001b[0;34m,\u001b[0m \u001b[0mLmax\u001b[0m \u001b[0;34m=\u001b[0m \u001b[0;36m40\u001b[0m\u001b[0;34m)\u001b[0m\u001b[0;34m\u001b[0m\u001b[0m\n\u001b[0m",
      "\u001b[0;32m/Users/nimishawalgaonkar/anaconda2/lib/python2.7/site-packages/gpflow-0.4.0-py2.7.egg/gpflow/model.pyc\u001b[0m in \u001b[0;36msample\u001b[0;34m(self, num_samples, Lmin, Lmax, epsilon, thin, burn, verbose, return_logprobs, RNG)\u001b[0m\n\u001b[1;32m    217\u001b[0m                               \u001b[0mLmin\u001b[0m\u001b[0;34m=\u001b[0m\u001b[0mLmin\u001b[0m\u001b[0;34m,\u001b[0m \u001b[0mLmax\u001b[0m\u001b[0;34m=\u001b[0m\u001b[0mLmax\u001b[0m\u001b[0;34m,\u001b[0m \u001b[0mepsilon\u001b[0m\u001b[0;34m=\u001b[0m\u001b[0mepsilon\u001b[0m\u001b[0;34m,\u001b[0m \u001b[0mthin\u001b[0m\u001b[0;34m=\u001b[0m\u001b[0mthin\u001b[0m\u001b[0;34m,\u001b[0m \u001b[0mburn\u001b[0m\u001b[0;34m=\u001b[0m\u001b[0mburn\u001b[0m\u001b[0;34m,\u001b[0m\u001b[0;34m\u001b[0m\u001b[0m\n\u001b[1;32m    218\u001b[0m                               \u001b[0mx0\u001b[0m\u001b[0;34m=\u001b[0m\u001b[0mself\u001b[0m\u001b[0;34m.\u001b[0m\u001b[0mget_free_state\u001b[0m\u001b[0;34m(\u001b[0m\u001b[0;34m)\u001b[0m\u001b[0;34m,\u001b[0m \u001b[0mverbose\u001b[0m\u001b[0;34m=\u001b[0m\u001b[0mverbose\u001b[0m\u001b[0;34m,\u001b[0m\u001b[0;34m\u001b[0m\u001b[0m\n\u001b[0;32m--> 219\u001b[0;31m                               return_logprobs=return_logprobs, RNG=RNG)\n\u001b[0m\u001b[1;32m    220\u001b[0m \u001b[0;34m\u001b[0m\u001b[0m\n\u001b[1;32m    221\u001b[0m     def optimize(self, method='L-BFGS-B', tol=None, callback=None,\n",
      "\u001b[0;32m/Users/nimishawalgaonkar/anaconda2/lib/python2.7/site-packages/gpflow-0.4.0-py2.7.egg/gpflow/hmc.pyc\u001b[0m in \u001b[0;36msample_HMC\u001b[0;34m(f, num_samples, Lmin, Lmax, epsilon, x0, verbose, thin, burn, RNG, return_logprobs)\u001b[0m\n\u001b[1;32m     61\u001b[0m         samples = sample_HMC(f, num_samples=burn, Lmin=Lmin, Lmax=Lmax,\n\u001b[1;32m     62\u001b[0m                              \u001b[0mepsilon\u001b[0m\u001b[0;34m=\u001b[0m\u001b[0mepsilon\u001b[0m\u001b[0;34m,\u001b[0m \u001b[0mx0\u001b[0m\u001b[0;34m=\u001b[0m\u001b[0mx0\u001b[0m\u001b[0;34m,\u001b[0m\u001b[0;34m\u001b[0m\u001b[0m\n\u001b[0;32m---> 63\u001b[0;31m                              verbose=verbose, thin=1, burn=0, RNG=RNG)\n\u001b[0m\u001b[1;32m     64\u001b[0m         \u001b[0;32mif\u001b[0m \u001b[0mverbose\u001b[0m\u001b[0;34m:\u001b[0m\u001b[0;34m\u001b[0m\u001b[0m\n\u001b[1;32m     65\u001b[0m             \u001b[0;32mprint\u001b[0m\u001b[0;34m(\u001b[0m\u001b[0;34m\"burn-in sampling ended\"\u001b[0m\u001b[0;34m)\u001b[0m\u001b[0;34m\u001b[0m\u001b[0m\n",
      "\u001b[0;32m/Users/nimishawalgaonkar/anaconda2/lib/python2.7/site-packages/gpflow-0.4.0-py2.7.egg/gpflow/hmc.pyc\u001b[0m in \u001b[0;36msample_HMC\u001b[0;34m(f, num_samples, Lmin, Lmax, epsilon, x0, verbose, thin, burn, RNG, return_logprobs)\u001b[0m\n\u001b[1;32m     94\u001b[0m         \u001b[0;32mfor\u001b[0m \u001b[0ml\u001b[0m \u001b[0;32min\u001b[0m \u001b[0mrange\u001b[0m\u001b[0;34m(\u001b[0m\u001b[0mRNG\u001b[0m\u001b[0;34m.\u001b[0m\u001b[0mrandint\u001b[0m\u001b[0;34m(\u001b[0m\u001b[0mLmin\u001b[0m\u001b[0;34m,\u001b[0m \u001b[0mLmax\u001b[0m\u001b[0;34m)\u001b[0m\u001b[0;34m)\u001b[0m\u001b[0;34m:\u001b[0m\u001b[0;34m\u001b[0m\u001b[0m\n\u001b[1;32m     95\u001b[0m             \u001b[0mx\u001b[0m \u001b[0;34m+=\u001b[0m \u001b[0mepsilon\u001b[0m \u001b[0;34m*\u001b[0m \u001b[0mp\u001b[0m\u001b[0;34m\u001b[0m\u001b[0m\n\u001b[0;32m---> 96\u001b[0;31m             \u001b[0mlogprob\u001b[0m\u001b[0;34m,\u001b[0m \u001b[0mgrad\u001b[0m \u001b[0;34m=\u001b[0m \u001b[0mf\u001b[0m\u001b[0;34m(\u001b[0m\u001b[0mx\u001b[0m\u001b[0;34m)\u001b[0m\u001b[0;34m\u001b[0m\u001b[0m\n\u001b[0m\u001b[1;32m     97\u001b[0m             \u001b[0mlogprob\u001b[0m\u001b[0;34m,\u001b[0m \u001b[0mgrad\u001b[0m \u001b[0;34m=\u001b[0m \u001b[0;34m-\u001b[0m\u001b[0mlogprob\u001b[0m\u001b[0;34m,\u001b[0m \u001b[0;34m-\u001b[0m\u001b[0mgrad\u001b[0m\u001b[0;34m\u001b[0m\u001b[0m\n\u001b[1;32m     98\u001b[0m             \u001b[0;32mif\u001b[0m \u001b[0mnp\u001b[0m\u001b[0;34m.\u001b[0m\u001b[0many\u001b[0m\u001b[0;34m(\u001b[0m\u001b[0mnp\u001b[0m\u001b[0;34m.\u001b[0m\u001b[0misnan\u001b[0m\u001b[0;34m(\u001b[0m\u001b[0mgrad\u001b[0m\u001b[0;34m)\u001b[0m\u001b[0;34m)\u001b[0m\u001b[0;34m:\u001b[0m  \u001b[0;31m# pragma: no cover\u001b[0m\u001b[0;34m\u001b[0m\u001b[0m\n",
      "\u001b[0;32m/Users/nimishawalgaonkar/anaconda2/lib/python2.7/site-packages/gpflow-0.4.0-py2.7.egg/gpflow/model.pyc\u001b[0m in \u001b[0;36mobj\u001b[0;34m(x)\u001b[0m\n\u001b[1;32m    185\u001b[0m             \u001b[0mself\u001b[0m\u001b[0;34m.\u001b[0m\u001b[0mupdate_feed_dict\u001b[0m\u001b[0;34m(\u001b[0m\u001b[0mself\u001b[0m\u001b[0;34m.\u001b[0m\u001b[0m_feed_dict_keys\u001b[0m\u001b[0;34m,\u001b[0m \u001b[0mfeed_dict\u001b[0m\u001b[0;34m)\u001b[0m\u001b[0;34m\u001b[0m\u001b[0m\n\u001b[1;32m    186\u001b[0m             f, g = self.session.run([self._minusF, self._minusG],\n\u001b[0;32m--> 187\u001b[0;31m                                      feed_dict=feed_dict)\n\u001b[0m\u001b[1;32m    188\u001b[0m             \u001b[0;32mreturn\u001b[0m \u001b[0mf\u001b[0m\u001b[0;34m.\u001b[0m\u001b[0mastype\u001b[0m\u001b[0;34m(\u001b[0m\u001b[0mnp\u001b[0m\u001b[0;34m.\u001b[0m\u001b[0mfloat64\u001b[0m\u001b[0;34m)\u001b[0m\u001b[0;34m,\u001b[0m \u001b[0mg\u001b[0m\u001b[0;34m.\u001b[0m\u001b[0mastype\u001b[0m\u001b[0;34m(\u001b[0m\u001b[0mnp\u001b[0m\u001b[0;34m.\u001b[0m\u001b[0mfloat64\u001b[0m\u001b[0;34m)\u001b[0m\u001b[0;34m\u001b[0m\u001b[0m\n\u001b[1;32m    189\u001b[0m \u001b[0;34m\u001b[0m\u001b[0m\n",
      "\u001b[0;32m/Users/nimishawalgaonkar/anaconda2/lib/python2.7/site-packages/tensorflow/python/client/session.pyc\u001b[0m in \u001b[0;36mrun\u001b[0;34m(self, fetches, feed_dict, options, run_metadata)\u001b[0m\n\u001b[1;32m    903\u001b[0m     \u001b[0;32mtry\u001b[0m\u001b[0;34m:\u001b[0m\u001b[0;34m\u001b[0m\u001b[0m\n\u001b[1;32m    904\u001b[0m       result = self._run(None, fetches, feed_dict, options_ptr,\n\u001b[0;32m--> 905\u001b[0;31m                          run_metadata_ptr)\n\u001b[0m\u001b[1;32m    906\u001b[0m       \u001b[0;32mif\u001b[0m \u001b[0mrun_metadata\u001b[0m\u001b[0;34m:\u001b[0m\u001b[0;34m\u001b[0m\u001b[0m\n\u001b[1;32m    907\u001b[0m         \u001b[0mproto_data\u001b[0m \u001b[0;34m=\u001b[0m \u001b[0mtf_session\u001b[0m\u001b[0;34m.\u001b[0m\u001b[0mTF_GetBuffer\u001b[0m\u001b[0;34m(\u001b[0m\u001b[0mrun_metadata_ptr\u001b[0m\u001b[0;34m)\u001b[0m\u001b[0;34m\u001b[0m\u001b[0m\n",
      "\u001b[0;32m/Users/nimishawalgaonkar/anaconda2/lib/python2.7/site-packages/tensorflow/python/client/session.pyc\u001b[0m in \u001b[0;36m_run\u001b[0;34m(self, handle, fetches, feed_dict, options, run_metadata)\u001b[0m\n\u001b[1;32m   1138\u001b[0m     \u001b[0;32mif\u001b[0m \u001b[0mfinal_fetches\u001b[0m \u001b[0;32mor\u001b[0m \u001b[0mfinal_targets\u001b[0m \u001b[0;32mor\u001b[0m \u001b[0;34m(\u001b[0m\u001b[0mhandle\u001b[0m \u001b[0;32mand\u001b[0m \u001b[0mfeed_dict_tensor\u001b[0m\u001b[0;34m)\u001b[0m\u001b[0;34m:\u001b[0m\u001b[0;34m\u001b[0m\u001b[0m\n\u001b[1;32m   1139\u001b[0m       results = self._do_run(handle, final_targets, final_fetches,\n\u001b[0;32m-> 1140\u001b[0;31m                              feed_dict_tensor, options, run_metadata)\n\u001b[0m\u001b[1;32m   1141\u001b[0m     \u001b[0;32melse\u001b[0m\u001b[0;34m:\u001b[0m\u001b[0;34m\u001b[0m\u001b[0m\n\u001b[1;32m   1142\u001b[0m       \u001b[0mresults\u001b[0m \u001b[0;34m=\u001b[0m \u001b[0;34m[\u001b[0m\u001b[0;34m]\u001b[0m\u001b[0;34m\u001b[0m\u001b[0m\n",
      "\u001b[0;32m/Users/nimishawalgaonkar/anaconda2/lib/python2.7/site-packages/tensorflow/python/client/session.pyc\u001b[0m in \u001b[0;36m_do_run\u001b[0;34m(self, handle, target_list, fetch_list, feed_dict, options, run_metadata)\u001b[0m\n\u001b[1;32m   1319\u001b[0m     \u001b[0;32mif\u001b[0m \u001b[0mhandle\u001b[0m \u001b[0;32mis\u001b[0m \u001b[0mNone\u001b[0m\u001b[0;34m:\u001b[0m\u001b[0;34m\u001b[0m\u001b[0m\n\u001b[1;32m   1320\u001b[0m       return self._do_call(_run_fn, feeds, fetches, targets, options,\n\u001b[0;32m-> 1321\u001b[0;31m                            run_metadata)\n\u001b[0m\u001b[1;32m   1322\u001b[0m     \u001b[0;32melse\u001b[0m\u001b[0;34m:\u001b[0m\u001b[0;34m\u001b[0m\u001b[0m\n\u001b[1;32m   1323\u001b[0m       \u001b[0;32mreturn\u001b[0m \u001b[0mself\u001b[0m\u001b[0;34m.\u001b[0m\u001b[0m_do_call\u001b[0m\u001b[0;34m(\u001b[0m\u001b[0m_prun_fn\u001b[0m\u001b[0;34m,\u001b[0m \u001b[0mhandle\u001b[0m\u001b[0;34m,\u001b[0m \u001b[0mfeeds\u001b[0m\u001b[0;34m,\u001b[0m \u001b[0mfetches\u001b[0m\u001b[0;34m)\u001b[0m\u001b[0;34m\u001b[0m\u001b[0m\n",
      "\u001b[0;32m/Users/nimishawalgaonkar/anaconda2/lib/python2.7/site-packages/tensorflow/python/client/session.pyc\u001b[0m in \u001b[0;36m_do_call\u001b[0;34m(self, fn, *args)\u001b[0m\n\u001b[1;32m   1338\u001b[0m         \u001b[0;32mexcept\u001b[0m \u001b[0mKeyError\u001b[0m\u001b[0;34m:\u001b[0m\u001b[0;34m\u001b[0m\u001b[0m\n\u001b[1;32m   1339\u001b[0m           \u001b[0;32mpass\u001b[0m\u001b[0;34m\u001b[0m\u001b[0m\n\u001b[0;32m-> 1340\u001b[0;31m       \u001b[0;32mraise\u001b[0m \u001b[0mtype\u001b[0m\u001b[0;34m(\u001b[0m\u001b[0me\u001b[0m\u001b[0;34m)\u001b[0m\u001b[0;34m(\u001b[0m\u001b[0mnode_def\u001b[0m\u001b[0;34m,\u001b[0m \u001b[0mop\u001b[0m\u001b[0;34m,\u001b[0m \u001b[0mmessage\u001b[0m\u001b[0;34m)\u001b[0m\u001b[0;34m\u001b[0m\u001b[0m\n\u001b[0m\u001b[1;32m   1341\u001b[0m \u001b[0;34m\u001b[0m\u001b[0m\n\u001b[1;32m   1342\u001b[0m   \u001b[0;32mdef\u001b[0m \u001b[0m_extend_graph\u001b[0m\u001b[0;34m(\u001b[0m\u001b[0mself\u001b[0m\u001b[0;34m)\u001b[0m\u001b[0;34m:\u001b[0m\u001b[0;34m\u001b[0m\u001b[0m\n",
      "\u001b[0;31mInvalidArgumentError\u001b[0m: Input matrix is not invertible.\n\t [[Node: gradients/adaptive_gp.build_likelihood/Cholesky_3_grad/MatrixTriangularSolve = MatrixTriangularSolve[T=DT_DOUBLE, adjoint=false, lower=true, _device=\"/job:localhost/replica:0/task:0/device:CPU:0\"](adaptive_gp.build_likelihood/Cholesky_3, gradients/adaptive_gp.build_likelihood/Cholesky_3_grad/eye/MatrixDiag)]]\n\nCaused by op u'gradients/adaptive_gp.build_likelihood/Cholesky_3_grad/MatrixTriangularSolve', defined at:\n  File \"/Users/nimishawalgaonkar/anaconda2/lib/python2.7/runpy.py\", line 174, in _run_module_as_main\n    \"__main__\", fname, loader, pkg_name)\n  File \"/Users/nimishawalgaonkar/anaconda2/lib/python2.7/runpy.py\", line 72, in _run_code\n    exec code in run_globals\n  File \"/Users/nimishawalgaonkar/anaconda2/lib/python2.7/site-packages/ipykernel/__main__.py\", line 3, in <module>\n    app.launch_new_instance()\n  File \"/Users/nimishawalgaonkar/anaconda2/lib/python2.7/site-packages/traitlets/config/application.py\", line 658, in launch_instance\n    app.start()\n  File \"/Users/nimishawalgaonkar/anaconda2/lib/python2.7/site-packages/ipykernel/kernelapp.py\", line 477, in start\n    ioloop.IOLoop.instance().start()\n  File \"/Users/nimishawalgaonkar/anaconda2/lib/python2.7/site-packages/zmq/eventloop/ioloop.py\", line 177, in start\n    super(ZMQIOLoop, self).start()\n  File \"/Users/nimishawalgaonkar/anaconda2/lib/python2.7/site-packages/tornado/ioloop.py\", line 888, in start\n    handler_func(fd_obj, events)\n  File \"/Users/nimishawalgaonkar/anaconda2/lib/python2.7/site-packages/tornado/stack_context.py\", line 277, in null_wrapper\n    return fn(*args, **kwargs)\n  File \"/Users/nimishawalgaonkar/anaconda2/lib/python2.7/site-packages/zmq/eventloop/zmqstream.py\", line 440, in _handle_events\n    self._handle_recv()\n  File \"/Users/nimishawalgaonkar/anaconda2/lib/python2.7/site-packages/zmq/eventloop/zmqstream.py\", line 472, in _handle_recv\n    self._run_callback(callback, msg)\n  File \"/Users/nimishawalgaonkar/anaconda2/lib/python2.7/site-packages/zmq/eventloop/zmqstream.py\", line 414, in _run_callback\n    callback(*args, **kwargs)\n  File \"/Users/nimishawalgaonkar/anaconda2/lib/python2.7/site-packages/tornado/stack_context.py\", line 277, in null_wrapper\n    return fn(*args, **kwargs)\n  File \"/Users/nimishawalgaonkar/anaconda2/lib/python2.7/site-packages/ipykernel/kernelbase.py\", line 283, in dispatcher\n    return self.dispatch_shell(stream, msg)\n  File \"/Users/nimishawalgaonkar/anaconda2/lib/python2.7/site-packages/ipykernel/kernelbase.py\", line 235, in dispatch_shell\n    handler(stream, idents, msg)\n  File \"/Users/nimishawalgaonkar/anaconda2/lib/python2.7/site-packages/ipykernel/kernelbase.py\", line 399, in execute_request\n    user_expressions, allow_stdin)\n  File \"/Users/nimishawalgaonkar/anaconda2/lib/python2.7/site-packages/ipykernel/ipkernel.py\", line 196, in do_execute\n    res = shell.run_cell(code, store_history=store_history, silent=silent)\n  File \"/Users/nimishawalgaonkar/anaconda2/lib/python2.7/site-packages/ipykernel/zmqshell.py\", line 533, in run_cell\n    return super(ZMQInteractiveShell, self).run_cell(*args, **kwargs)\n  File \"/Users/nimishawalgaonkar/anaconda2/lib/python2.7/site-packages/IPython/core/interactiveshell.py\", line 2718, in run_cell\n    interactivity=interactivity, compiler=compiler, result=result)\n  File \"/Users/nimishawalgaonkar/anaconda2/lib/python2.7/site-packages/IPython/core/interactiveshell.py\", line 2828, in run_ast_nodes\n    if self.run_code(code, result):\n  File \"/Users/nimishawalgaonkar/anaconda2/lib/python2.7/site-packages/IPython/core/interactiveshell.py\", line 2882, in run_code\n    exec(code_obj, self.user_global_ns, self.user_ns)\n  File \"<ipython-input-6-60108ba1597a>\", line 1, in <module>\n    m.optimize(maxiter=100) # start near MAP\n  File \"/Users/nimishawalgaonkar/anaconda2/lib/python2.7/site-packages/gpflow-0.4.0-py2.7.egg/gpflow/model.py\", line 250, in optimize\n    return self._optimize_np(method, tol, callback, maxiter, **kw)\n  File \"/Users/nimishawalgaonkar/anaconda2/lib/python2.7/site-packages/gpflow-0.4.0-py2.7.egg/gpflow/model.py\", line 311, in _optimize_np\n    self.compile()\n  File \"../GPHetero/hetero_gpmc.py\", line 270, in compile\n    optimizer=optimizer)\n  File \"/Users/nimishawalgaonkar/anaconda2/lib/python2.7/site-packages/gpflow-0.4.0-py2.7.egg/gpflow/model.py\", line 157, in compile\n    g = tf.gradients(f, self._free_vars)[0]\n  File \"/Users/nimishawalgaonkar/anaconda2/lib/python2.7/site-packages/tensorflow/python/ops/gradients_impl.py\", line 488, in gradients\n    gate_gradients, aggregation_method, stop_gradients)\n  File \"/Users/nimishawalgaonkar/anaconda2/lib/python2.7/site-packages/tensorflow/python/ops/gradients_impl.py\", line 625, in _GradientsHelper\n    lambda: grad_fn(op, *out_grads))\n  File \"/Users/nimishawalgaonkar/anaconda2/lib/python2.7/site-packages/tensorflow/python/ops/gradients_impl.py\", line 379, in _MaybeCompile\n    return grad_fn()  # Exit early\n  File \"/Users/nimishawalgaonkar/anaconda2/lib/python2.7/site-packages/tensorflow/python/ops/gradients_impl.py\", line 625, in <lambda>\n    lambda: grad_fn(op, *out_grads))\n  File \"/Users/nimishawalgaonkar/anaconda2/lib/python2.7/site-packages/tensorflow/python/ops/linalg_grad.py\", line 70, in _CholeskyGrad\n    dtype=l.dtype))\n  File \"/Users/nimishawalgaonkar/anaconda2/lib/python2.7/site-packages/tensorflow/python/ops/gen_linalg_ops.py\", line 1398, in matrix_triangular_solve\n    adjoint=adjoint, name=name)\n  File \"/Users/nimishawalgaonkar/anaconda2/lib/python2.7/site-packages/tensorflow/python/framework/op_def_library.py\", line 787, in _apply_op_helper\n    op_def=op_def)\n  File \"/Users/nimishawalgaonkar/anaconda2/lib/python2.7/site-packages/tensorflow/python/framework/ops.py\", line 3290, in create_op\n    op_def=op_def)\n  File \"/Users/nimishawalgaonkar/anaconda2/lib/python2.7/site-packages/tensorflow/python/framework/ops.py\", line 1654, in __init__\n    self._traceback = self._graph._extract_stack()  # pylint: disable=protected-access\n\n...which was originally created as op u'adaptive_gp.build_likelihood/Cholesky_3', defined at:\n  File \"/Users/nimishawalgaonkar/anaconda2/lib/python2.7/runpy.py\", line 174, in _run_module_as_main\n    \"__main__\", fname, loader, pkg_name)\n[elided 22 identical lines from previous traceback]\n  File \"../GPHetero/hetero_gpmc.py\", line 270, in compile\n    optimizer=optimizer)\n  File \"/Users/nimishawalgaonkar/anaconda2/lib/python2.7/site-packages/gpflow-0.4.0-py2.7.egg/gpflow/model.py\", line 156, in compile\n    f = self.build_likelihood() + self.build_prior()\n  File \"/Users/nimishawalgaonkar/anaconda2/lib/python2.7/site-packages/gpflow-0.4.0-py2.7.egg/gpflow/scoping.py\", line 43, in runnable\n    return f(*args, **kwargs)\n  File \"../GPHetero/hetero_gpmc.py\", line 301, in build_likelihood\n    Lnonstat = tf.cholesky(Knonstat + tf.eye(tf.shape(self.X)[0], dtype=float_type)*settings.numerics.jitter_level)\n  File \"/Users/nimishawalgaonkar/anaconda2/lib/python2.7/site-packages/tensorflow/python/ops/gen_linalg_ops.py\", line 704, in cholesky\n    \"Cholesky\", input=input, name=name)\n  File \"/Users/nimishawalgaonkar/anaconda2/lib/python2.7/site-packages/tensorflow/python/framework/op_def_library.py\", line 787, in _apply_op_helper\n    op_def=op_def)\n  File \"/Users/nimishawalgaonkar/anaconda2/lib/python2.7/site-packages/tensorflow/python/framework/ops.py\", line 3290, in create_op\n    op_def=op_def)\n  File \"/Users/nimishawalgaonkar/anaconda2/lib/python2.7/site-packages/tensorflow/python/framework/ops.py\", line 1654, in __init__\n    self._traceback = self._graph._extract_stack()  # pylint: disable=protected-access\n\nInvalidArgumentError (see above for traceback): Input matrix is not invertible.\n\t [[Node: gradients/adaptive_gp.build_likelihood/Cholesky_3_grad/MatrixTriangularSolve = MatrixTriangularSolve[T=DT_DOUBLE, adjoint=false, lower=true, _device=\"/job:localhost/replica:0/task:0/device:CPU:0\"](adaptive_gp.build_likelihood/Cholesky_3, gradients/adaptive_gp.build_likelihood/Cholesky_3_grad/eye/MatrixDiag)]]\n"
     ]
    }
   ],
   "source": [
    "samples = m.sample(1000, verbose=True, epsilon=0.05, thin = 2, burn = 500, Lmax = 40)"
   ]
  },
  {
   "cell_type": "code",
   "execution_count": 8,
   "metadata": {},
   "outputs": [
    {
     "data": {
      "text/html": [
       "<table id='params' width=100%><tr><td>Name</td><td>values</td><td>prior</td><td>constraint</td></tr><tr><td>adaptive_gp.V1</td><td>[[  2.97736415e-01]</br> [ -1.62250551e-02]</br> [ -4.04224631e-02]</br> [ -1.27935980e-01]</br> [ -1.67922475e-01]</br> [ -2.14019270e-01]</br> [ -9.11694004e-02]</br> [ -6.66172279e-02]</br> [ -9.69278703e-02]</br> [ -5.25892279e-02]</br> [ -9.47286186e-02]</br> [ -1.17725314e-01]</br> [ -7.49186138e-02]</br> [ -5.31901566e-02]</br> [ -7.27654054e-02]</br> [ -7.14011279e-02]</br> [ -6.58448806e-02]</br> [ -1.34499436e-01]</br> [ -6.59839084e-02]</br> [ -5.62653702e-02]</br> [ -1.12393753e-01]</br> [ -5.11098462e-02]</br> [ -8.45722512e-02]</br> [ -5.34712150e-02]</br> [ -5.28785740e-02]</br> [ -5.68944376e-02]</br> [ -6.16121836e-02]</br> [ -6.60921092e-02]</br> [ -6.97466179e-02]</br> [ -7.18185046e-02]</br> [ -1.32742181e-01]</br> [ -7.23450516e-02]</br> [ -1.14505278e-01]</br> [ -1.06384420e-01]</br> [ -6.70914374e-02]</br> [ -6.81552124e-02]</br> [ -1.18929677e-01]</br> [ -7.95044393e-02]</br> [ -1.20815962e-01]</br> [ -6.57516378e-02]</br> [ -8.70460296e-02]</br> [ -7.19881689e-02]</br> [ -1.30691584e-01]</br> [ -7.01655448e-02]</br> [ -7.97422049e-02]</br> [ -5.25469199e-02]</br> [ -6.94078924e-02]</br> [ -6.49825650e-02]</br> [ -6.00363523e-02]</br> [ -4.24711899e-02]</br> [ -5.17756666e-02]</br> [ -3.82849915e-02]</br> [ -3.59592690e-02]</br> [ -5.56808647e-02]</br> [ -3.48918880e-02]</br> [ -4.02248116e-02]</br> [ -4.67944792e-02]</br> [ -2.78556598e-02]</br> [ -2.42183556e-02]</br> [ -4.27296016e-02]</br> [ -3.71565392e-02]</br> [ -2.99645077e-02]</br> [ -1.44196978e-02]</br> [ -2.44813445e-02]</br> [ -2.08515225e-02]</br> [ -1.41072781e-02]</br> [ -1.00327437e-02]</br> [ -1.04454160e-02]</br> [ -7.48940314e-03]</br> [ -6.04005755e-03]</br> [ -4.18461518e-03]</br> [ -3.41037082e-03]</br> [ -4.41341297e-03]</br> [ -4.01167232e-03]</br> [  6.18385365e-04]</br> [  5.92523867e-04]</br> [  1.91675635e-03]</br> [  1.81004912e-03]</br> [  3.40931917e-03]</br> [  3.18419760e-03]</br> [  2.64539709e-03]</br> [  2.04806283e-03]</br> [  4.63075281e-03]</br> [  2.46827748e-03]</br> [  2.82243862e-03]</br> [  4.36566238e-03]</br> [  3.37068225e-03]</br> [  2.77578810e-03]</br> [  2.74834689e-03]</br> [  1.75477648e-03]</br> [  1.15999562e-03]</br> [  8.11855678e-04]</br> [  2.01714054e-04]</br> [  2.71913326e-04]]</td><td>N([ 0.],[ 1.])</td><td>(none)</td></tr><tr><td>adaptive_gp.V2</td><td>[[  3.26418566e-01]</br> [  1.20735924e-01]</br> [  7.11754724e-01]</br> [  1.06644103e+00]</br> [  7.70804193e-01]</br> [  1.23944502e+00]</br> [  1.08251913e+00]</br> [  8.04564872e-01]</br> [  1.21576075e+00]</br> [  4.61055618e-01]</br> [  6.05820780e-01]</br> [  7.12453948e-01]</br> [  4.47734116e-01]</br> [  3.20366188e-01]</br> [  4.04234067e-01]</br> [  3.92310590e-01]</br> [  3.35783354e-01]</br> [  5.04766995e-01]</br> [  1.62357510e-01]</br> [  1.24522276e-01]</br> [  2.37683161e-01]</br> [  1.11855941e-01]</br> [  1.38372206e-01]</br> [  8.08318879e-02]</br> [  6.64953941e-02]</br> [  6.22968615e-02]</br> [  5.97083381e-02]</br> [  5.78970821e-02]</br> [  5.67337014e-02]</br> [  5.42161486e-02]</br> [  9.09741456e-02]</br> [  4.64834678e-02]</br> [  6.87974412e-02]</br> [  5.47075480e-02]</br> [  3.13437440e-02]</br> [  2.84543009e-02]</br> [  4.74024917e-02]</br> [  2.94735130e-02]</br> [  4.60946825e-02]</br> [  2.24481376e-02]</br> [  2.66548783e-02]</br> [  2.11285393e-02]</br> [  4.57023447e-02]</br> [  1.62113056e-02]</br> [  2.50682136e-02]</br> [  1.59696008e-02]</br> [  1.93701341e-02]</br> [  1.97204487e-02]</br> [  1.81410470e-02]</br> [  1.22560647e-02]</br> [  1.45574874e-02]</br> [  1.18991109e-02]</br> [  1.01209144e-02]</br> [  1.54201977e-02]</br> [  9.83927006e-03]</br> [  1.06368680e-02]</br> [  1.24734763e-02]</br> [  7.41119939e-03]</br> [  6.02986841e-03]</br> [  1.08771279e-02]</br> [  8.66260671e-03]</br> [  6.27570618e-03]</br> [  2.82723247e-03]</br> [  4.22318103e-03]</br> [  2.88203920e-03]</br> [  1.38959274e-03]</br> [  6.69812254e-04]</br> [  2.62702107e-04]</br> [ -1.07737216e-04]</br> [ -4.15342764e-04]</br> [ -3.82380901e-04]</br> [ -4.56433992e-04]</br> [ -9.27292599e-04]</br> [ -1.70049682e-03]</br> [ -1.15460856e-03]</br> [ -4.60951532e-04]</br> [ -5.95916863e-04]</br> [ -3.77446641e-04]</br> [ -1.03801891e-04]</br> [  2.48326662e-04]</br> [  2.85952797e-04]</br> [  3.43348735e-04]</br> [  1.08935578e-03]</br> [  8.18225634e-04]</br> [  1.08238347e-03]</br> [  1.89619445e-03]</br> [  1.54529605e-03]</br> [  1.50134240e-03]</br> [  1.70883023e-03]</br> [  1.05402801e-03]</br> [  6.84880676e-04]</br> [  5.90727540e-04]</br> [  1.61098962e-04]</br> [  2.21790461e-04]]</td><td>N([ 0.],[ 1.])</td><td>(none)</td></tr><tr><td>adaptive_gp.V3</td><td>[[ 0.26431448]</br> [-0.82938421]</br> [ 0.19869005]</br> [ 0.53084144]</br> [ 0.49854699]</br> [ 0.69844447]</br> [ 0.87538085]</br> [ 0.3077099 ]</br> [ 0.50174288]</br> [ 0.29205912]</br> [ 0.24097671]</br> [ 0.35735086]</br> [ 0.28201754]</br> [ 0.1647604 ]</br> [ 0.15996297]</br> [ 0.0987616 ]</br> [ 0.12498369]</br> [ 0.32938652]</br> [ 0.22630423]</br> [ 0.15450825]</br> [ 0.28142535]</br> [ 0.14342879]</br> [ 0.33863054]</br> [ 0.18321153]</br> [ 0.1899043 ]</br> [ 0.20155388]</br> [ 0.20229043]</br> [ 0.20414536]</br> [ 0.20999968]</br> [ 0.21682655]</br> [ 0.43638647]</br> [ 0.20898167]</br> [ 0.44981505]</br> [ 0.35134943]</br> [ 0.20710912]</br> [ 0.2376608 ]</br> [ 0.40119937]</br> [ 0.19345326]</br> [ 0.43546292]</br> [ 0.18744093]</br> [ 0.32283276]</br> [ 0.21067526]</br> [ 0.4677487 ]</br> [ 0.20630087]</br> [ 0.50345743]</br> [ 0.21605429]</br> [ 0.29243388]</br> [ 0.28130758]</br> [ 0.29391446]</br> [ 0.21701078]</br> [ 0.32898713]</br> [ 0.22705145]</br> [ 0.20840262]</br> [ 0.34066568]</br> [ 0.16867066]</br> [ 0.24823145]</br> [ 0.31207539]</br> [ 0.15913772]</br> [ 0.15992417]</br> [ 0.3089477 ]</br> [ 0.2429934 ]</br> [ 0.2315028 ]</br> [ 0.09275344]</br> [ 0.19144568]</br> [ 0.1615249 ]</br> [ 0.15472351]</br> [ 0.12247791]</br> [ 0.14811388]</br> [ 0.12979879]</br> [ 0.16474891]</br> [ 0.13022124]</br> [ 0.13785321]</br> [ 0.25403218]</br> [ 0.41593914]</br> [ 0.54426148]</br> [ 0.17174192]</br> [ 0.40587843]</br> [ 0.27562081]</br> [ 0.40853003]</br> [ 0.29063214]</br> [ 0.16451402]</br> [ 0.11128173]</br> [ 0.19382894]</br> [ 0.11036084]</br> [ 0.10938731]</br> [ 0.14500352]</br> [ 0.22968696]</br> [ 0.24772659]</br> [ 0.33914973]</br> [ 0.3363197 ]</br> [ 0.24230782]</br> [ 0.15659263]</br> [ 0.0576685 ]</br> [ 0.04067857]]</td><td>N([ 0.],[ 1.])</td><td>(none)</td></tr><tr><td>adaptive_gp.V4</td><td>[[ -6.80312014e-01]</br> [  1.73763291e-02]</br> [ -1.59609338e-01]</br> [ -3.36687231e-01]</br> [ -3.96532452e-01]</br> [ -4.95989830e-01]</br> [ -2.33022729e-01]</br> [ -1.56197244e-01]</br> [ -2.84043645e-01]</br> [ -1.62628410e-01]</br> [ -2.45513904e-01]</br> [ -2.37465516e-01]</br> [ -1.08309538e-01]</br> [ -6.15195307e-02]</br> [ -5.05027586e-02]</br> [ -1.77702582e-02]</br> [  1.46062127e-02]</br> [  1.43518863e-01]</br> [  1.27220467e-01]</br> [  1.18792573e-01]</br> [  2.34757782e-01]</br> [  9.04591161e-02]</br> [  1.72354647e-01]</br> [  1.02100616e-01]</br> [  1.05010072e-01]</br> [  1.14971766e-01]</br> [  1.23213907e-01]</br> [  1.27295164e-01]</br> [  1.27617582e-01]</br> [  1.25793672e-01]</br> [  2.35862360e-01]</br> [  1.01435810e-01]</br> [  2.34235376e-01]</br> [  2.16451948e-01]</br> [  1.30012666e-01]</br> [  1.38304812e-01]</br> [  2.66908130e-01]</br> [  1.43114136e-01]</br> [  2.79318732e-01]</br> [  1.28625828e-01]</br> [  1.96960946e-01]</br> [  1.48137423e-01]</br> [  2.95264737e-01]</br> [  9.22701550e-02]</br> [  1.87858894e-01]</br> [  1.04472238e-01]</br> [  1.39567532e-01]</br> [  1.25336497e-01]</br> [  1.12827174e-01]</br> [  7.59703949e-02]</br> [  1.04362419e-01]</br> [  7.14343774e-02]</br> [  6.72042741e-02]</br> [  1.06786808e-01]</br> [  5.26047542e-02]</br> [  6.91022904e-02]</br> [  7.56981246e-02]</br> [  3.71224108e-02]</br> [  3.58463610e-02]</br> [  6.43938830e-02]</br> [  4.51998125e-02]</br> [  3.55437978e-02]</br> [  1.36391706e-02]</br> [  2.39907313e-02]</br> [  1.21898420e-02]</br> [  5.86591712e-03]</br> [  2.17968085e-03]</br> [ -5.35211189e-04]</br> [ -2.86303870e-03]</br> [ -3.79873336e-03]</br> [ -3.49722192e-03]</br> [ -3.47358401e-03]</br> [ -6.58835898e-03]</br> [ -1.24494441e-02]</br> [ -8.03835609e-03]</br> [ -3.57090469e-03]</br> [ -4.76186941e-03]</br> [ -3.71588712e-03]</br> [ -2.19597681e-03]</br> [  1.75565273e-03]</br> [  1.93321482e-03]</br> [  1.65650287e-03]</br> [  4.03875142e-03]</br> [  2.27363406e-03]</br> [  4.33195015e-03]</br> [  8.03084348e-03]</br> [  6.55083366e-03]</br> [  5.56514533e-03]</br> [  5.75859498e-03]</br> [  3.57454314e-03]</br> [  2.24823200e-03]</br> [  1.95035109e-03]</br> [  5.57612532e-04]</br> [  7.79082476e-04]]</td><td>N([ 0.],[ 1.])</td><td>(none)</td></tr><tr><td>adaptive_gp.kern1.lengthscales</td><td>[ 0.73046587]</td><td>Ga([ 1.],[ 1.])</td><td>+ve</td></tr><tr><td>adaptive_gp.kern1.variance</td><td>[ 0.695588]</td><td>Ga([ 1.],[ 1.])</td><td>+ve</td></tr><tr><td>adaptive_gp.kern2.lengthscales</td><td>[ 0.76022919]</td><td>Ga([ 1.],[ 1.])</td><td>+ve</td></tr><tr><td>adaptive_gp.kern2.variance</td><td>[ 3.52025108]</td><td>None</td><td>+ve</td></tr><tr><td>adaptive_gp.kern3.lengthscales</td><td>[ 0.44657661]</td><td>Ga([ 1.],[ 1.])</td><td>+ve</td></tr><tr><td>adaptive_gp.kern3.variance</td><td>[ 4.48135778]</td><td>Ga([ 1.],[ 1.])</td><td>+ve</td></tr></table>"
      ],
      "text/plain": [
       "<GPHetero.hetero_gpmc.GPMCAdaptive at 0x114a24350>"
      ]
     },
     "execution_count": 8,
     "metadata": {},
     "output_type": "execute_result"
    }
   ],
   "source": [
    "m"
   ]
  },
  {
   "cell_type": "code",
   "execution_count": null,
   "metadata": {
    "collapsed": true
   },
   "outputs": [],
   "source": []
  }
 ],
 "metadata": {
  "kernelspec": {
   "display_name": "Python [default]",
   "language": "python",
   "name": "python2"
  },
  "language_info": {
   "codemirror_mode": {
    "name": "ipython",
    "version": 2
   },
   "file_extension": ".py",
   "mimetype": "text/x-python",
   "name": "python",
   "nbconvert_exporter": "python",
   "pygments_lexer": "ipython2",
   "version": "2.7.14"
  }
 },
 "nbformat": 4,
 "nbformat_minor": 2
}
