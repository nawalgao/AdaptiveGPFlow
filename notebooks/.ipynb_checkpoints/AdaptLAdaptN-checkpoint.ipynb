{
 "cells": [
  {
   "cell_type": "code",
   "execution_count": 1,
   "metadata": {},
   "outputs": [
    {
     "ename": "RuntimeError",
     "evalue": "module compiled against API version 0xb but this version of numpy is 0xa",
     "output_type": "error",
     "traceback": [
      "\u001b[0;31m---------------------------------------------------------------------------\u001b[0m",
      "\u001b[0;31mRuntimeError\u001b[0m                              Traceback (most recent call last)",
      "\u001b[0;31mRuntimeError\u001b[0m: module compiled against API version 0xb but this version of numpy is 0xa"
     ]
    },
    {
     "ename": "RuntimeError",
     "evalue": "module compiled against API version 0xb but this version of numpy is 0xa",
     "output_type": "error",
     "traceback": [
      "\u001b[0;31m---------------------------------------------------------------------------\u001b[0m",
      "\u001b[0;31mRuntimeError\u001b[0m                              Traceback (most recent call last)",
      "\u001b[0;31mRuntimeError\u001b[0m: module compiled against API version 0xb but this version of numpy is 0xa"
     ]
    }
   ],
   "source": [
    "import gpflow\n",
    "import numpy as np\n",
    "import matplotlib.pyplot as plt\n",
    "%matplotlib inline\n",
    "import sys\n",
    "sys.path.append('../')\n",
    "from GPHetero import hetero_kernels, hetero_likelihoods, hetero_gpmc"
   ]
  },
  {
   "cell_type": "code",
   "execution_count": 2,
   "metadata": {},
   "outputs": [
    {
     "data": {
      "text/plain": [
       "Text(0,0.5,u'$y$')"
      ]
     },
     "execution_count": 2,
     "metadata": {},
     "output_type": "execute_result"
    },
    {
     "data": {
      "image/png": "[encoded data removed]",
      "text/plain": [
       "<matplotlib.figure.Figure at 0x18167b4d10>"
      ]
     },
     "metadata": {},
     "output_type": "display_data"
    }
   ],
   "source": [
    "data = np.loadtxt('../data/motor.dat')\n",
    "X = data[:, 0][:, None]\n",
    "Xm = np.mean(X)\n",
    "Xv = np.std(X)\n",
    "Xnorm = (X - Xm)/Xv\n",
    "Y = data[:, 1]\n",
    "fig, ax = plt.subplots()\n",
    "ax.plot(X, Y, 'x', markeredgewidth=2)\n",
    "ax.set_xlabel('$x$')\n",
    "ax.set_ylabel('$y$')"
   ]
  },
  {
   "cell_type": "code",
   "execution_count": 3,
   "metadata": {},
   "outputs": [],
   "source": [
    "#build the model\n",
    "k1 = hetero_kernels.RBF(1)\n",
    "k2 = hetero_kernels.RBF(1)\n",
    "nonstat = hetero_kernels.NonStationaryLengthscaleRBF()\n",
    "m = hetero_gpmc.GPMCAdaptLAdaptN(Xnorm, Y[:,None], k1, k2, nonstat)"
   ]
  },
  {
   "cell_type": "code",
   "execution_count": 4,
   "metadata": {
    "scrolled": true
   },
   "outputs": [
    {
     "data": {
      "text/html": [
       "<table id='params' width=100%><tr><td>Name</td><td>values</td><td>prior</td><td>constraint</td></tr><tr><td>adapt_ll_noise_gps.V1</td><td>[[ 0.]</br> [ 0.]</br> [ 0.]</br> [ 0.]</br> [ 0.]</br> [ 0.]</br> [ 0.]</br> [ 0.]</br> [ 0.]</br> [ 0.]</br> [ 0.]</br> [ 0.]</br> [ 0.]</br> [ 0.]</br> [ 0.]</br> [ 0.]</br> [ 0.]</br> [ 0.]</br> [ 0.]</br> [ 0.]</br> [ 0.]</br> [ 0.]</br> [ 0.]</br> [ 0.]</br> [ 0.]</br> [ 0.]</br> [ 0.]</br> [ 0.]</br> [ 0.]</br> [ 0.]</br> [ 0.]</br> [ 0.]</br> [ 0.]</br> [ 0.]</br> [ 0.]</br> [ 0.]</br> [ 0.]</br> [ 0.]</br> [ 0.]</br> [ 0.]</br> [ 0.]</br> [ 0.]</br> [ 0.]</br> [ 0.]</br> [ 0.]</br> [ 0.]</br> [ 0.]</br> [ 0.]</br> [ 0.]</br> [ 0.]</br> [ 0.]</br> [ 0.]</br> [ 0.]</br> [ 0.]</br> [ 0.]</br> [ 0.]</br> [ 0.]</br> [ 0.]</br> [ 0.]</br> [ 0.]</br> [ 0.]</br> [ 0.]</br> [ 0.]</br> [ 0.]</br> [ 0.]</br> [ 0.]</br> [ 0.]</br> [ 0.]</br> [ 0.]</br> [ 0.]</br> [ 0.]</br> [ 0.]</br> [ 0.]</br> [ 0.]</br> [ 0.]</br> [ 0.]</br> [ 0.]</br> [ 0.]</br> [ 0.]</br> [ 0.]</br> [ 0.]</br> [ 0.]</br> [ 0.]</br> [ 0.]</br> [ 0.]</br> [ 0.]</br> [ 0.]</br> [ 0.]</br> [ 0.]</br> [ 0.]</br> [ 0.]</br> [ 0.]</br> [ 0.]</br> [ 0.]]</td><td>N([ 0.],[ 1.])</td><td>(none)</td></tr><tr><td>adapt_ll_noise_gps.V2</td><td>[[ 0.]</br> [ 0.]</br> [ 0.]</br> [ 0.]</br> [ 0.]</br> [ 0.]</br> [ 0.]</br> [ 0.]</br> [ 0.]</br> [ 0.]</br> [ 0.]</br> [ 0.]</br> [ 0.]</br> [ 0.]</br> [ 0.]</br> [ 0.]</br> [ 0.]</br> [ 0.]</br> [ 0.]</br> [ 0.]</br> [ 0.]</br> [ 0.]</br> [ 0.]</br> [ 0.]</br> [ 0.]</br> [ 0.]</br> [ 0.]</br> [ 0.]</br> [ 0.]</br> [ 0.]</br> [ 0.]</br> [ 0.]</br> [ 0.]</br> [ 0.]</br> [ 0.]</br> [ 0.]</br> [ 0.]</br> [ 0.]</br> [ 0.]</br> [ 0.]</br> [ 0.]</br> [ 0.]</br> [ 0.]</br> [ 0.]</br> [ 0.]</br> [ 0.]</br> [ 0.]</br> [ 0.]</br> [ 0.]</br> [ 0.]</br> [ 0.]</br> [ 0.]</br> [ 0.]</br> [ 0.]</br> [ 0.]</br> [ 0.]</br> [ 0.]</br> [ 0.]</br> [ 0.]</br> [ 0.]</br> [ 0.]</br> [ 0.]</br> [ 0.]</br> [ 0.]</br> [ 0.]</br> [ 0.]</br> [ 0.]</br> [ 0.]</br> [ 0.]</br> [ 0.]</br> [ 0.]</br> [ 0.]</br> [ 0.]</br> [ 0.]</br> [ 0.]</br> [ 0.]</br> [ 0.]</br> [ 0.]</br> [ 0.]</br> [ 0.]</br> [ 0.]</br> [ 0.]</br> [ 0.]</br> [ 0.]</br> [ 0.]</br> [ 0.]</br> [ 0.]</br> [ 0.]</br> [ 0.]</br> [ 0.]</br> [ 0.]</br> [ 0.]</br> [ 0.]</br> [ 0.]]</td><td>N([ 0.],[ 1.])</td><td>(none)</td></tr><tr><td>adapt_ll_noise_gps.V3</td><td>[[ 0.]</br> [ 0.]</br> [ 0.]</br> [ 0.]</br> [ 0.]</br> [ 0.]</br> [ 0.]</br> [ 0.]</br> [ 0.]</br> [ 0.]</br> [ 0.]</br> [ 0.]</br> [ 0.]</br> [ 0.]</br> [ 0.]</br> [ 0.]</br> [ 0.]</br> [ 0.]</br> [ 0.]</br> [ 0.]</br> [ 0.]</br> [ 0.]</br> [ 0.]</br> [ 0.]</br> [ 0.]</br> [ 0.]</br> [ 0.]</br> [ 0.]</br> [ 0.]</br> [ 0.]</br> [ 0.]</br> [ 0.]</br> [ 0.]</br> [ 0.]</br> [ 0.]</br> [ 0.]</br> [ 0.]</br> [ 0.]</br> [ 0.]</br> [ 0.]</br> [ 0.]</br> [ 0.]</br> [ 0.]</br> [ 0.]</br> [ 0.]</br> [ 0.]</br> [ 0.]</br> [ 0.]</br> [ 0.]</br> [ 0.]</br> [ 0.]</br> [ 0.]</br> [ 0.]</br> [ 0.]</br> [ 0.]</br> [ 0.]</br> [ 0.]</br> [ 0.]</br> [ 0.]</br> [ 0.]</br> [ 0.]</br> [ 0.]</br> [ 0.]</br> [ 0.]</br> [ 0.]</br> [ 0.]</br> [ 0.]</br> [ 0.]</br> [ 0.]</br> [ 0.]</br> [ 0.]</br> [ 0.]</br> [ 0.]</br> [ 0.]</br> [ 0.]</br> [ 0.]</br> [ 0.]</br> [ 0.]</br> [ 0.]</br> [ 0.]</br> [ 0.]</br> [ 0.]</br> [ 0.]</br> [ 0.]</br> [ 0.]</br> [ 0.]</br> [ 0.]</br> [ 0.]</br> [ 0.]</br> [ 0.]</br> [ 0.]</br> [ 0.]</br> [ 0.]</br> [ 0.]]</td><td>N([ 0.],[ 1.])</td><td>(none)</td></tr><tr><td>adapt_ll_noise_gps.kern1.lengthscales</td><td>[ 1.]</td><td>None</td><td>+ve</td></tr><tr><td>adapt_ll_noise_gps.kern1.variance</td><td>[ 1.]</td><td>None</td><td>+ve</td></tr><tr><td>adapt_ll_noise_gps.kern2.lengthscales</td><td>[ 1.]</td><td>None</td><td>+ve</td></tr><tr><td>adapt_ll_noise_gps.kern2.variance</td><td>[ 1.]</td><td>None</td><td>+ve</td></tr><tr><td>adapt_ll_noise_gps.nonstat.signal_variance</td><td>[ 1.]</td><td>None</td><td>+ve</td></tr><tr><td>adapt_ll_noise_gps.signal_variance</td><td>[ 1.]</td><td>None</td><td>+ve</td></tr></table>"
      ],
      "text/plain": [
       "<GPHetero.hetero_gpmc.GPMCAdaptLAdaptN at 0x18167b4590>"
      ]
     },
     "execution_count": 4,
     "metadata": {},
     "output_type": "execute_result"
    }
   ],
   "source": [
    "m"
   ]
  },
  {
   "cell_type": "code",
   "execution_count": 5,
   "metadata": {},
   "outputs": [],
   "source": [
    "m.kern1.lengthscales.prior = gpflow.priors.Gamma(1., 1.)\n",
    "m.kern1.variance.prior = gpflow.priors.Gamma(1., 1.)\n",
    "\n",
    "m.kern2.lengthscales.prior = gpflow.priors.Gamma(1., 1.)\n",
    "m.kern2.variance = 0.1\n",
    "m.kern2.variance.fixed = True\n",
    "\n",
    "m.nonstat.signal_variance = 100\n",
    "m.nonstat.signal_variance.fixed = True"
   ]
  },
  {
   "cell_type": "code",
   "execution_count": 6,
   "metadata": {},
   "outputs": [
    {
     "data": {
      "text/plain": [
       "      fun: array([ 760.8243867])\n",
       " hess_inv: <286x286 LbfgsInvHessProduct with dtype=float64>\n",
       "      jac: array([  4.40765791e-01,   1.72337564e+00,   2.74457406e+00,\n",
       "         1.67678829e+00,   1.64772303e+00,   3.52863180e+00,\n",
       "         2.64191719e+00,   1.14479274e+00,   2.33043815e+00,\n",
       "         1.87046789e+00,   1.85868893e+00,   1.80883104e+00,\n",
       "         1.58811945e+00,   1.18541232e+00,   1.62166095e+00,\n",
       "         1.38092569e+00,   1.08609847e+00,   2.18924109e+00,\n",
       "         1.09233960e+00,   8.89013626e-01,   1.02050152e+00,\n",
       "         3.20199135e-01,   5.22926581e-01,   2.12082882e-01,\n",
       "         1.36406299e-01,   9.75474993e-02,   5.74420902e-02,\n",
       "         1.17786437e-02,  -3.68504680e-02,  -8.33944860e-02,\n",
       "        -3.49606447e-01,  -2.21803506e-01,  -7.20675440e-01,\n",
       "        -6.66185856e-01,  -3.95231145e-01,  -4.37129228e-01,\n",
       "        -8.04378930e-01,  -4.03754770e-01,  -8.13523321e-01,\n",
       "        -3.47243319e-01,  -5.26009273e-01,  -3.56307849e-01,\n",
       "        -5.97852020e-01,  -1.49925931e-01,  -2.36835363e-01,\n",
       "        -8.82708378e-02,  -7.68675993e-02,  -1.91791675e-02,\n",
       "         2.71089671e-02,   3.58225933e-02,   7.81084430e-02,\n",
       "         7.26095426e-02,   7.84200330e-02,   1.48894304e-01,\n",
       "         9.58239173e-02,   1.26974112e-01,   1.77799606e-01,\n",
       "         1.02510484e-01,   9.42244307e-02,   1.83277209e-01,\n",
       "         1.59795547e-01,   1.90867913e-01,   9.35102164e-02,\n",
       "         2.44677264e-01,   2.78790714e-01,   3.22177672e-01,\n",
       "         3.05131915e-01,   4.17427727e-01,   3.52557889e-01,\n",
       "         4.08803213e-01,   3.10161515e-01,   3.26910092e-01,\n",
       "         6.10014793e-01,   9.15184304e-01,   9.51395515e-01,\n",
       "         2.79398374e-01,   5.83532165e-01,   3.88678966e-01,\n",
       "         5.61481803e-01,   3.37916138e-01,   1.18978333e-01,\n",
       "         1.84876977e-01,   1.66914476e-01,  -7.91300912e-02,\n",
       "         7.74880931e-02,  -2.60415290e-02,  -1.12551207e-01,\n",
       "        -8.35500641e-02,  -8.79241258e-02,  -5.54330819e-02,\n",
       "        -2.54402176e-02,  -1.37198694e-02,  -3.15794041e-03,\n",
       "        -3.01887323e-03,   7.45695739e-02,  -1.06496267e-01,\n",
       "        -5.24797739e-02,  -9.21806251e-02,  -1.45326379e-01,\n",
       "        -2.56141875e-01,  -8.11855117e-02,  -7.74732555e-02,\n",
       "        -2.22215350e-01,  -1.35709522e-01,  -1.57939845e-01,\n",
       "        -1.85127319e-01,  -1.27542156e-01,  -9.25500030e-02,\n",
       "        -1.13355154e-01,  -1.20707893e-01,  -1.19650469e-01,\n",
       "        -2.27856537e-01,  -9.44284283e-02,  -7.02894774e-02,\n",
       "        -1.41868454e-01,  -9.49764599e-02,  -1.25945844e-01,\n",
       "        -8.85415606e-02,  -7.50941845e-02,  -6.93109138e-02,\n",
       "        -6.62022505e-02,  -6.42623883e-02,  -6.26590413e-02,\n",
       "        -6.09542464e-02,  -1.01497471e-01,  -6.65100905e-02,\n",
       "        -8.64384102e-02,  -7.43354833e-02,  -4.84562263e-02,\n",
       "        -4.05767556e-02,  -5.80066005e-02,  -4.46266954e-02,\n",
       "        -6.48590258e-02,  -4.14377971e-02,  -3.95919536e-02,\n",
       "        -3.06818209e-02,  -4.93512187e-02,  -2.37830281e-02,\n",
       "        -2.21103018e-02,  -1.42227841e-02,  -1.26120913e-02,\n",
       "        -1.03307161e-02,  -7.67985682e-03,  -4.78265800e-03,\n",
       "        -2.86370699e-03,  -1.13308032e-03,   3.29082275e-04,\n",
       "         3.84253267e-03,   4.37227160e-03,   6.73847649e-03,\n",
       "         1.11105721e-02,   9.36604339e-03,   8.81484366e-03,\n",
       "         1.80513882e-02,   2.35021072e-02,   2.59441011e-02,\n",
       "         1.69089171e-02,   2.69215309e-02,   3.19007504e-02,\n",
       "         2.92239663e-02,   2.45096591e-02,   2.82107387e-02,\n",
       "         2.48826543e-02,   2.42311566e-02,   1.93566337e-02,\n",
       "         1.78155011e-02,   2.54585162e-02,   4.58779800e-02,\n",
       "         3.07254009e-02,   1.42755537e-02,   1.74016087e-02,\n",
       "         1.62925671e-02,   2.61957692e-02,   1.86961528e-02,\n",
       "         1.11327764e-02,   8.41280986e-03,   1.30109370e-02,\n",
       "         9.18235235e-03,   8.96930878e-03,   1.15476609e-02,\n",
       "         7.73031294e-03,   4.57654992e-03,   4.11763413e-03,\n",
       "         2.12958925e-03,   4.32707602e-04,   5.47750292e-05,\n",
       "        -4.11739654e-05,  -5.80029776e-06,   7.41378932e-01,\n",
       "        -7.25883411e-01,  -5.21826726e-01,  -7.36351399e-01,\n",
       "        -8.67253455e-01,  -9.57615505e-01,  -5.48754226e-01,\n",
       "        -1.40560344e-01,  -6.31991793e-02,   5.10264312e-02,\n",
       "        -8.79841789e-02,  -5.02113372e-02,  -3.93795553e-02,\n",
       "        -2.42621565e-02,  -5.82653732e-02,   2.26899717e-03,\n",
       "        -4.61714102e-03,   7.76918405e-02,   4.57376052e-03,\n",
       "         1.60530052e-01,   8.28212572e-02,   6.36724516e-02,\n",
       "         9.97848521e-02,  -2.43701076e-02,  -4.67588306e-03,\n",
       "         3.41340815e-02,   1.67652501e-02,   6.40521722e-03,\n",
       "         1.23554334e-02,   1.22788575e-02,   8.80311085e-04,\n",
       "        -9.67153992e-04,  -1.67963386e-02,  -2.57291997e-02,\n",
       "        -3.80286353e-02,  -2.94233186e-02,  -4.56313868e-02,\n",
       "        -4.67303665e-02,  -6.54678125e-02,  -6.76596512e-02,\n",
       "        -6.09099797e-02,  -3.59130174e-02,  -7.85261684e-02,\n",
       "        -2.62074798e-02,  -3.80986995e-02,  -1.88453231e-02,\n",
       "         2.73356349e-02,   7.26373223e-03,   2.09455891e-02,\n",
       "         3.73084218e-02,   1.19757023e-01,   1.04628427e-01,\n",
       "         1.16144648e-01,   1.62569906e-01,   3.99122676e-02,\n",
       "         5.92034316e-02,   5.63493810e-02,   2.81742039e-02,\n",
       "         4.20469312e-02,   5.50316880e-02,   4.91239808e-02,\n",
       "        -1.37378711e-03,  -2.57981628e-03,  -2.62967892e-03,\n",
       "         1.07209703e-02,   4.27762044e-02,   7.06199874e-02,\n",
       "         8.73986353e-02,   1.11804962e-01,   1.21666826e-01,\n",
       "         1.11091217e-01,   1.02920402e-01,   1.72652113e-01,\n",
       "         3.11732857e-01,   3.57987879e-01,   2.52805373e-01,\n",
       "         3.20930234e-01,   2.81804957e-01,   5.51123624e-01,\n",
       "         2.40872114e-01,  -1.20739676e-01,  -3.31075952e-01,\n",
       "        -2.41898947e-01,  -6.51911620e-01,  -6.52117500e-01,\n",
       "        -3.88972643e-01,  -4.06960035e-01,  -7.82340113e-01,\n",
       "         6.74708473e-02,   1.08733876e+00,  -2.41140939e-01,\n",
       "         9.21931060e-01,   2.00422718e-01,   6.79454882e-01,\n",
       "        -1.72220273e+00,  -1.39261063e+00,  -1.97751009e+00,\n",
       "        -0.00000000e+00])\n",
       "  message: 'STOP: TOTAL NO. of ITERATIONS EXCEEDS LIMIT'\n",
       "     nfev: 559\n",
       "      nit: 501\n",
       "   status: 1\n",
       "  success: False\n",
       "        x: array([ -7.51886858e-01,  -2.25217197e-01,  -3.03412400e-01,\n",
       "        -1.60390752e-01,  -2.47499549e-01,  -4.43535988e-01,\n",
       "        -3.22189274e-01,  -1.45411167e-01,  -2.32705390e-01,\n",
       "         4.41007763e-03,  -1.95344722e-01,  -1.51496012e-01,\n",
       "         4.46985592e-02,   1.79483240e-02,   2.12853005e-02,\n",
       "         5.96866119e-02,  -1.16470642e-01,  -7.49600766e-02,\n",
       "        -1.98233897e-01,   3.31749248e-02,  -1.30741901e-01,\n",
       "        -5.53839957e-02,  -1.52906298e-01,  -9.77842265e-02,\n",
       "        -1.29114316e-01,  -1.26040977e-01,  -1.17708534e-01,\n",
       "        -1.07409213e-01,  -9.57133669e-02,  -9.41277297e-02,\n",
       "        -1.73753648e-01,  -7.18292145e-02,  -1.81948914e-01,\n",
       "        -1.38579741e-01,  -7.81823421e-02,  -8.32142469e-02,\n",
       "        -1.50087129e-01,  -7.84566166e-02,  -1.71200688e-01,\n",
       "        -8.23847549e-02,  -1.45148273e-01,  -1.06460975e-01,\n",
       "        -2.38499380e-01,  -1.01153552e-01,  -2.38150130e-01,\n",
       "        -1.20855879e-01,  -1.78542868e-01,  -1.69842431e-01,\n",
       "        -1.69209973e-01,  -1.24384730e-01,  -1.89081270e-01,\n",
       "        -1.29400184e-01,  -1.25993280e-01,  -2.23613579e-01,\n",
       "        -1.06498790e-01,  -1.67836099e-01,  -2.05096929e-01,\n",
       "        -9.94927246e-02,  -1.07398975e-01,  -2.22433879e-01,\n",
       "        -1.87057689e-01,  -1.87817539e-01,  -8.67417706e-02,\n",
       "        -1.83129505e-01,  -1.64982548e-01,  -1.61656143e-01,\n",
       "        -1.40888272e-01,  -1.86164879e-01,  -1.57979544e-01,\n",
       "        -1.87979756e-01,  -1.43295713e-01,  -1.55125661e-01,\n",
       "        -2.97235664e-01,  -5.17673428e-01,  -6.98628133e-01,\n",
       "        -2.43765705e-01,  -5.74429694e-01,  -4.14301165e-01,\n",
       "        -6.93251196e-01,  -5.88163220e-01,  -3.90258069e-01,\n",
       "        -2.56423930e-01,  -4.82830792e-01,  -4.09724179e-01,\n",
       "        -2.75283799e-01,  -3.64611099e-01,  -2.78078646e-01,\n",
       "        -1.57729552e-01,  -1.36333830e-01,  -7.36305016e-02,\n",
       "        -3.10733979e-02,  -1.65643268e-02,  -4.14413143e-03,\n",
       "        -3.92816652e-03,   1.45745550e+00,   5.15848319e+00,\n",
       "         2.24372725e+00,   1.78000015e+00,   2.63672072e+00,\n",
       "         5.42819286e+00,   1.36229821e+00,   1.14898033e+00,\n",
       "         2.90126250e+00,   1.78453113e+00,   1.98511150e+00,\n",
       "         2.29109654e+00,   1.59616158e+00,   1.15610875e+00,\n",
       "         1.36006457e+00,   1.42077573e+00,   1.38150078e+00,\n",
       "         2.45765430e+00,   9.94294140e-01,   7.13335606e-01,\n",
       "         1.34146434e+00,   9.23391446e-01,   1.22386550e+00,\n",
       "         8.89046889e-01,   7.64289869e-01,   7.10308440e-01,\n",
       "         6.84443000e-01,   6.72646214e-01,   6.52622773e-01,\n",
       "         6.39953807e-01,   1.06550375e+00,   7.19047349e-01,\n",
       "         9.22982080e-01,   7.97063297e-01,   5.22214721e-01,\n",
       "         4.40018991e-01,   6.18691603e-01,   4.86147235e-01,\n",
       "         7.28184451e-01,   4.89060877e-01,   4.86762053e-01,\n",
       "         3.93708406e-01,   6.98711103e-01,   3.77476743e-01,\n",
       "         3.89284622e-01,   2.72928565e-01,   2.72909044e-01,\n",
       "         2.65483633e-01,   2.50966539e-01,   1.96674359e-01,\n",
       "         2.00737128e-01,   1.64632733e-01,   1.38804531e-01,\n",
       "         1.67603872e-01,   1.24655879e-01,   1.15094468e-01,\n",
       "         1.07904269e-01,   7.11061741e-02,   5.40323188e-02,\n",
       "         4.09129025e-02,   9.83119230e-03,  -2.49588758e-02,\n",
       "        -2.60128881e-02,  -7.16740975e-02,  -1.07251601e-01,\n",
       "        -1.11510832e-01,  -1.00411386e-01,  -1.26760609e-01,\n",
       "        -1.15691527e-01,  -1.20962796e-01,  -9.75651183e-02,\n",
       "        -9.45595873e-02,  -1.40469643e-01,  -2.77762006e-01,\n",
       "        -2.04532208e-01,  -9.83623730e-02,  -1.23291197e-01,\n",
       "        -1.19358950e-01,  -1.95315134e-01,  -1.48953318e-01,\n",
       "        -1.01015968e-01,  -7.14978307e-02,  -1.13976205e-01,\n",
       "        -8.14087127e-02,  -8.01159172e-02,  -1.09213715e-01,\n",
       "        -7.36624542e-02,  -5.47939512e-02,  -5.26864664e-02,\n",
       "        -2.84535401e-02,  -1.72184953e-02,  -1.17815837e-02,\n",
       "        -3.88283428e-03,  -2.91387664e-03,  -5.31098707e-02,\n",
       "        -4.40567397e-01,   2.16191084e-01,   5.40525829e-02,\n",
       "        -2.49539640e-01,  -3.70593367e-01,  -2.51090371e-01,\n",
       "         7.52231509e-02,   1.44844589e-01,   3.35189200e-01,\n",
       "         1.23738872e-01,   6.10577485e-02,  -1.80044070e-01,\n",
       "        -2.60192086e-01,  -4.94922754e-01,  -7.06205604e-01,\n",
       "        -9.53917704e-01,  -2.20127463e+00,  -3.00483954e+00,\n",
       "        -2.94246630e+00,  -2.83124052e+00,  -3.09515064e+00,\n",
       "        -2.67715941e+00,  -2.65692763e+00,  -1.50028310e+00,\n",
       "        -1.68799914e+00,  -1.73447785e+00,  -1.45275373e+00,\n",
       "        -1.27405417e+00,  -1.23568893e+00,  -1.76187584e+00,\n",
       "        -1.12746457e+00,  -8.51569738e-01,  -4.51562913e-01,\n",
       "         5.75051155e-02,   1.11556726e-01,   3.22697408e-01,\n",
       "         4.42313361e-01,   7.03602068e-01,   6.11642885e-01,\n",
       "         7.28991558e-01,   4.00509845e-01,   9.26614724e-01,\n",
       "         4.45036553e-01,   6.74335012e-01,   2.01880742e-01,\n",
       "         3.21278060e-01,   2.44430549e-01,   1.67862275e-01,\n",
       "         8.63196494e-02,   2.33840199e-02,  -5.57500571e-02,\n",
       "        -1.14240455e-01,  -2.90629920e-01,  -1.34366614e-01,\n",
       "        -8.32408269e-03,   3.05924726e-01,   2.26641240e-01,\n",
       "         2.45158174e-01,   2.72613172e-01,   1.50470468e-01,\n",
       "         2.24420000e-01,   1.90478265e-01,   1.80000707e-01,\n",
       "         1.26744914e-01,   4.40557454e-02,  -1.57557338e-02,\n",
       "        -4.47641051e-02,  -4.81708811e-02,  -1.32723619e-02,\n",
       "         2.88875288e-02,   5.40694669e-02,   1.79023292e-01,\n",
       "         5.87677433e-01,   8.01312157e-01,   2.69013123e-01,\n",
       "        -5.03608703e-02,   8.68579495e-03,   3.27706721e-01,\n",
       "         4.59133340e-01,   3.84992583e-01,   2.54733943e-01,\n",
       "         5.07513705e-01,   7.14964529e-02,  -3.12119298e-01,\n",
       "        -1.18809430e+00,  -1.86623773e+00,  -1.73462195e-01,\n",
       "         2.36781372e-02,   1.06203912e+00,  -1.49945310e+00,\n",
       "        -2.22033236e-01,  -9.83477148e-02,   1.07893188e+00,\n",
       "        -5.01168238e-01,   2.92254320e+00,   6.59664665e-01,\n",
       "         5.41323273e-01])"
      ]
     },
     "execution_count": 6,
     "metadata": {},
     "output_type": "execute_result"
    }
   ],
   "source": [
    "m.optimize(maxiter=5000)"
   ]
  },
  {
   "cell_type": "code",
   "execution_count": null,
   "metadata": {
    "scrolled": true
   },
   "outputs": [],
   "source": [
    "samples = m.sample(300, verbose=True, epsilon=0.01, thin = 2, burn = 200, Lmax = 40)"
   ]
  },
  {
   "cell_type": "code",
   "execution_count": null,
   "metadata": {
    "scrolled": true
   },
   "outputs": [],
   "source": [
    "m"
   ]
  },
  {
   "cell_type": "code",
   "execution_count": null,
   "metadata": {
    "collapsed": true
   },
   "outputs": [],
   "source": [
    "xnew = np.linspace(0,60,50)[:,None]\n",
    "xx = (xnew - Xm)/Xv"
   ]
  },
  {
   "cell_type": "code",
   "execution_count": null,
   "metadata": {
    "collapsed": true
   },
   "outputs": [],
   "source": [
    "sample_df = m.get_samples_df(samples)"
   ]
  },
  {
   "cell_type": "code",
   "execution_count": null,
   "metadata": {
    "collapsed": true
   },
   "outputs": [],
   "source": [
    "mean_l_mat = np.zeros(shape = (samples.shape[0], xx.shape[0]))\n",
    "var_l_mat = np.zeros(shape = (samples.shape[0], xx.shape[0]))"
   ]
  },
  {
   "cell_type": "code",
   "execution_count": null,
   "metadata": {
    "collapsed": true
   },
   "outputs": [],
   "source": [
    "for i, s in sample_df.iterrows():\n",
    "    m.set_parameter_dict(s)\n",
    "    mean1, v1 = m.predict_l(xx)\n",
    "    var1 = v1[:,:]\n",
    "    mean_l_mat[i,:] = mean1[:,0]\n",
    "    var_l_mat[i,:] = np.diag(var1)\n",
    "\n",
    "std_l_mat = np.sqrt(var_l_mat)"
   ]
  },
  {
   "cell_type": "code",
   "execution_count": null,
   "metadata": {
    "collapsed": true
   },
   "outputs": [],
   "source": [
    "LowerlogL = mean_l_mat - 2*std_l_mat\n",
    "UpperlogL = mean_l_mat + 2*std_l_mat"
   ]
  },
  {
   "cell_type": "code",
   "execution_count": null,
   "metadata": {
    "collapsed": true
   },
   "outputs": [],
   "source": [
    "MeanL = np.exp(mean_l_mat)\n",
    "LowerL = np.exp(LowerlogL)\n",
    "UpperL = np.exp(UpperlogL)"
   ]
  },
  {
   "cell_type": "code",
   "execution_count": null,
   "metadata": {
    "collapsed": true
   },
   "outputs": [],
   "source": [
    "def visualize(Xgrid, M, L, U):\n",
    "    \"\"\"\n",
    "    Visualize 1D utility funciton values\n",
    "    Xgrid : grid states\n",
    "    Mgrid : mean of GP at those finite grid points\n",
    "    Vargrid : variance of GP at those finite grid points\n",
    "    \"\"\"\n",
    "    \n",
    "    line, = plt.plot(Xgrid, M, lw = 2, color = 'b', label = 'utility', alpha = 0.5)\n",
    "    plt.fill_between(Xgrid[:,0], L, U,\n",
    "                     color = 'b', alpha = 0.25)\n",
    "    #plt.fill_between(Xgrid[:,0], lower1, upper1,\n",
    "    #                 color = 'g', alpha = 0.25)\n",
    "    plt.xlabel('x')\n",
    "    plt.ylabel('y')\n",
    "    return"
   ]
  },
  {
   "cell_type": "code",
   "execution_count": null,
   "metadata": {},
   "outputs": [],
   "source": [
    "mini = 105\n",
    "maxi = 110\n",
    "plt.figure(figsize=(12,8))\n",
    "for i in xrange(mini,maxi):\n",
    "    visualize(xnew, MeanL[i,:], LowerL[i,:], UpperL[i,:])  "
   ]
  },
  {
   "cell_type": "code",
   "execution_count": null,
   "metadata": {
    "collapsed": true
   },
   "outputs": [],
   "source": [
    "mean_n_mat = np.zeros(shape = (samples.shape[0], xx.shape[0]))\n",
    "var_n_mat = np.zeros(shape = (samples.shape[0], xx.shape[0]))"
   ]
  },
  {
   "cell_type": "code",
   "execution_count": null,
   "metadata": {
    "collapsed": true
   },
   "outputs": [],
   "source": [
    "for i, s in sample_df.iterrows():\n",
    "    m.set_parameter_dict(s)\n",
    "    mean1, v1 = m.predict_n(xx)\n",
    "    var1 = v1[:,:]\n",
    "    mean_n_mat[i,:] = mean1[:,0]\n",
    "    var_n_mat[i,:] = np.diag(var1)\n",
    "\n",
    "std_n_mat = np.sqrt(var_n_mat)"
   ]
  },
  {
   "cell_type": "code",
   "execution_count": null,
   "metadata": {
    "collapsed": true
   },
   "outputs": [],
   "source": [
    "LowerlogN = mean_n_mat - 2*std_n_mat\n",
    "UpperlogN = mean_n_mat + 2*std_n_mat"
   ]
  },
  {
   "cell_type": "code",
   "execution_count": null,
   "metadata": {
    "collapsed": true
   },
   "outputs": [],
   "source": [
    "MeanN = np.exp(mean_n_mat)\n",
    "LowerN = np.exp(LowerlogN)\n",
    "UpperN = np.exp(UpperlogN)"
   ]
  },
  {
   "cell_type": "code",
   "execution_count": null,
   "metadata": {},
   "outputs": [],
   "source": [
    "mini = 10\n",
    "maxi = 11\n",
    "plt.figure(figsize=(12,8))\n",
    "for i in xrange(mini,maxi):\n",
    "    visualize(xnew, MeanN[i,:], LowerN[i,:], UpperN[i,:])  "
   ]
  },
  {
   "cell_type": "code",
   "execution_count": null,
   "metadata": {
    "collapsed": true
   },
   "outputs": [],
   "source": [
    "sig_samples = m.signal_variance.get_samples_df(samples)\n",
    "signal_var = np.array([])\n",
    "for s in sig_samples:\n",
    "    signal_var = np.append(signal_var, s)"
   ]
  },
  {
   "cell_type": "code",
   "execution_count": null,
   "metadata": {},
   "outputs": [],
   "source": [
    "mean_f_mat = np.zeros(shape = (samples.shape[0], xx.shape[0]))\n",
    "var_f_mat = np.zeros(shape = (samples.shape[0], xx.shape[0]))\n",
    "\n",
    "for i, s in sample_df.iterrows():\n",
    "    m.set_parameter_dict(s)\n",
    "    mean1, v1 = m.predict_f(xx)\n",
    "    var1 = v1[:,:]\n",
    "    mean_f_mat[i,:] = mean1[:,0]\n",
    "    var_f_mat[i,:] = np.diag(var1)    "
   ]
  },
  {
   "cell_type": "code",
   "execution_count": null,
   "metadata": {},
   "outputs": [],
   "source": [
    "std_f_mat = np.sqrt(var_f_mat)"
   ]
  },
  {
   "cell_type": "code",
   "execution_count": null,
   "metadata": {
    "collapsed": true
   },
   "outputs": [],
   "source": [
    "Lowerf = mean_f_mat - 2*std_f_mat\n",
    "Upperf = mean_f_mat + 2*std_f_mat"
   ]
  },
  {
   "cell_type": "code",
   "execution_count": null,
   "metadata": {
    "collapsed": true
   },
   "outputs": [],
   "source": [
    "def visualize(Xgrid, M, L, U):\n",
    "    \"\"\"\n",
    "    Visualize 1D utility funciton values\n",
    "    Xgrid : grid states\n",
    "    Mgrid : mean of GP at those finite grid points\n",
    "    Vargrid : variance of GP at those finite grid points\n",
    "    \"\"\"\n",
    "    #plt.plot(X, Y, '.')\n",
    "    \n",
    "    line, = plt.plot(Xgrid, M, lw = 2, color = 'b', label = 'utility', alpha = 0.5)\n",
    "    plt.fill_between(Xgrid[:,0], L, U,\n",
    "                     color = 'b', alpha = 0.25)\n",
    "    #plt.fill_between(Xgrid[:,0], lower1, upper1,\n",
    "    #                 color = 'g', alpha = 0.25)\n",
    "    plt.xlabel('x')\n",
    "    plt.ylabel('y')\n",
    "    return"
   ]
  },
  {
   "cell_type": "code",
   "execution_count": null,
   "metadata": {},
   "outputs": [],
   "source": [
    "mini = 1405\n",
    "maxi = 1408\n",
    "plt.figure(figsize=(12,8))\n",
    "for i in xrange(mini,maxi):\n",
    "    visualize(xnew, mean_f_mat[i,:], Lowerf[i,:], Upperf[i,:])  "
   ]
  },
  {
   "cell_type": "code",
   "execution_count": null,
   "metadata": {
    "collapsed": true
   },
   "outputs": [],
   "source": [
    "def visualize_all(Xgrid, M1, L1, U1, U2, signal_var):\n",
    "    \"\"\"\n",
    "    Visualize\n",
    "    \"\"\"\n",
    "    M1 = np.sqrt(signal_var)*M1\n",
    "    L1 = np.sqrt(signal_var)*L1\n",
    "    U1 = np.sqrt(signal_var)*U1\n",
    "    \n",
    "    L2 = L1 - U2\n",
    "    U2 = U1 + U2\n",
    "    \n",
    "    plt.plot(X, Y, '.')\n",
    "    line, = plt.plot(Xgrid, M1, lw = 2, color = 'b', label = 'utility', alpha = 0.5)\n",
    "    plt.fill_between(Xgrid[:,0], L1, U1,\n",
    "                     color = 'b', alpha = 0.25)\n",
    "    plt.fill_between(Xgrid[:,0], L2, U2,\n",
    "                     color = 'g', alpha = 0.25)\n",
    "    plt.xlabel('x')\n",
    "    plt.ylabel('y')\n",
    "    return"
   ]
  },
  {
   "cell_type": "code",
   "execution_count": null,
   "metadata": {},
   "outputs": [],
   "source": [
    "mini = 1605\n",
    "maxi = 1610\n",
    "plt.figure(figsize=(12,8))\n",
    "for i in xrange(mini,maxi):\n",
    "    visualize_all(xnew, mean_f_mat[i,:],\n",
    "              Lowerf[i,:], Upperf[i,:],\n",
    "              UpperN[i,:], signal_var[i])"
   ]
  },
  {
   "cell_type": "code",
   "execution_count": null,
   "metadata": {},
   "outputs": [],
   "source": [
    "m"
   ]
  },
  {
   "cell_type": "code",
   "execution_count": null,
   "metadata": {
    "collapsed": true
   },
   "outputs": [],
   "source": []
  }
 ],
 "metadata": {
  "kernelspec": {
   "display_name": "Python [default]",
   "language": "python",
   "name": "python2"
  },
  "language_info": {
   "codemirror_mode": {
    "name": "ipython",
    "version": 2
   },
   "file_extension": ".py",
   "mimetype": "text/x-python",
   "name": "python",
   "nbconvert_exporter": "python",
   "pygments_lexer": "ipython2",
   "version": "2.7.14"
  }
 },
 "nbformat": 4,
 "nbformat_minor": 2
}
