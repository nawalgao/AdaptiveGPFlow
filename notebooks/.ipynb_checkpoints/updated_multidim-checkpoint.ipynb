{
 "cells": [
  {
   "cell_type": "code",
   "execution_count": 1,
   "metadata": {},
   "outputs": [
    {
     "ename": "RuntimeError",
     "evalue": "module compiled against API version 0xb but this version of numpy is 0xa",
     "output_type": "error",
     "traceback": [
      "\u001b[0;31m---------------------------------------------------------------------------\u001b[0m",
      "\u001b[0;31mRuntimeError\u001b[0m                              Traceback (most recent call last)",
      "\u001b[0;31mRuntimeError\u001b[0m: module compiled against API version 0xb but this version of numpy is 0xa"
     ]
    },
    {
     "ename": "RuntimeError",
     "evalue": "module compiled against API version 0xb but this version of numpy is 0xa",
     "output_type": "error",
     "traceback": [
      "\u001b[0;31m---------------------------------------------------------------------------\u001b[0m",
      "\u001b[0;31mRuntimeError\u001b[0m                              Traceback (most recent call last)",
      "\u001b[0;31mRuntimeError\u001b[0m: module compiled against API version 0xb but this version of numpy is 0xa"
     ]
    }
   ],
   "source": [
    "import gpflow\n",
    "import numpy as np\n",
    "import matplotlib.pyplot as plt\n",
    "%matplotlib inline\n",
    "import sys\n",
    "sys.path.append('../')\n",
    "from GPHetero import hetero_kernels, hetero_likelihoods, hetero_gpmc\n",
    "from pyDOE import *\n",
    "import os\n",
    "from scipy.stats import norm"
   ]
  },
  {
   "cell_type": "code",
   "execution_count": 2,
   "metadata": {},
   "outputs": [
    {
     "data": {
      "text/plain": [
       "(array([-1. , -0.5,  0. ,  0.5,  1. ,  1.5,  2. ]),\n",
       " <a list of 7 Text yticklabel objects>)"
      ]
     },
     "execution_count": 2,
     "metadata": {},
     "output_type": "execute_result"
    },
    {
     "data": {
      "image/png": "[encoded data removed]",
      "text/plain": [
       "<matplotlib.figure.Figure at 0x107f104d0>"
      ]
     },
     "metadata": {},
     "output_type": "display_data"
    }
   ],
   "source": [
    "dim = 8\n",
    "n = 10\n",
    "noise=0\n",
    "sigma = eval('lambda x: ' + str(noise))\n",
    "\n",
    "X = np.load('../data/X_init_8d_40.npy')\n",
    "Xnorm = (X - 0.5) /0.5\n",
    "Y = np.load('../data/Y_init_8d_40.npy') [:, 1][:, None]\n",
    "fig, ax = plt.subplots()\n",
    "ax.plot(X[:, 7], Y, 'x', markeredgewidth=2, color='black')\n",
    "ax.set_xlabel('$x$', fontsize=16)\n",
    "ax.set_ylabel('$f(x)$', fontsize=16)\n",
    "plt.xticks(fontsize=16)\n",
    "plt.yticks(fontsize=16)"
   ]
  },
  {
   "cell_type": "code",
   "execution_count": 3,
   "metadata": {
    "collapsed": true
   },
   "outputs": [],
   "source": [
    "kerns_list = [gpflow.kernels.RBF(1), gpflow.kernels.RBF(1), gpflow.kernels.RBF(1),\n",
    "             gpflow.kernels.RBF(1), gpflow.kernels.RBF(1), gpflow.kernels.RBF(1),\n",
    "             gpflow.kernels.RBF(1), gpflow.kernels.RBF(1)]\n",
    "mean_funcs_list = [gpflow.mean_functions.Constant(-2), gpflow.mean_functions.Constant(-2),\n",
    "                  gpflow.mean_functions.Constant(-2), gpflow.mean_functions.Constant(-2),\n",
    "                  gpflow.mean_functions.Constant(-2), gpflow.mean_functions.Constant(-2),\n",
    "                  gpflow.mean_functions.Constant(-2), gpflow.mean_functions.Constant(-2)]\n",
    "nonstat = hetero_kernels.NonStationaryLengthscaleRBF()"
   ]
  },
  {
   "cell_type": "code",
   "execution_count": 4,
   "metadata": {},
   "outputs": [
    {
     "name": "stdout",
     "output_type": "stream",
     "text": [
      "[<gpflow.kernels.RBF object at 0x107f0f390>, <gpflow.kernels.RBF object at 0x107f0f450>, <gpflow.kernels.RBF object at 0x107f0f650>, <gpflow.kernels.RBF object at 0x107f0f750>, <gpflow.kernels.RBF object at 0x107f0f810>, <gpflow.kernels.RBF object at 0x107f0f8d0>, <gpflow.kernels.RBF object at 0x107f0f990>, <gpflow.kernels.RBF object at 0x107f0fa50>]\n",
      "\n",
      "\n",
      "[<gpflow.mean_functions.Constant object at 0x107f0f350>, <gpflow.mean_functions.Constant object at 0x107f0fb90>, <gpflow.mean_functions.Constant object at 0x107f0fc10>, <gpflow.mean_functions.Constant object at 0x107f0fc90>, <gpflow.mean_functions.Constant object at 0x107f0fd10>, <gpflow.mean_functions.Constant object at 0x107f0fd90>, <gpflow.mean_functions.Constant object at 0x107f0fe10>, <gpflow.mean_functions.Constant object at 0x107f0fe90>]\n"
     ]
    }
   ],
   "source": [
    "print kerns_list\n",
    "print '\\n'\n",
    "print mean_funcs_list"
   ]
  },
  {
   "cell_type": "code",
   "execution_count": 5,
   "metadata": {},
   "outputs": [],
   "source": [
    "m = hetero_gpmc.GPMCAdaptiveLengthscaleMultDimDev(Xnorm, Y, kerns_list, nonstat, mean_funcs_list)"
   ]
  },
  {
   "cell_type": "code",
   "execution_count": 6,
   "metadata": {
    "scrolled": false
   },
   "outputs": [
    {
     "data": {
      "text/html": [
       "<table id='params' width=100%><tr><td>Name</td><td>values</td><td>prior</td><td>constraint</td></tr><tr><td>adaptive_lengthscale_gp_multdim.V</td><td>[[ 0.  0.  0.  0.  0.  0.  0.  0.]</br> [ 0.  0.  0.  0.  0.  0.  0.  0.]</br> [ 0.  0.  0.  0.  0.  0.  0.  0.]</br> [ 0.  0.  0.  0.  0.  0.  0.  0.]</br> [ 0.  0.  0.  0.  0.  0.  0.  0.]</br> [ 0.  0.  0.  0.  0.  0.  0.  0.]</br> [ 0.  0.  0.  0.  0.  0.  0.  0.]</br> [ 0.  0.  0.  0.  0.  0.  0.  0.]</br> [ 0.  0.  0.  0.  0.  0.  0.  0.]</br> [ 0.  0.  0.  0.  0.  0.  0.  0.]</br> [ 0.  0.  0.  0.  0.  0.  0.  0.]</br> [ 0.  0.  0.  0.  0.  0.  0.  0.]</br> [ 0.  0.  0.  0.  0.  0.  0.  0.]</br> [ 0.  0.  0.  0.  0.  0.  0.  0.]</br> [ 0.  0.  0.  0.  0.  0.  0.  0.]</br> [ 0.  0.  0.  0.  0.  0.  0.  0.]</br> [ 0.  0.  0.  0.  0.  0.  0.  0.]</br> [ 0.  0.  0.  0.  0.  0.  0.  0.]</br> [ 0.  0.  0.  0.  0.  0.  0.  0.]</br> [ 0.  0.  0.  0.  0.  0.  0.  0.]</br> [ 0.  0.  0.  0.  0.  0.  0.  0.]</br> [ 0.  0.  0.  0.  0.  0.  0.  0.]</br> [ 0.  0.  0.  0.  0.  0.  0.  0.]</br> [ 0.  0.  0.  0.  0.  0.  0.  0.]</br> [ 0.  0.  0.  0.  0.  0.  0.  0.]</br> [ 0.  0.  0.  0.  0.  0.  0.  0.]</br> [ 0.  0.  0.  0.  0.  0.  0.  0.]</br> [ 0.  0.  0.  0.  0.  0.  0.  0.]</br> [ 0.  0.  0.  0.  0.  0.  0.  0.]</br> [ 0.  0.  0.  0.  0.  0.  0.  0.]</br> [ 0.  0.  0.  0.  0.  0.  0.  0.]</br> [ 0.  0.  0.  0.  0.  0.  0.  0.]</br> [ 0.  0.  0.  0.  0.  0.  0.  0.]</br> [ 0.  0.  0.  0.  0.  0.  0.  0.]</br> [ 0.  0.  0.  0.  0.  0.  0.  0.]</br> [ 0.  0.  0.  0.  0.  0.  0.  0.]</br> [ 0.  0.  0.  0.  0.  0.  0.  0.]</br> [ 0.  0.  0.  0.  0.  0.  0.  0.]</br> [ 0.  0.  0.  0.  0.  0.  0.  0.]</br> [ 0.  0.  0.  0.  0.  0.  0.  0.]]</td><td>N([ 0.],[ 1.])</td><td>(none)</td></tr><tr><td>adaptive_lengthscale_gp_multdim.V4</td><td>[[ 0.]</br> [ 0.]</br> [ 0.]</br> [ 0.]</br> [ 0.]</br> [ 0.]</br> [ 0.]</br> [ 0.]</br> [ 0.]</br> [ 0.]</br> [ 0.]</br> [ 0.]</br> [ 0.]</br> [ 0.]</br> [ 0.]</br> [ 0.]</br> [ 0.]</br> [ 0.]</br> [ 0.]</br> [ 0.]</br> [ 0.]</br> [ 0.]</br> [ 0.]</br> [ 0.]</br> [ 0.]</br> [ 0.]</br> [ 0.]</br> [ 0.]</br> [ 0.]</br> [ 0.]</br> [ 0.]</br> [ 0.]</br> [ 0.]</br> [ 0.]</br> [ 0.]</br> [ 0.]</br> [ 0.]</br> [ 0.]</br> [ 0.]</br> [ 0.]]</td><td>N([ 0.],[ 1.])</td><td>(none)</td></tr><tr><td>adaptive_lengthscale_gp_multdim.kerns_list.item0.lengthscales</td><td>[ 1.]</td><td>None</td><td>+ve</td></tr><tr><td>adaptive_lengthscale_gp_multdim.kerns_list.item0.variance</td><td>[ 1.]</td><td>None</td><td>+ve</td></tr><tr><td>adaptive_lengthscale_gp_multdim.kerns_list.item1.lengthscales</td><td>[ 1.]</td><td>None</td><td>+ve</td></tr><tr><td>adaptive_lengthscale_gp_multdim.kerns_list.item1.variance</td><td>[ 1.]</td><td>None</td><td>+ve</td></tr><tr><td>adaptive_lengthscale_gp_multdim.kerns_list.item2.lengthscales</td><td>[ 1.]</td><td>None</td><td>+ve</td></tr><tr><td>adaptive_lengthscale_gp_multdim.kerns_list.item2.variance</td><td>[ 1.]</td><td>None</td><td>+ve</td></tr><tr><td>adaptive_lengthscale_gp_multdim.kerns_list.item3.lengthscales</td><td>[ 1.]</td><td>None</td><td>+ve</td></tr><tr><td>adaptive_lengthscale_gp_multdim.kerns_list.item3.variance</td><td>[ 1.]</td><td>None</td><td>+ve</td></tr><tr><td>adaptive_lengthscale_gp_multdim.kerns_list.item4.lengthscales</td><td>[ 1.]</td><td>None</td><td>+ve</td></tr><tr><td>adaptive_lengthscale_gp_multdim.kerns_list.item4.variance</td><td>[ 1.]</td><td>None</td><td>+ve</td></tr><tr><td>adaptive_lengthscale_gp_multdim.kerns_list.item5.lengthscales</td><td>[ 1.]</td><td>None</td><td>+ve</td></tr><tr><td>adaptive_lengthscale_gp_multdim.kerns_list.item5.variance</td><td>[ 1.]</td><td>None</td><td>+ve</td></tr><tr><td>adaptive_lengthscale_gp_multdim.kerns_list.item6.lengthscales</td><td>[ 1.]</td><td>None</td><td>+ve</td></tr><tr><td>adaptive_lengthscale_gp_multdim.kerns_list.item6.variance</td><td>[ 1.]</td><td>None</td><td>+ve</td></tr><tr><td>adaptive_lengthscale_gp_multdim.kerns_list.item7.lengthscales</td><td>[ 1.]</td><td>None</td><td>+ve</td></tr><tr><td>adaptive_lengthscale_gp_multdim.kerns_list.item7.variance</td><td>[ 1.]</td><td>None</td><td>+ve</td></tr><tr><td>adaptive_lengthscale_gp_multdim.likelihood.variance</td><td>[ 1.]</td><td>None</td><td>+ve</td></tr><tr><td>adaptive_lengthscale_gp_multdim.mean_funcs_list.item0.c</td><td>[-2.]</td><td>None</td><td>(none)</td></tr><tr><td>adaptive_lengthscale_gp_multdim.mean_funcs_list.item1.c</td><td>[-2.]</td><td>None</td><td>(none)</td></tr><tr><td>adaptive_lengthscale_gp_multdim.mean_funcs_list.item2.c</td><td>[-2.]</td><td>None</td><td>(none)</td></tr><tr><td>adaptive_lengthscale_gp_multdim.mean_funcs_list.item3.c</td><td>[-2.]</td><td>None</td><td>(none)</td></tr><tr><td>adaptive_lengthscale_gp_multdim.mean_funcs_list.item4.c</td><td>[-2.]</td><td>None</td><td>(none)</td></tr><tr><td>adaptive_lengthscale_gp_multdim.mean_funcs_list.item5.c</td><td>[-2.]</td><td>None</td><td>(none)</td></tr><tr><td>adaptive_lengthscale_gp_multdim.mean_funcs_list.item6.c</td><td>[-2.]</td><td>None</td><td>(none)</td></tr><tr><td>adaptive_lengthscale_gp_multdim.mean_funcs_list.item7.c</td><td>[-2.]</td><td>None</td><td>(none)</td></tr><tr><td>adaptive_lengthscale_gp_multdim.nonstat.signal_variance</td><td>[ 1.]</td><td>None</td><td>+ve</td></tr></table>"
      ],
      "text/plain": [
       "<GPHetero.hetero_gpmc.GPMCAdaptiveLengthscaleMultDimDev at 0x107f10550>"
      ]
     },
     "execution_count": 6,
     "metadata": {},
     "output_type": "execute_result"
    }
   ],
   "source": [
    "m"
   ]
  },
  {
   "cell_type": "code",
   "execution_count": 7,
   "metadata": {
    "collapsed": true
   },
   "outputs": [],
   "source": [
    "for i in xrange(dim):\n",
    "    m.kerns_list[i].lengthscales.prior = gpflow.priors.Gamma(1., 1.)\n",
    "    m.kerns_list[i].variance.prior = gpflow.priors.Gamma(1., 1.)\n",
    "    m.mean_funcs_list[i].c = -2.\n",
    "    m.mean_funcs_list[i].c.fixed = True \n",
    "    \n",
    "m.nonstat.signal_variance.prior = gpflow.priors.Gamma(1., 2.)\n",
    "m.likelihood.variance = 1e-6\n",
    "m.likelihood.variance.fixed = True"
   ]
  },
  {
   "cell_type": "code",
   "execution_count": null,
   "metadata": {
    "collapsed": true
   },
   "outputs": [],
   "source": []
  },
  {
   "cell_type": "code",
   "execution_count": 8,
   "metadata": {},
   "outputs": [
    {
     "data": {
      "text/plain": [
       "      fun: array([ 118.11862793])\n",
       " hess_inv: <377x377 LbfgsInvHessProduct with dtype=float64>\n",
       "      jac: array([  1.54530382e-03,   1.17786517e-04,   2.70995670e-04,\n",
       "         1.86080888e-03,   5.05034885e-04,   3.55325383e-04,\n",
       "         4.06949173e-04,   9.69764999e-04,   4.56231125e-04,\n",
       "         9.25612748e-06,   2.48050363e-04,   1.21227476e-03,\n",
       "         1.58370082e-04,  -2.53731390e-05,   8.37114832e-06,\n",
       "        -4.13866349e-06,  -7.14862620e-05,   2.51365612e-06,\n",
       "        -1.60033151e-05,   7.10445749e-05,   4.86206357e-05,\n",
       "        -6.88449234e-06,   9.41240136e-06,   1.52682360e-05,\n",
       "         1.25007248e-05,  -1.89286248e-06,  -3.30375338e-07,\n",
       "         5.50195875e-05,   2.87854339e-05,  -3.01286213e-06,\n",
       "        -2.77640239e-06,  -6.81524036e-06,   2.94876533e-05,\n",
       "         4.16680535e-07,  -1.03100778e-06,   8.10372330e-06,\n",
       "         2.71331209e-06,   7.56441768e-06,   8.31819889e-07,\n",
       "         9.87836130e-08,  -3.91017812e-06,  -1.44691936e-06,\n",
       "         1.28000987e-06,   8.65885557e-06,  -2.31774208e-06,\n",
       "         6.49723444e-06,   7.05122543e-07,   5.52680473e-07,\n",
       "         6.71552030e-06,  -1.74437767e-06,  -1.18111026e-06,\n",
       "         4.02215423e-06,   3.89944394e-06,  -7.62262915e-07,\n",
       "        -3.26207366e-07,   1.22277359e-05,  -1.16279326e-06,\n",
       "        -7.26390021e-07,   2.27058412e-07,  -9.09616565e-07,\n",
       "         2.83724500e-06,   6.04377656e-08,   1.66391975e-08,\n",
       "         2.95264743e-06,   3.95323661e-06,  -2.34207083e-07,\n",
       "        -8.54336065e-07,   6.41881326e-06,   1.41784961e-06,\n",
       "        -2.15452982e-08,   3.30121160e-07,   8.88442555e-08,\n",
       "        -1.94516150e-06,  -1.97336371e-07,   6.33227539e-07,\n",
       "         5.54232885e-06,   1.50258625e-06,  -6.39273900e-07,\n",
       "        -6.68629784e-08,   1.01668058e-06,   3.30144751e-06,\n",
       "        -8.17599529e-08,   1.31898330e-06,   3.79168395e-06,\n",
       "        -2.05160406e-07,   3.38143609e-06,   1.11328429e-06,\n",
       "         1.27797480e-06,   4.08710145e-06,  -1.54606681e-07,\n",
       "         3.58014122e-06,  -1.01424867e-07,   2.47705431e-07,\n",
       "         1.09661961e-08,   2.56993171e-08,  -2.16270758e-08,\n",
       "         7.66245683e-06,   7.91859875e-07,   4.75263187e-06,\n",
       "         1.27836563e-05,   3.27532047e-06,   2.00629330e-06,\n",
       "         2.48029127e-07,   4.91700497e-06,  -9.55161882e-07,\n",
       "         1.59452196e-08,   1.56042068e-08,   6.52803944e-08,\n",
       "         1.93526759e-07,   1.17172917e-07,  -5.55533781e-07,\n",
       "         2.68954443e-07,   1.75241318e-06,   9.76144844e-08,\n",
       "         2.84165619e-07,   1.70156890e-06,   4.76085017e-07,\n",
       "         3.49518099e-08,   2.72776264e-07,  -1.01608608e-07,\n",
       "        -1.48344845e-07,   3.67476745e-08,   1.87911058e-08,\n",
       "         1.81114940e-06,   6.42268582e-07,  -2.20309429e-07,\n",
       "        -1.02991729e-08,  -6.93972471e-09,  -2.57208254e-07,\n",
       "         1.52362530e-08,   3.72525264e-07,   1.92045315e-07,\n",
       "        -2.10804550e-07,   1.01718142e-06,   2.07478527e-07,\n",
       "        -4.54420834e-09,   8.86104773e-07,   2.63471701e-08,\n",
       "         3.24161396e-08,   1.99100074e-06,  -4.38876246e-08,\n",
       "        -1.49672436e-08,   2.21030074e-07,  -1.43905201e-07,\n",
       "         1.21982152e-06,   7.49968893e-09,   2.66329452e-09,\n",
       "        -2.57279771e-07,  -1.16832064e-07,   5.25226884e-08,\n",
       "         3.01060823e-07,   1.22448543e-08,  -3.41083525e-07,\n",
       "         5.66770729e-10,  -2.12398203e-08,   1.92708290e-06,\n",
       "         1.62328976e-07,  -1.78940195e-08,   2.64810537e-08,\n",
       "        -1.23118415e-07,   8.23333556e-07,   1.25887050e-07,\n",
       "         6.18899566e-08,   1.09330332e-06,  -2.71076615e-07,\n",
       "         1.71635654e-08,  -6.65795965e-08,   1.69539094e-06,\n",
       "         8.32333382e-07,   4.21242474e-11,   2.03515116e-07,\n",
       "        -2.84140303e-08,  -4.25396307e-08,   5.58800567e-07,\n",
       "        -1.16326229e-07,   6.56828728e-08,   5.93467693e-07,\n",
       "         9.25659330e-08,   1.23211753e-08,   1.19903226e-06,\n",
       "        -3.97615041e-08,   1.97414775e-07,   8.04683448e-07,\n",
       "         8.55315734e-07,   7.29080058e-07,   3.06525573e-09,\n",
       "         4.35787061e-08,   1.11569594e-06,   1.60625240e-07,\n",
       "         8.48178400e-09,   2.42185980e-08,   7.76805101e-07,\n",
       "         7.85422606e-07,   2.96998582e-09,   2.50345282e-07,\n",
       "         8.40131360e-07,   2.46467948e-07,   3.50294477e-07,\n",
       "         2.97566032e-08,   1.29935955e-07,   1.34344800e-08,\n",
       "         5.61834773e-08,   7.82070689e-09,   3.52495831e-07,\n",
       "         4.53173664e-07,   3.81173408e-08,   5.02209434e-08,\n",
       "         1.52056986e-07,  -9.15260723e-09,   1.85949286e-08,\n",
       "         1.23408776e-07,   2.55272755e-07,   3.59062808e-07,\n",
       "         1.28811850e-08,   9.59757977e-10,  -7.87029323e-08,\n",
       "        -9.06123824e-08,   4.06722857e-10,   1.75925366e-07,\n",
       "        -7.21576910e-08,   1.18659008e-08,  -1.87107046e-08,\n",
       "         1.17283224e-08,  -2.10906589e-08,  -1.02526837e-07,\n",
       "         8.22252857e-09,  -1.22866713e-08,   1.22708776e-06,\n",
       "        -6.54509247e-08,  -2.59345293e-08,   2.56177766e-08,\n",
       "        -1.24110235e-07,   6.54201195e-07,  -7.47737235e-09,\n",
       "        -2.01627989e-08,   4.19779807e-07,  -5.07957465e-08,\n",
       "        -1.08780273e-08,   1.46415026e-08,  -9.21582470e-08,\n",
       "         3.45016851e-08,  -2.13079851e-09,  -1.79429664e-08,\n",
       "        -9.20796031e-08,   2.37941385e-07,   1.35866359e-07,\n",
       "         2.84186786e-09,   9.49614546e-08,   7.95967412e-07,\n",
       "         4.55192525e-08,   4.38095986e-08,   1.04608527e-06,\n",
       "         2.79803835e-07,  -1.59600456e-08,   7.62449750e-08,\n",
       "        -1.89780040e-07,   4.31190777e-07,   3.68031149e-08,\n",
       "         6.20969088e-08,   6.09803455e-07,   2.44904823e-07,\n",
       "         1.96229105e-09,   6.24163093e-08,   8.40563920e-08,\n",
       "         6.42303439e-06,   3.21814753e-07,   1.82750977e-06,\n",
       "         1.17225726e-05,   2.64061125e-06,   1.31259593e-06,\n",
       "         1.87487133e-07,   4.58888792e-06,  -2.08031304e-10,\n",
       "        -4.79158694e-10,   4.93768477e-09,   1.16038311e-08,\n",
       "         9.20902291e-10,   1.39949680e-08,   5.93019961e-10,\n",
       "         2.54660547e-09,  -5.55287815e-09,  -7.88535740e-09,\n",
       "        -2.17807330e-08,  -6.31730512e-09,  -5.68936571e-08,\n",
       "        -2.49722682e-08,  -4.83809058e-09,  -1.30447366e-08,\n",
       "        -1.54517525e-09,  -8.04116558e-10,  -1.04529393e-08,\n",
       "        -2.00567663e-08,  -8.65497277e-09,  -1.17603936e-08,\n",
       "         5.30459149e-11,  -2.48008113e-08,  -3.18575241e-09,\n",
       "        -2.51305944e-09,  -2.04452144e-08,  -2.58503939e-09,\n",
       "        -4.91120609e-09,  -1.55499827e-09,  -5.58281539e-09,\n",
       "        -1.05159931e-08,   4.35198229e-09,   1.47064233e-10,\n",
       "         2.74881386e-09,   4.09488798e-08,   7.52265516e-10,\n",
       "         4.72287135e-09,   6.79919130e-10,   2.23447023e-09,\n",
       "         2.07737600e-13,   2.56342999e-13,   3.85330627e-12,\n",
       "         6.43738735e-12,   4.62201005e-12,   3.33661515e-11,\n",
       "         4.38891059e-12,   3.22910062e-13,  -5.11339436e-03,\n",
       "         6.81914047e-03,   1.87198553e-03,   6.84313326e-03,\n",
       "        -4.92932972e-02,   4.01590607e-03,  -6.09787714e-04,\n",
       "         7.33496418e-03,   3.22014692e-02,  -1.33936552e-03,\n",
       "         1.03695218e-03,   1.05756353e-02,   1.17294072e-02,\n",
       "         8.96482148e-03,   1.23064877e-02,   1.05979235e-03,\n",
       "         1.57888126e-03,  -1.98991277e-04,   2.44926738e-04,\n",
       "         1.03456838e-02,   4.06530480e-04,  -3.16389093e-03,\n",
       "        -1.86405692e-01,   1.96347970e-02,  -2.27924942e-03,\n",
       "        -8.64619365e-03,  -3.73240298e-03,   2.04501820e-02,\n",
       "         6.38245368e-03,   1.88198479e-03,  -7.37139199e-03,\n",
       "         1.70728438e-02,  -4.93348486e-03,   1.44930550e-01,\n",
       "         9.21043271e-03,   6.35400388e-03,  -3.55112296e-03,\n",
       "         3.85938290e-04,   5.08986776e-03,   1.55312811e-02,\n",
       "        -3.59014152e-02,  -3.59013174e-02,  -3.59014409e-02,\n",
       "        -3.59014376e-02,  -3.59014335e-02,  -3.59014201e-02,\n",
       "        -3.59013817e-02,  -3.59007781e-02,  -3.59014422e-02,\n",
       "        -3.59014009e-02,  -3.59014417e-02,  -3.59014297e-02,\n",
       "        -3.59014743e-02,  -3.59015733e-02,  -3.59014553e-02,\n",
       "        -3.59013709e-02,  -1.71218500e-01])\n",
       "  message: 'CONVERGENCE: REL_REDUCTION_OF_F_<=_FACTR*EPSMCH'\n",
       "     nfev: 230\n",
       "      nit: 179\n",
       "   status: 0\n",
       "  success: True\n",
       "        x: array([  2.34062808e-03,   1.75317781e-04,   2.97347377e-04,\n",
       "         1.83140489e-03,   5.16269064e-04,   5.16321853e-04,\n",
       "         1.18770792e-03,   1.33968709e-03,   4.28529725e-04,\n",
       "         8.08217183e-05,   2.43854841e-04,   1.16761509e-03,\n",
       "         1.87642172e-04,  -8.72917934e-06,  -1.13327178e-04,\n",
       "         8.69975035e-05,  -1.44809475e-05,  -7.82938741e-06,\n",
       "        -7.85923721e-06,   6.54645755e-05,   5.34884665e-05,\n",
       "         5.39144607e-07,   1.41016055e-04,   6.33414161e-07,\n",
       "         1.62842400e-05,  -1.97143647e-06,  -5.35560123e-07,\n",
       "         5.00420491e-05,   2.96433122e-05,   6.47429620e-06,\n",
       "         1.10813555e-05,   1.52007790e-07,   2.41610138e-05,\n",
       "        -5.93541252e-07,  -8.92442506e-07,   8.14302517e-06,\n",
       "         3.09159148e-06,   1.91869410e-05,   7.38388747e-06,\n",
       "        -9.36612701e-09,   9.01539633e-07,  -6.34032792e-07,\n",
       "         1.05835065e-06,   8.26461614e-06,  -1.87169725e-06,\n",
       "         9.73658880e-06,   6.41847599e-07,   9.47694699e-07,\n",
       "         7.37798147e-06,   1.30181136e-07,  -1.57590922e-06,\n",
       "         3.85479904e-06,   3.41858555e-06,  -6.13956302e-07,\n",
       "         4.63551309e-06,   5.80154252e-06,   2.94755306e-06,\n",
       "         3.02634910e-06,   5.66424739e-07,  -7.89658454e-07,\n",
       "         2.55004256e-06,   5.08506578e-07,   7.31560528e-07,\n",
       "         7.69018605e-06,   4.20943144e-06,   1.83164428e-07,\n",
       "        -6.65702589e-07,   6.33048666e-06,   1.58124991e-06,\n",
       "         4.35962029e-07,   2.46679772e-06,   4.78621629e-07,\n",
       "         1.20298715e-06,  -7.37944121e-08,   7.49639430e-07,\n",
       "         5.30269062e-06,   1.37873399e-06,  -5.40509837e-07,\n",
       "        -3.62467165e-07,   2.78569527e-06,   8.51831300e-06,\n",
       "         1.79225627e-06,   1.51542422e-06,   3.84595244e-06,\n",
       "         3.08855523e-07,   4.90371966e-06,   6.72987636e-06,\n",
       "         4.41685224e-06,   3.47315516e-06,   7.31663366e-07,\n",
       "         3.29502502e-06,  -8.37312927e-08,   1.58850593e-07,\n",
       "         6.42525300e-08,  -3.94037851e-07,   8.88617164e-08,\n",
       "         7.49040055e-06,   7.14011009e-07,   4.40637320e-06,\n",
       "         1.19494268e-05,   3.09533081e-06,   2.04053254e-06,\n",
       "         8.90215387e-07,   5.40559468e-06,   1.14655359e-06,\n",
       "        -4.77291949e-09,   1.48707898e-07,   1.16960092e-07,\n",
       "         2.65791603e-07,   1.15669718e-07,  -7.63152419e-07,\n",
       "         5.86157986e-07,   1.46928494e-06,   1.71411387e-07,\n",
       "         2.52975905e-07,   1.69499284e-06,   4.92542346e-07,\n",
       "         5.47605524e-08,  -7.65939941e-08,  -2.08769406e-07,\n",
       "         6.59747474e-07,   3.49215779e-07,   5.58772985e-08,\n",
       "         1.74097743e-06,   6.10571378e-07,  -1.87194196e-07,\n",
       "        -2.08801868e-07,   9.86425039e-08,   6.12731431e-07,\n",
       "         2.88954473e-08,   3.60913597e-07,   2.54791683e-07,\n",
       "        -1.31816789e-07,   9.61887291e-07,   9.69195196e-08,\n",
       "         7.61848901e-08,   9.05144461e-07,   4.41645820e-08,\n",
       "         3.26809782e-08,   1.88373749e-06,   1.27976435e-08,\n",
       "         4.93378328e-08,   7.33139208e-08,  -7.39034608e-08,\n",
       "         9.74065889e-07,   7.84773775e-08,   2.99539280e-08,\n",
       "        -1.96768713e-07,  -7.66962860e-08,   1.68989098e-07,\n",
       "         3.76219651e-07,   6.28668775e-08,   7.99809323e-07,\n",
       "        -8.10038947e-09,   3.32170786e-08,   1.84664321e-06,\n",
       "         1.45122954e-07,  -2.45217139e-08,  -1.27051186e-07,\n",
       "         7.35616152e-08,   8.57269716e-07,   1.02741039e-07,\n",
       "         8.12213991e-08,   1.07653731e-06,  -3.06417182e-07,\n",
       "        -1.13122042e-08,  -1.61992970e-07,   2.08006871e-06,\n",
       "         7.18175537e-07,   2.65602912e-08,   1.76785644e-07,\n",
       "        -4.44429898e-08,  -2.33596301e-08,   5.14193133e-07,\n",
       "        -1.04145082e-07,  -1.12036417e-07,   5.83019286e-06,\n",
       "         6.31628300e-07,   1.12574801e-07,   1.44057314e-06,\n",
       "         2.41600166e-07,   8.67218525e-07,   6.23433792e-06,\n",
       "         3.45221432e-06,   7.36798764e-07,   5.97028269e-09,\n",
       "         6.05457059e-08,   1.03861296e-06,   1.55009641e-07,\n",
       "         1.23312213e-08,   4.97371249e-08,   7.39189724e-07,\n",
       "         7.71319316e-07,   2.95342378e-09,   2.28706400e-07,\n",
       "         8.18712989e-07,   2.39581182e-07,   3.36626965e-07,\n",
       "         3.56958399e-08,   1.27941616e-07,   1.61736271e-07,\n",
       "         8.16973653e-08,   8.53154201e-08,   4.69337403e-07,\n",
       "         5.39103233e-07,   1.30458784e-07,   8.46264507e-08,\n",
       "         2.05394963e-07,   1.33899593e-07,   5.67786981e-08,\n",
       "         1.15329506e-07,   2.66599310e-07,   3.60891496e-07,\n",
       "         1.97059627e-08,   5.10449373e-09,  -9.14714860e-08,\n",
       "        -8.75437276e-08,   1.66680180e-09,   1.82128291e-07,\n",
       "        -3.85870575e-08,   1.10792316e-08,  -1.68374384e-08,\n",
       "         1.88473090e-08,  -3.36124874e-08,  -8.85153910e-08,\n",
       "         6.33275478e-09,   1.16686483e-09,   1.13633293e-06,\n",
       "        -5.50304320e-08,  -2.43864909e-08,   2.77211994e-08,\n",
       "        -1.32074885e-07,   6.50712250e-07,  -8.95079812e-09,\n",
       "        -1.12307268e-09,   4.05631523e-07,  -4.81424425e-08,\n",
       "        -1.00696845e-08,   9.60180822e-09,  -1.01326289e-07,\n",
       "         7.11111153e-08,  -3.39175731e-09,   8.74329523e-09,\n",
       "        -6.43842515e-08,   2.16997763e-07,   1.26876969e-07,\n",
       "         2.09973781e-09,   9.49547676e-08,   1.36020079e-06,\n",
       "         4.35586254e-08,   1.59263659e-07,   9.92760478e-07,\n",
       "         2.62040787e-07,  -5.09315043e-09,   1.93662058e-07,\n",
       "        -1.58263765e-07,   1.05396109e-06,   3.52206255e-08,\n",
       "         1.85765961e-07,   6.27932175e-07,   2.36057665e-07,\n",
       "         2.91980528e-08,   1.67690991e-07,   1.37551480e-07,\n",
       "         5.98194998e-06,   2.99877439e-07,   1.69987312e-06,\n",
       "         1.09156493e-05,   2.46096173e-06,   1.22498697e-06,\n",
       "         1.74297896e-07,   4.26748790e-06,  -7.83778389e-10,\n",
       "        -6.94763711e-10,   9.25292589e-09,   2.33551188e-08,\n",
       "         4.01707282e-09,   3.36499455e-08,   6.56851292e-10,\n",
       "         5.80208472e-09,  -1.63266297e-08,  -2.35280603e-08,\n",
       "        -6.54880563e-08,  -2.94382588e-08,  -1.67933163e-07,\n",
       "        -7.42945691e-08,  -1.45558557e-08,  -3.76893253e-08,\n",
       "        -3.52474435e-09,  -1.72235890e-09,  -2.48540966e-08,\n",
       "        -4.56866376e-08,  -2.06011423e-08,  -2.78606328e-08,\n",
       "        -2.35307222e-10,  -5.92176889e-08,  -7.73837945e-09,\n",
       "        -6.28241610e-09,  -5.05616318e-08,  -4.47705679e-09,\n",
       "        -1.21738628e-08,  -3.80262845e-09,  -1.40364608e-08,\n",
       "        -2.59785525e-08,   1.04714956e-08,   3.54575965e-10,\n",
       "         6.55134496e-09,   9.85318643e-08,   1.79098665e-09,\n",
       "         1.12558578e-08,   1.62699962e-09,   5.33993147e-09,\n",
       "         5.00573060e-13,   6.08803862e-13,   9.15173105e-12,\n",
       "         1.57149437e-11,   1.10462432e-11,   8.53830585e-11,\n",
       "         1.05018060e-11,   7.76948160e-13,  -2.39451460e-01,\n",
       "         3.24815473e-01,   8.49317903e-02,   3.25679918e-01,\n",
       "        -1.96661717e-02,   1.91042479e-01,  -2.98233767e-02,\n",
       "         3.05797668e-01,  -2.97124698e-01,   2.53931532e-02,\n",
       "         1.34637416e-01,   5.01918786e-01,   2.32860063e-01,\n",
       "         3.05564017e-01,   2.37727664e-02,   5.05700736e-02,\n",
       "         7.05597260e-02,   3.55503293e-02,   1.14538754e-02,\n",
       "         4.90788777e-01,   1.97742565e-02,  -1.50629664e-01,\n",
       "         4.34117848e-01,   9.34789972e-01,  -1.06867100e-01,\n",
       "        -3.65864447e-01,   8.42524648e-02,   9.72825467e-01,\n",
       "         3.04284206e-01,   1.67492011e-02,  -3.50424606e-01,\n",
       "         6.26678715e-02,   1.52702745e-01,   1.28739905e-01,\n",
       "         4.32978357e-01,  -5.20256656e-02,  -1.32484598e-01,\n",
       "        -6.67893334e-02,   2.43014730e-01,   7.39425243e-01,\n",
       "        -7.18335550e-02,  -7.18321511e-02,  -7.18337451e-02,\n",
       "        -7.18337366e-02,  -7.18337433e-02,  -7.18337083e-02,\n",
       "        -7.18336859e-02,  -7.18325057e-02,  -7.18337450e-02,\n",
       "        -7.18336664e-02,  -7.18337391e-02,  -7.18336714e-02,\n",
       "        -7.18337235e-02,  -7.18333164e-02,  -7.18337197e-02,\n",
       "        -7.18332453e-02,   3.39265024e+00])"
      ]
     },
     "execution_count": 8,
     "metadata": {},
     "output_type": "execute_result"
    }
   ],
   "source": [
    "m.optimize(maxiter=500) # start near MAP"
   ]
  },
  {
   "cell_type": "code",
   "execution_count": 9,
   "metadata": {
    "scrolled": false
   },
   "outputs": [
    {
     "data": {
      "text/html": [
       "<table id='params' width=100%><tr><td>Name</td><td>values</td><td>prior</td><td>constraint</td></tr><tr><td>adaptive_lengthscale_gp_multdim.V</td><td>[[  2.34062808e-03   1.75317781e-04   2.97347377e-04   1.83140489e-03</br>    5.16269064e-04   5.16321853e-04   1.18770792e-03   1.33968709e-03]</br> [  4.28529725e-04   8.08217183e-05   2.43854841e-04   1.16761509e-03</br>    1.87642172e-04  -8.72917934e-06  -1.13327178e-04   8.69975035e-05]</br> [ -1.44809475e-05  -7.82938741e-06  -7.85923721e-06   6.54645755e-05</br>    5.34884665e-05   5.39144607e-07   1.41016055e-04   6.33414161e-07]</br> [  1.62842400e-05  -1.97143647e-06  -5.35560123e-07   5.00420491e-05</br>    2.96433122e-05   6.47429620e-06   1.10813555e-05   1.52007790e-07]</br> [  2.41610138e-05  -5.93541252e-07  -8.92442506e-07   8.14302517e-06</br>    3.09159148e-06   1.91869410e-05   7.38388747e-06  -9.36612701e-09]</br> [  9.01539633e-07  -6.34032792e-07   1.05835065e-06   8.26461614e-06</br>   -1.87169725e-06   9.73658880e-06   6.41847599e-07   9.47694699e-07]</br> [  7.37798147e-06   1.30181136e-07  -1.57590922e-06   3.85479904e-06</br>    3.41858555e-06  -6.13956302e-07   4.63551309e-06   5.80154252e-06]</br> [  2.94755306e-06   3.02634910e-06   5.66424739e-07  -7.89658454e-07</br>    2.55004256e-06   5.08506578e-07   7.31560528e-07   7.69018605e-06]</br> [  4.20943144e-06   1.83164428e-07  -6.65702589e-07   6.33048666e-06</br>    1.58124991e-06   4.35962029e-07   2.46679772e-06   4.78621629e-07]</br> [  1.20298715e-06  -7.37944121e-08   7.49639430e-07   5.30269062e-06</br>    1.37873399e-06  -5.40509837e-07  -3.62467165e-07   2.78569527e-06]</br> [  8.51831300e-06   1.79225627e-06   1.51542422e-06   3.84595244e-06</br>    3.08855523e-07   4.90371966e-06   6.72987636e-06   4.41685224e-06]</br> [  3.47315516e-06   7.31663366e-07   3.29502502e-06  -8.37312927e-08</br>    1.58850593e-07   6.42525300e-08  -3.94037851e-07   8.88617164e-08]</br> [  7.49040055e-06   7.14011009e-07   4.40637320e-06   1.19494268e-05</br>    3.09533081e-06   2.04053254e-06   8.90215387e-07   5.40559468e-06]</br> [  1.14655359e-06  -4.77291949e-09   1.48707898e-07   1.16960092e-07</br>    2.65791603e-07   1.15669718e-07  -7.63152419e-07   5.86157986e-07]</br> [  1.46928494e-06   1.71411387e-07   2.52975905e-07   1.69499284e-06</br>    4.92542346e-07   5.47605524e-08  -7.65939941e-08  -2.08769406e-07]</br> [  6.59747474e-07   3.49215779e-07   5.58772985e-08   1.74097743e-06</br>    6.10571378e-07  -1.87194196e-07  -2.08801868e-07   9.86425039e-08]</br> [  6.12731431e-07   2.88954473e-08   3.60913597e-07   2.54791683e-07</br>   -1.31816789e-07   9.61887291e-07   9.69195196e-08   7.61848901e-08]</br> [  9.05144461e-07   4.41645820e-08   3.26809782e-08   1.88373749e-06</br>    1.27976435e-08   4.93378328e-08   7.33139208e-08  -7.39034608e-08]</br> [  9.74065889e-07   7.84773775e-08   2.99539280e-08  -1.96768713e-07</br>   -7.66962860e-08   1.68989098e-07   3.76219651e-07   6.28668775e-08]</br> [  7.99809323e-07  -8.10038947e-09   3.32170786e-08   1.84664321e-06</br>    1.45122954e-07  -2.45217139e-08  -1.27051186e-07   7.35616152e-08]</br> [  8.57269716e-07   1.02741039e-07   8.12213991e-08   1.07653731e-06</br>   -3.06417182e-07  -1.13122042e-08  -1.61992970e-07   2.08006871e-06]</br> [  7.18175537e-07   2.65602912e-08   1.76785644e-07  -4.44429898e-08</br>   -2.33596301e-08   5.14193133e-07  -1.04145082e-07  -1.12036417e-07]</br> [  5.83019286e-06   6.31628300e-07   1.12574801e-07   1.44057314e-06</br>    2.41600166e-07   8.67218525e-07   6.23433792e-06   3.45221432e-06]</br> [  7.36798764e-07   5.97028269e-09   6.05457059e-08   1.03861296e-06</br>    1.55009641e-07   1.23312213e-08   4.97371249e-08   7.39189724e-07]</br> [  7.71319316e-07   2.95342378e-09   2.28706400e-07   8.18712989e-07</br>    2.39581182e-07   3.36626965e-07   3.56958399e-08   1.27941616e-07]</br> [  1.61736271e-07   8.16973653e-08   8.53154201e-08   4.69337403e-07</br>    5.39103233e-07   1.30458784e-07   8.46264507e-08   2.05394963e-07]</br> [  1.33899593e-07   5.67786981e-08   1.15329506e-07   2.66599310e-07</br>    3.60891496e-07   1.97059627e-08   5.10449373e-09  -9.14714860e-08]</br> [ -8.75437276e-08   1.66680180e-09   1.82128291e-07  -3.85870575e-08</br>    1.10792316e-08  -1.68374384e-08   1.88473090e-08  -3.36124874e-08]</br> [ -8.85153910e-08   6.33275478e-09   1.16686483e-09   1.13633293e-06</br>   -5.50304320e-08  -2.43864909e-08   2.77211994e-08  -1.32074885e-07]</br> [  6.50712250e-07  -8.95079812e-09  -1.12307268e-09   4.05631523e-07</br>   -4.81424425e-08  -1.00696845e-08   9.60180822e-09  -1.01326289e-07]</br> [  7.11111153e-08  -3.39175731e-09   8.74329523e-09  -6.43842515e-08</br>    2.16997763e-07   1.26876969e-07   2.09973781e-09   9.49547676e-08]</br> [  1.36020079e-06   4.35586254e-08   1.59263659e-07   9.92760478e-07</br>    2.62040787e-07  -5.09315043e-09   1.93662058e-07  -1.58263765e-07]</br> [  1.05396109e-06   3.52206255e-08   1.85765961e-07   6.27932175e-07</br>    2.36057665e-07   2.91980528e-08   1.67690991e-07   1.37551480e-07]</br> [  5.98194998e-06   2.99877439e-07   1.69987312e-06   1.09156493e-05</br>    2.46096173e-06   1.22498697e-06   1.74297896e-07   4.26748790e-06]</br> [ -7.83778389e-10  -6.94763711e-10   9.25292589e-09   2.33551188e-08</br>    4.01707282e-09   3.36499455e-08   6.56851292e-10   5.80208472e-09]</br> [ -1.63266297e-08  -2.35280603e-08  -6.54880563e-08  -2.94382588e-08</br>   -1.67933163e-07  -7.42945691e-08  -1.45558557e-08  -3.76893253e-08]</br> [ -3.52474435e-09  -1.72235890e-09  -2.48540966e-08  -4.56866376e-08</br>   -2.06011423e-08  -2.78606328e-08  -2.35307222e-10  -5.92176889e-08]</br> [ -7.73837945e-09  -6.28241610e-09  -5.05616318e-08  -4.47705679e-09</br>   -1.21738628e-08  -3.80262845e-09  -1.40364608e-08  -2.59785525e-08]</br> [  1.04714956e-08   3.54575965e-10   6.55134496e-09   9.85318643e-08</br>    1.79098665e-09   1.12558578e-08   1.62699962e-09   5.33993147e-09]</br> [  5.00573060e-13   6.08803862e-13   9.15173105e-12   1.57149437e-11</br>    1.10462432e-11   8.53830585e-11   1.05018060e-11   7.76948160e-13]]</td><td>N([ 0.],[ 1.])</td><td>(none)</td></tr><tr><td>adaptive_lengthscale_gp_multdim.V4</td><td>[[-0.23945146]</br> [ 0.32481547]</br> [ 0.08493179]</br> [ 0.32567992]</br> [-0.01966617]</br> [ 0.19104248]</br> [-0.02982338]</br> [ 0.30579767]</br> [-0.2971247 ]</br> [ 0.02539315]</br> [ 0.13463742]</br> [ 0.50191879]</br> [ 0.23286006]</br> [ 0.30556402]</br> [ 0.02377277]</br> [ 0.05057007]</br> [ 0.07055973]</br> [ 0.03555033]</br> [ 0.01145388]</br> [ 0.49078878]</br> [ 0.01977426]</br> [-0.15062966]</br> [ 0.43411785]</br> [ 0.93478997]</br> [-0.1068671 ]</br> [-0.36586445]</br> [ 0.08425246]</br> [ 0.97282547]</br> [ 0.30428421]</br> [ 0.0167492 ]</br> [-0.35042461]</br> [ 0.06266787]</br> [ 0.15270275]</br> [ 0.1287399 ]</br> [ 0.43297836]</br> [-0.05202567]</br> [-0.1324846 ]</br> [-0.06678933]</br> [ 0.24301473]</br> [ 0.73942524]]</td><td>N([ 0.],[ 1.])</td><td>(none)</td></tr><tr><td>adaptive_lengthscale_gp_multdim.kerns_list.item0.lengthscales</td><td>[ 0.65787627]</td><td>Ga([ 1.],[ 1.])</td><td>+ve</td></tr><tr><td>adaptive_lengthscale_gp_multdim.kerns_list.item0.variance</td><td>[ 0.65787695]</td><td>Ga([ 1.],[ 1.])</td><td>+ve</td></tr><tr><td>adaptive_lengthscale_gp_multdim.kerns_list.item1.lengthscales</td><td>[ 0.65787618]</td><td>Ga([ 1.],[ 1.])</td><td>+ve</td></tr><tr><td>adaptive_lengthscale_gp_multdim.kerns_list.item1.variance</td><td>[ 0.65787618]</td><td>Ga([ 1.],[ 1.])</td><td>+ve</td></tr><tr><td>adaptive_lengthscale_gp_multdim.kerns_list.item2.lengthscales</td><td>[ 0.65787618]</td><td>Ga([ 1.],[ 1.])</td><td>+ve</td></tr><tr><td>adaptive_lengthscale_gp_multdim.kerns_list.item2.variance</td><td>[ 0.6578762]</td><td>Ga([ 1.],[ 1.])</td><td>+ve</td></tr><tr><td>adaptive_lengthscale_gp_multdim.kerns_list.item3.lengthscales</td><td>[ 0.65787621]</td><td>Ga([ 1.],[ 1.])</td><td>+ve</td></tr><tr><td>adaptive_lengthscale_gp_multdim.kerns_list.item3.variance</td><td>[ 0.65787678]</td><td>Ga([ 1.],[ 1.])</td><td>+ve</td></tr><tr><td>adaptive_lengthscale_gp_multdim.kerns_list.item4.lengthscales</td><td>[ 0.65787618]</td><td>Ga([ 1.],[ 1.])</td><td>+ve</td></tr><tr><td>adaptive_lengthscale_gp_multdim.kerns_list.item4.variance</td><td>[ 0.65787622]</td><td>Ga([ 1.],[ 1.])</td><td>+ve</td></tr><tr><td>adaptive_lengthscale_gp_multdim.kerns_list.item5.lengthscales</td><td>[ 0.65787618]</td><td>Ga([ 1.],[ 1.])</td><td>+ve</td></tr><tr><td>adaptive_lengthscale_gp_multdim.kerns_list.item5.variance</td><td>[ 0.65787622]</td><td>Ga([ 1.],[ 1.])</td><td>+ve</td></tr><tr><td>adaptive_lengthscale_gp_multdim.kerns_list.item6.lengthscales</td><td>[ 0.65787619]</td><td>Ga([ 1.],[ 1.])</td><td>+ve</td></tr><tr><td>adaptive_lengthscale_gp_multdim.kerns_list.item6.variance</td><td>[ 0.65787639]</td><td>Ga([ 1.],[ 1.])</td><td>+ve</td></tr><tr><td>adaptive_lengthscale_gp_multdim.kerns_list.item7.lengthscales</td><td>[ 0.65787619]</td><td>Ga([ 1.],[ 1.])</td><td>+ve</td></tr><tr><td>adaptive_lengthscale_gp_multdim.kerns_list.item7.variance</td><td>[ 0.65787642]</td><td>Ga([ 1.],[ 1.])</td><td>+ve</td></tr><tr><td>adaptive_lengthscale_gp_multdim.likelihood.variance</td><td>[  1.00000000e-06]</td><td>None</td><td>[FIXED]</td></tr><tr><td>adaptive_lengthscale_gp_multdim.mean_funcs_list.item0.c</td><td>[-2.]</td><td>None</td><td>[FIXED]</td></tr><tr><td>adaptive_lengthscale_gp_multdim.mean_funcs_list.item1.c</td><td>[-2.]</td><td>None</td><td>[FIXED]</td></tr><tr><td>adaptive_lengthscale_gp_multdim.mean_funcs_list.item2.c</td><td>[-2.]</td><td>None</td><td>[FIXED]</td></tr><tr><td>adaptive_lengthscale_gp_multdim.mean_funcs_list.item3.c</td><td>[-2.]</td><td>None</td><td>[FIXED]</td></tr><tr><td>adaptive_lengthscale_gp_multdim.mean_funcs_list.item4.c</td><td>[-2.]</td><td>None</td><td>[FIXED]</td></tr><tr><td>adaptive_lengthscale_gp_multdim.mean_funcs_list.item5.c</td><td>[-2.]</td><td>None</td><td>[FIXED]</td></tr><tr><td>adaptive_lengthscale_gp_multdim.mean_funcs_list.item6.c</td><td>[-2.]</td><td>None</td><td>[FIXED]</td></tr><tr><td>adaptive_lengthscale_gp_multdim.mean_funcs_list.item7.c</td><td>[-2.]</td><td>None</td><td>[FIXED]</td></tr><tr><td>adaptive_lengthscale_gp_multdim.nonstat.signal_variance</td><td>[ 3.42571792]</td><td>Ga([ 1.],[ 2.])</td><td>+ve</td></tr></table>"
      ],
      "text/plain": [
       "<GPHetero.hetero_gpmc.GPMCAdaptiveLengthscaleMultDimDev at 0x107f10550>"
      ]
     },
     "execution_count": 9,
     "metadata": {},
     "output_type": "execute_result"
    }
   ],
   "source": [
    "m"
   ]
  },
  {
   "cell_type": "code",
   "execution_count": 17,
   "metadata": {
    "collapsed": true
   },
   "outputs": [],
   "source": [
    "mcmc_samples = 1000\n",
    "num_samp_gp = 1"
   ]
  },
  {
   "cell_type": "code",
   "execution_count": 18,
   "metadata": {},
   "outputs": [
    {
     "name": "stdout",
     "output_type": "stream",
     "text": [
      "burn-in sampling started\n",
      "Iteration:  100 \t Acc Rate:  98.0 %\n",
      "Iteration:  200 \t Acc Rate:  100.0 %\n",
      "Iteration:  300 \t Acc Rate:  100.0 %\n",
      "Iteration:  400 \t Acc Rate:  98.0 %\n",
      "Iteration:  500 \t Acc Rate:  100.0 %\n",
      "burn-in sampling ended\n",
      "Iteration:  100 \t Acc Rate:  98.0 %\n",
      "Iteration:  200 \t Acc Rate:  100.0 %\n",
      "Iteration:  300 \t Acc Rate:  100.0 %\n",
      "Iteration:  400 \t Acc Rate:  100.0 %\n",
      "Iteration:  500 \t Acc Rate:  100.0 %\n",
      "Iteration:  600 \t Acc Rate:  100.0 %\n",
      "Iteration:  700 \t Acc Rate:  100.0 %\n",
      "Iteration:  800 \t Acc Rate:  99.0 %\n",
      "Iteration:  900 \t Acc Rate:  100.0 %\n",
      "Iteration:  1000 \t Acc Rate:  99.0 %\n",
      "Iteration:  1100 \t Acc Rate:  100.0 %\n",
      "Iteration:  1200 \t Acc Rate:  100.0 %\n",
      "Iteration:  1300 \t Acc Rate:  100.0 %\n"
     ]
    },
    {
     "ename": "KeyboardInterrupt",
     "evalue": "",
     "output_type": "error",
     "traceback": [
      "\u001b[0;31m---------------------------------------------------------------------------\u001b[0m",
      "\u001b[0;31mKeyboardInterrupt\u001b[0m                         Traceback (most recent call last)",
      "\u001b[0;32m<ipython-input-18-0dceeb3e248c>\u001b[0m in \u001b[0;36m<module>\u001b[0;34m()\u001b[0m\n\u001b[0;32m----> 1\u001b[0;31m \u001b[0msamples\u001b[0m \u001b[0;34m=\u001b[0m \u001b[0mm\u001b[0m\u001b[0;34m.\u001b[0m\u001b[0msample\u001b[0m\u001b[0;34m(\u001b[0m\u001b[0mmcmc_samples\u001b[0m\u001b[0;34m,\u001b[0m \u001b[0mverbose\u001b[0m\u001b[0;34m=\u001b[0m\u001b[0mTrue\u001b[0m\u001b[0;34m,\u001b[0m \u001b[0mepsilon\u001b[0m\u001b[0;34m=\u001b[0m\u001b[0;36m0.00005\u001b[0m\u001b[0;34m,\u001b[0m \u001b[0mthin\u001b[0m \u001b[0;34m=\u001b[0m \u001b[0;36m2\u001b[0m\u001b[0;34m,\u001b[0m \u001b[0mburn\u001b[0m \u001b[0;34m=\u001b[0m \u001b[0;36m500\u001b[0m\u001b[0;34m,\u001b[0m \u001b[0mLmax\u001b[0m \u001b[0;34m=\u001b[0m \u001b[0;36m20\u001b[0m\u001b[0;34m)\u001b[0m\u001b[0;34m\u001b[0m\u001b[0m\n\u001b[0m",
      "\u001b[0;32m/Users/nimishawalgaonkar/anaconda2/lib/python2.7/site-packages/gpflow-0.4.0-py2.7.egg/gpflow/model.pyc\u001b[0m in \u001b[0;36msample\u001b[0;34m(self, num_samples, Lmin, Lmax, epsilon, thin, burn, verbose, return_logprobs, RNG)\u001b[0m\n\u001b[1;32m    217\u001b[0m                               \u001b[0mLmin\u001b[0m\u001b[0;34m=\u001b[0m\u001b[0mLmin\u001b[0m\u001b[0;34m,\u001b[0m \u001b[0mLmax\u001b[0m\u001b[0;34m=\u001b[0m\u001b[0mLmax\u001b[0m\u001b[0;34m,\u001b[0m \u001b[0mepsilon\u001b[0m\u001b[0;34m=\u001b[0m\u001b[0mepsilon\u001b[0m\u001b[0;34m,\u001b[0m \u001b[0mthin\u001b[0m\u001b[0;34m=\u001b[0m\u001b[0mthin\u001b[0m\u001b[0;34m,\u001b[0m \u001b[0mburn\u001b[0m\u001b[0;34m=\u001b[0m\u001b[0mburn\u001b[0m\u001b[0;34m,\u001b[0m\u001b[0;34m\u001b[0m\u001b[0m\n\u001b[1;32m    218\u001b[0m                               \u001b[0mx0\u001b[0m\u001b[0;34m=\u001b[0m\u001b[0mself\u001b[0m\u001b[0;34m.\u001b[0m\u001b[0mget_free_state\u001b[0m\u001b[0;34m(\u001b[0m\u001b[0;34m)\u001b[0m\u001b[0;34m,\u001b[0m \u001b[0mverbose\u001b[0m\u001b[0;34m=\u001b[0m\u001b[0mverbose\u001b[0m\u001b[0;34m,\u001b[0m\u001b[0;34m\u001b[0m\u001b[0m\n\u001b[0;32m--> 219\u001b[0;31m                               return_logprobs=return_logprobs, RNG=RNG)\n\u001b[0m\u001b[1;32m    220\u001b[0m \u001b[0;34m\u001b[0m\u001b[0m\n\u001b[1;32m    221\u001b[0m     def optimize(self, method='L-BFGS-B', tol=None, callback=None,\n",
      "\u001b[0;32m/Users/nimishawalgaonkar/anaconda2/lib/python2.7/site-packages/gpflow-0.4.0-py2.7.egg/gpflow/hmc.pyc\u001b[0m in \u001b[0;36msample_HMC\u001b[0;34m(f, num_samples, Lmin, Lmax, epsilon, x0, verbose, thin, burn, RNG, return_logprobs)\u001b[0m\n\u001b[1;32m     94\u001b[0m         \u001b[0;32mfor\u001b[0m \u001b[0ml\u001b[0m \u001b[0;32min\u001b[0m \u001b[0mrange\u001b[0m\u001b[0;34m(\u001b[0m\u001b[0mRNG\u001b[0m\u001b[0;34m.\u001b[0m\u001b[0mrandint\u001b[0m\u001b[0;34m(\u001b[0m\u001b[0mLmin\u001b[0m\u001b[0;34m,\u001b[0m \u001b[0mLmax\u001b[0m\u001b[0;34m)\u001b[0m\u001b[0;34m)\u001b[0m\u001b[0;34m:\u001b[0m\u001b[0;34m\u001b[0m\u001b[0m\n\u001b[1;32m     95\u001b[0m             \u001b[0mx\u001b[0m \u001b[0;34m+=\u001b[0m \u001b[0mepsilon\u001b[0m \u001b[0;34m*\u001b[0m \u001b[0mp\u001b[0m\u001b[0;34m\u001b[0m\u001b[0m\n\u001b[0;32m---> 96\u001b[0;31m             \u001b[0mlogprob\u001b[0m\u001b[0;34m,\u001b[0m \u001b[0mgrad\u001b[0m \u001b[0;34m=\u001b[0m \u001b[0mf\u001b[0m\u001b[0;34m(\u001b[0m\u001b[0mx\u001b[0m\u001b[0;34m)\u001b[0m\u001b[0;34m\u001b[0m\u001b[0m\n\u001b[0m\u001b[1;32m     97\u001b[0m             \u001b[0mlogprob\u001b[0m\u001b[0;34m,\u001b[0m \u001b[0mgrad\u001b[0m \u001b[0;34m=\u001b[0m \u001b[0;34m-\u001b[0m\u001b[0mlogprob\u001b[0m\u001b[0;34m,\u001b[0m \u001b[0;34m-\u001b[0m\u001b[0mgrad\u001b[0m\u001b[0;34m\u001b[0m\u001b[0m\n\u001b[1;32m     98\u001b[0m             \u001b[0;32mif\u001b[0m \u001b[0mnp\u001b[0m\u001b[0;34m.\u001b[0m\u001b[0many\u001b[0m\u001b[0;34m(\u001b[0m\u001b[0mnp\u001b[0m\u001b[0;34m.\u001b[0m\u001b[0misnan\u001b[0m\u001b[0;34m(\u001b[0m\u001b[0mgrad\u001b[0m\u001b[0;34m)\u001b[0m\u001b[0;34m)\u001b[0m\u001b[0;34m:\u001b[0m  \u001b[0;31m# pragma: no cover\u001b[0m\u001b[0;34m\u001b[0m\u001b[0m\n",
      "\u001b[0;32m/Users/nimishawalgaonkar/anaconda2/lib/python2.7/site-packages/gpflow-0.4.0-py2.7.egg/gpflow/model.pyc\u001b[0m in \u001b[0;36mobj\u001b[0;34m(x)\u001b[0m\n\u001b[1;32m    185\u001b[0m             \u001b[0mself\u001b[0m\u001b[0;34m.\u001b[0m\u001b[0mupdate_feed_dict\u001b[0m\u001b[0;34m(\u001b[0m\u001b[0mself\u001b[0m\u001b[0;34m.\u001b[0m\u001b[0m_feed_dict_keys\u001b[0m\u001b[0;34m,\u001b[0m \u001b[0mfeed_dict\u001b[0m\u001b[0;34m)\u001b[0m\u001b[0;34m\u001b[0m\u001b[0m\n\u001b[1;32m    186\u001b[0m             f, g = self.session.run([self._minusF, self._minusG],\n\u001b[0;32m--> 187\u001b[0;31m                                      feed_dict=feed_dict)\n\u001b[0m\u001b[1;32m    188\u001b[0m             \u001b[0;32mreturn\u001b[0m \u001b[0mf\u001b[0m\u001b[0;34m.\u001b[0m\u001b[0mastype\u001b[0m\u001b[0;34m(\u001b[0m\u001b[0mnp\u001b[0m\u001b[0;34m.\u001b[0m\u001b[0mfloat64\u001b[0m\u001b[0;34m)\u001b[0m\u001b[0;34m,\u001b[0m \u001b[0mg\u001b[0m\u001b[0;34m.\u001b[0m\u001b[0mastype\u001b[0m\u001b[0;34m(\u001b[0m\u001b[0mnp\u001b[0m\u001b[0;34m.\u001b[0m\u001b[0mfloat64\u001b[0m\u001b[0;34m)\u001b[0m\u001b[0;34m\u001b[0m\u001b[0m\n\u001b[1;32m    189\u001b[0m \u001b[0;34m\u001b[0m\u001b[0m\n",
      "\u001b[0;32m/Users/nimishawalgaonkar/anaconda2/lib/python2.7/site-packages/tensorflow/python/client/session.pyc\u001b[0m in \u001b[0;36mrun\u001b[0;34m(self, fetches, feed_dict, options, run_metadata)\u001b[0m\n\u001b[1;32m    903\u001b[0m     \u001b[0;32mtry\u001b[0m\u001b[0;34m:\u001b[0m\u001b[0;34m\u001b[0m\u001b[0m\n\u001b[1;32m    904\u001b[0m       result = self._run(None, fetches, feed_dict, options_ptr,\n\u001b[0;32m--> 905\u001b[0;31m                          run_metadata_ptr)\n\u001b[0m\u001b[1;32m    906\u001b[0m       \u001b[0;32mif\u001b[0m \u001b[0mrun_metadata\u001b[0m\u001b[0;34m:\u001b[0m\u001b[0;34m\u001b[0m\u001b[0m\n\u001b[1;32m    907\u001b[0m         \u001b[0mproto_data\u001b[0m \u001b[0;34m=\u001b[0m \u001b[0mtf_session\u001b[0m\u001b[0;34m.\u001b[0m\u001b[0mTF_GetBuffer\u001b[0m\u001b[0;34m(\u001b[0m\u001b[0mrun_metadata_ptr\u001b[0m\u001b[0;34m)\u001b[0m\u001b[0;34m\u001b[0m\u001b[0m\n",
      "\u001b[0;32m/Users/nimishawalgaonkar/anaconda2/lib/python2.7/site-packages/tensorflow/python/client/session.pyc\u001b[0m in \u001b[0;36m_run\u001b[0;34m(self, handle, fetches, feed_dict, options, run_metadata)\u001b[0m\n\u001b[1;32m   1138\u001b[0m     \u001b[0;32mif\u001b[0m \u001b[0mfinal_fetches\u001b[0m \u001b[0;32mor\u001b[0m \u001b[0mfinal_targets\u001b[0m \u001b[0;32mor\u001b[0m \u001b[0;34m(\u001b[0m\u001b[0mhandle\u001b[0m \u001b[0;32mand\u001b[0m \u001b[0mfeed_dict_tensor\u001b[0m\u001b[0;34m)\u001b[0m\u001b[0;34m:\u001b[0m\u001b[0;34m\u001b[0m\u001b[0m\n\u001b[1;32m   1139\u001b[0m       results = self._do_run(handle, final_targets, final_fetches,\n\u001b[0;32m-> 1140\u001b[0;31m                              feed_dict_tensor, options, run_metadata)\n\u001b[0m\u001b[1;32m   1141\u001b[0m     \u001b[0;32melse\u001b[0m\u001b[0;34m:\u001b[0m\u001b[0;34m\u001b[0m\u001b[0m\n\u001b[1;32m   1142\u001b[0m       \u001b[0mresults\u001b[0m \u001b[0;34m=\u001b[0m \u001b[0;34m[\u001b[0m\u001b[0;34m]\u001b[0m\u001b[0;34m\u001b[0m\u001b[0m\n",
      "\u001b[0;32m/Users/nimishawalgaonkar/anaconda2/lib/python2.7/site-packages/tensorflow/python/client/session.pyc\u001b[0m in \u001b[0;36m_do_run\u001b[0;34m(self, handle, target_list, fetch_list, feed_dict, options, run_metadata)\u001b[0m\n\u001b[1;32m   1319\u001b[0m     \u001b[0;32mif\u001b[0m \u001b[0mhandle\u001b[0m \u001b[0;32mis\u001b[0m \u001b[0mNone\u001b[0m\u001b[0;34m:\u001b[0m\u001b[0;34m\u001b[0m\u001b[0m\n\u001b[1;32m   1320\u001b[0m       return self._do_call(_run_fn, feeds, fetches, targets, options,\n\u001b[0;32m-> 1321\u001b[0;31m                            run_metadata)\n\u001b[0m\u001b[1;32m   1322\u001b[0m     \u001b[0;32melse\u001b[0m\u001b[0;34m:\u001b[0m\u001b[0;34m\u001b[0m\u001b[0m\n\u001b[1;32m   1323\u001b[0m       \u001b[0;32mreturn\u001b[0m \u001b[0mself\u001b[0m\u001b[0;34m.\u001b[0m\u001b[0m_do_call\u001b[0m\u001b[0;34m(\u001b[0m\u001b[0m_prun_fn\u001b[0m\u001b[0;34m,\u001b[0m \u001b[0mhandle\u001b[0m\u001b[0;34m,\u001b[0m \u001b[0mfeeds\u001b[0m\u001b[0;34m,\u001b[0m \u001b[0mfetches\u001b[0m\u001b[0;34m)\u001b[0m\u001b[0;34m\u001b[0m\u001b[0m\n",
      "\u001b[0;32m/Users/nimishawalgaonkar/anaconda2/lib/python2.7/site-packages/tensorflow/python/client/session.pyc\u001b[0m in \u001b[0;36m_do_call\u001b[0;34m(self, fn, *args)\u001b[0m\n\u001b[1;32m   1325\u001b[0m   \u001b[0;32mdef\u001b[0m \u001b[0m_do_call\u001b[0m\u001b[0;34m(\u001b[0m\u001b[0mself\u001b[0m\u001b[0;34m,\u001b[0m \u001b[0mfn\u001b[0m\u001b[0;34m,\u001b[0m \u001b[0;34m*\u001b[0m\u001b[0margs\u001b[0m\u001b[0;34m)\u001b[0m\u001b[0;34m:\u001b[0m\u001b[0;34m\u001b[0m\u001b[0m\n\u001b[1;32m   1326\u001b[0m     \u001b[0;32mtry\u001b[0m\u001b[0;34m:\u001b[0m\u001b[0;34m\u001b[0m\u001b[0m\n\u001b[0;32m-> 1327\u001b[0;31m       \u001b[0;32mreturn\u001b[0m \u001b[0mfn\u001b[0m\u001b[0;34m(\u001b[0m\u001b[0;34m*\u001b[0m\u001b[0margs\u001b[0m\u001b[0;34m)\u001b[0m\u001b[0;34m\u001b[0m\u001b[0m\n\u001b[0m\u001b[1;32m   1328\u001b[0m     \u001b[0;32mexcept\u001b[0m \u001b[0merrors\u001b[0m\u001b[0;34m.\u001b[0m\u001b[0mOpError\u001b[0m \u001b[0;32mas\u001b[0m \u001b[0me\u001b[0m\u001b[0;34m:\u001b[0m\u001b[0;34m\u001b[0m\u001b[0m\n\u001b[1;32m   1329\u001b[0m       \u001b[0mmessage\u001b[0m \u001b[0;34m=\u001b[0m \u001b[0mcompat\u001b[0m\u001b[0;34m.\u001b[0m\u001b[0mas_text\u001b[0m\u001b[0;34m(\u001b[0m\u001b[0me\u001b[0m\u001b[0;34m.\u001b[0m\u001b[0mmessage\u001b[0m\u001b[0;34m)\u001b[0m\u001b[0;34m\u001b[0m\u001b[0m\n",
      "\u001b[0;32m/Users/nimishawalgaonkar/anaconda2/lib/python2.7/site-packages/tensorflow/python/client/session.pyc\u001b[0m in \u001b[0;36m_run_fn\u001b[0;34m(feed_dict, fetch_list, target_list, options, run_metadata)\u001b[0m\n\u001b[1;32m   1310\u001b[0m       \u001b[0mself\u001b[0m\u001b[0;34m.\u001b[0m\u001b[0m_extend_graph\u001b[0m\u001b[0;34m(\u001b[0m\u001b[0;34m)\u001b[0m\u001b[0;34m\u001b[0m\u001b[0m\n\u001b[1;32m   1311\u001b[0m       return self._call_tf_sessionrun(\n\u001b[0;32m-> 1312\u001b[0;31m           options, feed_dict, fetch_list, target_list, run_metadata)\n\u001b[0m\u001b[1;32m   1313\u001b[0m \u001b[0;34m\u001b[0m\u001b[0m\n\u001b[1;32m   1314\u001b[0m     \u001b[0;32mdef\u001b[0m \u001b[0m_prun_fn\u001b[0m\u001b[0;34m(\u001b[0m\u001b[0mhandle\u001b[0m\u001b[0;34m,\u001b[0m \u001b[0mfeed_dict\u001b[0m\u001b[0;34m,\u001b[0m \u001b[0mfetch_list\u001b[0m\u001b[0;34m)\u001b[0m\u001b[0;34m:\u001b[0m\u001b[0;34m\u001b[0m\u001b[0m\n",
      "\u001b[0;32m/Users/nimishawalgaonkar/anaconda2/lib/python2.7/site-packages/tensorflow/python/client/session.pyc\u001b[0m in \u001b[0;36m_call_tf_sessionrun\u001b[0;34m(self, options, feed_dict, fetch_list, target_list, run_metadata)\u001b[0m\n\u001b[1;32m   1418\u001b[0m         return tf_session.TF_Run(\n\u001b[1;32m   1419\u001b[0m             \u001b[0mself\u001b[0m\u001b[0;34m.\u001b[0m\u001b[0m_session\u001b[0m\u001b[0;34m,\u001b[0m \u001b[0moptions\u001b[0m\u001b[0;34m,\u001b[0m \u001b[0mfeed_dict\u001b[0m\u001b[0;34m,\u001b[0m \u001b[0mfetch_list\u001b[0m\u001b[0;34m,\u001b[0m \u001b[0mtarget_list\u001b[0m\u001b[0;34m,\u001b[0m\u001b[0;34m\u001b[0m\u001b[0m\n\u001b[0;32m-> 1420\u001b[0;31m             status, run_metadata)\n\u001b[0m\u001b[1;32m   1421\u001b[0m \u001b[0;34m\u001b[0m\u001b[0m\n\u001b[1;32m   1422\u001b[0m   \u001b[0;32mdef\u001b[0m \u001b[0m_call_tf_sessionprun\u001b[0m\u001b[0;34m(\u001b[0m\u001b[0mself\u001b[0m\u001b[0;34m,\u001b[0m \u001b[0mhandle\u001b[0m\u001b[0;34m,\u001b[0m \u001b[0mfeed_dict\u001b[0m\u001b[0;34m,\u001b[0m \u001b[0mfetch_list\u001b[0m\u001b[0;34m)\u001b[0m\u001b[0;34m:\u001b[0m\u001b[0;34m\u001b[0m\u001b[0m\n",
      "\u001b[0;31mKeyboardInterrupt\u001b[0m: "
     ]
    }
   ],
   "source": [
    "samples = m.sample(mcmc_samples, verbose=True, epsilon=0.00005, thin = 2, burn = 500, Lmax = 20)"
   ]
  },
  {
   "cell_type": "code",
   "execution_count": null,
   "metadata": {},
   "outputs": [],
   "source": [
    "sample_df"
   ]
  },
  {
   "cell_type": "code",
   "execution_count": null,
   "metadata": {
    "collapsed": true
   },
   "outputs": [],
   "source": []
  }
 ],
 "metadata": {
  "kernelspec": {
   "display_name": "Python [default]",
   "language": "python",
   "name": "python2"
  },
  "language_info": {
   "codemirror_mode": {
    "name": "ipython",
    "version": 2
   },
   "file_extension": ".py",
   "mimetype": "text/x-python",
   "name": "python",
   "nbconvert_exporter": "python",
   "pygments_lexer": "ipython2",
   "version": "2.7.14"
  }
 },
 "nbformat": 4,
 "nbformat_minor": 2
}
