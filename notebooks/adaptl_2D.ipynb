{
 "cells": [
  {
   "cell_type": "code",
   "execution_count": 1,
   "metadata": {},
   "outputs": [
    {
     "ename": "RuntimeError",
     "evalue": "module compiled against API version 0xb but this version of numpy is 0xa",
     "output_type": "error",
     "traceback": [
      "\u001b[0;31m---------------------------------------------------------------------------\u001b[0m",
      "\u001b[0;31mRuntimeError\u001b[0m                              Traceback (most recent call last)",
      "\u001b[0;31mRuntimeError\u001b[0m: module compiled against API version 0xb but this version of numpy is 0xa"
     ]
    },
    {
     "ename": "RuntimeError",
     "evalue": "module compiled against API version 0xb but this version of numpy is 0xa",
     "output_type": "error",
     "traceback": [
      "\u001b[0;31m---------------------------------------------------------------------------\u001b[0m",
      "\u001b[0;31mRuntimeError\u001b[0m                              Traceback (most recent call last)",
      "\u001b[0;31mRuntimeError\u001b[0m: module compiled against API version 0xb but this version of numpy is 0xa"
     ]
    }
   ],
   "source": [
    "import gpflow\n",
    "import numpy as np\n",
    "import matplotlib.pyplot as plt\n",
    "%matplotlib inline\n",
    "import sys\n",
    "sys.path.append('../')\n",
    "from GPHetero import hetero_kernels, hetero_likelihoods, hetero_gpmc"
   ]
  },
  {
   "cell_type": "code",
   "execution_count": 2,
   "metadata": {
    "collapsed": true
   },
   "outputs": [],
   "source": [
    "from ctf.functions2d import branin\n",
    "Br = branin.Branin()\n",
    "X1_domain = Br.domain[0]\n",
    "X2_domain = Br.domain[1]"
   ]
  },
  {
   "cell_type": "code",
   "execution_count": 3,
   "metadata": {
    "collapsed": true
   },
   "outputs": [],
   "source": [
    "X1 = np.linspace(X1_domain[0], X1_domain[1],10)\n",
    "X2 = np.linspace(X2_domain[0], X2_domain[1],10)\n",
    "\n",
    "Xtt1, Xtt2 = np.meshgrid(X1, X2)\n",
    "X_train = np.zeros(shape =(np.ravel(Xtt1).shape[0],2))\n",
    "X_train[:,0] = np.ravel(Xtt1) \n",
    "X_train[:,1] = np.ravel(Xtt2)"
   ]
  },
  {
   "cell_type": "code",
   "execution_count": 4,
   "metadata": {
    "collapsed": true
   },
   "outputs": [],
   "source": [
    "Xtrain_mean = np.mean(X_train, 0)\n",
    "Xtrain_std = np.std(X_train, 0)\n",
    "X_train_norm = (X_train - Xtrain_mean)/Xtrain_std\n",
    "Y_train = Br.cost(X_train.T)"
   ]
  },
  {
   "cell_type": "code",
   "execution_count": 5,
   "metadata": {},
   "outputs": [
    {
     "data": {
      "text/plain": [
       "<matplotlib.colorbar.Colorbar at 0x1820414d50>"
      ]
     },
     "execution_count": 5,
     "metadata": {},
     "output_type": "execute_result"
    },
    {
     "data": {
      "image/png": "[encoded data removed]",
      "text/plain": [
       "<matplotlib.figure.Figure at 0x18203b4910>"
      ]
     },
     "metadata": {},
     "output_type": "display_data"
    }
   ],
   "source": [
    "plt.figure(figsize=(10,8))\n",
    "num_grid = X1.shape[0]\n",
    "c = plt.contourf(X1, X2, Y_train.reshape((num_grid, num_grid), order='F'), cmap=plt.cm.Blues)\n",
    "plt.colorbar(c)"
   ]
  },
  {
   "cell_type": "code",
   "execution_count": 6,
   "metadata": {
    "collapsed": true
   },
   "outputs": [],
   "source": [
    "#build the model\n",
    "k1 = gpflow.kernels.RBF(1)\n",
    "k2 = gpflow.kernels.RBF(1)\n",
    "nonstat = hetero_kernels.NonStationaryLengthscaleRBF()\n",
    "m = hetero_gpmc.GPMCAdaptiveLengthscale2D(X_train_norm, Y_train[:,None], k1, k2, nonstat)"
   ]
  },
  {
   "cell_type": "code",
   "execution_count": 7,
   "metadata": {
    "collapsed": true
   },
   "outputs": [],
   "source": [
    "# Lengthscale 1 GP priors \n",
    "#m.kern1.variance = 0.1\n",
    "#m.kern1.variance.fixed = True\n",
    "#m.kern1.lengthscales = 0.5\n",
    "#m.kern1.lengthscales.fixed = True\n",
    "m.kern1.variance.prior = gpflow.priors.Gamma(1., 1.)\n",
    "m.kern1.lengthscales.prior = gpflow.priors.Gamma(1., 1.)\n",
    "# Lengthscale 2 GP priors\n",
    "#m.kern2.variance = 0.1\n",
    "#m.kern2.variance.fixed = True\n",
    "#m.kern2.lengthscales = 0.5\n",
    "#m.kern2.lengthscales.fixed = True\n",
    "m.kern2.variance.prior = gpflow.priors.Gamma(1., 1.)\n",
    "m.kern2.lengthscales.prior = gpflow.priors.Gamma(1., 1.)\n",
    "\n",
    "# Non stationary signal variance prior\n",
    "#m.nonstat.signal_variance = 100\n",
    "#m.nonstat.signal_variance.fixed = True\n",
    "m.nonstat.signal_variance.prior = gpflow.priors.Gamma(1., 1.)\n",
    "\n",
    "m.likelihood.variance = 0.01\n",
    "m.likelihood.variance.fixed = True"
   ]
  },
  {
   "cell_type": "code",
   "execution_count": 8,
   "metadata": {},
   "outputs": [
    {
     "data": {
      "text/plain": [
       "(100, 1)"
      ]
     },
     "execution_count": 8,
     "metadata": {},
     "output_type": "execute_result"
    }
   ],
   "source": [
    "m.V1.shape"
   ]
  },
  {
   "cell_type": "code",
   "execution_count": 9,
   "metadata": {},
   "outputs": [
    {
     "data": {
      "text/plain": [
       "      fun: array([ 9400313.36939761])\n",
       " hess_inv: <305x305 LbfgsInvHessProduct with dtype=float64>\n",
       "      jac: array([  3.88745952e+05,   1.52045335e+05,  -4.60527027e+05,\n",
       "        -8.24624991e+05,  -7.41617573e+05,  -5.70788272e+05,\n",
       "        -3.03270476e+05,  -1.11948210e+05,  -1.82943458e+04,\n",
       "         2.81657443e+03,   2.16677345e+02,   6.86046278e+02,\n",
       "         7.98637263e+02,   2.79770718e+03,   1.89963443e+03,\n",
       "        -1.38249413e+03,  -3.70065262e+03,  -4.46531043e+03,\n",
       "        -2.40064074e+03,   4.01787495e+02,  -6.04074684e+01,\n",
       "        -3.97356695e+02,   1.17055566e+03,   1.86052905e+03,\n",
       "         8.54650664e+02,  -1.39451896e+03,  -2.02826642e+03,\n",
       "        -2.46865783e+03,  -1.27750200e+03,   4.20022843e+02,\n",
       "        -1.01188473e+01,   1.89799596e+02,   6.37983537e+02,\n",
       "         1.48446541e+03,   2.01058012e+03,   9.51108561e+02,\n",
       "        -1.25275950e+03,  -1.99916768e+03,  -8.32708816e+02,\n",
       "         4.42677526e+02,   1.85585108e+01,   7.75977988e+01,\n",
       "         5.03490208e+02,   1.27907268e+03,   1.11949253e+03,\n",
       "        -2.03128018e+02,  -9.18746415e+02,  -1.22908547e+03,\n",
       "        -5.47593829e+02,   4.16113610e+02,   2.45181448e+00,\n",
       "         8.85261638e+01,   4.95618128e+02,   1.19173891e+03,\n",
       "         1.02446953e+03,  -3.18632330e+02,  -8.12548933e+02,\n",
       "        -1.00578399e+03,  -2.69709473e+02,   5.70563100e+02,\n",
       "         3.12557083e+00,   1.12611484e+02,   6.11626879e+02,\n",
       "         1.34401455e+03,   1.59237457e+03,   4.82472336e+02,\n",
       "        -8.17847923e+02,  -1.31449542e+03,  -2.03901392e+02,\n",
       "         7.42940248e+02,   3.00010339e+00,   1.11637571e+02,\n",
       "         6.03418980e+02,   1.07912016e+03,   1.17336918e+03,\n",
       "         2.97961556e+02,  -1.31202546e+03,  -2.02590618e+03,\n",
       "        -9.02325979e+02,   2.00611211e+02,   3.95168065e+00,\n",
       "         9.43031024e+01,   4.51998411e+02,   3.73524390e+02,\n",
       "        -1.81329535e+02,  -1.16002361e+03,  -2.98468382e+03,\n",
       "        -3.75996256e+03,  -2.61968026e+03,  -1.37138265e+03,\n",
       "         4.62998533e+00,   6.71107556e+01,   2.19965570e+02,\n",
       "        -5.20811969e+02,  -1.96637340e+03,  -3.19493519e+03,\n",
       "        -4.99459252e+03,  -5.70384044e+03,  -4.64350436e+03,\n",
       "        -3.34613230e+03,  -1.86168645e+06,  -6.70626162e+03,\n",
       "        -2.91336261e+03,  -1.61485675e+04,  -1.97671028e+04,\n",
       "        -3.78415375e+04,  -4.79789375e+04,  -3.44695425e+04,\n",
       "        -2.56386822e+04,  -1.44414338e+04,  -1.11827886e+06,\n",
       "        -5.02495512e+04,  -3.30784759e+04,   1.34128098e+04,\n",
       "         3.22178062e+04,   8.26812463e+04,   1.12677077e+05,\n",
       "         8.63335995e+04,   6.04143263e+04,   3.31681044e+04,\n",
       "         7.75929417e+05,   2.34771363e+04,   1.46030818e+04,\n",
       "         7.93889359e+04,   1.07936485e+05,   1.85344869e+05,\n",
       "         2.34882705e+05,   1.96627602e+05,   1.34968067e+05,\n",
       "         7.31016090e+04,   1.69569189e+05,   4.45015188e+04,\n",
       "         2.74944508e+04,  -4.42518627e+04,  -7.28119818e+04,\n",
       "        -1.51069741e+05,  -2.12509441e+05,  -1.81486848e+05,\n",
       "        -1.17876191e+05,  -4.28072645e+04,   4.10368068e+05,\n",
       "         8.68966612e+04,   4.68778767e+04,   2.04933311e+04,\n",
       "         3.18918861e+03,  -1.47899801e+04,  -9.52313797e+03,\n",
       "         2.90564998e+03,  -3.00335466e+03,  -1.92209789e+04,\n",
       "         5.81627990e+05,   1.20378885e+05,   7.08276784e+04,\n",
       "         4.99228200e+04,   3.68723026e+04,   2.82921423e+04,\n",
       "         2.97315813e+04,   2.69898436e+04,   2.46325126e+04,\n",
       "         1.36294054e+04,   4.54862169e+05,   1.01598691e+05,\n",
       "         6.01833571e+04,   4.20796885e+04,   3.14139343e+04,\n",
       "         2.41895387e+04,   2.21521239e+04,   1.92401920e+04,\n",
       "         1.97796325e+04,   1.31898793e+04,   2.56397461e+05,\n",
       "         5.77037018e+04,   3.40882146e+04,   2.40683863e+04,\n",
       "         1.85080898e+04,   1.49160568e+04,   1.28951627e+04,\n",
       "         1.11920493e+04,   1.06697465e+04,   8.13068224e+03,\n",
       "         1.05645294e+05,   2.33190209e+04,   1.34464849e+04,\n",
       "         9.42179794e+03,   7.31492151e+03,   6.03574979e+03,\n",
       "         5.38158493e+03,   4.86658850e+03,   4.23768357e+03,\n",
       "         3.44991140e+03,   2.65249479e+04,   4.27702655e+03,\n",
       "         1.97560577e+03,   1.28422449e+03,   1.13123738e+03,\n",
       "         1.18886773e+03,   1.49901150e+03,   1.64104055e+03,\n",
       "         1.24165985e+03,   7.65155571e+02,  -1.04077726e+05,\n",
       "        -6.31601656e+04,  -9.63739490e+03,   1.31423025e+04,\n",
       "         5.30597759e+04,   5.09516095e+04,   1.73260056e+04,\n",
       "         1.64738583e+04,   1.62901790e+04,   4.25647771e+03,\n",
       "         1.67899308e+04,   4.06705567e+04,   6.23224066e+04,\n",
       "         5.56605192e+04,   7.05221516e+04,   4.46310873e+04,\n",
       "         1.06758132e+03,   7.51296950e+03,   1.62901550e+04,\n",
       "         5.39945103e+03,   5.46288380e+04,   7.48935081e+04,\n",
       "         7.54683658e+04,   5.15092578e+04,   4.52675250e+04,\n",
       "         5.56016570e+03,  -3.66645389e+04,  -2.14097617e+04,\n",
       "         1.38413615e+03,   2.53195082e+03,  -2.85998154e+03,\n",
       "        -3.98882172e+03,  -3.16400133e+03,  -1.40169443e+03,\n",
       "         1.14421057e+02,   3.70918693e+03,   5.55041844e+03,\n",
       "         4.94519405e+03,   4.26222393e+03,   2.86755632e+03,\n",
       "         2.74132969e+04,   3.50131142e+04,   3.11751509e+04,\n",
       "         1.76398350e+04,   1.07979517e+04,  -8.17726904e+03,\n",
       "        -2.59535413e+04,  -1.87646410e+04,  -5.68340486e+03,\n",
       "        -2.73425904e+02,   3.77297208e+04,   4.64084269e+04,\n",
       "         3.73771183e+04,   1.52125451e+04,  -2.27937225e+02,\n",
       "        -3.12223727e+04,  -5.60051985e+04,  -4.38292070e+04,\n",
       "        -1.87705354e+04,  -4.61152237e+03,   2.60553517e+04,\n",
       "         3.01099137e+04,   2.19662625e+04,   5.06655832e+03,\n",
       "        -7.46360561e+03,  -2.91099123e+04,  -4.77055442e+04,\n",
       "        -4.04529482e+04,  -2.07602435e+04,  -5.76025401e+03,\n",
       "         2.03597458e+04,   2.20702457e+04,   1.42434396e+04,\n",
       "        -5.20138449e+02,  -1.30987980e+04,  -3.33502679e+04,\n",
       "        -4.78236863e+04,  -3.82579575e+04,  -1.82564033e+04,\n",
       "        -4.43481942e+03,   1.00713677e+04,   1.01384920e+04,\n",
       "         5.58377204e+03,  -2.48870638e+03,  -1.00991837e+04,\n",
       "        -2.16054409e+04,  -2.88061630e+04,  -2.26236271e+04,\n",
       "        -1.06965768e+04,  -2.60594478e+03,   2.37683779e+03,\n",
       "         2.23138761e+03,   1.02038360e+03,  -1.04386500e+03,\n",
       "        -3.12350474e+03,  -6.13674981e+03,  -7.86462574e+03,\n",
       "        -6.14212443e+03,  -2.92987985e+03,  -7.42044633e+02,\n",
       "         1.14980892e+06,  -1.61921018e+05,  -1.91333637e+05,\n",
       "        -2.41199514e+04,   4.13902697e+04])\n",
       "  message: 'STOP: TOTAL NO. of ITERATIONS EXCEEDS LIMIT'\n",
       "     nfev: 22\n",
       "      nit: 11\n",
       "   status: 1\n",
       "  success: False\n",
       "        x: array([ -2.40783855e+00,  -6.59729714e-02,  -6.31675128e-01,\n",
       "        -3.43067049e-01,   4.89960381e-02,   2.26230522e-01,\n",
       "         2.01755712e-01,   1.00441707e-01,   2.60132820e-02,\n",
       "         2.88765535e-03,  -1.36380726e-02,   1.13015161e-02,\n",
       "         1.01108881e-02,   1.27646494e-04,  -7.04289772e-03,\n",
       "        -6.88232883e-03,  -8.65825093e-04,   2.81537578e-03,\n",
       "         1.10960698e-03,   1.19367322e-05,  -3.78643526e-03,\n",
       "         1.06947711e-02,   6.79337213e-03,   6.92112747e-04,\n",
       "        -4.37337678e-03,  -4.83840729e-03,  -1.13489224e-03,\n",
       "         1.38217182e-03,   2.77763847e-04,  -2.62702295e-04,\n",
       "         2.59261542e-04,   6.10811434e-03,   2.35511751e-03,\n",
       "        -2.90418878e-04,  -3.14031605e-03,  -3.59141434e-03,\n",
       "        -4.78747393e-04,   1.19475776e-03,   7.71499604e-05,\n",
       "        -3.65428016e-04,   7.23384958e-04,   2.24322387e-03,\n",
       "         1.03293849e-04,  -5.63431238e-04,  -2.10306554e-03,\n",
       "        -1.55590518e-03,   6.89721633e-04,   1.59213629e-03,\n",
       "         4.74929299e-04,  -3.38357850e-04,   3.13097837e-04,\n",
       "        -1.69101052e-04,  -1.95378082e-03,  -1.51021411e-03,\n",
       "        -1.89833927e-03,  -1.33421856e-03,   6.36981081e-04,\n",
       "         1.51968328e-03,   5.41394356e-04,  -2.37011912e-04,\n",
       "         4.66114043e-05,  -2.47716183e-03,  -3.39283708e-03,\n",
       "        -1.95614622e-03,  -1.39744196e-03,  -3.92413745e-04,\n",
       "         1.39761599e-03,   1.91209344e-03,   9.54966737e-04,\n",
       "         1.80833115e-04,  -3.86851713e-04,  -3.59177353e-03,\n",
       "        -3.57796687e-03,  -1.33065726e-03,  -2.24745042e-04,\n",
       "         7.37572310e-04,   2.09639269e-03,   2.41067012e-03,\n",
       "         1.64904317e-03,   1.02247602e-03,  -7.20592584e-04,\n",
       "        -3.46622993e-03,  -2.53711440e-03,   2.30952318e-04,\n",
       "         1.53789630e-03,   2.25943841e-03,   3.14239614e-03,\n",
       "         3.28227756e-03,   2.76465933e-03,   2.38510541e-03,\n",
       "        -7.98828258e-04,  -2.42001294e-03,  -7.07162232e-04,\n",
       "         2.31508792e-03,   3.56485764e-03,   3.91073506e-03,\n",
       "         4.29296387e-03,   4.31705548e-03,   4.11946647e-03,\n",
       "         4.05903253e-03,   3.18171508e-02,  -1.42845632e-02,\n",
       "        -1.22158652e-02,  -7.21552335e-03,  -1.38552535e-03,\n",
       "         1.07780544e-02,   1.65439910e-02,   1.60215342e-02,\n",
       "         8.77058719e-03,  -2.36629938e-03,   3.64120754e-01,\n",
       "         3.63091892e-02,   2.62826103e-02,   2.60630129e-02,\n",
       "         1.93510066e-02,   2.86669446e-03,  -1.37098714e-02,\n",
       "        -1.78220254e-02,  -6.33744230e-03,   9.32885200e-03,\n",
       "        -5.80349717e-01,  -1.46423411e-02,  -4.31173681e-03,\n",
       "        -3.08135716e-03,  -8.87661301e-03,  -1.33377992e-02,\n",
       "        -1.71198761e-02,  -1.17332861e-02,  -6.94016109e-03,\n",
       "         2.17329281e-04,  -8.40642128e-02,  -1.08726682e-03,\n",
       "        -3.02692741e-03,  -1.76471210e-03,  -4.51207792e-03,\n",
       "        -7.38771107e-03,  -5.08956576e-03,  -3.43342460e-03,\n",
       "        -3.87528199e-03,   2.00131459e-03,   3.56424409e-01,\n",
       "         4.53407281e-02,   2.51656492e-02,   1.73115863e-02,\n",
       "         1.24478538e-02,   1.61928270e-02,   1.64195084e-02,\n",
       "         1.48185843e-02,   1.06762188e-02,   1.33423823e-04,\n",
       "         5.41105557e-01,   7.94842437e-02,   4.47229152e-02,\n",
       "         3.08674694e-02,   2.08798442e-02,   1.58330870e-02,\n",
       "         1.36319432e-02,   1.28098547e-02,   1.27270549e-02,\n",
       "         1.22168518e-02,   5.63426554e-01,   8.19132282e-02,\n",
       "         4.72368625e-02,   3.36346580e-02,   2.49972179e-02,\n",
       "         2.05340474e-02,   1.88128212e-02,   1.70363685e-02,\n",
       "         1.41289445e-02,   1.26751768e-02,   3.89546089e-01,\n",
       "         5.86918295e-02,   3.45291527e-02,   2.55505253e-02,\n",
       "         1.99933868e-02,   1.67348464e-02,   1.51144403e-02,\n",
       "         1.34194759e-02,   1.11113947e-02,   9.42298162e-03,\n",
       "         1.71791248e-01,   2.61342354e-02,   1.58635409e-02,\n",
       "         1.24134804e-02,   1.01162459e-02,   8.63833531e-03,\n",
       "         7.89838132e-03,   6.93030230e-03,   5.53208121e-03,\n",
       "         4.46457027e-03,   4.23395298e-02,   6.18844886e-03,\n",
       "         4.36126367e-03,   4.21839989e-03,   3.78399673e-03,\n",
       "         3.43707148e-03,   3.42709617e-03,   3.02991312e-03,\n",
       "         2.07069935e-03,   1.26006657e-03,   3.58018771e+01,\n",
       "         1.14306244e+01,   6.75544936e+00,   5.30322302e+00,\n",
       "         4.08395923e+00,   3.17017573e+00,   1.96782524e+00,\n",
       "         9.61336735e-01,   3.30569639e-01,   6.93876428e-02,\n",
       "         1.97201514e+01,   9.07760666e+00,   8.30765037e+00,\n",
       "         7.66139371e+00,   7.19556901e+00,   5.82243195e+00,\n",
       "         4.05558408e+00,   2.26901215e+00,   9.26065414e-01,\n",
       "         2.39725285e-01,   1.37936098e+01,   1.02758405e+01,\n",
       "         1.06766814e+01,   1.14103564e+01,   1.11454296e+01,\n",
       "         9.71530005e+00,   7.35822234e+00,   4.59675095e+00,\n",
       "         2.25353418e+00,   8.15723942e-01,   1.08630140e+01,\n",
       "         1.06557290e+01,   1.25661361e+01,   1.36733494e+01,\n",
       "         1.40655442e+01,   1.31217699e+01,   1.06193389e+01,\n",
       "         7.42654769e+00,   4.37640663e+00,   1.91593488e+00,\n",
       "         7.75856369e+00,   9.23793043e+00,   1.13892661e+01,\n",
       "         1.31568475e+01,   1.41730338e+01,   1.36881062e+01,\n",
       "         1.19341502e+01,   9.26907491e+00,   6.02516467e+00,\n",
       "         2.84111976e+00,   4.76307610e+00,   6.67899236e+00,\n",
       "         8.94887259e+00,   1.06322494e+01,   1.17141779e+01,\n",
       "         1.17593195e+01,   1.05247477e+01,   8.24760151e+00,\n",
       "         5.39267586e+00,   2.57492145e+00,   3.41141236e+00,\n",
       "         5.02889096e+00,   6.77366374e+00,   8.08640330e+00,\n",
       "         8.89541636e+00,   8.80425005e+00,   7.81803038e+00,\n",
       "         6.15077024e+00,   4.06543951e+00,   1.97110737e+00,\n",
       "         1.75703256e+00,   2.76703010e+00,   3.81860458e+00,\n",
       "         4.57617913e+00,   5.05261765e+00,   5.06755875e+00,\n",
       "         4.56085768e+00,   3.61987306e+00,   2.40828269e+00,\n",
       "         1.17426019e+00,   6.60770963e-01,   1.10620142e+00,\n",
       "         1.57430028e+00,   1.90968392e+00,   2.11828388e+00,\n",
       "         2.12418947e+00,   1.91126067e+00,   1.51594242e+00,\n",
       "         1.00692742e+00,   4.92166867e-01,   1.42321842e-01,\n",
       "         2.49089362e-01,   3.68897201e-01,   4.48557203e-01,\n",
       "         4.96080012e-01,   5.01117611e-01,   4.55358004e-01,\n",
       "         3.61069691e-01,   2.38256343e-01,   1.17027896e-01,\n",
       "         6.04771305e-01,   7.10857415e-01,   8.70760681e-01,\n",
       "         6.14798018e-01,   3.84800618e+00])"
      ]
     },
     "execution_count": 9,
     "metadata": {},
     "output_type": "execute_result"
    }
   ],
   "source": [
    "import tensorflow as tf\n",
    "m.optimize(maxiter=10)"
   ]
  },
  {
   "cell_type": "code",
   "execution_count": 25,
   "metadata": {},
   "outputs": [
    {
     "data": {
      "text/plain": [
       "<tf.Tensor 'adaptive_lengthscale_gp2D.build_likelihood/MatMul_2:0' shape=(?, 1) dtype=float64>"
      ]
     },
     "execution_count": 25,
     "metadata": {},
     "output_type": "execute_result"
    }
   ],
   "source": []
  },
  {
   "cell_type": "code",
   "execution_count": 10,
   "metadata": {
    "collapsed": true
   },
   "outputs": [],
   "source": [
    "#samples = m.sample(200, verbose=True, epsilon=0.005, thin = 2, burn = 100, Lmax = 160)"
   ]
  },
  {
   "cell_type": "code",
   "execution_count": 11,
   "metadata": {
    "collapsed": true
   },
   "outputs": [],
   "source": [
    "mean, var = m.predict_f(X_train_norm)"
   ]
  },
  {
   "cell_type": "code",
   "execution_count": 12,
   "metadata": {},
   "outputs": [
    {
     "data": {
      "text/plain": [
       "<matplotlib.colorbar.Colorbar at 0x1829c2fb90>"
      ]
     },
     "execution_count": 12,
     "metadata": {},
     "output_type": "execute_result"
    },
    {
     "data": {
      "image/png": "[encoded data removed]",
      "text/plain": [
       "<matplotlib.figure.Figure at 0x1829af6c50>"
      ]
     },
     "metadata": {},
     "output_type": "display_data"
    }
   ],
   "source": [
    "plt.figure(figsize=(10,8))\n",
    "num_grid = X1.shape[0]\n",
    "c = plt.contourf(X1, X2, mean.reshape((num_grid, num_grid), order='F'), cmap=plt.cm.Blues)\n",
    "plt.colorbar(c)"
   ]
  },
  {
   "cell_type": "code",
   "execution_count": 13,
   "metadata": {},
   "outputs": [
    {
     "data": {
      "text/plain": [
       "<matplotlib.colorbar.Colorbar at 0x1829e31c90>"
      ]
     },
     "execution_count": 13,
     "metadata": {},
     "output_type": "execute_result"
    },
    {
     "data": {
      "image/png": "[encoded data removed]",
      "text/plain": [
       "<matplotlib.figure.Figure at 0x1829c80490>"
      ]
     },
     "metadata": {},
     "output_type": "display_data"
    }
   ],
   "source": [
    "plt.figure(figsize=(10,8))\n",
    "num_grid = X1.shape[0]\n",
    "c = plt.contourf(X1, X2, np.diag(var).reshape((num_grid, num_grid), order='F'), cmap=plt.cm.Reds)\n",
    "plt.colorbar(c)"
   ]
  },
  {
   "cell_type": "code",
   "execution_count": 14,
   "metadata": {
    "collapsed": true
   },
   "outputs": [],
   "source": [
    "#samples = m.sample(200, verbose=True, epsilon=0.0005, thin = 2, burn = 100, Lmax = 360)"
   ]
  },
  {
   "cell_type": "code",
   "execution_count": 15,
   "metadata": {
    "collapsed": true
   },
   "outputs": [],
   "source": [
    "def visualize_l(Xgrid, M, L, U):\n",
    "    \"\"\"\n",
    "    Visualize 1D utility funciton values\n",
    "    Xgrid : grid states\n",
    "    Mgrid : mean of GP at those finite grid points\n",
    "    Vargrid : variance of GP at those finite grid points\n",
    "    \"\"\"\n",
    "    \n",
    "    line, = plt.plot(Xgrid, M, lw = 2, color = 'b', label = 'utility', alpha = 0.5)\n",
    "    #plt.fill_between(Xgrid[:,0], L, U,\n",
    "    #                 color = 'b', alpha = 0.25)\n",
    "    #plt.fill_between(Xgrid[:,0], lower1, upper1,\n",
    "    #                 color = 'g', alpha = 0.25)\n",
    "    plt.xlabel('x')\n",
    "    plt.ylabel('y')\n",
    "    return"
   ]
  },
  {
   "cell_type": "code",
   "execution_count": 16,
   "metadata": {
    "collapsed": true
   },
   "outputs": [],
   "source": [
    "X1t = np.linspace(X1_domain[0], X1_domain[1],100)\n",
    "X2t = np.linspace(X2_domain[0], X2_domain[1],100)\n",
    "X_test = np.zeros(shape =(X1t.shape[0],2))\n",
    "X_test[:,0] = X1t\n",
    "X_test[:,1] = X2t\n",
    "X_testnorm = (X_test - Xtrain_mean)/Xtrain_std"
   ]
  },
  {
   "cell_type": "code",
   "execution_count": 17,
   "metadata": {
    "collapsed": true
   },
   "outputs": [],
   "source": [
    "ml1, vl1, ml2, vl2 = m.predict_l(X_train_norm)"
   ]
  },
  {
   "cell_type": "code",
   "execution_count": 18,
   "metadata": {
    "collapsed": true
   },
   "outputs": [],
   "source": [
    "lower1 = ml1 - 2*np.sqrt(vl1)\n",
    "upper1 = ml1 + 2*np.sqrt(vl1)\n",
    "\n",
    "MeanL1 = np.exp(ml1)\n",
    "LowerL1 = np.exp(lower1)\n",
    "UpperL1 = np.exp(upper1)\n"
   ]
  },
  {
   "cell_type": "code",
   "execution_count": 19,
   "metadata": {
    "collapsed": true
   },
   "outputs": [],
   "source": [
    "lower2 = ml2 - 2*np.sqrt(vl2)\n",
    "upper2 = ml2 + 2*np.sqrt(vl2)\n",
    "\n",
    "MeanL2 = np.exp(ml2)\n",
    "LowerL2 = np.exp(lower2)\n",
    "UpperL2 = np.exp(upper2)\n"
   ]
  },
  {
   "cell_type": "code",
   "execution_count": 20,
   "metadata": {},
   "outputs": [
    {
     "data": {
      "image/png": "[encoded data removed]",
      "text/plain": [
       "<matplotlib.figure.Figure at 0x1829c6c3d0>"
      ]
     },
     "metadata": {},
     "output_type": "display_data"
    }
   ],
   "source": [
    "visualize_l(X1t,MeanL1,UpperL1, LowerL1)"
   ]
  },
  {
   "cell_type": "code",
   "execution_count": 21,
   "metadata": {},
   "outputs": [
    {
     "data": {
      "image/png": "[encoded data removed]",
      "text/plain": [
       "<matplotlib.figure.Figure at 0x182a344410>"
      ]
     },
     "metadata": {},
     "output_type": "display_data"
    }
   ],
   "source": [
    "visualize_l(X2t,MeanL2,UpperL2, LowerL2)"
   ]
  },
  {
   "cell_type": "code",
   "execution_count": null,
   "metadata": {
    "collapsed": true
   },
   "outputs": [],
   "source": []
  }
 ],
 "metadata": {
  "kernelspec": {
   "display_name": "Python [default]",
   "language": "python",
   "name": "python2"
  },
  "language_info": {
   "codemirror_mode": {
    "name": "ipython",
    "version": 2
   },
   "file_extension": ".py",
   "mimetype": "text/x-python",
   "name": "python",
   "nbconvert_exporter": "python",
   "pygments_lexer": "ipython2",
   "version": "2.7.14"
  }
 },
 "nbformat": 4,
 "nbformat_minor": 2
}
