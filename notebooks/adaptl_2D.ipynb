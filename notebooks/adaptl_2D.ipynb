{
 "cells": [
  {
   "cell_type": "markdown",
   "metadata": {},
   "source": [
    "## Adaptive lengthscales for 2 Dimensional input"
   ]
  },
  {
   "cell_type": "code",
   "execution_count": 1,
   "metadata": {
    "collapsed": false
   },
   "outputs": [],
   "source": [
    "import gpflow\n",
    "import numpy as np\n",
    "import matplotlib.pyplot as plt\n",
    "%matplotlib inline\n",
    "import sys\n",
    "sys.path.append('../')\n",
    "from GPHetero import hetero_kernels, hetero_likelihoods, hetero_gpmc"
   ]
  },
  {
   "cell_type": "code",
   "execution_count": 2,
   "metadata": {
    "collapsed": true
   },
   "outputs": [],
   "source": [
    "from ctf.functions2d import branin\n",
    "Br = branin.Branin()\n",
    "X1_domain = Br.domain[0]\n",
    "X2_domain = Br.domain[1]"
   ]
  },
  {
   "cell_type": "code",
   "execution_count": 3,
   "metadata": {
    "collapsed": false
   },
   "outputs": [],
   "source": [
    "X1 = np.linspace(X1_domain[0], X1_domain[1],10)\n",
    "X2 = np.linspace(X2_domain[0], X2_domain[1],10)\n",
    "\n",
    "Xtt1, Xtt2 = np.meshgrid(X1, X2)\n",
    "X_train = np.zeros(shape =(np.ravel(Xtt1).shape[0],2))\n",
    "X_train[:, 0] = np.ravel(Xtt1) \n",
    "X_train[:, 1] = np.ravel(Xtt2)"
   ]
  },
  {
   "cell_type": "code",
   "execution_count": 4,
   "metadata": {
    "collapsed": false
   },
   "outputs": [],
   "source": [
    "Xtrain_mean = np.mean(X_train, 0)\n",
    "Xtrain_std = np.std(X_train, 0)\n",
    "X_train_norm = (X_train - Xtrain_mean) / Xtrain_std\n",
    "Y_train = Br.cost(X_train.T)"
   ]
  },
  {
   "cell_type": "code",
   "execution_count": 5,
   "metadata": {
    "collapsed": false
   },
   "outputs": [
    {
     "data": {
      "text/plain": [
       "<matplotlib.colorbar.Colorbar at 0x12478df10>"
      ]
     },
     "execution_count": 5,
     "metadata": {},
     "output_type": "execute_result"
    },
    {
     "name": "stderr",
     "output_type": "stream",
     "text": [
      "/Users/piyushpandita/anaconda/lib/python2.7/site-packages/matplotlib/figure.py:1742: UserWarning: This figure includes Axes that are not compatible with tight_layout, so its results might be incorrect.\n",
      "  warnings.warn(\"This figure includes Axes that are not \"\n"
     ]
    },
    {
     "data": {
      "image/png": "[encoded data removed]",
      "text/plain": [
       "<matplotlib.figure.Figure at 0x12472de10>"
      ]
     },
     "metadata": {},
     "output_type": "display_data"
    }
   ],
   "source": [
    "plt.figure(figsize=(10,8))\n",
    "num_grid = X1.shape[0]\n",
    "c = plt.contourf(X1, X2, Y_train.reshape((num_grid, num_grid), order='F'), cmap=plt.cm.Blues)\n",
    "plt.colorbar(c)"
   ]
  },
  {
   "cell_type": "code",
   "execution_count": 6,
   "metadata": {
    "collapsed": false
   },
   "outputs": [],
   "source": [
    "#build the model\n",
    "k = gpflow.kernels.RBF(input_dim=1)\n",
    "k2 = gpflow.kernels.RBF(1)\n",
    "nonstat = hetero_kernels.NonStationaryLengthscaleRBF()\n",
    "m = hetero_gpmc.GPMCAdaptiveLengthscale2D(X_train_norm, Y_train[:,None], k, nonstat)"
   ]
  },
  {
   "cell_type": "code",
   "execution_count": 7,
   "metadata": {
    "collapsed": false
   },
   "outputs": [],
   "source": [
    "# Lengthscale 1 GP priors \n",
    "#m.kern1.variance = 0.1\n",
    "#m.kern1.variance.fixed = True\n",
    "#m.kern1.lengthscales = 0.5\n",
    "#m.kern1.lengthscales.fixed = True\n",
    "m.kerns[\"ell0\"].variance.prior = gpflow.priors.Gaussian(0, 1.)\n",
    "m.kerns[\"ell0\"].lengthscales.prior = gpflow.priors.Gaussian(0, 1.)\n",
    "# Lengthscale 2 GP priors\n",
    "#m.kern2.variance = 0.1\n",
    "#m.kern2.variance.fixed = True\n",
    "#m.kern2.lengthscales = 0.5\n",
    "#m.kern2.lengthscales.fixed = True\n",
    "m.kerns[\"ell1\"].variance.prior = gpflow.priors.Gaussian(0, 1.)\n",
    "m.kerns[\"ell1\"].lengthscales.prior = gpflow.priors.Gaussian(0, 1.)\n",
    "\n",
    "# Non stationary signal variance prior\n",
    "# m.nonstat.signal_variance = 100\n",
    "# m.nonstat.signal_variance.fixed = True\n",
    "m.nonstat.signal_variance.prior = gpflow.priors.Gaussian(0, 1.)\n",
    "\n",
    "m.likelihood.variance = 0.01\n",
    "m.likelihood.variance.fixed = True"
   ]
  },
  {
   "cell_type": "code",
   "execution_count": 8,
   "metadata": {
    "collapsed": false
   },
   "outputs": [
    {
     "data": {
      "text/plain": [
       "      fun: array([5124.33680493])\n",
       " hess_inv: <303x303 LbfgsInvHessProduct with dtype=float64>\n",
       "      jac: array([ 4.72579691e+02, -6.86028777e+03,  3.61892390e+02, -1.03409631e+02,\n",
       "        1.36130540e+02, -6.39062063e+01, -3.19559128e+01, -3.65568456e+01,\n",
       "       -1.52281491e+02, -3.89530117e+01, -2.16658326e+02, -4.75399369e+01,\n",
       "       -2.48606256e+02, -1.48842857e+02, -1.72166844e+02,  1.06690641e+02,\n",
       "       -1.61809720e+02,  5.16913491e+00, -3.82262417e+01, -2.21395032e+01,\n",
       "       -6.34724610e+01,  1.69172091e+03,  1.00254220e+02,  7.80244644e+01,\n",
       "        2.67212974e+01,  3.70835746e+01, -5.51503428e+00,  7.63137977e+01,\n",
       "        1.49827987e+01,  4.46533039e+01, -1.13270261e+01,  4.61558958e+01,\n",
       "       -2.39996573e+01,  1.02160256e+02,  3.23844276e+01, -1.71808822e+01,\n",
       "        2.93659557e+01,  1.83573708e+01,  7.60637008e+00,  1.47715296e+01,\n",
       "        1.38572254e+02,  5.06087223e+03, -1.85357531e+02,  5.72756221e+02,\n",
       "       -7.72923228e+01,  2.43715074e+02, -1.80259273e+01,  1.93816082e+02,\n",
       "       -1.95138872e+01,  7.73627398e+01,  2.61240869e+01,  1.10285996e+02,\n",
       "       -3.91261790e+01,  5.41551508e+01,  6.78122022e+01,  2.62402090e+02,\n",
       "       -7.21379263e+01,  1.28885947e+02, -2.14325905e+01,  1.16552902e+02,\n",
       "       -1.53868895e+01,  2.30923101e+03,  3.41024802e+01,  5.30906739e+02,\n",
       "        3.87609052e+01,  3.63882078e+02,  2.02149204e+01,  2.39688407e+02,\n",
       "        3.14473991e+01,  2.39134370e+02, -1.35001840e+01,  1.12025521e+02,\n",
       "        1.73172320e+02,  1.27405746e+02, -1.34761721e+02,  7.75592505e+01,\n",
       "        2.08394898e+01,  6.59868084e+01,  2.48558684e+01,  7.13716959e+01,\n",
       "       -2.17080202e+00,  6.89240807e+02,  2.08470253e+01,  1.97043890e+02,\n",
       "       -2.97541070e+01,  9.00272621e+01,  1.52686960e+01,  6.79502965e+01,\n",
       "       -4.45479534e+01,  6.98402633e+01,  1.31744411e+01,  4.88976746e+01,\n",
       "       -3.47064841e+01,  2.50360513e+01,  3.20613814e+01,  3.52819730e+01,\n",
       "        2.69350988e+01,  4.58274831e+01, -8.59705251e+00,  2.94707032e+01,\n",
       "       -1.75499027e+01,  3.51112232e+02,  6.45616825e+00,  9.82625578e+01,\n",
       "        3.01129200e+01,  5.40667356e+01, -3.71594207e+01, -2.18776326e+01,\n",
       "        2.43113086e+01,  3.56268485e+01,  3.89837490e+00,  4.07812605e+01,\n",
       "       -2.59057555e+01, -3.25597912e+01,  3.60037927e+00, -2.11123661e+01,\n",
       "       -1.85232807e+01,  8.92020238e+01, -2.64634405e+01,  1.77340378e+01,\n",
       "       -2.79613649e+01,  1.96127979e+02,  1.43278942e+01,  1.68536633e+01,\n",
       "       -9.58876626e+00,  5.18022708e+00,  1.10706005e+01,  1.78742966e+01,\n",
       "        8.94217208e+00,  2.34627633e+01,  3.29706153e-01,  3.74367047e+01,\n",
       "       -3.11868431e+01,  6.33376035e+01, -1.32307554e+01, -7.50200888e+01,\n",
       "       -1.08739293e+00, -8.34901449e+00,  1.61400636e+01, -5.41122776e+00,\n",
       "        5.74880030e+00,  1.03964826e+02,  4.71653281e+00,  4.44277398e+01,\n",
       "        3.33383005e+00,  2.55521478e+01,  3.55220080e+00,  2.22703183e+01,\n",
       "       -4.33746628e+00, -2.20412005e+00, -1.48650665e+01, -3.62513392e+01,\n",
       "        6.10211907e+00, -7.72694490e+01, -9.60225086e-01,  2.74400229e+01,\n",
       "       -5.73942451e+00,  3.25993938e+01, -1.33551430e+00,  7.13029473e+00,\n",
       "       -4.93144768e+00,  1.85678362e+02,  3.41319245e+00,  5.61547001e+01,\n",
       "        6.79199007e+00,  3.75580820e+01,  8.89256377e-01,  2.60906814e+01,\n",
       "        6.80385024e-01,  2.00449489e+01,  1.79934353e+01,  2.86232886e+01,\n",
       "       -2.86018235e+00,  3.41252386e+00,  1.75529887e+01,  3.97652183e+01,\n",
       "        2.12570972e+01,  1.61534214e+01,  9.91866067e-01,  4.80659694e+00,\n",
       "        6.00082836e+00,  2.48071996e+01, -7.54768040e+00,  1.41594545e+01,\n",
       "       -2.54689260e+00,  8.45478930e+00,  3.55846214e+00, -7.99652322e-01,\n",
       "        1.84523730e+00,  1.86121181e-01,  9.91634598e-01,  1.59117096e+00,\n",
       "       -4.04347784e+00,  6.68521676e+00,  5.85977438e+00, -9.51320832e+00,\n",
       "       -5.14562092e+01,  1.96596982e+01,  7.67848253e-01, -1.54044890e+00,\n",
       "        1.09109434e+02,  6.25220393e+01, -8.67023089e+01,  6.04481978e+01,\n",
       "        2.20102755e+02,  1.49234595e+02, -4.22663939e+01, -2.09569792e+02,\n",
       "       -6.72074014e+01,  1.02561682e+02,  3.54872597e+02,  1.91662527e+02,\n",
       "        3.48879668e+01,  1.73759444e+02,  1.54024368e+02,  2.40730918e+02,\n",
       "        1.57046174e+02, -8.97590861e+01, -1.14680389e+02, -8.04330159e+01,\n",
       "        2.28123635e+02,  2.60611568e+02,  1.51889738e+02, -1.46367324e+01,\n",
       "        1.74270122e+02,  5.75862103e+01, -4.35738344e+01, -7.30716326e+01,\n",
       "       -2.17552475e+01, -2.62687326e+00,  1.01483820e+02,  6.35224824e+01,\n",
       "       -2.26479788e+00,  1.61266848e+01,  3.38606582e+01,  1.36049367e+02,\n",
       "        2.29334659e+01, -1.07416608e+00, -3.31519000e+01, -2.12258768e+01,\n",
       "        5.14592627e+01,  7.13062482e+01,  1.45005945e+02,  6.00194350e+01,\n",
       "        5.29595731e+01,  6.35254435e+01,  4.65337279e+01,  3.10222852e+01,\n",
       "       -1.16514234e+01, -9.89644557e+00, -6.74123946e+01, -3.80346096e+01,\n",
       "        1.62243966e+01,  8.05962472e+01,  2.90680406e+01,  6.82094173e+01,\n",
       "        6.53494550e+01,  2.66259146e+01, -4.12948400e+01, -3.01005780e+00,\n",
       "       -7.91572192e+01, -5.96873427e+01, -6.72325895e+00,  4.45033138e+01,\n",
       "        1.46605189e+01,  1.24255161e+00,  4.02211216e+01,  3.17312709e+01,\n",
       "       -1.73045273e+01, -2.07512378e-01,  2.55964702e+00,  4.22718402e+00,\n",
       "       -9.02651144e+00,  1.32843109e+01,  4.67445968e+00,  6.36489303e+00,\n",
       "        1.02944636e+01,  2.80146360e+01, -8.88833014e+00,  5.36835811e+00,\n",
       "       -4.65866513e+00, -1.44497145e+00,  2.52515759e+00,  4.27850029e+00,\n",
       "        3.80139718e+00,  2.29968003e+00,  7.66502574e+00,  1.06135654e+01,\n",
       "        5.09699663e+00,  1.86411675e+00, -1.81871969e+01, -1.28797547e+01,\n",
       "       -9.09959711e+00,  4.89287880e+00,  3.37330880e+00, -4.87448033e+00,\n",
       "        5.97954249e-01,  3.28270828e+00, -1.37690588e+01,  7.34392153e-01,\n",
       "       -1.46540284e+01, -1.13018048e+03,  1.36140557e+03])\n",
       "  message: 'STOP: TOTAL NO. of ITERATIONS REACHED LIMIT'\n",
       "     nfev: 5669\n",
       "      nit: 5000\n",
       "   status: 1\n",
       "  success: False\n",
       "        x: array([-1.03922706e+01, -9.08004835e-01,  1.48929462e+00,  2.64013086e+00,\n",
       "        4.54218826e+00,  2.65218986e+00,  5.18943781e+00,  1.77459415e+00,\n",
       "        6.21154485e-01,  1.34805232e+00, -2.62946015e+00,  2.01539656e+00,\n",
       "       -5.63626904e+00,  1.91479324e+00, -2.40747322e+00, -2.81893849e+00,\n",
       "       -4.75479206e+00,  2.29730872e+00,  1.18166844e-01,  3.43969984e-01,\n",
       "       -2.35355405e+00,  3.61949183e+00,  2.97620001e+00,  3.13355646e+00,\n",
       "        3.74293331e-01,  6.43271356e-03, -1.15335574e+00, -1.10158436e+00,\n",
       "        9.82832416e-01,  3.47590683e-01,  1.79378675e+00, -6.38359077e+00,\n",
       "       -8.41130430e-01,  1.88413609e-01,  8.79244221e-02, -8.50171307e+00,\n",
       "       -2.30183120e-01,  8.28337454e-01,  2.66342640e-01, -3.90122232e-01,\n",
       "        7.19489007e+00, -5.24804049e+00, -4.60495059e+00, -3.25667908e-01,\n",
       "       -2.21179305e+00, -2.64774665e+00,  4.77444478e-01, -2.53792714e+00,\n",
       "       -4.70947969e-01, -2.66302331e+00,  6.27689328e-01, -8.69917382e+00,\n",
       "       -1.72537095e+00, -1.66898777e+00, -2.17299687e+00, -2.12765436e+00,\n",
       "        2.74059881e-01, -7.86627499e-01,  8.89074601e-01, -4.21675187e+00,\n",
       "        6.08303272e-01,  5.87256586e+00, -3.14699359e+00,  2.77103598e-01,\n",
       "        1.14802101e+00, -1.12311311e+00,  9.98923009e-01, -1.89442992e-01,\n",
       "       -1.04076716e+00,  1.44504077e+00, -3.52188599e+00,  9.56394311e+00,\n",
       "        2.18607750e+00,  4.28535052e+00,  2.32642232e+00,  2.03314025e+00,\n",
       "       -2.17267559e+00,  4.10814544e+00, -1.31707636e+00,  5.90523814e+00,\n",
       "       -3.01236009e+00,  1.78360099e+00,  4.45958142e+00, -1.42937778e+00,\n",
       "        5.57793209e-02,  3.02919735e+00,  1.87592540e-01,  3.15492751e+00,\n",
       "        1.39338838e+00,  4.03771059e+00,  4.11454245e+00,  3.67777145e+00,\n",
       "        5.48038757e-01,  1.42312929e+00,  2.66644304e+00,  1.11969856e+00,\n",
       "       -1.00711117e+00,  4.05364139e+00,  1.31295186e+00,  2.68369053e+00,\n",
       "       -3.58711690e-02, -1.07473180e+01, -4.68568591e-01, -2.62792697e+00,\n",
       "        1.65918137e-01, -9.07771043e-01, -2.31980075e+00, -5.52455863e-02,\n",
       "       -8.77138023e-01,  1.48171592e-01, -1.60156675e+00,  8.92580635e-01,\n",
       "       -1.66861533e+00, -7.75367153e-01, -9.26474780e-01, -1.30905619e+00,\n",
       "        3.84050391e-01,  8.91165881e-01,  1.06089315e-01, -9.23813497e-03,\n",
       "        3.21930007e-01,  1.71906134e+00, -1.12180871e+00,  1.22772261e+00,\n",
       "       -2.76239326e-01,  7.78784289e-03,  1.46244296e+00,  3.45529086e-01,\n",
       "        9.14737463e-01,  2.79564151e-01, -1.67449070e+00,  5.59910886e-01,\n",
       "       -7.12297129e-02, -5.95646073e-01, -2.13887843e+00, -1.76527544e+00,\n",
       "       -6.27301130e-01,  7.11205071e-01, -1.94570401e-01, -7.78768740e-01,\n",
       "       -1.11469282e+00,  5.68548427e+00,  1.94910799e+00,  2.65797148e+00,\n",
       "        5.89482640e-02,  1.40035951e+00,  9.25130535e-02,  1.63507893e+00,\n",
       "       -4.04185212e-01,  5.74031506e-01,  1.96678500e+00, -7.24045306e-01,\n",
       "       -1.42840646e-01, -8.77458208e-01, -6.12675473e-01, -1.36566912e+00,\n",
       "        1.42583671e-01,  8.08571979e-01,  5.74148043e-02, -1.15827237e+00,\n",
       "        2.54808882e-01, -1.39242391e+00, -5.02821244e-01, -1.92933070e-01,\n",
       "        1.96304777e-02, -8.24843676e-02, -3.43452019e-01,  3.64124923e-01,\n",
       "       -2.13133791e-01,  1.67265740e-01,  1.46893486e+00,  1.40558173e+00,\n",
       "        1.21315786e+00,  4.08527919e-02,  4.56259068e-01, -3.86922146e-01,\n",
       "        3.58681310e-01, -1.55971672e-01,  6.28670278e-02, -6.44302339e-01,\n",
       "        2.60493776e-01, -2.14945563e+00, -3.89918133e-01, -2.48837267e-01,\n",
       "       -1.89982587e-02,  6.26428889e-02,  1.86339148e-01, -9.60059665e-01,\n",
       "        5.38075117e-01, -9.17524944e-01, -1.55301229e-01, -1.31768735e-01,\n",
       "       -8.33725514e-01,  1.53092813e-01,  2.41859156e+00, -1.09072938e+00,\n",
       "       -2.91554039e+00,  3.43796757e+00,  1.77721155e+00, -2.69369867e+00,\n",
       "        4.51582418e+01,  2.39149067e+01,  1.32235315e+01,  8.10372590e+00,\n",
       "        2.60231145e+00, -4.45248109e+00,  2.60157655e+00,  9.30715105e+00,\n",
       "        1.47245717e+00,  2.91021452e+00,  2.06658783e-01, -3.01992539e+00,\n",
       "       -3.11049867e+00, -1.73483230e+00, -7.32490487e-01,  2.08848384e+00,\n",
       "        3.47376052e+00,  3.65349436e+00, -1.25727723e+00, -2.74056872e+00,\n",
       "       -5.51425674e-01, -4.41563363e+00, -3.11123419e+00, -6.56590242e-01,\n",
       "        1.28216262e+00,  3.15524385e+00,  5.65580446e+00,  4.46934530e-01,\n",
       "       -1.57529425e+00,  9.21832567e-02,  1.21969371e+01,  1.07953158e+01,\n",
       "        9.23371573e+00,  1.18955803e+01,  1.25889759e+01,  7.77082553e+00,\n",
       "        1.34962586e+01,  8.81908947e+00,  5.59654316e+00,  3.67742255e+00,\n",
       "        6.64113197e+00,  8.54933374e+00,  7.03290257e+00,  9.12870335e+00,\n",
       "        1.09715894e+01,  1.46261947e+01,  1.33291320e+01,  1.00892516e+01,\n",
       "        4.72002202e+00,  5.38895394e+00, -4.11762233e+00, -1.64246205e+00,\n",
       "        4.28576520e+00,  1.07900275e+01,  9.92801182e+00,  1.41291013e+01,\n",
       "        1.54670830e+01,  1.15962868e+01,  6.04137964e+00,  7.65705260e+00,\n",
       "       -1.98101645e+00,  4.44922400e-01,  5.36343826e+00,  9.40950278e+00,\n",
       "        8.72210571e+00,  9.36029184e+00,  1.05982146e+01,  9.19437543e+00,\n",
       "        4.99272464e+00,  7.55533639e+00,  4.58775683e-01,  1.66504755e+00,\n",
       "        3.51099736e+00,  4.75074645e+00,  4.92305086e+00,  5.98537725e+00,\n",
       "        6.59890407e+00,  5.56663417e+00,  2.34713538e+00,  3.71656658e+00,\n",
       "        2.90220654e-02,  3.42741511e-01,  1.17980026e+00,  1.91061905e+00,\n",
       "        2.35016944e+00,  2.93845072e+00,  3.06371301e+00,  2.81787329e+00,\n",
       "        1.35117639e+00,  1.92857819e+00, -6.77120053e-01, -3.16703447e-01,\n",
       "       -5.49440111e-02,  1.16913940e+00,  1.13388646e+00,  8.55906390e-01,\n",
       "        1.52247993e+00,  1.29604453e+00,  4.56251571e-01,  1.99990295e+00,\n",
       "        9.80917954e-01, -5.94010777e-01,  6.81518064e+00])"
      ]
     },
     "execution_count": 8,
     "metadata": {},
     "output_type": "execute_result"
    }
   ],
   "source": [
    "import tensorflow as tf\n",
    "m.optimize(maxiter=5000)"
   ]
  },
  {
   "cell_type": "markdown",
   "metadata": {},
   "source": [
    "##  Sampling from the posterior using Hamiltonian Monte Carlo"
   ]
  },
  {
   "cell_type": "code",
   "execution_count": 9,
   "metadata": {
    "collapsed": false
   },
   "outputs": [
    {
     "name": "stdout",
     "output_type": "stream",
     "text": [
      "burn-in sampling started\n",
      "Iteration:  100 \t Acc Rate:  92.0 %\n",
      "burn-in sampling ended\n"
     ]
    }
   ],
   "source": [
    "samples = m.sample(20, verbose=True, epsilon=0.00005, thin = 2, burn = 100, Lmax = 160)"
   ]
  },
  {
   "cell_type": "markdown",
   "metadata": {},
   "source": [
    "## Visualizing inferred latent lengthscales "
   ]
  },
  {
   "cell_type": "code",
   "execution_count": 10,
   "metadata": {
    "collapsed": true
   },
   "outputs": [],
   "source": [
    "def visualize_l(Xgrid, M, L, U):\n",
    "    \"\"\"\n",
    "    Visualize 1D utility funciton values\n",
    "    Xgrid : grid states\n",
    "    Mgrid : mean of GP at those finite grid points\n",
    "    Vargrid : variance of GP at those finite grid points\n",
    "    \"\"\"\n",
    "    \n",
    "    line, = plt.plot(Xgrid, M, lw = 2, color = 'b', label = 'utility', alpha = 0.5)\n",
    "    plt.xlabel('x')\n",
    "    plt.ylabel('y')\n",
    "    return"
   ]
  },
  {
   "cell_type": "code",
   "execution_count": 11,
   "metadata": {
    "collapsed": true
   },
   "outputs": [],
   "source": [
    "X1t = np.linspace(X1_domain[0], X1_domain[1], 100)\n",
    "X2t = np.linspace(X2_domain[0], X2_domain[1], 100)\n",
    "X_test = np.zeros(shape =(X1t.shape[0],2))\n",
    "X_test[:,0] = X1t\n",
    "X_test[:,1] = X2t\n",
    "X_testnorm = (X_test - Xtrain_mean) / Xtrain_std"
   ]
  },
  {
   "cell_type": "code",
   "execution_count": 12,
   "metadata": {
    "collapsed": false
   },
   "outputs": [
    {
     "name": "stdout",
     "output_type": "stream",
     "text": [
      "(20, 303)\n"
     ]
    }
   ],
   "source": [
    "print samples.shape"
   ]
  },
  {
   "cell_type": "code",
   "execution_count": 13,
   "metadata": {
    "collapsed": true
   },
   "outputs": [],
   "source": [
    "mean_l1_mat = np.ndarray((samples.shape[0], X_train_norm.shape[0]))\n",
    "var_l1_mat = np.ndarray((samples.shape[0], X_train_norm.shape[0]))\n",
    "mean_l2_mat = np.ndarray((samples.shape[0], X_train_norm.shape[0]))\n",
    "var_l2_mat = np.ndarray((samples.shape[0], X_train_norm.shape[0]))\n",
    "sample_df = m.get_samples_df(samples)"
   ]
  },
  {
   "cell_type": "code",
   "execution_count": 14,
   "metadata": {
    "collapsed": false
   },
   "outputs": [
    {
     "ename": "TypeError",
     "evalue": "an integer is required",
     "output_type": "error",
     "traceback": [
      "\u001b[0;31m---------------------------------------------------------------------------\u001b[0m",
      "\u001b[0;31mTypeError\u001b[0m                                 Traceback (most recent call last)",
      "\u001b[0;32m<ipython-input-14-b2380295b8e1>\u001b[0m in \u001b[0;36m<module>\u001b[0;34m()\u001b[0m\n\u001b[1;32m      1\u001b[0m \u001b[0;32mfor\u001b[0m \u001b[0mi\u001b[0m\u001b[0;34m,\u001b[0m \u001b[0ms\u001b[0m \u001b[0;32min\u001b[0m \u001b[0msample_df\u001b[0m\u001b[0;34m.\u001b[0m\u001b[0miterrows\u001b[0m\u001b[0;34m(\u001b[0m\u001b[0;34m)\u001b[0m\u001b[0;34m:\u001b[0m\u001b[0;34m\u001b[0m\u001b[0m\n\u001b[1;32m      2\u001b[0m     \u001b[0mm\u001b[0m\u001b[0;34m.\u001b[0m\u001b[0mset_parameter_dict\u001b[0m\u001b[0;34m(\u001b[0m\u001b[0ms\u001b[0m\u001b[0;34m)\u001b[0m\u001b[0;34m\u001b[0m\u001b[0m\n\u001b[0;32m----> 3\u001b[0;31m     \u001b[0mmean1\u001b[0m\u001b[0;34m,\u001b[0m \u001b[0mv1\u001b[0m\u001b[0;34m,\u001b[0m \u001b[0mmean2\u001b[0m\u001b[0;34m,\u001b[0m \u001b[0mv2\u001b[0m \u001b[0;34m=\u001b[0m \u001b[0mm\u001b[0m\u001b[0;34m.\u001b[0m\u001b[0mpredict_l\u001b[0m\u001b[0;34m(\u001b[0m\u001b[0mX_train_norm\u001b[0m\u001b[0;34m)\u001b[0m\u001b[0;34m\u001b[0m\u001b[0m\n\u001b[0m\u001b[1;32m      4\u001b[0m     \u001b[0mmean_l1_mat\u001b[0m\u001b[0;34m[\u001b[0m\u001b[0mi\u001b[0m\u001b[0;34m,\u001b[0m \u001b[0;34m:\u001b[0m\u001b[0;34m]\u001b[0m \u001b[0;34m=\u001b[0m \u001b[0mmean1\u001b[0m\u001b[0;34m[\u001b[0m\u001b[0;34m:\u001b[0m\u001b[0;34m,\u001b[0m \u001b[0;36m0\u001b[0m\u001b[0;34m]\u001b[0m\u001b[0;34m\u001b[0m\u001b[0m\n\u001b[1;32m      5\u001b[0m     \u001b[0mvar_l1_mat\u001b[0m\u001b[0;34m[\u001b[0m\u001b[0mi\u001b[0m\u001b[0;34m,\u001b[0m \u001b[0;34m:\u001b[0m\u001b[0;34m]\u001b[0m \u001b[0;34m=\u001b[0m \u001b[0mnp\u001b[0m\u001b[0;34m.\u001b[0m\u001b[0mdiag\u001b[0m\u001b[0;34m(\u001b[0m\u001b[0mv1\u001b[0m\u001b[0;34m)\u001b[0m\u001b[0;34m\u001b[0m\u001b[0m\n",
      "\u001b[0;32m/Users/piyushpandita/anaconda/lib/python2.7/site-packages/gpflow-0.4.0-py2.7.egg/gpflow/param.pyc\u001b[0m in \u001b[0;36mrunnable\u001b[0;34m(instance, *np_args, **kwargs)\u001b[0m\n\u001b[1;32m    654\u001b[0m                     \u001b[0minstance\u001b[0m\u001b[0;34m.\u001b[0m\u001b[0mmake_tf_array\u001b[0m\u001b[0;34m(\u001b[0m\u001b[0mstorage\u001b[0m\u001b[0;34m[\u001b[0m\u001b[0;34m'free_vars'\u001b[0m\u001b[0;34m]\u001b[0m\u001b[0;34m)\u001b[0m\u001b[0;34m\u001b[0m\u001b[0m\n\u001b[1;32m    655\u001b[0m                     \u001b[0;32mwith\u001b[0m \u001b[0minstance\u001b[0m\u001b[0;34m.\u001b[0m\u001b[0mtf_mode\u001b[0m\u001b[0;34m(\u001b[0m\u001b[0;34m)\u001b[0m\u001b[0;34m:\u001b[0m\u001b[0;34m\u001b[0m\u001b[0m\n\u001b[0;32m--> 656\u001b[0;31m                         \u001b[0mstorage\u001b[0m\u001b[0;34m[\u001b[0m\u001b[0;34m'tf_result'\u001b[0m\u001b[0;34m]\u001b[0m \u001b[0;34m=\u001b[0m \u001b[0mtf_method\u001b[0m\u001b[0;34m(\u001b[0m\u001b[0minstance\u001b[0m\u001b[0;34m,\u001b[0m \u001b[0;34m*\u001b[0m\u001b[0mtf_args\u001b[0m\u001b[0;34m)\u001b[0m\u001b[0;34m\u001b[0m\u001b[0m\n\u001b[0m\u001b[1;32m    657\u001b[0m                     \u001b[0mstorage\u001b[0m\u001b[0;34m[\u001b[0m\u001b[0;34m'feed_dict_keys'\u001b[0m\u001b[0;34m]\u001b[0m \u001b[0;34m=\u001b[0m \u001b[0minstance\u001b[0m\u001b[0;34m.\u001b[0m\u001b[0mget_feed_dict_keys\u001b[0m\u001b[0;34m(\u001b[0m\u001b[0;34m)\u001b[0m\u001b[0;34m\u001b[0m\u001b[0m\n\u001b[1;32m    658\u001b[0m                     \u001b[0mtf_init_feed_dict\u001b[0m\u001b[0;34m(\u001b[0m\u001b[0minstance\u001b[0m\u001b[0;34m,\u001b[0m \u001b[0mstorage\u001b[0m\u001b[0;34m,\u001b[0m \u001b[0msession\u001b[0m\u001b[0;34m)\u001b[0m\u001b[0;34m\u001b[0m\u001b[0m\n",
      "\u001b[0;32m/Users/piyushpandita/Dropbox/bitbucket/AdaptiveGPFlow/GPHetero/hetero_model.pyc\u001b[0m in \u001b[0;36mpredict_l\u001b[0;34m(self, Xnew)\u001b[0m\n\u001b[1;32m    405\u001b[0m         \u001b[0mat\u001b[0m \u001b[0mthe\u001b[0m \u001b[0mpoints\u001b[0m \u001b[0;34m`\u001b[0m\u001b[0mXnew\u001b[0m\u001b[0;34m`\u001b[0m\u001b[0;34m.\u001b[0m\u001b[0;34m\u001b[0m\u001b[0m\n\u001b[1;32m    406\u001b[0m         \"\"\"\n\u001b[0;32m--> 407\u001b[0;31m         \u001b[0;32mreturn\u001b[0m \u001b[0mself\u001b[0m\u001b[0;34m.\u001b[0m\u001b[0mbuild_predict_l\u001b[0m\u001b[0;34m(\u001b[0m\u001b[0mXnew\u001b[0m\u001b[0;34m)\u001b[0m\u001b[0;34m\u001b[0m\u001b[0m\n\u001b[0m\u001b[1;32m    408\u001b[0m \u001b[0;34m\u001b[0m\u001b[0m\n\u001b[1;32m    409\u001b[0m     \u001b[0;34m@\u001b[0m\u001b[0mAutoFlow\u001b[0m\u001b[0;34m(\u001b[0m\u001b[0;34m(\u001b[0m\u001b[0mfloat_type\u001b[0m\u001b[0;34m,\u001b[0m \u001b[0;34m[\u001b[0m\u001b[0mNone\u001b[0m\u001b[0;34m,\u001b[0m \u001b[0mNone\u001b[0m\u001b[0;34m]\u001b[0m\u001b[0;34m)\u001b[0m\u001b[0;34m)\u001b[0m\u001b[0;34m\u001b[0m\u001b[0m\n",
      "\u001b[0;32m/Users/piyushpandita/Dropbox/bitbucket/AdaptiveGPFlow/GPHetero/hetero_gpmc.pyc\u001b[0m in \u001b[0;36mbuild_predict_l\u001b[0;34m(self, Xnew, full_cov)\u001b[0m\n\u001b[1;32m    848\u001b[0m         mu, var = conditional(Xnew, self.X, self.kerns, self.V,\n\u001b[1;32m    849\u001b[0m                               \u001b[0mfull_cov\u001b[0m\u001b[0;34m=\u001b[0m\u001b[0mfull_cov\u001b[0m\u001b[0;34m,\u001b[0m\u001b[0;34m\u001b[0m\u001b[0m\n\u001b[0;32m--> 850\u001b[0;31m                               q_sqrt=None, whiten=True)\n\u001b[0m\u001b[1;32m    851\u001b[0m         \u001b[0;32mreturn\u001b[0m \u001b[0mmu\u001b[0m\u001b[0;34m,\u001b[0m \u001b[0mvar\u001b[0m\u001b[0;34m\u001b[0m\u001b[0m\n\u001b[1;32m    852\u001b[0m \u001b[0;34m\u001b[0m\u001b[0m\n",
      "\u001b[0;32m/Users/piyushpandita/anaconda/lib/python2.7/site-packages/gpflow-0.4.0-py2.7.egg/gpflow/scoping.pyc\u001b[0m in \u001b[0;36mrunnable\u001b[0;34m(*args, **kwargs)\u001b[0m\n\u001b[1;32m     41\u001b[0m         \u001b[0;32mdef\u001b[0m \u001b[0mrunnable\u001b[0m\u001b[0;34m(\u001b[0m\u001b[0;34m*\u001b[0m\u001b[0margs\u001b[0m\u001b[0;34m,\u001b[0m \u001b[0;34m**\u001b[0m\u001b[0mkwargs\u001b[0m\u001b[0;34m)\u001b[0m\u001b[0;34m:\u001b[0m\u001b[0;34m\u001b[0m\u001b[0m\n\u001b[1;32m     42\u001b[0m             \u001b[0;32mwith\u001b[0m \u001b[0mtf\u001b[0m\u001b[0;34m.\u001b[0m\u001b[0mname_scope\u001b[0m\u001b[0;34m(\u001b[0m\u001b[0mself\u001b[0m\u001b[0;34m.\u001b[0m\u001b[0mname\u001b[0m\u001b[0;34m)\u001b[0m\u001b[0;34m:\u001b[0m\u001b[0;34m\u001b[0m\u001b[0m\n\u001b[0;32m---> 43\u001b[0;31m                 \u001b[0;32mreturn\u001b[0m \u001b[0mf\u001b[0m\u001b[0;34m(\u001b[0m\u001b[0;34m*\u001b[0m\u001b[0margs\u001b[0m\u001b[0;34m,\u001b[0m \u001b[0;34m**\u001b[0m\u001b[0mkwargs\u001b[0m\u001b[0;34m)\u001b[0m\u001b[0;34m\u001b[0m\u001b[0m\n\u001b[0m\u001b[1;32m     44\u001b[0m         \u001b[0;32mreturn\u001b[0m \u001b[0mrunnable\u001b[0m\u001b[0;34m\u001b[0m\u001b[0m\n",
      "\u001b[0;32m/Users/piyushpandita/Dropbox/bitbucket/AdaptiveGPFlow/GPHetero/hetero_conditionals.pyc\u001b[0m in \u001b[0;36mconditional\u001b[0;34m(Xnew, X, kern, f, full_cov, q_sqrt, whiten)\u001b[0m\n\u001b[1;32m     52\u001b[0m     \u001b[0mmu\u001b[0m \u001b[0;34m=\u001b[0m \u001b[0;34m{\u001b[0m\u001b[0;34m}\u001b[0m\u001b[0;34m\u001b[0m\u001b[0m\n\u001b[1;32m     53\u001b[0m     \u001b[0mvar\u001b[0m \u001b[0;34m=\u001b[0m \u001b[0;34m{\u001b[0m\u001b[0;34m}\u001b[0m\u001b[0;34m\u001b[0m\u001b[0m\n\u001b[0;32m---> 54\u001b[0;31m     \u001b[0;32mfor\u001b[0m \u001b[0mi\u001b[0m \u001b[0;32min\u001b[0m \u001b[0mxrange\u001b[0m\u001b[0;34m(\u001b[0m\u001b[0mnum_feat\u001b[0m\u001b[0;34m)\u001b[0m\u001b[0;34m:\u001b[0m\u001b[0;34m\u001b[0m\u001b[0m\n\u001b[0m\u001b[1;32m     55\u001b[0m         \u001b[0mf_i\u001b[0m \u001b[0;34m=\u001b[0m \u001b[0mf\u001b[0m\u001b[0;34m[\u001b[0m\u001b[0;34m\"V\"\u001b[0m \u001b[0;34m+\u001b[0m \u001b[0mstr\u001b[0m\u001b[0;34m(\u001b[0m\u001b[0mi\u001b[0m\u001b[0;34m)\u001b[0m\u001b[0;34m]\u001b[0m\u001b[0;34m\u001b[0m\u001b[0m\n\u001b[1;32m     56\u001b[0m         \u001b[0mKmn\u001b[0m \u001b[0;34m=\u001b[0m \u001b[0mkerns\u001b[0m\u001b[0;34m[\u001b[0m\u001b[0;34m\"ell\"\u001b[0m \u001b[0;34m+\u001b[0m \u001b[0mstr\u001b[0m\u001b[0;34m(\u001b[0m\u001b[0mi\u001b[0m\u001b[0;34m)\u001b[0m\u001b[0;34m]\u001b[0m\u001b[0;34m.\u001b[0m\u001b[0mK\u001b[0m\u001b[0;34m(\u001b[0m\u001b[0mX\u001b[0m\u001b[0;34m,\u001b[0m \u001b[0mXnew\u001b[0m\u001b[0;34m)\u001b[0m\u001b[0;34m\u001b[0m\u001b[0m\n",
      "\u001b[0;31mTypeError\u001b[0m: an integer is required"
     ]
    }
   ],
   "source": [
    "for i, s in sample_df.iterrows():\n",
    "    m.set_parameter_dict(s)\n",
    "    mean1, v1, mean2, v2 = m.predict_l(X_train_norm)\n",
    "    mean_l1_mat[i, :] = mean1[:, 0]\n",
    "    var_l1_mat[i, :] = np.diag(v1)\n",
    "    mean_l2_mat[i, :] = mean2[:, 0]\n",
    "    var_l2_mat[i, :] = np.diag(v2)\n",
    "# ml1, vl1, ml2, vl2 = m.predict_l(X_train_norm)"
   ]
  },
  {
   "cell_type": "code",
   "execution_count": null,
   "metadata": {
    "collapsed": true
   },
   "outputs": [],
   "source": [
    "MeanL1 = np.exp(mean_l1_mat)\n",
    "MeanL2 = np.exp(mean_l2_mat)\n",
    "lowerl1 = np.exp(mean_l1_mat - 2 * np.sqrt(var_l1_mat))\n",
    "upperl1 = np.exp(mean_l1_mat + 2 * np.sqrt(var_l1_mat))\n",
    "lowerl2 = np.exp(mean_l2_mat - 2 * np.sqrt(var_l2_mat))\n",
    "upperl2 = np.exp(mean_l2_mat + 2 * np.sqrt(var_l2_mat))\n",
    "# LowerL1 = np.exp(lower1)\n",
    "# UpperL1 = np.exp(upper1)"
   ]
  },
  {
   "cell_type": "code",
   "execution_count": null,
   "metadata": {
    "collapsed": false
   },
   "outputs": [],
   "source": [
    "min_idx = 0\n",
    "max_idx = 10\n",
    "for i in range(min_idx, max_idx):\n",
    "    visualize_l(X1t, MeanL1[i, :], upperl1[i, :], lowerl1[i, :])"
   ]
  },
  {
   "cell_type": "code",
   "execution_count": null,
   "metadata": {
    "collapsed": false
   },
   "outputs": [],
   "source": [
    "for i in range(min_idx, max_idx):\n",
    "    visualize_l(X2t, MeanL2[i, :], upperl2[i, :], lowerl2[i, :])"
   ]
  },
  {
   "cell_type": "markdown",
   "metadata": {},
   "source": [
    "## Visualizing the predicted latent function"
   ]
  },
  {
   "cell_type": "code",
   "execution_count": null,
   "metadata": {
    "collapsed": true
   },
   "outputs": [],
   "source": [
    "def visualize_f(X1, X2, M):\n",
    "    \"\"\"\n",
    "    Visualize 2D utility funciton values\n",
    "    Xgrid : grid states\n",
    "    Mgrid : mean of GP at those finite grid points\n",
    "    Vargrid : variance of GP at those finite grid points\n",
    "    \"\"\"\n",
    "    plt.figure(figsize=(10,8))\n",
    "    num_grid = X1.shape[0]\n",
    "    c = plt.contourf(X1, X2, M.reshape((num_grid, num_grid), order='F'), cmap=plt.cm.Blues)\n",
    "    plt.colorbar(c)\n",
    "#     line, = plt.plot(Xgrid, M, lw = 2, color = 'b', label = 'utility', alpha = 0.5)\n",
    "    #plt.fill_between(Xgrid[:,0], L, U,\n",
    "    #                 color = 'b', alpha = 0.25)\n",
    "    #plt.fill_between(Xgrid[:,0], lower1, upper1,\n",
    "    #                 color = 'g', alpha = 0.25)\n",
    "    plt.xlabel('$x1$')\n",
    "    plt.ylabel('$x2$')\n",
    "    return"
   ]
  },
  {
   "cell_type": "code",
   "execution_count": null,
   "metadata": {
    "collapsed": true
   },
   "outputs": [],
   "source": [
    "mean = []\n",
    "var = []\n",
    "sample_df = m.get_samples_df(samples)"
   ]
  },
  {
   "cell_type": "code",
   "execution_count": null,
   "metadata": {
    "collapsed": true
   },
   "outputs": [],
   "source": [
    "for i, s in sample_df.iterrows():\n",
    "    m.set_parameter_dict(s)\n",
    "    mean_f, var_f = m.predict_f(X_train_norm)\n",
    "    mean.append(mean_f)\n",
    "    var.append(var_f)\n",
    "    "
   ]
  },
  {
   "cell_type": "code",
   "execution_count": null,
   "metadata": {
    "collapsed": false
   },
   "outputs": [],
   "source": [
    "X1 = np.linspace(X1_domain[0], X1_domain[1],10)\n",
    "X2 = np.linspace(X2_domain[0], X2_domain[1],10)\n",
    "for i in range(min_idx, max_idx):\n",
    "    visualize_f(X1, X2, mean[i])"
   ]
  },
  {
   "cell_type": "code",
   "execution_count": null,
   "metadata": {
    "collapsed": true
   },
   "outputs": [],
   "source": []
  }
 ],
 "metadata": {
  "kernelspec": {
   "display_name": "Python 2",
   "language": "python",
   "name": "python2"
  },
  "language_info": {
   "codemirror_mode": {
    "name": "ipython",
    "version": 2
   },
   "file_extension": ".py",
   "mimetype": "text/x-python",
   "name": "python",
   "nbconvert_exporter": "python",
   "pygments_lexer": "ipython2",
   "version": "2.7.6"
  }
 },
 "nbformat": 4,
 "nbformat_minor": 2
}
