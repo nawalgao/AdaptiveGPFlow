{
 "cells": [
  {
   "cell_type": "code",
   "execution_count": 1,
   "metadata": {},
   "outputs": [
    {
     "ename": "RuntimeError",
     "evalue": "module compiled against API version 0xb but this version of numpy is 0xa",
     "output_type": "error",
     "traceback": [
      "\u001b[0;31m---------------------------------------------------------------------------\u001b[0m",
      "\u001b[0;31mRuntimeError\u001b[0m                              Traceback (most recent call last)",
      "\u001b[0;31mRuntimeError\u001b[0m: module compiled against API version 0xb but this version of numpy is 0xa"
     ]
    },
    {
     "ename": "RuntimeError",
     "evalue": "module compiled against API version 0xb but this version of numpy is 0xa",
     "output_type": "error",
     "traceback": [
      "\u001b[0;31m---------------------------------------------------------------------------\u001b[0m",
      "\u001b[0;31mRuntimeError\u001b[0m                              Traceback (most recent call last)",
      "\u001b[0;31mRuntimeError\u001b[0m: module compiled against API version 0xb but this version of numpy is 0xa"
     ]
    }
   ],
   "source": [
    "import gpflow\n",
    "import numpy as np\n",
    "import matplotlib.pyplot as plt\n",
    "%matplotlib inline\n",
    "import sys\n",
    "sys.path.append('../')\n",
    "from GPHetero import hetero_kernels, hetero_likelihoods, hetero_gpmc"
   ]
  },
  {
   "cell_type": "code",
   "execution_count": 2,
   "metadata": {
    "collapsed": true
   },
   "outputs": [],
   "source": [
    "from ctf.ctf.functions2d import branin\n",
    "Br = branin.Branin()\n",
    "X1_domain = Br.domain[0]\n",
    "X2_domain = Br.domain[1]"
   ]
  },
  {
   "cell_type": "code",
   "execution_count": 3,
   "metadata": {
    "collapsed": true
   },
   "outputs": [],
   "source": [
    "X1 = np.linspace(X1_domain[0], X1_domain[1],10)\n",
    "X2 = np.linspace(X2_domain[0], X2_domain[1],10)\n",
    "\n",
    "Xtt1, Xtt2 = np.meshgrid(X1, X2)\n",
    "X_train = np.zeros(shape =(np.ravel(Xtt1).shape[0],2))\n",
    "X_train[:,0] = np.ravel(Xtt1) \n",
    "X_train[:,1] = np.ravel(Xtt2)"
   ]
  },
  {
   "cell_type": "code",
   "execution_count": 4,
   "metadata": {
    "collapsed": true
   },
   "outputs": [],
   "source": [
    "Xtrain_mean = np.mean(X_train, 0)\n",
    "Xtrain_std = np.std(X_train, 0)\n",
    "X_train_norm = (X_train - Xtrain_mean)/Xtrain_std\n",
    "Y_train = Br.cost(X_train.T)"
   ]
  },
  {
   "cell_type": "code",
   "execution_count": 5,
   "metadata": {},
   "outputs": [
    {
     "data": {
      "text/plain": [
       "<matplotlib.colorbar.Colorbar at 0x181848ae50>"
      ]
     },
     "execution_count": 5,
     "metadata": {},
     "output_type": "execute_result"
    },
    {
     "data": {
      "image/png": "[encoded data removed]",
      "text/plain": [
       "<matplotlib.figure.Figure at 0x1813409ad0>"
      ]
     },
     "metadata": {},
     "output_type": "display_data"
    }
   ],
   "source": [
    "plt.figure(figsize=(10,8))\n",
    "num_grid = X1.shape[0]\n",
    "c = plt.contourf(X1, X2, Y_train.reshape((num_grid, num_grid), order='F'), cmap=plt.cm.Blues)\n",
    "plt.colorbar(c)"
   ]
  },
  {
   "cell_type": "code",
   "execution_count": 6,
   "metadata": {},
   "outputs": [],
   "source": [
    "#build the model\n",
    "k1 = gpflow.kernels.RBF(1)\n",
    "k2 = gpflow.kernels.RBF(1)\n",
    "nonstat = hetero_kernels.NonStationaryLengthscaleRBF()\n",
    "m = hetero_gpmc.GPMCAdaptiveLengthscale2D(X_train_norm, Y_train[:,None], k1, k2, nonstat)"
   ]
  },
  {
   "cell_type": "code",
   "execution_count": 7,
   "metadata": {
    "collapsed": true
   },
   "outputs": [],
   "source": [
    "# Lengthscale 1 GP priors \n",
    "#m.kern1.variance = 0.1\n",
    "#m.kern1.variance.fixed = True\n",
    "#m.kern1.lengthscales = 0.5\n",
    "#m.kern1.lengthscales.fixed = True\n",
    "m.kern1.variance.prior = gpflow.priors.Gamma(1., 1.)\n",
    "m.kern1.lengthscales.prior = gpflow.priors.Gamma(1., 1.)\n",
    "# Lengthscale 2 GP priors\n",
    "#m.kern2.variance = 0.1\n",
    "#m.kern2.variance.fixed = True\n",
    "#m.kern2.lengthscales = 0.5\n",
    "#m.kern2.lengthscales.fixed = True\n",
    "m.kern2.variance.prior = gpflow.priors.Gamma(1., 1.)\n",
    "m.kern2.lengthscales.prior = gpflow.priors.Gamma(1., 1.)\n",
    "\n",
    "# Non stationary signal variance prior\n",
    "#m.nonstat.signal_variance = 100\n",
    "#m.nonstat.signal_variance.fixed = True\n",
    "m.nonstat.signal_variance.prior = gpflow.priors.Gamma(1., 1.)\n",
    "\n",
    "m.likelihood.variance = 0.01\n",
    "m.likelihood.variance.fixed = True"
   ]
  },
  {
   "cell_type": "code",
   "execution_count": 8,
   "metadata": {},
   "outputs": [
    {
     "data": {
      "text/plain": [
       "      fun: array([ 385.65506852])\n",
       " hess_inv: <305x305 LbfgsInvHessProduct with dtype=float64>\n",
       "      jac: array([ -7.63769221e+00,  -7.19942927e+01,  -8.29139911e+00,\n",
       "        -4.42761015e+01,   2.26085313e+00,   6.11980619e+02,\n",
       "        -3.09261446e+02,  -7.65178218e+01,   1.11199609e+01,\n",
       "         1.94380046e+02,   1.86341804e-01,   3.26611991e-01,\n",
       "         5.05158695e-02,   7.76731061e-01,  -4.66234574e-01,\n",
       "         3.08734860e-01,  -1.02779716e-01,  -8.61978448e-01,\n",
       "         1.01379894e+00,   2.35358207e+00,  -4.37477170e-01,\n",
       "        -1.08068511e+00,  -1.99739396e-02,  -2.98321379e+00,\n",
       "         3.15972423e+00,  -9.90453239e-01,   4.95899903e-03,\n",
       "         2.92884001e+00,  -1.02549261e+00,  -6.20986969e+00,\n",
       "         5.07883627e-01,   1.66015341e+00,   1.04751188e-02,\n",
       "         3.94248417e+00,  -4.17067537e+00,  -3.45769586e-01,\n",
       "        -1.00658205e+00,  -3.64849598e+00,   7.16880108e-01,\n",
       "         6.17280130e+00,  -2.33928861e-01,  -1.29103669e+00,\n",
       "        -9.54749634e-02,  -1.90473265e+00,   2.83559098e+00,\n",
       "         4.67837372e-01,   1.70986381e-01,   1.72301710e+00,\n",
       "        -3.16372206e-01,  -2.12328952e+00,  -7.85195809e-02,\n",
       "         3.77630384e-01,   4.21702310e-02,   2.27692379e-01,\n",
       "        -7.53249238e-01,   2.68372206e-01,   6.31347331e-02,\n",
       "        -7.04051713e-01,  -7.14621431e-02,   3.46007720e-01,\n",
       "         6.74083487e-02,   1.61755369e-02,  -2.56721273e-02,\n",
       "        -5.72223463e-02,   1.96314106e-02,   2.37987843e-01,\n",
       "         1.52768916e-02,   1.00220469e-01,   8.76751190e-02,\n",
       "        -1.83142981e-01,   1.06400715e-01,   1.62912929e-02,\n",
       "         4.60550324e-02,  -6.09823133e-02,  -1.16250344e-01,\n",
       "         5.44956551e-02,  -1.47307868e-02,   1.31324057e-02,\n",
       "         6.70640407e-02,  -4.15396446e-02,  -1.22420563e-01,\n",
       "        -2.16986225e-02,   1.73035420e-02,  -1.86685057e-02,\n",
       "        -2.21406902e-02,  -1.16479730e-01,  -1.83369548e-03,\n",
       "         2.48310670e-01,   1.07282322e-01,  -2.37338488e-02,\n",
       "         2.63498657e-02,  -2.74248988e-02,  -2.56110928e-02,\n",
       "         4.26553445e-02,  -4.34429254e-02,  -2.28667184e-01,\n",
       "         1.52028358e-01,   1.56380924e-01,  -2.30348039e-01,\n",
       "         4.27394154e-01,   2.72869664e+02,   8.99380303e-02,\n",
       "         1.79632674e-01,  -7.68133056e-01,   3.00229474e+00,\n",
       "        -3.74283668e-01,   4.33641085e-02,  -6.09418038e-01,\n",
       "        -3.95829170e-01,  -1.85573086e+00,   7.11701587e+01,\n",
       "         9.94625783e-01,   4.66192292e-01,   2.44911391e+00,\n",
       "        -6.70515263e+00,   8.35204917e-01,   6.06373579e-01,\n",
       "         1.12246901e+00,   1.25791005e+00,   4.72611319e+00,\n",
       "         2.73497343e+01,   2.88812365e+00,   1.02990295e+00,\n",
       "        -4.03353090e-01,   6.80299660e+00,   2.62580675e+00,\n",
       "        -2.23683395e+00,   1.15953419e+00,  -8.23889010e-01,\n",
       "        -3.31029176e+00,   6.05280015e+00,   1.99192046e+00,\n",
       "         1.83037439e+00,   2.51442728e+00,  -3.59529576e+00,\n",
       "         4.10703691e-01,   1.81352260e+00,   8.36202176e-01,\n",
       "         1.49887602e+00,   2.83358360e+00,   5.57308371e+00,\n",
       "         1.44002447e+00,   1.20033419e+00,   4.02436763e-01,\n",
       "         6.95232323e-01,  -3.65446026e-01,   6.78914796e-01,\n",
       "        -5.38774456e-01,   4.96462090e-01,   5.57228725e-01,\n",
       "         3.14256010e+00,   9.16249121e-01,   7.97232146e-01,\n",
       "         2.87242309e-01,   5.16274029e-01,  -7.99276127e-01,\n",
       "         3.48520762e-01,  -5.76537137e-01,   2.52074465e-01,\n",
       "         3.30230118e-01,   1.41355730e+00,   9.01453061e-01,\n",
       "         6.28015621e-01,   4.24654155e-01,   1.06594418e+00,\n",
       "        -6.36059604e-01,   5.58630130e-01,  -3.41570072e-01,\n",
       "         3.07710987e-01,   2.93237528e-01,   2.33180328e-01,\n",
       "         5.53456134e-01,   1.68360630e-01,   3.74967874e-01,\n",
       "         1.11775786e+00,  -2.85525608e-01,   4.71296984e-01,\n",
       "         5.62108193e-02,   2.32058297e-01,   1.26251624e-01,\n",
       "        -3.23352053e-01,  -4.17768106e-01,  -4.76348328e-01,\n",
       "         5.30562830e-03,   4.86356887e-01,   2.46666196e-01,\n",
       "         1.27899098e-01,   4.90433762e-01,  -3.42054197e-02,\n",
       "        -2.38085166e-01,  -1.14091684e+00,  -4.99305936e-01,\n",
       "        -2.42709084e-01,  -4.51462177e-01,  -1.19080080e+00,\n",
       "         7.93971763e-01,  -7.57767581e-01,   1.96066001e-01,\n",
       "        -3.66976122e-01,  -3.14957383e-01,  -3.53942578e+00,\n",
       "         2.11334103e+01,   1.89684130e+01,   1.42218397e+01,\n",
       "         9.76535026e+01,   3.27729797e+01,   9.25832041e+01,\n",
       "         3.95068681e+01,   2.60813488e+01,   9.24713857e+00,\n",
       "         2.14347509e+01,  -4.34523411e+01,   7.78990752e+00,\n",
       "         5.72923151e+00,  -8.32809198e+00,  -1.58366155e+01,\n",
       "         1.86539695e+01,  -1.42296612e+01,   6.27384987e+00,\n",
       "         2.27610178e+01,   3.27445016e+01,  -3.07848247e+01,\n",
       "        -8.31870982e+00,  -3.06007228e+01,  -1.33730233e+01,\n",
       "        -4.84981887e+01,  -8.26994371e+00,  -6.20432591e+00,\n",
       "         6.30250783e+00,  -1.25984270e+01,   2.18052789e+01,\n",
       "         1.63637682e+00,  -7.71836498e+00,  -2.09428313e+01,\n",
       "         2.80124201e+01,  -3.07956008e+01,   9.04638409e+00,\n",
       "         6.23341686e+00,   1.37043927e+00,  -2.53496573e+01,\n",
       "         7.83987269e+00,   5.78016408e+00,  -2.24831383e+00,\n",
       "        -1.51046030e+01,   2.20721370e+01,  -9.96986389e+00,\n",
       "         7.94332961e+00,   8.46156159e+00,   1.29817283e+00,\n",
       "        -1.78495092e+01,   2.27217361e+00,   1.84589275e+00,\n",
       "        -9.91108498e-01,  -9.30112591e+00,   2.79728575e+00,\n",
       "        -1.06600081e+00,   6.98434527e-01,   3.79126354e+00,\n",
       "        -2.02635154e+00,  -5.57248984e+00,   1.00189341e+00,\n",
       "         1.33605495e+00,   3.62501192e-01,  -4.68055633e+00,\n",
       "         1.99273329e+00,  -8.74551867e-01,   5.33539712e-01,\n",
       "         1.31656061e+00,  -4.23510302e-01,  -2.32285215e+00,\n",
       "         1.70138403e-01,   9.20802812e-02,   1.58870638e-01,\n",
       "        -7.37967412e-01,   2.53332884e-01,   7.41980582e-03,\n",
       "        -1.03484846e-01,   3.36569300e-01,  -1.55108013e-01,\n",
       "        -5.07709319e-01,   1.33786197e-01,   6.65928744e-02,\n",
       "         1.09683961e-01,   8.62193811e-02,   2.29937486e-02,\n",
       "         1.22825371e-01,  -2.83366285e-02,   6.63538264e-02,\n",
       "        -1.81203190e-02,  -1.86267353e-02,  -1.25880966e-01,\n",
       "        -8.35700177e-02,  -1.73366006e-02,  -2.18166538e-01,\n",
       "        -3.25493020e-02,  -3.69885905e-02,  -4.91734033e-02,\n",
       "         5.80256163e-03,  -4.40003150e-02,  -7.27694381e-02,\n",
       "        -5.41690612e-01,   3.18212136e+01,   2.11220902e+01,\n",
       "         7.90303965e+01,  -4.86754873e+00])\n",
       "  message: 'STOP: TOTAL NO. of ITERATIONS EXCEEDS LIMIT'\n",
       "     nfev: 11072\n",
       "      nit: 10001\n",
       "   status: 1\n",
       "  success: False\n",
       "        x: array([ -2.58045373e+00,   2.32159044e+00,  -2.01545907e+00,\n",
       "        -6.45362385e-01,   2.32871190e-01,   4.53400543e-01,\n",
       "         3.32864173e-01,   4.07671516e-02,  -2.19873017e-01,\n",
       "         8.46592192e-01,   2.32885660e-01,   2.37434879e-02,\n",
       "        -7.95357191e-02,  -4.11551821e-01,   5.41141522e-01,\n",
       "        -6.59402757e-01,   4.76837342e-01,   6.70479652e-02,\n",
       "         1.08530100e+00,  -5.62130328e-01,  -4.30179314e-01,\n",
       "        -1.76161944e-01,   3.84554817e-01,   7.82644252e-01,\n",
       "         4.26937285e-01,   6.65261726e-02,  -1.13213247e+00,\n",
       "         6.40314613e-01,  -1.37594980e+00,   2.21244251e-01,\n",
       "         3.41387585e-01,   4.05910675e-01,  -4.89840307e-01,\n",
       "        -6.46505960e-01,  -7.76016425e-01,  -6.37547403e-01,\n",
       "         8.09020571e-01,  -8.22502473e-01,   1.13416182e+00,\n",
       "        -2.04384480e-01,  -8.30542620e-02,  -3.74123217e-01,\n",
       "         2.29989357e-01,   4.42269875e-01,   8.32752460e-01,\n",
       "         1.61518883e-01,  -5.49722669e-01,   4.13199485e-01,\n",
       "        -3.44453915e-01,   1.58398783e-01,   4.76629191e-03,\n",
       "         1.18676202e-01,  -8.39425903e-02,  -3.08019139e-01,\n",
       "        -2.03717294e-01,   2.50297416e-01,   2.94895207e-01,\n",
       "        -1.27204360e-01,  -6.83006179e-02,   3.90451118e-02,\n",
       "        -1.28236192e-02,  -3.13181966e-02,   4.28684156e-03,\n",
       "         6.03013157e-02,   2.67416428e-02,   1.57657673e-01,\n",
       "         7.19154958e-02,  -2.50553350e-02,  -9.75283792e-02,\n",
       "         1.28180510e-01,  -1.82160555e-02,  -4.90278946e-02,\n",
       "         2.29574428e-02,   8.15408045e-03,  -1.06100502e-01,\n",
       "        -2.42596308e-02,  -2.72895759e-02,  -2.89552912e-02,\n",
       "        -2.69662500e-02,   4.16339549e-03,   2.45151534e-02,\n",
       "         1.71626535e-01,   5.57203347e-02,   1.08693859e-02,\n",
       "        -2.04397976e-02,  -7.63948145e-02,  -4.71125120e-02,\n",
       "        -1.03332153e-02,   1.05939919e-03,   2.93977157e-03,\n",
       "        -9.63688075e-03,  -8.53863819e-02,  -4.15437473e-02,\n",
       "         3.13963691e-03,  -5.05448390e-02,  -7.64036628e-03,\n",
       "        -8.10777729e-03,   1.08550051e-01,   6.32424841e-02,\n",
       "        -1.22218834e-01,   5.34617525e-01,  -2.92528334e-02,\n",
       "        -5.15501905e-02,  -7.89203395e-02,   3.36080411e-01,\n",
       "        -9.06900104e-01,  -4.18097446e-01,   2.51392312e-01,\n",
       "         8.88211382e-02,   8.05711340e-02,   1.33920401e+00,\n",
       "         4.07418043e-01,   2.35183937e-01,   2.68418698e-01,\n",
       "         3.31353955e-01,   1.35878507e+00,   1.04287184e+00,\n",
       "        -7.18229734e-02,  -5.43542678e-02,   9.85380175e-02,\n",
       "        -8.01500886e-01,  -4.14077941e-01,  -8.47143163e-01,\n",
       "        -5.84988830e-01,  -9.16292913e-01,   3.28225529e-02,\n",
       "        -9.80305850e-01,  -7.57735686e-01,  -4.67537212e-01,\n",
       "        -6.92333761e-01,  -1.42903646e+00,  -5.59454142e-01,\n",
       "        -1.39873538e-02,   4.74643751e-01,  -1.13411300e+00,\n",
       "         2.56845531e-01,   1.67515868e-01,   4.93024449e-01,\n",
       "         2.84485441e-01,   3.77307458e-01,  -9.82083338e-01,\n",
       "         4.71886687e-02,   6.53416087e-01,   6.78064996e-01,\n",
       "         7.84141747e-01,   1.25614270e-01,   2.39547811e-01,\n",
       "         5.92794143e-01,   7.51842228e-01,   4.88828607e-01,\n",
       "         1.30253804e+00,   7.87653082e-01,   7.34142326e-01,\n",
       "         3.96748556e-01,   6.09287858e-01,  -2.92741553e-01,\n",
       "        -1.44874205e-02,   1.26065864e-01,   2.16086158e-01,\n",
       "         1.91772614e-01,   2.67309847e+00,   1.09857671e+00,\n",
       "         3.94381670e-01,  -1.48569352e-01,   4.47531515e-01,\n",
       "        -7.54147612e-01,  -3.81431851e-01,  -4.20768702e-01,\n",
       "        -2.79916399e-01,  -1.69064718e-01,   1.28516118e+00,\n",
       "         5.29598470e-01,   4.12471784e-03,  -2.13269017e-01,\n",
       "         7.34299795e-01,  -2.41290962e-01,   5.98089631e-02,\n",
       "        -2.36840156e-01,  -2.07091003e-01,  -2.02360305e-01,\n",
       "        -7.03665386e-01,  -2.51260738e-01,  -1.84838022e-01,\n",
       "         1.06172504e-01,   8.98766369e-01,   7.54419899e-01,\n",
       "         7.31612043e-01,   2.91412401e-01,   1.79325355e-01,\n",
       "         7.94135563e-02,   3.83820370e-01,   2.11063335e-01,\n",
       "         2.52384878e-01,   2.94054687e-01,  -1.15103644e+00,\n",
       "         4.15546720e-01,  -7.72847482e-02,   2.04816974e-01,\n",
       "         6.85688577e-02,   1.78477155e-01,   7.37424747e+00,\n",
       "         3.78109725e+00,   2.05997645e+00,   7.56413044e-01,\n",
       "        -1.66125761e+00,  -1.47785060e+00,   2.74519876e+00,\n",
       "         8.06742052e-01,  -4.19512357e-01,   6.83036444e-01,\n",
       "        -4.55022663e+00,  -3.41976645e+00,  -2.36966601e+00,\n",
       "        -9.79309316e-01,   1.16478499e+00,   1.41190302e+00,\n",
       "         4.19789696e-02,  -3.09906709e+00,  -3.90019853e-01,\n",
       "        -1.39258643e+00,   3.29797868e+00,   1.88217870e+00,\n",
       "         1.50906876e+00,   1.20465680e+00,   9.53529079e-02,\n",
       "         6.55739550e-01,   2.18934297e+00,   4.02276070e-01,\n",
       "        -1.70937315e-01,   9.86946266e-02,  -1.54207425e+00,\n",
       "        -1.14477967e+00,  -2.89490791e-01,   8.94706221e-01,\n",
       "         1.23448473e+00,   2.06000097e+00,   2.19288480e+00,\n",
       "        -1.06342940e+00,  -9.27680019e-01,   2.16375909e-02,\n",
       "         6.65899008e-02,   1.15767607e+00,   2.62236857e+00,\n",
       "         3.42362872e+00,   3.78928617e+00,   4.31526282e+00,\n",
       "         3.59204721e+00,   1.57136877e+00,   6.12815149e-01,\n",
       "         6.29393538e-01,   4.16708006e-01,   4.84664064e-01,\n",
       "         1.87910598e+00,   3.21052596e+00,   1.66558482e+00,\n",
       "         2.53898421e+00,   1.95699733e+00,   9.91488123e-01,\n",
       "         6.62660294e-01,   9.36143333e-01,   2.39592363e-01,\n",
       "         2.22074004e-01,   1.08375717e+00,   1.19612690e+00,\n",
       "         1.15839597e-01,   1.19112461e+00,   1.11464052e+00,\n",
       "         9.19574326e-01,   4.54334801e-01,   4.83323525e-01,\n",
       "        -5.58961912e-02,  -3.89269658e-02,   2.47815581e-01,\n",
       "         5.33308683e-01,  -2.91152890e-02,   3.11119392e-01,\n",
       "         3.64894916e-01,   3.06330710e-01,   1.87003422e-01,\n",
       "         1.90794512e-01,  -5.12228899e-02,  -4.05495756e-02,\n",
       "         6.02027628e-02,   7.53843130e-02,  -4.81008165e-02,\n",
       "         5.78188548e-02,   6.36610654e-02,   5.29560252e-02,\n",
       "         3.62641742e-02,   2.00735906e-02,   1.61154706e-01,\n",
       "         8.64254076e-02,   1.01723455e-01,   8.73577050e-02,\n",
       "        -3.51599163e-02,   3.59226713e-02,   3.24017864e-02,\n",
       "         2.84684799e-02,   2.05123794e-02,   1.89122986e-02,\n",
       "        -2.48009528e+00,   3.30952548e+00,   3.59820466e+00,\n",
       "        -6.40986133e-01,   4.17808827e+01])"
      ]
     },
     "execution_count": 8,
     "metadata": {},
     "output_type": "execute_result"
    }
   ],
   "source": [
    "import tensorflow as tf\n",
    "m.optimize(maxiter=10000)"
   ]
  },
  {
   "cell_type": "code",
   "execution_count": null,
   "metadata": {},
   "outputs": [],
   "source": []
  },
  {
   "cell_type": "code",
   "execution_count": 9,
   "metadata": {},
   "outputs": [],
   "source": [
    "#samples = m.sample(200, verbose=True, epsilon=0.005, thin = 2, burn = 100, Lmax = 160)"
   ]
  },
  {
   "cell_type": "code",
   "execution_count": 10,
   "metadata": {},
   "outputs": [],
   "source": [
    "mean, var = m.predict_f(X_train_norm)"
   ]
  },
  {
   "cell_type": "code",
   "execution_count": 11,
   "metadata": {},
   "outputs": [
    {
     "data": {
      "text/plain": [
       "<matplotlib.colorbar.Colorbar at 0x181cc80cd0>"
      ]
     },
     "execution_count": 11,
     "metadata": {},
     "output_type": "execute_result"
    },
    {
     "data": {
      "image/png": "[encoded data removed]",
      "text/plain": [
       "<matplotlib.figure.Figure at 0x181cb49e50>"
      ]
     },
     "metadata": {},
     "output_type": "display_data"
    }
   ],
   "source": [
    "plt.figure(figsize=(10,8))\n",
    "num_grid = X1.shape[0]\n",
    "c = plt.contourf(X1, X2, mean.reshape((num_grid, num_grid), order='F'), cmap=plt.cm.Blues)\n",
    "plt.colorbar(c)"
   ]
  },
  {
   "cell_type": "code",
   "execution_count": 12,
   "metadata": {},
   "outputs": [
    {
     "data": {
      "text/plain": [
       "<matplotlib.colorbar.Colorbar at 0x181ce83950>"
      ]
     },
     "execution_count": 12,
     "metadata": {},
     "output_type": "execute_result"
    },
    {
     "data": {
      "image/png": "[encoded data removed]",
      "text/plain": [
       "<matplotlib.figure.Figure at 0x181cc98950>"
      ]
     },
     "metadata": {},
     "output_type": "display_data"
    }
   ],
   "source": [
    "plt.figure(figsize=(10,8))\n",
    "num_grid = X1.shape[0]\n",
    "c = plt.contourf(X1, X2, np.diag(var).reshape((num_grid, num_grid), order='F'), cmap=plt.cm.Reds)\n",
    "plt.colorbar(c)"
   ]
  },
  {
   "cell_type": "code",
   "execution_count": 14,
   "metadata": {},
   "outputs": [
    {
     "name": "stdout",
     "output_type": "stream",
     "text": [
      "burn-in sampling started\n",
      "warning: numerical instability.                  Rejecting this proposal prematurely\n"
     ]
    },
    {
     "ename": "InvalidArgumentError",
     "evalue": "Input matrix is not invertible.\n\t [[Node: gradients/adaptive_lengthscale_gp2D.build_likelihood/Cholesky_2_grad/MatrixTriangularSolve = MatrixTriangularSolve[T=DT_DOUBLE, adjoint=false, lower=true, _device=\"/job:localhost/replica:0/task:0/device:CPU:0\"](adaptive_lengthscale_gp2D.build_likelihood/Cholesky_2, gradients/adaptive_lengthscale_gp2D.build_likelihood/Cholesky_2_grad/eye/MatrixDiag)]]\n\nCaused by op u'gradients/adaptive_lengthscale_gp2D.build_likelihood/Cholesky_2_grad/MatrixTriangularSolve', defined at:\n  File \"/Users/nimishawalgaonkar/anaconda2/lib/python2.7/runpy.py\", line 174, in _run_module_as_main\n    \"__main__\", fname, loader, pkg_name)\n  File \"/Users/nimishawalgaonkar/anaconda2/lib/python2.7/runpy.py\", line 72, in _run_code\n    exec code in run_globals\n  File \"/Users/nimishawalgaonkar/anaconda2/lib/python2.7/site-packages/ipykernel/__main__.py\", line 3, in <module>\n    app.launch_new_instance()\n  File \"/Users/nimishawalgaonkar/anaconda2/lib/python2.7/site-packages/traitlets/config/application.py\", line 658, in launch_instance\n    app.start()\n  File \"/Users/nimishawalgaonkar/anaconda2/lib/python2.7/site-packages/ipykernel/kernelapp.py\", line 477, in start\n    ioloop.IOLoop.instance().start()\n  File \"/Users/nimishawalgaonkar/anaconda2/lib/python2.7/site-packages/zmq/eventloop/ioloop.py\", line 177, in start\n    super(ZMQIOLoop, self).start()\n  File \"/Users/nimishawalgaonkar/anaconda2/lib/python2.7/site-packages/tornado/ioloop.py\", line 888, in start\n    handler_func(fd_obj, events)\n  File \"/Users/nimishawalgaonkar/anaconda2/lib/python2.7/site-packages/tornado/stack_context.py\", line 277, in null_wrapper\n    return fn(*args, **kwargs)\n  File \"/Users/nimishawalgaonkar/anaconda2/lib/python2.7/site-packages/zmq/eventloop/zmqstream.py\", line 440, in _handle_events\n    self._handle_recv()\n  File \"/Users/nimishawalgaonkar/anaconda2/lib/python2.7/site-packages/zmq/eventloop/zmqstream.py\", line 472, in _handle_recv\n    self._run_callback(callback, msg)\n  File \"/Users/nimishawalgaonkar/anaconda2/lib/python2.7/site-packages/zmq/eventloop/zmqstream.py\", line 414, in _run_callback\n    callback(*args, **kwargs)\n  File \"/Users/nimishawalgaonkar/anaconda2/lib/python2.7/site-packages/tornado/stack_context.py\", line 277, in null_wrapper\n    return fn(*args, **kwargs)\n  File \"/Users/nimishawalgaonkar/anaconda2/lib/python2.7/site-packages/ipykernel/kernelbase.py\", line 283, in dispatcher\n    return self.dispatch_shell(stream, msg)\n  File \"/Users/nimishawalgaonkar/anaconda2/lib/python2.7/site-packages/ipykernel/kernelbase.py\", line 235, in dispatch_shell\n    handler(stream, idents, msg)\n  File \"/Users/nimishawalgaonkar/anaconda2/lib/python2.7/site-packages/ipykernel/kernelbase.py\", line 399, in execute_request\n    user_expressions, allow_stdin)\n  File \"/Users/nimishawalgaonkar/anaconda2/lib/python2.7/site-packages/ipykernel/ipkernel.py\", line 196, in do_execute\n    res = shell.run_cell(code, store_history=store_history, silent=silent)\n  File \"/Users/nimishawalgaonkar/anaconda2/lib/python2.7/site-packages/ipykernel/zmqshell.py\", line 533, in run_cell\n    return super(ZMQInteractiveShell, self).run_cell(*args, **kwargs)\n  File \"/Users/nimishawalgaonkar/anaconda2/lib/python2.7/site-packages/IPython/core/interactiveshell.py\", line 2718, in run_cell\n    interactivity=interactivity, compiler=compiler, result=result)\n  File \"/Users/nimishawalgaonkar/anaconda2/lib/python2.7/site-packages/IPython/core/interactiveshell.py\", line 2828, in run_ast_nodes\n    if self.run_code(code, result):\n  File \"/Users/nimishawalgaonkar/anaconda2/lib/python2.7/site-packages/IPython/core/interactiveshell.py\", line 2882, in run_code\n    exec(code_obj, self.user_global_ns, self.user_ns)\n  File \"<ipython-input-8-5205dbfbcd7c>\", line 2, in <module>\n    m.optimize(maxiter=10000)\n  File \"/Users/nimishawalgaonkar/anaconda2/lib/python2.7/site-packages/gpflow-0.4.0-py2.7.egg/gpflow/model.py\", line 250, in optimize\n    return self._optimize_np(method, tol, callback, maxiter, **kw)\n  File \"/Users/nimishawalgaonkar/anaconda2/lib/python2.7/site-packages/gpflow-0.4.0-py2.7.egg/gpflow/model.py\", line 311, in _optimize_np\n    self.compile()\n  File \"../GPHetero/hetero_gpmc.py\", line 790, in compile\n    optimizer=optimizer)\n  File \"/Users/nimishawalgaonkar/anaconda2/lib/python2.7/site-packages/gpflow-0.4.0-py2.7.egg/gpflow/model.py\", line 157, in compile\n    g = tf.gradients(f, self._free_vars)[0]\n  File \"/Users/nimishawalgaonkar/anaconda2/lib/python2.7/site-packages/tensorflow/python/ops/gradients_impl.py\", line 488, in gradients\n    gate_gradients, aggregation_method, stop_gradients)\n  File \"/Users/nimishawalgaonkar/anaconda2/lib/python2.7/site-packages/tensorflow/python/ops/gradients_impl.py\", line 625, in _GradientsHelper\n    lambda: grad_fn(op, *out_grads))\n  File \"/Users/nimishawalgaonkar/anaconda2/lib/python2.7/site-packages/tensorflow/python/ops/gradients_impl.py\", line 379, in _MaybeCompile\n    return grad_fn()  # Exit early\n  File \"/Users/nimishawalgaonkar/anaconda2/lib/python2.7/site-packages/tensorflow/python/ops/gradients_impl.py\", line 625, in <lambda>\n    lambda: grad_fn(op, *out_grads))\n  File \"/Users/nimishawalgaonkar/anaconda2/lib/python2.7/site-packages/tensorflow/python/ops/linalg_grad.py\", line 70, in _CholeskyGrad\n    dtype=l.dtype))\n  File \"/Users/nimishawalgaonkar/anaconda2/lib/python2.7/site-packages/tensorflow/python/ops/gen_linalg_ops.py\", line 1398, in matrix_triangular_solve\n    adjoint=adjoint, name=name)\n  File \"/Users/nimishawalgaonkar/anaconda2/lib/python2.7/site-packages/tensorflow/python/framework/op_def_library.py\", line 787, in _apply_op_helper\n    op_def=op_def)\n  File \"/Users/nimishawalgaonkar/anaconda2/lib/python2.7/site-packages/tensorflow/python/framework/ops.py\", line 3290, in create_op\n    op_def=op_def)\n  File \"/Users/nimishawalgaonkar/anaconda2/lib/python2.7/site-packages/tensorflow/python/framework/ops.py\", line 1654, in __init__\n    self._traceback = self._graph._extract_stack()  # pylint: disable=protected-access\n\n...which was originally created as op u'adaptive_lengthscale_gp2D.build_likelihood/Cholesky_2', defined at:\n  File \"/Users/nimishawalgaonkar/anaconda2/lib/python2.7/runpy.py\", line 174, in _run_module_as_main\n    \"__main__\", fname, loader, pkg_name)\n[elided 22 identical lines from previous traceback]\n  File \"../GPHetero/hetero_gpmc.py\", line 790, in compile\n    optimizer=optimizer)\n  File \"/Users/nimishawalgaonkar/anaconda2/lib/python2.7/site-packages/gpflow-0.4.0-py2.7.egg/gpflow/model.py\", line 156, in compile\n    f = self.build_likelihood() + self.build_prior()\n  File \"/Users/nimishawalgaonkar/anaconda2/lib/python2.7/site-packages/gpflow-0.4.0-py2.7.egg/gpflow/scoping.py\", line 43, in runnable\n    return f(*args, **kwargs)\n  File \"../GPHetero/hetero_gpmc.py\", line 814, in build_likelihood\n    Lnonstat = tf.cholesky(Knonstat + tf.eye(tf.shape(self.X)[0], dtype=float_type)*settings.numerics.jitter_level)\n  File \"/Users/nimishawalgaonkar/anaconda2/lib/python2.7/site-packages/tensorflow/python/ops/gen_linalg_ops.py\", line 704, in cholesky\n    \"Cholesky\", input=input, name=name)\n  File \"/Users/nimishawalgaonkar/anaconda2/lib/python2.7/site-packages/tensorflow/python/framework/op_def_library.py\", line 787, in _apply_op_helper\n    op_def=op_def)\n  File \"/Users/nimishawalgaonkar/anaconda2/lib/python2.7/site-packages/tensorflow/python/framework/ops.py\", line 3290, in create_op\n    op_def=op_def)\n  File \"/Users/nimishawalgaonkar/anaconda2/lib/python2.7/site-packages/tensorflow/python/framework/ops.py\", line 1654, in __init__\n    self._traceback = self._graph._extract_stack()  # pylint: disable=protected-access\n\nInvalidArgumentError (see above for traceback): Input matrix is not invertible.\n\t [[Node: gradients/adaptive_lengthscale_gp2D.build_likelihood/Cholesky_2_grad/MatrixTriangularSolve = MatrixTriangularSolve[T=DT_DOUBLE, adjoint=false, lower=true, _device=\"/job:localhost/replica:0/task:0/device:CPU:0\"](adaptive_lengthscale_gp2D.build_likelihood/Cholesky_2, gradients/adaptive_lengthscale_gp2D.build_likelihood/Cholesky_2_grad/eye/MatrixDiag)]]\n",
     "output_type": "error",
     "traceback": [
      "\u001b[0;31m---------------------------------------------------------------------------\u001b[0m",
      "\u001b[0;31mInvalidArgumentError\u001b[0m                      Traceback (most recent call last)",
      "\u001b[0;32m<ipython-input-14-c02b24c2cb4a>\u001b[0m in \u001b[0;36m<module>\u001b[0;34m()\u001b[0m\n\u001b[0;32m----> 1\u001b[0;31m \u001b[0msamples\u001b[0m \u001b[0;34m=\u001b[0m \u001b[0mm\u001b[0m\u001b[0;34m.\u001b[0m\u001b[0msample\u001b[0m\u001b[0;34m(\u001b[0m\u001b[0;36m200\u001b[0m\u001b[0;34m,\u001b[0m \u001b[0mverbose\u001b[0m\u001b[0;34m=\u001b[0m\u001b[0mTrue\u001b[0m\u001b[0;34m,\u001b[0m \u001b[0mepsilon\u001b[0m\u001b[0;34m=\u001b[0m\u001b[0;36m0.005\u001b[0m\u001b[0;34m,\u001b[0m \u001b[0mthin\u001b[0m \u001b[0;34m=\u001b[0m \u001b[0;36m2\u001b[0m\u001b[0;34m,\u001b[0m \u001b[0mburn\u001b[0m \u001b[0;34m=\u001b[0m \u001b[0;36m100\u001b[0m\u001b[0;34m,\u001b[0m \u001b[0mLmax\u001b[0m \u001b[0;34m=\u001b[0m \u001b[0;36m160\u001b[0m\u001b[0;34m)\u001b[0m\u001b[0;34m\u001b[0m\u001b[0m\n\u001b[0m",
      "\u001b[0;32m/Users/nimishawalgaonkar/anaconda2/lib/python2.7/site-packages/gpflow-0.4.0-py2.7.egg/gpflow/model.pyc\u001b[0m in \u001b[0;36msample\u001b[0;34m(self, num_samples, Lmin, Lmax, epsilon, thin, burn, verbose, return_logprobs, RNG)\u001b[0m\n\u001b[1;32m    217\u001b[0m                               \u001b[0mLmin\u001b[0m\u001b[0;34m=\u001b[0m\u001b[0mLmin\u001b[0m\u001b[0;34m,\u001b[0m \u001b[0mLmax\u001b[0m\u001b[0;34m=\u001b[0m\u001b[0mLmax\u001b[0m\u001b[0;34m,\u001b[0m \u001b[0mepsilon\u001b[0m\u001b[0;34m=\u001b[0m\u001b[0mepsilon\u001b[0m\u001b[0;34m,\u001b[0m \u001b[0mthin\u001b[0m\u001b[0;34m=\u001b[0m\u001b[0mthin\u001b[0m\u001b[0;34m,\u001b[0m \u001b[0mburn\u001b[0m\u001b[0;34m=\u001b[0m\u001b[0mburn\u001b[0m\u001b[0;34m,\u001b[0m\u001b[0;34m\u001b[0m\u001b[0m\n\u001b[1;32m    218\u001b[0m                               \u001b[0mx0\u001b[0m\u001b[0;34m=\u001b[0m\u001b[0mself\u001b[0m\u001b[0;34m.\u001b[0m\u001b[0mget_free_state\u001b[0m\u001b[0;34m(\u001b[0m\u001b[0;34m)\u001b[0m\u001b[0;34m,\u001b[0m \u001b[0mverbose\u001b[0m\u001b[0;34m=\u001b[0m\u001b[0mverbose\u001b[0m\u001b[0;34m,\u001b[0m\u001b[0;34m\u001b[0m\u001b[0m\n\u001b[0;32m--> 219\u001b[0;31m                               return_logprobs=return_logprobs, RNG=RNG)\n\u001b[0m\u001b[1;32m    220\u001b[0m \u001b[0;34m\u001b[0m\u001b[0m\n\u001b[1;32m    221\u001b[0m     def optimize(self, method='L-BFGS-B', tol=None, callback=None,\n",
      "\u001b[0;32m/Users/nimishawalgaonkar/anaconda2/lib/python2.7/site-packages/gpflow-0.4.0-py2.7.egg/gpflow/hmc.pyc\u001b[0m in \u001b[0;36msample_HMC\u001b[0;34m(f, num_samples, Lmin, Lmax, epsilon, x0, verbose, thin, burn, RNG, return_logprobs)\u001b[0m\n\u001b[1;32m     61\u001b[0m         samples = sample_HMC(f, num_samples=burn, Lmin=Lmin, Lmax=Lmax,\n\u001b[1;32m     62\u001b[0m                              \u001b[0mepsilon\u001b[0m\u001b[0;34m=\u001b[0m\u001b[0mepsilon\u001b[0m\u001b[0;34m,\u001b[0m \u001b[0mx0\u001b[0m\u001b[0;34m=\u001b[0m\u001b[0mx0\u001b[0m\u001b[0;34m,\u001b[0m\u001b[0;34m\u001b[0m\u001b[0m\n\u001b[0;32m---> 63\u001b[0;31m                              verbose=verbose, thin=1, burn=0, RNG=RNG)\n\u001b[0m\u001b[1;32m     64\u001b[0m         \u001b[0;32mif\u001b[0m \u001b[0mverbose\u001b[0m\u001b[0;34m:\u001b[0m\u001b[0;34m\u001b[0m\u001b[0m\n\u001b[1;32m     65\u001b[0m             \u001b[0;32mprint\u001b[0m\u001b[0;34m(\u001b[0m\u001b[0;34m\"burn-in sampling ended\"\u001b[0m\u001b[0;34m)\u001b[0m\u001b[0;34m\u001b[0m\u001b[0m\n",
      "\u001b[0;32m/Users/nimishawalgaonkar/anaconda2/lib/python2.7/site-packages/gpflow-0.4.0-py2.7.egg/gpflow/hmc.pyc\u001b[0m in \u001b[0;36msample_HMC\u001b[0;34m(f, num_samples, Lmin, Lmax, epsilon, x0, verbose, thin, burn, RNG, return_logprobs)\u001b[0m\n\u001b[1;32m     94\u001b[0m         \u001b[0;32mfor\u001b[0m \u001b[0ml\u001b[0m \u001b[0;32min\u001b[0m \u001b[0mrange\u001b[0m\u001b[0;34m(\u001b[0m\u001b[0mRNG\u001b[0m\u001b[0;34m.\u001b[0m\u001b[0mrandint\u001b[0m\u001b[0;34m(\u001b[0m\u001b[0mLmin\u001b[0m\u001b[0;34m,\u001b[0m \u001b[0mLmax\u001b[0m\u001b[0;34m)\u001b[0m\u001b[0;34m)\u001b[0m\u001b[0;34m:\u001b[0m\u001b[0;34m\u001b[0m\u001b[0m\n\u001b[1;32m     95\u001b[0m             \u001b[0mx\u001b[0m \u001b[0;34m+=\u001b[0m \u001b[0mepsilon\u001b[0m \u001b[0;34m*\u001b[0m \u001b[0mp\u001b[0m\u001b[0;34m\u001b[0m\u001b[0m\n\u001b[0;32m---> 96\u001b[0;31m             \u001b[0mlogprob\u001b[0m\u001b[0;34m,\u001b[0m \u001b[0mgrad\u001b[0m \u001b[0;34m=\u001b[0m \u001b[0mf\u001b[0m\u001b[0;34m(\u001b[0m\u001b[0mx\u001b[0m\u001b[0;34m)\u001b[0m\u001b[0;34m\u001b[0m\u001b[0m\n\u001b[0m\u001b[1;32m     97\u001b[0m             \u001b[0mlogprob\u001b[0m\u001b[0;34m,\u001b[0m \u001b[0mgrad\u001b[0m \u001b[0;34m=\u001b[0m \u001b[0;34m-\u001b[0m\u001b[0mlogprob\u001b[0m\u001b[0;34m,\u001b[0m \u001b[0;34m-\u001b[0m\u001b[0mgrad\u001b[0m\u001b[0;34m\u001b[0m\u001b[0m\n\u001b[1;32m     98\u001b[0m             \u001b[0;32mif\u001b[0m \u001b[0mnp\u001b[0m\u001b[0;34m.\u001b[0m\u001b[0many\u001b[0m\u001b[0;34m(\u001b[0m\u001b[0mnp\u001b[0m\u001b[0;34m.\u001b[0m\u001b[0misnan\u001b[0m\u001b[0;34m(\u001b[0m\u001b[0mgrad\u001b[0m\u001b[0;34m)\u001b[0m\u001b[0;34m)\u001b[0m\u001b[0;34m:\u001b[0m  \u001b[0;31m# pragma: no cover\u001b[0m\u001b[0;34m\u001b[0m\u001b[0m\n",
      "\u001b[0;32m/Users/nimishawalgaonkar/anaconda2/lib/python2.7/site-packages/gpflow-0.4.0-py2.7.egg/gpflow/model.pyc\u001b[0m in \u001b[0;36mobj\u001b[0;34m(x)\u001b[0m\n\u001b[1;32m    185\u001b[0m             \u001b[0mself\u001b[0m\u001b[0;34m.\u001b[0m\u001b[0mupdate_feed_dict\u001b[0m\u001b[0;34m(\u001b[0m\u001b[0mself\u001b[0m\u001b[0;34m.\u001b[0m\u001b[0m_feed_dict_keys\u001b[0m\u001b[0;34m,\u001b[0m \u001b[0mfeed_dict\u001b[0m\u001b[0;34m)\u001b[0m\u001b[0;34m\u001b[0m\u001b[0m\n\u001b[1;32m    186\u001b[0m             f, g = self.session.run([self._minusF, self._minusG],\n\u001b[0;32m--> 187\u001b[0;31m                                      feed_dict=feed_dict)\n\u001b[0m\u001b[1;32m    188\u001b[0m             \u001b[0;32mreturn\u001b[0m \u001b[0mf\u001b[0m\u001b[0;34m.\u001b[0m\u001b[0mastype\u001b[0m\u001b[0;34m(\u001b[0m\u001b[0mnp\u001b[0m\u001b[0;34m.\u001b[0m\u001b[0mfloat64\u001b[0m\u001b[0;34m)\u001b[0m\u001b[0;34m,\u001b[0m \u001b[0mg\u001b[0m\u001b[0;34m.\u001b[0m\u001b[0mastype\u001b[0m\u001b[0;34m(\u001b[0m\u001b[0mnp\u001b[0m\u001b[0;34m.\u001b[0m\u001b[0mfloat64\u001b[0m\u001b[0;34m)\u001b[0m\u001b[0;34m\u001b[0m\u001b[0m\n\u001b[1;32m    189\u001b[0m \u001b[0;34m\u001b[0m\u001b[0m\n",
      "\u001b[0;32m/Users/nimishawalgaonkar/anaconda2/lib/python2.7/site-packages/tensorflow/python/client/session.pyc\u001b[0m in \u001b[0;36mrun\u001b[0;34m(self, fetches, feed_dict, options, run_metadata)\u001b[0m\n\u001b[1;32m    903\u001b[0m     \u001b[0;32mtry\u001b[0m\u001b[0;34m:\u001b[0m\u001b[0;34m\u001b[0m\u001b[0m\n\u001b[1;32m    904\u001b[0m       result = self._run(None, fetches, feed_dict, options_ptr,\n\u001b[0;32m--> 905\u001b[0;31m                          run_metadata_ptr)\n\u001b[0m\u001b[1;32m    906\u001b[0m       \u001b[0;32mif\u001b[0m \u001b[0mrun_metadata\u001b[0m\u001b[0;34m:\u001b[0m\u001b[0;34m\u001b[0m\u001b[0m\n\u001b[1;32m    907\u001b[0m         \u001b[0mproto_data\u001b[0m \u001b[0;34m=\u001b[0m \u001b[0mtf_session\u001b[0m\u001b[0;34m.\u001b[0m\u001b[0mTF_GetBuffer\u001b[0m\u001b[0;34m(\u001b[0m\u001b[0mrun_metadata_ptr\u001b[0m\u001b[0;34m)\u001b[0m\u001b[0;34m\u001b[0m\u001b[0m\n",
      "\u001b[0;32m/Users/nimishawalgaonkar/anaconda2/lib/python2.7/site-packages/tensorflow/python/client/session.pyc\u001b[0m in \u001b[0;36m_run\u001b[0;34m(self, handle, fetches, feed_dict, options, run_metadata)\u001b[0m\n\u001b[1;32m   1138\u001b[0m     \u001b[0;32mif\u001b[0m \u001b[0mfinal_fetches\u001b[0m \u001b[0;32mor\u001b[0m \u001b[0mfinal_targets\u001b[0m \u001b[0;32mor\u001b[0m \u001b[0;34m(\u001b[0m\u001b[0mhandle\u001b[0m \u001b[0;32mand\u001b[0m \u001b[0mfeed_dict_tensor\u001b[0m\u001b[0;34m)\u001b[0m\u001b[0;34m:\u001b[0m\u001b[0;34m\u001b[0m\u001b[0m\n\u001b[1;32m   1139\u001b[0m       results = self._do_run(handle, final_targets, final_fetches,\n\u001b[0;32m-> 1140\u001b[0;31m                              feed_dict_tensor, options, run_metadata)\n\u001b[0m\u001b[1;32m   1141\u001b[0m     \u001b[0;32melse\u001b[0m\u001b[0;34m:\u001b[0m\u001b[0;34m\u001b[0m\u001b[0m\n\u001b[1;32m   1142\u001b[0m       \u001b[0mresults\u001b[0m \u001b[0;34m=\u001b[0m \u001b[0;34m[\u001b[0m\u001b[0;34m]\u001b[0m\u001b[0;34m\u001b[0m\u001b[0m\n",
      "\u001b[0;32m/Users/nimishawalgaonkar/anaconda2/lib/python2.7/site-packages/tensorflow/python/client/session.pyc\u001b[0m in \u001b[0;36m_do_run\u001b[0;34m(self, handle, target_list, fetch_list, feed_dict, options, run_metadata)\u001b[0m\n\u001b[1;32m   1319\u001b[0m     \u001b[0;32mif\u001b[0m \u001b[0mhandle\u001b[0m \u001b[0;32mis\u001b[0m \u001b[0mNone\u001b[0m\u001b[0;34m:\u001b[0m\u001b[0;34m\u001b[0m\u001b[0m\n\u001b[1;32m   1320\u001b[0m       return self._do_call(_run_fn, feeds, fetches, targets, options,\n\u001b[0;32m-> 1321\u001b[0;31m                            run_metadata)\n\u001b[0m\u001b[1;32m   1322\u001b[0m     \u001b[0;32melse\u001b[0m\u001b[0;34m:\u001b[0m\u001b[0;34m\u001b[0m\u001b[0m\n\u001b[1;32m   1323\u001b[0m       \u001b[0;32mreturn\u001b[0m \u001b[0mself\u001b[0m\u001b[0;34m.\u001b[0m\u001b[0m_do_call\u001b[0m\u001b[0;34m(\u001b[0m\u001b[0m_prun_fn\u001b[0m\u001b[0;34m,\u001b[0m \u001b[0mhandle\u001b[0m\u001b[0;34m,\u001b[0m \u001b[0mfeeds\u001b[0m\u001b[0;34m,\u001b[0m \u001b[0mfetches\u001b[0m\u001b[0;34m)\u001b[0m\u001b[0;34m\u001b[0m\u001b[0m\n",
      "\u001b[0;32m/Users/nimishawalgaonkar/anaconda2/lib/python2.7/site-packages/tensorflow/python/client/session.pyc\u001b[0m in \u001b[0;36m_do_call\u001b[0;34m(self, fn, *args)\u001b[0m\n\u001b[1;32m   1338\u001b[0m         \u001b[0;32mexcept\u001b[0m \u001b[0mKeyError\u001b[0m\u001b[0;34m:\u001b[0m\u001b[0;34m\u001b[0m\u001b[0m\n\u001b[1;32m   1339\u001b[0m           \u001b[0;32mpass\u001b[0m\u001b[0;34m\u001b[0m\u001b[0m\n\u001b[0;32m-> 1340\u001b[0;31m       \u001b[0;32mraise\u001b[0m \u001b[0mtype\u001b[0m\u001b[0;34m(\u001b[0m\u001b[0me\u001b[0m\u001b[0;34m)\u001b[0m\u001b[0;34m(\u001b[0m\u001b[0mnode_def\u001b[0m\u001b[0;34m,\u001b[0m \u001b[0mop\u001b[0m\u001b[0;34m,\u001b[0m \u001b[0mmessage\u001b[0m\u001b[0;34m)\u001b[0m\u001b[0;34m\u001b[0m\u001b[0m\n\u001b[0m\u001b[1;32m   1341\u001b[0m \u001b[0;34m\u001b[0m\u001b[0m\n\u001b[1;32m   1342\u001b[0m   \u001b[0;32mdef\u001b[0m \u001b[0m_extend_graph\u001b[0m\u001b[0;34m(\u001b[0m\u001b[0mself\u001b[0m\u001b[0;34m)\u001b[0m\u001b[0;34m:\u001b[0m\u001b[0;34m\u001b[0m\u001b[0m\n",
      "\u001b[0;31mInvalidArgumentError\u001b[0m: Input matrix is not invertible.\n\t [[Node: gradients/adaptive_lengthscale_gp2D.build_likelihood/Cholesky_2_grad/MatrixTriangularSolve = MatrixTriangularSolve[T=DT_DOUBLE, adjoint=false, lower=true, _device=\"/job:localhost/replica:0/task:0/device:CPU:0\"](adaptive_lengthscale_gp2D.build_likelihood/Cholesky_2, gradients/adaptive_lengthscale_gp2D.build_likelihood/Cholesky_2_grad/eye/MatrixDiag)]]\n\nCaused by op u'gradients/adaptive_lengthscale_gp2D.build_likelihood/Cholesky_2_grad/MatrixTriangularSolve', defined at:\n  File \"/Users/nimishawalgaonkar/anaconda2/lib/python2.7/runpy.py\", line 174, in _run_module_as_main\n    \"__main__\", fname, loader, pkg_name)\n  File \"/Users/nimishawalgaonkar/anaconda2/lib/python2.7/runpy.py\", line 72, in _run_code\n    exec code in run_globals\n  File \"/Users/nimishawalgaonkar/anaconda2/lib/python2.7/site-packages/ipykernel/__main__.py\", line 3, in <module>\n    app.launch_new_instance()\n  File \"/Users/nimishawalgaonkar/anaconda2/lib/python2.7/site-packages/traitlets/config/application.py\", line 658, in launch_instance\n    app.start()\n  File \"/Users/nimishawalgaonkar/anaconda2/lib/python2.7/site-packages/ipykernel/kernelapp.py\", line 477, in start\n    ioloop.IOLoop.instance().start()\n  File \"/Users/nimishawalgaonkar/anaconda2/lib/python2.7/site-packages/zmq/eventloop/ioloop.py\", line 177, in start\n    super(ZMQIOLoop, self).start()\n  File \"/Users/nimishawalgaonkar/anaconda2/lib/python2.7/site-packages/tornado/ioloop.py\", line 888, in start\n    handler_func(fd_obj, events)\n  File \"/Users/nimishawalgaonkar/anaconda2/lib/python2.7/site-packages/tornado/stack_context.py\", line 277, in null_wrapper\n    return fn(*args, **kwargs)\n  File \"/Users/nimishawalgaonkar/anaconda2/lib/python2.7/site-packages/zmq/eventloop/zmqstream.py\", line 440, in _handle_events\n    self._handle_recv()\n  File \"/Users/nimishawalgaonkar/anaconda2/lib/python2.7/site-packages/zmq/eventloop/zmqstream.py\", line 472, in _handle_recv\n    self._run_callback(callback, msg)\n  File \"/Users/nimishawalgaonkar/anaconda2/lib/python2.7/site-packages/zmq/eventloop/zmqstream.py\", line 414, in _run_callback\n    callback(*args, **kwargs)\n  File \"/Users/nimishawalgaonkar/anaconda2/lib/python2.7/site-packages/tornado/stack_context.py\", line 277, in null_wrapper\n    return fn(*args, **kwargs)\n  File \"/Users/nimishawalgaonkar/anaconda2/lib/python2.7/site-packages/ipykernel/kernelbase.py\", line 283, in dispatcher\n    return self.dispatch_shell(stream, msg)\n  File \"/Users/nimishawalgaonkar/anaconda2/lib/python2.7/site-packages/ipykernel/kernelbase.py\", line 235, in dispatch_shell\n    handler(stream, idents, msg)\n  File \"/Users/nimishawalgaonkar/anaconda2/lib/python2.7/site-packages/ipykernel/kernelbase.py\", line 399, in execute_request\n    user_expressions, allow_stdin)\n  File \"/Users/nimishawalgaonkar/anaconda2/lib/python2.7/site-packages/ipykernel/ipkernel.py\", line 196, in do_execute\n    res = shell.run_cell(code, store_history=store_history, silent=silent)\n  File \"/Users/nimishawalgaonkar/anaconda2/lib/python2.7/site-packages/ipykernel/zmqshell.py\", line 533, in run_cell\n    return super(ZMQInteractiveShell, self).run_cell(*args, **kwargs)\n  File \"/Users/nimishawalgaonkar/anaconda2/lib/python2.7/site-packages/IPython/core/interactiveshell.py\", line 2718, in run_cell\n    interactivity=interactivity, compiler=compiler, result=result)\n  File \"/Users/nimishawalgaonkar/anaconda2/lib/python2.7/site-packages/IPython/core/interactiveshell.py\", line 2828, in run_ast_nodes\n    if self.run_code(code, result):\n  File \"/Users/nimishawalgaonkar/anaconda2/lib/python2.7/site-packages/IPython/core/interactiveshell.py\", line 2882, in run_code\n    exec(code_obj, self.user_global_ns, self.user_ns)\n  File \"<ipython-input-8-5205dbfbcd7c>\", line 2, in <module>\n    m.optimize(maxiter=10000)\n  File \"/Users/nimishawalgaonkar/anaconda2/lib/python2.7/site-packages/gpflow-0.4.0-py2.7.egg/gpflow/model.py\", line 250, in optimize\n    return self._optimize_np(method, tol, callback, maxiter, **kw)\n  File \"/Users/nimishawalgaonkar/anaconda2/lib/python2.7/site-packages/gpflow-0.4.0-py2.7.egg/gpflow/model.py\", line 311, in _optimize_np\n    self.compile()\n  File \"../GPHetero/hetero_gpmc.py\", line 790, in compile\n    optimizer=optimizer)\n  File \"/Users/nimishawalgaonkar/anaconda2/lib/python2.7/site-packages/gpflow-0.4.0-py2.7.egg/gpflow/model.py\", line 157, in compile\n    g = tf.gradients(f, self._free_vars)[0]\n  File \"/Users/nimishawalgaonkar/anaconda2/lib/python2.7/site-packages/tensorflow/python/ops/gradients_impl.py\", line 488, in gradients\n    gate_gradients, aggregation_method, stop_gradients)\n  File \"/Users/nimishawalgaonkar/anaconda2/lib/python2.7/site-packages/tensorflow/python/ops/gradients_impl.py\", line 625, in _GradientsHelper\n    lambda: grad_fn(op, *out_grads))\n  File \"/Users/nimishawalgaonkar/anaconda2/lib/python2.7/site-packages/tensorflow/python/ops/gradients_impl.py\", line 379, in _MaybeCompile\n    return grad_fn()  # Exit early\n  File \"/Users/nimishawalgaonkar/anaconda2/lib/python2.7/site-packages/tensorflow/python/ops/gradients_impl.py\", line 625, in <lambda>\n    lambda: grad_fn(op, *out_grads))\n  File \"/Users/nimishawalgaonkar/anaconda2/lib/python2.7/site-packages/tensorflow/python/ops/linalg_grad.py\", line 70, in _CholeskyGrad\n    dtype=l.dtype))\n  File \"/Users/nimishawalgaonkar/anaconda2/lib/python2.7/site-packages/tensorflow/python/ops/gen_linalg_ops.py\", line 1398, in matrix_triangular_solve\n    adjoint=adjoint, name=name)\n  File \"/Users/nimishawalgaonkar/anaconda2/lib/python2.7/site-packages/tensorflow/python/framework/op_def_library.py\", line 787, in _apply_op_helper\n    op_def=op_def)\n  File \"/Users/nimishawalgaonkar/anaconda2/lib/python2.7/site-packages/tensorflow/python/framework/ops.py\", line 3290, in create_op\n    op_def=op_def)\n  File \"/Users/nimishawalgaonkar/anaconda2/lib/python2.7/site-packages/tensorflow/python/framework/ops.py\", line 1654, in __init__\n    self._traceback = self._graph._extract_stack()  # pylint: disable=protected-access\n\n...which was originally created as op u'adaptive_lengthscale_gp2D.build_likelihood/Cholesky_2', defined at:\n  File \"/Users/nimishawalgaonkar/anaconda2/lib/python2.7/runpy.py\", line 174, in _run_module_as_main\n    \"__main__\", fname, loader, pkg_name)\n[elided 22 identical lines from previous traceback]\n  File \"../GPHetero/hetero_gpmc.py\", line 790, in compile\n    optimizer=optimizer)\n  File \"/Users/nimishawalgaonkar/anaconda2/lib/python2.7/site-packages/gpflow-0.4.0-py2.7.egg/gpflow/model.py\", line 156, in compile\n    f = self.build_likelihood() + self.build_prior()\n  File \"/Users/nimishawalgaonkar/anaconda2/lib/python2.7/site-packages/gpflow-0.4.0-py2.7.egg/gpflow/scoping.py\", line 43, in runnable\n    return f(*args, **kwargs)\n  File \"../GPHetero/hetero_gpmc.py\", line 814, in build_likelihood\n    Lnonstat = tf.cholesky(Knonstat + tf.eye(tf.shape(self.X)[0], dtype=float_type)*settings.numerics.jitter_level)\n  File \"/Users/nimishawalgaonkar/anaconda2/lib/python2.7/site-packages/tensorflow/python/ops/gen_linalg_ops.py\", line 704, in cholesky\n    \"Cholesky\", input=input, name=name)\n  File \"/Users/nimishawalgaonkar/anaconda2/lib/python2.7/site-packages/tensorflow/python/framework/op_def_library.py\", line 787, in _apply_op_helper\n    op_def=op_def)\n  File \"/Users/nimishawalgaonkar/anaconda2/lib/python2.7/site-packages/tensorflow/python/framework/ops.py\", line 3290, in create_op\n    op_def=op_def)\n  File \"/Users/nimishawalgaonkar/anaconda2/lib/python2.7/site-packages/tensorflow/python/framework/ops.py\", line 1654, in __init__\n    self._traceback = self._graph._extract_stack()  # pylint: disable=protected-access\n\nInvalidArgumentError (see above for traceback): Input matrix is not invertible.\n\t [[Node: gradients/adaptive_lengthscale_gp2D.build_likelihood/Cholesky_2_grad/MatrixTriangularSolve = MatrixTriangularSolve[T=DT_DOUBLE, adjoint=false, lower=true, _device=\"/job:localhost/replica:0/task:0/device:CPU:0\"](adaptive_lengthscale_gp2D.build_likelihood/Cholesky_2, gradients/adaptive_lengthscale_gp2D.build_likelihood/Cholesky_2_grad/eye/MatrixDiag)]]\n"
     ]
    }
   ],
   "source": [
    "samples = m.sample(200, verbose=True, epsilon=0.005, thin = 2, burn = 100, Lmax = 160)"
   ]
  },
  {
   "cell_type": "code",
   "execution_count": null,
   "metadata": {
    "collapsed": true
   },
   "outputs": [],
   "source": []
  }
 ],
 "metadata": {
  "kernelspec": {
   "display_name": "Python [default]",
   "language": "python",
   "name": "python2"
  },
  "language_info": {
   "codemirror_mode": {
    "name": "ipython",
    "version": 2
   },
   "file_extension": ".py",
   "mimetype": "text/x-python",
   "name": "python",
   "nbconvert_exporter": "python",
   "pygments_lexer": "ipython2",
   "version": "2.7.14"
  }
 },
 "nbformat": 4,
 "nbformat_minor": 2
}
