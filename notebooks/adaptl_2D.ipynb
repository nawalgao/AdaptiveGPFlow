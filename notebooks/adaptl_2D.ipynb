{
 "cells": [
  {
   "cell_type": "code",
   "execution_count": 1,
   "metadata": {},
   "outputs": [
    {
     "ename": "RuntimeError",
     "evalue": "module compiled against API version 0xb but this version of numpy is 0xa",
     "output_type": "error",
     "traceback": [
      "\u001b[0;31m---------------------------------------------------------------------------\u001b[0m",
      "\u001b[0;31mRuntimeError\u001b[0m                              Traceback (most recent call last)",
      "\u001b[0;31mRuntimeError\u001b[0m: module compiled against API version 0xb but this version of numpy is 0xa"
     ]
    },
    {
     "ename": "RuntimeError",
     "evalue": "module compiled against API version 0xb but this version of numpy is 0xa",
     "output_type": "error",
     "traceback": [
      "\u001b[0;31m---------------------------------------------------------------------------\u001b[0m",
      "\u001b[0;31mRuntimeError\u001b[0m                              Traceback (most recent call last)",
      "\u001b[0;31mRuntimeError\u001b[0m: module compiled against API version 0xb but this version of numpy is 0xa"
     ]
    }
   ],
   "source": [
    "import gpflow\n",
    "import numpy as np\n",
    "import matplotlib.pyplot as plt\n",
    "%matplotlib inline\n",
    "import sys\n",
    "sys.path.append('../')\n",
    "from GPHetero import hetero_kernels, hetero_likelihoods, hetero_gpmc"
   ]
  },
  {
   "cell_type": "code",
   "execution_count": 2,
   "metadata": {
    "collapsed": true
   },
   "outputs": [],
   "source": [
    "from ctf.functions2d import branin\n",
    "Br = branin.Branin()\n",
    "X1_domain = Br.domain[0]\n",
    "X2_domain = Br.domain[1]"
   ]
  },
  {
   "cell_type": "code",
   "execution_count": 3,
   "metadata": {
    "collapsed": true
   },
   "outputs": [],
   "source": [
    "X1 = np.linspace(X1_domain[0], X1_domain[1],10)\n",
    "X2 = np.linspace(X2_domain[0], X2_domain[1],10)\n",
    "\n",
    "Xtt1, Xtt2 = np.meshgrid(X1, X2)\n",
    "X_train = np.zeros(shape =(np.ravel(Xtt1).shape[0],2))\n",
    "X_train[:,0] = np.ravel(Xtt1) \n",
    "X_train[:,1] = np.ravel(Xtt2)"
   ]
  },
  {
   "cell_type": "code",
   "execution_count": 4,
   "metadata": {
    "collapsed": true
   },
   "outputs": [],
   "source": [
    "Xtrain_mean = np.mean(X_train, 0)\n",
    "Xtrain_std = np.std(X_train, 0)\n",
    "X_train_norm = (X_train - Xtrain_mean)/Xtrain_std\n",
    "Y_train = Br.cost(X_train.T)"
   ]
  },
  {
   "cell_type": "code",
   "execution_count": 5,
   "metadata": {},
   "outputs": [
    {
     "data": {
      "text/plain": [
       "<matplotlib.colorbar.Colorbar at 0x1822f07d90>"
      ]
     },
     "execution_count": 5,
     "metadata": {},
     "output_type": "execute_result"
    },
    {
     "data": {
      "image/png": "[encoded data removed]",
      "text/plain": [
       "<matplotlib.figure.Figure at 0x1822ea98d0>"
      ]
     },
     "metadata": {},
     "output_type": "display_data"
    }
   ],
   "source": [
    "plt.figure(figsize=(10,8))\n",
    "num_grid = X1.shape[0]\n",
    "c = plt.contourf(X1, X2, Y_train.reshape((num_grid, num_grid), order='F'), cmap=plt.cm.Blues)\n",
    "plt.colorbar(c)"
   ]
  },
  {
   "cell_type": "code",
   "execution_count": 6,
   "metadata": {},
   "outputs": [],
   "source": [
    "#build the model\n",
    "k1 = gpflow.kernels.RBF(1)\n",
    "k2 = gpflow.kernels.RBF(1)\n",
    "nonstat = hetero_kernels.NonStationaryLengthscaleRBF()\n",
    "m = hetero_gpmc.GPMCAdaptiveLengthscale2D(X_train_norm, Y_train[:,None], k1, k2, nonstat)"
   ]
  },
  {
   "cell_type": "code",
   "execution_count": 7,
   "metadata": {
    "collapsed": true
   },
   "outputs": [],
   "source": [
    "# Lengthscale 1 GP priors \n",
    "#m.kern1.variance = 0.1\n",
    "#m.kern1.variance.fixed = True\n",
    "#m.kern1.lengthscales = 0.5\n",
    "#m.kern1.lengthscales.fixed = True\n",
    "m.kern1.variance.prior = gpflow.priors.Gamma(1., 1.)\n",
    "m.kern1.lengthscales.prior = gpflow.priors.Gamma(1., 1.)\n",
    "# Lengthscale 2 GP priors\n",
    "#m.kern2.variance = 0.1\n",
    "#m.kern2.variance.fixed = True\n",
    "#m.kern2.lengthscales = 0.5\n",
    "#m.kern2.lengthscales.fixed = True\n",
    "m.kern2.variance.prior = gpflow.priors.Gamma(1., 1.)\n",
    "m.kern2.lengthscales.prior = gpflow.priors.Gamma(1., 1.)\n",
    "\n",
    "# Non stationary signal variance prior\n",
    "#m.nonstat.signal_variance = 100\n",
    "#m.nonstat.signal_variance.fixed = True\n",
    "m.nonstat.signal_variance.prior = gpflow.priors.Gamma(1., 1.)\n",
    "\n",
    "m.likelihood.variance = 0.01\n",
    "m.likelihood.variance.fixed = True"
   ]
  },
  {
   "cell_type": "code",
   "execution_count": 8,
   "metadata": {},
   "outputs": [
    {
     "data": {
      "text/plain": [
       "      fun: array([ 292.73524358])\n",
       " hess_inv: <305x305 LbfgsInvHessProduct with dtype=float64>\n",
       "      jac: array([  8.60862285e+01,   7.68331952e+01,   1.07978917e+01,\n",
       "        -1.36213108e+02,  -2.01973212e+02,  -1.19530511e+02,\n",
       "         5.07742696e+00,   1.37167379e+02,   1.70388445e+02,\n",
       "         4.31976855e+01,   3.77010441e+00,  -3.11429556e-01,\n",
       "        -6.25919561e-02,  -1.97801049e+00,  -1.89608183e+00,\n",
       "        -2.99785936e+00,  -3.91449685e-01,  -5.83134272e-01,\n",
       "         1.14102943e+00,   9.95144354e-01,  -5.17923192e+00,\n",
       "         3.70018116e-01,  -2.11653996e+00,   2.86851364e+00,\n",
       "         1.42726363e+00,   4.01454980e+00,  -2.12062789e+00,\n",
       "        -5.29560370e-01,  -9.44659833e-02,  -1.42064526e+00,\n",
       "         1.58765151e+00,   4.88722201e-02,   2.33070540e+00,\n",
       "        -3.09733409e+00,  -4.24220451e+00,   1.97913767e-01,\n",
       "         4.04435782e+00,   3.35069579e+00,  -3.39773238e-01,\n",
       "         9.89043350e-01,   2.47519262e-01,  -3.24372868e-01,\n",
       "        -5.17792610e-01,   1.63756105e+00,   2.92704683e+00,\n",
       "        -5.08203740e+00,  -4.20570547e+00,  -4.13745902e+00,\n",
       "         7.86003191e-01,   1.63293084e+00,  -2.06154132e-01,\n",
       "         1.01414389e-01,  -4.30519651e-01,  -1.77181323e-01,\n",
       "        -8.45720683e-01,   4.25966498e+00,   1.44657172e+00,\n",
       "         1.92982709e+00,   7.53939594e-01,  -1.69450750e+00,\n",
       "         3.62033054e-01,   8.06993311e-02,   2.41430399e-01,\n",
       "        -4.54751552e-01,  -3.27217782e-01,  -1.14970159e+00,\n",
       "        -1.75755909e-01,   1.13113001e-02,  -3.87393305e-01,\n",
       "         3.49350631e-01,  -9.53719350e-02,  -8.84162167e-02,\n",
       "        -1.17152527e-01,   1.73806524e-01,  -3.83676012e-03,\n",
       "        -7.42418471e-02,  -1.94096768e-01,  -2.28885046e-01,\n",
       "         4.96771075e-01,  -2.10856191e-01,  -4.05145727e-02,\n",
       "         1.28469640e-01,  -8.26889039e-03,   1.50972942e-01,\n",
       "        -2.91217226e-01,  -1.86010401e-01,  -1.26717875e-01,\n",
       "         2.77643262e-03,  -8.09028374e-01,   1.11345204e-01,\n",
       "        -2.79232082e-02,  -7.69426793e-02,   6.05662423e-02,\n",
       "        -6.01147623e-02,   9.71513227e-02,   3.14373544e-01,\n",
       "         6.14822790e-01,   1.67042435e-02,  -3.19259798e-02,\n",
       "         9.67822937e-01,  -1.54587043e+02,  -1.88839978e+00,\n",
       "         5.46350887e-01,  -1.13664233e+00,   2.80914910e-01,\n",
       "        -3.13734700e+00,   2.37546419e+00,  -3.39184072e+00,\n",
       "         1.52468530e+00,   3.86178056e+00,  -1.38489019e+01,\n",
       "        -3.75394839e+00,  -4.81306465e+00,  -2.08005080e+00,\n",
       "        -2.99805174e+00,  -2.21725719e+00,  -5.83966655e+00,\n",
       "         5.26783464e+00,  -6.53311186e-01,  -3.21080144e+00,\n",
       "        -1.25765578e+00,  -3.32668513e+00,  -1.00978882e+00,\n",
       "         2.51746237e-01,   1.54386354e+00,  -3.43160585e+00,\n",
       "        -3.45846926e+00,   4.56331933e+00,  -7.96024142e-01,\n",
       "        -7.51856018e-01,  -1.92135341e+00,   1.18999007e+00,\n",
       "         1.11161163e+00,   8.72362249e-01,   2.55761458e+00,\n",
       "         5.65823702e-01,   2.97101167e-01,  -7.95103001e-01,\n",
       "        -8.42756270e-01,   3.29674095e-01,   1.63823968e+00,\n",
       "         1.95313835e+00,   1.47106493e+00,   4.33300775e-01,\n",
       "         3.50071007e-01,   9.10875682e-01,   1.35639347e+00,\n",
       "        -1.42226371e+00,   3.71723251e-01,  -1.33195664e+00,\n",
       "         2.90235829e+00,   4.63572979e-01,   6.57616653e-01,\n",
       "        -1.55490496e-01,   8.41264593e-01,  -8.75190822e-01,\n",
       "         2.02202887e+00,  -7.80414303e-01,   1.01838561e+00,\n",
       "        -8.77094465e-01,  -2.53022864e-01,  -1.77923419e+00,\n",
       "        -1.02842032e+00,  -7.88182491e-01,   6.74706125e-02,\n",
       "        -7.42328000e-01,  -9.11651025e-01,  -4.59658433e-01,\n",
       "         1.82695657e-01,  -2.43465838e+00,   6.29117033e-02,\n",
       "        -2.80572115e-01,  -3.23208401e-01,   3.38722940e-01,\n",
       "        -5.43047200e-01,   2.18965885e-01,   1.41285167e+00,\n",
       "         2.00011224e+00,   8.71027021e-01,  -1.10304307e+00,\n",
       "        -1.00655888e-03,   8.96620425e-01,  -2.74656773e-01,\n",
       "        -3.98209618e-02,  -1.08425585e+00,  -4.16358207e-01,\n",
       "         5.34786524e-01,   8.00901264e-01,  -1.24869125e+00,\n",
       "        -1.41754179e-02,  -6.91999708e-02,   5.39205670e-03,\n",
       "         4.85692492e-01,   2.70143155e-01,   4.91582077e-01,\n",
       "         4.42277992e-01,  -8.20969546e-01,  -1.88409865e-01,\n",
       "         8.86747645e-02,   1.23985793e+00,   1.48066971e+01,\n",
       "         3.14919768e+01,   1.02436939e+02,   1.84175187e+02,\n",
       "         1.53881158e+02,   7.03669307e+01,   1.37120863e+01,\n",
       "        -5.04049658e+00,   2.91648188e+01,   1.31466509e+01,\n",
       "        -1.08807477e+01,  -4.81752489e+00,   5.51966289e+01,\n",
       "         1.14059066e+02,   9.69525320e+01,   3.50942672e+01,\n",
       "         2.48586044e+01,  -9.97252736e+00,   1.55842681e+01,\n",
       "        -6.58578607e+00,   1.46359966e+01,  -4.88028871e-01,\n",
       "         1.63266737e+01,   3.62756979e+01,   6.37108905e+01,\n",
       "         4.05537011e+01,   2.52351039e+01,   2.15524156e+00,\n",
       "         7.95198596e+00,  -3.68882776e+00,   1.67429337e+01,\n",
       "         1.72322673e+00,  -9.79573525e-01,   1.14948623e+01,\n",
       "         2.90124561e+01,   2.70689838e+01,   1.72714424e+01,\n",
       "         5.39817522e+00,   4.38742609e+00,   2.33324213e+00,\n",
       "        -1.51822729e+00,  -8.00513677e-01,  -5.19108278e+00,\n",
       "         1.88324802e+00,   8.42081243e+00,   7.51713346e+00,\n",
       "         1.29945389e+00,   2.92307949e+00,   3.31990675e+00,\n",
       "         5.46163885e+00,  -1.39024480e+01,   1.65150597e+00,\n",
       "        -1.01246976e+00,   2.52447610e+00,   3.82337812e+00,\n",
       "         1.25424297e+00,  -9.10283155e+00,  -2.03979394e+00,\n",
       "         2.73805648e+00,   7.47792918e+00,  -1.07126304e+01,\n",
       "         5.28934549e-01,   2.60045521e+00,   1.34248858e+00,\n",
       "         2.10030692e+00,  -4.95369561e-01,  -8.44293473e+00,\n",
       "        -2.42877197e+00,   2.74714529e+00,   6.90184641e+00,\n",
       "        -5.99998802e+00,  -9.51063633e-01,   1.76297225e+00,\n",
       "         1.15051664e+00,   2.25117996e+00,  -6.93786379e-01,\n",
       "        -6.12478494e+00,  -1.29072181e+00,   7.79061479e-01,\n",
       "         3.33645229e+00,  -1.57005922e+00,  -1.40632627e+00,\n",
       "         5.16965795e-01,   2.10129152e-01,   6.77396975e-01,\n",
       "        -3.92930313e-01,  -2.57349438e+00,  -7.49614219e-01,\n",
       "         3.70522877e-01,   1.51383249e+00,  -2.10630931e-01,\n",
       "        -4.34648852e-01,   1.12967807e-01,   4.89203747e-02,\n",
       "         2.90436197e-01,  -1.54764082e-01,  -8.53038463e-01,\n",
       "        -1.68487513e-01,   5.69622786e-02,   4.25123194e-01,\n",
       "         1.11496513e+02,  -5.33834907e+01,   1.80635483e-01,\n",
       "        -3.42523586e+01,   6.09965798e+00])\n",
       "  message: 'STOP: TOTAL NO. of ITERATIONS EXCEEDS LIMIT'\n",
       "     nfev: 11030\n",
       "      nit: 10001\n",
       "   status: 1\n",
       "  success: False\n",
       "        x: array([ -2.80712810e+00,  -4.95794127e-01,  -2.51207273e-01,\n",
       "         8.11790910e-01,   2.79111475e-01,   1.01787832e+00,\n",
       "         1.54848329e+00,   3.74750859e-01,   8.05114474e-01,\n",
       "         1.93568781e-01,  -2.61750255e+00,   1.32136397e+00,\n",
       "        -7.68711256e-01,   6.37855112e-02,   6.35608472e-02,\n",
       "        -1.89893059e-01,   6.12884123e-02,  -1.23940187e-02,\n",
       "         1.52660896e-01,   2.81836218e-01,   6.67877157e-01,\n",
       "        -6.71520043e-01,   4.77548520e-01,  -2.79972103e-01,\n",
       "         3.62889152e-02,   2.06541425e-01,   9.41650213e-02,\n",
       "         8.29415514e-02,  -4.49154137e-02,  -8.22388041e-02,\n",
       "         1.95831687e-01,   1.11089044e-02,   3.80440727e-03,\n",
       "         2.08668904e-01,  -3.28836046e-01,  -2.11733925e-02,\n",
       "        -1.80538134e-01,  -7.98257343e-02,   2.49728879e-02,\n",
       "        -6.78005368e-03,   4.12314958e-01,  -9.93259869e-02,\n",
       "        -1.55654865e-02,   4.73888430e-02,   2.29360903e-01,\n",
       "        -2.81640970e-01,   1.44072055e-01,  -1.28808434e-02,\n",
       "        -1.19884984e-01,  -1.82074658e-02,  -7.95478871e-02,\n",
       "         1.15195174e-01,  -3.37548078e-02,  -9.25425760e-02,\n",
       "         5.32223350e-02,   5.95374574e-02,  -1.26246217e-01,\n",
       "         4.28038960e-02,   5.10951429e-02,   4.22893896e-02,\n",
       "        -1.19088997e-01,   1.10186489e-02,   1.38477830e-02,\n",
       "         3.12424384e-02,  -5.90765394e-02,   2.41179817e-01,\n",
       "        -1.17776593e-01,   4.86187568e-03,   2.00800128e-01,\n",
       "         9.39228574e-02,  -4.96099022e-02,  -1.46389705e-02,\n",
       "         3.03794337e-02,   4.91602113e-02,   2.43466391e-02,\n",
       "         2.77733816e-02,   1.07655128e-01,   2.32933959e-03,\n",
       "         6.40486885e-03,  -9.47101087e-03,   8.54723691e-04,\n",
       "         4.63114503e-03,  -1.16126952e-01,  -1.59299559e-01,\n",
       "        -7.74432731e-02,  -2.98773515e-01,   4.01511005e-01,\n",
       "        -2.05001878e-02,  -3.53707568e-01,  -2.73762764e-01,\n",
       "         1.10724212e-02,  -8.07132181e-03,   7.00852609e-02,\n",
       "         1.13568658e-01,   6.61567055e-02,   1.57906713e-01,\n",
       "        -3.46356568e-01,   1.25569982e-02,   2.13649290e-01,\n",
       "         1.71525029e-01,   5.18826863e-01,   1.17389125e-01,\n",
       "        -2.68199478e-02,  -1.15280269e-01,  -1.19346326e-01,\n",
       "        -6.47769679e-02,  -8.01158114e-02,  -3.01135903e-01,\n",
       "        -1.52958406e-01,  -1.46028415e-01,  -2.72555856e-01,\n",
       "         4.42987631e-02,   2.11465037e-01,   3.86254823e-01,\n",
       "         4.89280933e-01,   6.01210884e-01,   6.10477126e-01,\n",
       "         1.42400502e-01,   5.82832458e-01,   1.26250131e-01,\n",
       "         7.22259636e-01,   7.46187492e-01,   7.84634515e-01,\n",
       "         6.62574182e-01,   6.18016217e-01,   4.25973830e-01,\n",
       "         3.99846252e-01,   1.61484261e-01,   4.49089175e-01,\n",
       "         1.95737426e-01,   8.59159331e-01,   4.77905816e-01,\n",
       "         2.20720836e-01,   4.10551995e-02,  -2.26375621e-01,\n",
       "        -5.47825699e-01,  -3.22309664e-01,  -2.91521252e-01,\n",
       "        -2.04671846e-01,   1.34533755e-02,   5.19386424e-01,\n",
       "        -1.11885413e-01,  -4.07838549e-01,  -4.46378706e-01,\n",
       "        -5.56588138e-01,  -6.69778369e-01,  -2.23556602e-01,\n",
       "        -2.72150961e-01,  -2.42778689e-01,  -2.52063352e-01,\n",
       "         1.32983752e-01,  -4.07890030e-01,  -2.95479078e-01,\n",
       "        -1.63175098e-01,  -1.01782249e-01,  -1.34331403e-01,\n",
       "         1.44571110e-01,   2.09837596e-01,   9.19975076e-02,\n",
       "         1.43758850e-02,  -3.04936781e-01,  -2.41026210e-01,\n",
       "         8.17276242e-02,   7.95960038e-02,   1.91625485e-01,\n",
       "         1.79539048e-01,   1.04376537e-01,   2.43824920e-01,\n",
       "         1.56985685e-01,   7.93834840e-02,  -3.28739858e-01,\n",
       "        -2.03808144e-01,  -2.08500896e-01,  -2.84422889e-01,\n",
       "        -2.03590137e-01,  -1.05001326e-01,  -4.65665415e-01,\n",
       "        -3.08527947e-01,  -1.19821958e-01,  -1.78023764e-01,\n",
       "        -4.09181456e-02,  -4.85931752e-01,  -8.00224491e-01,\n",
       "        -6.48761654e-01,  -6.06826388e-01,  -4.39185143e-01,\n",
       "        -8.95748999e-01,  -8.12485570e-01,  -3.60091386e-01,\n",
       "        -4.04097278e-01,   5.22400002e-01,   5.88384410e-01,\n",
       "         7.21000855e-01,   6.58483156e-01,   6.06171122e-01,\n",
       "         4.05217201e-01,   7.76725942e-01,   7.81423606e-01,\n",
       "         3.26052419e-01,   2.50978868e-01,   6.47610118e+00,\n",
       "         3.42367655e+00,   1.88405390e+00,  -4.80160231e-01,\n",
       "        -5.72896231e-01,  -2.71724776e-01,   5.44029182e-01,\n",
       "         1.33046166e+00,   4.40831229e-01,   6.26730643e-01,\n",
       "        -3.34100751e+00,  -2.62279462e+00,  -1.85822237e+00,\n",
       "         1.45461398e-01,   2.51429386e-01,   3.09053100e-01,\n",
       "        -2.57879011e-02,   3.87971036e-01,  -2.37089141e-01,\n",
       "        -6.39365268e-01,   2.97470155e+00,   1.78376216e+00,\n",
       "         1.33558111e+00,   3.39471826e-01,   2.72913654e-01,\n",
       "         5.01416505e-01,   8.33631714e-01,   6.84095529e-01,\n",
       "         2.92354445e-01,   2.05487519e-01,  -6.44032388e-01,\n",
       "        -9.57266654e-01,  -6.63913130e-01,   3.12810893e-01,\n",
       "         6.74975358e-01,   5.37762368e-01,   6.84673722e-01,\n",
       "         6.05799959e-01,   1.54019274e-01,  -1.15201679e-01,\n",
       "        -9.40957500e-01,  -6.88094612e-01,   1.18949815e-02,\n",
       "         1.02121056e+00,   9.19884527e-01,   6.78729193e-01,\n",
       "         1.04588190e+00,   6.61982679e-01,   1.64817645e-01,\n",
       "        -1.06733394e-02,   4.67225252e-01,   6.32078344e-01,\n",
       "         9.12162904e-01,   1.07415866e+00,   1.32695629e+00,\n",
       "         1.53554977e+00,   1.76309259e+00,   9.86451728e-01,\n",
       "         3.18020054e-01,   2.17592928e-01,   3.06166327e-01,\n",
       "         3.91288810e-01,   9.72873590e-01,   1.14869317e+00,\n",
       "         1.46405057e+00,   1.85194146e+00,   1.99001316e+00,\n",
       "         9.57146513e-01,   4.92770448e-01,   4.58140600e-01,\n",
       "        -6.50858071e-02,   2.28632871e-01,   7.62156858e-01,\n",
       "         9.40769674e-01,   1.24466851e+00,   1.33688669e+00,\n",
       "         1.44535196e+00,   6.10483114e-01,   2.89515491e-01,\n",
       "         2.84811404e-01,  -7.70985222e-02,   1.17919565e-01,\n",
       "         4.49780228e-01,   5.04355223e-01,   6.50581582e-01,\n",
       "         7.15994195e-01,   7.55865251e-01,   3.45301196e-01,\n",
       "         1.81556877e-01,   1.76949727e-01,  -2.89250726e-02,\n",
       "         5.64123076e-02,   1.80004319e-01,   1.81205629e-01,\n",
       "         2.32784089e-01,   2.24931862e-01,   2.58221801e-01,\n",
       "         9.39782232e-02,   3.60449347e-02,   5.47756336e-02,\n",
       "        -7.99371104e-01,   3.33930395e+00,   7.67290733e+00,\n",
       "        -1.41909046e+00,   4.75782344e+01])"
      ]
     },
     "execution_count": 8,
     "metadata": {},
     "output_type": "execute_result"
    }
   ],
   "source": [
    "import tensorflow as tf\n",
    "m.optimize(maxiter=10000)"
   ]
  },
  {
   "cell_type": "code",
   "execution_count": null,
   "metadata": {},
   "outputs": [],
   "source": []
  },
  {
   "cell_type": "code",
   "execution_count": 9,
   "metadata": {},
   "outputs": [],
   "source": [
    "#samples = m.sample(200, verbose=True, epsilon=0.005, thin = 2, burn = 100, Lmax = 160)"
   ]
  },
  {
   "cell_type": "code",
   "execution_count": 10,
   "metadata": {},
   "outputs": [],
   "source": [
    "mean, var = m.predict_f(X_train_norm)"
   ]
  },
  {
   "cell_type": "code",
   "execution_count": 11,
   "metadata": {},
   "outputs": [
    {
     "data": {
      "text/plain": [
       "<matplotlib.colorbar.Colorbar at 0x182c720bd0>"
      ]
     },
     "execution_count": 11,
     "metadata": {},
     "output_type": "execute_result"
    },
    {
     "data": {
      "image/png": "[encoded data removed]",
      "text/plain": [
       "<matplotlib.figure.Figure at 0x182c5e9c90>"
      ]
     },
     "metadata": {},
     "output_type": "display_data"
    }
   ],
   "source": [
    "plt.figure(figsize=(10,8))\n",
    "num_grid = X1.shape[0]\n",
    "c = plt.contourf(X1, X2, mean.reshape((num_grid, num_grid), order='F'), cmap=plt.cm.Blues)\n",
    "plt.colorbar(c)"
   ]
  },
  {
   "cell_type": "code",
   "execution_count": 12,
   "metadata": {},
   "outputs": [
    {
     "data": {
      "text/plain": [
       "<matplotlib.colorbar.Colorbar at 0x182c926c10>"
      ]
     },
     "execution_count": 12,
     "metadata": {},
     "output_type": "execute_result"
    },
    {
     "data": {
      "image/png": "[encoded data removed]",
      "text/plain": [
       "<matplotlib.figure.Figure at 0x182c73a890>"
      ]
     },
     "metadata": {},
     "output_type": "display_data"
    }
   ],
   "source": [
    "plt.figure(figsize=(10,8))\n",
    "num_grid = X1.shape[0]\n",
    "c = plt.contourf(X1, X2, np.diag(var).reshape((num_grid, num_grid), order='F'), cmap=plt.cm.Reds)\n",
    "plt.colorbar(c)"
   ]
  },
  {
   "cell_type": "code",
   "execution_count": 13,
   "metadata": {},
   "outputs": [],
   "source": [
    "#samples = m.sample(200, verbose=True, epsilon=0.0005, thin = 2, burn = 100, Lmax = 360)"
   ]
  },
  {
   "cell_type": "code",
   "execution_count": 24,
   "metadata": {
    "collapsed": true
   },
   "outputs": [],
   "source": [
    "def visualize_l(Xgrid, M, L, U):\n",
    "    \"\"\"\n",
    "    Visualize 1D utility funciton values\n",
    "    Xgrid : grid states\n",
    "    Mgrid : mean of GP at those finite grid points\n",
    "    Vargrid : variance of GP at those finite grid points\n",
    "    \"\"\"\n",
    "    \n",
    "    line, = plt.plot(Xgrid, M, lw = 2, color = 'b', label = 'utility', alpha = 0.5)\n",
    "    #plt.fill_between(Xgrid[:,0], L, U,\n",
    "    #                 color = 'b', alpha = 0.25)\n",
    "    #plt.fill_between(Xgrid[:,0], lower1, upper1,\n",
    "    #                 color = 'g', alpha = 0.25)\n",
    "    plt.xlabel('x')\n",
    "    plt.ylabel('y')\n",
    "    return"
   ]
  },
  {
   "cell_type": "code",
   "execution_count": 28,
   "metadata": {},
   "outputs": [],
   "source": [
    "X1t = np.linspace(X1_domain[0], X1_domain[1],100)\n",
    "X2t = np.linspace(X2_domain[0], X2_domain[1],100)\n",
    "X_test = np.zeros(shape =(X1t.shape[0],2))\n",
    "X_test[:,0] = X1t\n",
    "X_test[:,1] = X2t\n",
    "X_testnorm = (X_test - Xtrain_mean)/Xtrain_std"
   ]
  },
  {
   "cell_type": "code",
   "execution_count": 29,
   "metadata": {},
   "outputs": [],
   "source": [
    "ml1, vl1, ml2, vl2 = m.predict_l(X_train_norm)"
   ]
  },
  {
   "cell_type": "code",
   "execution_count": 30,
   "metadata": {
    "collapsed": true
   },
   "outputs": [],
   "source": [
    "lower1 = ml1 - 2*np.sqrt(vl1)\n",
    "upper1 = ml1 + 2*np.sqrt(vl1)\n",
    "\n",
    "MeanL1 = np.exp(ml1)\n",
    "LowerL1 = np.exp(lower1)\n",
    "UpperL1 = np.exp(upper1)\n"
   ]
  },
  {
   "cell_type": "code",
   "execution_count": 31,
   "metadata": {
    "collapsed": true
   },
   "outputs": [],
   "source": [
    "lower2 = ml2 - 2*np.sqrt(vl2)\n",
    "upper2 = ml2 + 2*np.sqrt(vl2)\n",
    "\n",
    "MeanL2 = np.exp(ml2)\n",
    "LowerL2 = np.exp(lower2)\n",
    "UpperL2 = np.exp(upper2)\n"
   ]
  },
  {
   "cell_type": "code",
   "execution_count": 33,
   "metadata": {},
   "outputs": [
    {
     "data": {
      "image/png": "[encoded data removed]",
      "text/plain": [
       "<matplotlib.figure.Figure at 0x182d0cbe50>"
      ]
     },
     "metadata": {},
     "output_type": "display_data"
    }
   ],
   "source": [
    "visualize_l(X1t,MeanL1,UpperL1, LowerL1)"
   ]
  },
  {
   "cell_type": "code",
   "execution_count": 34,
   "metadata": {},
   "outputs": [
    {
     "data": {
      "image/png": "[encoded data removed]",
      "text/plain": [
       "<matplotlib.figure.Figure at 0x182d422710>"
      ]
     },
     "metadata": {},
     "output_type": "display_data"
    }
   ],
   "source": [
    "visualize_l(X2t,MeanL2,UpperL2, LowerL2)"
   ]
  },
  {
   "cell_type": "code",
   "execution_count": null,
   "metadata": {
    "collapsed": true
   },
   "outputs": [],
   "source": []
  }
 ],
 "metadata": {
  "kernelspec": {
   "display_name": "Python [default]",
   "language": "python",
   "name": "python2"
  },
  "language_info": {
   "codemirror_mode": {
    "name": "ipython",
    "version": 2
   },
   "file_extension": ".py",
   "mimetype": "text/x-python",
   "name": "python",
   "nbconvert_exporter": "python",
   "pygments_lexer": "ipython2",
   "version": "2.7.14"
  }
 },
 "nbformat": 4,
 "nbformat_minor": 2
}
