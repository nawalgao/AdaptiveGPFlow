{
 "cells": [
  {
   "cell_type": "code",
   "execution_count": 1,
   "metadata": {
    "collapsed": true
   },
   "outputs": [],
   "source": [
    "import gpflow\n",
    "import numpy as np\n",
    "import matplotlib.pyplot as plt\n",
    "%matplotlib inline\n",
    "import sys\n",
    "sys.path.append('../')\n",
    "from GPHetero import hetero_kernels, hetero_likelihoods, hetero_gpmc"
   ]
  },
  {
   "cell_type": "code",
   "execution_count": 2,
   "metadata": {
    "collapsed": false
   },
   "outputs": [
    {
     "data": {
      "text/plain": [
       "<matplotlib.text.Text at 0x122e23cd0>"
      ]
     },
     "execution_count": 2,
     "metadata": {},
     "output_type": "execute_result"
    },
    {
     "name": "stderr",
     "output_type": "stream",
     "text": [
      "/Users/piyushpandita/anaconda/lib/python2.7/site-packages/matplotlib/figure.py:1742: UserWarning: This figure includes Axes that are not compatible with tight_layout, so its results might be incorrect.\n",
      "  warnings.warn(\"This figure includes Axes that are not \"\n"
     ]
    },
    {
     "data": {
      "image/png": "[encoded data removed]",
      "text/plain": [
       "<matplotlib.figure.Figure at 0x122e15f10>"
      ]
     },
     "metadata": {},
     "output_type": "display_data"
    }
   ],
   "source": [
    "data = np.loadtxt('../data/motor.dat')\n",
    "X = data[:, 0][:, None]\n",
    "Xm = np.mean(X)\n",
    "Xv = np.std(X)\n",
    "Xnorm = (X - Xm)/Xv\n",
    "Y = data[:, 1]\n",
    "fig, ax = plt.subplots()\n",
    "ax.plot(X, Y, 'x', markeredgewidth=2)\n",
    "ax.set_xlabel('$x$')\n",
    "ax.set_ylabel('$y$')"
   ]
  },
  {
   "cell_type": "code",
   "execution_count": 3,
   "metadata": {
    "collapsed": false
   },
   "outputs": [],
   "source": [
    "#build the model\n",
    "# k1 = hetero_kernels.RBF(1)\n",
    "# k2 = hetero_kernels.RBF(1)\n",
    "# k3 = hetero_kernels.RBF(1)\n",
    "# m = hetero_gpmc.GPMCAdaptive(Xnorm, Y[:,None], k1, k2, k3)\n",
    "k = gpflow.kernels.RBF(input_dim=1)\n",
    "nonstat = hetero_kernels.NonStationaryLengthscaleRBF()\n",
    "m = hetero_gpmc.GPMCAdaptiveLengthscale2D(Xnorm, Y[:,None], k, nonstat)"
   ]
  },
  {
   "cell_type": "code",
   "execution_count": 4,
   "metadata": {
    "collapsed": false
   },
   "outputs": [
    {
     "data": {
      "text/html": [
       "<table id='params' width=100%><tr><td>Name</td><td>values</td><td>prior</td><td>constraint</td></tr><tr><td>adaptive_lengthscale_gp2D.V</td><td>[[0.]</br> [0.]</br> [0.]</br> [0.]</br> [0.]</br> [0.]</br> [0.]</br> [0.]</br> [0.]</br> [0.]</br> [0.]</br> [0.]</br> [0.]</br> [0.]</br> [0.]</br> [0.]</br> [0.]</br> [0.]</br> [0.]</br> [0.]</br> [0.]</br> [0.]</br> [0.]</br> [0.]</br> [0.]</br> [0.]</br> [0.]</br> [0.]</br> [0.]</br> [0.]</br> [0.]</br> [0.]</br> [0.]</br> [0.]</br> [0.]</br> [0.]</br> [0.]</br> [0.]</br> [0.]</br> [0.]</br> [0.]</br> [0.]</br> [0.]</br> [0.]</br> [0.]</br> [0.]</br> [0.]</br> [0.]</br> [0.]</br> [0.]</br> [0.]</br> [0.]</br> [0.]</br> [0.]</br> [0.]</br> [0.]</br> [0.]</br> [0.]</br> [0.]</br> [0.]</br> [0.]</br> [0.]</br> [0.]</br> [0.]</br> [0.]</br> [0.]</br> [0.]</br> [0.]</br> [0.]</br> [0.]</br> [0.]</br> [0.]</br> [0.]</br> [0.]</br> [0.]</br> [0.]</br> [0.]</br> [0.]</br> [0.]</br> [0.]</br> [0.]</br> [0.]</br> [0.]</br> [0.]</br> [0.]</br> [0.]</br> [0.]</br> [0.]</br> [0.]</br> [0.]</br> [0.]</br> [0.]</br> [0.]</br> [0.]]</td><td>N([0.],[1.])</td><td>(none)</td></tr><tr><td>adaptive_lengthscale_gp2D.V4</td><td>[[0.]</br> [0.]</br> [0.]</br> [0.]</br> [0.]</br> [0.]</br> [0.]</br> [0.]</br> [0.]</br> [0.]</br> [0.]</br> [0.]</br> [0.]</br> [0.]</br> [0.]</br> [0.]</br> [0.]</br> [0.]</br> [0.]</br> [0.]</br> [0.]</br> [0.]</br> [0.]</br> [0.]</br> [0.]</br> [0.]</br> [0.]</br> [0.]</br> [0.]</br> [0.]</br> [0.]</br> [0.]</br> [0.]</br> [0.]</br> [0.]</br> [0.]</br> [0.]</br> [0.]</br> [0.]</br> [0.]</br> [0.]</br> [0.]</br> [0.]</br> [0.]</br> [0.]</br> [0.]</br> [0.]</br> [0.]</br> [0.]</br> [0.]</br> [0.]</br> [0.]</br> [0.]</br> [0.]</br> [0.]</br> [0.]</br> [0.]</br> [0.]</br> [0.]</br> [0.]</br> [0.]</br> [0.]</br> [0.]</br> [0.]</br> [0.]</br> [0.]</br> [0.]</br> [0.]</br> [0.]</br> [0.]</br> [0.]</br> [0.]</br> [0.]</br> [0.]</br> [0.]</br> [0.]</br> [0.]</br> [0.]</br> [0.]</br> [0.]</br> [0.]</br> [0.]</br> [0.]</br> [0.]</br> [0.]</br> [0.]</br> [0.]</br> [0.]</br> [0.]</br> [0.]</br> [0.]</br> [0.]</br> [0.]</br> [0.]]</td><td>N([0.],[1.])</td><td>(none)</td></tr><tr><td>adaptive_lengthscale_gp2D.kern_type.lengthscales</td><td>[1.]</td><td>None</td><td>+ve</td></tr><tr><td>adaptive_lengthscale_gp2D.kern_type.variance</td><td>[1.]</td><td>None</td><td>+ve</td></tr><tr><td>adaptive_lengthscale_gp2D.likelihood.variance</td><td>[1.]</td><td>None</td><td>+ve</td></tr><tr><td>adaptive_lengthscale_gp2D.nonstat.signal_variance</td><td>[1.]</td><td>None</td><td>+ve</td></tr></table>"
      ],
      "text/plain": [
       "<GPHetero.hetero_gpmc.GPMCAdaptiveLengthscale2D at 0x122e15850>"
      ]
     },
     "execution_count": 4,
     "metadata": {},
     "output_type": "execute_result"
    }
   ],
   "source": [
    "m"
   ]
  },
  {
   "cell_type": "code",
   "execution_count": 5,
   "metadata": {
    "collapsed": true
   },
   "outputs": [],
   "source": [
    "# #m.kern1.lengthscales.prior = gpflow.priors.Gamma(1., 1.)\n",
    "# #m.kern1.variance.prior = gpflow.priors.Gamma(1.,1.)\n",
    "\n",
    "# #m.kern2.lengthscales.prior = gpflow.priors.Gamma(1., 1.)\n",
    "# #m.kern2.variance.prior = gpflow.priors.Gamma(1.,1.)\n",
    "\n",
    "# #m.kern1.lengthscales.prior = gpflow.priors.Gamma(1., 1.)\n",
    "# m.kern1.lengthscales = 1\n",
    "# m.kern1.lengthscales.fixed = True\n",
    "# m.kern1.variance = 1.\n",
    "# m.kern1.variance.fixed = True\n",
    "\n",
    "# #m.kern2.lengthscales.prior = gpflow.priors.Gamma(1., 1.)\n",
    "# m.kern2.lengthscales = 1\n",
    "# m.kern2.lengthscales.fixed = True\n",
    "# m.kern2.variance = 40.\n",
    "# m.kern2.variance.fixed = True\n",
    "# #m.kern1.variance.prior = gpflow.priors.Gamma(1., 1.)\n",
    "\n",
    "# #m.kern3.lengthscales.prior = gpflow.priors.Gamma(1., 1.)\n",
    "# #m.kern3.variance.prior = gpflow.priors.Gamma(1., 1.)\n",
    "# m.kern3.variance = 100.\n",
    "# m.kern3.variance.fixed = True\n",
    "\n",
    "\n"
   ]
  },
  {
   "cell_type": "code",
   "execution_count": 7,
   "metadata": {
    "collapsed": true
   },
   "outputs": [],
   "source": [
    "m.kerns[\"ell0\"].variance.prior = gpflow.priors.Gaussian(0, 1.)\n",
    "m.kerns[\"ell0\"].lengthscales.prior = gpflow.priors.Gaussian(0, 1.)\n",
    "# Lengthscale 2 GP priors\n",
    "#m.kern2.variance = 0.1\n",
    "#m.kern2.variance.fixed = True\n",
    "#m.kern2.lengthscales = 0.5\n",
    "#m.kern2.lengthscales.fixed = True\n",
    "\n",
    "# Non stationary signal variance prior\n",
    "# m.nonstat.signal_variance = 100\n",
    "# m.nonstat.signal_variance.fixed = True\n",
    "m.nonstat.signal_variance.prior = gpflow.priors.Gaussian(0, 1.)\n",
    "\n",
    "m.likelihood.variance = 0.01\n",
    "m.likelihood.variance.fixed = True"
   ]
  },
  {
   "cell_type": "code",
   "execution_count": 8,
   "metadata": {
    "collapsed": false,
    "scrolled": false
   },
   "outputs": [],
   "source": [
    "# m.optimize(maxiter=5000) # start near MAP"
   ]
  },
  {
   "cell_type": "code",
   "execution_count": 9,
   "metadata": {
    "collapsed": false
   },
   "outputs": [
    {
     "name": "stdout",
     "output_type": "stream",
     "text": [
      "burn-in sampling started\n",
      "Iteration:  100 \t Acc Rate:  36.0 %\n",
      "burn-in sampling ended\n"
     ]
    }
   ],
   "source": [
    "samples = m.sample(20, verbose=True, epsilon=0.00005, thin = 2, burn = 100, Lmax = 160)"
   ]
  },
  {
   "cell_type": "code",
   "execution_count": 16,
   "metadata": {
    "collapsed": false
   },
   "outputs": [],
   "source": [
    "sample_df = m.get_samples_df(samples)\n",
    "xnew = np.linspace(0, 60, 50)[:,None]\n",
    "xx = (xnew - Xm) / Xv\n",
    "mean_f_mat = np.zeros(shape = (samples.T.shape[0], xx.shape[0]))\n",
    "var_f_mat = np.zeros(shape = (samples.T.shape[0], xx.shape[0]))\n",
    "meanx = []\n",
    "varx = []\n",
    "for i, s in sample_df.iterrows():\n",
    "    m.set_parameter_dict(s)\n",
    "    mean_f, var_f = m.predict_f(xx)\n",
    "    meanx.append(mean_f)\n",
    "    varx.append(np.diag(var_f))"
   ]
  },
  {
   "cell_type": "code",
   "execution_count": 17,
   "metadata": {
    "collapsed": true
   },
   "outputs": [],
   "source": [
    "std_f_mat = np.sqrt(var_f_mat)\n",
    "Lowerf = mean_f_mat - 2*std_f_mat\n",
    "Upperf = mean_f_mat + 2*std_f_mat"
   ]
  },
  {
   "cell_type": "code",
   "execution_count": 18,
   "metadata": {
    "collapsed": true
   },
   "outputs": [],
   "source": [
    "def visualize_all(Xgrid, M1, L1, U1, U2):\n",
    "    \"\"\"\n",
    "    Visualize\n",
    "    \"\"\"  \n",
    "    L2 = L1 - U2\n",
    "    U2 = U1 + U2\n",
    "    \n",
    "    plt.plot(X, Y, '.')\n",
    "    line, = plt.plot(Xgrid, M1, lw = 2, color = 'b', label = 'utility', alpha = 0.5)\n",
    "    plt.fill_between(Xgrid[:,0], L1, U1,\n",
    "                     color = 'b', alpha = 0.25)\n",
    "    plt.fill_between(Xgrid[:,0], L2, U2,\n",
    "                     color = 'g', alpha = 0.25)\n",
    "    plt.xlabel('x')\n",
    "    plt.ylabel('y')\n",
    "    return"
   ]
  },
  {
   "cell_type": "code",
   "execution_count": 19,
   "metadata": {
    "collapsed": false
   },
   "outputs": [
    {
     "ename": "NameError",
     "evalue": "name 'UpperN' is not defined",
     "output_type": "error",
     "traceback": [
      "\u001b[0;31m---------------------------------------------------------------------------\u001b[0m",
      "\u001b[0;31mNameError\u001b[0m                                 Traceback (most recent call last)",
      "\u001b[0;32m<ipython-input-19-bee165d94e0e>\u001b[0m in \u001b[0;36m<module>\u001b[0;34m()\u001b[0m\n\u001b[1;32m      5\u001b[0m     visualize_all(xnew, mean_f_mat[i,:],\n\u001b[1;32m      6\u001b[0m               \u001b[0mLowerf\u001b[0m\u001b[0;34m[\u001b[0m\u001b[0mi\u001b[0m\u001b[0;34m,\u001b[0m\u001b[0;34m:\u001b[0m\u001b[0;34m]\u001b[0m\u001b[0;34m,\u001b[0m \u001b[0mUpperf\u001b[0m\u001b[0;34m[\u001b[0m\u001b[0mi\u001b[0m\u001b[0;34m,\u001b[0m\u001b[0;34m:\u001b[0m\u001b[0;34m]\u001b[0m\u001b[0;34m,\u001b[0m\u001b[0;34m\u001b[0m\u001b[0m\n\u001b[0;32m----> 7\u001b[0;31m               UpperN[i,:])\n\u001b[0m",
      "\u001b[0;31mNameError\u001b[0m: name 'UpperN' is not defined"
     ]
    },
    {
     "data": {
      "text/plain": [
       "<matplotlib.figure.Figure at 0x1286e1f10>"
      ]
     },
     "metadata": {},
     "output_type": "display_data"
    }
   ],
   "source": [
    "mini = 0\n",
    "maxi = 1\n",
    "plt.figure(figsize=(12,8))\n",
    "for i in xrange(mini,maxi):\n",
    "    visualize_all(xnew, mean_f_mat[i,:],\n",
    "              Lowerf[i,:], Upperf[i,:],\n",
    "              UpperN[i,:])"
   ]
  },
  {
   "cell_type": "code",
   "execution_count": null,
   "metadata": {
    "collapsed": true
   },
   "outputs": [],
   "source": []
  }
 ],
 "metadata": {
  "kernelspec": {
   "display_name": "Python 2",
   "language": "python",
   "name": "python2"
  },
  "language_info": {
   "codemirror_mode": {
    "name": "ipython",
    "version": 2
   },
   "file_extension": ".py",
   "mimetype": "text/x-python",
   "name": "python",
   "nbconvert_exporter": "python",
   "pygments_lexer": "ipython2",
   "version": "2.7.6"
  }
 },
 "nbformat": 4,
 "nbformat_minor": 2
}
