{
 "cells": [
  {
   "cell_type": "code",
   "execution_count": 1,
   "metadata": {},
   "outputs": [
    {
     "ename": "RuntimeError",
     "evalue": "module compiled against API version 0xb but this version of numpy is 0xa",
     "output_type": "error",
     "traceback": [
      "\u001b[0;31m---------------------------------------------------------------------------\u001b[0m",
      "\u001b[0;31mRuntimeError\u001b[0m                              Traceback (most recent call last)",
      "\u001b[0;31mRuntimeError\u001b[0m: module compiled against API version 0xb but this version of numpy is 0xa"
     ]
    },
    {
     "ename": "RuntimeError",
     "evalue": "module compiled against API version 0xb but this version of numpy is 0xa",
     "output_type": "error",
     "traceback": [
      "\u001b[0;31m---------------------------------------------------------------------------\u001b[0m",
      "\u001b[0;31mRuntimeError\u001b[0m                              Traceback (most recent call last)",
      "\u001b[0;31mRuntimeError\u001b[0m: module compiled against API version 0xb but this version of numpy is 0xa"
     ]
    }
   ],
   "source": [
    "import gpflow\n",
    "import numpy as np\n",
    "import matplotlib.pyplot as plt\n",
    "%matplotlib inline\n",
    "import sys\n",
    "sys.path.append('../')\n",
    "from GPHetero import hetero_kernels, hetero_likelihoods, hetero_gpmc"
   ]
  },
  {
   "cell_type": "code",
   "execution_count": 2,
   "metadata": {},
   "outputs": [
    {
     "data": {
      "text/plain": [
       "Text(0,0.5,u'$y$')"
      ]
     },
     "execution_count": 2,
     "metadata": {},
     "output_type": "execute_result"
    },
    {
     "data": {
      "image/png": "[encoded data removed]",
      "text/plain": [
       "<matplotlib.figure.Figure at 0x10cbd1050>"
      ]
     },
     "metadata": {},
     "output_type": "display_data"
    }
   ],
   "source": [
    "data = np.loadtxt('../data/motor.dat')\n",
    "X = data[:, 0][:, None]\n",
    "Xm = np.mean(X)\n",
    "Xv = np.std(X)\n",
    "Xnorm = (X - Xm)/Xv\n",
    "Y = data[:, 1]\n",
    "fig, ax = plt.subplots()\n",
    "ax.plot(X, Y, 'x', markeredgewidth=2)\n",
    "ax.set_xlabel('$x$')\n",
    "ax.set_ylabel('$y$')"
   ]
  },
  {
   "cell_type": "code",
   "execution_count": 3,
   "metadata": {
    "collapsed": true
   },
   "outputs": [],
   "source": [
    "#build the model\n",
    "k1 = hetero_kernels.RBF(1)\n",
    "k2 = hetero_kernels.RBF(1)\n",
    "k3 = hetero_kernels.RBF(1)\n",
    "m = hetero_gpmc.GPMCAdaptive(Xnorm, Y[:,None], k1, k2, k3)"
   ]
  },
  {
   "cell_type": "code",
   "execution_count": 4,
   "metadata": {},
   "outputs": [
    {
     "data": {
      "text/html": [
       "<table id='params' width=100%><tr><td>Name</td><td>values</td><td>prior</td><td>constraint</td></tr><tr><td>adaptive_gp.V1</td><td>[[ 0.]</br> [ 0.]</br> [ 0.]</br> [ 0.]</br> [ 0.]</br> [ 0.]</br> [ 0.]</br> [ 0.]</br> [ 0.]</br> [ 0.]</br> [ 0.]</br> [ 0.]</br> [ 0.]</br> [ 0.]</br> [ 0.]</br> [ 0.]</br> [ 0.]</br> [ 0.]</br> [ 0.]</br> [ 0.]</br> [ 0.]</br> [ 0.]</br> [ 0.]</br> [ 0.]</br> [ 0.]</br> [ 0.]</br> [ 0.]</br> [ 0.]</br> [ 0.]</br> [ 0.]</br> [ 0.]</br> [ 0.]</br> [ 0.]</br> [ 0.]</br> [ 0.]</br> [ 0.]</br> [ 0.]</br> [ 0.]</br> [ 0.]</br> [ 0.]</br> [ 0.]</br> [ 0.]</br> [ 0.]</br> [ 0.]</br> [ 0.]</br> [ 0.]</br> [ 0.]</br> [ 0.]</br> [ 0.]</br> [ 0.]</br> [ 0.]</br> [ 0.]</br> [ 0.]</br> [ 0.]</br> [ 0.]</br> [ 0.]</br> [ 0.]</br> [ 0.]</br> [ 0.]</br> [ 0.]</br> [ 0.]</br> [ 0.]</br> [ 0.]</br> [ 0.]</br> [ 0.]</br> [ 0.]</br> [ 0.]</br> [ 0.]</br> [ 0.]</br> [ 0.]</br> [ 0.]</br> [ 0.]</br> [ 0.]</br> [ 0.]</br> [ 0.]</br> [ 0.]</br> [ 0.]</br> [ 0.]</br> [ 0.]</br> [ 0.]</br> [ 0.]</br> [ 0.]</br> [ 0.]</br> [ 0.]</br> [ 0.]</br> [ 0.]</br> [ 0.]</br> [ 0.]</br> [ 0.]</br> [ 0.]</br> [ 0.]</br> [ 0.]</br> [ 0.]</br> [ 0.]]</td><td>N([ 0.],[ 1.])</td><td>(none)</td></tr><tr><td>adaptive_gp.V2</td><td>[[ 0.]</br> [ 0.]</br> [ 0.]</br> [ 0.]</br> [ 0.]</br> [ 0.]</br> [ 0.]</br> [ 0.]</br> [ 0.]</br> [ 0.]</br> [ 0.]</br> [ 0.]</br> [ 0.]</br> [ 0.]</br> [ 0.]</br> [ 0.]</br> [ 0.]</br> [ 0.]</br> [ 0.]</br> [ 0.]</br> [ 0.]</br> [ 0.]</br> [ 0.]</br> [ 0.]</br> [ 0.]</br> [ 0.]</br> [ 0.]</br> [ 0.]</br> [ 0.]</br> [ 0.]</br> [ 0.]</br> [ 0.]</br> [ 0.]</br> [ 0.]</br> [ 0.]</br> [ 0.]</br> [ 0.]</br> [ 0.]</br> [ 0.]</br> [ 0.]</br> [ 0.]</br> [ 0.]</br> [ 0.]</br> [ 0.]</br> [ 0.]</br> [ 0.]</br> [ 0.]</br> [ 0.]</br> [ 0.]</br> [ 0.]</br> [ 0.]</br> [ 0.]</br> [ 0.]</br> [ 0.]</br> [ 0.]</br> [ 0.]</br> [ 0.]</br> [ 0.]</br> [ 0.]</br> [ 0.]</br> [ 0.]</br> [ 0.]</br> [ 0.]</br> [ 0.]</br> [ 0.]</br> [ 0.]</br> [ 0.]</br> [ 0.]</br> [ 0.]</br> [ 0.]</br> [ 0.]</br> [ 0.]</br> [ 0.]</br> [ 0.]</br> [ 0.]</br> [ 0.]</br> [ 0.]</br> [ 0.]</br> [ 0.]</br> [ 0.]</br> [ 0.]</br> [ 0.]</br> [ 0.]</br> [ 0.]</br> [ 0.]</br> [ 0.]</br> [ 0.]</br> [ 0.]</br> [ 0.]</br> [ 0.]</br> [ 0.]</br> [ 0.]</br> [ 0.]</br> [ 0.]]</td><td>N([ 0.],[ 1.])</td><td>(none)</td></tr><tr><td>adaptive_gp.V3</td><td>[[ 0.]</br> [ 0.]</br> [ 0.]</br> [ 0.]</br> [ 0.]</br> [ 0.]</br> [ 0.]</br> [ 0.]</br> [ 0.]</br> [ 0.]</br> [ 0.]</br> [ 0.]</br> [ 0.]</br> [ 0.]</br> [ 0.]</br> [ 0.]</br> [ 0.]</br> [ 0.]</br> [ 0.]</br> [ 0.]</br> [ 0.]</br> [ 0.]</br> [ 0.]</br> [ 0.]</br> [ 0.]</br> [ 0.]</br> [ 0.]</br> [ 0.]</br> [ 0.]</br> [ 0.]</br> [ 0.]</br> [ 0.]</br> [ 0.]</br> [ 0.]</br> [ 0.]</br> [ 0.]</br> [ 0.]</br> [ 0.]</br> [ 0.]</br> [ 0.]</br> [ 0.]</br> [ 0.]</br> [ 0.]</br> [ 0.]</br> [ 0.]</br> [ 0.]</br> [ 0.]</br> [ 0.]</br> [ 0.]</br> [ 0.]</br> [ 0.]</br> [ 0.]</br> [ 0.]</br> [ 0.]</br> [ 0.]</br> [ 0.]</br> [ 0.]</br> [ 0.]</br> [ 0.]</br> [ 0.]</br> [ 0.]</br> [ 0.]</br> [ 0.]</br> [ 0.]</br> [ 0.]</br> [ 0.]</br> [ 0.]</br> [ 0.]</br> [ 0.]</br> [ 0.]</br> [ 0.]</br> [ 0.]</br> [ 0.]</br> [ 0.]</br> [ 0.]</br> [ 0.]</br> [ 0.]</br> [ 0.]</br> [ 0.]</br> [ 0.]</br> [ 0.]</br> [ 0.]</br> [ 0.]</br> [ 0.]</br> [ 0.]</br> [ 0.]</br> [ 0.]</br> [ 0.]</br> [ 0.]</br> [ 0.]</br> [ 0.]</br> [ 0.]</br> [ 0.]</br> [ 0.]]</td><td>N([ 0.],[ 1.])</td><td>(none)</td></tr><tr><td>adaptive_gp.V4</td><td>[[ 0.]</br> [ 0.]</br> [ 0.]</br> [ 0.]</br> [ 0.]</br> [ 0.]</br> [ 0.]</br> [ 0.]</br> [ 0.]</br> [ 0.]</br> [ 0.]</br> [ 0.]</br> [ 0.]</br> [ 0.]</br> [ 0.]</br> [ 0.]</br> [ 0.]</br> [ 0.]</br> [ 0.]</br> [ 0.]</br> [ 0.]</br> [ 0.]</br> [ 0.]</br> [ 0.]</br> [ 0.]</br> [ 0.]</br> [ 0.]</br> [ 0.]</br> [ 0.]</br> [ 0.]</br> [ 0.]</br> [ 0.]</br> [ 0.]</br> [ 0.]</br> [ 0.]</br> [ 0.]</br> [ 0.]</br> [ 0.]</br> [ 0.]</br> [ 0.]</br> [ 0.]</br> [ 0.]</br> [ 0.]</br> [ 0.]</br> [ 0.]</br> [ 0.]</br> [ 0.]</br> [ 0.]</br> [ 0.]</br> [ 0.]</br> [ 0.]</br> [ 0.]</br> [ 0.]</br> [ 0.]</br> [ 0.]</br> [ 0.]</br> [ 0.]</br> [ 0.]</br> [ 0.]</br> [ 0.]</br> [ 0.]</br> [ 0.]</br> [ 0.]</br> [ 0.]</br> [ 0.]</br> [ 0.]</br> [ 0.]</br> [ 0.]</br> [ 0.]</br> [ 0.]</br> [ 0.]</br> [ 0.]</br> [ 0.]</br> [ 0.]</br> [ 0.]</br> [ 0.]</br> [ 0.]</br> [ 0.]</br> [ 0.]</br> [ 0.]</br> [ 0.]</br> [ 0.]</br> [ 0.]</br> [ 0.]</br> [ 0.]</br> [ 0.]</br> [ 0.]</br> [ 0.]</br> [ 0.]</br> [ 0.]</br> [ 0.]</br> [ 0.]</br> [ 0.]</br> [ 0.]]</td><td>N([ 0.],[ 1.])</td><td>(none)</td></tr><tr><td>adaptive_gp.kern1.lengthscales</td><td>[ 1.]</td><td>None</td><td>+ve</td></tr><tr><td>adaptive_gp.kern1.variance</td><td>[ 1.]</td><td>None</td><td>+ve</td></tr><tr><td>adaptive_gp.kern2.lengthscales</td><td>[ 1.]</td><td>None</td><td>+ve</td></tr><tr><td>adaptive_gp.kern2.variance</td><td>[ 1.]</td><td>None</td><td>+ve</td></tr><tr><td>adaptive_gp.kern3.lengthscales</td><td>[ 1.]</td><td>None</td><td>+ve</td></tr><tr><td>adaptive_gp.kern3.variance</td><td>[ 1.]</td><td>None</td><td>+ve</td></tr></table>"
      ],
      "text/plain": [
       "<GPHetero.hetero_gpmc.GPMCAdaptive at 0x181d89fd10>"
      ]
     },
     "execution_count": 4,
     "metadata": {},
     "output_type": "execute_result"
    }
   ],
   "source": [
    "m"
   ]
  },
  {
   "cell_type": "code",
   "execution_count": 11,
   "metadata": {
    "collapsed": true
   },
   "outputs": [],
   "source": [
    "#m.kern1.lengthscales.prior = gpflow.priors.Gamma(1., 1.)\n",
    "#m.kern1.variance.prior = gpflow.priors.Gamma(1.,1.)\n",
    "\n",
    "#m.kern2.lengthscales.prior = gpflow.priors.Gamma(1., 1.)\n",
    "#m.kern2.variance.prior = gpflow.priors.Gamma(1.,1.)\n",
    "\n",
    "#m.kern1.lengthscales.prior = gpflow.priors.Gamma(1., 1.)\n",
    "m.kern1.lengthscales = 1\n",
    "m.kern1.lengthscales.fixed = True\n",
    "m.kern1.variance = 1.\n",
    "m.kern1.variance.fixed = True\n",
    "\n",
    "#m.kern2.lengthscales.prior = gpflow.priors.Gamma(1., 1.)\n",
    "m.kern2.lengthscales = 1\n",
    "m.kern2.lengthscales.fixed = True\n",
    "m.kern2.variance = 40.\n",
    "m.kern2.variance.fixed = True\n",
    "#m.kern1.variance.prior = gpflow.priors.Gamma(1., 1.)\n",
    "\n",
    "#m.kern3.lengthscales.prior = gpflow.priors.Gamma(1., 1.)\n",
    "#m.kern3.variance.prior = gpflow.priors.Gamma(1., 1.)\n",
    "m.kern3.variance = 100.\n",
    "m.kern3.variance.fixed = True"
   ]
  },
  {
   "cell_type": "code",
   "execution_count": 12,
   "metadata": {
    "scrolled": true
   },
   "outputs": [
    {
     "data": {
      "text/plain": [
       "      fun: array([ 701.42194282])\n",
       " hess_inv: <377x377 LbfgsInvHessProduct with dtype=float64>\n",
       "      jac: array([ -3.55721557e-01,   1.04358037e+01,   7.87623675e+00,\n",
       "         1.28748712e+01,   1.14863161e+01,   1.68427583e+01,\n",
       "         1.45195211e+01,   1.17834571e+01,   2.59018741e+01,\n",
       "         1.06391886e+01,   1.38255553e+01,   1.76289614e+01,\n",
       "         1.30622050e+01,   9.98590491e+00,   1.41119201e+01,\n",
       "         1.63096685e+01,   1.55773324e+01,   2.91880387e+01,\n",
       "         1.34898710e+01,   4.12181205e+00,   2.40562041e+01,\n",
       "         4.55025579e+00,   1.64243546e+01,   7.95160065e+00,\n",
       "         1.24637364e+01,   5.53011857e+00,   8.93154997e+00,\n",
       "         8.00992294e+00,   8.44397267e+00,   8.47764850e+00,\n",
       "         1.53088929e+01,   9.11579420e+00,   1.31417824e+01,\n",
       "         1.10306372e+01,   6.77350215e+00,   5.77452541e+00,\n",
       "         8.94364368e+00,   6.28786512e+00,   9.13090213e+00,\n",
       "         5.12391213e+00,   5.05549888e+00,   3.86521301e+00,\n",
       "         6.99231222e+00,   3.02349728e+00,   3.24392827e+00,\n",
       "         2.08137647e+00,   2.05519925e+00,   1.79783453e+00,\n",
       "         1.40779398e+00,   9.00068751e-01,   6.39838374e-01,\n",
       "         3.36682622e-01,   1.40322509e-01,  -3.44744433e-01,\n",
       "        -4.10926854e-01,  -7.94004940e-01,  -1.54128451e+00,\n",
       "        -1.22787825e+00,  -1.21811048e+00,  -2.94532464e+00,\n",
       "        -3.71391347e+00,  -4.06912328e+00,  -2.38480537e+00,\n",
       "        -4.50121243e+00,  -5.11830078e+00,  -4.43617879e+00,\n",
       "        -3.67872647e+00,  -4.52268973e+00,  -3.95447871e+00,\n",
       "        -3.88372709e+00,  -3.05269391e+00,  -2.81632758e+00,\n",
       "        -4.52931079e+00,  -7.90543516e+00,  -5.43140659e+00,\n",
       "        -2.42998703e+00,  -3.81649083e+00,  -3.50345777e+00,\n",
       "        -5.31848392e+00,  -3.45134779e+00,  -2.25643138e+00,\n",
       "        -1.65374050e+00,  -3.31146311e+00,  -2.14375340e+00,\n",
       "        -2.20480567e+00,  -3.05126809e+00,  -1.90038998e+00,\n",
       "        -1.44861012e+00,  -1.47802962e+00,  -8.07251940e-01,\n",
       "        -5.10473264e-01,  -4.42260205e-01,   1.73976097e-01,\n",
       "        -2.07203853e-01,  -1.24212421e+01,   2.41489467e+00,\n",
       "         4.92362834e+00,   2.65955319e+00,   1.96578496e+00,\n",
       "         6.22578323e+00,   4.20677273e+00,   2.08459637e+00,\n",
       "         3.36780542e+00,   2.49355117e+00,   4.24827225e+00,\n",
       "         4.09063947e+00,   2.11700012e+00,   1.45019522e+00,\n",
       "         1.95133568e+00,   1.87078741e+00,   1.72356162e+00,\n",
       "         3.20855478e+00,   1.27005169e+00,   1.02702215e+00,\n",
       "         1.77443885e+00,   6.37417259e-01,   6.83336440e-01,\n",
       "         3.28502142e-01,   2.27414727e-01,   1.64085255e-01,\n",
       "         1.08760822e-01,   5.29919857e-02,  -4.53167324e-03,\n",
       "        -6.15983800e-02,  -3.95920402e-01,  -2.72431526e-01,\n",
       "        -8.48120199e-01,  -9.84816482e-01,  -6.66922864e-01,\n",
       "        -7.10204666e-01,  -1.53674578e+00,  -1.02776827e+00,\n",
       "        -2.06679024e+00,  -1.12865534e+00,  -1.60631664e+00,\n",
       "        -1.38008573e+00,  -3.81011421e+00,  -1.51950635e+00,\n",
       "        -2.87407328e+00,  -1.97149400e+00,  -2.64607515e+00,\n",
       "        -2.84953604e+00,  -2.84138018e+00,  -2.10733363e+00,\n",
       "        -2.74098125e+00,  -2.20032657e+00,  -2.10138186e+00,\n",
       "        -3.70954631e+00,  -2.46264894e+00,  -3.05240276e+00,\n",
       "        -4.06253356e+00,  -2.56233073e+00,  -2.33884220e+00,\n",
       "        -4.87636302e+00,  -4.80730574e+00,  -4.64935790e+00,\n",
       "        -2.43292149e+00,  -4.99923566e+00,  -4.96283006e+00,\n",
       "        -4.01551338e+00,  -3.30242714e+00,  -4.16952593e+00,\n",
       "        -3.39247909e+00,  -3.27548368e+00,  -2.43699337e+00,\n",
       "        -2.27288582e+00,  -3.83015405e+00,  -5.80311762e+00,\n",
       "        -4.33571707e+00,  -1.74473262e+00,  -3.13519295e+00,\n",
       "        -2.49496246e+00,  -3.43763995e+00,  -2.24534623e+00,\n",
       "        -1.59210028e+00,  -1.20358929e+00,  -2.50877442e+00,\n",
       "        -1.28260095e+00,  -1.35508536e+00,  -1.79942243e+00,\n",
       "        -1.15382174e+00,  -8.82120112e-01,  -7.84282655e-01,\n",
       "        -4.07453853e-01,  -2.43352304e-01,  -1.52580855e-01,\n",
       "        -4.48340603e-02,  -4.38694993e-02,  -9.04941327e+00,\n",
       "        -4.15382874e+00,   1.66971518e+00,   2.61508239e+00,\n",
       "         1.52176243e+00,   2.20074642e+00,   1.44613090e+00,\n",
       "         5.42872942e-01,   1.32547167e+00,   1.07139528e+00,\n",
       "         1.23689996e+00,   1.96918330e+00,   1.61070663e+00,\n",
       "         1.09220015e+00,   1.69432822e+00,   1.83567476e+00,\n",
       "         2.02909492e+00,   3.07745198e+00,   2.72605832e+00,\n",
       "         1.03578332e+00,   1.77530969e+00,   9.09744510e-01,\n",
       "         1.41613846e+00,   4.65311737e-01,   4.68833754e-01,\n",
       "         4.26017079e-01,   3.50902814e-01,   2.72765938e-01,\n",
       "         1.99614535e-01,   1.28341140e-01,  -2.44762388e-02,\n",
       "        -1.92834983e-01,  -6.69066248e-01,  -9.37169965e-01,\n",
       "        -6.21435736e-01,  -7.47021319e-01,  -1.25033794e+00,\n",
       "        -7.23026366e-01,  -1.81037399e+00,  -8.85250106e-01,\n",
       "        -1.54102746e+00,  -9.29893941e-01,  -2.07947400e+00,\n",
       "        -1.16241334e+00,  -1.90184153e+00,  -7.67189259e-01,\n",
       "        -1.35709600e+00,  -1.31667533e+00,  -1.28960635e+00,\n",
       "        -8.75776974e-01,  -1.32341586e+00,  -8.65727700e-01,\n",
       "        -9.51315624e-01,  -1.74560694e+00,  -9.74427782e-01,\n",
       "        -1.75741671e+00,  -2.06838814e+00,  -1.26179271e+00,\n",
       "        -1.60843959e+00,  -3.19329658e+00,  -3.87861565e+00,\n",
       "        -4.37890676e+00,  -2.34943764e+00,  -5.20519057e+00,\n",
       "        -5.34544921e+00,  -4.71242681e+00,  -3.61667527e+00,\n",
       "        -4.17877310e+00,  -3.16572086e+00,  -2.92978242e+00,\n",
       "        -1.73721628e+00,  -1.68293621e+00,  -2.38380654e+00,\n",
       "        -2.00759028e+00,  -3.92003025e-02,   6.32805693e-01,\n",
       "         1.14572630e+00,   8.78410895e-01,   1.57856931e+00,\n",
       "         1.49539130e+00,   8.25012444e-01,   5.47446488e-01,\n",
       "         9.59923781e-01,   6.08898224e-01,   5.87012501e-01,\n",
       "         8.11832844e-01,   1.09074564e+00,   1.47716221e+00,\n",
       "         1.77006299e+00,   1.87729660e+00,   1.32272625e+00,\n",
       "         7.39316921e-01,   2.44428294e-01,   1.12631818e-01,\n",
       "         1.54556842e+01,   7.58456923e+00,   7.04464130e+00,\n",
       "         4.22863017e+00,   3.75629466e+00,   7.77751567e+00,\n",
       "         5.16382321e+00,  -1.83328973e-01,   3.96682368e+00,\n",
       "         1.40347212e+00,   1.25194449e+00,   7.19355605e-01,\n",
       "         1.82768459e-01,   2.07787319e-01,   8.31866775e-02,\n",
       "         4.01328946e-02,   1.74138175e-01,   2.70543264e-01,\n",
       "         5.80098826e-01,   6.22731792e-01,   7.78668742e-01,\n",
       "         1.43500712e-01,   9.42781633e-01,  -5.31664506e-01,\n",
       "         2.01235666e-01,  -1.67203811e+00,   8.15809681e-01,\n",
       "        -4.21576929e-01,  -6.16466974e-01,  -1.39932774e+00,\n",
       "        -2.09526269e+00,  -2.04544799e+00,  -2.46823546e+00,\n",
       "        -2.22255758e+00,  -1.82852561e+00,  -7.63766092e-01,\n",
       "        -1.17552763e+00,  -9.28631521e-01,  -9.69206569e-01,\n",
       "        -1.09057354e+00,  -1.12863526e+00,  -1.42825990e+00,\n",
       "        -2.33913768e+00,  -3.46118514e+00,  -4.41215343e+00,\n",
       "        -4.20745851e+00,  -4.24203452e+00,  -6.66636076e+00,\n",
       "        -6.17921733e+00,  -6.35907591e+00,  -7.84682531e+00,\n",
       "        -7.09552979e+00,  -6.83080285e+00,  -1.09848125e+01,\n",
       "        -1.15673984e+01,  -1.11662894e+01,  -1.65865884e+01,\n",
       "        -1.38047852e+01,  -1.19378453e+01,  -2.04664027e+01,\n",
       "        -2.66916694e+01,  -3.09188123e+01,  -1.99647783e+01,\n",
       "        -2.71111278e+01,  -3.29482529e+01,  -2.61101762e+01,\n",
       "        -2.02431400e+01,  -2.20694942e+01,  -1.68866806e+01,\n",
       "        -1.57297756e+01,  -9.62926978e+00,  -9.72826642e+00,\n",
       "        -1.49054938e+01,  -1.64577025e+01,  -1.08689309e+01,\n",
       "        -2.28819345e+00,  -4.50866091e+00,  -2.68927226e+00,\n",
       "        -3.22682967e+00,  -1.58560373e+00,  -8.88012813e-01,\n",
       "        -5.82787258e-01,  -9.31728223e-01,  -3.60633343e-01,\n",
       "        -3.00333892e-01,  -3.07408205e-01,  -9.55942346e-02,\n",
       "        -2.18230437e-02,   6.25697717e-02,  -7.04591756e-02,\n",
       "        -2.20794313e-01,  -9.80448922e-02,  -1.58319269e-02,\n",
       "        -1.80106648e-02,  -1.23561006e+01])\n",
       "  message: 'CONVERGENCE: REL_REDUCTION_OF_F_<=_FACTR*EPSMCH'\n",
       "     nfev: 35\n",
       "      nit: 2\n",
       "   status: 0\n",
       "  success: True\n",
       "        x: array([ -1.96671199e-01,  -3.90391104e-01,  -2.59988126e-01,\n",
       "        -4.03573957e-01,  -3.41568430e-01,  -3.51713486e-01,\n",
       "        -7.00774625e-02,  -1.86378268e-01,  -1.87990650e-01,\n",
       "        -8.19807975e-02,  -3.77698333e-02,   1.96478165e-02,\n",
       "        -1.15499009e-02,   1.44171197e-02,   2.04511874e-02,\n",
       "         8.80213729e-03,   5.36134873e-02,   1.10210456e-01,\n",
       "         3.20588545e-02,   6.12209410e-02,   7.15284492e-02,\n",
       "         7.16650633e-02,   6.79347047e-02,   4.55130278e-02,\n",
       "         1.40662443e-02,   6.17274545e-02,   3.44910790e-02,\n",
       "         3.73605823e-02,   2.44517096e-02,   2.36125630e-02,\n",
       "         5.61053383e-02,   2.60870552e-02,   3.39479919e-02,\n",
       "         3.03725024e-02,   1.97011133e-02,   1.17798883e-02,\n",
       "         1.65982962e-02,   9.33449625e-03,   1.37245741e-02,\n",
       "        -1.08283569e-02,  -2.28751937e-03,   6.85585232e-03,\n",
       "        -8.60140351e-03,  -6.98098180e-03,  -1.82441772e-02,\n",
       "        -1.20604239e-02,  -1.18341671e-02,  -2.37919872e-02,\n",
       "        -2.97965768e-02,  -1.54749316e-02,  -2.27267182e-02,\n",
       "        -3.78335180e-02,  -2.38366910e-02,  -2.92567854e-02,\n",
       "        -2.62971888e-02,  -2.46007582e-02,  -3.66212890e-02,\n",
       "        -2.99117145e-02,  -1.99117071e-02,  -5.40696721e-02,\n",
       "        -5.58976877e-02,  -5.71139236e-02,  -3.69458488e-02,\n",
       "        -6.08969457e-02,  -6.76581506e-02,  -5.66979881e-02,\n",
       "        -4.62766112e-02,  -5.45887029e-02,  -4.80268106e-02,\n",
       "        -4.48199160e-02,  -3.60987782e-02,  -3.23771607e-02,\n",
       "        -5.04490797e-02,  -8.65064992e-02,  -5.58201384e-02,\n",
       "        -2.44974168e-02,  -3.70767564e-02,  -3.37910263e-02,\n",
       "        -5.07605598e-02,  -3.08443278e-02,  -1.73146652e-02,\n",
       "        -1.39311307e-02,  -2.53039373e-02,  -1.63932457e-02,\n",
       "        -1.62832708e-02,  -2.02648461e-02,  -1.15424322e-02,\n",
       "        -5.79642744e-03,  -3.60206016e-03,   3.24266003e-04,\n",
       "        -2.21734805e-03,   5.99128813e-03,  -4.96123768e-03,\n",
       "         4.08519670e-03,   2.20007094e-01,   6.24239787e-01,\n",
       "         9.49442603e-01,   4.52449598e-01,   2.55126357e-01,\n",
       "         5.45960197e-01,   2.46702275e-01,   1.07594155e-01,\n",
       "         1.16035029e-01,   3.03101418e-02,   2.49356524e-02,\n",
       "         1.54849787e-02,   1.27915520e-03,   2.15372295e-03,\n",
       "        -7.34368110e-03,  -4.72197207e-03,  -7.84034372e-03,\n",
       "        -1.08875787e-04,   6.87410879e-03,   7.38109942e-03,\n",
       "         2.13450582e-02,   9.56657338e-03,   2.39875704e-02,\n",
       "         1.77527433e-02,   1.62965605e-02,   2.15601657e-02,\n",
       "         2.18264686e-02,   2.37240949e-02,   3.29323949e-02,\n",
       "         3.41450761e-02,   6.35468924e-02,   4.18574565e-02,\n",
       "         7.52091642e-02,   6.98039749e-02,   3.34577243e-02,\n",
       "         4.99084639e-02,   8.63636658e-02,   5.32538175e-02,\n",
       "         1.07344226e-01,   4.16949028e-02,   7.47241241e-02,\n",
       "         7.21155122e-02,   1.73145555e-01,   6.81711787e-02,\n",
       "         1.17074054e-01,   7.79356903e-02,   1.05401141e-01,\n",
       "         1.22647232e-01,   1.23666464e-01,   8.83805351e-02,\n",
       "         1.16397191e-01,   9.74376105e-02,   8.97297627e-02,\n",
       "         1.56078488e-01,   1.03820329e-01,   1.27889149e-01,\n",
       "         1.69538496e-01,   1.06522227e-01,   9.77401057e-02,\n",
       "         2.03403362e-01,   2.01633034e-01,   1.94239916e-01,\n",
       "         9.80466226e-02,   2.07161478e-01,   2.03257960e-01,\n",
       "         1.62233932e-01,   1.34498409e-01,   1.66883800e-01,\n",
       "         1.36874506e-01,   1.28718198e-01,   9.70224730e-02,\n",
       "         8.90780689e-02,   1.48017412e-01,   2.21603003e-01,\n",
       "         1.59130523e-01,   6.33973937e-02,   1.12330673e-01,\n",
       "         8.89730419e-02,   1.21289714e-01,   7.66528426e-02,\n",
       "         5.19418494e-02,   4.05473973e-02,   8.25738997e-02,\n",
       "         4.23699405e-02,   4.46460894e-02,   5.68747917e-02,\n",
       "         3.48729768e-02,   2.53834524e-02,   2.15425919e-02,\n",
       "         1.01130901e-02,   6.34538753e-03,   2.01198523e-03,\n",
       "         7.82164430e-04,   6.41665826e-04,   4.63740145e-02,\n",
       "        -1.94058278e-01,   1.05481741e-01,   1.67637658e-01,\n",
       "         5.24889930e-02,  -9.01611421e-02,  -7.78892221e-02,\n",
       "         6.52509644e-02,   2.56291663e-01,   2.55240722e-01,\n",
       "         2.54380782e-01,   3.00623661e-01,   1.30224791e-01,\n",
       "         4.64134966e-02,  -7.86693667e-04,  -7.10234354e-02,\n",
       "        -1.31111546e-01,  -2.53278465e-01,  -1.73660737e-01,\n",
       "        -4.34584957e-02,   3.32527018e-02,   9.21770861e-02,\n",
       "         2.14012978e-01,   1.27219790e-01,   1.68975455e-01,\n",
       "         1.92095531e-01,   1.97170614e-01,   1.98229892e-01,\n",
       "         1.91723113e-01,   1.88097050e-01,   3.01717893e-01,\n",
       "         1.02638348e-01,   1.74009872e-01,   3.13911311e-02,\n",
       "        -1.03193716e-02,  -3.01348580e-02,  -7.52810285e-02,\n",
       "        -5.46516385e-02,  -1.36299629e-01,  -5.48975024e-02,\n",
       "        -8.23732367e-02,  -3.76922482e-02,  -1.71681998e-02,\n",
       "         4.52705686e-02,   9.90527153e-02,   6.07702849e-02,\n",
       "         1.30965874e-01,   1.39109712e-01,   1.46396510e-01,\n",
       "         1.01844700e-01,   1.48929025e-01,   9.29041004e-02,\n",
       "         9.21266309e-02,   1.54777619e-01,   7.43548779e-02,\n",
       "         1.15820216e-01,   1.11756518e-01,   5.21579104e-02,\n",
       "         5.66515148e-02,   9.70160857e-02,   8.24230588e-02,\n",
       "         7.35603944e-02,   2.82715976e-02,   5.07919213e-02,\n",
       "         1.82249882e-02,  -1.68116528e-02,  -3.52319738e-02,\n",
       "        -6.33903305e-02,  -6.89893161e-02,  -7.70512648e-02,\n",
       "        -5.09055431e-02,  -5.33241836e-02,  -7.52314959e-02,\n",
       "        -2.67395796e-02,   1.74126572e-01,   1.81399671e-01,\n",
       "         3.29389697e-01,   2.38639648e-01,   4.04497594e-01,\n",
       "         3.22511214e-01,   1.20027121e-01,   5.63387754e-02,\n",
       "         5.93663792e-03,  -1.39570652e-01,  -2.14299999e-01,\n",
       "        -4.32960827e-01,  -4.90685469e-01,  -3.26454633e-01,\n",
       "        -9.79402587e-02,   1.50957505e-01,   2.39297155e-01,\n",
       "         1.89200912e-01,   7.85265743e-02,   3.97931700e-02,\n",
       "        -1.93905214e-01,   1.89469473e-01,  -1.83993465e-02,\n",
       "        -4.40438741e-02,  -8.57314777e-03,   9.21650011e-02,\n",
       "         1.37462136e-02,  -2.76356515e-02,  -3.76720976e-02,\n",
       "        -1.09910185e-01,  -1.25046538e-01,  -1.83553847e-01,\n",
       "        -6.74103500e-02,  -3.06099880e-03,   3.73963753e-03,\n",
       "         5.14184962e-02,   6.18429716e-02,   1.44600997e-01,\n",
       "         6.23780162e-02,   2.27524495e-02,  -7.97985033e-02,\n",
       "        -1.42457499e-01,  -1.73846694e-01,  -1.00433649e-01,\n",
       "        -5.82936839e-02,  -2.68681042e-02,  -6.12257094e-02,\n",
       "        -5.09807276e-02,  -3.69785867e-02,  -1.98615925e-02,\n",
       "         6.68222665e-04,   3.20841388e-02,   4.92522713e-02,\n",
       "         4.06108575e-02,  -1.41468518e-02,  -7.25792347e-03,\n",
       "        -2.89370954e-02,  -2.88328479e-02,  -1.35897289e-02,\n",
       "         1.39833967e-02,   3.76972801e-02,   6.65691136e-02,\n",
       "         1.14950956e-01,   1.55424812e-01,   1.20627396e-01,\n",
       "         1.09554371e-01,   7.20246742e-02,   6.70895502e-02,\n",
       "         4.00723591e-02,   1.38881333e-02,   3.66932344e-03,\n",
       "        -9.81553209e-03,  -1.58316122e-02,  -3.26884013e-02,\n",
       "        -3.53405066e-02,  -4.87314257e-02,  -6.09701055e-02,\n",
       "        -4.70268523e-02,  -4.90944881e-02,  -7.18593363e-02,\n",
       "        -8.55026967e-02,  -7.40727254e-02,  -3.63273163e-02,\n",
       "        -5.36979516e-02,  -2.82388084e-02,   1.35313677e-03,\n",
       "         1.79462402e-02,   4.12946672e-02,   5.04939225e-02,\n",
       "         6.58171172e-02,   4.99961417e-02,   5.60390645e-02,\n",
       "         1.07146943e-01,   1.84400970e-01,   2.21417309e-01,\n",
       "         6.62613429e-02,   1.52360121e-01,   1.08563825e-01,\n",
       "         1.77512183e-01,   1.39279933e-01,   9.12808722e-02,\n",
       "         6.40694660e-02,   1.23185236e-01,   6.08915842e-02,\n",
       "         8.64127312e-02,   1.16400582e-01,   8.58759800e-02,\n",
       "         6.25491408e-02,   6.10766587e-02,   4.11788730e-02,\n",
       "         2.06638846e-02,   1.26065429e-02,   2.95062914e-03,\n",
       "         2.90401923e-03,  -6.84387844e-01])"
      ]
     },
     "execution_count": 12,
     "metadata": {},
     "output_type": "execute_result"
    }
   ],
   "source": [
    "m.optimize(maxiter=5000) # start near MAP"
   ]
  },
  {
   "cell_type": "code",
   "execution_count": 13,
   "metadata": {
    "scrolled": false
   },
   "outputs": [
    {
     "data": {
      "text/html": [
       "<table id='params' width=100%><tr><td>Name</td><td>values</td><td>prior</td><td>constraint</td></tr><tr><td>adaptive_gp.V1</td><td>[[ -1.96671199e-01]</br> [ -3.90391104e-01]</br> [ -2.59988126e-01]</br> [ -4.03573957e-01]</br> [ -3.41568430e-01]</br> [ -3.51713486e-01]</br> [ -7.00774625e-02]</br> [ -1.86378268e-01]</br> [ -1.87990650e-01]</br> [ -8.19807975e-02]</br> [ -3.77698333e-02]</br> [  1.96478165e-02]</br> [ -1.15499009e-02]</br> [  1.44171197e-02]</br> [  2.04511874e-02]</br> [  8.80213729e-03]</br> [  5.36134873e-02]</br> [  1.10210456e-01]</br> [  3.20588545e-02]</br> [  6.12209410e-02]</br> [  7.15284492e-02]</br> [  7.16650633e-02]</br> [  6.79347047e-02]</br> [  4.55130278e-02]</br> [  1.40662443e-02]</br> [  6.17274545e-02]</br> [  3.44910790e-02]</br> [  3.73605823e-02]</br> [  2.44517096e-02]</br> [  2.36125630e-02]</br> [  5.61053383e-02]</br> [  2.60870552e-02]</br> [  3.39479919e-02]</br> [  3.03725024e-02]</br> [  1.97011133e-02]</br> [  1.17798883e-02]</br> [  1.65982962e-02]</br> [  9.33449625e-03]</br> [  1.37245741e-02]</br> [ -1.08283569e-02]</br> [ -2.28751937e-03]</br> [  6.85585232e-03]</br> [ -8.60140351e-03]</br> [ -6.98098180e-03]</br> [ -1.82441772e-02]</br> [ -1.20604239e-02]</br> [ -1.18341671e-02]</br> [ -2.37919872e-02]</br> [ -2.97965768e-02]</br> [ -1.54749316e-02]</br> [ -2.27267182e-02]</br> [ -3.78335180e-02]</br> [ -2.38366910e-02]</br> [ -2.92567854e-02]</br> [ -2.62971888e-02]</br> [ -2.46007582e-02]</br> [ -3.66212890e-02]</br> [ -2.99117145e-02]</br> [ -1.99117071e-02]</br> [ -5.40696721e-02]</br> [ -5.58976877e-02]</br> [ -5.71139236e-02]</br> [ -3.69458488e-02]</br> [ -6.08969457e-02]</br> [ -6.76581506e-02]</br> [ -5.66979881e-02]</br> [ -4.62766112e-02]</br> [ -5.45887029e-02]</br> [ -4.80268106e-02]</br> [ -4.48199160e-02]</br> [ -3.60987782e-02]</br> [ -3.23771607e-02]</br> [ -5.04490797e-02]</br> [ -8.65064992e-02]</br> [ -5.58201384e-02]</br> [ -2.44974168e-02]</br> [ -3.70767564e-02]</br> [ -3.37910263e-02]</br> [ -5.07605598e-02]</br> [ -3.08443278e-02]</br> [ -1.73146652e-02]</br> [ -1.39311307e-02]</br> [ -2.53039373e-02]</br> [ -1.63932457e-02]</br> [ -1.62832708e-02]</br> [ -2.02648461e-02]</br> [ -1.15424322e-02]</br> [ -5.79642744e-03]</br> [ -3.60206016e-03]</br> [  3.24266003e-04]</br> [ -2.21734805e-03]</br> [  5.99128813e-03]</br> [ -4.96123768e-03]</br> [  4.08519670e-03]]</td><td>N([ 0.],[ 1.])</td><td>(none)</td></tr><tr><td>adaptive_gp.V2</td><td>[[  2.20007094e-01]</br> [  6.24239787e-01]</br> [  9.49442603e-01]</br> [  4.52449598e-01]</br> [  2.55126357e-01]</br> [  5.45960197e-01]</br> [  2.46702275e-01]</br> [  1.07594155e-01]</br> [  1.16035029e-01]</br> [  3.03101418e-02]</br> [  2.49356524e-02]</br> [  1.54849787e-02]</br> [  1.27915520e-03]</br> [  2.15372295e-03]</br> [ -7.34368110e-03]</br> [ -4.72197207e-03]</br> [ -7.84034372e-03]</br> [ -1.08875787e-04]</br> [  6.87410879e-03]</br> [  7.38109942e-03]</br> [  2.13450582e-02]</br> [  9.56657338e-03]</br> [  2.39875704e-02]</br> [  1.77527433e-02]</br> [  1.62965605e-02]</br> [  2.15601657e-02]</br> [  2.18264686e-02]</br> [  2.37240949e-02]</br> [  3.29323949e-02]</br> [  3.41450761e-02]</br> [  6.35468924e-02]</br> [  4.18574565e-02]</br> [  7.52091642e-02]</br> [  6.98039749e-02]</br> [  3.34577243e-02]</br> [  4.99084639e-02]</br> [  8.63636658e-02]</br> [  5.32538175e-02]</br> [  1.07344226e-01]</br> [  4.16949028e-02]</br> [  7.47241241e-02]</br> [  7.21155122e-02]</br> [  1.73145555e-01]</br> [  6.81711787e-02]</br> [  1.17074054e-01]</br> [  7.79356903e-02]</br> [  1.05401141e-01]</br> [  1.22647232e-01]</br> [  1.23666464e-01]</br> [  8.83805351e-02]</br> [  1.16397191e-01]</br> [  9.74376105e-02]</br> [  8.97297627e-02]</br> [  1.56078488e-01]</br> [  1.03820329e-01]</br> [  1.27889149e-01]</br> [  1.69538496e-01]</br> [  1.06522227e-01]</br> [  9.77401057e-02]</br> [  2.03403362e-01]</br> [  2.01633034e-01]</br> [  1.94239916e-01]</br> [  9.80466226e-02]</br> [  2.07161478e-01]</br> [  2.03257960e-01]</br> [  1.62233932e-01]</br> [  1.34498409e-01]</br> [  1.66883800e-01]</br> [  1.36874506e-01]</br> [  1.28718198e-01]</br> [  9.70224730e-02]</br> [  8.90780689e-02]</br> [  1.48017412e-01]</br> [  2.21603003e-01]</br> [  1.59130523e-01]</br> [  6.33973937e-02]</br> [  1.12330673e-01]</br> [  8.89730419e-02]</br> [  1.21289714e-01]</br> [  7.66528426e-02]</br> [  5.19418494e-02]</br> [  4.05473973e-02]</br> [  8.25738997e-02]</br> [  4.23699405e-02]</br> [  4.46460894e-02]</br> [  5.68747917e-02]</br> [  3.48729768e-02]</br> [  2.53834524e-02]</br> [  2.15425919e-02]</br> [  1.01130901e-02]</br> [  6.34538753e-03]</br> [  2.01198523e-03]</br> [  7.82164430e-04]</br> [  6.41665826e-04]]</td><td>N([ 0.],[ 1.])</td><td>(none)</td></tr><tr><td>adaptive_gp.V3</td><td>[[ 0.04637401]</br> [-0.19405828]</br> [ 0.10548174]</br> [ 0.16763766]</br> [ 0.05248899]</br> [-0.09016114]</br> [-0.07788922]</br> [ 0.06525096]</br> [ 0.25629166]</br> [ 0.25524072]</br> [ 0.25438078]</br> [ 0.30062366]</br> [ 0.13022479]</br> [ 0.0464135 ]</br> [-0.00078669]</br> [-0.07102344]</br> [-0.13111155]</br> [-0.25327847]</br> [-0.17366074]</br> [-0.0434585 ]</br> [ 0.0332527 ]</br> [ 0.09217709]</br> [ 0.21401298]</br> [ 0.12721979]</br> [ 0.16897546]</br> [ 0.19209553]</br> [ 0.19717061]</br> [ 0.19822989]</br> [ 0.19172311]</br> [ 0.18809705]</br> [ 0.30171789]</br> [ 0.10263835]</br> [ 0.17400987]</br> [ 0.03139113]</br> [-0.01031937]</br> [-0.03013486]</br> [-0.07528103]</br> [-0.05465164]</br> [-0.13629963]</br> [-0.0548975 ]</br> [-0.08237324]</br> [-0.03769225]</br> [-0.0171682 ]</br> [ 0.04527057]</br> [ 0.09905272]</br> [ 0.06077028]</br> [ 0.13096587]</br> [ 0.13910971]</br> [ 0.14639651]</br> [ 0.1018447 ]</br> [ 0.14892903]</br> [ 0.0929041 ]</br> [ 0.09212663]</br> [ 0.15477762]</br> [ 0.07435488]</br> [ 0.11582022]</br> [ 0.11175652]</br> [ 0.05215791]</br> [ 0.05665151]</br> [ 0.09701609]</br> [ 0.08242306]</br> [ 0.07356039]</br> [ 0.0282716 ]</br> [ 0.05079192]</br> [ 0.01822499]</br> [-0.01681165]</br> [-0.03523197]</br> [-0.06339033]</br> [-0.06898932]</br> [-0.07705126]</br> [-0.05090554]</br> [-0.05332418]</br> [-0.0752315 ]</br> [-0.02673958]</br> [ 0.17412657]</br> [ 0.18139967]</br> [ 0.3293897 ]</br> [ 0.23863965]</br> [ 0.40449759]</br> [ 0.32251121]</br> [ 0.12002712]</br> [ 0.05633878]</br> [ 0.00593664]</br> [-0.13957065]</br> [-0.2143    ]</br> [-0.43296083]</br> [-0.49068547]</br> [-0.32645463]</br> [-0.09794026]</br> [ 0.15095751]</br> [ 0.23929716]</br> [ 0.18920091]</br> [ 0.07852657]</br> [ 0.03979317]]</td><td>N([ 0.],[ 1.])</td><td>(none)</td></tr><tr><td>adaptive_gp.V4</td><td>[[-0.19390521]</br> [ 0.18946947]</br> [-0.01839935]</br> [-0.04404387]</br> [-0.00857315]</br> [ 0.092165  ]</br> [ 0.01374621]</br> [-0.02763565]</br> [-0.0376721 ]</br> [-0.10991018]</br> [-0.12504654]</br> [-0.18355385]</br> [-0.06741035]</br> [-0.003061  ]</br> [ 0.00373964]</br> [ 0.0514185 ]</br> [ 0.06184297]</br> [ 0.144601  ]</br> [ 0.06237802]</br> [ 0.02275245]</br> [-0.0797985 ]</br> [-0.1424575 ]</br> [-0.17384669]</br> [-0.10043365]</br> [-0.05829368]</br> [-0.0268681 ]</br> [-0.06122571]</br> [-0.05098073]</br> [-0.03697859]</br> [-0.01986159]</br> [ 0.00066822]</br> [ 0.03208414]</br> [ 0.04925227]</br> [ 0.04061086]</br> [-0.01414685]</br> [-0.00725792]</br> [-0.0289371 ]</br> [-0.02883285]</br> [-0.01358973]</br> [ 0.0139834 ]</br> [ 0.03769728]</br> [ 0.06656911]</br> [ 0.11495096]</br> [ 0.15542481]</br> [ 0.1206274 ]</br> [ 0.10955437]</br> [ 0.07202467]</br> [ 0.06708955]</br> [ 0.04007236]</br> [ 0.01388813]</br> [ 0.00366932]</br> [-0.00981553]</br> [-0.01583161]</br> [-0.0326884 ]</br> [-0.03534051]</br> [-0.04873143]</br> [-0.06097011]</br> [-0.04702685]</br> [-0.04909449]</br> [-0.07185934]</br> [-0.0855027 ]</br> [-0.07407273]</br> [-0.03632732]</br> [-0.05369795]</br> [-0.02823881]</br> [ 0.00135314]</br> [ 0.01794624]</br> [ 0.04129467]</br> [ 0.05049392]</br> [ 0.06581712]</br> [ 0.04999614]</br> [ 0.05603906]</br> [ 0.10714694]</br> [ 0.18440097]</br> [ 0.22141731]</br> [ 0.06626134]</br> [ 0.15236012]</br> [ 0.10856383]</br> [ 0.17751218]</br> [ 0.13927993]</br> [ 0.09128087]</br> [ 0.06406947]</br> [ 0.12318524]</br> [ 0.06089158]</br> [ 0.08641273]</br> [ 0.11640058]</br> [ 0.08587598]</br> [ 0.06254914]</br> [ 0.06107666]</br> [ 0.04117887]</br> [ 0.02066388]</br> [ 0.01260654]</br> [ 0.00295063]</br> [ 0.00290402]]</td><td>N([ 0.],[ 1.])</td><td>(none)</td></tr><tr><td>adaptive_gp.kern1.lengthscales</td><td>[ 1.]</td><td>Ga([ 1.],[ 1.])</td><td>[FIXED]</td></tr><tr><td>adaptive_gp.kern1.variance</td><td>[ 1.]</td><td>None</td><td>[FIXED]</td></tr><tr><td>adaptive_gp.kern2.lengthscales</td><td>[ 1.]</td><td>None</td><td>[FIXED]</td></tr><tr><td>adaptive_gp.kern2.variance</td><td>[ 40.]</td><td>None</td><td>[FIXED]</td></tr><tr><td>adaptive_gp.kern3.lengthscales</td><td>[ 0.40839442]</td><td>Ga([ 1.],[ 1.])</td><td>+ve</td></tr><tr><td>adaptive_gp.kern3.variance</td><td>[ 100.]</td><td>None</td><td>[FIXED]</td></tr></table>"
      ],
      "text/plain": [
       "<GPHetero.hetero_gpmc.GPMCAdaptive at 0x181d89fd10>"
      ]
     },
     "execution_count": 13,
     "metadata": {},
     "output_type": "execute_result"
    }
   ],
   "source": [
    "m"
   ]
  },
  {
   "cell_type": "code",
   "execution_count": 14,
   "metadata": {},
   "outputs": [
    {
     "name": "stdout",
     "output_type": "stream",
     "text": [
      "burn-in sampling started\n",
      "warning: numerical instability.                  Rejecting this proposal prematurely\n"
     ]
    },
    {
     "ename": "InvalidArgumentError",
     "evalue": "Input matrix is not invertible.\n\t [[Node: gradients_1/adaptive_gp.build_likelihood_1/Cholesky_3_grad/MatrixTriangularSolve = MatrixTriangularSolve[T=DT_DOUBLE, adjoint=false, lower=true, _device=\"/job:localhost/replica:0/task:0/device:CPU:0\"](adaptive_gp.build_likelihood_1/Cholesky_3, gradients_1/adaptive_gp.build_likelihood_1/Cholesky_3_grad/eye/MatrixDiag)]]\n\nCaused by op u'gradients_1/adaptive_gp.build_likelihood_1/Cholesky_3_grad/MatrixTriangularSolve', defined at:\n  File \"/Users/nimishawalgaonkar/anaconda2/lib/python2.7/runpy.py\", line 174, in _run_module_as_main\n    \"__main__\", fname, loader, pkg_name)\n  File \"/Users/nimishawalgaonkar/anaconda2/lib/python2.7/runpy.py\", line 72, in _run_code\n    exec code in run_globals\n  File \"/Users/nimishawalgaonkar/anaconda2/lib/python2.7/site-packages/ipykernel/__main__.py\", line 3, in <module>\n    app.launch_new_instance()\n  File \"/Users/nimishawalgaonkar/anaconda2/lib/python2.7/site-packages/traitlets/config/application.py\", line 658, in launch_instance\n    app.start()\n  File \"/Users/nimishawalgaonkar/anaconda2/lib/python2.7/site-packages/ipykernel/kernelapp.py\", line 477, in start\n    ioloop.IOLoop.instance().start()\n  File \"/Users/nimishawalgaonkar/anaconda2/lib/python2.7/site-packages/zmq/eventloop/ioloop.py\", line 177, in start\n    super(ZMQIOLoop, self).start()\n  File \"/Users/nimishawalgaonkar/anaconda2/lib/python2.7/site-packages/tornado/ioloop.py\", line 888, in start\n    handler_func(fd_obj, events)\n  File \"/Users/nimishawalgaonkar/anaconda2/lib/python2.7/site-packages/tornado/stack_context.py\", line 277, in null_wrapper\n    return fn(*args, **kwargs)\n  File \"/Users/nimishawalgaonkar/anaconda2/lib/python2.7/site-packages/zmq/eventloop/zmqstream.py\", line 440, in _handle_events\n    self._handle_recv()\n  File \"/Users/nimishawalgaonkar/anaconda2/lib/python2.7/site-packages/zmq/eventloop/zmqstream.py\", line 472, in _handle_recv\n    self._run_callback(callback, msg)\n  File \"/Users/nimishawalgaonkar/anaconda2/lib/python2.7/site-packages/zmq/eventloop/zmqstream.py\", line 414, in _run_callback\n    callback(*args, **kwargs)\n  File \"/Users/nimishawalgaonkar/anaconda2/lib/python2.7/site-packages/tornado/stack_context.py\", line 277, in null_wrapper\n    return fn(*args, **kwargs)\n  File \"/Users/nimishawalgaonkar/anaconda2/lib/python2.7/site-packages/ipykernel/kernelbase.py\", line 283, in dispatcher\n    return self.dispatch_shell(stream, msg)\n  File \"/Users/nimishawalgaonkar/anaconda2/lib/python2.7/site-packages/ipykernel/kernelbase.py\", line 235, in dispatch_shell\n    handler(stream, idents, msg)\n  File \"/Users/nimishawalgaonkar/anaconda2/lib/python2.7/site-packages/ipykernel/kernelbase.py\", line 399, in execute_request\n    user_expressions, allow_stdin)\n  File \"/Users/nimishawalgaonkar/anaconda2/lib/python2.7/site-packages/ipykernel/ipkernel.py\", line 196, in do_execute\n    res = shell.run_cell(code, store_history=store_history, silent=silent)\n  File \"/Users/nimishawalgaonkar/anaconda2/lib/python2.7/site-packages/ipykernel/zmqshell.py\", line 533, in run_cell\n    return super(ZMQInteractiveShell, self).run_cell(*args, **kwargs)\n  File \"/Users/nimishawalgaonkar/anaconda2/lib/python2.7/site-packages/IPython/core/interactiveshell.py\", line 2718, in run_cell\n    interactivity=interactivity, compiler=compiler, result=result)\n  File \"/Users/nimishawalgaonkar/anaconda2/lib/python2.7/site-packages/IPython/core/interactiveshell.py\", line 2828, in run_ast_nodes\n    if self.run_code(code, result):\n  File \"/Users/nimishawalgaonkar/anaconda2/lib/python2.7/site-packages/IPython/core/interactiveshell.py\", line 2882, in run_code\n    exec(code_obj, self.user_global_ns, self.user_ns)\n  File \"<ipython-input-12-ea490ca2448d>\", line 1, in <module>\n    m.optimize(maxiter=5000) # start near MAP\n  File \"/Users/nimishawalgaonkar/anaconda2/lib/python2.7/site-packages/gpflow-0.4.0-py2.7.egg/gpflow/model.py\", line 250, in optimize\n    return self._optimize_np(method, tol, callback, maxiter, **kw)\n  File \"/Users/nimishawalgaonkar/anaconda2/lib/python2.7/site-packages/gpflow-0.4.0-py2.7.egg/gpflow/model.py\", line 311, in _optimize_np\n    self.compile()\n  File \"../GPHetero/hetero_gpmc.py\", line 270, in compile\n    optimizer=optimizer)\n  File \"/Users/nimishawalgaonkar/anaconda2/lib/python2.7/site-packages/gpflow-0.4.0-py2.7.egg/gpflow/model.py\", line 157, in compile\n    g = tf.gradients(f, self._free_vars)[0]\n  File \"/Users/nimishawalgaonkar/anaconda2/lib/python2.7/site-packages/tensorflow/python/ops/gradients_impl.py\", line 488, in gradients\n    gate_gradients, aggregation_method, stop_gradients)\n  File \"/Users/nimishawalgaonkar/anaconda2/lib/python2.7/site-packages/tensorflow/python/ops/gradients_impl.py\", line 625, in _GradientsHelper\n    lambda: grad_fn(op, *out_grads))\n  File \"/Users/nimishawalgaonkar/anaconda2/lib/python2.7/site-packages/tensorflow/python/ops/gradients_impl.py\", line 379, in _MaybeCompile\n    return grad_fn()  # Exit early\n  File \"/Users/nimishawalgaonkar/anaconda2/lib/python2.7/site-packages/tensorflow/python/ops/gradients_impl.py\", line 625, in <lambda>\n    lambda: grad_fn(op, *out_grads))\n  File \"/Users/nimishawalgaonkar/anaconda2/lib/python2.7/site-packages/tensorflow/python/ops/linalg_grad.py\", line 70, in _CholeskyGrad\n    dtype=l.dtype))\n  File \"/Users/nimishawalgaonkar/anaconda2/lib/python2.7/site-packages/tensorflow/python/ops/gen_linalg_ops.py\", line 1398, in matrix_triangular_solve\n    adjoint=adjoint, name=name)\n  File \"/Users/nimishawalgaonkar/anaconda2/lib/python2.7/site-packages/tensorflow/python/framework/op_def_library.py\", line 787, in _apply_op_helper\n    op_def=op_def)\n  File \"/Users/nimishawalgaonkar/anaconda2/lib/python2.7/site-packages/tensorflow/python/framework/ops.py\", line 3290, in create_op\n    op_def=op_def)\n  File \"/Users/nimishawalgaonkar/anaconda2/lib/python2.7/site-packages/tensorflow/python/framework/ops.py\", line 1654, in __init__\n    self._traceback = self._graph._extract_stack()  # pylint: disable=protected-access\n\n...which was originally created as op u'adaptive_gp.build_likelihood_1/Cholesky_3', defined at:\n  File \"/Users/nimishawalgaonkar/anaconda2/lib/python2.7/runpy.py\", line 174, in _run_module_as_main\n    \"__main__\", fname, loader, pkg_name)\n[elided 22 identical lines from previous traceback]\n  File \"../GPHetero/hetero_gpmc.py\", line 270, in compile\n    optimizer=optimizer)\n  File \"/Users/nimishawalgaonkar/anaconda2/lib/python2.7/site-packages/gpflow-0.4.0-py2.7.egg/gpflow/model.py\", line 156, in compile\n    f = self.build_likelihood() + self.build_prior()\n  File \"/Users/nimishawalgaonkar/anaconda2/lib/python2.7/site-packages/gpflow-0.4.0-py2.7.egg/gpflow/scoping.py\", line 43, in runnable\n    return f(*args, **kwargs)\n  File \"../GPHetero/hetero_gpmc.py\", line 301, in build_likelihood\n    Lnonstat = tf.cholesky(Knonstat + tf.eye(tf.shape(self.X)[0], dtype=float_type)*settings.numerics.jitter_level)\n  File \"/Users/nimishawalgaonkar/anaconda2/lib/python2.7/site-packages/tensorflow/python/ops/gen_linalg_ops.py\", line 704, in cholesky\n    \"Cholesky\", input=input, name=name)\n  File \"/Users/nimishawalgaonkar/anaconda2/lib/python2.7/site-packages/tensorflow/python/framework/op_def_library.py\", line 787, in _apply_op_helper\n    op_def=op_def)\n  File \"/Users/nimishawalgaonkar/anaconda2/lib/python2.7/site-packages/tensorflow/python/framework/ops.py\", line 3290, in create_op\n    op_def=op_def)\n  File \"/Users/nimishawalgaonkar/anaconda2/lib/python2.7/site-packages/tensorflow/python/framework/ops.py\", line 1654, in __init__\n    self._traceback = self._graph._extract_stack()  # pylint: disable=protected-access\n\nInvalidArgumentError (see above for traceback): Input matrix is not invertible.\n\t [[Node: gradients_1/adaptive_gp.build_likelihood_1/Cholesky_3_grad/MatrixTriangularSolve = MatrixTriangularSolve[T=DT_DOUBLE, adjoint=false, lower=true, _device=\"/job:localhost/replica:0/task:0/device:CPU:0\"](adaptive_gp.build_likelihood_1/Cholesky_3, gradients_1/adaptive_gp.build_likelihood_1/Cholesky_3_grad/eye/MatrixDiag)]]\n",
     "output_type": "error",
     "traceback": [
      "\u001b[0;31m---------------------------------------------------------------------------\u001b[0m",
      "\u001b[0;31mInvalidArgumentError\u001b[0m                      Traceback (most recent call last)",
      "\u001b[0;32m<ipython-input-14-4c4de83016d4>\u001b[0m in \u001b[0;36m<module>\u001b[0;34m()\u001b[0m\n\u001b[0;32m----> 1\u001b[0;31m \u001b[0msamples\u001b[0m \u001b[0;34m=\u001b[0m \u001b[0mm\u001b[0m\u001b[0;34m.\u001b[0m\u001b[0msample\u001b[0m\u001b[0;34m(\u001b[0m\u001b[0;36m1000\u001b[0m\u001b[0;34m,\u001b[0m \u001b[0mverbose\u001b[0m\u001b[0;34m=\u001b[0m\u001b[0mTrue\u001b[0m\u001b[0;34m,\u001b[0m \u001b[0mepsilon\u001b[0m\u001b[0;34m=\u001b[0m\u001b[0;36m0.05\u001b[0m\u001b[0;34m,\u001b[0m \u001b[0mthin\u001b[0m \u001b[0;34m=\u001b[0m \u001b[0;36m2\u001b[0m\u001b[0;34m,\u001b[0m \u001b[0mburn\u001b[0m \u001b[0;34m=\u001b[0m \u001b[0;36m500\u001b[0m\u001b[0;34m,\u001b[0m \u001b[0mLmax\u001b[0m \u001b[0;34m=\u001b[0m \u001b[0;36m40\u001b[0m\u001b[0;34m)\u001b[0m\u001b[0;34m\u001b[0m\u001b[0m\n\u001b[0m",
      "\u001b[0;32m/Users/nimishawalgaonkar/anaconda2/lib/python2.7/site-packages/gpflow-0.4.0-py2.7.egg/gpflow/model.pyc\u001b[0m in \u001b[0;36msample\u001b[0;34m(self, num_samples, Lmin, Lmax, epsilon, thin, burn, verbose, return_logprobs, RNG)\u001b[0m\n\u001b[1;32m    217\u001b[0m                               \u001b[0mLmin\u001b[0m\u001b[0;34m=\u001b[0m\u001b[0mLmin\u001b[0m\u001b[0;34m,\u001b[0m \u001b[0mLmax\u001b[0m\u001b[0;34m=\u001b[0m\u001b[0mLmax\u001b[0m\u001b[0;34m,\u001b[0m \u001b[0mepsilon\u001b[0m\u001b[0;34m=\u001b[0m\u001b[0mepsilon\u001b[0m\u001b[0;34m,\u001b[0m \u001b[0mthin\u001b[0m\u001b[0;34m=\u001b[0m\u001b[0mthin\u001b[0m\u001b[0;34m,\u001b[0m \u001b[0mburn\u001b[0m\u001b[0;34m=\u001b[0m\u001b[0mburn\u001b[0m\u001b[0;34m,\u001b[0m\u001b[0;34m\u001b[0m\u001b[0m\n\u001b[1;32m    218\u001b[0m                               \u001b[0mx0\u001b[0m\u001b[0;34m=\u001b[0m\u001b[0mself\u001b[0m\u001b[0;34m.\u001b[0m\u001b[0mget_free_state\u001b[0m\u001b[0;34m(\u001b[0m\u001b[0;34m)\u001b[0m\u001b[0;34m,\u001b[0m \u001b[0mverbose\u001b[0m\u001b[0;34m=\u001b[0m\u001b[0mverbose\u001b[0m\u001b[0;34m,\u001b[0m\u001b[0;34m\u001b[0m\u001b[0m\n\u001b[0;32m--> 219\u001b[0;31m                               return_logprobs=return_logprobs, RNG=RNG)\n\u001b[0m\u001b[1;32m    220\u001b[0m \u001b[0;34m\u001b[0m\u001b[0m\n\u001b[1;32m    221\u001b[0m     def optimize(self, method='L-BFGS-B', tol=None, callback=None,\n",
      "\u001b[0;32m/Users/nimishawalgaonkar/anaconda2/lib/python2.7/site-packages/gpflow-0.4.0-py2.7.egg/gpflow/hmc.pyc\u001b[0m in \u001b[0;36msample_HMC\u001b[0;34m(f, num_samples, Lmin, Lmax, epsilon, x0, verbose, thin, burn, RNG, return_logprobs)\u001b[0m\n\u001b[1;32m     61\u001b[0m         samples = sample_HMC(f, num_samples=burn, Lmin=Lmin, Lmax=Lmax,\n\u001b[1;32m     62\u001b[0m                              \u001b[0mepsilon\u001b[0m\u001b[0;34m=\u001b[0m\u001b[0mepsilon\u001b[0m\u001b[0;34m,\u001b[0m \u001b[0mx0\u001b[0m\u001b[0;34m=\u001b[0m\u001b[0mx0\u001b[0m\u001b[0;34m,\u001b[0m\u001b[0;34m\u001b[0m\u001b[0m\n\u001b[0;32m---> 63\u001b[0;31m                              verbose=verbose, thin=1, burn=0, RNG=RNG)\n\u001b[0m\u001b[1;32m     64\u001b[0m         \u001b[0;32mif\u001b[0m \u001b[0mverbose\u001b[0m\u001b[0;34m:\u001b[0m\u001b[0;34m\u001b[0m\u001b[0m\n\u001b[1;32m     65\u001b[0m             \u001b[0;32mprint\u001b[0m\u001b[0;34m(\u001b[0m\u001b[0;34m\"burn-in sampling ended\"\u001b[0m\u001b[0;34m)\u001b[0m\u001b[0;34m\u001b[0m\u001b[0m\n",
      "\u001b[0;32m/Users/nimishawalgaonkar/anaconda2/lib/python2.7/site-packages/gpflow-0.4.0-py2.7.egg/gpflow/hmc.pyc\u001b[0m in \u001b[0;36msample_HMC\u001b[0;34m(f, num_samples, Lmin, Lmax, epsilon, x0, verbose, thin, burn, RNG, return_logprobs)\u001b[0m\n\u001b[1;32m     94\u001b[0m         \u001b[0;32mfor\u001b[0m \u001b[0ml\u001b[0m \u001b[0;32min\u001b[0m \u001b[0mrange\u001b[0m\u001b[0;34m(\u001b[0m\u001b[0mRNG\u001b[0m\u001b[0;34m.\u001b[0m\u001b[0mrandint\u001b[0m\u001b[0;34m(\u001b[0m\u001b[0mLmin\u001b[0m\u001b[0;34m,\u001b[0m \u001b[0mLmax\u001b[0m\u001b[0;34m)\u001b[0m\u001b[0;34m)\u001b[0m\u001b[0;34m:\u001b[0m\u001b[0;34m\u001b[0m\u001b[0m\n\u001b[1;32m     95\u001b[0m             \u001b[0mx\u001b[0m \u001b[0;34m+=\u001b[0m \u001b[0mepsilon\u001b[0m \u001b[0;34m*\u001b[0m \u001b[0mp\u001b[0m\u001b[0;34m\u001b[0m\u001b[0m\n\u001b[0;32m---> 96\u001b[0;31m             \u001b[0mlogprob\u001b[0m\u001b[0;34m,\u001b[0m \u001b[0mgrad\u001b[0m \u001b[0;34m=\u001b[0m \u001b[0mf\u001b[0m\u001b[0;34m(\u001b[0m\u001b[0mx\u001b[0m\u001b[0;34m)\u001b[0m\u001b[0;34m\u001b[0m\u001b[0m\n\u001b[0m\u001b[1;32m     97\u001b[0m             \u001b[0mlogprob\u001b[0m\u001b[0;34m,\u001b[0m \u001b[0mgrad\u001b[0m \u001b[0;34m=\u001b[0m \u001b[0;34m-\u001b[0m\u001b[0mlogprob\u001b[0m\u001b[0;34m,\u001b[0m \u001b[0;34m-\u001b[0m\u001b[0mgrad\u001b[0m\u001b[0;34m\u001b[0m\u001b[0m\n\u001b[1;32m     98\u001b[0m             \u001b[0;32mif\u001b[0m \u001b[0mnp\u001b[0m\u001b[0;34m.\u001b[0m\u001b[0many\u001b[0m\u001b[0;34m(\u001b[0m\u001b[0mnp\u001b[0m\u001b[0;34m.\u001b[0m\u001b[0misnan\u001b[0m\u001b[0;34m(\u001b[0m\u001b[0mgrad\u001b[0m\u001b[0;34m)\u001b[0m\u001b[0;34m)\u001b[0m\u001b[0;34m:\u001b[0m  \u001b[0;31m# pragma: no cover\u001b[0m\u001b[0;34m\u001b[0m\u001b[0m\n",
      "\u001b[0;32m/Users/nimishawalgaonkar/anaconda2/lib/python2.7/site-packages/gpflow-0.4.0-py2.7.egg/gpflow/model.pyc\u001b[0m in \u001b[0;36mobj\u001b[0;34m(x)\u001b[0m\n\u001b[1;32m    185\u001b[0m             \u001b[0mself\u001b[0m\u001b[0;34m.\u001b[0m\u001b[0mupdate_feed_dict\u001b[0m\u001b[0;34m(\u001b[0m\u001b[0mself\u001b[0m\u001b[0;34m.\u001b[0m\u001b[0m_feed_dict_keys\u001b[0m\u001b[0;34m,\u001b[0m \u001b[0mfeed_dict\u001b[0m\u001b[0;34m)\u001b[0m\u001b[0;34m\u001b[0m\u001b[0m\n\u001b[1;32m    186\u001b[0m             f, g = self.session.run([self._minusF, self._minusG],\n\u001b[0;32m--> 187\u001b[0;31m                                      feed_dict=feed_dict)\n\u001b[0m\u001b[1;32m    188\u001b[0m             \u001b[0;32mreturn\u001b[0m \u001b[0mf\u001b[0m\u001b[0;34m.\u001b[0m\u001b[0mastype\u001b[0m\u001b[0;34m(\u001b[0m\u001b[0mnp\u001b[0m\u001b[0;34m.\u001b[0m\u001b[0mfloat64\u001b[0m\u001b[0;34m)\u001b[0m\u001b[0;34m,\u001b[0m \u001b[0mg\u001b[0m\u001b[0;34m.\u001b[0m\u001b[0mastype\u001b[0m\u001b[0;34m(\u001b[0m\u001b[0mnp\u001b[0m\u001b[0;34m.\u001b[0m\u001b[0mfloat64\u001b[0m\u001b[0;34m)\u001b[0m\u001b[0;34m\u001b[0m\u001b[0m\n\u001b[1;32m    189\u001b[0m \u001b[0;34m\u001b[0m\u001b[0m\n",
      "\u001b[0;32m/Users/nimishawalgaonkar/anaconda2/lib/python2.7/site-packages/tensorflow/python/client/session.pyc\u001b[0m in \u001b[0;36mrun\u001b[0;34m(self, fetches, feed_dict, options, run_metadata)\u001b[0m\n\u001b[1;32m    903\u001b[0m     \u001b[0;32mtry\u001b[0m\u001b[0;34m:\u001b[0m\u001b[0;34m\u001b[0m\u001b[0m\n\u001b[1;32m    904\u001b[0m       result = self._run(None, fetches, feed_dict, options_ptr,\n\u001b[0;32m--> 905\u001b[0;31m                          run_metadata_ptr)\n\u001b[0m\u001b[1;32m    906\u001b[0m       \u001b[0;32mif\u001b[0m \u001b[0mrun_metadata\u001b[0m\u001b[0;34m:\u001b[0m\u001b[0;34m\u001b[0m\u001b[0m\n\u001b[1;32m    907\u001b[0m         \u001b[0mproto_data\u001b[0m \u001b[0;34m=\u001b[0m \u001b[0mtf_session\u001b[0m\u001b[0;34m.\u001b[0m\u001b[0mTF_GetBuffer\u001b[0m\u001b[0;34m(\u001b[0m\u001b[0mrun_metadata_ptr\u001b[0m\u001b[0;34m)\u001b[0m\u001b[0;34m\u001b[0m\u001b[0m\n",
      "\u001b[0;32m/Users/nimishawalgaonkar/anaconda2/lib/python2.7/site-packages/tensorflow/python/client/session.pyc\u001b[0m in \u001b[0;36m_run\u001b[0;34m(self, handle, fetches, feed_dict, options, run_metadata)\u001b[0m\n\u001b[1;32m   1138\u001b[0m     \u001b[0;32mif\u001b[0m \u001b[0mfinal_fetches\u001b[0m \u001b[0;32mor\u001b[0m \u001b[0mfinal_targets\u001b[0m \u001b[0;32mor\u001b[0m \u001b[0;34m(\u001b[0m\u001b[0mhandle\u001b[0m \u001b[0;32mand\u001b[0m \u001b[0mfeed_dict_tensor\u001b[0m\u001b[0;34m)\u001b[0m\u001b[0;34m:\u001b[0m\u001b[0;34m\u001b[0m\u001b[0m\n\u001b[1;32m   1139\u001b[0m       results = self._do_run(handle, final_targets, final_fetches,\n\u001b[0;32m-> 1140\u001b[0;31m                              feed_dict_tensor, options, run_metadata)\n\u001b[0m\u001b[1;32m   1141\u001b[0m     \u001b[0;32melse\u001b[0m\u001b[0;34m:\u001b[0m\u001b[0;34m\u001b[0m\u001b[0m\n\u001b[1;32m   1142\u001b[0m       \u001b[0mresults\u001b[0m \u001b[0;34m=\u001b[0m \u001b[0;34m[\u001b[0m\u001b[0;34m]\u001b[0m\u001b[0;34m\u001b[0m\u001b[0m\n",
      "\u001b[0;32m/Users/nimishawalgaonkar/anaconda2/lib/python2.7/site-packages/tensorflow/python/client/session.pyc\u001b[0m in \u001b[0;36m_do_run\u001b[0;34m(self, handle, target_list, fetch_list, feed_dict, options, run_metadata)\u001b[0m\n\u001b[1;32m   1319\u001b[0m     \u001b[0;32mif\u001b[0m \u001b[0mhandle\u001b[0m \u001b[0;32mis\u001b[0m \u001b[0mNone\u001b[0m\u001b[0;34m:\u001b[0m\u001b[0;34m\u001b[0m\u001b[0m\n\u001b[1;32m   1320\u001b[0m       return self._do_call(_run_fn, feeds, fetches, targets, options,\n\u001b[0;32m-> 1321\u001b[0;31m                            run_metadata)\n\u001b[0m\u001b[1;32m   1322\u001b[0m     \u001b[0;32melse\u001b[0m\u001b[0;34m:\u001b[0m\u001b[0;34m\u001b[0m\u001b[0m\n\u001b[1;32m   1323\u001b[0m       \u001b[0;32mreturn\u001b[0m \u001b[0mself\u001b[0m\u001b[0;34m.\u001b[0m\u001b[0m_do_call\u001b[0m\u001b[0;34m(\u001b[0m\u001b[0m_prun_fn\u001b[0m\u001b[0;34m,\u001b[0m \u001b[0mhandle\u001b[0m\u001b[0;34m,\u001b[0m \u001b[0mfeeds\u001b[0m\u001b[0;34m,\u001b[0m \u001b[0mfetches\u001b[0m\u001b[0;34m)\u001b[0m\u001b[0;34m\u001b[0m\u001b[0m\n",
      "\u001b[0;32m/Users/nimishawalgaonkar/anaconda2/lib/python2.7/site-packages/tensorflow/python/client/session.pyc\u001b[0m in \u001b[0;36m_do_call\u001b[0;34m(self, fn, *args)\u001b[0m\n\u001b[1;32m   1338\u001b[0m         \u001b[0;32mexcept\u001b[0m \u001b[0mKeyError\u001b[0m\u001b[0;34m:\u001b[0m\u001b[0;34m\u001b[0m\u001b[0m\n\u001b[1;32m   1339\u001b[0m           \u001b[0;32mpass\u001b[0m\u001b[0;34m\u001b[0m\u001b[0m\n\u001b[0;32m-> 1340\u001b[0;31m       \u001b[0;32mraise\u001b[0m \u001b[0mtype\u001b[0m\u001b[0;34m(\u001b[0m\u001b[0me\u001b[0m\u001b[0;34m)\u001b[0m\u001b[0;34m(\u001b[0m\u001b[0mnode_def\u001b[0m\u001b[0;34m,\u001b[0m \u001b[0mop\u001b[0m\u001b[0;34m,\u001b[0m \u001b[0mmessage\u001b[0m\u001b[0;34m)\u001b[0m\u001b[0;34m\u001b[0m\u001b[0m\n\u001b[0m\u001b[1;32m   1341\u001b[0m \u001b[0;34m\u001b[0m\u001b[0m\n\u001b[1;32m   1342\u001b[0m   \u001b[0;32mdef\u001b[0m \u001b[0m_extend_graph\u001b[0m\u001b[0;34m(\u001b[0m\u001b[0mself\u001b[0m\u001b[0;34m)\u001b[0m\u001b[0;34m:\u001b[0m\u001b[0;34m\u001b[0m\u001b[0m\n",
      "\u001b[0;31mInvalidArgumentError\u001b[0m: Input matrix is not invertible.\n\t [[Node: gradients_1/adaptive_gp.build_likelihood_1/Cholesky_3_grad/MatrixTriangularSolve = MatrixTriangularSolve[T=DT_DOUBLE, adjoint=false, lower=true, _device=\"/job:localhost/replica:0/task:0/device:CPU:0\"](adaptive_gp.build_likelihood_1/Cholesky_3, gradients_1/adaptive_gp.build_likelihood_1/Cholesky_3_grad/eye/MatrixDiag)]]\n\nCaused by op u'gradients_1/adaptive_gp.build_likelihood_1/Cholesky_3_grad/MatrixTriangularSolve', defined at:\n  File \"/Users/nimishawalgaonkar/anaconda2/lib/python2.7/runpy.py\", line 174, in _run_module_as_main\n    \"__main__\", fname, loader, pkg_name)\n  File \"/Users/nimishawalgaonkar/anaconda2/lib/python2.7/runpy.py\", line 72, in _run_code\n    exec code in run_globals\n  File \"/Users/nimishawalgaonkar/anaconda2/lib/python2.7/site-packages/ipykernel/__main__.py\", line 3, in <module>\n    app.launch_new_instance()\n  File \"/Users/nimishawalgaonkar/anaconda2/lib/python2.7/site-packages/traitlets/config/application.py\", line 658, in launch_instance\n    app.start()\n  File \"/Users/nimishawalgaonkar/anaconda2/lib/python2.7/site-packages/ipykernel/kernelapp.py\", line 477, in start\n    ioloop.IOLoop.instance().start()\n  File \"/Users/nimishawalgaonkar/anaconda2/lib/python2.7/site-packages/zmq/eventloop/ioloop.py\", line 177, in start\n    super(ZMQIOLoop, self).start()\n  File \"/Users/nimishawalgaonkar/anaconda2/lib/python2.7/site-packages/tornado/ioloop.py\", line 888, in start\n    handler_func(fd_obj, events)\n  File \"/Users/nimishawalgaonkar/anaconda2/lib/python2.7/site-packages/tornado/stack_context.py\", line 277, in null_wrapper\n    return fn(*args, **kwargs)\n  File \"/Users/nimishawalgaonkar/anaconda2/lib/python2.7/site-packages/zmq/eventloop/zmqstream.py\", line 440, in _handle_events\n    self._handle_recv()\n  File \"/Users/nimishawalgaonkar/anaconda2/lib/python2.7/site-packages/zmq/eventloop/zmqstream.py\", line 472, in _handle_recv\n    self._run_callback(callback, msg)\n  File \"/Users/nimishawalgaonkar/anaconda2/lib/python2.7/site-packages/zmq/eventloop/zmqstream.py\", line 414, in _run_callback\n    callback(*args, **kwargs)\n  File \"/Users/nimishawalgaonkar/anaconda2/lib/python2.7/site-packages/tornado/stack_context.py\", line 277, in null_wrapper\n    return fn(*args, **kwargs)\n  File \"/Users/nimishawalgaonkar/anaconda2/lib/python2.7/site-packages/ipykernel/kernelbase.py\", line 283, in dispatcher\n    return self.dispatch_shell(stream, msg)\n  File \"/Users/nimishawalgaonkar/anaconda2/lib/python2.7/site-packages/ipykernel/kernelbase.py\", line 235, in dispatch_shell\n    handler(stream, idents, msg)\n  File \"/Users/nimishawalgaonkar/anaconda2/lib/python2.7/site-packages/ipykernel/kernelbase.py\", line 399, in execute_request\n    user_expressions, allow_stdin)\n  File \"/Users/nimishawalgaonkar/anaconda2/lib/python2.7/site-packages/ipykernel/ipkernel.py\", line 196, in do_execute\n    res = shell.run_cell(code, store_history=store_history, silent=silent)\n  File \"/Users/nimishawalgaonkar/anaconda2/lib/python2.7/site-packages/ipykernel/zmqshell.py\", line 533, in run_cell\n    return super(ZMQInteractiveShell, self).run_cell(*args, **kwargs)\n  File \"/Users/nimishawalgaonkar/anaconda2/lib/python2.7/site-packages/IPython/core/interactiveshell.py\", line 2718, in run_cell\n    interactivity=interactivity, compiler=compiler, result=result)\n  File \"/Users/nimishawalgaonkar/anaconda2/lib/python2.7/site-packages/IPython/core/interactiveshell.py\", line 2828, in run_ast_nodes\n    if self.run_code(code, result):\n  File \"/Users/nimishawalgaonkar/anaconda2/lib/python2.7/site-packages/IPython/core/interactiveshell.py\", line 2882, in run_code\n    exec(code_obj, self.user_global_ns, self.user_ns)\n  File \"<ipython-input-12-ea490ca2448d>\", line 1, in <module>\n    m.optimize(maxiter=5000) # start near MAP\n  File \"/Users/nimishawalgaonkar/anaconda2/lib/python2.7/site-packages/gpflow-0.4.0-py2.7.egg/gpflow/model.py\", line 250, in optimize\n    return self._optimize_np(method, tol, callback, maxiter, **kw)\n  File \"/Users/nimishawalgaonkar/anaconda2/lib/python2.7/site-packages/gpflow-0.4.0-py2.7.egg/gpflow/model.py\", line 311, in _optimize_np\n    self.compile()\n  File \"../GPHetero/hetero_gpmc.py\", line 270, in compile\n    optimizer=optimizer)\n  File \"/Users/nimishawalgaonkar/anaconda2/lib/python2.7/site-packages/gpflow-0.4.0-py2.7.egg/gpflow/model.py\", line 157, in compile\n    g = tf.gradients(f, self._free_vars)[0]\n  File \"/Users/nimishawalgaonkar/anaconda2/lib/python2.7/site-packages/tensorflow/python/ops/gradients_impl.py\", line 488, in gradients\n    gate_gradients, aggregation_method, stop_gradients)\n  File \"/Users/nimishawalgaonkar/anaconda2/lib/python2.7/site-packages/tensorflow/python/ops/gradients_impl.py\", line 625, in _GradientsHelper\n    lambda: grad_fn(op, *out_grads))\n  File \"/Users/nimishawalgaonkar/anaconda2/lib/python2.7/site-packages/tensorflow/python/ops/gradients_impl.py\", line 379, in _MaybeCompile\n    return grad_fn()  # Exit early\n  File \"/Users/nimishawalgaonkar/anaconda2/lib/python2.7/site-packages/tensorflow/python/ops/gradients_impl.py\", line 625, in <lambda>\n    lambda: grad_fn(op, *out_grads))\n  File \"/Users/nimishawalgaonkar/anaconda2/lib/python2.7/site-packages/tensorflow/python/ops/linalg_grad.py\", line 70, in _CholeskyGrad\n    dtype=l.dtype))\n  File \"/Users/nimishawalgaonkar/anaconda2/lib/python2.7/site-packages/tensorflow/python/ops/gen_linalg_ops.py\", line 1398, in matrix_triangular_solve\n    adjoint=adjoint, name=name)\n  File \"/Users/nimishawalgaonkar/anaconda2/lib/python2.7/site-packages/tensorflow/python/framework/op_def_library.py\", line 787, in _apply_op_helper\n    op_def=op_def)\n  File \"/Users/nimishawalgaonkar/anaconda2/lib/python2.7/site-packages/tensorflow/python/framework/ops.py\", line 3290, in create_op\n    op_def=op_def)\n  File \"/Users/nimishawalgaonkar/anaconda2/lib/python2.7/site-packages/tensorflow/python/framework/ops.py\", line 1654, in __init__\n    self._traceback = self._graph._extract_stack()  # pylint: disable=protected-access\n\n...which was originally created as op u'adaptive_gp.build_likelihood_1/Cholesky_3', defined at:\n  File \"/Users/nimishawalgaonkar/anaconda2/lib/python2.7/runpy.py\", line 174, in _run_module_as_main\n    \"__main__\", fname, loader, pkg_name)\n[elided 22 identical lines from previous traceback]\n  File \"../GPHetero/hetero_gpmc.py\", line 270, in compile\n    optimizer=optimizer)\n  File \"/Users/nimishawalgaonkar/anaconda2/lib/python2.7/site-packages/gpflow-0.4.0-py2.7.egg/gpflow/model.py\", line 156, in compile\n    f = self.build_likelihood() + self.build_prior()\n  File \"/Users/nimishawalgaonkar/anaconda2/lib/python2.7/site-packages/gpflow-0.4.0-py2.7.egg/gpflow/scoping.py\", line 43, in runnable\n    return f(*args, **kwargs)\n  File \"../GPHetero/hetero_gpmc.py\", line 301, in build_likelihood\n    Lnonstat = tf.cholesky(Knonstat + tf.eye(tf.shape(self.X)[0], dtype=float_type)*settings.numerics.jitter_level)\n  File \"/Users/nimishawalgaonkar/anaconda2/lib/python2.7/site-packages/tensorflow/python/ops/gen_linalg_ops.py\", line 704, in cholesky\n    \"Cholesky\", input=input, name=name)\n  File \"/Users/nimishawalgaonkar/anaconda2/lib/python2.7/site-packages/tensorflow/python/framework/op_def_library.py\", line 787, in _apply_op_helper\n    op_def=op_def)\n  File \"/Users/nimishawalgaonkar/anaconda2/lib/python2.7/site-packages/tensorflow/python/framework/ops.py\", line 3290, in create_op\n    op_def=op_def)\n  File \"/Users/nimishawalgaonkar/anaconda2/lib/python2.7/site-packages/tensorflow/python/framework/ops.py\", line 1654, in __init__\n    self._traceback = self._graph._extract_stack()  # pylint: disable=protected-access\n\nInvalidArgumentError (see above for traceback): Input matrix is not invertible.\n\t [[Node: gradients_1/adaptive_gp.build_likelihood_1/Cholesky_3_grad/MatrixTriangularSolve = MatrixTriangularSolve[T=DT_DOUBLE, adjoint=false, lower=true, _device=\"/job:localhost/replica:0/task:0/device:CPU:0\"](adaptive_gp.build_likelihood_1/Cholesky_3, gradients_1/adaptive_gp.build_likelihood_1/Cholesky_3_grad/eye/MatrixDiag)]]\n"
     ]
    }
   ],
   "source": [
    "samples = m.sample(1000, verbose=True, epsilon=0.05, thin = 2, burn = 500, Lmax = 40)"
   ]
  },
  {
   "cell_type": "code",
   "execution_count": 8,
   "metadata": {},
   "outputs": [
    {
     "data": {
      "text/html": [
       "<table id='params' width=100%><tr><td>Name</td><td>values</td><td>prior</td><td>constraint</td></tr><tr><td>adaptive_gp.V1</td><td>[[  2.97736415e-01]</br> [ -1.62250551e-02]</br> [ -4.04224631e-02]</br> [ -1.27935980e-01]</br> [ -1.67922475e-01]</br> [ -2.14019270e-01]</br> [ -9.11694004e-02]</br> [ -6.66172279e-02]</br> [ -9.69278703e-02]</br> [ -5.25892279e-02]</br> [ -9.47286186e-02]</br> [ -1.17725314e-01]</br> [ -7.49186138e-02]</br> [ -5.31901566e-02]</br> [ -7.27654054e-02]</br> [ -7.14011279e-02]</br> [ -6.58448806e-02]</br> [ -1.34499436e-01]</br> [ -6.59839084e-02]</br> [ -5.62653702e-02]</br> [ -1.12393753e-01]</br> [ -5.11098462e-02]</br> [ -8.45722512e-02]</br> [ -5.34712150e-02]</br> [ -5.28785740e-02]</br> [ -5.68944376e-02]</br> [ -6.16121836e-02]</br> [ -6.60921092e-02]</br> [ -6.97466179e-02]</br> [ -7.18185046e-02]</br> [ -1.32742181e-01]</br> [ -7.23450516e-02]</br> [ -1.14505278e-01]</br> [ -1.06384420e-01]</br> [ -6.70914374e-02]</br> [ -6.81552124e-02]</br> [ -1.18929677e-01]</br> [ -7.95044393e-02]</br> [ -1.20815962e-01]</br> [ -6.57516378e-02]</br> [ -8.70460296e-02]</br> [ -7.19881689e-02]</br> [ -1.30691584e-01]</br> [ -7.01655448e-02]</br> [ -7.97422049e-02]</br> [ -5.25469199e-02]</br> [ -6.94078924e-02]</br> [ -6.49825650e-02]</br> [ -6.00363523e-02]</br> [ -4.24711899e-02]</br> [ -5.17756666e-02]</br> [ -3.82849915e-02]</br> [ -3.59592690e-02]</br> [ -5.56808647e-02]</br> [ -3.48918880e-02]</br> [ -4.02248116e-02]</br> [ -4.67944792e-02]</br> [ -2.78556598e-02]</br> [ -2.42183556e-02]</br> [ -4.27296016e-02]</br> [ -3.71565392e-02]</br> [ -2.99645077e-02]</br> [ -1.44196978e-02]</br> [ -2.44813445e-02]</br> [ -2.08515225e-02]</br> [ -1.41072781e-02]</br> [ -1.00327437e-02]</br> [ -1.04454160e-02]</br> [ -7.48940314e-03]</br> [ -6.04005755e-03]</br> [ -4.18461518e-03]</br> [ -3.41037082e-03]</br> [ -4.41341297e-03]</br> [ -4.01167232e-03]</br> [  6.18385365e-04]</br> [  5.92523867e-04]</br> [  1.91675635e-03]</br> [  1.81004912e-03]</br> [  3.40931917e-03]</br> [  3.18419760e-03]</br> [  2.64539709e-03]</br> [  2.04806283e-03]</br> [  4.63075281e-03]</br> [  2.46827748e-03]</br> [  2.82243862e-03]</br> [  4.36566238e-03]</br> [  3.37068225e-03]</br> [  2.77578810e-03]</br> [  2.74834689e-03]</br> [  1.75477648e-03]</br> [  1.15999562e-03]</br> [  8.11855678e-04]</br> [  2.01714054e-04]</br> [  2.71913326e-04]]</td><td>N([ 0.],[ 1.])</td><td>(none)</td></tr><tr><td>adaptive_gp.V2</td><td>[[  3.26418566e-01]</br> [  1.20735924e-01]</br> [  7.11754724e-01]</br> [  1.06644103e+00]</br> [  7.70804193e-01]</br> [  1.23944502e+00]</br> [  1.08251913e+00]</br> [  8.04564872e-01]</br> [  1.21576075e+00]</br> [  4.61055618e-01]</br> [  6.05820780e-01]</br> [  7.12453948e-01]</br> [  4.47734116e-01]</br> [  3.20366188e-01]</br> [  4.04234067e-01]</br> [  3.92310590e-01]</br> [  3.35783354e-01]</br> [  5.04766995e-01]</br> [  1.62357510e-01]</br> [  1.24522276e-01]</br> [  2.37683161e-01]</br> [  1.11855941e-01]</br> [  1.38372206e-01]</br> [  8.08318879e-02]</br> [  6.64953941e-02]</br> [  6.22968615e-02]</br> [  5.97083381e-02]</br> [  5.78970821e-02]</br> [  5.67337014e-02]</br> [  5.42161486e-02]</br> [  9.09741456e-02]</br> [  4.64834678e-02]</br> [  6.87974412e-02]</br> [  5.47075480e-02]</br> [  3.13437440e-02]</br> [  2.84543009e-02]</br> [  4.74024917e-02]</br> [  2.94735130e-02]</br> [  4.60946825e-02]</br> [  2.24481376e-02]</br> [  2.66548783e-02]</br> [  2.11285393e-02]</br> [  4.57023447e-02]</br> [  1.62113056e-02]</br> [  2.50682136e-02]</br> [  1.59696008e-02]</br> [  1.93701341e-02]</br> [  1.97204487e-02]</br> [  1.81410470e-02]</br> [  1.22560647e-02]</br> [  1.45574874e-02]</br> [  1.18991109e-02]</br> [  1.01209144e-02]</br> [  1.54201977e-02]</br> [  9.83927006e-03]</br> [  1.06368680e-02]</br> [  1.24734763e-02]</br> [  7.41119939e-03]</br> [  6.02986841e-03]</br> [  1.08771279e-02]</br> [  8.66260671e-03]</br> [  6.27570618e-03]</br> [  2.82723247e-03]</br> [  4.22318103e-03]</br> [  2.88203920e-03]</br> [  1.38959274e-03]</br> [  6.69812254e-04]</br> [  2.62702107e-04]</br> [ -1.07737216e-04]</br> [ -4.15342764e-04]</br> [ -3.82380901e-04]</br> [ -4.56433992e-04]</br> [ -9.27292599e-04]</br> [ -1.70049682e-03]</br> [ -1.15460856e-03]</br> [ -4.60951532e-04]</br> [ -5.95916863e-04]</br> [ -3.77446641e-04]</br> [ -1.03801891e-04]</br> [  2.48326662e-04]</br> [  2.85952797e-04]</br> [  3.43348735e-04]</br> [  1.08935578e-03]</br> [  8.18225634e-04]</br> [  1.08238347e-03]</br> [  1.89619445e-03]</br> [  1.54529605e-03]</br> [  1.50134240e-03]</br> [  1.70883023e-03]</br> [  1.05402801e-03]</br> [  6.84880676e-04]</br> [  5.90727540e-04]</br> [  1.61098962e-04]</br> [  2.21790461e-04]]</td><td>N([ 0.],[ 1.])</td><td>(none)</td></tr><tr><td>adaptive_gp.V3</td><td>[[ 0.26431448]</br> [-0.82938421]</br> [ 0.19869005]</br> [ 0.53084144]</br> [ 0.49854699]</br> [ 0.69844447]</br> [ 0.87538085]</br> [ 0.3077099 ]</br> [ 0.50174288]</br> [ 0.29205912]</br> [ 0.24097671]</br> [ 0.35735086]</br> [ 0.28201754]</br> [ 0.1647604 ]</br> [ 0.15996297]</br> [ 0.0987616 ]</br> [ 0.12498369]</br> [ 0.32938652]</br> [ 0.22630423]</br> [ 0.15450825]</br> [ 0.28142535]</br> [ 0.14342879]</br> [ 0.33863054]</br> [ 0.18321153]</br> [ 0.1899043 ]</br> [ 0.20155388]</br> [ 0.20229043]</br> [ 0.20414536]</br> [ 0.20999968]</br> [ 0.21682655]</br> [ 0.43638647]</br> [ 0.20898167]</br> [ 0.44981505]</br> [ 0.35134943]</br> [ 0.20710912]</br> [ 0.2376608 ]</br> [ 0.40119937]</br> [ 0.19345326]</br> [ 0.43546292]</br> [ 0.18744093]</br> [ 0.32283276]</br> [ 0.21067526]</br> [ 0.4677487 ]</br> [ 0.20630087]</br> [ 0.50345743]</br> [ 0.21605429]</br> [ 0.29243388]</br> [ 0.28130758]</br> [ 0.29391446]</br> [ 0.21701078]</br> [ 0.32898713]</br> [ 0.22705145]</br> [ 0.20840262]</br> [ 0.34066568]</br> [ 0.16867066]</br> [ 0.24823145]</br> [ 0.31207539]</br> [ 0.15913772]</br> [ 0.15992417]</br> [ 0.3089477 ]</br> [ 0.2429934 ]</br> [ 0.2315028 ]</br> [ 0.09275344]</br> [ 0.19144568]</br> [ 0.1615249 ]</br> [ 0.15472351]</br> [ 0.12247791]</br> [ 0.14811388]</br> [ 0.12979879]</br> [ 0.16474891]</br> [ 0.13022124]</br> [ 0.13785321]</br> [ 0.25403218]</br> [ 0.41593914]</br> [ 0.54426148]</br> [ 0.17174192]</br> [ 0.40587843]</br> [ 0.27562081]</br> [ 0.40853003]</br> [ 0.29063214]</br> [ 0.16451402]</br> [ 0.11128173]</br> [ 0.19382894]</br> [ 0.11036084]</br> [ 0.10938731]</br> [ 0.14500352]</br> [ 0.22968696]</br> [ 0.24772659]</br> [ 0.33914973]</br> [ 0.3363197 ]</br> [ 0.24230782]</br> [ 0.15659263]</br> [ 0.0576685 ]</br> [ 0.04067857]]</td><td>N([ 0.],[ 1.])</td><td>(none)</td></tr><tr><td>adaptive_gp.V4</td><td>[[ -6.80312014e-01]</br> [  1.73763291e-02]</br> [ -1.59609338e-01]</br> [ -3.36687231e-01]</br> [ -3.96532452e-01]</br> [ -4.95989830e-01]</br> [ -2.33022729e-01]</br> [ -1.56197244e-01]</br> [ -2.84043645e-01]</br> [ -1.62628410e-01]</br> [ -2.45513904e-01]</br> [ -2.37465516e-01]</br> [ -1.08309538e-01]</br> [ -6.15195307e-02]</br> [ -5.05027586e-02]</br> [ -1.77702582e-02]</br> [  1.46062127e-02]</br> [  1.43518863e-01]</br> [  1.27220467e-01]</br> [  1.18792573e-01]</br> [  2.34757782e-01]</br> [  9.04591161e-02]</br> [  1.72354647e-01]</br> [  1.02100616e-01]</br> [  1.05010072e-01]</br> [  1.14971766e-01]</br> [  1.23213907e-01]</br> [  1.27295164e-01]</br> [  1.27617582e-01]</br> [  1.25793672e-01]</br> [  2.35862360e-01]</br> [  1.01435810e-01]</br> [  2.34235376e-01]</br> [  2.16451948e-01]</br> [  1.30012666e-01]</br> [  1.38304812e-01]</br> [  2.66908130e-01]</br> [  1.43114136e-01]</br> [  2.79318732e-01]</br> [  1.28625828e-01]</br> [  1.96960946e-01]</br> [  1.48137423e-01]</br> [  2.95264737e-01]</br> [  9.22701550e-02]</br> [  1.87858894e-01]</br> [  1.04472238e-01]</br> [  1.39567532e-01]</br> [  1.25336497e-01]</br> [  1.12827174e-01]</br> [  7.59703949e-02]</br> [  1.04362419e-01]</br> [  7.14343774e-02]</br> [  6.72042741e-02]</br> [  1.06786808e-01]</br> [  5.26047542e-02]</br> [  6.91022904e-02]</br> [  7.56981246e-02]</br> [  3.71224108e-02]</br> [  3.58463610e-02]</br> [  6.43938830e-02]</br> [  4.51998125e-02]</br> [  3.55437978e-02]</br> [  1.36391706e-02]</br> [  2.39907313e-02]</br> [  1.21898420e-02]</br> [  5.86591712e-03]</br> [  2.17968085e-03]</br> [ -5.35211189e-04]</br> [ -2.86303870e-03]</br> [ -3.79873336e-03]</br> [ -3.49722192e-03]</br> [ -3.47358401e-03]</br> [ -6.58835898e-03]</br> [ -1.24494441e-02]</br> [ -8.03835609e-03]</br> [ -3.57090469e-03]</br> [ -4.76186941e-03]</br> [ -3.71588712e-03]</br> [ -2.19597681e-03]</br> [  1.75565273e-03]</br> [  1.93321482e-03]</br> [  1.65650287e-03]</br> [  4.03875142e-03]</br> [  2.27363406e-03]</br> [  4.33195015e-03]</br> [  8.03084348e-03]</br> [  6.55083366e-03]</br> [  5.56514533e-03]</br> [  5.75859498e-03]</br> [  3.57454314e-03]</br> [  2.24823200e-03]</br> [  1.95035109e-03]</br> [  5.57612532e-04]</br> [  7.79082476e-04]]</td><td>N([ 0.],[ 1.])</td><td>(none)</td></tr><tr><td>adaptive_gp.kern1.lengthscales</td><td>[ 0.73046587]</td><td>Ga([ 1.],[ 1.])</td><td>+ve</td></tr><tr><td>adaptive_gp.kern1.variance</td><td>[ 0.695588]</td><td>Ga([ 1.],[ 1.])</td><td>+ve</td></tr><tr><td>adaptive_gp.kern2.lengthscales</td><td>[ 0.76022919]</td><td>Ga([ 1.],[ 1.])</td><td>+ve</td></tr><tr><td>adaptive_gp.kern2.variance</td><td>[ 3.52025108]</td><td>None</td><td>+ve</td></tr><tr><td>adaptive_gp.kern3.lengthscales</td><td>[ 0.44657661]</td><td>Ga([ 1.],[ 1.])</td><td>+ve</td></tr><tr><td>adaptive_gp.kern3.variance</td><td>[ 4.48135778]</td><td>Ga([ 1.],[ 1.])</td><td>+ve</td></tr></table>"
      ],
      "text/plain": [
       "<GPHetero.hetero_gpmc.GPMCAdaptive at 0x114a24350>"
      ]
     },
     "execution_count": 8,
     "metadata": {},
     "output_type": "execute_result"
    }
   ],
   "source": [
    "m"
   ]
  },
  {
   "cell_type": "code",
   "execution_count": null,
   "metadata": {
    "collapsed": true
   },
   "outputs": [],
   "source": []
  }
 ],
 "metadata": {
  "kernelspec": {
   "display_name": "Python [default]",
   "language": "python",
   "name": "python2"
  },
  "language_info": {
   "codemirror_mode": {
    "name": "ipython",
    "version": 2
   },
   "file_extension": ".py",
   "mimetype": "text/x-python",
   "name": "python",
   "nbconvert_exporter": "python",
   "pygments_lexer": "ipython2",
   "version": "2.7.14"
  }
 },
 "nbformat": 4,
 "nbformat_minor": 2
}
