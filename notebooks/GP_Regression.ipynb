{
 "cells": [
  {
   "cell_type": "code",
   "execution_count": 1,
   "metadata": {},
   "outputs": [
    {
     "ename": "RuntimeError",
     "evalue": "module compiled against API version 0xb but this version of numpy is 0xa",
     "output_type": "error",
     "traceback": [
      "\u001b[0;31m---------------------------------------------------------------------------\u001b[0m",
      "\u001b[0;31mRuntimeError\u001b[0m                              Traceback (most recent call last)",
      "\u001b[0;31mRuntimeError\u001b[0m: module compiled against API version 0xb but this version of numpy is 0xa"
     ]
    },
    {
     "ename": "RuntimeError",
     "evalue": "module compiled against API version 0xb but this version of numpy is 0xa",
     "output_type": "error",
     "traceback": [
      "\u001b[0;31m---------------------------------------------------------------------------\u001b[0m",
      "\u001b[0;31mRuntimeError\u001b[0m                              Traceback (most recent call last)",
      "\u001b[0;31mRuntimeError\u001b[0m: module compiled against API version 0xb but this version of numpy is 0xa"
     ]
    }
   ],
   "source": [
    "import gpflow\n",
    "import numpy as np\n",
    "import matplotlib.pyplot as plt\n",
    "%matplotlib inline\n",
    "import sys\n",
    "sys.path.append('../')"
   ]
  },
  {
   "cell_type": "code",
   "execution_count": 2,
   "metadata": {
    "collapsed": true
   },
   "outputs": [],
   "source": [
    "class Ex1Func(object):\n",
    "    \n",
    "    def __init__(self, sigma=lambda x: 0.5):\n",
    "        self.sigma = sigma\n",
    "\n",
    "    def __call__(self, x):\n",
    "        \n",
    "        if x[0] < 0.5:\n",
    "            return x[0]**2. +  self.sigma(x[0]) * np.random.randn()\n",
    "        if x[0] == 0.5:\n",
    "            return 1.\n",
    "        if x[0] > 0.5:\n",
    "            return 2. - (x[0]-0.5) ** 2."
   ]
  },
  {
   "cell_type": "code",
   "execution_count": 3,
   "metadata": {},
   "outputs": [
    {
     "data": {
      "text/plain": [
       "Text(0,0.5,u'$y$')"
      ]
     },
     "execution_count": 3,
     "metadata": {},
     "output_type": "execute_result"
    },
    {
     "data": {
      "image/png": "[encoded data removed]",
      "text/plain": [
       "<matplotlib.figure.Figure at 0x1104770d0>"
      ]
     },
     "metadata": {},
     "output_type": "display_data"
    }
   ],
   "source": [
    "from pyDOE import *\n",
    "dim = 1\n",
    "n = 20\n",
    "noise=0\n",
    "sigma = eval('lambda x: ' + str(noise))\n",
    "objective = Ex1Func(sigma=sigma)\n",
    "X = lhs(dim, n , criterion='center')\n",
    "Y = np.array([objective(x) for x in X])[:, None]\n",
    "Xm = np.mean(X)\n",
    "\n",
    "\n",
    "Xm = np.mean(X)\n",
    "Xv = np.std(X)\n",
    "Xnorm = (X - Xm) / Xv\n",
    "\n",
    "fig, ax = plt.subplots()\n",
    "ax.plot(X, Y, 'x', markeredgewidth=2)\n",
    "ax.set_xlabel('$x$')\n",
    "ax.set_ylabel('$y$')"
   ]
  },
  {
   "cell_type": "code",
   "execution_count": 4,
   "metadata": {
    "scrolled": true
   },
   "outputs": [
    {
     "data": {
      "text/html": [
       "<table id='params' width=100%><tr><td>Name</td><td>values</td><td>prior</td><td>constraint</td></tr><tr><td>model.V</td><td>[[ 0.]</br> [ 0.]</br> [ 0.]</br> [ 0.]</br> [ 0.]</br> [ 0.]</br> [ 0.]</br> [ 0.]</br> [ 0.]</br> [ 0.]</br> [ 0.]</br> [ 0.]</br> [ 0.]</br> [ 0.]</br> [ 0.]</br> [ 0.]</br> [ 0.]</br> [ 0.]</br> [ 0.]</br> [ 0.]]</td><td>N([ 0.],[ 1.])</td><td>(none)</td></tr><tr><td>model.kern.lengthscales</td><td>[ 1.]</td><td>None</td><td>+ve</td></tr><tr><td>model.kern.variance</td><td>[ 1.]</td><td>None</td><td>+ve</td></tr><tr><td>model.likelihood.variance</td><td>[ 1.]</td><td>None</td><td>+ve</td></tr></table>"
      ],
      "text/plain": [
       "<gpflow.gpmc.GPMC at 0x182114a310>"
      ]
     },
     "execution_count": 4,
     "metadata": {},
     "output_type": "execute_result"
    }
   ],
   "source": [
    "#build the model\n",
    "k = gpflow.kernels.RBF(1)\n",
    "l = gpflow.likelihoods.Gaussian()\n",
    "m = gpflow.gpmc.GPMC(Xnorm, Y, k, l)\n",
    "m"
   ]
  },
  {
   "cell_type": "code",
   "execution_count": 5,
   "metadata": {
    "collapsed": true
   },
   "outputs": [],
   "source": [
    "m.kern.lengthscales.prior = gpflow.priors.Gamma(1., 1.)\n",
    "m.kern.variance.prior = gpflow.priors.Gamma(1.,1.)\n",
    "\n",
    "m.likelihood.variance = 1e-8\n",
    "m.likelihood.variance.fixed = True"
   ]
  },
  {
   "cell_type": "code",
   "execution_count": 6,
   "metadata": {},
   "outputs": [
    {
     "data": {
      "text/plain": [
       "      fun: array([-139.07071053])\n",
       " hess_inv: <22x22 LbfgsInvHessProduct with dtype=float64>\n",
       "      jac: array([ 3.40000203, -1.20781109,  3.38836279, -2.54581491,  2.10152214,\n",
       "       -5.72168444,  4.01061758, -2.16391735, -4.2082929 ,  4.77546284,\n",
       "        0.77414652,  0.94803703,  0.25538526, -2.75424666,  0.50697039,\n",
       "       -2.91894453,  5.64156708,  1.20111704, -1.75308639, -5.14795993,\n",
       "       -4.85700449,  0.73497039])\n",
       "  message: 'CONVERGENCE: REL_REDUCTION_OF_F_<=_FACTR*EPSMCH'\n",
       "     nfev: 3217\n",
       "      nit: 2803\n",
       "   status: 0\n",
       "  success: True\n",
       "        x: array([  3.67122895e-04,   1.09211060e+00,   1.17140336e+00,\n",
       "         9.18811375e-03,   1.26617664e-02,   9.35291438e-01,\n",
       "         1.03359056e+00,   4.43632472e-02,   7.80202123e-01,\n",
       "         9.99927850e-01,   2.64932750e-02,   3.99295938e-01,\n",
       "         2.42077351e-01,   5.01330697e-02,   2.24720566e-01,\n",
       "         2.17966187e-02,   4.99040875e-01,  -2.92739625e-01,\n",
       "        -2.70147617e-02,  -9.34252634e-03,  -1.73501803e+00,\n",
       "         2.84200920e+00])"
      ]
     },
     "execution_count": 6,
     "metadata": {},
     "output_type": "execute_result"
    }
   ],
   "source": [
    "m.optimize(maxiter=5000) # start near MAP"
   ]
  },
  {
   "cell_type": "code",
   "execution_count": 7,
   "metadata": {},
   "outputs": [
    {
     "name": "stdout",
     "output_type": "stream",
     "text": [
      "burn-in sampling started\n",
      "warning: numerical instability.                  Rejecting this proposal prematurely\n",
      "warning: numerical instability.                  Rejecting this proposal prematurely\n",
      "warning: numerical instability.                  Rejecting this proposal prematurely\n",
      "warning: numerical instability.                  Rejecting this proposal prematurely\n",
      "warning: numerical instability.                  Rejecting this proposal prematurely\n",
      "warning: numerical instability.                  Rejecting this proposal prematurely\n",
      "warning: numerical instability.                  Rejecting this proposal prematurely\n",
      "warning: numerical instability.                  Rejecting this proposal prematurely\n",
      "warning: numerical instability.                  Rejecting this proposal prematurely\n",
      "warning: numerical instability.                  Rejecting this proposal prematurely\n",
      "warning: numerical instability.                  Rejecting this proposal prematurely\n",
      "warning: numerical instability.                  Rejecting this proposal prematurely\n",
      "warning: numerical instability.                  Rejecting this proposal prematurely\n",
      "warning: numerical instability.                  Rejecting this proposal prematurely\n",
      "warning: numerical instability.                  Rejecting this proposal prematurely\n",
      "warning: numerical instability.                  Rejecting this proposal prematurely\n",
      "warning: numerical instability.                  Rejecting this proposal prematurely\n",
      "warning: numerical instability.                  Rejecting this proposal prematurely\n",
      "warning: numerical instability.                  Rejecting this proposal prematurely\n",
      "warning: numerical instability.                  Rejecting this proposal prematurely\n",
      "warning: numerical instability.                  Rejecting this proposal prematurely\n",
      "warning: numerical instability.                  Rejecting this proposal prematurely\n",
      "warning: numerical instability.                  Rejecting this proposal prematurely\n",
      "warning: numerical instability.                  Rejecting this proposal prematurely\n",
      "warning: numerical instability.                  Rejecting this proposal prematurely\n",
      "warning: numerical instability.                  Rejecting this proposal prematurely\n",
      "warning: numerical instability.                  Rejecting this proposal prematurely\n",
      "warning: numerical instability.                  Rejecting this proposal prematurely\n",
      "warning: numerical instability.                  Rejecting this proposal prematurely\n",
      "warning: numerical instability.                  Rejecting this proposal prematurely\n",
      "warning: numerical instability.                  Rejecting this proposal prematurely\n",
      "warning: numerical instability.                  Rejecting this proposal prematurely\n",
      "warning: numerical instability.                  Rejecting this proposal prematurely\n",
      "warning: numerical instability.                  Rejecting this proposal prematurely\n",
      "warning: numerical instability.                  Rejecting this proposal prematurely\n",
      "warning: numerical instability.                  Rejecting this proposal prematurely\n",
      "warning: numerical instability.                  Rejecting this proposal prematurely\n",
      "warning: numerical instability.                  Rejecting this proposal prematurely\n",
      "warning: numerical instability.                  Rejecting this proposal prematurely\n",
      "warning: numerical instability.                  Rejecting this proposal prematurely\n",
      "warning: numerical instability.                  Rejecting this proposal prematurely\n",
      "warning: numerical instability.                  Rejecting this proposal prematurely\n",
      "warning: numerical instability.                  Rejecting this proposal prematurely\n",
      "warning: numerical instability.                  Rejecting this proposal prematurely\n",
      "warning: numerical instability.                  Rejecting this proposal prematurely\n",
      "warning: numerical instability.                  Rejecting this proposal prematurely\n",
      "warning: numerical instability.                  Rejecting this proposal prematurely\n",
      "warning: numerical instability.                  Rejecting this proposal prematurely\n",
      "warning: numerical instability.                  Rejecting this proposal prematurely\n",
      "warning: numerical instability.                  Rejecting this proposal prematurely\n",
      "warning: numerical instability.                  Rejecting this proposal prematurely\n",
      "warning: numerical instability.                  Rejecting this proposal prematurely\n",
      "warning: numerical instability.                  Rejecting this proposal prematurely\n",
      "warning: numerical instability.                  Rejecting this proposal prematurely\n",
      "warning: numerical instability.                  Rejecting this proposal prematurely\n",
      "warning: numerical instability.                  Rejecting this proposal prematurely\n",
      "warning: numerical instability.                  Rejecting this proposal prematurely\n",
      "warning: numerical instability.                  Rejecting this proposal prematurely\n",
      "warning: numerical instability.                  Rejecting this proposal prematurely\n",
      "warning: numerical instability.                  Rejecting this proposal prematurely\n",
      "warning: numerical instability.                  Rejecting this proposal prematurely\n",
      "warning: numerical instability.                  Rejecting this proposal prematurely\n",
      "warning: numerical instability.                  Rejecting this proposal prematurely\n",
      "warning: numerical instability.                  Rejecting this proposal prematurely\n",
      "warning: numerical instability.                  Rejecting this proposal prematurely\n",
      "warning: numerical instability.                  Rejecting this proposal prematurely\n",
      "warning: numerical instability.                  Rejecting this proposal prematurely\n",
      "warning: numerical instability.                  Rejecting this proposal prematurely\n",
      "warning: numerical instability.                  Rejecting this proposal prematurely\n",
      "warning: numerical instability.                  Rejecting this proposal prematurely\n",
      "warning: numerical instability.                  Rejecting this proposal prematurely\n",
      "warning: numerical instability.                  Rejecting this proposal prematurely\n",
      "warning: numerical instability.                  Rejecting this proposal prematurely\n",
      "warning: numerical instability.                  Rejecting this proposal prematurely\n",
      "warning: numerical instability.                  Rejecting this proposal prematurely\n",
      "warning: numerical instability.                  Rejecting this proposal prematurely\n",
      "warning: numerical instability.                  Rejecting this proposal prematurely\n",
      "warning: numerical instability.                  Rejecting this proposal prematurely\n",
      "warning: numerical instability.                  Rejecting this proposal prematurely\n",
      "warning: numerical instability.                  Rejecting this proposal prematurely\n",
      "warning: numerical instability.                  Rejecting this proposal prematurely\n",
      "warning: numerical instability.                  Rejecting this proposal prematurely\n",
      "warning: numerical instability.                  Rejecting this proposal prematurely\n",
      "warning: numerical instability.                  Rejecting this proposal prematurely\n",
      "warning: numerical instability.                  Rejecting this proposal prematurely\n",
      "warning: numerical instability.                  Rejecting this proposal prematurely\n",
      "warning: numerical instability.                  Rejecting this proposal prematurely\n",
      "warning: numerical instability.                  Rejecting this proposal prematurely\n",
      "warning: numerical instability.                  Rejecting this proposal prematurely\n",
      "warning: numerical instability.                  Rejecting this proposal prematurely\n",
      "warning: numerical instability.                  Rejecting this proposal prematurely\n",
      "warning: numerical instability.                  Rejecting this proposal prematurely\n",
      "warning: numerical instability.                  Rejecting this proposal prematurely\n",
      "warning: numerical instability.                  Rejecting this proposal prematurely\n",
      "warning: numerical instability.                  Rejecting this proposal prematurely\n",
      "warning: numerical instability.                  Rejecting this proposal prematurely\n"
     ]
    },
    {
     "name": "stdout",
     "output_type": "stream",
     "text": [
      "warning: numerical instability.                  Rejecting this proposal prematurely\n",
      "Iteration:  100 \t Acc Rate:  0.0 %\n",
      "warning: numerical instability.                  Rejecting this proposal prematurely\n",
      "burn-in sampling ended\n",
      "warning: numerical instability.                  Rejecting this proposal prematurely\n",
      "warning: numerical instability.                  Rejecting this proposal prematurely\n",
      "warning: numerical instability.                  Rejecting this proposal prematurely\n",
      "warning: numerical instability.                  Rejecting this proposal prematurely\n",
      "warning: numerical instability.                  Rejecting this proposal prematurely\n",
      "warning: numerical instability.                  Rejecting this proposal prematurely\n",
      "warning: numerical instability.                  Rejecting this proposal prematurely\n",
      "warning: numerical instability.                  Rejecting this proposal prematurely\n",
      "warning: numerical instability.                  Rejecting this proposal prematurely\n",
      "warning: numerical instability.                  Rejecting this proposal prematurely\n",
      "warning: numerical instability.                  Rejecting this proposal prematurely\n",
      "warning: numerical instability.                  Rejecting this proposal prematurely\n",
      "warning: numerical instability.                  Rejecting this proposal prematurely\n",
      "warning: numerical instability.                  Rejecting this proposal prematurely\n",
      "warning: numerical instability.                  Rejecting this proposal prematurely\n",
      "warning: numerical instability.                  Rejecting this proposal prematurely\n",
      "warning: numerical instability.                  Rejecting this proposal prematurely\n",
      "warning: numerical instability.                  Rejecting this proposal prematurely\n",
      "warning: numerical instability.                  Rejecting this proposal prematurely\n",
      "warning: numerical instability.                  Rejecting this proposal prematurely\n",
      "warning: numerical instability.                  Rejecting this proposal prematurely\n",
      "warning: numerical instability.                  Rejecting this proposal prematurely\n",
      "warning: numerical instability.                  Rejecting this proposal prematurely\n",
      "warning: numerical instability.                  Rejecting this proposal prematurely\n",
      "warning: numerical instability.                  Rejecting this proposal prematurely\n",
      "warning: numerical instability.                  Rejecting this proposal prematurely\n",
      "warning: numerical instability.                  Rejecting this proposal prematurely\n",
      "warning: numerical instability.                  Rejecting this proposal prematurely\n",
      "warning: numerical instability.                  Rejecting this proposal prematurely\n",
      "warning: numerical instability.                  Rejecting this proposal prematurely\n",
      "warning: numerical instability.                  Rejecting this proposal prematurely\n",
      "warning: numerical instability.                  Rejecting this proposal prematurely\n",
      "warning: numerical instability.                  Rejecting this proposal prematurely\n",
      "warning: numerical instability.                  Rejecting this proposal prematurely\n",
      "warning: numerical instability.                  Rejecting this proposal prematurely\n",
      "warning: numerical instability.                  Rejecting this proposal prematurely\n",
      "warning: numerical instability.                  Rejecting this proposal prematurely\n",
      "warning: numerical instability.                  Rejecting this proposal prematurely\n",
      "warning: numerical instability.                  Rejecting this proposal prematurely\n",
      "warning: numerical instability.                  Rejecting this proposal prematurely\n",
      "warning: numerical instability.                  Rejecting this proposal prematurely\n",
      "warning: numerical instability.                  Rejecting this proposal prematurely\n",
      "warning: numerical instability.                  Rejecting this proposal prematurely\n",
      "warning: numerical instability.                  Rejecting this proposal prematurely\n",
      "warning: numerical instability.                  Rejecting this proposal prematurely\n",
      "warning: numerical instability.                  Rejecting this proposal prematurely\n",
      "warning: numerical instability.                  Rejecting this proposal prematurely\n",
      "warning: numerical instability.                  Rejecting this proposal prematurely\n",
      "warning: numerical instability.                  Rejecting this proposal prematurely\n",
      "warning: numerical instability.                  Rejecting this proposal prematurely\n",
      "warning: numerical instability.                  Rejecting this proposal prematurely\n",
      "warning: numerical instability.                  Rejecting this proposal prematurely\n",
      "warning: numerical instability.                  Rejecting this proposal prematurely\n",
      "warning: numerical instability.                  Rejecting this proposal prematurely\n",
      "warning: numerical instability.                  Rejecting this proposal prematurely\n",
      "warning: numerical instability.                  Rejecting this proposal prematurely\n",
      "warning: numerical instability.                  Rejecting this proposal prematurely\n",
      "warning: numerical instability.                  Rejecting this proposal prematurely\n",
      "warning: numerical instability.                  Rejecting this proposal prematurely\n",
      "warning: numerical instability.                  Rejecting this proposal prematurely\n",
      "warning: numerical instability.                  Rejecting this proposal prematurely\n",
      "warning: numerical instability.                  Rejecting this proposal prematurely\n",
      "warning: numerical instability.                  Rejecting this proposal prematurely\n",
      "warning: numerical instability.                  Rejecting this proposal prematurely\n",
      "warning: numerical instability.                  Rejecting this proposal prematurely\n",
      "warning: numerical instability.                  Rejecting this proposal prematurely\n",
      "warning: numerical instability.                  Rejecting this proposal prematurely\n",
      "warning: numerical instability.                  Rejecting this proposal prematurely\n",
      "warning: numerical instability.                  Rejecting this proposal prematurely\n",
      "warning: numerical instability.                  Rejecting this proposal prematurely\n",
      "warning: numerical instability.                  Rejecting this proposal prematurely\n",
      "warning: numerical instability.                  Rejecting this proposal prematurely\n",
      "warning: numerical instability.                  Rejecting this proposal prematurely\n",
      "warning: numerical instability.                  Rejecting this proposal prematurely\n",
      "warning: numerical instability.                  Rejecting this proposal prematurely\n",
      "warning: numerical instability.                  Rejecting this proposal prematurely\n",
      "warning: numerical instability.                  Rejecting this proposal prematurely\n",
      "warning: numerical instability.                  Rejecting this proposal prematurely\n",
      "warning: numerical instability.                  Rejecting this proposal prematurely\n",
      "warning: numerical instability.                  Rejecting this proposal prematurely\n",
      "warning: numerical instability.                  Rejecting this proposal prematurely\n",
      "warning: numerical instability.                  Rejecting this proposal prematurely\n",
      "warning: numerical instability.                  Rejecting this proposal prematurely\n",
      "warning: numerical instability.                  Rejecting this proposal prematurely\n",
      "warning: numerical instability.                  Rejecting this proposal prematurely\n",
      "warning: numerical instability.                  Rejecting this proposal prematurely\n",
      "warning: numerical instability.                  Rejecting this proposal prematurely\n",
      "warning: numerical instability.                  Rejecting this proposal prematurely\n",
      "warning: numerical instability.                  Rejecting this proposal prematurely\n",
      "warning: numerical instability.                  Rejecting this proposal prematurely\n",
      "warning: numerical instability.                  Rejecting this proposal prematurely\n",
      "warning: numerical instability.                  Rejecting this proposal prematurely\n",
      "warning: numerical instability.                  Rejecting this proposal prematurely\n",
      "warning: numerical instability.                  Rejecting this proposal prematurely\n",
      "warning: numerical instability.                  Rejecting this proposal prematurely\n",
      "warning: numerical instability.                  Rejecting this proposal prematurely\n",
      "warning: numerical instability.                  Rejecting this proposal prematurely\n",
      "warning: numerical instability.                  Rejecting this proposal prematurely\n",
      "Iteration:  100 \t Acc Rate:  0.0 %\n",
      "warning: numerical instability.                  Rejecting this proposal prematurely\n",
      "warning: numerical instability.                  Rejecting this proposal prematurely\n",
      "warning: numerical instability.                  Rejecting this proposal prematurely\n"
     ]
    },
    {
     "name": "stdout",
     "output_type": "stream",
     "text": [
      "warning: numerical instability.                  Rejecting this proposal prematurely\n",
      "warning: numerical instability.                  Rejecting this proposal prematurely\n",
      "warning: numerical instability.                  Rejecting this proposal prematurely\n",
      "warning: numerical instability.                  Rejecting this proposal prematurely\n",
      "warning: numerical instability.                  Rejecting this proposal prematurely\n",
      "warning: numerical instability.                  Rejecting this proposal prematurely\n",
      "warning: numerical instability.                  Rejecting this proposal prematurely\n",
      "warning: numerical instability.                  Rejecting this proposal prematurely\n",
      "warning: numerical instability.                  Rejecting this proposal prematurely\n",
      "warning: numerical instability.                  Rejecting this proposal prematurely\n",
      "warning: numerical instability.                  Rejecting this proposal prematurely\n",
      "warning: numerical instability.                  Rejecting this proposal prematurely\n",
      "warning: numerical instability.                  Rejecting this proposal prematurely\n",
      "warning: numerical instability.                  Rejecting this proposal prematurely\n",
      "warning: numerical instability.                  Rejecting this proposal prematurely\n",
      "warning: numerical instability.                  Rejecting this proposal prematurely\n",
      "warning: numerical instability.                  Rejecting this proposal prematurely\n",
      "warning: numerical instability.                  Rejecting this proposal prematurely\n",
      "warning: numerical instability.                  Rejecting this proposal prematurely\n",
      "warning: numerical instability.                  Rejecting this proposal prematurely\n",
      "warning: numerical instability.                  Rejecting this proposal prematurely\n",
      "warning: numerical instability.                  Rejecting this proposal prematurely\n",
      "warning: numerical instability.                  Rejecting this proposal prematurely\n",
      "warning: numerical instability.                  Rejecting this proposal prematurely\n",
      "warning: numerical instability.                  Rejecting this proposal prematurely\n",
      "warning: numerical instability.                  Rejecting this proposal prematurely\n",
      "warning: numerical instability.                  Rejecting this proposal prematurely\n",
      "warning: numerical instability.                  Rejecting this proposal prematurely\n",
      "warning: numerical instability.                  Rejecting this proposal prematurely\n",
      "warning: numerical instability.                  Rejecting this proposal prematurely\n",
      "warning: numerical instability.                  Rejecting this proposal prematurely\n",
      "warning: numerical instability.                  Rejecting this proposal prematurely\n",
      "warning: numerical instability.                  Rejecting this proposal prematurely\n",
      "warning: numerical instability.                  Rejecting this proposal prematurely\n",
      "warning: numerical instability.                  Rejecting this proposal prematurely\n",
      "warning: numerical instability.                  Rejecting this proposal prematurely\n",
      "warning: numerical instability.                  Rejecting this proposal prematurely\n",
      "warning: numerical instability.                  Rejecting this proposal prematurely\n",
      "warning: numerical instability.                  Rejecting this proposal prematurely\n",
      "warning: numerical instability.                  Rejecting this proposal prematurely\n",
      "warning: numerical instability.                  Rejecting this proposal prematurely\n",
      "warning: numerical instability.                  Rejecting this proposal prematurely\n",
      "warning: numerical instability.                  Rejecting this proposal prematurely\n",
      "warning: numerical instability.                  Rejecting this proposal prematurely\n",
      "warning: numerical instability.                  Rejecting this proposal prematurely\n",
      "warning: numerical instability.                  Rejecting this proposal prematurely\n",
      "warning: numerical instability.                  Rejecting this proposal prematurely\n",
      "warning: numerical instability.                  Rejecting this proposal prematurely\n",
      "warning: numerical instability.                  Rejecting this proposal prematurely\n",
      "warning: numerical instability.                  Rejecting this proposal prematurely\n",
      "warning: numerical instability.                  Rejecting this proposal prematurely\n",
      "warning: numerical instability.                  Rejecting this proposal prematurely\n",
      "warning: numerical instability.                  Rejecting this proposal prematurely\n",
      "warning: numerical instability.                  Rejecting this proposal prematurely\n",
      "warning: numerical instability.                  Rejecting this proposal prematurely\n",
      "warning: numerical instability.                  Rejecting this proposal prematurely\n",
      "warning: numerical instability.                  Rejecting this proposal prematurely\n",
      "warning: numerical instability.                  Rejecting this proposal prematurely\n",
      "warning: numerical instability.                  Rejecting this proposal prematurely\n",
      "warning: numerical instability.                  Rejecting this proposal prematurely\n",
      "warning: numerical instability.                  Rejecting this proposal prematurely\n",
      "warning: numerical instability.                  Rejecting this proposal prematurely\n",
      "warning: numerical instability.                  Rejecting this proposal prematurely\n",
      "warning: numerical instability.                  Rejecting this proposal prematurely\n",
      "warning: numerical instability.                  Rejecting this proposal prematurely\n",
      "warning: numerical instability.                  Rejecting this proposal prematurely\n",
      "warning: numerical instability.                  Rejecting this proposal prematurely\n",
      "warning: numerical instability.                  Rejecting this proposal prematurely\n",
      "warning: numerical instability.                  Rejecting this proposal prematurely\n",
      "warning: numerical instability.                  Rejecting this proposal prematurely\n",
      "warning: numerical instability.                  Rejecting this proposal prematurely\n",
      "warning: numerical instability.                  Rejecting this proposal prematurely\n",
      "warning: numerical instability.                  Rejecting this proposal prematurely\n",
      "warning: numerical instability.                  Rejecting this proposal prematurely\n",
      "warning: numerical instability.                  Rejecting this proposal prematurely\n",
      "warning: numerical instability.                  Rejecting this proposal prematurely\n",
      "warning: numerical instability.                  Rejecting this proposal prematurely\n",
      "warning: numerical instability.                  Rejecting this proposal prematurely\n",
      "warning: numerical instability.                  Rejecting this proposal prematurely\n",
      "warning: numerical instability.                  Rejecting this proposal prematurely\n",
      "warning: numerical instability.                  Rejecting this proposal prematurely\n",
      "warning: numerical instability.                  Rejecting this proposal prematurely\n",
      "warning: numerical instability.                  Rejecting this proposal prematurely\n",
      "warning: numerical instability.                  Rejecting this proposal prematurely\n",
      "warning: numerical instability.                  Rejecting this proposal prematurely\n",
      "warning: numerical instability.                  Rejecting this proposal prematurely\n",
      "warning: numerical instability.                  Rejecting this proposal prematurely\n",
      "warning: numerical instability.                  Rejecting this proposal prematurely\n",
      "warning: numerical instability.                  Rejecting this proposal prematurely\n",
      "warning: numerical instability.                  Rejecting this proposal prematurely\n",
      "warning: numerical instability.                  Rejecting this proposal prematurely\n",
      "warning: numerical instability.                  Rejecting this proposal prematurely\n",
      "warning: numerical instability.                  Rejecting this proposal prematurely\n",
      "warning: numerical instability.                  Rejecting this proposal prematurely\n",
      "warning: numerical instability.                  Rejecting this proposal prematurely\n",
      "warning: numerical instability.                  Rejecting this proposal prematurely\n",
      "warning: numerical instability.                  Rejecting this proposal prematurely\n",
      "Iteration:  200 \t Acc Rate:  0.0 %\n",
      "warning: numerical instability.                  Rejecting this proposal prematurely\n"
     ]
    }
   ],
   "source": [
    "samples = m.sample(100, verbose=True, epsilon=0.01, thin = 2, burn = 100, Lmax = 80)"
   ]
  },
  {
   "cell_type": "code",
   "execution_count": 8,
   "metadata": {
    "scrolled": false
   },
   "outputs": [
    {
     "data": {
      "text/html": [
       "<table id='params' width=100%><tr><td>Name</td><td>values</td><td>prior</td><td>constraint</td></tr><tr><td>model.V</td><td>[[  3.67122895e-04]</br> [  1.09211060e+00]</br> [  1.17140336e+00]</br> [  9.18811375e-03]</br> [  1.26617664e-02]</br> [  9.35291438e-01]</br> [  1.03359056e+00]</br> [  4.43632472e-02]</br> [  7.80202123e-01]</br> [  9.99927850e-01]</br> [  2.64932750e-02]</br> [  3.99295938e-01]</br> [  2.42077351e-01]</br> [  5.01330697e-02]</br> [  2.24720566e-01]</br> [  2.17966187e-02]</br> [  4.99040875e-01]</br> [ -2.92739625e-01]</br> [ -2.70147617e-02]</br> [ -9.34252634e-03]]</td><td>N([ 0.],[ 1.])</td><td>(none)</td></tr><tr><td>model.kern.lengthscales</td><td>[ 0.1624574]</td><td>Ga([ 1.],[ 1.])</td><td>+ve</td></tr><tr><td>model.kern.variance</td><td>[ 2.89868198]</td><td>Ga([ 1.],[ 1.])</td><td>+ve</td></tr><tr><td>model.likelihood.variance</td><td>[  1.00000000e-08]</td><td>None</td><td>[FIXED]</td></tr></table>"
      ],
      "text/plain": [
       "<gpflow.gpmc.GPMC at 0x182114a310>"
      ]
     },
     "execution_count": 8,
     "metadata": {},
     "output_type": "execute_result"
    }
   ],
   "source": [
    "m"
   ]
  },
  {
   "cell_type": "code",
   "execution_count": 9,
   "metadata": {},
   "outputs": [],
   "source": [
    "sample_df = m.get_samples_df(samples)\n",
    "like_var_samples = m.likelihood.variance.get_samples_df(samples)"
   ]
  },
  {
   "cell_type": "code",
   "execution_count": 10,
   "metadata": {
    "collapsed": true
   },
   "outputs": [],
   "source": [
    "noise_var = np.array([])\n",
    "for s in like_var_samples:\n",
    "    noise_var = np.append(noise_var, s)"
   ]
  },
  {
   "cell_type": "code",
   "execution_count": 15,
   "metadata": {
    "collapsed": true
   },
   "outputs": [],
   "source": [
    "xnew = np.linspace(0,1,50)[:,None]\n",
    "xx = (xnew - Xm)/Xv\n",
    "meanmat = np.zeros(shape = (samples.shape[0], xx.shape[0]))\n",
    "varmat = np.zeros(shape = (samples.shape[0], xx.shape[0]))\n",
    "noisemat = np.zeros(shape = (samples.shape[0], xx.shape[0]))\n",
    "for i, s in sample_df.iterrows():\n",
    "    m.set_parameter_dict(s)\n",
    "    mean, v = m.predict_f(xx)\n",
    "    var = v[:,:]\n",
    "    meanmat[i,:] = mean[:,0]\n",
    "    varmat[i,:] = np.diag(var)\n",
    "    noisemat[i,:] = noise_var[i]"
   ]
  },
  {
   "cell_type": "code",
   "execution_count": 16,
   "metadata": {
    "collapsed": true
   },
   "outputs": [],
   "source": [
    "def visualize(Xgrid, Mgrid, Vargrid, noise_var):\n",
    "    \"\"\"\n",
    "    Visualize 1D utility funciton values\n",
    "    Xgrid : grid states\n",
    "    Mgrid : mean of GP at those finite grid points\n",
    "    Vargrid : variance of GP at those finite grid points\n",
    "    \"\"\"\n",
    "    Stdgrid = np.sqrt(Vargrid)\n",
    "    Std_noise = np.sqrt(noise_var)\n",
    "    \n",
    "    lower = Mgrid - 2*Stdgrid\n",
    "    upper = Mgrid + 2*Stdgrid\n",
    "    \n",
    "    lower1 = lower - 2*Std_noise\n",
    "    upper1 = upper + 2*Std_noise\n",
    "    \n",
    "    plt.plot(X, Y, '.')\n",
    "    line, = plt.plot(Xgrid, Mgrid, lw = 2, color = 'b', label = 'utility', alpha = 0.5)\n",
    "    plt.fill_between(Xgrid[:,0], lower, upper,\n",
    "                     color = 'b', alpha = 0.25)\n",
    "    plt.fill_between(Xgrid[:,0], lower1, upper1,\n",
    "                     color = 'g', alpha = 0.25)\n",
    "    plt.xlabel('x')\n",
    "    plt.ylabel('y')\n",
    "    return"
   ]
  },
  {
   "cell_type": "code",
   "execution_count": 17,
   "metadata": {},
   "outputs": [
    {
     "data": {
      "image/png": "[encoded data removed]",
      "text/plain": [
       "<matplotlib.figure.Figure at 0x1829d16c10>"
      ]
     },
     "metadata": {},
     "output_type": "display_data"
    }
   ],
   "source": [
    "mini = 5\n",
    "maxi = 10\n",
    "plt.figure(figsize=(12,8))\n",
    "for i in xrange(mini,maxi):\n",
    "    visualize(xnew, meanmat[i,:], varmat[i,:], noisemat[i,:])"
   ]
  },
  {
   "cell_type": "code",
   "execution_count": null,
   "metadata": {
    "collapsed": true
   },
   "outputs": [],
   "source": []
  }
 ],
 "metadata": {
  "kernelspec": {
   "display_name": "Python [default]",
   "language": "python",
   "name": "python2"
  },
  "language_info": {
   "codemirror_mode": {
    "name": "ipython",
    "version": 2
   },
   "file_extension": ".py",
   "mimetype": "text/x-python",
   "name": "python",
   "nbconvert_exporter": "python",
   "pygments_lexer": "ipython2",
   "version": "2.7.14"
  }
 },
 "nbformat": 4,
 "nbformat_minor": 2
}
