{
 "cells": [
  {
   "cell_type": "code",
   "execution_count": 1,
   "metadata": {},
   "outputs": [
    {
     "ename": "RuntimeError",
     "evalue": "module compiled against API version 0xb but this version of numpy is 0xa",
     "output_type": "error",
     "traceback": [
      "\u001b[0;31m---------------------------------------------------------------------------\u001b[0m",
      "\u001b[0;31mRuntimeError\u001b[0m                              Traceback (most recent call last)",
      "\u001b[0;31mRuntimeError\u001b[0m: module compiled against API version 0xb but this version of numpy is 0xa"
     ]
    },
    {
     "ename": "RuntimeError",
     "evalue": "module compiled against API version 0xb but this version of numpy is 0xa",
     "output_type": "error",
     "traceback": [
      "\u001b[0;31m---------------------------------------------------------------------------\u001b[0m",
      "\u001b[0;31mRuntimeError\u001b[0m                              Traceback (most recent call last)",
      "\u001b[0;31mRuntimeError\u001b[0m: module compiled against API version 0xb but this version of numpy is 0xa"
     ]
    }
   ],
   "source": [
    "import gpflow\n",
    "import numpy as np\n",
    "import matplotlib.pyplot as plt\n",
    "%matplotlib inline\n",
    "import sys\n",
    "sys.path.append('../')\n",
    "from GPHetero import hetero_kernels, hetero_likelihoods, hetero_gpmc"
   ]
  },
  {
   "cell_type": "code",
   "execution_count": 2,
   "metadata": {},
   "outputs": [
    {
     "data": {
      "text/plain": [
       "Text(0,0.5,u'$y$')"
      ]
     },
     "execution_count": 2,
     "metadata": {},
     "output_type": "execute_result"
    },
    {
     "data": {
      "image/png": "[encoded data removed]",
      "text/plain": [
       "<matplotlib.figure.Figure at 0x10e4aed90>"
      ]
     },
     "metadata": {},
     "output_type": "display_data"
    }
   ],
   "source": [
    "data = np.loadtxt('../data/motor.dat')\n",
    "X = data[:, 0][:, None]\n",
    "Xm = np.mean(X)\n",
    "Xv = np.std(X)\n",
    "Xnorm = (X - Xm)/Xv\n",
    "Y = data[:, 1]\n",
    "fig, ax = plt.subplots()\n",
    "ax.plot(X, Y, 'x', markeredgewidth=2)\n",
    "ax.set_xlabel('$x$')\n",
    "ax.set_ylabel('$y$')"
   ]
  },
  {
   "cell_type": "code",
   "execution_count": 3,
   "metadata": {},
   "outputs": [],
   "source": [
    "#build the model\n",
    "k1 = gpflow.kernels.RBF(1)\n",
    "nonstat = hetero_kernels.NonStationaryLengthscaleRBF()\n",
    "m = hetero_gpmc.GPMCAdaptiveLengthscale(Xnorm, Y[:,None], k1, nonstat)"
   ]
  },
  {
   "cell_type": "code",
   "execution_count": 4,
   "metadata": {
    "scrolled": true
   },
   "outputs": [
    {
     "data": {
      "text/html": [
       "<table id='params' width=100%><tr><td>Name</td><td>values</td><td>prior</td><td>constraint</td></tr><tr><td>adaptive_lengthscale_gp.V1</td><td>[[ 0.]</br> [ 0.]</br> [ 0.]</br> [ 0.]</br> [ 0.]</br> [ 0.]</br> [ 0.]</br> [ 0.]</br> [ 0.]</br> [ 0.]</br> [ 0.]</br> [ 0.]</br> [ 0.]</br> [ 0.]</br> [ 0.]</br> [ 0.]</br> [ 0.]</br> [ 0.]</br> [ 0.]</br> [ 0.]</br> [ 0.]</br> [ 0.]</br> [ 0.]</br> [ 0.]</br> [ 0.]</br> [ 0.]</br> [ 0.]</br> [ 0.]</br> [ 0.]</br> [ 0.]</br> [ 0.]</br> [ 0.]</br> [ 0.]</br> [ 0.]</br> [ 0.]</br> [ 0.]</br> [ 0.]</br> [ 0.]</br> [ 0.]</br> [ 0.]</br> [ 0.]</br> [ 0.]</br> [ 0.]</br> [ 0.]</br> [ 0.]</br> [ 0.]</br> [ 0.]</br> [ 0.]</br> [ 0.]</br> [ 0.]</br> [ 0.]</br> [ 0.]</br> [ 0.]</br> [ 0.]</br> [ 0.]</br> [ 0.]</br> [ 0.]</br> [ 0.]</br> [ 0.]</br> [ 0.]</br> [ 0.]</br> [ 0.]</br> [ 0.]</br> [ 0.]</br> [ 0.]</br> [ 0.]</br> [ 0.]</br> [ 0.]</br> [ 0.]</br> [ 0.]</br> [ 0.]</br> [ 0.]</br> [ 0.]</br> [ 0.]</br> [ 0.]</br> [ 0.]</br> [ 0.]</br> [ 0.]</br> [ 0.]</br> [ 0.]</br> [ 0.]</br> [ 0.]</br> [ 0.]</br> [ 0.]</br> [ 0.]</br> [ 0.]</br> [ 0.]</br> [ 0.]</br> [ 0.]</br> [ 0.]</br> [ 0.]</br> [ 0.]</br> [ 0.]</br> [ 0.]]</td><td>N([ 0.],[ 1.])</td><td>(none)</td></tr><tr><td>adaptive_lengthscale_gp.V2</td><td>[[ 0.]</br> [ 0.]</br> [ 0.]</br> [ 0.]</br> [ 0.]</br> [ 0.]</br> [ 0.]</br> [ 0.]</br> [ 0.]</br> [ 0.]</br> [ 0.]</br> [ 0.]</br> [ 0.]</br> [ 0.]</br> [ 0.]</br> [ 0.]</br> [ 0.]</br> [ 0.]</br> [ 0.]</br> [ 0.]</br> [ 0.]</br> [ 0.]</br> [ 0.]</br> [ 0.]</br> [ 0.]</br> [ 0.]</br> [ 0.]</br> [ 0.]</br> [ 0.]</br> [ 0.]</br> [ 0.]</br> [ 0.]</br> [ 0.]</br> [ 0.]</br> [ 0.]</br> [ 0.]</br> [ 0.]</br> [ 0.]</br> [ 0.]</br> [ 0.]</br> [ 0.]</br> [ 0.]</br> [ 0.]</br> [ 0.]</br> [ 0.]</br> [ 0.]</br> [ 0.]</br> [ 0.]</br> [ 0.]</br> [ 0.]</br> [ 0.]</br> [ 0.]</br> [ 0.]</br> [ 0.]</br> [ 0.]</br> [ 0.]</br> [ 0.]</br> [ 0.]</br> [ 0.]</br> [ 0.]</br> [ 0.]</br> [ 0.]</br> [ 0.]</br> [ 0.]</br> [ 0.]</br> [ 0.]</br> [ 0.]</br> [ 0.]</br> [ 0.]</br> [ 0.]</br> [ 0.]</br> [ 0.]</br> [ 0.]</br> [ 0.]</br> [ 0.]</br> [ 0.]</br> [ 0.]</br> [ 0.]</br> [ 0.]</br> [ 0.]</br> [ 0.]</br> [ 0.]</br> [ 0.]</br> [ 0.]</br> [ 0.]</br> [ 0.]</br> [ 0.]</br> [ 0.]</br> [ 0.]</br> [ 0.]</br> [ 0.]</br> [ 0.]</br> [ 0.]</br> [ 0.]]</td><td>N([ 0.],[ 1.])</td><td>(none)</td></tr><tr><td>adaptive_lengthscale_gp.kern1.lengthscales</td><td>[ 1.]</td><td>None</td><td>+ve</td></tr><tr><td>adaptive_lengthscale_gp.kern1.variance</td><td>[ 1.]</td><td>None</td><td>+ve</td></tr><tr><td>adaptive_lengthscale_gp.likelihood.variance</td><td>[ 1.]</td><td>None</td><td>+ve</td></tr><tr><td>adaptive_lengthscale_gp.nonstat.signal_variance</td><td>[ 1.]</td><td>None</td><td>+ve</td></tr></table>"
      ],
      "text/plain": [
       "<GPHetero.hetero_gpmc.GPMCAdaptiveLengthscale at 0x181f290450>"
      ]
     },
     "execution_count": 4,
     "metadata": {},
     "output_type": "execute_result"
    }
   ],
   "source": [
    "m"
   ]
  },
  {
   "cell_type": "code",
   "execution_count": 5,
   "metadata": {
    "collapsed": true
   },
   "outputs": [],
   "source": [
    "m.kern1.lengthscales.prior = gpflow.priors.Gamma(1., 1.)\n",
    "m.kern1.variance.prior = gpflow.priors.Gamma(1.,1.)\n",
    "\n",
    "#m.kern1.lengthscales = 1.\n",
    "#m.kern1.lengthscales.fixed = True\n",
    "#m.kern1.variance = 1.\n",
    "#m.kern1.variance.fixed = True\n",
    "\n",
    "m.likelihood.variance.prior = gpflow.priors.Gamma(1.,1.)\n",
    "m.nonstat.signal_variance.prior = gpflow.priors.Gamma(1.,1.)\n",
    "#m.nonstat.signal_variance = 1\n",
    "#m.nonstat.signal_variance.fixed = True\n",
    "#m.likelihood.variance = 1\n",
    "#m.likelihood.variance.fixed = True"
   ]
  },
  {
   "cell_type": "code",
   "execution_count": 21,
   "metadata": {},
   "outputs": [
    {
     "data": {
      "text/plain": [
       "      fun: array([ 685.92699719])\n",
       " hess_inv: <192x192 LbfgsInvHessProduct with dtype=float64>\n",
       "      jac: array([  1.77860118e+01,  -5.74128555e+00,  -9.42516265e-01,\n",
       "        -9.05761706e-02,  -3.45178952e+00,   1.75388839e+00,\n",
       "        -9.96265123e-01,  -1.21736160e+00,  -3.59314927e+01,\n",
       "         1.51766419e+00,   1.88694967e-01,  -2.85352166e+01,\n",
       "         2.02054513e+01,   3.43261490e+00,  -2.56494248e+01,\n",
       "         2.44217300e+01,  -1.12258581e+00,  -6.56409304e-01,\n",
       "        -3.58779150e-01,   2.53618709e-01,  -3.58066696e+00,\n",
       "         2.41697238e+00,   2.92469695e+00,   2.72245673e+01,\n",
       "        -3.61176150e+00,  -1.82368815e+01,   4.57351958e+00,\n",
       "         1.34285063e+00,  -3.36963572e+00,  -1.46643228e+01,\n",
       "        -8.41617266e+00,   2.15076971e+01,   3.47902508e-01,\n",
       "        -3.54049612e+01,   1.94917639e+00,   3.82396152e+00,\n",
       "         5.63233404e+01,   3.53023447e+01,  -1.84568556e+01,\n",
       "         4.37304695e+01,  -3.44420415e+01,  -4.59239140e+01,\n",
       "         2.66787187e+00,   1.02379118e+01,  -5.47641198e-01,\n",
       "        -6.61999530e-01,   1.38230304e+00,   3.77046660e+00,\n",
       "         3.61457623e+00,  -1.62194522e-01,   7.12167947e-01,\n",
       "        -6.43707871e-01,   1.44007773e+00,   1.23288975e+00,\n",
       "         7.98698540e-01,   1.21599049e+00,   1.34212361e+00,\n",
       "        -2.57027510e+00,   3.53907618e-01,   4.39035258e-01,\n",
       "        -4.03847557e-01,   2.97097072e-01,   8.53113921e-01,\n",
       "         4.60797590e-01,   3.33159349e+00,   1.26683449e+00,\n",
       "         2.84591656e+00,  -4.55277858e+00,  -2.89104705e-01,\n",
       "         2.74480035e+00,  -1.15960004e-01,  -8.70323702e-01,\n",
       "         4.83621907e-01,   2.03588448e+00,  -9.03122011e-02,\n",
       "        -1.32494418e+00,  -2.27610524e+00,   1.99898915e+00,\n",
       "        -5.41065018e-01,  -4.85519235e-01,  -2.97392198e-01,\n",
       "        -3.03072907e+00,   5.96284948e-01,   1.03273521e+00,\n",
       "        -9.13304420e-01,  -4.71635933e+00,   4.43805965e-01,\n",
       "        -1.66475235e-02,  -8.72793809e-01,   6.54756333e-02,\n",
       "        -1.30718412e-01,   6.62142539e-01,   1.01216458e-01,\n",
       "        -1.32194465e-01,   2.38004686e+00,   2.04344537e+00,\n",
       "         1.49753627e+00,  -5.46362026e-01,   4.75082151e-01,\n",
       "         1.36149078e-01,   5.54527210e-01,  -1.52348411e-01,\n",
       "        -6.09484521e-01,   8.44099081e-02,  -3.07868653e-01,\n",
       "         1.41269644e-01,  -1.99441873e-01,  -1.81295306e-01,\n",
       "         1.60813401e-02,  -1.49829191e-01,   3.06190684e-01,\n",
       "        -5.82269371e-01,   8.42801640e-02,   4.02277776e-01,\n",
       "         8.09571906e-01,  -3.25530178e-01,   5.74218804e-01,\n",
       "        -2.18221638e-01,  -2.78688157e-01,  -1.47660508e-01,\n",
       "         1.08374440e-01,  -5.64867223e-01,   1.81015591e-01,\n",
       "         2.41856449e-01,   1.71187540e-01,   2.01773361e-01,\n",
       "         3.89733984e-01,   9.33012867e-02,   3.73828145e-02,\n",
       "         1.15884791e-01,   1.71378964e-02,   8.84641170e-02,\n",
       "         3.85223925e-02,  -2.33125895e-02,   5.95643361e-01,\n",
       "         2.30475276e-01,   2.84643774e-01,   3.11697843e-01,\n",
       "        -3.36598817e-01,   4.60458462e-02,   2.08310701e-01,\n",
       "         2.30536302e-01,  -4.24097459e-01,   2.33667602e-01,\n",
       "        -9.37401790e-02,  -1.87120925e-01,   1.33665808e-01,\n",
       "        -1.76353567e-01,  -3.40130949e-02,   2.64826334e-01,\n",
       "         5.93312209e-01,  -1.45329474e-01,   2.56742601e-02,\n",
       "         2.44205375e-02,   1.22729296e-01,  -1.43261796e-01,\n",
       "        -4.08841655e-01,  -1.20110424e-01,   1.27770262e-01,\n",
       "         2.85175946e-01,  -1.55007325e-01,  -1.60850459e-01,\n",
       "        -6.43491141e-02,  -2.24901733e-02,  -1.08059697e-01,\n",
       "         1.05662629e-01,   3.69831778e-02,  -6.01827677e-02,\n",
       "         6.08823686e-02,  -8.26155913e-02,   2.50573102e-02,\n",
       "        -1.50427991e-01,  -4.32377685e-02,  -1.05318399e-01,\n",
       "         2.22057581e-03,   4.98334467e-02,   9.89140629e-03,\n",
       "         8.67017055e-02,   1.75809097e-01,  -2.11049201e-02,\n",
       "        -2.19408800e-02,   4.04289131e-02,   2.02594378e-02,\n",
       "         3.73197602e-02,   1.10014097e-02,   4.13711533e-03,\n",
       "         2.55703281e-03,   1.54626436e-03,  -4.92136142e+00,\n",
       "        -2.47397800e-01,   6.14290774e-01,  -5.38294219e-01])\n",
       "  message: 'STOP: TOTAL NO. of f AND g EVALUATIONS EXCEEDS LIMIT'\n",
       "     nfev: 15001\n",
       "      nit: 14075\n",
       "   status: 1\n",
       "  success: False\n",
       "        x: array([ -2.97552421e-01,   9.76911456e-01,  -2.77669930e-01,\n",
       "         9.50686008e-01,   9.19405803e-01,   8.92695644e-01,\n",
       "        -2.79231245e-01,  -2.26257438e-01,  -2.36137361e-01,\n",
       "        -3.19994063e-01,   9.41605257e-01,  -4.59831583e-01,\n",
       "        -4.58844580e-01,   8.79535808e-01,  -3.94215423e-01,\n",
       "        -4.21561849e-01,   9.82249245e-01,   9.11176083e-01,\n",
       "        -6.74570069e-01,   1.03020128e+00,   7.36325181e-01,\n",
       "         8.35826983e-01,   5.87447020e-01,   2.77863956e-01,\n",
       "         5.85513649e-01,   2.78557693e-01,   6.10007879e-01,\n",
       "         7.93871552e-01,   7.92758228e-02,  -3.33453170e-01,\n",
       "         3.45830715e-01,  -3.95243826e-01,  -2.17553383e-01,\n",
       "        -2.30259021e-01,  -5.68035798e-01,  -1.87682835e-01,\n",
       "        -2.55235992e-01,  -2.37948383e-01,  -2.85843151e-01,\n",
       "        -7.82577031e-02,  -1.13562707e-01,  -3.04224631e-01,\n",
       "        -2.41972331e-01,  -3.45857049e-01,  -2.49753972e-01,\n",
       "        -5.98839051e-01,   9.59610402e-02,  -1.01595619e-02,\n",
       "        -9.17222310e-02,   5.57580788e-01,   8.58900120e-01,\n",
       "        -7.51016325e-01,  -9.20083193e-02,   7.09396041e-01,\n",
       "        -1.65957319e-02,   1.12872769e+00,  -7.70455371e-01,\n",
       "         7.04843929e-01,  -1.11174691e+00,   6.91871978e-01,\n",
       "        -3.35557015e-01,  -5.15729079e-01,  -7.25632178e-02,\n",
       "        -2.65809368e-01,  -1.95883830e-01,  -6.58969585e-02,\n",
       "        -1.60478238e-01,   1.53915421e-02,  -3.33058456e-01,\n",
       "         7.16265654e-01,  -3.76004550e-01,  -5.29471149e-02,\n",
       "         4.18885239e-01,  -1.37563594e-01,   1.18015592e+00,\n",
       "         3.96255318e-03,   6.36862724e-01,   2.05861981e-01,\n",
       "        -8.10385126e-02,  -8.75716098e-02,   9.67592056e-01,\n",
       "        -3.26874717e-02,  -4.66866746e-01,  -4.00278733e-01,\n",
       "        -1.73634795e-01,   9.79072675e-02,   4.90639066e-01,\n",
       "         2.89465332e-01,  -1.10372206e-01,   6.91583760e-02,\n",
       "        -6.32482432e-01,   2.41577966e-01,   2.42710253e-01,\n",
       "         1.07249989e-01,  -1.28857178e-01,  -6.03554697e-02,\n",
       "         3.17697631e-01,   1.44283912e+00,  -9.46587200e-01,\n",
       "        -1.65150477e+00,  -8.16606286e-01,  -2.53866305e+00,\n",
       "        -6.45448335e+00,  -2.82425104e-01,  -3.02210464e-01,\n",
       "        -3.44199661e+00,  -1.93354497e+00,  -1.35554394e+00,\n",
       "         2.75951962e-01,  -2.83609953e+00,   7.72628375e-01,\n",
       "        -5.84116320e-01,   3.34355368e-01,   3.50033532e-01,\n",
       "        -3.17670737e-01,  -4.79510747e-01,  -1.77948965e-01,\n",
       "        -1.52557791e+00,  -1.07137890e+00,   2.59624173e+00,\n",
       "        -1.81268258e-01,  -1.07786172e+00,  -3.94284983e+00,\n",
       "        -4.03210869e+00,  -1.48703711e+00,   6.47508028e+00,\n",
       "        -7.02004638e+00,   3.75035997e-01,  -3.07218851e+00,\n",
       "        -3.45044874e-01,   1.02079396e+00,  -7.88225335e-01,\n",
       "        -6.72704433e-01,  -1.43910139e+00,  -4.33282066e+00,\n",
       "        -3.60641378e+00,  -3.54274032e+00,  -7.29735705e-01,\n",
       "         5.70502514e-01,   4.09302614e+00,   5.08953960e-01,\n",
       "         1.04749418e+00,   5.37796515e-01,  -1.09200636e+00,\n",
       "        -6.38045489e-02,  -2.15949064e+00,   5.96589708e-02,\n",
       "         2.63757306e-01,  -2.90572512e-01,   3.49147051e-01,\n",
       "         1.76022132e+00,   2.88093945e-01,   2.62075088e+00,\n",
       "        -5.81771067e-02,   4.49029033e-01,   6.53324180e-01,\n",
       "        -6.25793980e-01,  -2.94976566e-02,   1.81077901e-01,\n",
       "         6.93682358e-01,  -4.27184401e-01,  -3.59338673e-01,\n",
       "        -6.90937527e-02,   2.98537171e-02,   2.12917422e-01,\n",
       "         2.53150377e-01,  -2.20672058e-01,   2.31730539e-01,\n",
       "         9.29700736e-02,   5.26207663e-01,   3.82419936e-02,\n",
       "         6.50861812e-02,  -5.81019411e-02,  -1.45928492e-01,\n",
       "         3.57453878e-03,   7.52904166e-02,  -5.09762877e-01,\n",
       "        -2.46256634e-01,   1.77358750e-01,  -1.11310999e-01,\n",
       "         3.12041302e-03,  -3.11188957e-02,   2.59006867e-01,\n",
       "         8.48073426e-02,  -7.51057171e-01,   5.97473989e-03,\n",
       "         1.40598924e-03,   2.89917844e-02,  -5.01825889e+00,\n",
       "         1.10125418e+01,   5.64123794e+00,   1.03677333e+02])"
      ]
     },
     "execution_count": 21,
     "metadata": {},
     "output_type": "execute_result"
    }
   ],
   "source": [
    "m.optimize(maxiter=50000) # start near MAP"
   ]
  },
  {
   "cell_type": "code",
   "execution_count": 7,
   "metadata": {},
   "outputs": [
    {
     "name": "stdout",
     "output_type": "stream",
     "text": [
      "burn-in sampling started\n",
      "Iteration:  100 \t Acc Rate:  85.0 %\n",
      "Iteration:  200 \t Acc Rate:  98.0 %\n",
      "Iteration:  300 \t Acc Rate:  97.0 %\n",
      "Iteration:  400 \t Acc Rate:  97.0 %\n",
      "Iteration:  500 \t Acc Rate:  99.0 %\n",
      "burn-in sampling ended\n",
      "Iteration:  100 \t Acc Rate:  95.0 %\n",
      "Iteration:  200 \t Acc Rate:  97.0 %\n",
      "Iteration:  300 \t Acc Rate:  99.0 %\n",
      "Iteration:  400 \t Acc Rate:  100.0 %\n",
      "Iteration:  500 \t Acc Rate:  100.0 %\n",
      "Iteration:  600 \t Acc Rate:  100.0 %\n",
      "Iteration:  700 \t Acc Rate:  100.0 %\n",
      "Iteration:  800 \t Acc Rate:  100.0 %\n",
      "Iteration:  900 \t Acc Rate:  100.0 %\n",
      "Iteration:  1000 \t Acc Rate:  100.0 %\n"
     ]
    }
   ],
   "source": [
    "samples = m.sample(500, verbose=True, epsilon=0.0005, thin = 2, burn = 500, Lmax = 160)"
   ]
  },
  {
   "cell_type": "code",
   "execution_count": 8,
   "metadata": {
    "scrolled": true
   },
   "outputs": [
    {
     "data": {
      "text/html": [
       "<table id='params' width=100%><tr><td>Name</td><td>values</td><td>prior</td><td>constraint</td></tr><tr><td>adaptive_lengthscale_gp.V1</td><td>[[-0.56350333]</br> [ 0.49066333]</br> [-0.50469424]</br> [ 0.56326446]</br> [ 0.6078121 ]</br> [ 0.43133005]</br> [-0.2180089 ]</br> [-0.06875073]</br> [ 0.011268  ]</br> [-0.18538969]</br> [ 0.04735166]</br> [-0.19002712]</br> [-0.19213034]</br> [ 0.69043579]</br> [-0.19644091]</br> [-0.19867502]</br> [ 0.82997702]</br> [ 0.82292631]</br> [-0.21384368]</br> [ 0.72238552]</br> [ 0.55840034]</br> [ 0.66566217]</br> [ 0.31332773]</br> [ 0.12012882]</br> [ 0.30715666]</br> [ 0.12287168]</br> [ 0.30064848]</br> [ 0.62944907]</br> [-0.2348119 ]</br> [-0.23649538]</br> [ 0.13609862]</br> [-0.26913201]</br> [-0.25542319]</br> [-0.26853506]</br> [-0.08977874]</br> [-0.27872255]</br> [-0.28808237]</br> [-0.29457981]</br> [-0.31435151]</br> [-0.15614784]</br> [-0.20322938]</br> [-0.32454613]</br> [-0.33808239]</br> [-0.33749446]</br> [-0.31099938]</br> [-0.22769084]</br> [ 0.02123268]</br> [-0.06311658]</br> [-0.16523423]</br> [ 0.24042408]</br> [ 0.62937646]</br> [-0.26254534]</br> [-0.25037096]</br> [ 0.36483736]</br> [-0.20208531]</br> [ 0.82647062]</br> [-0.85815296]</br> [-0.23859006]</br> [-1.04882352]</br> [-0.13342292]</br> [-0.50519746]</br> [-0.45834238]</br> [-0.15100176]</br> [-0.41538938]</br> [-0.30723063]</br> [-0.09921409]</br> [-0.23556773]</br> [-0.00656824]</br> [-0.33050155]</br> [ 0.11721067]</br> [-0.29765977]</br> [-0.13183335]</br> [ 0.24120391]</br> [-0.22055005]</br> [ 0.05039757]</br> [ 0.09207519]</br> [ 0.2934974 ]</br> [ 0.20125527]</br> [-0.12007669]</br> [-0.10241034]</br> [ 0.12082445]</br> [ 0.02125367]</br> [ 0.13673216]</br> [ 0.13032914]</br> [ 0.05865031]</br> [-0.09706755]</br> [ 0.35342575]</br> [ 0.47012663]</br> [ 0.16469167]</br> [ 0.05932158]</br> [-0.24855595]</br> [-0.09663247]</br> [ 0.24189991]</br> [ 0.10447719]]</td><td>N([ 0.],[ 1.])</td><td>(none)</td></tr><tr><td>adaptive_lengthscale_gp.V2</td><td>[[  5.41502278e-01]</br> [ -1.07277217e+00]</br> [  3.91421912e-01]</br> [  1.04623370e+00]</br> [ -2.71579665e-01]</br> [ -2.72017659e+00]</br> [  2.91773333e+00]</br> [ -5.01063548e+00]</br> [ -1.13736275e+01]</br> [  1.52735827e+00]</br> [  2.02649181e+00]</br> [ -2.28679499e+00]</br> [ -2.76350592e+00]</br> [ -1.94942964e+00]</br> [ -2.63381183e+00]</br> [ -1.84383458e+00]</br> [  8.38656133e-01]</br> [  7.26427248e-01]</br> [ -4.88166986e+00]</br> [  7.06588337e-01]</br> [ -1.94465886e-01]</br> [  1.00314964e+00]</br> [ -1.80257438e-01]</br> [ -1.79567057e+00]</br> [  2.88014472e-01]</br> [  8.89493476e-01]</br> [  1.75174777e-01]</br> [  4.99860643e-01]</br> [ -3.00082207e+00]</br> [ -2.58051398e+00]</br> [  1.19104629e+00]</br> [  6.05226836e+00]</br> [ -7.65668894e-01]</br> [  1.82740712e+00]</br> [ -1.15720773e+00]</br> [  8.86939145e-01]</br> [  8.67959555e-01]</br> [  6.87324441e-01]</br> [  3.55323044e-01]</br> [ -9.49995387e-01]</br> [ -4.28160984e-01]</br> [ -1.08312393e-01]</br> [ -3.32700119e-01]</br> [ -2.34959193e-01]</br> [ -2.48259010e-01]</br> [ -2.27196386e-02]</br> [  4.53956105e-01]</br> [  2.12789709e-01]</br> [ -1.00354600e-01]</br> [  1.90613101e-02]</br> [ -2.35769354e-01]</br> [ -2.29773989e-02]</br> [ -1.84360480e-01]</br> [ -1.47348756e-01]</br> [ -1.44046633e-01]</br> [ -1.43737932e-01]</br> [  1.17866735e+00]</br> [ -1.36922048e-02]</br> [  1.96043118e+00]</br> [  4.51288136e-02]</br> [  3.85307686e-01]</br> [  3.13270640e-01]</br> [ -1.55690845e-01]</br> [ -4.22543560e-04]</br> [  1.73821549e-01]</br> [ -1.23764280e-01]</br> [  1.22257656e-01]</br> [ -1.45810703e-01]</br> [  1.05753553e-01]</br> [ -2.00162161e-01]</br> [  1.08858193e-01]</br> [  1.86823259e-02]</br> [ -6.24857969e-02]</br> [ -1.30890988e-01]</br> [ -6.17619743e-02]</br> [ -2.58355513e-02]</br> [ -2.97572922e-02]</br> [ -1.92366817e-02]</br> [  2.98061659e-02]</br> [ -1.89812432e-02]</br> [ -1.05039782e-02]</br> [ -1.10586252e-02]</br> [ -1.55488234e-02]</br> [ -8.20071936e-03]</br> [  1.51483761e-02]</br> [  6.64030437e-03]</br> [ -3.49598127e-03]</br> [ -1.47778188e-03]</br> [  5.34239493e-02]</br> [ -7.01708694e-03]</br> [ -6.08529538e-02]</br> [ -4.23589703e-03]</br> [ -3.95861334e-04]</br> [  2.73157272e-03]]</td><td>N([ 0.],[ 1.])</td><td>(none)</td></tr><tr><td>adaptive_lengthscale_gp.kern1.lengthscales</td><td>[  1.75161482e-05]</td><td>Ga([ 1.],[ 1.])</td><td>+ve</td></tr><tr><td>adaptive_lengthscale_gp.kern1.variance</td><td>[ 11.99192087]</td><td>Ga([ 1.],[ 1.])</td><td>+ve</td></tr><tr><td>adaptive_lengthscale_gp.likelihood.variance</td><td>[ 73.2523236]</td><td>Ga([ 1.],[ 1.])</td><td>+ve</td></tr><tr><td>adaptive_lengthscale_gp.nonstat.signal_variance</td><td>[ 60.36224124]</td><td>Ga([ 1.],[ 1.])</td><td>+ve</td></tr></table>"
      ],
      "text/plain": [
       "<GPHetero.hetero_gpmc.GPMCAdaptiveLengthscale at 0x181f290450>"
      ]
     },
     "execution_count": 8,
     "metadata": {},
     "output_type": "execute_result"
    }
   ],
   "source": [
    "m"
   ]
  },
  {
   "cell_type": "code",
   "execution_count": 9,
   "metadata": {
    "collapsed": true
   },
   "outputs": [],
   "source": [
    "xnew = np.linspace(0,60,50)[:,None]\n",
    "xx = (xnew - Xm)/Xv"
   ]
  },
  {
   "cell_type": "code",
   "execution_count": 10,
   "metadata": {
    "collapsed": true
   },
   "outputs": [],
   "source": [
    "sample_df = m.get_samples_df(samples)"
   ]
  },
  {
   "cell_type": "code",
   "execution_count": 11,
   "metadata": {
    "collapsed": true
   },
   "outputs": [],
   "source": [
    "mean_l_mat = np.zeros(shape = (samples.shape[0], xx.shape[0]))\n",
    "var_l_mat = np.zeros(shape = (samples.shape[0], xx.shape[0]))"
   ]
  },
  {
   "cell_type": "code",
   "execution_count": 12,
   "metadata": {
    "collapsed": true
   },
   "outputs": [],
   "source": [
    "for i, s in sample_df.iterrows():\n",
    "    m.set_parameter_dict(s)\n",
    "    mean1, v1 = m.predict_l(xx)\n",
    "    var1 = v1[:,:]\n",
    "    mean_l_mat[i,:] = mean1[:,0]\n",
    "    var_l_mat[i,:] = np.diag(var1)\n",
    "\n",
    "std_l_mat = np.sqrt(var_l_mat)"
   ]
  },
  {
   "cell_type": "code",
   "execution_count": 13,
   "metadata": {
    "collapsed": true
   },
   "outputs": [],
   "source": [
    "LowerlogL = mean_l_mat - 2*std_l_mat\n",
    "UpperlogL = mean_l_mat + 2*std_l_mat"
   ]
  },
  {
   "cell_type": "code",
   "execution_count": 14,
   "metadata": {
    "collapsed": true
   },
   "outputs": [],
   "source": [
    "MeanL = np.exp(mean_l_mat)\n",
    "LowerL = np.exp(LowerlogL)\n",
    "UpperL = np.exp(UpperlogL)"
   ]
  },
  {
   "cell_type": "code",
   "execution_count": 15,
   "metadata": {},
   "outputs": [
    {
     "data": {
      "text/plain": [
       "array([[ 0.00162387,  0.00162387,  0.00162387, ...,  0.00162387,\n",
       "         0.00162387,  0.00162387],\n",
       "       [ 0.00160696,  0.00160696,  0.00160696, ...,  0.00160696,\n",
       "         0.00160696,  0.00160696],\n",
       "       [ 0.0016422 ,  0.0016422 ,  0.0016422 , ...,  0.0016422 ,\n",
       "         0.0016422 ,  0.0016422 ],\n",
       "       ..., \n",
       "       [ 0.04069014,  0.04069014,  0.04069014, ...,  0.04069014,\n",
       "         0.04069014,  0.04069014],\n",
       "       [ 0.03926819,  0.03926819,  0.03926819, ...,  0.03926819,\n",
       "         0.03926819,  0.03926819],\n",
       "       [ 0.03821221,  0.03821221,  0.03821221, ...,  0.03821221,\n",
       "         0.03821221,  0.03821221]])"
      ]
     },
     "execution_count": 15,
     "metadata": {},
     "output_type": "execute_result"
    }
   ],
   "source": [
    "LowerL"
   ]
  },
  {
   "cell_type": "code",
   "execution_count": 16,
   "metadata": {
    "collapsed": true,
    "scrolled": false
   },
   "outputs": [],
   "source": [
    "mean_f_mat = np.zeros(shape = (samples.shape[0], xx.shape[0]))\n",
    "var_f_mat = np.zeros(shape = (samples.shape[0], xx.shape[0]))\n",
    "\n",
    "for i, s in sample_df.iterrows():\n",
    "    m.set_parameter_dict(s)\n",
    "    mean1, v1 = m.predict_f(xx)\n",
    "    var1 = v1[:,:,0]\n",
    "    mean_f_mat[i,:] = mean1[:,0]\n",
    "    var_f_mat[i,:] = np.diag(var1)\n",
    "\n",
    "sig_samples = m.nonstat.signal_variance.get_samples_df(samples)\n",
    "noise_samples = m.likelihood.variance.get_samples_df(samples)\n",
    "signal_var = np.array([])\n",
    "noise_var = np.array([])\n",
    "for s in sig_samples:\n",
    "    signal_var = np.append(signal_var, s)\n",
    "\n",
    "for n in noise_samples:\n",
    "    noise_var = np.append(noise_var, n)\n",
    "    "
   ]
  },
  {
   "cell_type": "code",
   "execution_count": 17,
   "metadata": {
    "collapsed": true
   },
   "outputs": [],
   "source": [
    "def visualize(Xgrid, Mgrid, Vargrid, noise_var):\n",
    "    \"\"\"\n",
    "    Visualize 1D utility funciton values\n",
    "    Xgrid : grid states\n",
    "    Mgrid : mean of GP at those finite grid points\n",
    "    Vargrid : variance of GP at those finite grid points\n",
    "    \"\"\"\n",
    "    Std_noise = np.sqrt(noise_var)\n",
    "    signal_std = np.sqrt(signal_var)\n",
    " \n",
    "    Stdgrid = np.sqrt(Vargrid)\n",
    "    \n",
    "    lower = Mgrid - 2*Stdgrid\n",
    "    upper = Mgrid + 2*Stdgrid\n",
    "    \n",
    "    lower1 = lower - 2*Std_noise\n",
    "    upper1 = upper + 2*Std_noise\n",
    "    \n",
    "    plt.plot(X, Y, '.')\n",
    "    line, = plt.plot(Xgrid, Mgrid, lw = 2, color = 'b', label = 'utility', alpha = 0.5)\n",
    "    plt.fill_between(Xgrid[:,0], lower, upper,\n",
    "                     color = 'b', alpha = 0.25)\n",
    "    plt.fill_between(Xgrid[:,0], lower1, upper1,\n",
    "                     color = 'g', alpha = 0.25)\n",
    "    plt.xlabel('x')\n",
    "    plt.ylabel('y')\n",
    "    return"
   ]
  },
  {
   "cell_type": "code",
   "execution_count": 18,
   "metadata": {},
   "outputs": [
    {
     "data": {
      "image/png": "[encoded data removed]",
      "text/plain": [
       "<matplotlib.figure.Figure at 0x1827f798d0>"
      ]
     },
     "metadata": {},
     "output_type": "display_data"
    }
   ],
   "source": [
    "mini = 5\n",
    "maxi = 500\n",
    "plt.figure(figsize=(12,8))\n",
    "for i in xrange(mini,maxi):\n",
    "    visualize(xnew, mean_f_mat[i,:], var_f_mat[i,:], noise_var[i])  "
   ]
  },
  {
   "cell_type": "code",
   "execution_count": 19,
   "metadata": {
    "collapsed": true
   },
   "outputs": [],
   "source": [
    "def visualize_l(Xgrid, M, L, U):\n",
    "    \"\"\"\n",
    "    Visualize 1D utility funciton values\n",
    "    Xgrid : grid states\n",
    "    Mgrid : mean of GP at those finite grid points\n",
    "    Vargrid : variance of GP at those finite grid points\n",
    "    \"\"\"\n",
    "    \n",
    "    line, = plt.plot(Xgrid, M, lw = 2, color = 'b', label = 'utility', alpha = 0.5)\n",
    "    plt.fill_between(Xgrid[:,0], L, U,\n",
    "                     color = 'b', alpha = 0.25)\n",
    "    #plt.fill_between(Xgrid[:,0], lower1, upper1,\n",
    "    #                 color = 'g', alpha = 0.25)\n",
    "    plt.xlabel('x')\n",
    "    plt.ylabel('y')\n",
    "    return"
   ]
  },
  {
   "cell_type": "code",
   "execution_count": 20,
   "metadata": {},
   "outputs": [
    {
     "ename": "IndexError",
     "evalue": "index 500 is out of bounds for axis 0 with size 500",
     "output_type": "error",
     "traceback": [
      "\u001b[0;31m---------------------------------------------------------------------------\u001b[0m",
      "\u001b[0;31mIndexError\u001b[0m                                Traceback (most recent call last)",
      "\u001b[0;32m<ipython-input-20-db99e269fa0d>\u001b[0m in \u001b[0;36m<module>\u001b[0;34m()\u001b[0m\n\u001b[1;32m      3\u001b[0m \u001b[0mplt\u001b[0m\u001b[0;34m.\u001b[0m\u001b[0mfigure\u001b[0m\u001b[0;34m(\u001b[0m\u001b[0mfigsize\u001b[0m\u001b[0;34m=\u001b[0m\u001b[0;34m(\u001b[0m\u001b[0;36m12\u001b[0m\u001b[0;34m,\u001b[0m\u001b[0;36m8\u001b[0m\u001b[0;34m)\u001b[0m\u001b[0;34m)\u001b[0m\u001b[0;34m\u001b[0m\u001b[0m\n\u001b[1;32m      4\u001b[0m \u001b[0;32mfor\u001b[0m \u001b[0mi\u001b[0m \u001b[0;32min\u001b[0m \u001b[0mxrange\u001b[0m\u001b[0;34m(\u001b[0m\u001b[0mmini\u001b[0m\u001b[0;34m,\u001b[0m\u001b[0mmaxi\u001b[0m\u001b[0;34m)\u001b[0m\u001b[0;34m:\u001b[0m\u001b[0;34m\u001b[0m\u001b[0m\n\u001b[0;32m----> 5\u001b[0;31m     \u001b[0mvisualize_l\u001b[0m\u001b[0;34m(\u001b[0m\u001b[0mxnew\u001b[0m\u001b[0;34m,\u001b[0m \u001b[0mMeanL\u001b[0m\u001b[0;34m[\u001b[0m\u001b[0mi\u001b[0m\u001b[0;34m,\u001b[0m\u001b[0;34m:\u001b[0m\u001b[0;34m]\u001b[0m\u001b[0;34m,\u001b[0m \u001b[0mLowerL\u001b[0m\u001b[0;34m[\u001b[0m\u001b[0mi\u001b[0m\u001b[0;34m,\u001b[0m\u001b[0;34m:\u001b[0m\u001b[0;34m]\u001b[0m\u001b[0;34m,\u001b[0m \u001b[0mUpperL\u001b[0m\u001b[0;34m[\u001b[0m\u001b[0mi\u001b[0m\u001b[0;34m,\u001b[0m\u001b[0;34m:\u001b[0m\u001b[0;34m]\u001b[0m\u001b[0;34m)\u001b[0m\u001b[0;34m\u001b[0m\u001b[0m\n\u001b[0m",
      "\u001b[0;31mIndexError\u001b[0m: index 500 is out of bounds for axis 0 with size 500"
     ]
    },
    {
     "data": {
      "image/png": "[encoded data removed]",
      "text/plain": [
       "<matplotlib.figure.Figure at 0x182a12c610>"
      ]
     },
     "metadata": {},
     "output_type": "display_data"
    }
   ],
   "source": [
    "mini = 205\n",
    "maxi = 1500\n",
    "plt.figure(figsize=(12,8))\n",
    "for i in xrange(mini,maxi):\n",
    "    visualize_l(xnew, MeanL[i,:], LowerL[i,:], UpperL[i,:])  "
   ]
  },
  {
   "cell_type": "code",
   "execution_count": null,
   "metadata": {},
   "outputs": [],
   "source": [
    "m"
   ]
  },
  {
   "cell_type": "code",
   "execution_count": null,
   "metadata": {},
   "outputs": [],
   "source": []
  },
  {
   "cell_type": "code",
   "execution_count": null,
   "metadata": {
    "collapsed": true
   },
   "outputs": [],
   "source": []
  }
 ],
 "metadata": {
  "kernelspec": {
   "display_name": "Python [default]",
   "language": "python",
   "name": "python2"
  },
  "language_info": {
   "codemirror_mode": {
    "name": "ipython",
    "version": 2
   },
   "file_extension": ".py",
   "mimetype": "text/x-python",
   "name": "python",
   "nbconvert_exporter": "python",
   "pygments_lexer": "ipython2",
   "version": "2.7.14"
  }
 },
 "nbformat": 4,
 "nbformat_minor": 2
}
