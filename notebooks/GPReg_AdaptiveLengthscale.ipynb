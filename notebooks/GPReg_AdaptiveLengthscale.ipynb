{
 "cells": [
  {
   "cell_type": "code",
   "execution_count": 1,
   "metadata": {},
   "outputs": [
    {
     "ename": "RuntimeError",
     "evalue": "module compiled against API version 0xb but this version of numpy is 0xa",
     "output_type": "error",
     "traceback": [
      "\u001b[0;31m---------------------------------------------------------------------------\u001b[0m",
      "\u001b[0;31mRuntimeError\u001b[0m                              Traceback (most recent call last)",
      "\u001b[0;31mRuntimeError\u001b[0m: module compiled against API version 0xb but this version of numpy is 0xa"
     ]
    },
    {
     "ename": "RuntimeError",
     "evalue": "module compiled against API version 0xb but this version of numpy is 0xa",
     "output_type": "error",
     "traceback": [
      "\u001b[0;31m---------------------------------------------------------------------------\u001b[0m",
      "\u001b[0;31mRuntimeError\u001b[0m                              Traceback (most recent call last)",
      "\u001b[0;31mRuntimeError\u001b[0m: module compiled against API version 0xb but this version of numpy is 0xa"
     ]
    }
   ],
   "source": [
    "import gpflow\n",
    "import numpy as np\n",
    "import matplotlib.pyplot as plt\n",
    "%matplotlib inline\n",
    "import sys\n",
    "sys.path.append('../')\n",
    "from GPHetero import hetero_kernels, hetero_likelihoods, hetero_gpmc"
   ]
  },
  {
   "cell_type": "code",
   "execution_count": 2,
   "metadata": {},
   "outputs": [
    {
     "data": {
      "text/plain": [
       "Text(0,0.5,u'$y$')"
      ]
     },
     "execution_count": 2,
     "metadata": {},
     "output_type": "execute_result"
    },
    {
     "data": {
      "image/png": "[encoded data removed]",
      "text/plain": [
       "<matplotlib.figure.Figure at 0x1816a09c90>"
      ]
     },
     "metadata": {},
     "output_type": "display_data"
    }
   ],
   "source": [
    "data = np.loadtxt('../data/motor.dat')\n",
    "X = data[:, 0][:, None]\n",
    "Xm = np.mean(X)\n",
    "Xv = np.std(X)\n",
    "Xnorm = (X - Xm)/Xv\n",
    "Y = data[:, 1]\n",
    "fig, ax = plt.subplots()\n",
    "ax.plot(X, Y, 'x', markeredgewidth=2)\n",
    "ax.set_xlabel('$x$')\n",
    "ax.set_ylabel('$y$')"
   ]
  },
  {
   "cell_type": "code",
   "execution_count": 3,
   "metadata": {
    "collapsed": true
   },
   "outputs": [],
   "source": [
    "#build the model\n",
    "k1 = hetero_kernels.RBF(1)\n",
    "nonstat = hetero_kernels.NonStationaryLengthscaleRBF()\n",
    "m = hetero_gpmc.GPMCAdaptiveLengthscale(Xnorm, Y[:,None], k1, nonstat)"
   ]
  },
  {
   "cell_type": "code",
   "execution_count": 4,
   "metadata": {
    "scrolled": true
   },
   "outputs": [
    {
     "data": {
      "text/html": [
       "<table id='params' width=100%><tr><td>Name</td><td>values</td><td>prior</td><td>constraint</td></tr><tr><td>adaptive_lengthscale_gp.V1</td><td>[[ 0.]</br> [ 0.]</br> [ 0.]</br> [ 0.]</br> [ 0.]</br> [ 0.]</br> [ 0.]</br> [ 0.]</br> [ 0.]</br> [ 0.]</br> [ 0.]</br> [ 0.]</br> [ 0.]</br> [ 0.]</br> [ 0.]</br> [ 0.]</br> [ 0.]</br> [ 0.]</br> [ 0.]</br> [ 0.]</br> [ 0.]</br> [ 0.]</br> [ 0.]</br> [ 0.]</br> [ 0.]</br> [ 0.]</br> [ 0.]</br> [ 0.]</br> [ 0.]</br> [ 0.]</br> [ 0.]</br> [ 0.]</br> [ 0.]</br> [ 0.]</br> [ 0.]</br> [ 0.]</br> [ 0.]</br> [ 0.]</br> [ 0.]</br> [ 0.]</br> [ 0.]</br> [ 0.]</br> [ 0.]</br> [ 0.]</br> [ 0.]</br> [ 0.]</br> [ 0.]</br> [ 0.]</br> [ 0.]</br> [ 0.]</br> [ 0.]</br> [ 0.]</br> [ 0.]</br> [ 0.]</br> [ 0.]</br> [ 0.]</br> [ 0.]</br> [ 0.]</br> [ 0.]</br> [ 0.]</br> [ 0.]</br> [ 0.]</br> [ 0.]</br> [ 0.]</br> [ 0.]</br> [ 0.]</br> [ 0.]</br> [ 0.]</br> [ 0.]</br> [ 0.]</br> [ 0.]</br> [ 0.]</br> [ 0.]</br> [ 0.]</br> [ 0.]</br> [ 0.]</br> [ 0.]</br> [ 0.]</br> [ 0.]</br> [ 0.]</br> [ 0.]</br> [ 0.]</br> [ 0.]</br> [ 0.]</br> [ 0.]</br> [ 0.]</br> [ 0.]</br> [ 0.]</br> [ 0.]</br> [ 0.]</br> [ 0.]</br> [ 0.]</br> [ 0.]</br> [ 0.]]</td><td>N([ 0.],[ 1.])</td><td>(none)</td></tr><tr><td>adaptive_lengthscale_gp.V2</td><td>[[ 0.]</br> [ 0.]</br> [ 0.]</br> [ 0.]</br> [ 0.]</br> [ 0.]</br> [ 0.]</br> [ 0.]</br> [ 0.]</br> [ 0.]</br> [ 0.]</br> [ 0.]</br> [ 0.]</br> [ 0.]</br> [ 0.]</br> [ 0.]</br> [ 0.]</br> [ 0.]</br> [ 0.]</br> [ 0.]</br> [ 0.]</br> [ 0.]</br> [ 0.]</br> [ 0.]</br> [ 0.]</br> [ 0.]</br> [ 0.]</br> [ 0.]</br> [ 0.]</br> [ 0.]</br> [ 0.]</br> [ 0.]</br> [ 0.]</br> [ 0.]</br> [ 0.]</br> [ 0.]</br> [ 0.]</br> [ 0.]</br> [ 0.]</br> [ 0.]</br> [ 0.]</br> [ 0.]</br> [ 0.]</br> [ 0.]</br> [ 0.]</br> [ 0.]</br> [ 0.]</br> [ 0.]</br> [ 0.]</br> [ 0.]</br> [ 0.]</br> [ 0.]</br> [ 0.]</br> [ 0.]</br> [ 0.]</br> [ 0.]</br> [ 0.]</br> [ 0.]</br> [ 0.]</br> [ 0.]</br> [ 0.]</br> [ 0.]</br> [ 0.]</br> [ 0.]</br> [ 0.]</br> [ 0.]</br> [ 0.]</br> [ 0.]</br> [ 0.]</br> [ 0.]</br> [ 0.]</br> [ 0.]</br> [ 0.]</br> [ 0.]</br> [ 0.]</br> [ 0.]</br> [ 0.]</br> [ 0.]</br> [ 0.]</br> [ 0.]</br> [ 0.]</br> [ 0.]</br> [ 0.]</br> [ 0.]</br> [ 0.]</br> [ 0.]</br> [ 0.]</br> [ 0.]</br> [ 0.]</br> [ 0.]</br> [ 0.]</br> [ 0.]</br> [ 0.]</br> [ 0.]]</td><td>N([ 0.],[ 1.])</td><td>(none)</td></tr><tr><td>adaptive_lengthscale_gp.kern1.lengthscales</td><td>[ 1.]</td><td>None</td><td>+ve</td></tr><tr><td>adaptive_lengthscale_gp.kern1.variance</td><td>[ 1.]</td><td>None</td><td>+ve</td></tr><tr><td>adaptive_lengthscale_gp.likelihood.variance</td><td>[ 1.]</td><td>None</td><td>+ve</td></tr><tr><td>adaptive_lengthscale_gp.nonstat.signal_variance</td><td>[ 1.]</td><td>None</td><td>+ve</td></tr></table>"
      ],
      "text/plain": [
       "<GPHetero.hetero_gpmc.GPMCAdaptiveLengthscale at 0x1816a09390>"
      ]
     },
     "execution_count": 4,
     "metadata": {},
     "output_type": "execute_result"
    }
   ],
   "source": [
    "m"
   ]
  },
  {
   "cell_type": "code",
   "execution_count": 5,
   "metadata": {
    "collapsed": true
   },
   "outputs": [],
   "source": [
    "#m.kern1.lengthscales.prior = gpflow.priors.Gamma(1., 1.)\n",
    "#m.kern1.variance.prior = gpflow.priors.Gamma(1.,1.)\n",
    "\n",
    "m.kern1.lengthscales = 1.\n",
    "m.kern1.lengthscales.fixed = True\n",
    "m.kern1.variance = 1.\n",
    "m.kern1.variance.fixed = True\n",
    "\n",
    "m.likelihood.variance.prior = gpflow.priors.Gamma(1.,1.)\n",
    "m.nonstat.signal_variance.prior = gpflow.priors.Gamma(1.,1.)"
   ]
  },
  {
   "cell_type": "code",
   "execution_count": 6,
   "metadata": {},
   "outputs": [
    {
     "data": {
      "text/plain": [
       "      fun: array([ 944.35793008])\n",
       " hess_inv: <190x190 LbfgsInvHessProduct with dtype=float64>\n",
       "      jac: array([ -1.37129749e-02,  -1.13555949e-02,  -2.95886103e-03,\n",
       "        -3.61794090e-03,  -3.03698516e-03,  -2.60747296e-03,\n",
       "        -7.59004042e-04,  -6.61278380e-04,  -1.14167571e-03,\n",
       "        -4.28916602e-04,  -5.09736587e-04,  -6.60190424e-04,\n",
       "        -4.68795510e-04,  -4.35025006e-04,  -5.08394306e-04,\n",
       "        -5.41311886e-04,  -5.87331699e-04,  -1.10046482e-03,\n",
       "         2.23396458e-04,  -3.47855247e-04,  -8.88466076e-04,\n",
       "        -6.58163819e-05,   6.78429655e-04,  -3.59249911e-04,\n",
       "        -5.20567489e-04,  -6.97315133e-04,   1.18865562e-04,\n",
       "         1.06341854e-03,   9.36028617e-04,  -6.35553741e-04,\n",
       "         5.02575354e-04,   4.75459990e-04,   8.09707928e-04,\n",
       "         6.47905488e-04,   5.15088338e-04,   5.72647996e-04,\n",
       "         1.10142352e-03,   7.98711334e-04,   1.34629401e-03,\n",
       "         1.31167938e-03,  -2.76953541e-04,   2.70802178e-04,\n",
       "         3.09638404e-03,   4.36885945e-03,  -1.06322435e-03,\n",
       "        -1.24322012e-03,  -2.74661813e-03,   4.36944478e-03,\n",
       "         7.66940670e-03,  -3.11579729e-03,  -7.63283315e-04,\n",
       "         4.80119232e-03,   2.22952940e-03,  -2.81505591e-03,\n",
       "         1.26131556e-03,   2.84957692e-03,  -3.41531956e-03,\n",
       "         5.71971338e-03,   5.31890621e-03,  -8.41376491e-04,\n",
       "         1.53331298e-03,   1.17445660e-03,  -4.47852595e-05,\n",
       "         8.69947946e-04,   8.26594604e-04,   7.00855783e-04,\n",
       "         4.46557036e-04,   4.49957749e-04,   3.59595525e-04,\n",
       "         3.57201944e-04,   1.23178891e-04,   2.32518739e-04,\n",
       "         2.84225813e-04,   4.14912650e-04,   1.99381968e-04,\n",
       "         7.74566259e-05,   9.47929357e-05,   7.47427673e-05,\n",
       "         8.53382673e-05,   4.07756837e-05,   2.16477944e-05,\n",
       "         1.29164127e-05,   1.91171287e-05,   1.18070099e-05,\n",
       "         7.96823546e-06,   9.73442779e-06,   4.91421933e-06,\n",
       "         2.57478000e-06,   2.92581926e-06,   3.17532265e-06,\n",
       "         2.62822137e-06,   2.32822427e-06,   3.33121556e-07,\n",
       "         1.48426974e-06,   7.86712209e-03,   1.37199395e-03,\n",
       "        -5.13810647e-05,  -5.38610594e-04,  -3.37831440e-04,\n",
       "         1.46125919e-03,   3.66370916e-03,   3.79844735e-03,\n",
       "         3.39989798e-03,   2.23399467e-03,   2.26482922e-03,\n",
       "         2.25919562e-03,   2.53444594e-03,   2.32544633e-03,\n",
       "         2.60795989e-03,   1.97137637e-03,   2.33724573e-03,\n",
       "         2.79640684e-03,   2.60648451e-03,   1.47411109e-04,\n",
       "         4.17514150e-03,   4.19971440e-04,   4.67921200e-03,\n",
       "         3.83475395e-03,   1.04301543e-03,   4.24204617e-03,\n",
       "         4.68214568e-03,   3.81853947e-03,   3.25028219e-03,\n",
       "         2.92521922e-03,   4.89264498e-03,   3.96999742e-03,\n",
       "         3.87958980e-03,   3.06390200e-03,   8.00045757e-04,\n",
       "         3.96381738e-04,  -2.91437354e-05,  -4.32727364e-04,\n",
       "        -1.05232778e-03,  -7.82272740e-04,  -3.09988991e-03,\n",
       "        -1.09742589e-03,  -1.24426299e-03,   1.30848789e-03,\n",
       "        -4.89683066e-04,  -2.37117850e-03,   4.88074990e-03,\n",
       "        -5.55019485e-04,   4.10615658e-03,  -6.26808824e-03,\n",
       "        -3.51515053e-03,  -9.63151265e-04,   1.79583564e-03,\n",
       "        -1.19387128e-03,  -4.88017463e-03,   1.81281104e-03,\n",
       "        -3.75460487e-03,  -4.54220010e-04,   1.19131527e-03,\n",
       "        -1.88987844e-04,   1.24148104e-05,   2.34651514e-03,\n",
       "         1.09632083e-03,  -3.46592880e-03,  -1.16125209e-03,\n",
       "        -2.76594416e-03,   9.57988972e-04,   3.09124686e-03,\n",
       "         1.82344327e-03,  -6.78377798e-04,  -2.92106804e-03,\n",
       "        -2.56450928e-03,  -1.47073162e-03,   1.59006509e-03,\n",
       "         1.23674478e-03,   3.82385911e-04,  -1.96318780e-03,\n",
       "        -2.50279810e-03,   1.18882671e-04,   2.61660107e-03,\n",
       "         1.10357789e-03,   1.26962797e-03,  -3.54664812e-04,\n",
       "        -1.17617847e-03,   2.67417646e-04,   8.21863788e-04,\n",
       "         2.40123183e-04,  -9.67678376e-04,   2.50950881e-04,\n",
       "         1.30602686e-03,  -5.59066604e-04,  -4.15906814e-04,\n",
       "        -2.56134673e-04,   3.59597641e-04,  -7.41092594e-03,\n",
       "         6.39189144e-03])\n",
       "  message: 'CONVERGENCE: REL_REDUCTION_OF_F_<=_FACTR*EPSMCH'\n",
       "     nfev: 971\n",
       "      nit: 844\n",
       "   status: 0\n",
       "  success: True\n",
       "        x: array([ -1.81720454e+00,  -7.11744497e-01,   2.42383880e-02,\n",
       "         1.82406689e-01,   1.83175596e-01,   2.10389828e-01,\n",
       "         8.77869188e-02,   7.30387885e-02,   9.31656628e-02,\n",
       "        -7.48230800e-03,  -8.85188456e-02,  -2.15121099e-01,\n",
       "        -2.06382347e-01,  -1.79956373e-01,  -2.93631044e-01,\n",
       "        -3.57111041e-01,  -3.85259522e-01,  -8.59755343e-01,\n",
       "        -3.87495251e-01,  -3.33469715e-01,  -8.11311363e-01,\n",
       "        -4.78017726e-01,  -6.88835019e-01,  -4.57314288e-01,\n",
       "        -4.15525439e-01,  -4.06140971e-01,  -4.23765801e-01,\n",
       "        -4.40166400e-01,  -4.37197193e-01,  -4.49476520e-01,\n",
       "        -8.89001366e-01,  -5.25436613e-01,  -8.23058616e-01,\n",
       "        -7.32543838e-01,  -4.63809032e-01,  -4.05993396e-01,\n",
       "        -6.69352766e-01,  -4.80808956e-01,  -7.51952516e-01,\n",
       "        -4.33542087e-01,  -4.60307713e-01,  -3.66750768e-01,\n",
       "        -7.73232493e-01,  -3.52305459e-01,  -4.64101444e-01,\n",
       "        -3.28169743e-01,  -3.79502229e-01,  -3.86897826e-01,\n",
       "        -3.59476799e-01,  -2.95075121e-01,  -3.21240044e-01,\n",
       "        -2.32735135e-01,  -2.12904219e-01,  -3.20335942e-01,\n",
       "        -2.23425781e-01,  -2.29820319e-01,  -2.72097746e-01,\n",
       "        -1.72223668e-01,  -1.45029558e-01,  -2.47901345e-01,\n",
       "        -2.42428635e-01,  -2.06425204e-01,  -1.11106590e-01,\n",
       "        -1.61127084e-01,  -1.55031554e-01,  -1.19094073e-01,\n",
       "        -8.44409665e-02,  -9.42206638e-02,  -7.42267101e-02,\n",
       "        -6.71264387e-02,  -5.06010431e-02,  -4.46801450e-02,\n",
       "        -7.16313310e-02,  -1.02015580e-01,  -6.31692161e-02,\n",
       "        -2.77466305e-02,  -4.21450014e-02,  -3.76393563e-02,\n",
       "        -5.51148639e-02,  -3.43854131e-02,  -2.26891118e-02,\n",
       "        -1.55986204e-02,  -3.03644342e-02,  -1.91627919e-02,\n",
       "        -1.89870595e-02,  -2.48786792e-02,  -1.41775795e-02,\n",
       "        -9.91890575e-03,  -9.51343254e-03,  -4.58185153e-03,\n",
       "        -2.40216649e-03,  -1.40889728e-03,  -3.89311503e-04,\n",
       "        -4.87170595e-04,  -8.79932759e-02,  -9.39072551e-02,\n",
       "        -7.90270813e-02,  -6.99806793e-02,  -6.52175256e-02,\n",
       "        -1.13015655e-01,  -1.47564176e-01,  -1.73739030e-01,\n",
       "        -1.62166276e-01,  -4.03300731e-02,   9.78016159e-02,\n",
       "         2.40522629e-01,   2.51261195e-01,   8.13903759e-02,\n",
       "        -5.05409020e-02,  -3.22773202e-01,  -6.82174651e-01,\n",
       "        -2.21032874e+00,  -3.66669089e+00,  -4.34601621e+00,\n",
       "        -4.28515730e+00,  -4.46606503e+00,  -3.99166915e+00,\n",
       "        -3.83489985e+00,  -2.13015938e+00,  -2.21354540e+00,\n",
       "        -2.44954849e+00,  -2.18491814e+00,  -1.80392742e+00,\n",
       "        -1.59479212e+00,  -2.34608093e+00,  -1.37476971e+00,\n",
       "        -1.06099482e+00,  -4.28757942e-01,   1.19199834e-01,\n",
       "         2.26173234e-01,   5.31612804e-01,   5.25270374e-01,\n",
       "         1.04429514e+00,   7.39657556e-01,   1.20408898e+00,\n",
       "         6.68724989e-01,   1.42497519e+00,   5.53766616e-01,\n",
       "         9.25388120e-01,   1.46226452e-01,  -3.74719405e-01,\n",
       "        -1.07984915e+00,  -1.40719383e+00,  -8.86716902e-01,\n",
       "        -7.16155899e-01,   1.10629095e-01,   5.32111841e-01,\n",
       "         9.08095896e-01,   2.51248437e-01,   5.24419587e-02,\n",
       "        -4.30485728e-01,  -1.16939372e-02,   2.52810882e-01,\n",
       "         8.87136506e-01,   5.46211842e-01,   4.38543295e-01,\n",
       "         7.32869051e-01,   6.81389607e-01,   1.19198350e+00,\n",
       "         1.39495368e+00,   1.05918265e+00,   2.40535616e-01,\n",
       "        -6.55857253e-01,  -8.18522791e-01,  -2.78580558e-01,\n",
       "         2.94592305e-01,   7.92767311e-01,   2.02488367e+00,\n",
       "        -4.19807039e-01,  -8.35883790e-01,  -6.45441266e-01,\n",
       "         2.71899715e-01,   1.68394966e+00,   8.80187733e-01,\n",
       "         3.20526036e-02,   6.40478316e-02,  -5.17020014e-02,\n",
       "         3.02208516e-01,   3.83652118e-01,   3.53558904e-01,\n",
       "        -1.35501462e+00,  -3.90874764e-01,   1.36363455e-01,\n",
       "         1.69029773e-01,  -7.10602276e-01,   7.99986474e-02,\n",
       "         2.92936249e-01,   3.76339902e-01,   1.15082130e+02,\n",
       "         8.86623052e+01])"
      ]
     },
     "execution_count": 6,
     "metadata": {},
     "output_type": "execute_result"
    }
   ],
   "source": [
    "m.optimize(maxiter=1000) # start near MAP"
   ]
  },
  {
   "cell_type": "code",
   "execution_count": 7,
   "metadata": {},
   "outputs": [
    {
     "name": "stdout",
     "output_type": "stream",
     "text": [
      "burn-in sampling started\n",
      "Iteration:  100 \t Acc Rate:  18.0 %\n",
      "Iteration:  200 \t Acc Rate:  9.0 %\n",
      "Iteration:  300 \t Acc Rate:  11.0 %\n",
      "Iteration:  400 \t Acc Rate:  13.0 %\n",
      "Iteration:  500 \t Acc Rate:  21.0 %\n",
      "Iteration:  600 \t Acc Rate:  41.0 %\n",
      "Iteration:  700 \t Acc Rate:  65.0 %\n",
      "Iteration:  800 \t Acc Rate:  55.0 %\n",
      "Iteration:  900 \t Acc Rate:  51.0 %\n",
      "Iteration:  1000 \t Acc Rate:  50.0 %\n",
      "burn-in sampling ended\n",
      "Iteration:  100 \t Acc Rate:  48.0 %\n",
      "Iteration:  200 \t Acc Rate:  44.0 %\n",
      "Iteration:  300 \t Acc Rate:  54.0 %\n",
      "Iteration:  400 \t Acc Rate:  53.0 %\n",
      "Iteration:  500 \t Acc Rate:  53.0 %\n",
      "Iteration:  600 \t Acc Rate:  22.0 %\n",
      "Iteration:  700 \t Acc Rate:  47.0 %\n",
      "Iteration:  800 \t Acc Rate:  59.0 %\n",
      "Iteration:  900 \t Acc Rate:  55.0 %\n",
      "Iteration:  1000 \t Acc Rate:  57.0 %\n",
      "Iteration:  1100 \t Acc Rate:  65.0 %\n",
      "Iteration:  1200 \t Acc Rate:  70.0 %\n",
      "Iteration:  1300 \t Acc Rate:  47.0 %\n",
      "Iteration:  1400 \t Acc Rate:  40.0 %\n",
      "Iteration:  1500 \t Acc Rate:  64.0 %\n",
      "Iteration:  1600 \t Acc Rate:  42.0 %\n",
      "Iteration:  1700 \t Acc Rate:  30.0 %\n",
      "Iteration:  1800 \t Acc Rate:  3.0 %\n",
      "Iteration:  1900 \t Acc Rate:  6.0 %\n",
      "Iteration:  2000 \t Acc Rate:  35.0 %\n",
      "Iteration:  2100 \t Acc Rate:  43.0 %\n",
      "Iteration:  2200 \t Acc Rate:  53.0 %\n",
      "Iteration:  2300 \t Acc Rate:  64.0 %\n",
      "Iteration:  2400 \t Acc Rate:  38.0 %\n",
      "Iteration:  2500 \t Acc Rate:  45.0 %\n",
      "Iteration:  2600 \t Acc Rate:  62.0 %\n",
      "Iteration:  2700 \t Acc Rate:  52.0 %\n",
      "Iteration:  2800 \t Acc Rate:  50.0 %\n",
      "Iteration:  2900 \t Acc Rate:  43.0 %\n",
      "Iteration:  3000 \t Acc Rate:  59.0 %\n",
      "Iteration:  3100 \t Acc Rate:  48.0 %\n",
      "Iteration:  3200 \t Acc Rate:  0.0 %\n",
      "Iteration:  3300 \t Acc Rate:  0.0 %\n",
      "Iteration:  3400 \t Acc Rate:  40.0 %\n",
      "Iteration:  3500 \t Acc Rate:  50.0 %\n",
      "Iteration:  3600 \t Acc Rate:  47.0 %\n",
      "Iteration:  3700 \t Acc Rate:  44.0 %\n",
      "Iteration:  3800 \t Acc Rate:  9.0 %\n",
      "Iteration:  3900 \t Acc Rate:  37.0 %\n",
      "Iteration:  4000 \t Acc Rate:  45.0 %\n"
     ]
    }
   ],
   "source": [
    "samples = m.sample(2000, verbose=True, epsilon=0.025, thin = 2, burn = 1000, Lmax = 80)"
   ]
  },
  {
   "cell_type": "code",
   "execution_count": 8,
   "metadata": {
    "scrolled": true
   },
   "outputs": [
    {
     "data": {
      "text/html": [
       "<table id='params' width=100%><tr><td>Name</td><td>values</td><td>prior</td><td>constraint</td></tr><tr><td>adaptive_lengthscale_gp.V1</td><td>[[ -1.81720454e+00]</br> [ -7.11744497e-01]</br> [  2.42383880e-02]</br> [  1.82406689e-01]</br> [  1.83175596e-01]</br> [  2.10389828e-01]</br> [  8.77869188e-02]</br> [  7.30387885e-02]</br> [  9.31656628e-02]</br> [ -7.48230800e-03]</br> [ -8.85188456e-02]</br> [ -2.15121099e-01]</br> [ -2.06382347e-01]</br> [ -1.79956373e-01]</br> [ -2.93631044e-01]</br> [ -3.57111041e-01]</br> [ -3.85259522e-01]</br> [ -8.59755343e-01]</br> [ -3.87495251e-01]</br> [ -3.33469715e-01]</br> [ -8.11311363e-01]</br> [ -4.78017726e-01]</br> [ -6.88835019e-01]</br> [ -4.57314288e-01]</br> [ -4.15525439e-01]</br> [ -4.06140971e-01]</br> [ -4.23765801e-01]</br> [ -4.40166400e-01]</br> [ -4.37197193e-01]</br> [ -4.49476520e-01]</br> [ -8.89001366e-01]</br> [ -5.25436613e-01]</br> [ -8.23058616e-01]</br> [ -7.32543838e-01]</br> [ -4.63809032e-01]</br> [ -4.05993396e-01]</br> [ -6.69352766e-01]</br> [ -4.80808956e-01]</br> [ -7.51952516e-01]</br> [ -4.33542087e-01]</br> [ -4.60307713e-01]</br> [ -3.66750768e-01]</br> [ -7.73232493e-01]</br> [ -3.52305459e-01]</br> [ -4.64101444e-01]</br> [ -3.28169743e-01]</br> [ -3.79502229e-01]</br> [ -3.86897826e-01]</br> [ -3.59476799e-01]</br> [ -2.95075121e-01]</br> [ -3.21240044e-01]</br> [ -2.32735135e-01]</br> [ -2.12904219e-01]</br> [ -3.20335942e-01]</br> [ -2.23425781e-01]</br> [ -2.29820319e-01]</br> [ -2.72097746e-01]</br> [ -1.72223668e-01]</br> [ -1.45029558e-01]</br> [ -2.47901345e-01]</br> [ -2.42428635e-01]</br> [ -2.06425204e-01]</br> [ -1.11106590e-01]</br> [ -1.61127084e-01]</br> [ -1.55031554e-01]</br> [ -1.19094073e-01]</br> [ -8.44409665e-02]</br> [ -9.42206638e-02]</br> [ -7.42267101e-02]</br> [ -6.71264387e-02]</br> [ -5.06010431e-02]</br> [ -4.46801450e-02]</br> [ -7.16313310e-02]</br> [ -1.02015580e-01]</br> [ -6.31692161e-02]</br> [ -2.77466305e-02]</br> [ -4.21450014e-02]</br> [ -3.76393563e-02]</br> [ -5.51148639e-02]</br> [ -3.43854131e-02]</br> [ -2.26891118e-02]</br> [ -1.55986204e-02]</br> [ -3.03644342e-02]</br> [ -1.91627919e-02]</br> [ -1.89870595e-02]</br> [ -2.48786792e-02]</br> [ -1.41775795e-02]</br> [ -9.91890575e-03]</br> [ -9.51343254e-03]</br> [ -4.58185153e-03]</br> [ -2.40216649e-03]</br> [ -1.40889728e-03]</br> [ -3.89311503e-04]</br> [ -4.87170595e-04]]</td><td>N([ 0.],[ 1.])</td><td>(none)</td></tr><tr><td>adaptive_lengthscale_gp.V2</td><td>[[-0.08799328]</br> [-0.09390726]</br> [-0.07902708]</br> [-0.06998068]</br> [-0.06521753]</br> [-0.11301565]</br> [-0.14756418]</br> [-0.17373903]</br> [-0.16216628]</br> [-0.04033007]</br> [ 0.09780162]</br> [ 0.24052263]</br> [ 0.25126119]</br> [ 0.08139038]</br> [-0.0505409 ]</br> [-0.3227732 ]</br> [-0.68217465]</br> [-2.21032874]</br> [-3.66669089]</br> [-4.34601621]</br> [-4.2851573 ]</br> [-4.46606503]</br> [-3.99166915]</br> [-3.83489985]</br> [-2.13015938]</br> [-2.2135454 ]</br> [-2.44954849]</br> [-2.18491814]</br> [-1.80392742]</br> [-1.59479212]</br> [-2.34608093]</br> [-1.37476971]</br> [-1.06099482]</br> [-0.42875794]</br> [ 0.11919983]</br> [ 0.22617323]</br> [ 0.5316128 ]</br> [ 0.52527037]</br> [ 1.04429514]</br> [ 0.73965756]</br> [ 1.20408898]</br> [ 0.66872499]</br> [ 1.42497519]</br> [ 0.55376662]</br> [ 0.92538812]</br> [ 0.14622645]</br> [-0.37471941]</br> [-1.07984915]</br> [-1.40719383]</br> [-0.8867169 ]</br> [-0.7161559 ]</br> [ 0.11062909]</br> [ 0.53211184]</br> [ 0.9080959 ]</br> [ 0.25124844]</br> [ 0.05244196]</br> [-0.43048573]</br> [-0.01169394]</br> [ 0.25281088]</br> [ 0.88713651]</br> [ 0.54621184]</br> [ 0.43854329]</br> [ 0.73286905]</br> [ 0.68138961]</br> [ 1.1919835 ]</br> [ 1.39495368]</br> [ 1.05918265]</br> [ 0.24053562]</br> [-0.65585725]</br> [-0.81852279]</br> [-0.27858056]</br> [ 0.2945923 ]</br> [ 0.79276731]</br> [ 2.02488367]</br> [-0.41980704]</br> [-0.83588379]</br> [-0.64544127]</br> [ 0.27189972]</br> [ 1.68394966]</br> [ 0.88018773]</br> [ 0.0320526 ]</br> [ 0.06404783]</br> [-0.051702  ]</br> [ 0.30220852]</br> [ 0.38365212]</br> [ 0.3535589 ]</br> [-1.35501462]</br> [-0.39087476]</br> [ 0.13636345]</br> [ 0.16902977]</br> [-0.71060228]</br> [ 0.07999865]</br> [ 0.29293625]</br> [ 0.3763399 ]]</td><td>N([ 0.],[ 1.])</td><td>(none)</td></tr><tr><td>adaptive_lengthscale_gp.kern1.lengthscales</td><td>[ 1.]</td><td>None</td><td>[FIXED]</td></tr><tr><td>adaptive_lengthscale_gp.kern1.variance</td><td>[ 1.]</td><td>None</td><td>[FIXED]</td></tr><tr><td>adaptive_lengthscale_gp.likelihood.variance</td><td>[ 115.08213079]</td><td>Ga([ 1.],[ 1.])</td><td>+ve</td></tr><tr><td>adaptive_lengthscale_gp.nonstat.signal_variance</td><td>[ 88.66230619]</td><td>Ga([ 1.],[ 1.])</td><td>+ve</td></tr></table>"
      ],
      "text/plain": [
       "<GPHetero.hetero_gpmc.GPMCAdaptiveLengthscale at 0x1816a09390>"
      ]
     },
     "execution_count": 8,
     "metadata": {},
     "output_type": "execute_result"
    }
   ],
   "source": [
    "m"
   ]
  },
  {
   "cell_type": "code",
   "execution_count": 9,
   "metadata": {
    "collapsed": true
   },
   "outputs": [],
   "source": [
    "xnew = np.linspace(0,60,50)[:,None]\n",
    "xx = (xnew - Xm)/Xv"
   ]
  },
  {
   "cell_type": "code",
   "execution_count": 10,
   "metadata": {
    "collapsed": true
   },
   "outputs": [],
   "source": [
    "sample_df = m.get_samples_df(samples)"
   ]
  },
  {
   "cell_type": "code",
   "execution_count": 11,
   "metadata": {
    "collapsed": true
   },
   "outputs": [],
   "source": [
    "mean_l_mat = np.zeros(shape = (samples.shape[0], xx.shape[0]))\n",
    "var_l_mat = np.zeros(shape = (samples.shape[0], xx.shape[0]))"
   ]
  },
  {
   "cell_type": "code",
   "execution_count": 12,
   "metadata": {
    "collapsed": true
   },
   "outputs": [],
   "source": [
    "for i, s in sample_df.iterrows():\n",
    "    m.set_parameter_dict(s)\n",
    "    mean1, v1 = m.predict_l(xx)\n",
    "    var1 = v1[:,:]\n",
    "    mean_l_mat[i,:] = mean1[:,0]\n",
    "    var_l_mat[i,:] = np.diag(var1)\n",
    "\n",
    "std_l_mat = np.sqrt(var_l_mat)"
   ]
  },
  {
   "cell_type": "code",
   "execution_count": 13,
   "metadata": {
    "collapsed": true
   },
   "outputs": [],
   "source": [
    "LowerlogL = mean_l_mat - 2*std_l_mat\n",
    "UpperlogL = mean_l_mat + 2*std_l_mat"
   ]
  },
  {
   "cell_type": "code",
   "execution_count": 14,
   "metadata": {
    "collapsed": true
   },
   "outputs": [],
   "source": [
    "MeanL = np.exp(mean_l_mat)\n",
    "LowerL = np.exp(LowerlogL)\n",
    "UpperL = np.exp(UpperlogL)"
   ]
  },
  {
   "cell_type": "code",
   "execution_count": 15,
   "metadata": {},
   "outputs": [
    {
     "data": {
      "text/plain": [
       "array([[ 0.52764045,  0.45469458,  0.39309105, ...,  0.15755456,\n",
       "         0.19654086,  0.24411279],\n",
       "       [ 0.52764045,  0.45469458,  0.39309105, ...,  0.15755456,\n",
       "         0.19654086,  0.24411279],\n",
       "       [ 0.10920333,  0.11176749,  0.11512012, ...,  0.03056385,\n",
       "         0.03424146,  0.03891042],\n",
       "       ..., \n",
       "       [ 0.11222924,  0.10089361,  0.09370375, ...,  0.39186332,\n",
       "         0.51546512,  0.67898042],\n",
       "       [ 0.11222924,  0.10089361,  0.09370375, ...,  0.39186332,\n",
       "         0.51546512,  0.67898042],\n",
       "       [ 0.07403765,  0.06937221,  0.06741647, ...,  0.58176011,\n",
       "         0.76162719,  0.97839281]])"
      ]
     },
     "execution_count": 15,
     "metadata": {},
     "output_type": "execute_result"
    }
   ],
   "source": [
    "LowerL"
   ]
  },
  {
   "cell_type": "code",
   "execution_count": 17,
   "metadata": {
    "scrolled": false
   },
   "outputs": [],
   "source": [
    "mean_f_mat = np.zeros(shape = (samples.shape[0], xx.shape[0]))\n",
    "var_f_mat = np.zeros(shape = (samples.shape[0], xx.shape[0]))\n",
    "\n",
    "for i, s in sample_df.iterrows():\n",
    "    m.set_parameter_dict(s)\n",
    "    mean1, v1 = m.predict_f(xx)\n",
    "    var1 = v1[:,:]\n",
    "    mean_f_mat[i,:] = mean1[:,0]\n",
    "    var_f_mat[i,:] = np.diag(var1)\n",
    "\n",
    "sig_samples = m.nonstat.signal_variance.get_samples_df(samples)\n",
    "noise_samples = m.likelihood.variance.get_samples_df(samples)\n",
    "signal_var = np.array([])\n",
    "noise_var = np.array([])\n",
    "for s in sig_samples:\n",
    "    signal_var = np.append(signal_var, s)\n",
    "\n",
    "for n in noise_samples:\n",
    "    noise_var = np.append(noise_var, n)\n",
    "    "
   ]
  },
  {
   "cell_type": "code",
   "execution_count": null,
   "metadata": {
    "collapsed": true
   },
   "outputs": [],
   "source": [
    "def visualize(Xgrid, Mgrid, Vargrid, noise_var):\n",
    "    \"\"\"\n",
    "    Visualize 1D utility funciton values\n",
    "    Xgrid : grid states\n",
    "    Mgrid : mean of GP at those finite grid points\n",
    "    Vargrid : variance of GP at those finite grid points\n",
    "    \"\"\"\n",
    "    Std_noise = np.sqrt(noise_var)\n",
    "    signal_std = np.sqrt(signal_var)\n",
    " \n",
    "    Stdgrid = np.sqrt(Vargrid)\n",
    "    \n",
    "    lower = Mgrid - 2*Stdgrid\n",
    "    upper = Mgrid + 2*Stdgrid\n",
    "    \n",
    "    lower1 = lower - 2*Std_noise\n",
    "    upper1 = upper + 2*Std_noise\n",
    "    \n",
    "    plt.plot(X, Y, '.')\n",
    "    line, = plt.plot(Xgrid, Mgrid, lw = 2, color = 'b', label = 'utility', alpha = 0.5)\n",
    "    plt.fill_between(Xgrid[:,0], lower, upper,\n",
    "                     color = 'b', alpha = 0.25)\n",
    "    plt.fill_between(Xgrid[:,0], lower1, upper1,\n",
    "                     color = 'g', alpha = 0.25)\n",
    "    plt.xlabel('x')\n",
    "    plt.ylabel('y')\n",
    "    return"
   ]
  },
  {
   "cell_type": "code",
   "execution_count": null,
   "metadata": {},
   "outputs": [],
   "source": [
    "mini = 205\n",
    "maxi = 206\n",
    "plt.figure(figsize=(12,8))\n",
    "for i in xrange(mini,maxi):\n",
    "    visualize(xnew, mean_f_mat[i,:], var_f_mat[i,:], signal_var[i], noise_var[i])  "
   ]
  },
  {
   "cell_type": "code",
   "execution_count": null,
   "metadata": {
    "collapsed": true
   },
   "outputs": [],
   "source": [
    "def visualize_l(Xgrid, M, L, U):\n",
    "    \"\"\"\n",
    "    Visualize 1D utility funciton values\n",
    "    Xgrid : grid states\n",
    "    Mgrid : mean of GP at those finite grid points\n",
    "    Vargrid : variance of GP at those finite grid points\n",
    "    \"\"\"\n",
    "    \n",
    "    line, = plt.plot(Xgrid, M, lw = 2, color = 'b', label = 'utility', alpha = 0.5)\n",
    "    plt.fill_between(Xgrid[:,0], L, U,\n",
    "                     color = 'b', alpha = 0.25)\n",
    "    #plt.fill_between(Xgrid[:,0], lower1, upper1,\n",
    "    #                 color = 'g', alpha = 0.25)\n",
    "    plt.xlabel('x')\n",
    "    plt.ylabel('y')\n",
    "    return"
   ]
  },
  {
   "cell_type": "code",
   "execution_count": null,
   "metadata": {},
   "outputs": [],
   "source": [
    "mini = 205\n",
    "maxi = 210\n",
    "plt.figure(figsize=(12,8))\n",
    "for i in xrange(mini,maxi):\n",
    "    visualize_l(xnew, MeanL[i,:], LowerL[i,:], UpperL[i,:])  "
   ]
  },
  {
   "cell_type": "code",
   "execution_count": null,
   "metadata": {
    "collapsed": true
   },
   "outputs": [],
   "source": [
    "sig_samples = m.signal_variance.get_samples_df(samples)"
   ]
  },
  {
   "cell_type": "code",
   "execution_count": null,
   "metadata": {
    "collapsed": true
   },
   "outputs": [],
   "source": [
    "signal_var = np.array([])\n",
    "for s in sig_samples:\n",
    "    signal_var = np.append(signal_var, s)"
   ]
  },
  {
   "cell_type": "code",
   "execution_count": null,
   "metadata": {},
   "outputs": [],
   "source": [
    "noise_var"
   ]
  },
  {
   "cell_type": "code",
   "execution_count": null,
   "metadata": {
    "collapsed": true
   },
   "outputs": [],
   "source": []
  }
 ],
 "metadata": {
  "kernelspec": {
   "display_name": "Python [default]",
   "language": "python",
   "name": "python2"
  },
  "language_info": {
   "codemirror_mode": {
    "name": "ipython",
    "version": 2
   },
   "file_extension": ".py",
   "mimetype": "text/x-python",
   "name": "python",
   "nbconvert_exporter": "python",
   "pygments_lexer": "ipython2",
   "version": "2.7.14"
  }
 },
 "nbformat": 4,
 "nbformat_minor": 2
}
