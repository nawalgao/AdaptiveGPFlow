{
 "cells": [
  {
   "cell_type": "code",
   "execution_count": 1,
   "metadata": {},
   "outputs": [
    {
     "ename": "RuntimeError",
     "evalue": "module compiled against API version 0xb but this version of numpy is 0xa",
     "output_type": "error",
     "traceback": [
      "\u001b[0;31m---------------------------------------------------------------------------\u001b[0m",
      "\u001b[0;31mRuntimeError\u001b[0m                              Traceback (most recent call last)",
      "\u001b[0;31mRuntimeError\u001b[0m: module compiled against API version 0xb but this version of numpy is 0xa"
     ]
    },
    {
     "ename": "RuntimeError",
     "evalue": "module compiled against API version 0xb but this version of numpy is 0xa",
     "output_type": "error",
     "traceback": [
      "\u001b[0;31m---------------------------------------------------------------------------\u001b[0m",
      "\u001b[0;31mRuntimeError\u001b[0m                              Traceback (most recent call last)",
      "\u001b[0;31mRuntimeError\u001b[0m: module compiled against API version 0xb but this version of numpy is 0xa"
     ]
    }
   ],
   "source": [
    "import gpflow\n",
    "import numpy as np\n",
    "import matplotlib.pyplot as plt\n",
    "%matplotlib inline\n",
    "import sys\n",
    "sys.path.append('../')\n",
    "from GPHetero import hetero_kernels, hetero_likelihoods, hetero_gpmc"
   ]
  },
  {
   "cell_type": "code",
   "execution_count": 2,
   "metadata": {},
   "outputs": [],
   "source": [
    "from ctf.ctf.functions2d import branin\n",
    "Br = branin.Branin()\n",
    "X1_domain = Br.domain[0]\n",
    "X2_domain = Br.domain[1]"
   ]
  },
  {
   "cell_type": "code",
   "execution_count": 3,
   "metadata": {
    "collapsed": true
   },
   "outputs": [],
   "source": [
    "X1 = np.linspace(X1_domain[0], X1_domain[1],10)\n",
    "X2 = np.linspace(X2_domain[0], X2_domain[1],10)\n",
    "\n",
    "Xtt1, Xtt2 = np.meshgrid(X1, X2)\n",
    "X_train = np.zeros(shape =(np.ravel(Xtt1).shape[0],2))\n",
    "X_train[:,0] = np.ravel(Xtt1) \n",
    "X_train[:,1] = np.ravel(Xtt2)"
   ]
  },
  {
   "cell_type": "code",
   "execution_count": 4,
   "metadata": {},
   "outputs": [],
   "source": [
    "Xtrain_mean = np.mean(X_train, 0)\n",
    "Xtrain_std = np.std(X_train, 0)\n",
    "X_train_norm = (X_train - Xtrain_mean)/Xtrain_std\n",
    "Y_train = Br.cost(X_train.T)"
   ]
  },
  {
   "cell_type": "code",
   "execution_count": 5,
   "metadata": {},
   "outputs": [
    {
     "data": {
      "text/plain": [
       "<matplotlib.colorbar.Colorbar at 0x18194aaa10>"
      ]
     },
     "execution_count": 5,
     "metadata": {},
     "output_type": "execute_result"
    },
    {
     "data": {
      "image/png": "[encoded data removed]",
      "text/plain": [
       "<matplotlib.figure.Figure at 0x181442a490>"
      ]
     },
     "metadata": {},
     "output_type": "display_data"
    }
   ],
   "source": [
    "plt.figure(figsize=(10,8))\n",
    "num_grid = X1.shape[0]\n",
    "c = plt.contourf(X1, X2, Y_train.reshape((num_grid, num_grid), order='F'), cmap=plt.cm.Blues)\n",
    "plt.colorbar(c)"
   ]
  },
  {
   "cell_type": "code",
   "execution_count": 6,
   "metadata": {},
   "outputs": [],
   "source": [
    "#build the model\n",
    "k1 = gpflow.kernels.RBF(1)\n",
    "k2 = gpflow.kernels.RBF(1)\n",
    "noisekern = gpflow.kernels.RBF(2, ARD = True)\n",
    "nonstat = hetero_kernels.NonStationaryLengthscaleRBF()\n",
    "m = hetero_gpmc.GPMCAdaptLAdaptN2D(X_train_norm, Y_train[:,None], k1, k2, noisekern, nonstat)"
   ]
  },
  {
   "cell_type": "code",
   "execution_count": 7,
   "metadata": {},
   "outputs": [
    {
     "data": {
      "text/html": [
       "<table id='params' width=100%><tr><td>Name</td><td>values</td><td>prior</td><td>constraint</td></tr><tr><td>adaptive_lengthscale_gp2D.V1</td><td>[[ 0.]</br> [ 0.]</br> [ 0.]</br> [ 0.]</br> [ 0.]</br> [ 0.]</br> [ 0.]</br> [ 0.]</br> [ 0.]</br> [ 0.]</br> [ 0.]</br> [ 0.]</br> [ 0.]</br> [ 0.]</br> [ 0.]</br> [ 0.]</br> [ 0.]</br> [ 0.]</br> [ 0.]</br> [ 0.]</br> [ 0.]</br> [ 0.]</br> [ 0.]</br> [ 0.]</br> [ 0.]</br> [ 0.]</br> [ 0.]</br> [ 0.]</br> [ 0.]</br> [ 0.]</br> [ 0.]</br> [ 0.]</br> [ 0.]</br> [ 0.]</br> [ 0.]</br> [ 0.]</br> [ 0.]</br> [ 0.]</br> [ 0.]</br> [ 0.]</br> [ 0.]</br> [ 0.]</br> [ 0.]</br> [ 0.]</br> [ 0.]</br> [ 0.]</br> [ 0.]</br> [ 0.]</br> [ 0.]</br> [ 0.]</br> [ 0.]</br> [ 0.]</br> [ 0.]</br> [ 0.]</br> [ 0.]</br> [ 0.]</br> [ 0.]</br> [ 0.]</br> [ 0.]</br> [ 0.]</br> [ 0.]</br> [ 0.]</br> [ 0.]</br> [ 0.]</br> [ 0.]</br> [ 0.]</br> [ 0.]</br> [ 0.]</br> [ 0.]</br> [ 0.]</br> [ 0.]</br> [ 0.]</br> [ 0.]</br> [ 0.]</br> [ 0.]</br> [ 0.]</br> [ 0.]</br> [ 0.]</br> [ 0.]</br> [ 0.]</br> [ 0.]</br> [ 0.]</br> [ 0.]</br> [ 0.]</br> [ 0.]</br> [ 0.]</br> [ 0.]</br> [ 0.]</br> [ 0.]</br> [ 0.]</br> [ 0.]</br> [ 0.]</br> [ 0.]</br> [ 0.]</br> [ 0.]</br> [ 0.]</br> [ 0.]</br> [ 0.]</br> [ 0.]</br> [ 0.]]</td><td>N([ 0.],[ 1.])</td><td>(none)</td></tr><tr><td>adaptive_lengthscale_gp2D.V2</td><td>[[ 0.]</br> [ 0.]</br> [ 0.]</br> [ 0.]</br> [ 0.]</br> [ 0.]</br> [ 0.]</br> [ 0.]</br> [ 0.]</br> [ 0.]</br> [ 0.]</br> [ 0.]</br> [ 0.]</br> [ 0.]</br> [ 0.]</br> [ 0.]</br> [ 0.]</br> [ 0.]</br> [ 0.]</br> [ 0.]</br> [ 0.]</br> [ 0.]</br> [ 0.]</br> [ 0.]</br> [ 0.]</br> [ 0.]</br> [ 0.]</br> [ 0.]</br> [ 0.]</br> [ 0.]</br> [ 0.]</br> [ 0.]</br> [ 0.]</br> [ 0.]</br> [ 0.]</br> [ 0.]</br> [ 0.]</br> [ 0.]</br> [ 0.]</br> [ 0.]</br> [ 0.]</br> [ 0.]</br> [ 0.]</br> [ 0.]</br> [ 0.]</br> [ 0.]</br> [ 0.]</br> [ 0.]</br> [ 0.]</br> [ 0.]</br> [ 0.]</br> [ 0.]</br> [ 0.]</br> [ 0.]</br> [ 0.]</br> [ 0.]</br> [ 0.]</br> [ 0.]</br> [ 0.]</br> [ 0.]</br> [ 0.]</br> [ 0.]</br> [ 0.]</br> [ 0.]</br> [ 0.]</br> [ 0.]</br> [ 0.]</br> [ 0.]</br> [ 0.]</br> [ 0.]</br> [ 0.]</br> [ 0.]</br> [ 0.]</br> [ 0.]</br> [ 0.]</br> [ 0.]</br> [ 0.]</br> [ 0.]</br> [ 0.]</br> [ 0.]</br> [ 0.]</br> [ 0.]</br> [ 0.]</br> [ 0.]</br> [ 0.]</br> [ 0.]</br> [ 0.]</br> [ 0.]</br> [ 0.]</br> [ 0.]</br> [ 0.]</br> [ 0.]</br> [ 0.]</br> [ 0.]</br> [ 0.]</br> [ 0.]</br> [ 0.]</br> [ 0.]</br> [ 0.]</br> [ 0.]]</td><td>N([ 0.],[ 1.])</td><td>(none)</td></tr><tr><td>adaptive_lengthscale_gp2D.V3</td><td>[[ 0.]</br> [ 0.]</br> [ 0.]</br> [ 0.]</br> [ 0.]</br> [ 0.]</br> [ 0.]</br> [ 0.]</br> [ 0.]</br> [ 0.]</br> [ 0.]</br> [ 0.]</br> [ 0.]</br> [ 0.]</br> [ 0.]</br> [ 0.]</br> [ 0.]</br> [ 0.]</br> [ 0.]</br> [ 0.]</br> [ 0.]</br> [ 0.]</br> [ 0.]</br> [ 0.]</br> [ 0.]</br> [ 0.]</br> [ 0.]</br> [ 0.]</br> [ 0.]</br> [ 0.]</br> [ 0.]</br> [ 0.]</br> [ 0.]</br> [ 0.]</br> [ 0.]</br> [ 0.]</br> [ 0.]</br> [ 0.]</br> [ 0.]</br> [ 0.]</br> [ 0.]</br> [ 0.]</br> [ 0.]</br> [ 0.]</br> [ 0.]</br> [ 0.]</br> [ 0.]</br> [ 0.]</br> [ 0.]</br> [ 0.]</br> [ 0.]</br> [ 0.]</br> [ 0.]</br> [ 0.]</br> [ 0.]</br> [ 0.]</br> [ 0.]</br> [ 0.]</br> [ 0.]</br> [ 0.]</br> [ 0.]</br> [ 0.]</br> [ 0.]</br> [ 0.]</br> [ 0.]</br> [ 0.]</br> [ 0.]</br> [ 0.]</br> [ 0.]</br> [ 0.]</br> [ 0.]</br> [ 0.]</br> [ 0.]</br> [ 0.]</br> [ 0.]</br> [ 0.]</br> [ 0.]</br> [ 0.]</br> [ 0.]</br> [ 0.]</br> [ 0.]</br> [ 0.]</br> [ 0.]</br> [ 0.]</br> [ 0.]</br> [ 0.]</br> [ 0.]</br> [ 0.]</br> [ 0.]</br> [ 0.]</br> [ 0.]</br> [ 0.]</br> [ 0.]</br> [ 0.]</br> [ 0.]</br> [ 0.]</br> [ 0.]</br> [ 0.]</br> [ 0.]</br> [ 0.]]</td><td>N([ 0.],[ 1.])</td><td>(none)</td></tr><tr><td>adaptive_lengthscale_gp2D.V4</td><td>[[ 0.]</br> [ 0.]</br> [ 0.]</br> [ 0.]</br> [ 0.]</br> [ 0.]</br> [ 0.]</br> [ 0.]</br> [ 0.]</br> [ 0.]</br> [ 0.]</br> [ 0.]</br> [ 0.]</br> [ 0.]</br> [ 0.]</br> [ 0.]</br> [ 0.]</br> [ 0.]</br> [ 0.]</br> [ 0.]</br> [ 0.]</br> [ 0.]</br> [ 0.]</br> [ 0.]</br> [ 0.]</br> [ 0.]</br> [ 0.]</br> [ 0.]</br> [ 0.]</br> [ 0.]</br> [ 0.]</br> [ 0.]</br> [ 0.]</br> [ 0.]</br> [ 0.]</br> [ 0.]</br> [ 0.]</br> [ 0.]</br> [ 0.]</br> [ 0.]</br> [ 0.]</br> [ 0.]</br> [ 0.]</br> [ 0.]</br> [ 0.]</br> [ 0.]</br> [ 0.]</br> [ 0.]</br> [ 0.]</br> [ 0.]</br> [ 0.]</br> [ 0.]</br> [ 0.]</br> [ 0.]</br> [ 0.]</br> [ 0.]</br> [ 0.]</br> [ 0.]</br> [ 0.]</br> [ 0.]</br> [ 0.]</br> [ 0.]</br> [ 0.]</br> [ 0.]</br> [ 0.]</br> [ 0.]</br> [ 0.]</br> [ 0.]</br> [ 0.]</br> [ 0.]</br> [ 0.]</br> [ 0.]</br> [ 0.]</br> [ 0.]</br> [ 0.]</br> [ 0.]</br> [ 0.]</br> [ 0.]</br> [ 0.]</br> [ 0.]</br> [ 0.]</br> [ 0.]</br> [ 0.]</br> [ 0.]</br> [ 0.]</br> [ 0.]</br> [ 0.]</br> [ 0.]</br> [ 0.]</br> [ 0.]</br> [ 0.]</br> [ 0.]</br> [ 0.]</br> [ 0.]</br> [ 0.]</br> [ 0.]</br> [ 0.]</br> [ 0.]</br> [ 0.]</br> [ 0.]]</td><td>N([ 0.],[ 1.])</td><td>(none)</td></tr><tr><td>adaptive_lengthscale_gp2D.kern1.lengthscales</td><td>[ 1.]</td><td>None</td><td>+ve</td></tr><tr><td>adaptive_lengthscale_gp2D.kern1.variance</td><td>[ 1.]</td><td>None</td><td>+ve</td></tr><tr><td>adaptive_lengthscale_gp2D.kern2.lengthscales</td><td>[ 1.]</td><td>None</td><td>+ve</td></tr><tr><td>adaptive_lengthscale_gp2D.kern2.variance</td><td>[ 1.]</td><td>None</td><td>+ve</td></tr><tr><td>adaptive_lengthscale_gp2D.noisekern.lengthscales</td><td>[ 1.  1.]</td><td>None</td><td>+ve</td></tr><tr><td>adaptive_lengthscale_gp2D.noisekern.variance</td><td>[ 1.]</td><td>None</td><td>+ve</td></tr><tr><td>adaptive_lengthscale_gp2D.nonstat.signal_variance</td><td>[ 1.]</td><td>None</td><td>+ve</td></tr></table>"
      ],
      "text/plain": [
       "<GPHetero.hetero_gpmc.GPMCAdaptLAdaptN2D at 0x1814469810>"
      ]
     },
     "execution_count": 7,
     "metadata": {},
     "output_type": "execute_result"
    }
   ],
   "source": [
    "m"
   ]
  },
  {
   "cell_type": "code",
   "execution_count": 8,
   "metadata": {},
   "outputs": [],
   "source": [
    "# Lengthscale 1 GP priors \n",
    "#m.kern1.variance = 1.\n",
    "#m.kern1.variance.fixed = True\n",
    "#m.kern1.lengthscales = 0.5\n",
    "#m.kern1.lengthscales.fixed = True\n",
    "m.kern1.variance.prior = gpflow.priors.Gamma(1., 1.)\n",
    "m.kern1.lengthscales.prior = gpflow.priors.Gamma(1., 1.)\n",
    "# Lengthscale 2 GP priors\n",
    "#m.kern2.variance = 1.\n",
    "#m.kern2.variance.fixed = True\n",
    "#m.kern2.lengthscales = 0.5\n",
    "#m.kern2.lengthscales.fixed = True\n",
    "m.kern2.variance.prior = gpflow.priors.Gamma(1., 1.)\n",
    "m.kern2.lengthscales.prior = gpflow.priors.Gamma(1., 1.)\n",
    "# Noise GP priors\n",
    "#m.noisekern.variance = 0.1\n",
    "#m.noisekern.variance.fixed = True\n",
    "#m.noisekern.lengthscales = 0.5\n",
    "#m.noisekern.lengthscales.fixed = True\n",
    "m.noisekern.variance.prior = gpflow.priors.Gamma(1., 1.)\n",
    "m.noisekern.lengthscales.prior = gpflow.priors.Gamma(1., 1.)\n",
    "\n",
    "# Non stationary signal variance prior\n",
    "#m.nonstat.signal_variance = 100\n",
    "#m.nonstat.signal_variance.fixed = True\n",
    "m.nonstat.signal_variance.prior = gpflow.priors.Gamma(1., 1.)"
   ]
  },
  {
   "cell_type": "code",
   "execution_count": 9,
   "metadata": {},
   "outputs": [
    {
     "data": {
      "text/plain": [
       "      fun: array([ 730.82423192])\n",
       " hess_inv: <408x408 LbfgsInvHessProduct with dtype=float64>\n",
       "      jac: array([ -3.27089115e+02,   2.39528252e+02,   5.33854434e+02,\n",
       "         3.00432729e+02,  -4.25561251e+02,  -8.46745835e+02,\n",
       "        -7.27355403e+02,  -3.83494318e+02,  -1.09603307e+02,\n",
       "        -1.69065331e+01,   5.28874418e-02,  -5.78770224e-02,\n",
       "        -1.08635973e-01,  -8.78209343e-02,   9.30721012e-02,\n",
       "        -8.81242012e-02,  -8.95705382e-02,  -8.73500758e-02,\n",
       "        -1.23281866e+00,  -1.59613358e-01,   2.64699138e-05,\n",
       "        -9.58841188e-03,  -1.34422867e-02,   2.51685453e-02,\n",
       "        -1.23934820e-02,   1.29575908e-02,  -5.75827958e-03,\n",
       "         8.17983784e-05,   4.27655331e-01,  -2.13733513e-01,\n",
       "        -2.13213369e-02,  -1.01124690e-02,   2.00849036e-03,\n",
       "        -4.00744225e-02,  -2.41487719e-02,  -3.14589419e-04,\n",
       "        -2.71015134e-03,   4.57599979e-04,  -4.67607664e-02,\n",
       "         9.38331352e-02,  -2.80733097e-03,  -8.15847974e-04,\n",
       "         1.81869495e-03,  -5.42250738e-04,  -4.59766502e-03,\n",
       "         1.96383248e-04,  -6.04778604e-04,   8.67664158e-05,\n",
       "        -3.22861602e-02,   1.14373383e-01,   1.06141389e-03,\n",
       "        -7.55124847e-04,   1.10868835e-02,   9.38063266e-03,\n",
       "        -2.93817717e-02,   2.26651242e-03,   1.77371744e-04,\n",
       "         7.39157485e-04,  -4.63785363e-03,  -1.07643074e-01,\n",
       "         1.15553244e-03,  -2.24706235e-03,   1.08069960e-02,\n",
       "         2.98349558e-02,   1.53158703e-03,   1.04713248e-03,\n",
       "         3.97459888e-04,   6.15120974e-04,  -1.43285261e-03,\n",
       "        -9.47574476e-03,  -2.74332234e-04,  -6.34894408e-04,\n",
       "        -8.85846886e-03,  -1.23124585e-02,   2.20776147e-04,\n",
       "         1.59244774e-04,   1.29551045e-04,   1.61482109e-04,\n",
       "        -7.18581367e-05,  -1.22861871e-04,   6.46217821e-04,\n",
       "        -9.15568697e-04,  -2.08149790e-03,  -1.08725595e-03,\n",
       "        -9.00141377e-07,   4.40962336e-05,   4.31545596e-05,\n",
       "         5.58549161e-05,   1.21005629e-06,  -3.27621816e-05,\n",
       "         2.61370247e-03,  -1.24813050e-03,  -7.76706358e-04,\n",
       "        -4.95056906e-04,   1.08452160e-05,   1.12208635e-04,\n",
       "         9.12387092e-05,   8.52360681e-05,  -4.38568371e-05,\n",
       "        -1.99738615e-04,   2.27851573e+02,   2.15087126e-01,\n",
       "         1.37071961e-01,   1.56528386e-01,   1.69450165e-01,\n",
       "         2.90532497e-02,   1.99465904e-01,  -2.93019200e-01,\n",
       "         9.84097050e-02,   1.29882724e-01,  -5.56831845e+00,\n",
       "        -4.51310757e-02,  -8.66438108e-02,  -1.58822325e-01,\n",
       "        -3.07521177e-01,   1.53952516e-02,   7.22601941e-04,\n",
       "         4.74661620e-02,  -4.76610318e-01,   1.17634200e+00,\n",
       "         1.20191641e+01,   5.43444490e-02,   8.25356947e-02,\n",
       "         2.01601527e-01,  -5.71083049e-02,   3.93635915e-02,\n",
       "         4.62965708e-02,  -6.61407845e-02,   5.65836542e-01,\n",
       "        -1.19527358e+00,   1.95891568e+01,   2.63719124e-01,\n",
       "         1.26270596e-01,   2.93785458e-01,   1.11763220e-03,\n",
       "         4.58613992e-02,   3.64571719e-02,   5.70638929e-02,\n",
       "        -3.09330138e-02,   2.73412468e-01,   7.52913499e+00,\n",
       "         1.66393551e-01,   1.46828830e-01,  -2.40010560e-01,\n",
       "         1.49927994e-01,   9.59431261e-02,   7.99501994e-02,\n",
       "         7.21369798e-02,   7.21613467e-03,   2.96654667e-01,\n",
       "         3.61715204e+00,   1.44856354e-01,   9.86645437e-02,\n",
       "         3.31897710e-02,   8.06347889e-02,   4.73827391e-03,\n",
       "         1.11564679e-02,   9.67343502e-03,   4.97239329e-03,\n",
       "        -4.31665226e-02,   7.35817687e-01,   3.67159093e-02,\n",
       "         3.01141850e-02,   2.68322014e-02,   2.55232538e-03,\n",
       "         3.56602570e-03,   3.13449442e-03,   3.82913375e-03,\n",
       "         2.45078005e-03,   2.23409367e-03,   1.47404696e-01,\n",
       "         9.21665800e-03,   3.51816800e-03,   4.78329348e-03,\n",
       "         3.29037689e-03,   2.32578994e-03,   1.93260493e-03,\n",
       "         1.73369088e-03,   1.50051910e-03,   1.23424940e-03,\n",
       "         3.24372314e-02,   2.03031183e-03,   1.67924905e-03,\n",
       "         1.19386977e-03,   6.46630253e-04,   4.56303741e-04,\n",
       "         3.67569562e-04,   3.08655911e-04,   2.52688514e-04,\n",
       "         2.15073913e-04,   2.27556608e-03,   6.83928575e-04,\n",
       "         8.65974703e-04,   3.94859473e-04,   1.96751473e-04,\n",
       "         1.47010727e-04,   1.03093581e-04,   5.03730430e-05,\n",
       "         1.95507874e-05,   4.29493615e-05,   1.10369555e+01,\n",
       "         5.65828296e+00,   4.44997595e+00,   3.39448438e+00,\n",
       "         1.75031206e+00,   1.06550372e-01,   2.13180124e+00,\n",
       "         5.69932008e+00,   4.68991235e+00,   1.24869474e+00,\n",
       "         5.97177149e+00,   2.63028156e+00,   3.63328897e+00,\n",
       "         3.43263214e+00,   1.47875472e-01,  -3.81680612e+00,\n",
       "        -2.64270750e+00,   1.73090303e+00,   2.46421461e+00,\n",
       "         5.96173291e-01,   3.03888156e+00,   6.77790474e-01,\n",
       "         3.62259066e+00,   2.95854526e+00,   8.08930145e-01,\n",
       "        -1.00086731e+00,  -5.79091513e-02,   2.05383742e+00,\n",
       "         1.87275163e+00,   4.41472179e-01,   6.00344183e-01,\n",
       "        -5.04806951e-01,   2.26822167e+00,   8.22308349e-01,\n",
       "        -5.17076096e-01,  -6.74865893e-01,   3.44173013e-01,\n",
       "         1.28709434e+00,   1.03221032e+00,   2.61604627e-01,\n",
       "         3.98542387e-01,  -1.20795887e+00,  -5.29963070e-01,\n",
       "        -1.07735691e+00,  -1.71898230e+00,  -1.60925969e+00,\n",
       "        -4.99612948e-01,   5.11155926e-01,   5.63416736e-01,\n",
       "         1.79112138e-01,   1.66632275e+00,  -1.59597643e+00,\n",
       "        -2.43240101e+00,  -1.40248425e+00,  -8.88420357e-01,\n",
       "        -4.55110142e-01,   4.15708521e-01,   9.00873400e-01,\n",
       "         6.63238745e-01,   2.50901964e-01,   2.23499357e+00,\n",
       "        -1.74883097e+00,  -2.74497847e+00,  -1.42156585e+00,\n",
       "        -6.62862036e-01,  -6.79143411e-02,   7.00041870e-01,\n",
       "         9.62793155e-01,   6.51385776e-01,   2.63367064e-01,\n",
       "         1.46891539e+00,  -1.35657840e+00,  -2.05562236e+00,\n",
       "        -1.40319894e+00,  -1.05753510e+00,  -6.13027579e-01,\n",
       "        -2.98492356e-03,   2.88105090e-01,   2.32730523e-01,\n",
       "         1.09281788e-01,   4.97060810e-01,  -6.52578037e-01,\n",
       "        -1.00012537e+00,  -8.58836236e-01,  -8.18292648e-01,\n",
       "        -6.28555581e-01,  -3.23822260e-01,  -1.25060682e-01,\n",
       "        -4.79113364e-02,  -9.51417993e-03,   5.89488584e-02,\n",
       "        -1.52463874e-01,  -2.38158656e-01,  -2.25457690e-01,\n",
       "        -2.30198403e-01,  -1.91774598e-01,  -1.22180537e-01,\n",
       "        -6.86545484e-02,  -3.60391485e-02,  -1.21550412e-02,\n",
       "         2.31243856e+02,  -8.07368626e+01,   1.15171161e+02,\n",
       "         4.96357850e+02,   2.16112269e+02,  -1.30794042e+02,\n",
       "         1.73571513e+01,   2.08586244e+02,   2.27446214e+02,\n",
       "         2.17243129e+02,  -2.94782510e+01,   2.78898549e+01,\n",
       "        -5.43965903e+01,  -4.49360151e+01,   2.55780063e+01,\n",
       "        -2.01482906e+01,   2.03981568e+00,   5.00961511e+01,\n",
       "         6.84468373e+01,   9.96217635e+01,   1.16361782e+01,\n",
       "         8.49605744e+00,   6.89141478e+00,  -1.69239553e+01,\n",
       "         1.47075169e-01,   6.90998744e+00,  -4.86225900e-01,\n",
       "        -1.36816064e+01,  -1.60240471e+01,  -1.88996068e+01,\n",
       "         7.25335102e+00,   5.31748271e+00,   1.85969937e+00,\n",
       "        -8.11317037e+00,   1.73866595e+00,   1.55649425e+00,\n",
       "         2.95227380e-01,  -2.59861927e+00,  -2.69559952e+00,\n",
       "        -9.47196678e-01,   1.10935676e+00,   6.89363971e-01,\n",
       "         5.03643768e-01,  -2.99017345e+00,  -1.08753832e+00,\n",
       "         9.90888642e-01,  -7.57771478e-02,  -1.72563705e+00,\n",
       "        -2.16255539e+00,  -1.87152753e+00,  -7.94238075e-01,\n",
       "        -4.65378173e-01,  -3.34485679e-01,  -5.64836299e-01,\n",
       "        -4.51607767e-01,   7.32671737e-02,  -1.92189746e-01,\n",
       "        -3.19245287e-01,  -3.94952794e-01,  -4.18187554e-01,\n",
       "        -1.48664367e+00,  -5.93853708e-01,  -5.30146261e-01,\n",
       "        -3.14255257e-01,  -2.55234627e-01,   4.58408401e-02,\n",
       "        -3.59880621e-02,  -8.52066173e-02,  -3.20622745e-02,\n",
       "        -4.75051785e-02,  -9.45053032e-01,  -3.50876096e-01,\n",
       "        -3.15150844e-01,  -2.01304776e-01,  -1.03217853e-01,\n",
       "         1.31185381e-02,  -1.12903411e-02,  -2.57387793e-02,\n",
       "        -9.98343342e-03,  -1.14138530e-02,  -2.83029627e-01,\n",
       "        -9.98705451e-02,  -4.64082389e-02,  -3.40738675e-02,\n",
       "        -3.05310251e-02,   3.15526185e-03,  -5.23777607e-03,\n",
       "        -8.56396576e-03,  -3.36047613e-03,  -4.75129451e-03,\n",
       "        -5.78542483e-02,  -1.40817854e-02,  -3.49690171e-03,\n",
       "        -3.26196856e-03,  -4.34122367e-03,   4.68128303e-04,\n",
       "        -7.91933828e-04,  -1.14212386e-03,  -2.36253395e-04,\n",
       "        -6.81825732e-04,  -2.35182332e+03,  -6.58107914e+01,\n",
       "         8.31302445e+00,  -1.61019875e+01,  -2.16343065e+01,\n",
       "         1.98561930e+01,  -2.74875648e+00,   3.33849541e+01])\n",
       "  message: 'STOP: TOTAL NO. of ITERATIONS EXCEEDS LIMIT'\n",
       "     nfev: 5668\n",
       "      nit: 5001\n",
       "   status: 1\n",
       "  success: False\n",
       "        x: array([  5.30412284e-01,  -8.42965940e-01,   1.02876756e+00,\n",
       "         4.27799710e-01,   1.08909730e+00,   5.45592174e-02,\n",
       "         2.16420234e-01,   1.13680730e-01,  -8.97793212e-01,\n",
       "        -4.41543879e-01,   1.98383466e-03,  -3.49350967e-03,\n",
       "         2.52770713e-03,  -6.93986702e-04,  -1.63068259e-03,\n",
       "         1.73269096e-02,  -2.83074446e-02,  -4.35153531e-03,\n",
       "         6.50043975e-02,   5.95875432e-03,   2.39985204e-03,\n",
       "        -5.58438312e-04,   1.83778516e-03,  -2.02239945e-03,\n",
       "        -1.99375457e-03,   2.01799374e-03,  -1.58032404e-02,\n",
       "         4.34285609e-03,  -6.73528349e-02,   4.24485647e-03,\n",
       "        -1.63181128e-04,  -4.79822995e-04,   1.44018934e-03,\n",
       "        -5.03863020e-04,   1.27051927e-02,  -3.63994888e-03,\n",
       "        -3.11226714e-03,   7.74736083e-04,   1.24204595e-02,\n",
       "        -1.11890885e-02,   3.06237121e-04,  -1.37802692e-04,\n",
       "         9.80318167e-04,  -3.35885680e-03,   8.22549073e-03,\n",
       "        -4.18492696e-03,  -9.70533819e-04,  -2.83601006e-06,\n",
       "         7.13499396e-03,   1.21649850e-02,   9.09500444e-04,\n",
       "        -1.42489895e-05,  -8.32599440e-04,   5.56369966e-03,\n",
       "         1.66154712e-04,  -2.49936051e-03,  -4.46444094e-04,\n",
       "        -7.91277191e-05,   2.13639994e-03,  -1.39821275e-02,\n",
       "         1.18995306e-03,  -1.76775080e-04,  -3.12311439e-03,\n",
       "        -2.36984154e-03,  -1.07627882e-03,  -9.22368947e-04,\n",
       "        -2.47502443e-04,  -9.69007836e-05,   8.04527336e-04,\n",
       "         3.15827977e-03,   1.80200625e-03,  -2.15405030e-03,\n",
       "         6.51676834e-04,   3.39989782e-03,  -3.12782653e-04,\n",
       "        -3.03061639e-04,  -1.25445855e-04,  -5.25646709e-05,\n",
       "         2.70452096e-04,   8.40187368e-04,   1.34500746e-03,\n",
       "        -2.55846353e-03,   1.24970269e-03,   7.27353714e-04,\n",
       "        -8.64169373e-05,  -1.20734049e-04,  -6.72666918e-05,\n",
       "        -2.04587247e-05,   9.91328169e-05,   2.44248120e-04,\n",
       "        -2.83594105e-03,  -1.30881203e-03,   9.64318936e-04,\n",
       "         2.73062886e-04,  -5.20753878e-05,  -8.60470710e-05,\n",
       "        -5.36181119e-05,  -1.08443203e-05,   7.35872934e-05,\n",
       "         1.81243715e-04,  -1.66429272e-01,  -7.63949217e-03,\n",
       "        -1.19547486e-02,  -1.66030266e-03,  -2.99051427e-02,\n",
       "         1.88891740e-02,   2.10710278e-02,   3.53120262e-02,\n",
       "        -5.88246619e-03,  -1.14821919e-02,   4.48201724e-01,\n",
       "         1.66101252e-02,  -6.36370057e-04,   2.41170905e-02,\n",
       "         1.12446042e-02,  -4.47044439e-02,  -4.55259246e-03,\n",
       "        -8.72650223e-02,   6.52551292e-02,  -5.62728314e-03,\n",
       "        -3.32217978e-01,  -3.32709849e-03,   1.28606041e-02,\n",
       "         2.16875987e-02,   8.20452225e-03,  -1.14680147e-02,\n",
       "         2.72163272e-02,   2.57791862e-02,  -9.96014265e-02,\n",
       "         4.07121399e-02,  -9.32586969e-02,   9.29111956e-03,\n",
       "         4.94468203e-03,  -5.41679473e-03,  -2.23212707e-02,\n",
       "         1.60269495e-03,   1.22130884e-02,   1.59042794e-02,\n",
       "         1.56950629e-02,  -3.50024948e-02,   2.41012469e-01,\n",
       "        -8.45991970e-05,   1.40253403e-02,  -8.02409394e-03,\n",
       "         1.75259959e-02,   1.25087169e-02,   1.20386941e-02,\n",
       "        -7.35584204e-03,   9.04294076e-03,   3.54179691e-02,\n",
       "         1.80950373e-02,   1.13841960e-02,  -3.13016254e-03,\n",
       "         1.05173880e-02,  -8.51759344e-03,  -5.16680079e-03,\n",
       "        -5.50589297e-03,  -5.55864865e-03,   9.73285864e-04,\n",
       "        -8.37718962e-03,   1.19919581e-01,   8.10836158e-03,\n",
       "         7.30555201e-04,   9.57111267e-04,   3.30076861e-03,\n",
       "         2.42955979e-03,   2.07456358e-03,   1.85595196e-03,\n",
       "         1.59819988e-03,   9.37144343e-04,   1.30199868e-01,\n",
       "         8.41111595e-03,   4.74038967e-03,   3.07482934e-03,\n",
       "         2.40684271e-03,   2.15428931e-03,   1.92950775e-03,\n",
       "         1.69893924e-03,   1.43479234e-03,   1.09538861e-03,\n",
       "         5.63059914e-02,   4.00052692e-03,   1.97169412e-03,\n",
       "         1.38823686e-03,   1.15129053e-03,   9.69385692e-04,\n",
       "         8.44505477e-04,   7.50315127e-04,   6.52598292e-04,\n",
       "         5.54197068e-04,   1.17131484e-02,   1.44584102e-04,\n",
       "         1.75873643e-04,   1.21796404e-04,   7.29841310e-05,\n",
       "         5.78065089e-05,   6.72605657e-05,   6.77989396e-05,\n",
       "         4.86156999e-05,   4.51568801e-05,   2.08058501e+00,\n",
       "         1.79366236e-01,   1.03233036e+00,  -4.24514793e-02,\n",
       "        -1.23184494e+00,  -1.32156001e+00,  -1.58945909e+00,\n",
       "        -1.58807521e+00,  -5.91021644e-01,   2.11715129e-02,\n",
       "         5.21455045e-01,  -3.60278185e-01,  -9.78278642e-01,\n",
       "         1.77501593e-01,   1.95086122e+00,   2.14503758e+00,\n",
       "        -1.64798251e-01,  -1.99392049e+00,  -1.42264189e+00,\n",
       "        -3.03416399e-01,   1.39057996e+00,  -9.45006598e-01,\n",
       "        -9.20883243e-01,   1.48730608e-01,   8.46760272e-01,\n",
       "         7.58564070e-01,  -1.54976710e-01,  -7.23244963e-01,\n",
       "        -4.62516620e-01,  -6.74056918e-02,   9.41954844e-01,\n",
       "        -1.17209353e+00,  -2.86444510e-01,   2.89471895e-01,\n",
       "         1.13211459e-01,  -1.60684639e-01,  -2.20593006e-01,\n",
       "         3.92815038e-03,   2.10051602e-01,   1.64788745e-01,\n",
       "         3.32903803e-01,  -5.57466657e-01,   2.02716975e-01,\n",
       "         4.34881824e-01,   2.45828680e-01,   1.51918731e-01,\n",
       "         1.80392935e-01,   3.64579726e-01,   4.46332109e-01,\n",
       "         2.94881246e-01,   2.04413883e-01,   2.14146175e-01,\n",
       "         5.63022160e-01,   4.45007042e-01,   3.93003050e-01,\n",
       "         5.12114104e-01,   5.01929536e-01,   4.53516574e-01,\n",
       "         4.28684052e-01,   3.06918357e-01,   3.74069059e-01,\n",
       "         5.26432173e-01,   7.07265760e-01,   4.54367225e-01,\n",
       "         4.19567086e-01,   5.85760239e-01,   5.64483476e-01,\n",
       "         4.40386672e-01,   3.72366010e-01,   2.57172877e-01,\n",
       "         3.15580048e-01,   3.99036937e-01,   4.80783973e-01,\n",
       "         2.95743996e-01,   2.89949724e-01,   4.03396531e-01,\n",
       "         3.89317400e-01,   3.07536874e-01,   2.54572432e-01,\n",
       "         1.68428127e-01,   1.47037081e-01,   1.63918409e-01,\n",
       "         1.99555141e-01,   1.15477910e-01,   1.28327252e-01,\n",
       "         1.81129899e-01,   1.72942239e-01,   1.36700900e-01,\n",
       "         1.11539609e-01,   7.28135841e-02,   3.11383969e-02,\n",
       "         3.04747836e-02,   4.37109308e-02,   2.25651816e-02,\n",
       "         2.90191314e-02,   3.99077263e-02,   3.69662826e-02,\n",
       "         2.87799341e-02,   2.44177910e-02,   1.65727220e-02,\n",
       "         1.62781062e+00,   2.15140389e+00,   1.05679326e+00,\n",
       "         4.82917469e-01,  -1.21295494e+00,  -1.21636271e+00,\n",
       "         3.49307145e-01,   1.09094107e+00,  -3.23240974e-01,\n",
       "         9.26010399e-01,  -2.27929311e-01,   1.02833160e+00,\n",
       "         1.76625217e-01,   1.51354202e-01,  -1.47455539e-01,\n",
       "        -7.74237188e-01,   1.24939449e+00,  -1.38150258e-01,\n",
       "        -1.30692507e+00,  -1.33818430e+00,  -7.55270440e-01,\n",
       "        -4.03666311e-01,   6.92106017e-01,   2.37974747e+00,\n",
       "         1.34225563e+00,  -2.01872325e-01,   5.61304338e-01,\n",
       "         2.92091083e-01,   2.44192350e-01,  -1.54271827e-01,\n",
       "         1.38877527e+00,  -1.68862871e+00,   1.25978143e+00,\n",
       "         3.00667565e+00,   1.55126672e+00,   5.96129029e-02,\n",
       "        -4.05924301e-03,   1.40069627e-01,   3.51446113e-01,\n",
       "        -9.91729274e-02,   1.48479198e+00,  -1.02515186e+00,\n",
       "         8.77153681e-01,   1.94918078e+00,   9.88590579e-01,\n",
       "        -1.85854227e-02,   4.08173235e-02,   2.41144137e-01,\n",
       "         4.54450536e-01,   2.44588421e-01,   8.91627222e-01,\n",
       "        -4.74992535e-01,   4.99715580e-01,   1.09150137e+00,\n",
       "         5.41584399e-01,  -5.04177310e-03,   7.95905384e-02,\n",
       "         1.80928023e-01,   2.67935034e-01,   1.72788517e-01,\n",
       "         1.95669606e-01,  -3.31071218e-01,   4.35379411e-01,\n",
       "         7.43605714e-01,   3.25228822e-01,  -1.88116403e-02,\n",
       "         2.38323847e-02,   9.95395930e-02,   1.67058606e-01,\n",
       "         1.18566807e-01,  -2.22744828e-01,  -1.44053915e-01,\n",
       "         2.41810841e-01,   2.91456093e-01,   1.28009644e-01,\n",
       "        -6.21657354e-03,   1.48970028e-02,   3.82983675e-02,\n",
       "         5.65688981e-02,   3.99655465e-02,  -2.36475614e-01,\n",
       "        -4.78724623e-02,   8.71132871e-02,   9.49487886e-02,\n",
       "         4.21269485e-02,  -3.39665013e-03,   4.58072362e-03,\n",
       "         1.24152930e-02,   1.93247162e-02,   1.30127463e-02,\n",
       "        -6.26874593e-02,  -5.06459789e-03,   1.51514235e-02,\n",
       "         1.64084795e-02,   7.47857887e-03,  -5.98989772e-04,\n",
       "         6.83171999e-04,   2.10578056e-03,   3.55454758e-03,\n",
       "         2.41996667e-03,  -2.96420440e-01,   1.84602931e+00,\n",
       "         7.14379832e-01,   4.53846877e-03,  -1.00619550e-01,\n",
       "         1.19483710e-01,   7.50126355e+00,   1.48653728e+01])"
      ]
     },
     "execution_count": 9,
     "metadata": {},
     "output_type": "execute_result"
    }
   ],
   "source": [
    "m.optimize(maxiter=5000)"
   ]
  },
  {
   "cell_type": "code",
   "execution_count": 13,
   "metadata": {},
   "outputs": [
    {
     "data": {
      "text/html": [
       "<table id='params' width=100%><tr><td>Name</td><td>values</td><td>prior</td><td>constraint</td></tr><tr><td>adaptive_lengthscale_gp2D.V1</td><td>[[  5.30412284e-01]</br> [ -8.42965940e-01]</br> [  1.02876756e+00]</br> [  4.27799710e-01]</br> [  1.08909730e+00]</br> [  5.45592174e-02]</br> [  2.16420234e-01]</br> [  1.13680730e-01]</br> [ -8.97793212e-01]</br> [ -4.41543879e-01]</br> [  1.98383466e-03]</br> [ -3.49350967e-03]</br> [  2.52770713e-03]</br> [ -6.93986702e-04]</br> [ -1.63068259e-03]</br> [  1.73269096e-02]</br> [ -2.83074446e-02]</br> [ -4.35153531e-03]</br> [  6.50043975e-02]</br> [  5.95875432e-03]</br> [  2.39985204e-03]</br> [ -5.58438312e-04]</br> [  1.83778516e-03]</br> [ -2.02239945e-03]</br> [ -1.99375457e-03]</br> [  2.01799374e-03]</br> [ -1.58032404e-02]</br> [  4.34285609e-03]</br> [ -6.73528349e-02]</br> [  4.24485647e-03]</br> [ -1.63181128e-04]</br> [ -4.79822995e-04]</br> [  1.44018934e-03]</br> [ -5.03863020e-04]</br> [  1.27051927e-02]</br> [ -3.63994888e-03]</br> [ -3.11226714e-03]</br> [  7.74736083e-04]</br> [  1.24204595e-02]</br> [ -1.11890885e-02]</br> [  3.06237121e-04]</br> [ -1.37802692e-04]</br> [  9.80318167e-04]</br> [ -3.35885680e-03]</br> [  8.22549073e-03]</br> [ -4.18492696e-03]</br> [ -9.70533819e-04]</br> [ -2.83601006e-06]</br> [  7.13499396e-03]</br> [  1.21649850e-02]</br> [  9.09500444e-04]</br> [ -1.42489895e-05]</br> [ -8.32599440e-04]</br> [  5.56369966e-03]</br> [  1.66154712e-04]</br> [ -2.49936051e-03]</br> [ -4.46444094e-04]</br> [ -7.91277191e-05]</br> [  2.13639994e-03]</br> [ -1.39821275e-02]</br> [  1.18995306e-03]</br> [ -1.76775080e-04]</br> [ -3.12311439e-03]</br> [ -2.36984154e-03]</br> [ -1.07627882e-03]</br> [ -9.22368947e-04]</br> [ -2.47502443e-04]</br> [ -9.69007836e-05]</br> [  8.04527336e-04]</br> [  3.15827977e-03]</br> [  1.80200625e-03]</br> [ -2.15405030e-03]</br> [  6.51676834e-04]</br> [  3.39989782e-03]</br> [ -3.12782653e-04]</br> [ -3.03061639e-04]</br> [ -1.25445855e-04]</br> [ -5.25646709e-05]</br> [  2.70452096e-04]</br> [  8.40187368e-04]</br> [  1.34500746e-03]</br> [ -2.55846353e-03]</br> [  1.24970269e-03]</br> [  7.27353714e-04]</br> [ -8.64169373e-05]</br> [ -1.20734049e-04]</br> [ -6.72666918e-05]</br> [ -2.04587247e-05]</br> [  9.91328169e-05]</br> [  2.44248120e-04]</br> [ -2.83594105e-03]</br> [ -1.30881203e-03]</br> [  9.64318936e-04]</br> [  2.73062886e-04]</br> [ -5.20753878e-05]</br> [ -8.60470710e-05]</br> [ -5.36181119e-05]</br> [ -1.08443203e-05]</br> [  7.35872934e-05]</br> [  1.81243715e-04]]</td><td>N([ 0.],[ 1.])</td><td>(none)</td></tr><tr><td>adaptive_lengthscale_gp2D.V2</td><td>[[ -1.66429272e-01]</br> [ -7.63949217e-03]</br> [ -1.19547486e-02]</br> [ -1.66030266e-03]</br> [ -2.99051427e-02]</br> [  1.88891740e-02]</br> [  2.10710278e-02]</br> [  3.53120262e-02]</br> [ -5.88246619e-03]</br> [ -1.14821919e-02]</br> [  4.48201724e-01]</br> [  1.66101252e-02]</br> [ -6.36370057e-04]</br> [  2.41170905e-02]</br> [  1.12446042e-02]</br> [ -4.47044439e-02]</br> [ -4.55259246e-03]</br> [ -8.72650223e-02]</br> [  6.52551292e-02]</br> [ -5.62728314e-03]</br> [ -3.32217978e-01]</br> [ -3.32709849e-03]</br> [  1.28606041e-02]</br> [  2.16875987e-02]</br> [  8.20452225e-03]</br> [ -1.14680147e-02]</br> [  2.72163272e-02]</br> [  2.57791862e-02]</br> [ -9.96014265e-02]</br> [  4.07121399e-02]</br> [ -9.32586969e-02]</br> [  9.29111956e-03]</br> [  4.94468203e-03]</br> [ -5.41679473e-03]</br> [ -2.23212707e-02]</br> [  1.60269495e-03]</br> [  1.22130884e-02]</br> [  1.59042794e-02]</br> [  1.56950629e-02]</br> [ -3.50024948e-02]</br> [  2.41012469e-01]</br> [ -8.45991970e-05]</br> [  1.40253403e-02]</br> [ -8.02409394e-03]</br> [  1.75259959e-02]</br> [  1.25087169e-02]</br> [  1.20386941e-02]</br> [ -7.35584204e-03]</br> [  9.04294076e-03]</br> [  3.54179691e-02]</br> [  1.80950373e-02]</br> [  1.13841960e-02]</br> [ -3.13016254e-03]</br> [  1.05173880e-02]</br> [ -8.51759344e-03]</br> [ -5.16680079e-03]</br> [ -5.50589297e-03]</br> [ -5.55864865e-03]</br> [  9.73285864e-04]</br> [ -8.37718962e-03]</br> [  1.19919581e-01]</br> [  8.10836158e-03]</br> [  7.30555201e-04]</br> [  9.57111267e-04]</br> [  3.30076861e-03]</br> [  2.42955979e-03]</br> [  2.07456358e-03]</br> [  1.85595196e-03]</br> [  1.59819988e-03]</br> [  9.37144343e-04]</br> [  1.30199868e-01]</br> [  8.41111595e-03]</br> [  4.74038967e-03]</br> [  3.07482934e-03]</br> [  2.40684271e-03]</br> [  2.15428931e-03]</br> [  1.92950775e-03]</br> [  1.69893924e-03]</br> [  1.43479234e-03]</br> [  1.09538861e-03]</br> [  5.63059914e-02]</br> [  4.00052692e-03]</br> [  1.97169412e-03]</br> [  1.38823686e-03]</br> [  1.15129053e-03]</br> [  9.69385692e-04]</br> [  8.44505477e-04]</br> [  7.50315127e-04]</br> [  6.52598292e-04]</br> [  5.54197068e-04]</br> [  1.17131484e-02]</br> [  1.44584102e-04]</br> [  1.75873643e-04]</br> [  1.21796404e-04]</br> [  7.29841310e-05]</br> [  5.78065089e-05]</br> [  6.72605657e-05]</br> [  6.77989396e-05]</br> [  4.86156999e-05]</br> [  4.51568801e-05]]</td><td>N([ 0.],[ 1.])</td><td>(none)</td></tr><tr><td>adaptive_lengthscale_gp2D.V3</td><td>[[ 2.08058501]</br> [ 0.17936624]</br> [ 1.03233036]</br> [-0.04245148]</br> [-1.23184494]</br> [-1.32156001]</br> [-1.58945909]</br> [-1.58807521]</br> [-0.59102164]</br> [ 0.02117151]</br> [ 0.52145505]</br> [-0.36027818]</br> [-0.97827864]</br> [ 0.17750159]</br> [ 1.95086122]</br> [ 2.14503758]</br> [-0.16479825]</br> [-1.99392049]</br> [-1.42264189]</br> [-0.3034164 ]</br> [ 1.39057996]</br> [-0.9450066 ]</br> [-0.92088324]</br> [ 0.14873061]</br> [ 0.84676027]</br> [ 0.75856407]</br> [-0.15497671]</br> [-0.72324496]</br> [-0.46251662]</br> [-0.06740569]</br> [ 0.94195484]</br> [-1.17209353]</br> [-0.28644451]</br> [ 0.28947189]</br> [ 0.11321146]</br> [-0.16068464]</br> [-0.22059301]</br> [ 0.00392815]</br> [ 0.2100516 ]</br> [ 0.16478874]</br> [ 0.3329038 ]</br> [-0.55746666]</br> [ 0.20271698]</br> [ 0.43488182]</br> [ 0.24582868]</br> [ 0.15191873]</br> [ 0.18039294]</br> [ 0.36457973]</br> [ 0.44633211]</br> [ 0.29488125]</br> [ 0.20441388]</br> [ 0.21414618]</br> [ 0.56302216]</br> [ 0.44500704]</br> [ 0.39300305]</br> [ 0.5121141 ]</br> [ 0.50192954]</br> [ 0.45351657]</br> [ 0.42868405]</br> [ 0.30691836]</br> [ 0.37406906]</br> [ 0.52643217]</br> [ 0.70726576]</br> [ 0.45436723]</br> [ 0.41956709]</br> [ 0.58576024]</br> [ 0.56448348]</br> [ 0.44038667]</br> [ 0.37236601]</br> [ 0.25717288]</br> [ 0.31558005]</br> [ 0.39903694]</br> [ 0.48078397]</br> [ 0.295744  ]</br> [ 0.28994972]</br> [ 0.40339653]</br> [ 0.3893174 ]</br> [ 0.30753687]</br> [ 0.25457243]</br> [ 0.16842813]</br> [ 0.14703708]</br> [ 0.16391841]</br> [ 0.19955514]</br> [ 0.11547791]</br> [ 0.12832725]</br> [ 0.1811299 ]</br> [ 0.17294224]</br> [ 0.1367009 ]</br> [ 0.11153961]</br> [ 0.07281358]</br> [ 0.0311384 ]</br> [ 0.03047478]</br> [ 0.04371093]</br> [ 0.02256518]</br> [ 0.02901913]</br> [ 0.03990773]</br> [ 0.03696628]</br> [ 0.02877993]</br> [ 0.02441779]</br> [ 0.01657272]]</td><td>N([ 0.],[ 1.])</td><td>(none)</td></tr><tr><td>adaptive_lengthscale_gp2D.V4</td><td>[[  1.62781062e+00]</br> [  2.15140389e+00]</br> [  1.05679326e+00]</br> [  4.82917469e-01]</br> [ -1.21295494e+00]</br> [ -1.21636271e+00]</br> [  3.49307145e-01]</br> [  1.09094107e+00]</br> [ -3.23240974e-01]</br> [  9.26010399e-01]</br> [ -2.27929311e-01]</br> [  1.02833160e+00]</br> [  1.76625217e-01]</br> [  1.51354202e-01]</br> [ -1.47455539e-01]</br> [ -7.74237188e-01]</br> [  1.24939449e+00]</br> [ -1.38150258e-01]</br> [ -1.30692507e+00]</br> [ -1.33818430e+00]</br> [ -7.55270440e-01]</br> [ -4.03666311e-01]</br> [  6.92106017e-01]</br> [  2.37974747e+00]</br> [  1.34225563e+00]</br> [ -2.01872325e-01]</br> [  5.61304338e-01]</br> [  2.92091083e-01]</br> [  2.44192350e-01]</br> [ -1.54271827e-01]</br> [  1.38877527e+00]</br> [ -1.68862871e+00]</br> [  1.25978143e+00]</br> [  3.00667565e+00]</br> [  1.55126672e+00]</br> [  5.96129029e-02]</br> [ -4.05924301e-03]</br> [  1.40069627e-01]</br> [  3.51446113e-01]</br> [ -9.91729274e-02]</br> [  1.48479198e+00]</br> [ -1.02515186e+00]</br> [  8.77153681e-01]</br> [  1.94918078e+00]</br> [  9.88590579e-01]</br> [ -1.85854227e-02]</br> [  4.08173235e-02]</br> [  2.41144137e-01]</br> [  4.54450536e-01]</br> [  2.44588421e-01]</br> [  8.91627222e-01]</br> [ -4.74992535e-01]</br> [  4.99715580e-01]</br> [  1.09150137e+00]</br> [  5.41584399e-01]</br> [ -5.04177310e-03]</br> [  7.95905384e-02]</br> [  1.80928023e-01]</br> [  2.67935034e-01]</br> [  1.72788517e-01]</br> [  1.95669606e-01]</br> [ -3.31071218e-01]</br> [  4.35379411e-01]</br> [  7.43605714e-01]</br> [  3.25228822e-01]</br> [ -1.88116403e-02]</br> [  2.38323847e-02]</br> [  9.95395930e-02]</br> [  1.67058606e-01]</br> [  1.18566807e-01]</br> [ -2.22744828e-01]</br> [ -1.44053915e-01]</br> [  2.41810841e-01]</br> [  2.91456093e-01]</br> [  1.28009644e-01]</br> [ -6.21657354e-03]</br> [  1.48970028e-02]</br> [  3.82983675e-02]</br> [  5.65688981e-02]</br> [  3.99655465e-02]</br> [ -2.36475614e-01]</br> [ -4.78724623e-02]</br> [  8.71132871e-02]</br> [  9.49487886e-02]</br> [  4.21269485e-02]</br> [ -3.39665013e-03]</br> [  4.58072362e-03]</br> [  1.24152930e-02]</br> [  1.93247162e-02]</br> [  1.30127463e-02]</br> [ -6.26874593e-02]</br> [ -5.06459789e-03]</br> [  1.51514235e-02]</br> [  1.64084795e-02]</br> [  7.47857887e-03]</br> [ -5.98989772e-04]</br> [  6.83171999e-04]</br> [  2.10578056e-03]</br> [  3.55454758e-03]</br> [  2.41996667e-03]]</td><td>N([ 0.],[ 1.])</td><td>(none)</td></tr><tr><td>adaptive_lengthscale_gp2D.kern1.lengthscales</td><td>[ 0.55588112]</td><td>Ga([ 1.],[ 1.])</td><td>+ve</td></tr><tr><td>adaptive_lengthscale_gp2D.kern1.variance</td><td>[ 1.99260615]</td><td>Ga([ 1.],[ 1.])</td><td>+ve</td></tr><tr><td>adaptive_lengthscale_gp2D.kern2.lengthscales</td><td>[ 1.11281836]</td><td>Ga([ 1.],[ 1.])</td><td>+ve</td></tr><tr><td>adaptive_lengthscale_gp2D.kern2.variance</td><td>[ 0.69541999]</td><td>Ga([ 1.],[ 1.])</td><td>+ve</td></tr><tr><td>adaptive_lengthscale_gp2D.noisekern.lengthscales</td><td>[ 0.64410341  0.75467352]</td><td>Ga([ 1.],[ 1.])</td><td>+ve</td></tr><tr><td>adaptive_lengthscale_gp2D.noisekern.variance</td><td>[ 7.50181678]</td><td>Ga([ 1.],[ 1.])</td><td>+ve</td></tr><tr><td>adaptive_lengthscale_gp2D.nonstat.signal_variance</td><td>[ 14.86537412]</td><td>Ga([ 1.],[ 1.])</td><td>+ve</td></tr></table>"
      ],
      "text/plain": [
       "<GPHetero.hetero_gpmc.GPMCAdaptLAdaptN2D at 0x1814469810>"
      ]
     },
     "execution_count": 13,
     "metadata": {},
     "output_type": "execute_result"
    }
   ],
   "source": [
    "m"
   ]
  },
  {
   "cell_type": "code",
   "execution_count": 11,
   "metadata": {},
   "outputs": [],
   "source": [
    "#samples = m.sample(200, verbose=True, epsilon=0.01, thin = 2, burn = 100, Lmax = 40)"
   ]
  },
  {
   "cell_type": "code",
   "execution_count": 17,
   "metadata": {},
   "outputs": [
    {
     "data": {
      "text/plain": [
       "(2, 100, 1)"
      ]
     },
     "execution_count": 17,
     "metadata": {},
     "output_type": "execute_result"
    }
   ],
   "source": [
    "np.exp(m.predict_n(X_train_norm)).shape"
   ]
  },
  {
   "cell_type": "code",
   "execution_count": null,
   "metadata": {
    "collapsed": true
   },
   "outputs": [],
   "source": []
  }
 ],
 "metadata": {
  "kernelspec": {
   "display_name": "Python [default]",
   "language": "python",
   "name": "python2"
  },
  "language_info": {
   "codemirror_mode": {
    "name": "ipython",
    "version": 2
   },
   "file_extension": ".py",
   "mimetype": "text/x-python",
   "name": "python",
   "nbconvert_exporter": "python",
   "pygments_lexer": "ipython2",
   "version": "2.7.14"
  }
 },
 "nbformat": 4,
 "nbformat_minor": 2
}
