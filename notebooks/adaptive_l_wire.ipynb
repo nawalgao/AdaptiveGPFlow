{
 "cells": [
  {
   "cell_type": "code",
   "execution_count": 1,
   "metadata": {},
   "outputs": [
    {
     "ename": "RuntimeError",
     "evalue": "module compiled against API version 0xb but this version of numpy is 0xa",
     "output_type": "error",
     "traceback": [
      "\u001b[0;31m---------------------------------------------------------------------------\u001b[0m",
      "\u001b[0;31mRuntimeError\u001b[0m                              Traceback (most recent call last)",
      "\u001b[0;31mRuntimeError\u001b[0m: module compiled against API version 0xb but this version of numpy is 0xa"
     ]
    },
    {
     "ename": "RuntimeError",
     "evalue": "module compiled against API version 0xb but this version of numpy is 0xa",
     "output_type": "error",
     "traceback": [
      "\u001b[0;31m---------------------------------------------------------------------------\u001b[0m",
      "\u001b[0;31mRuntimeError\u001b[0m                              Traceback (most recent call last)",
      "\u001b[0;31mRuntimeError\u001b[0m: module compiled against API version 0xb but this version of numpy is 0xa"
     ]
    }
   ],
   "source": [
    "import gpflow\n",
    "import numpy as np\n",
    "import matplotlib.pyplot as plt\n",
    "%matplotlib inline\n",
    "import sys\n",
    "sys.path.append('../')\n",
    "from GPHetero import hetero_kernels, hetero_likelihoods, hetero_gpmc\n",
    "from pyDOE import *\n",
    "import os\n",
    "from scipy.stats import norm"
   ]
  },
  {
   "cell_type": "code",
   "execution_count": 9,
   "metadata": {},
   "outputs": [
    {
     "data": {
      "text/plain": [
       "(array([-1. , -0.5,  0. ,  0.5,  1. ,  1.5,  2. ]),\n",
       " <a list of 7 Text yticklabel objects>)"
      ]
     },
     "execution_count": 9,
     "metadata": {},
     "output_type": "execute_result"
    },
    {
     "data": {
      "image/png": "[encoded data removed]",
      "text/plain": [
       "<matplotlib.figure.Figure at 0x1a16140a10>"
      ]
     },
     "metadata": {},
     "output_type": "display_data"
    }
   ],
   "source": [
    "dim = 8\n",
    "n = 10\n",
    "noise=0\n",
    "sigma = eval('lambda x: ' + str(noise))\n",
    "# objective = Ex3Func(sigma=sigma)\n",
    "# X = lhs(dim, n , criterion='center')\n",
    "# Y = np.array([objective(x) for x in X])[:, None]\n",
    "# Xnorm = X\n",
    "X = np.load('../data/X_init_8d_40.npy')\n",
    "# Y = np.array([objective(x) for x in X])[:, None]\n",
    "# X = (X - 0.5) /0.5\n",
    "Y = np.load('../data/Y_init_8d_40.npy') [:, 1][:, None]\n",
    "fig, ax = plt.subplots()\n",
    "ax.plot(X[:, 1], Y, 'x', markeredgewidth=2, color='black')\n",
    "ax.set_xlabel('$x$', fontsize=16)\n",
    "ax.set_ylabel('$f(x)$', fontsize=16)\n",
    "plt.xticks(fontsize=16)\n",
    "plt.yticks(fontsize=16)"
   ]
  },
  {
   "cell_type": "code",
   "execution_count": null,
   "metadata": {
    "collapsed": true
   },
   "outputs": [],
   "source": []
  },
  {
   "cell_type": "code",
   "execution_count": 3,
   "metadata": {
    "collapsed": true
   },
   "outputs": [],
   "source": [
    "# X = np.vstack([X[:-8, ], X[-6: -1, ]])\n",
    "# Y = np.vstack([Y[:-8, ], Y[-6: -1, ]])"
   ]
  },
  {
   "cell_type": "code",
   "execution_count": 4,
   "metadata": {
    "collapsed": true
   },
   "outputs": [],
   "source": [
    "#build the model\n",
    "k = gpflow.kernels.RBF(input_dim=1)\n",
    "k.lengthscales.prior = gpflow.priors.Gamma(1, 1)\n",
    "# from copy import copy\n",
    "# l = copy(k)\n",
    "noisekern = gpflow.kernels.RBF(input_dim=1)\n",
    "nonstat = hetero_kernels.NonStationaryLengthscaleRBF()\n",
    "mean_func = gpflow.mean_functions.Constant(1)\n",
    "m = hetero_gpmc.GPMCAdaptiveLengthscaleMultDim(X, Y, k, nonstat, mean_func)"
   ]
  },
  {
   "cell_type": "code",
   "execution_count": 5,
   "metadata": {
    "scrolled": true
   },
   "outputs": [
    {
     "data": {
      "text/html": [
       "<table id='params' width=100%><tr><td>Name</td><td>values</td><td>prior</td><td>constraint</td></tr><tr><td>adaptive_lengthscale_gp_multdim.V</td><td>[[ 0.  0.  0.  0.  0.  0.  0.  0.]</br> [ 0.  0.  0.  0.  0.  0.  0.  0.]</br> [ 0.  0.  0.  0.  0.  0.  0.  0.]</br> [ 0.  0.  0.  0.  0.  0.  0.  0.]</br> [ 0.  0.  0.  0.  0.  0.  0.  0.]</br> [ 0.  0.  0.  0.  0.  0.  0.  0.]</br> [ 0.  0.  0.  0.  0.  0.  0.  0.]</br> [ 0.  0.  0.  0.  0.  0.  0.  0.]</br> [ 0.  0.  0.  0.  0.  0.  0.  0.]</br> [ 0.  0.  0.  0.  0.  0.  0.  0.]</br> [ 0.  0.  0.  0.  0.  0.  0.  0.]</br> [ 0.  0.  0.  0.  0.  0.  0.  0.]</br> [ 0.  0.  0.  0.  0.  0.  0.  0.]</br> [ 0.  0.  0.  0.  0.  0.  0.  0.]</br> [ 0.  0.  0.  0.  0.  0.  0.  0.]</br> [ 0.  0.  0.  0.  0.  0.  0.  0.]</br> [ 0.  0.  0.  0.  0.  0.  0.  0.]</br> [ 0.  0.  0.  0.  0.  0.  0.  0.]</br> [ 0.  0.  0.  0.  0.  0.  0.  0.]</br> [ 0.  0.  0.  0.  0.  0.  0.  0.]</br> [ 0.  0.  0.  0.  0.  0.  0.  0.]</br> [ 0.  0.  0.  0.  0.  0.  0.  0.]</br> [ 0.  0.  0.  0.  0.  0.  0.  0.]</br> [ 0.  0.  0.  0.  0.  0.  0.  0.]</br> [ 0.  0.  0.  0.  0.  0.  0.  0.]</br> [ 0.  0.  0.  0.  0.  0.  0.  0.]</br> [ 0.  0.  0.  0.  0.  0.  0.  0.]</br> [ 0.  0.  0.  0.  0.  0.  0.  0.]</br> [ 0.  0.  0.  0.  0.  0.  0.  0.]</br> [ 0.  0.  0.  0.  0.  0.  0.  0.]</br> [ 0.  0.  0.  0.  0.  0.  0.  0.]</br> [ 0.  0.  0.  0.  0.  0.  0.  0.]</br> [ 0.  0.  0.  0.  0.  0.  0.  0.]</br> [ 0.  0.  0.  0.  0.  0.  0.  0.]</br> [ 0.  0.  0.  0.  0.  0.  0.  0.]</br> [ 0.  0.  0.  0.  0.  0.  0.  0.]</br> [ 0.  0.  0.  0.  0.  0.  0.  0.]</br> [ 0.  0.  0.  0.  0.  0.  0.  0.]</br> [ 0.  0.  0.  0.  0.  0.  0.  0.]</br> [ 0.  0.  0.  0.  0.  0.  0.  0.]]</td><td>N([ 0.],[ 1.])</td><td>(none)</td></tr><tr><td>adaptive_lengthscale_gp_multdim.V4</td><td>[[ 0.]</br> [ 0.]</br> [ 0.]</br> [ 0.]</br> [ 0.]</br> [ 0.]</br> [ 0.]</br> [ 0.]</br> [ 0.]</br> [ 0.]</br> [ 0.]</br> [ 0.]</br> [ 0.]</br> [ 0.]</br> [ 0.]</br> [ 0.]</br> [ 0.]</br> [ 0.]</br> [ 0.]</br> [ 0.]</br> [ 0.]</br> [ 0.]</br> [ 0.]</br> [ 0.]</br> [ 0.]</br> [ 0.]</br> [ 0.]</br> [ 0.]</br> [ 0.]</br> [ 0.]</br> [ 0.]</br> [ 0.]</br> [ 0.]</br> [ 0.]</br> [ 0.]</br> [ 0.]</br> [ 0.]</br> [ 0.]</br> [ 0.]</br> [ 0.]]</td><td>N([ 0.],[ 1.])</td><td>(none)</td></tr><tr><td>adaptive_lengthscale_gp_multdim.kern_type.lengthscales</td><td>[ 1.]</td><td>Ga([ 1.],[ 1.])</td><td>+ve</td></tr><tr><td>adaptive_lengthscale_gp_multdim.kern_type.variance</td><td>[ 1.]</td><td>None</td><td>+ve</td></tr><tr><td>adaptive_lengthscale_gp_multdim.likelihood.variance</td><td>[ 1.]</td><td>None</td><td>+ve</td></tr><tr><td>adaptive_lengthscale_gp_multdim.mean_func.c</td><td>[ 1.]</td><td>None</td><td>(none)</td></tr><tr><td>adaptive_lengthscale_gp_multdim.nonstat.signal_variance</td><td>[ 1.]</td><td>None</td><td>+ve</td></tr></table>"
      ],
      "text/plain": [
       "<GPHetero.hetero_gpmc.GPMCAdaptiveLengthscaleMultDim at 0x1a1613b0d0>"
      ]
     },
     "execution_count": 5,
     "metadata": {},
     "output_type": "execute_result"
    }
   ],
   "source": [
    "m"
   ]
  },
  {
   "cell_type": "code",
   "execution_count": null,
   "metadata": {
    "collapsed": true
   },
   "outputs": [],
   "source": [
    "# k = gpflow.kernels.RBF(input_dim=1)\n",
    "# from copy import copy\n",
    "# l = copy(k)\n",
    "# print k\n",
    "# print l"
   ]
  },
  {
   "cell_type": "code",
   "execution_count": null,
   "metadata": {
    "collapsed": true
   },
   "outputs": [],
   "source": [
    "for i in xrange(dim - 1):\n",
    "    print i\n",
    "    m.kerns[\"ell\" + str(i)].lengthscales.prior = gpflow.priors.Gamma(1., 1.)\n",
    "    m.kerns[\"ell\" + str(i)].variance.prior = gpflow.priors.Gamma(1., 1.)\n",
    "    m.mean_funcs[\"ell\" + str(i)].c = -2.\n",
    "    m.mean_funcs[\"ell\" + str(i)].c.fixed = True \n",
    "#     m.mean_funcs[\"ell\" + str(i)].c.prior = gpflow.priors.Gamma(1., 2.)\n",
    "m.nonstat.signal_variance.prior = gpflow.priors.Gamma(1., 2.)\n",
    "# m.nonstat.signal_variance.fixed = True\n",
    "m.likelihood.variance = 1e-6\n",
    "m.likelihood.variance.fixed = True"
   ]
  },
  {
   "cell_type": "code",
   "execution_count": null,
   "metadata": {
    "collapsed": true
   },
   "outputs": [],
   "source": [
    "m.kerns[\"ell\" + str(7)].lengthscales = 10.\n",
    "m.kerns[\"ell\" + str(7)].lengthscales.fixed = True\n",
    "m.kerns[\"ell\" + str(7)].variance = 10.\n",
    "m.kerns[\"ell\" + str(7)].variance.fixed = True \n",
    "m.mean_funcs[\"ell\" + str(i)].c = -2.\n",
    "m.mean_funcs[\"ell\" + str(i)].c.fixed = True "
   ]
  },
  {
   "cell_type": "code",
   "execution_count": null,
   "metadata": {
    "collapsed": true,
    "scrolled": false
   },
   "outputs": [],
   "source": [
    "m.optimize(maxiter=500) # start near MAP"
   ]
  },
  {
   "cell_type": "code",
   "execution_count": null,
   "metadata": {
    "collapsed": true
   },
   "outputs": [],
   "source": [
    "m"
   ]
  },
  {
   "cell_type": "code",
   "execution_count": null,
   "metadata": {
    "collapsed": true
   },
   "outputs": [],
   "source": [
    "mcmc_samples = 200\n",
    "num_samp_gp = 1"
   ]
  },
  {
   "cell_type": "code",
   "execution_count": null,
   "metadata": {
    "collapsed": true
   },
   "outputs": [],
   "source": [
    "samples = m.sample(mcmc_samples, verbose=True, epsilon=0.00005, thin = 2, burn = 100, Lmax = 20)"
   ]
  },
  {
   "cell_type": "code",
   "execution_count": null,
   "metadata": {
    "collapsed": true
   },
   "outputs": [],
   "source": [
    "m"
   ]
  },
  {
   "cell_type": "code",
   "execution_count": null,
   "metadata": {
    "collapsed": true,
    "scrolled": false
   },
   "outputs": [],
   "source": [
    "m.get_feed_dict_keys()"
   ]
  },
  {
   "cell_type": "code",
   "execution_count": null,
   "metadata": {
    "collapsed": true
   },
   "outputs": [],
   "source": [
    "sample_df = m.get_samples_df(samples)\n",
    "y_pos = []\n",
    "num_post_samp = 1000\n",
    "# xnew = np.linspace(0, 1, 100)[:,None]\n",
    "xnew = np.load('../data/X_wire.npy')\n",
    "ynew = np.load('../data/Y_wire.npy')\n",
    "# xx = (xnew - 0.5) / 0.5\n",
    "xx = xnew\n",
    "mean_f_mat = np.zeros(shape=(num_samp_gp, xx.shape[0]))\n",
    "mean_l_mat = np.zeros(shape=(num_samp_gp, xx.shape[0]))\n",
    "var_f_mat = np.zeros(shape=(num_samp_gp, xx.shape[0]))\n",
    "qoi_samp = []"
   ]
  },
  {
   "cell_type": "markdown",
   "metadata": {},
   "source": [
    "## Plotting ${X_{i}}$  versus Y"
   ]
  },
  {
   "cell_type": "code",
   "execution_count": null,
   "metadata": {
    "collapsed": true
   },
   "outputs": [],
   "source": [
    "input_idx = 1\n",
    "idx_sort = np.argsort(xnew[:, input_idx])\n",
    "plt.plot(xnew[idx_sort[0:100], input_idx], ynew[0:100, 1])"
   ]
  },
  {
   "cell_type": "code",
   "execution_count": null,
   "metadata": {
    "collapsed": true
   },
   "outputs": [],
   "source": [
    "for i in range(mcmc_samples - num_samp_gp, mcmc_samples):\n",
    "    idx = i - (mcmc_samples - num_samp_gp)\n",
    "    m.set_parameter_dict(sample_df.iloc[i])\n",
    "    mean_f, var_f = m.predict(xx)\n",
    "    mean_l = m.predict_l(xx)\n",
    "    mean_f_mat[idx, :] = mean_f[:, 0]\n",
    "    var_f_mat[idx, :] = np.diag(var_f)"
   ]
  },
  {
   "cell_type": "markdown",
   "metadata": {},
   "source": [
    "## Trace plots for some parameters"
   ]
  },
  {
   "cell_type": "code",
   "execution_count": null,
   "metadata": {
    "collapsed": true
   },
   "outputs": [],
   "source": [
    "print (mean_l[1][0]), (mean_l[1][6])"
   ]
  },
  {
   "cell_type": "code",
   "execution_count": null,
   "metadata": {
    "collapsed": true
   },
   "outputs": [],
   "source": [
    "trace_idx = 30\n",
    "mcmc_samples_plot = 1000\n",
    "plt.plot(np.arange(mcmc_samples_plot), samples[-mcmc_samples_plot:, trace_idx])"
   ]
  },
  {
   "cell_type": "code",
   "execution_count": null,
   "metadata": {
    "collapsed": true
   },
   "outputs": [],
   "source": [
    "err = abs(mean_f_mat.T - ynew[:, 1][:, None])\n",
    "ynew_fwt = ynew[:, 1][:, None]\n",
    "avg_pred = np.mean(mean_f_mat.T, axis=1)\n",
    "plt.scatter(avg_pred, ynew_fwt)"
   ]
  },
  {
   "cell_type": "code",
   "execution_count": null,
   "metadata": {
    "collapsed": true
   },
   "outputs": [],
   "source": [
    "xnew = lhs(dim, 1000)\n",
    "num_samp_gp = 1\n",
    "for i in range(mcmc_samples - num_samp_gp, mcmc_samples):\n",
    "    idx = i - (mcmc_samples - num_samp_gp)\n",
    "    m.set_parameter_dict(sample_df.iloc[i])\n",
    "#     samp, var = m.predict(xnew)\n",
    "    samp = m.posterior_samples(xnew, num_post_samp)\n",
    "    \n",
    "#     import pdb\n",
    "#     pdb.set_trace()\n",
    "    samp_q = np.amin(samp, axis=1)\n",
    "    print np.mean(samp_q), np.var(samp_q)"
   ]
  },
  {
   "cell_type": "code",
   "execution_count": null,
   "metadata": {
    "collapsed": true
   },
   "outputs": [],
   "source": [
    "# plt.scatter(ynew_fwt, np.percentile(samp, 50, axis=0))\n",
    "[plt.scatter(xnew[:, 0], samp[i, :]) for i in xrange(num_post_samp)]\n",
    "print np.amax(ynew_fwt)\n",
    "print np.amax(avg_pred)"
   ]
  },
  {
   "cell_type": "code",
   "execution_count": null,
   "metadata": {
    "collapsed": true
   },
   "outputs": [],
   "source": [
    "std_f_mat = np.sqrt(var_f_mat)\n",
    "Lowerf = mean_f_mat - 2 * std_f_mat\n",
    "Upperf = mean_f_mat + 2 * std_f_mat\n",
    "y_pos = np.vstack(y_pos)\n",
    "y_m = np.percentile(y_pos, 50, axis=0)\n",
    "y_l = np.percentile(y_pos, 2.5, axis=0)\n",
    "y_u = np.percentile(y_pos, 97.5, axis=0)"
   ]
  },
  {
   "cell_type": "code",
   "execution_count": null,
   "metadata": {
    "collapsed": true
   },
   "outputs": [],
   "source": [
    "# m.set_parameter_dict(sample_df.iloc[4])\n",
    "# p_samp = m.posterior_samples_n(xx, 10)"
   ]
  },
  {
   "cell_type": "markdown",
   "metadata": {},
   "source": [
    "## Checking the pred_cov method"
   ]
  },
  {
   "cell_type": "code",
   "execution_count": null,
   "metadata": {
    "collapsed": true
   },
   "outputs": [],
   "source": [
    "x1 = xx[:1, 0][:, None] # \n",
    "x2 = xx[40:50, 0][:, None]\n",
    "f = m.pred_cov(x1, x2)"
   ]
  },
  {
   "cell_type": "code",
   "execution_count": null,
   "metadata": {
    "collapsed": true
   },
   "outputs": [],
   "source": [
    "p, v = m.predict(xx)\n",
    "print '>... squared difference b/w the rows of the posterior covariance matrix from the two methods is:', \\\n",
    "np.sum((f - v[:1, 40:50]) ** 2.)"
   ]
  },
  {
   "cell_type": "markdown",
   "metadata": {},
   "source": [
    "## Visualizing the inferred latent function"
   ]
  },
  {
   "cell_type": "code",
   "execution_count": null,
   "metadata": {
    "collapsed": true
   },
   "outputs": [],
   "source": [
    "def visualize(Xgrid, Mgrid, Vargrid):\n",
    "    \"\"\"\n",
    "    Visualize 1D utility funciton values\n",
    "    Xgrid : grid states\n",
    "    Mgrid : mean of GP at those finite grid points\n",
    "    Vargrid : variance of GP at those finite grid points\n",
    "    \"\"\"\n",
    "    \n",
    "    Sd_epis = np.sqrt(Vargrid)\n",
    "    \n",
    "    lower = Mgrid - 2. * Sd_epis\n",
    "    upper = Mgrid + 2. * Sd_epis\n",
    "    \n",
    "#     plt.plot(X, Y, '.')\n",
    "    line, = plt.plot(Xgrid, Mgrid, lw = 2, color = 'b', label = 'utility', alpha = 0.5)\n",
    "    plt.fill_between(Xgrid[:,0], lower, upper,\n",
    "                     color = 'b', alpha = 0.05)\n",
    "#     plt.fill_between(Xgrid[:,0], lower1, upper1,\n",
    "#                     color = 'g', alpha = 0.25)\n",
    "    plt.xlabel('x')\n",
    "    plt.ylabel('y')\n",
    "    return"
   ]
  },
  {
   "cell_type": "code",
   "execution_count": null,
   "metadata": {
    "collapsed": true
   },
   "outputs": [],
   "source": [
    "X_true = np.linspace(0, 1, 100)[:,None]\n",
    "Y_true = np.array([objective(x) for x in X_true])[:, None]\n",
    "import seaborn as sns\n",
    "sns.set_style(\"white\")\n",
    "sns.set_context(\"paper\")"
   ]
  },
  {
   "cell_type": "code",
   "execution_count": null,
   "metadata": {
    "collapsed": true
   },
   "outputs": [],
   "source": [
    "mini = 100\n",
    "maxi = 400\n",
    "plt.figure(figsize=(12, 8))\n",
    "for i in xrange(mini,maxi):\n",
    "    visualize(X_true, mean_f_mat[i, :], var_f_mat[i, :])\n",
    "plt.plot(X_true, y_m, '--', c='red', linewidth=3.0, label='physical response GP', zorder=1)\n",
    "plt.fill_between(X_true[:, 0], y_l, y_u, color='red', alpha=1, zorder=3)\n",
    "plt.plot(X_true, Y_true, 'k', zorder=-1)\n",
    "plt.scatter(X , Y, marker='X', s=80, color='black')\n",
    "plt.xticks(fontsize=16)\n",
    "plt.yticks(fontsize=16)\n",
    "plt.xlabel('$x$', fontsize=16)\n",
    "plt.ylabel('$f(x)$', fontsize=16)"
   ]
  },
  {
   "cell_type": "code",
   "execution_count": null,
   "metadata": {
    "collapsed": true
   },
   "outputs": [],
   "source": [
    "def visualize_l(Xgrid, M):\n",
    "    \"\"\"\n",
    "    Visualize 1D utility funciton values\n",
    "    Xgrid : grid states\n",
    "    Mgrid : mean of GP at those finite grid points\n",
    "    Vargrid : variance of GP at those finite grid points\n",
    "    \"\"\"\n",
    "    \n",
    "    line, = plt.plot(Xgrid, M, lw = 2, color = 'g', label = 'utility', alpha = 0.5)\n",
    "#     plt.fill_between(Xgrid[:,0], L, U,\n",
    "#                      color = 'b', alpha = 0.25)\n",
    "    #plt.fill_between(Xgrid[:,0], lower1, upper1,\n",
    "    #                 color = 'g', alpha = 0.25)\n",
    "    plt.xlabel('$x$', fontsize=16)\n",
    "    plt.ylabel('$ell(x)$', fontsize=16)\n",
    "    plt.xticks(fontsize=16)\n",
    "    plt.yticks(fontsize=16)\n",
    "    return"
   ]
  },
  {
   "cell_type": "code",
   "execution_count": null,
   "metadata": {
    "collapsed": true
   },
   "outputs": [],
   "source": [
    "mini = 0\n",
    "maxi = 500\n",
    "plt.figure(figsize=(12,8))\n",
    "for i in xrange(mini,maxi):\n",
    "    visualize_l(xnew, mean_l_mat[i,:])  "
   ]
  },
  {
   "cell_type": "code",
   "execution_count": null,
   "metadata": {
    "collapsed": true
   },
   "outputs": [],
   "source": [
    "mini = 10\n",
    "maxi = 40\n",
    "plt.figure(figsize=(12, 8))\n",
    "for i in xrange(mini,maxi):\n",
    "    visualize(X_true, mean_f_mat[i, :], var_f_mat[i, :])\n",
    "plt.plot(X_true, y_m, '--', c='red', linewidth=3.0, label='physical response GP', zorder=1)\n",
    "plt.fill_between(X_true[:, 0], y_l, y_u, color='red', alpha=1, zorder=3)\n",
    "plt.plot(X_true, Y_true, 'k', zorder=-1)\n",
    "plt.scatter(X * 0.5 + 0.5 , Y, marker='X', s=80, color='black')\n",
    "plt.xticks(fontsize=16)\n",
    "plt.yticks(fontsize=16)\n",
    "plt.xlabel('$x$', fontsize=16)\n",
    "plt.ylabel('$f(x)$', fontsize=16)\n",
    "\n",
    "\n",
    "mini = 0\n",
    "maxi = 50\n",
    "for i in xrange(mini,maxi):\n",
    "    visualize_l(xnew, mean_l_mat[i,:] -4.5)  "
   ]
  },
  {
   "cell_type": "code",
   "execution_count": null,
   "metadata": {
    "collapsed": true
   },
   "outputs": [],
   "source": []
  },
  {
   "cell_type": "code",
   "execution_count": null,
   "metadata": {
    "collapsed": true
   },
   "outputs": [],
   "source": []
  },
  {
   "cell_type": "code",
   "execution_count": null,
   "metadata": {
    "collapsed": true
   },
   "outputs": [],
   "source": []
  }
 ],
 "metadata": {
  "kernelspec": {
   "display_name": "Python [default]",
   "language": "python",
   "name": "python2"
  },
  "language_info": {
   "codemirror_mode": {
    "name": "ipython",
    "version": 2
   },
   "file_extension": ".py",
   "mimetype": "text/x-python",
   "name": "python",
   "nbconvert_exporter": "python",
   "pygments_lexer": "ipython2",
   "version": "2.7.14"
  }
 },
 "nbformat": 4,
 "nbformat_minor": 2
}
