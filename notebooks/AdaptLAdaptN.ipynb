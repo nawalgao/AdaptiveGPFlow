{
 "cells": [
  {
   "cell_type": "code",
   "execution_count": 1,
   "metadata": {},
   "outputs": [
    {
     "ename": "RuntimeError",
     "evalue": "module compiled against API version 0xb but this version of numpy is 0xa",
     "output_type": "error",
     "traceback": [
      "\u001b[0;31m---------------------------------------------------------------------------\u001b[0m",
      "\u001b[0;31mRuntimeError\u001b[0m                              Traceback (most recent call last)",
      "\u001b[0;31mRuntimeError\u001b[0m: module compiled against API version 0xb but this version of numpy is 0xa"
     ]
    },
    {
     "ename": "RuntimeError",
     "evalue": "module compiled against API version 0xb but this version of numpy is 0xa",
     "output_type": "error",
     "traceback": [
      "\u001b[0;31m---------------------------------------------------------------------------\u001b[0m",
      "\u001b[0;31mRuntimeError\u001b[0m                              Traceback (most recent call last)",
      "\u001b[0;31mRuntimeError\u001b[0m: module compiled against API version 0xb but this version of numpy is 0xa"
     ]
    }
   ],
   "source": [
    "import gpflow\n",
    "import numpy as np\n",
    "import matplotlib.pyplot as plt\n",
    "%matplotlib inline\n",
    "import sys\n",
    "sys.path.append('../')\n",
    "from GPHetero import hetero_kernels, hetero_likelihoods, hetero_gpmc"
   ]
  },
  {
   "cell_type": "code",
   "execution_count": 2,
   "metadata": {},
   "outputs": [
    {
     "data": {
      "text/plain": [
       "Text(0,0.5,u'$y$')"
      ]
     },
     "execution_count": 2,
     "metadata": {},
     "output_type": "execute_result"
    },
    {
     "data": {
      "image/png": "[encoded data removed]",
      "text/plain": [
       "<matplotlib.figure.Figure at 0x181c47de50>"
      ]
     },
     "metadata": {},
     "output_type": "display_data"
    }
   ],
   "source": [
    "data = np.loadtxt('../data/motor.dat')\n",
    "X = data[:, 0][:, None]\n",
    "Xm = np.mean(X)\n",
    "Xv = np.std(X)\n",
    "Xnorm = (X - Xm)/Xv\n",
    "Y = data[:, 1]\n",
    "fig, ax = plt.subplots()\n",
    "ax.plot(X, Y, 'x', markeredgewidth=2)\n",
    "ax.set_xlabel('$x$')\n",
    "ax.set_ylabel('$y$')"
   ]
  },
  {
   "cell_type": "code",
   "execution_count": 6,
   "metadata": {},
   "outputs": [],
   "source": [
    "#build the model\n",
    "k1 = gpflow.kernels.RBF(1)\n",
    "k2 = gpflow.kernels.RBF(1)\n",
    "nonstat = hetero_kernels.NonStationaryLengthscaleRBF()\n",
    "m = hetero_gpmc.GPMCAdaptLAdaptN(Xnorm, Y[:,None], k1, k2, nonstat)"
   ]
  },
  {
   "cell_type": "code",
   "execution_count": 7,
   "metadata": {
    "scrolled": true
   },
   "outputs": [
    {
     "data": {
      "text/html": [
       "<table id='params' width=100%><tr><td>Name</td><td>values</td><td>prior</td><td>constraint</td></tr><tr><td>adapt_ll_noise_gps.V1</td><td>[[ 0.]</br> [ 0.]</br> [ 0.]</br> [ 0.]</br> [ 0.]</br> [ 0.]</br> [ 0.]</br> [ 0.]</br> [ 0.]</br> [ 0.]</br> [ 0.]</br> [ 0.]</br> [ 0.]</br> [ 0.]</br> [ 0.]</br> [ 0.]</br> [ 0.]</br> [ 0.]</br> [ 0.]</br> [ 0.]</br> [ 0.]</br> [ 0.]</br> [ 0.]</br> [ 0.]</br> [ 0.]</br> [ 0.]</br> [ 0.]</br> [ 0.]</br> [ 0.]</br> [ 0.]</br> [ 0.]</br> [ 0.]</br> [ 0.]</br> [ 0.]</br> [ 0.]</br> [ 0.]</br> [ 0.]</br> [ 0.]</br> [ 0.]</br> [ 0.]</br> [ 0.]</br> [ 0.]</br> [ 0.]</br> [ 0.]</br> [ 0.]</br> [ 0.]</br> [ 0.]</br> [ 0.]</br> [ 0.]</br> [ 0.]</br> [ 0.]</br> [ 0.]</br> [ 0.]</br> [ 0.]</br> [ 0.]</br> [ 0.]</br> [ 0.]</br> [ 0.]</br> [ 0.]</br> [ 0.]</br> [ 0.]</br> [ 0.]</br> [ 0.]</br> [ 0.]</br> [ 0.]</br> [ 0.]</br> [ 0.]</br> [ 0.]</br> [ 0.]</br> [ 0.]</br> [ 0.]</br> [ 0.]</br> [ 0.]</br> [ 0.]</br> [ 0.]</br> [ 0.]</br> [ 0.]</br> [ 0.]</br> [ 0.]</br> [ 0.]</br> [ 0.]</br> [ 0.]</br> [ 0.]</br> [ 0.]</br> [ 0.]</br> [ 0.]</br> [ 0.]</br> [ 0.]</br> [ 0.]</br> [ 0.]</br> [ 0.]</br> [ 0.]</br> [ 0.]</br> [ 0.]]</td><td>N([ 0.],[ 1.])</td><td>(none)</td></tr><tr><td>adapt_ll_noise_gps.V2</td><td>[[ 0.]</br> [ 0.]</br> [ 0.]</br> [ 0.]</br> [ 0.]</br> [ 0.]</br> [ 0.]</br> [ 0.]</br> [ 0.]</br> [ 0.]</br> [ 0.]</br> [ 0.]</br> [ 0.]</br> [ 0.]</br> [ 0.]</br> [ 0.]</br> [ 0.]</br> [ 0.]</br> [ 0.]</br> [ 0.]</br> [ 0.]</br> [ 0.]</br> [ 0.]</br> [ 0.]</br> [ 0.]</br> [ 0.]</br> [ 0.]</br> [ 0.]</br> [ 0.]</br> [ 0.]</br> [ 0.]</br> [ 0.]</br> [ 0.]</br> [ 0.]</br> [ 0.]</br> [ 0.]</br> [ 0.]</br> [ 0.]</br> [ 0.]</br> [ 0.]</br> [ 0.]</br> [ 0.]</br> [ 0.]</br> [ 0.]</br> [ 0.]</br> [ 0.]</br> [ 0.]</br> [ 0.]</br> [ 0.]</br> [ 0.]</br> [ 0.]</br> [ 0.]</br> [ 0.]</br> [ 0.]</br> [ 0.]</br> [ 0.]</br> [ 0.]</br> [ 0.]</br> [ 0.]</br> [ 0.]</br> [ 0.]</br> [ 0.]</br> [ 0.]</br> [ 0.]</br> [ 0.]</br> [ 0.]</br> [ 0.]</br> [ 0.]</br> [ 0.]</br> [ 0.]</br> [ 0.]</br> [ 0.]</br> [ 0.]</br> [ 0.]</br> [ 0.]</br> [ 0.]</br> [ 0.]</br> [ 0.]</br> [ 0.]</br> [ 0.]</br> [ 0.]</br> [ 0.]</br> [ 0.]</br> [ 0.]</br> [ 0.]</br> [ 0.]</br> [ 0.]</br> [ 0.]</br> [ 0.]</br> [ 0.]</br> [ 0.]</br> [ 0.]</br> [ 0.]</br> [ 0.]]</td><td>N([ 0.],[ 1.])</td><td>(none)</td></tr><tr><td>adapt_ll_noise_gps.V3</td><td>[[ 0.]</br> [ 0.]</br> [ 0.]</br> [ 0.]</br> [ 0.]</br> [ 0.]</br> [ 0.]</br> [ 0.]</br> [ 0.]</br> [ 0.]</br> [ 0.]</br> [ 0.]</br> [ 0.]</br> [ 0.]</br> [ 0.]</br> [ 0.]</br> [ 0.]</br> [ 0.]</br> [ 0.]</br> [ 0.]</br> [ 0.]</br> [ 0.]</br> [ 0.]</br> [ 0.]</br> [ 0.]</br> [ 0.]</br> [ 0.]</br> [ 0.]</br> [ 0.]</br> [ 0.]</br> [ 0.]</br> [ 0.]</br> [ 0.]</br> [ 0.]</br> [ 0.]</br> [ 0.]</br> [ 0.]</br> [ 0.]</br> [ 0.]</br> [ 0.]</br> [ 0.]</br> [ 0.]</br> [ 0.]</br> [ 0.]</br> [ 0.]</br> [ 0.]</br> [ 0.]</br> [ 0.]</br> [ 0.]</br> [ 0.]</br> [ 0.]</br> [ 0.]</br> [ 0.]</br> [ 0.]</br> [ 0.]</br> [ 0.]</br> [ 0.]</br> [ 0.]</br> [ 0.]</br> [ 0.]</br> [ 0.]</br> [ 0.]</br> [ 0.]</br> [ 0.]</br> [ 0.]</br> [ 0.]</br> [ 0.]</br> [ 0.]</br> [ 0.]</br> [ 0.]</br> [ 0.]</br> [ 0.]</br> [ 0.]</br> [ 0.]</br> [ 0.]</br> [ 0.]</br> [ 0.]</br> [ 0.]</br> [ 0.]</br> [ 0.]</br> [ 0.]</br> [ 0.]</br> [ 0.]</br> [ 0.]</br> [ 0.]</br> [ 0.]</br> [ 0.]</br> [ 0.]</br> [ 0.]</br> [ 0.]</br> [ 0.]</br> [ 0.]</br> [ 0.]</br> [ 0.]]</td><td>N([ 0.],[ 1.])</td><td>(none)</td></tr><tr><td>adapt_ll_noise_gps.kern1.lengthscales</td><td>[ 1.]</td><td>None</td><td>+ve</td></tr><tr><td>adapt_ll_noise_gps.kern1.variance</td><td>[ 1.]</td><td>None</td><td>+ve</td></tr><tr><td>adapt_ll_noise_gps.kern2.lengthscales</td><td>[ 1.]</td><td>None</td><td>+ve</td></tr><tr><td>adapt_ll_noise_gps.kern2.variance</td><td>[ 1.]</td><td>None</td><td>+ve</td></tr><tr><td>adapt_ll_noise_gps.nonstat.signal_variance</td><td>[ 1.]</td><td>None</td><td>+ve</td></tr><tr><td>adapt_ll_noise_gps.signal_variance</td><td>[ 1.]</td><td>None</td><td>+ve</td></tr></table>"
      ],
      "text/plain": [
       "<GPHetero.hetero_gpmc.GPMCAdaptLAdaptN at 0x18247a9f10>"
      ]
     },
     "execution_count": 7,
     "metadata": {},
     "output_type": "execute_result"
    }
   ],
   "source": [
    "m"
   ]
  },
  {
   "cell_type": "code",
   "execution_count": 8,
   "metadata": {
    "collapsed": true
   },
   "outputs": [],
   "source": [
    "#m.kern1.lengthscales.prior = gpflow.priors.Gamma(1., 1.)\n",
    "m.kern1.variance = 0.1\n",
    "m.kern1.variance.fixed = True\n",
    "m.kern1.variance.prior = gpflow.priors.Gamma(1., 1.)\n",
    "\n",
    "m.kern2.lengthscales.prior = gpflow.priors.Gamma(1., 1.)\n",
    "#m.kern2.variance.prior = gpflow.priors.Gamma(1., 1.)\n",
    "m.kern2.variance = 0.1\n",
    "m.kern2.variance.fixed = True\n",
    "\n",
    "m.nonstat.signal_variance = 100\n",
    "m.nonstat.signal_variance.fixed = True"
   ]
  },
  {
   "cell_type": "code",
   "execution_count": 9,
   "metadata": {},
   "outputs": [
    {
     "data": {
      "text/plain": [
       "      fun: array([ 775.2248713])\n",
       " hess_inv: <285x285 LbfgsInvHessProduct with dtype=float64>\n",
       "      jac: array([  4.12762611e-03,   4.74812415e-04,   1.43111169e-03,\n",
       "         7.01264386e-04,   9.49383855e-04,   7.83050754e-04,\n",
       "        -4.20110924e-05,  -2.02911225e-04,   1.51030477e-04,\n",
       "        -8.83124987e-05,   4.03671070e-04,   1.51541937e-04,\n",
       "        -3.70593736e-04,  -7.59289953e-04,   4.94852884e-04,\n",
       "        -1.31541179e-04,   2.26426269e-04,   1.65733755e-05,\n",
       "        -4.86075098e-04,   2.33319206e-04,  -6.95156729e-05,\n",
       "         1.43635760e-04,   2.52030175e-04,  -7.10736193e-05,\n",
       "        -1.54395515e-04,  -8.12416675e-05,   8.48762202e-05,\n",
       "         6.28205892e-05,   3.28851403e-05,   4.12415503e-05,\n",
       "         7.03591163e-05,   5.86995484e-05,   6.88207871e-05,\n",
       "         8.43418029e-05,   5.86252071e-05,   2.52993397e-05,\n",
       "         4.41204351e-05,   2.86988335e-05,   2.86545718e-05,\n",
       "         1.40704957e-05,  -1.45753703e-05,  -5.88787936e-06,\n",
       "         1.59899007e-05,  -4.77777695e-05,  -5.56251761e-05,\n",
       "        -3.43219071e-06,  -3.04960820e-05,  -5.39115268e-05,\n",
       "        -4.09249886e-05,  -2.85061036e-05,  -3.63529727e-05,\n",
       "        -3.98730749e-05,  -3.88720430e-05,  -4.04810041e-05,\n",
       "        -2.60223703e-05,  -3.27540644e-05,  -3.16859654e-05,\n",
       "        -2.61063100e-05,  -2.19525764e-05,  -2.68581219e-05,\n",
       "        -2.33132534e-05,  -2.17931786e-05,  -2.00221069e-05,\n",
       "        -2.04824031e-05,  -2.20180648e-05,  -2.05839880e-05,\n",
       "        -1.79149987e-05,  -1.77532531e-05,  -1.56317033e-05,\n",
       "        -1.14890137e-05,  -1.44573595e-05,  -9.24553287e-06,\n",
       "        -1.28307923e-05,  -2.17445561e-05,  -2.45714726e-05,\n",
       "         1.59269705e-05,  -2.71074423e-05,   2.03869765e-05,\n",
       "        -6.72010986e-06,  -7.14106230e-06,  -5.04983714e-07,\n",
       "         1.58510198e-06,  -3.31516395e-06,  -1.42595573e-06,\n",
       "        -1.49170871e-05,  -5.31022440e-06,  -1.34053918e-05,\n",
       "        -1.66517885e-05,  -1.03591522e-05,  -1.39504402e-05,\n",
       "         5.93445554e-06,   3.60717621e-07,  -3.64208063e-06,\n",
       "         1.35464891e-05,   2.74650854e-03,   1.71952306e-03,\n",
       "         2.96852164e-04,   5.17075944e-04,   8.61322852e-04,\n",
       "         7.72563206e-04,  -1.24841017e-04,  -5.95562355e-05,\n",
       "         6.31080430e-05,   3.74946415e-05,   1.38279368e-04,\n",
       "         2.14507573e-04,   1.08329510e-04,   5.14544735e-05,\n",
       "         5.05228497e-05,  -2.07602555e-06,  -8.43989122e-05,\n",
       "        -4.02861604e-04,  -2.70433433e-04,  -1.61122480e-04,\n",
       "        -7.49540433e-05,  -4.49849169e-05,   3.21612914e-05,\n",
       "         2.35184443e-05,   3.85870823e-05,   4.86799424e-05,\n",
       "         6.41711223e-05,   7.23557725e-05,   8.01564556e-05,\n",
       "         8.49263355e-05,   1.90978646e-04,   9.99476340e-05,\n",
       "         1.49861440e-04,   1.15834672e-04,   5.79072082e-05,\n",
       "         5.43700211e-05,   1.21608460e-04,   9.39169535e-05,\n",
       "         1.92142453e-04,   1.23147438e-04,   1.46405556e-04,\n",
       "         1.26820390e-04,   3.30484128e-04,   1.86163343e-04,\n",
       "         2.47474657e-04,   1.90508082e-04,   2.26322010e-04,\n",
       "         2.57587455e-04,   2.78623284e-04,   2.35818873e-04,\n",
       "         2.74210993e-04,   2.32547486e-04,   2.25504149e-04,\n",
       "         3.29046811e-04,   2.60462839e-04,   2.79211450e-04,\n",
       "         3.24128661e-04,   2.35528602e-04,   1.99770976e-04,\n",
       "         2.97156329e-04,   3.22660346e-04,   2.97943822e-04,\n",
       "         1.81307023e-04,   2.42249926e-04,   2.58794295e-04,\n",
       "         2.23479017e-04,   1.80004010e-04,   1.90861570e-04,\n",
       "         1.60793240e-04,   1.51480675e-04,   1.17041102e-04,\n",
       "         1.05931851e-04,   1.37863239e-04,   2.19496966e-04,\n",
       "         1.24845488e-04,   5.43661843e-05,   5.17859604e-05,\n",
       "         4.25888740e-05,   5.34047115e-05,   3.19085268e-05,\n",
       "         1.62729624e-05,   8.82945511e-06,   6.16787975e-06,\n",
       "         2.42843987e-08,  -4.38081915e-06,  -1.66025394e-05,\n",
       "        -2.15038674e-05,  -2.56866161e-05,  -3.51697816e-05,\n",
       "        -2.51590303e-05,  -1.85322488e-05,  -2.56972930e-05,\n",
       "        -1.03258572e-05,  -1.12942356e-05,  -1.13215954e-03,\n",
       "        -6.95506257e-04,  -4.28440624e-04,  -6.80112431e-04,\n",
       "        -2.82925752e-04,  -1.86140610e-04,   6.65887467e-04,\n",
       "         5.21598501e-04,   8.66980219e-04,   4.55885723e-04,\n",
       "         6.08402486e-04,   9.13119371e-04,  -2.27806595e-05,\n",
       "        -1.34597987e-04,   6.46330196e-04,   8.30741435e-04,\n",
       "         1.50659773e-03,   2.20062216e-04,   1.08226357e-03,\n",
       "        -9.09305481e-05,   1.21082522e-03,   9.22636004e-04,\n",
       "         1.20643999e-03,   9.94985445e-04,   9.89677552e-04,\n",
       "         7.50324151e-04,   6.29896889e-04,   7.00511195e-04,\n",
       "         9.13520165e-04,   1.05648217e-03,   1.85472182e-03,\n",
       "         1.08774529e-03,   1.67424624e-03,   1.85604267e-03,\n",
       "         9.12340571e-04,   9.39931228e-04,   1.25426561e-03,\n",
       "         6.93341249e-04,   1.25512989e-03,   5.11412032e-04,\n",
       "         7.77703025e-04,   3.84793830e-04,   5.46269493e-04,\n",
       "         4.91349332e-05,   2.46639810e-04,  -7.53530130e-05,\n",
       "        -1.97244973e-04,  -1.48130993e-04,  -2.59548988e-04,\n",
       "        -2.13010367e-04,  -3.04734891e-04,  -2.00234308e-04,\n",
       "        -2.42373594e-04,  -3.77171940e-04,  -2.55739911e-04,\n",
       "        -3.64404211e-04,  -3.13230369e-04,  -2.02630180e-04,\n",
       "        -2.13347714e-04,  -2.64277916e-04,  -2.32113525e-04,\n",
       "        -1.31612895e-04,  -5.44740761e-05,  -6.98048412e-05,\n",
       "        -6.89791167e-05,  -8.92089375e-05,  -9.95863759e-05,\n",
       "        -1.46612181e-04,  -1.94073708e-04,  -2.19825347e-04,\n",
       "        -1.75206192e-04,  -2.07578560e-04,  -3.56273895e-04,\n",
       "        -6.95288945e-04,  -9.82645890e-04,  -9.43442193e-04,\n",
       "        -7.36673414e-04,  -9.15978130e-04,  -1.11304626e-03,\n",
       "        -1.24517943e-03,  -9.96508014e-04,  -6.00673696e-04,\n",
       "        -1.11759965e-03,  -1.24342833e-03,  -1.06721015e-03,\n",
       "        -1.89404558e-03,  -2.20312095e-03,  -2.17736640e-03,\n",
       "        -1.76517704e-03,  -9.28279462e-04,  -2.29487479e-04,\n",
       "         5.79093595e-05,   6.22511804e-05,   1.12512178e-05,\n",
       "        -4.49404086e-06,  -1.56957470e-02,  -0.00000000e+00])\n",
       "  message: 'CONVERGENCE: REL_REDUCTION_OF_F_<=_FACTR*EPSMCH'\n",
       "     nfev: 370\n",
       "      nit: 336\n",
       "   status: 0\n",
       "  success: True\n",
       "        x: array([ -3.76722980e+00,  -8.52533851e-03,  -6.18774299e-03,\n",
       "        -6.76992544e-03,  -6.28424566e-03,  -1.38696554e-02,\n",
       "        -1.22708773e-02,  -1.02087972e-02,  -1.06507530e-02,\n",
       "        -9.55604357e-03,  -8.41232862e-03,  -8.32884031e-03,\n",
       "        -7.76990363e-03,  -6.60592237e-03,  -5.24713642e-03,\n",
       "        -4.69746971e-03,  -5.44295342e-03,  -6.94032289e-03,\n",
       "        -7.31437665e-03,  -6.40923123e-03,  -4.24773778e-03,\n",
       "        -6.43604055e-03,  -2.30300764e-03,   4.38342228e-04,\n",
       "        -3.59612837e-03,  -3.79135556e-05,  -3.58264138e-03,\n",
       "        -5.59713690e-03,   1.49127952e-03,   2.13396784e-03,\n",
       "        -2.16660039e-03,   1.41211659e-03,   7.00297832e-05,\n",
       "        -6.03482202e-04,  -9.56283111e-04,  -8.71283337e-04,\n",
       "        -1.09034917e-03,  -1.03649259e-03,  -1.11408886e-03,\n",
       "        -8.66533005e-04,  -8.48782097e-04,  -7.83680374e-04,\n",
       "        -3.96693844e-04,  -3.27707722e-04,  -2.36447437e-04,\n",
       "        -3.40575987e-04,  -9.18104622e-04,  -6.04619748e-04,\n",
       "        -2.80226695e-04,  -1.16185034e-03,  -1.48995900e-03,\n",
       "         1.00088818e-03,   4.32137898e-05,  -9.63219529e-04,\n",
       "        -1.14787952e-04,  -1.20378799e-03,  -1.14882904e-03,\n",
       "        -2.36666088e-04,  -1.75618355e-03,  -4.07718657e-05,\n",
       "        -9.90004662e-04,  -1.41784842e-03,  -2.38680357e-04,\n",
       "        -7.96050256e-04,  -5.45773273e-04,  -2.61929785e-04,\n",
       "        -3.64378321e-04,  -2.49785411e-04,  -1.41603988e-04,\n",
       "        -3.74765677e-04,   4.92381684e-05,  -1.09273914e-04,\n",
       "        -7.28779608e-04,   3.76084005e-04,  -3.18873105e-04,\n",
       "        -3.68448381e-04,  -6.66057057e-04,  -4.19122704e-04,\n",
       "        -1.40451770e-05,  -1.46310463e-04,  -1.35583172e-04,\n",
       "        -1.62202532e-04,  -1.15539614e-04,  -1.19938836e-04,\n",
       "        -1.52231361e-04,   1.93318843e-05,  -6.23671919e-04,\n",
       "        -3.11975214e-04,   1.17371943e-05,   5.29986223e-04,\n",
       "        -9.91667246e-04,  -3.28129197e-04,  -3.95059867e-04,\n",
       "        -4.16223014e-04,   3.02361803e+00,   6.14030014e+00,\n",
       "         2.85140266e+00,   1.45270892e+00,   1.97484665e+00,\n",
       "         5.23598872e+00,   1.34960081e+00,   1.02642748e+00,\n",
       "         2.21192592e+00,   1.36497587e+00,   1.42129447e+00,\n",
       "         1.63493150e+00,   1.21452970e+00,   9.10714077e-01,\n",
       "         1.06228221e+00,   1.14001059e+00,   1.14707305e+00,\n",
       "         2.03539785e+00,   8.40093622e-01,   5.61236501e-01,\n",
       "         8.54421681e-01,   6.02930601e-01,   7.57000329e-01,\n",
       "         5.79227964e-01,   5.06924941e-01,   4.75288317e-01,\n",
       "         4.62838080e-01,   4.61688820e-01,   4.55107010e-01,\n",
       "         4.55717134e-01,   7.68833160e-01,   5.74198614e-01,\n",
       "         7.40062521e-01,   6.61608832e-01,   4.49289917e-01,\n",
       "         3.75543801e-01,   4.88232159e-01,   3.92181038e-01,\n",
       "         5.67155999e-01,   4.07218061e-01,   4.07742045e-01,\n",
       "         3.40511237e-01,   6.11966466e-01,   3.76628169e-01,\n",
       "         3.99880226e-01,   2.97905919e-01,   3.06636795e-01,\n",
       "         3.13246970e-01,   3.16535914e-01,   2.65851358e-01,\n",
       "         2.90284873e-01,   2.55691947e-01,   2.30615562e-01,\n",
       "         3.11410753e-01,   2.57464888e-01,   2.70116664e-01,\n",
       "         3.11092970e-01,   2.39248811e-01,   2.06046929e-01,\n",
       "         2.88530852e-01,   3.10255760e-01,   2.92562152e-01,\n",
       "         1.83384582e-01,   2.24418480e-01,   2.30726706e-01,\n",
       "         1.97436756e-01,   1.59782498e-01,   1.63932080e-01,\n",
       "         1.44596563e-01,   1.29718220e-01,   1.06496829e-01,\n",
       "         9.06000869e-02,   1.20919205e-01,   2.02485810e-01,\n",
       "         1.36842883e-01,   6.78082766e-02,   6.92663299e-02,\n",
       "         5.92468257e-02,   8.60282362e-02,   6.89822114e-02,\n",
       "         4.53273291e-02,   3.26894918e-02,   4.43302111e-02,\n",
       "         3.25330749e-02,   3.02499917e-02,   3.72228547e-02,\n",
       "         2.57593847e-02,   1.20251498e-02,   9.77718063e-03,\n",
       "         7.33995444e-03,   7.18714596e-04,  -2.20991503e-03,\n",
       "        -5.69628194e-04,   4.40603949e-04,  -8.60007468e-02,\n",
       "        -1.98839760e-01,  -2.00793570e-01,  -1.63723375e-01,\n",
       "         1.53030671e-02,   2.08090937e-01,   3.76787801e-01,\n",
       "         1.17892001e-01,  -2.49406925e-03,  -5.81167209e-01,\n",
       "        -8.13891114e-01,  -1.61340767e+00,  -1.94504911e+00,\n",
       "        -1.26531222e+00,  -1.92919596e+00,  -2.16058988e+00,\n",
       "        -2.36769368e+00,  -3.92985164e+00,  -3.71737479e+00,\n",
       "        -1.48237562e+00,  -3.05460869e+00,  -1.62420237e+00,\n",
       "        -2.01866418e+00,  -1.19706356e+00,  -1.32025211e+00,\n",
       "        -1.06580366e+00,  -8.54288225e-01,  -7.55587277e-01,\n",
       "        -7.14875187e-01,  -6.83239126e-01,  -1.02629769e+00,\n",
       "        -4.49831267e-01,  -5.51598049e-01,  -1.84462366e-01,\n",
       "        -1.59184853e-03,   4.27027552e-02,   1.69123448e-01,\n",
       "         2.03312608e-01,   4.52311692e-01,   3.61224186e-01,\n",
       "         5.37829354e-01,   3.34370455e-01,   8.14849258e-01,\n",
       "         6.51410238e-01,   6.74876527e-01,   4.37830325e-01,\n",
       "         6.72306406e-01,   5.09967638e-01,   5.05528372e-01,\n",
       "         3.50478270e-01,   4.85961785e-01,   2.86990582e-01,\n",
       "         3.00727649e-01,   4.20971201e-01,   2.21044239e-01,\n",
       "         3.15175100e-01,   2.61239175e-01,   1.38741741e-01,\n",
       "         1.41554086e-01,   1.73542354e-01,   1.34346723e-01,\n",
       "         9.69955782e-02,   6.10683394e-02,   1.05125314e-01,\n",
       "         1.59455027e-01,   1.86374150e-01,   1.78140263e-01,\n",
       "         2.09733025e-01,   1.94498932e-01,   1.74846164e-01,\n",
       "         1.11399993e-01,   1.13886594e-01,   1.44751607e-01,\n",
       "         7.41349750e-02,  -1.53169507e-01,  -2.57269007e-01,\n",
       "        -2.07399862e-01,  -2.41095617e-01,  -2.71764412e-01,\n",
       "        -2.12630016e-01,  -1.11405904e-01,  -6.03483646e-02,\n",
       "        -1.01246524e-01,  -1.04906323e-01,  -1.02086580e-01,\n",
       "        -1.96114431e-01,  -1.82745455e-01,  -1.94170233e-03,\n",
       "         3.50964553e-01,   6.32441088e-01,   6.33668349e-01,\n",
       "         4.18232027e-01,   1.37390855e-01,   4.36308518e-02,\n",
       "         1.55538914e+02,   1.05322323e+00,   5.41323273e-01])"
      ]
     },
     "execution_count": 9,
     "metadata": {},
     "output_type": "execute_result"
    }
   ],
   "source": [
    "m.optimize(maxiter=5000)"
   ]
  },
  {
   "cell_type": "code",
   "execution_count": null,
   "metadata": {
    "collapsed": true,
    "scrolled": true
   },
   "outputs": [],
   "source": [
    "samples = m.sample(200, verbose=True, epsilon=0.01, thin = 2, burn = 100, Lmax = 40)"
   ]
  },
  {
   "cell_type": "code",
   "execution_count": 10,
   "metadata": {
    "scrolled": true
   },
   "outputs": [
    {
     "data": {
      "text/plain": [
       "(94, 1)"
      ]
     },
     "execution_count": 10,
     "metadata": {},
     "output_type": "execute_result"
    }
   ],
   "source": [
    "Xnorm.shape"
   ]
  },
  {
   "cell_type": "code",
   "execution_count": null,
   "metadata": {
    "collapsed": true
   },
   "outputs": [],
   "source": [
    "xnew = np.linspace(0,60,50)[:,None]\n",
    "xx = (xnew - Xm)/Xv"
   ]
  },
  {
   "cell_type": "code",
   "execution_count": null,
   "metadata": {
    "collapsed": true
   },
   "outputs": [],
   "source": [
    "sample_df = m.get_samples_df(samples)"
   ]
  },
  {
   "cell_type": "code",
   "execution_count": null,
   "metadata": {
    "collapsed": true
   },
   "outputs": [],
   "source": [
    "mean_l_mat = np.zeros(shape = (samples.shape[0], xx.shape[0]))\n",
    "var_l_mat = np.zeros(shape = (samples.shape[0], xx.shape[0]))"
   ]
  },
  {
   "cell_type": "code",
   "execution_count": null,
   "metadata": {
    "collapsed": true
   },
   "outputs": [],
   "source": [
    "for i, s in sample_df.iterrows():\n",
    "    m.set_parameter_dict(s)\n",
    "    mean1, v1 = m.predict_l(xx)\n",
    "    var1 = v1[:,:]\n",
    "    mean_l_mat[i,:] = mean1[:,0]\n",
    "    var_l_mat[i,:] = np.diag(var1)\n",
    "\n",
    "std_l_mat = np.sqrt(var_l_mat)"
   ]
  },
  {
   "cell_type": "code",
   "execution_count": null,
   "metadata": {
    "collapsed": true
   },
   "outputs": [],
   "source": [
    "LowerlogL = mean_l_mat - 2*std_l_mat\n",
    "UpperlogL = mean_l_mat + 2*std_l_mat"
   ]
  },
  {
   "cell_type": "code",
   "execution_count": null,
   "metadata": {
    "collapsed": true
   },
   "outputs": [],
   "source": [
    "MeanL = np.exp(mean_l_mat)\n",
    "LowerL = np.exp(LowerlogL)\n",
    "UpperL = np.exp(UpperlogL)"
   ]
  },
  {
   "cell_type": "code",
   "execution_count": null,
   "metadata": {
    "collapsed": true
   },
   "outputs": [],
   "source": [
    "def visualize(Xgrid, M, L, U):\n",
    "    \"\"\"\n",
    "    Visualize 1D utility funciton values\n",
    "    Xgrid : grid states\n",
    "    Mgrid : mean of GP at those finite grid points\n",
    "    Vargrid : variance of GP at those finite grid points\n",
    "    \"\"\"\n",
    "    \n",
    "    line, = plt.plot(Xgrid, M, lw = 2, color = 'b', label = 'utility', alpha = 0.5)\n",
    "    plt.fill_between(Xgrid[:,0], L, U,\n",
    "                     color = 'b', alpha = 0.25)\n",
    "    #plt.fill_between(Xgrid[:,0], lower1, upper1,\n",
    "    #                 color = 'g', alpha = 0.25)\n",
    "    plt.xlabel('x')\n",
    "    plt.ylabel('y')\n",
    "    return"
   ]
  },
  {
   "cell_type": "code",
   "execution_count": null,
   "metadata": {
    "collapsed": true
   },
   "outputs": [],
   "source": [
    "mini = 50\n",
    "maxi = 110\n",
    "plt.figure(figsize=(12,8))\n",
    "for i in xrange(mini,maxi):\n",
    "    visualize(xnew, MeanL[i,:], LowerL[i,:], UpperL[i,:])  "
   ]
  },
  {
   "cell_type": "code",
   "execution_count": null,
   "metadata": {
    "collapsed": true
   },
   "outputs": [],
   "source": [
    "v1.shape"
   ]
  },
  {
   "cell_type": "code",
   "execution_count": null,
   "metadata": {
    "collapsed": true
   },
   "outputs": [],
   "source": [
    "mean_n_mat = np.zeros(shape = (samples.shape[0], xx.shape[0]))\n",
    "var_n_mat = np.zeros(shape = (samples.shape[0], xx.shape[0]))"
   ]
  },
  {
   "cell_type": "code",
   "execution_count": null,
   "metadata": {
    "collapsed": true
   },
   "outputs": [],
   "source": [
    "for i, s in sample_df.iterrows():\n",
    "    m.set_parameter_dict(s)\n",
    "    mean1, v1 = m.predict_n(xx)\n",
    "    var1 = v1[:,:]\n",
    "    mean_n_mat[i,:] = mean1[:,0]\n",
    "    var_n_mat[i,:] = np.diag(var1)\n",
    "\n",
    "std_n_mat = np.sqrt(var_n_mat)"
   ]
  },
  {
   "cell_type": "code",
   "execution_count": null,
   "metadata": {
    "collapsed": true
   },
   "outputs": [],
   "source": [
    "LowerlogN = mean_n_mat - 2*std_n_mat\n",
    "UpperlogN = mean_n_mat + 2*std_n_mat"
   ]
  },
  {
   "cell_type": "code",
   "execution_count": null,
   "metadata": {
    "collapsed": true
   },
   "outputs": [],
   "source": [
    "MeanN = np.exp(mean_n_mat)\n",
    "LowerN = np.exp(LowerlogN)\n",
    "UpperN = np.exp(UpperlogN)"
   ]
  },
  {
   "cell_type": "code",
   "execution_count": null,
   "metadata": {
    "collapsed": true
   },
   "outputs": [],
   "source": [
    "mini = 50\n",
    "maxi = 151\n",
    "plt.figure(figsize=(12,8))\n",
    "for i in xrange(mini,maxi):\n",
    "    visualize(xnew, MeanN[i,:], LowerN[i,:], UpperN[i,:])  "
   ]
  },
  {
   "cell_type": "code",
   "execution_count": null,
   "metadata": {
    "collapsed": true
   },
   "outputs": [],
   "source": [
    "sig_samples = m.signal_variance.get_samples_df(samples)\n",
    "signal_var = np.array([])\n",
    "for s in sig_samples:\n",
    "    signal_var = np.append(signal_var, s)"
   ]
  },
  {
   "cell_type": "code",
   "execution_count": null,
   "metadata": {
    "collapsed": true
   },
   "outputs": [],
   "source": [
    "mean_f_mat = np.zeros(shape = (samples.shape[0], xx.shape[0]))\n",
    "var_f_mat = np.zeros(shape = (samples.shape[0], xx.shape[0]))\n",
    "\n",
    "for i, s in sample_df.iterrows():\n",
    "    m.set_parameter_dict(s)\n",
    "    mean1, v1 = m.predict_f(xx)\n",
    "    var1 = v1[:,:,0]\n",
    "    mean_f_mat[i,:] = mean1[:,0]\n",
    "    var_f_mat[i,:] = np.diag(var1)    "
   ]
  },
  {
   "cell_type": "code",
   "execution_count": null,
   "metadata": {
    "collapsed": true
   },
   "outputs": [],
   "source": []
  },
  {
   "cell_type": "code",
   "execution_count": null,
   "metadata": {
    "collapsed": true
   },
   "outputs": [],
   "source": [
    "std_f_mat = np.sqrt(var_f_mat)"
   ]
  },
  {
   "cell_type": "code",
   "execution_count": null,
   "metadata": {
    "collapsed": true
   },
   "outputs": [],
   "source": [
    "Lowerf = mean_f_mat - 2*std_f_mat\n",
    "Upperf = mean_f_mat + 2*std_f_mat"
   ]
  },
  {
   "cell_type": "code",
   "execution_count": null,
   "metadata": {
    "collapsed": true
   },
   "outputs": [],
   "source": [
    "def visualize_all(Xgrid, M1, L1, U1, U2):\n",
    "    \"\"\"\n",
    "    Visualize\n",
    "    \"\"\"  \n",
    "    L2 = L1 - U2\n",
    "    U2 = U1 + U2\n",
    "    \n",
    "    plt.plot(X, Y, '.')\n",
    "    line, = plt.plot(Xgrid, M1, lw = 2, color = 'b', label = 'utility', alpha = 0.5)\n",
    "    plt.fill_between(Xgrid[:,0], L1, U1,\n",
    "                     color = 'b', alpha = 0.25)\n",
    "    plt.fill_between(Xgrid[:,0], L2, U2,\n",
    "                     color = 'g', alpha = 0.25)\n",
    "    plt.xlabel('x')\n",
    "    plt.ylabel('y')\n",
    "    return"
   ]
  },
  {
   "cell_type": "code",
   "execution_count": null,
   "metadata": {
    "collapsed": true
   },
   "outputs": [],
   "source": [
    "mini = 100\n",
    "maxi = 180\n",
    "plt.figure(figsize=(12,8))\n",
    "for i in xrange(mini,maxi):\n",
    "    visualize_all(xnew, mean_f_mat[i,:],\n",
    "              Lowerf[i,:], Upperf[i,:],\n",
    "              UpperN[i,:])"
   ]
  },
  {
   "cell_type": "code",
   "execution_count": null,
   "metadata": {
    "collapsed": true
   },
   "outputs": [],
   "source": []
  }
 ],
 "metadata": {
  "kernelspec": {
   "display_name": "Python [default]",
   "language": "python",
   "name": "python2"
  },
  "language_info": {
   "codemirror_mode": {
    "name": "ipython",
    "version": 2
   },
   "file_extension": ".py",
   "mimetype": "text/x-python",
   "name": "python",
   "nbconvert_exporter": "python",
   "pygments_lexer": "ipython2",
   "version": "2.7.14"
  }
 },
 "nbformat": 4,
 "nbformat_minor": 2
}
