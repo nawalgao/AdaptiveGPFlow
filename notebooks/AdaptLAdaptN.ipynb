{
 "cells": [
  {
   "cell_type": "code",
   "execution_count": 1,
   "metadata": {
    "collapsed": false
   },
   "outputs": [],
   "source": [
    "import gpflow\n",
    "import numpy as np\n",
    "import matplotlib.pyplot as plt\n",
    "%matplotlib inline\n",
    "import sys\n",
    "sys.path.append('../')\n",
    "from GPHetero import hetero_kernels, hetero_likelihoods, hetero_gpmc"
   ]
  },
  {
   "cell_type": "code",
   "execution_count": 2,
   "metadata": {
    "collapsed": false
   },
   "outputs": [
    {
     "data": {
      "text/plain": [
       "<matplotlib.text.Text at 0x124840b10>"
      ]
     },
     "execution_count": 2,
     "metadata": {},
     "output_type": "execute_result"
    },
    {
     "name": "stderr",
     "output_type": "stream",
     "text": [
      "/Users/piyushpandita/anaconda/lib/python2.7/site-packages/matplotlib/figure.py:1742: UserWarning: This figure includes Axes that are not compatible with tight_layout, so its results might be incorrect.\n",
      "  warnings.warn(\"This figure includes Axes that are not \"\n"
     ]
    },
    {
     "data": {
      "image/png": "[encoded data removed]",
      "text/plain": [
       "<matplotlib.figure.Figure at 0x124733d90>"
      ]
     },
     "metadata": {},
     "output_type": "display_data"
    }
   ],
   "source": [
    "data = np.loadtxt('../data/motor.dat')\n",
    "X = data[:, 0][:, None]\n",
    "Xm = np.mean(X)\n",
    "Xv = np.std(X)\n",
    "Xnorm = (X - Xm)/Xv\n",
    "Y = data[:, 1]\n",
    "fig, ax = plt.subplots()\n",
    "ax.plot(X, Y, 'x', markeredgewidth=2)\n",
    "ax.set_xlabel('$x$')\n",
    "ax.set_ylabel('$y$')"
   ]
  },
  {
   "cell_type": "code",
   "execution_count": 3,
   "metadata": {
    "collapsed": true
   },
   "outputs": [],
   "source": [
    "#build the model\n",
    "k1 = gpflow.kernels.RBF(1)\n",
    "k2 = gpflow.kernels.RBF(1)\n",
    "nonstat = hetero_kernels.NonStationaryLengthscaleRBF()\n",
    "m = hetero_gpmc.GPMCAdaptLAdaptN(Xnorm, Y[:,None], k1, k2, nonstat)"
   ]
  },
  {
   "cell_type": "code",
   "execution_count": 4,
   "metadata": {
    "collapsed": false,
    "scrolled": true
   },
   "outputs": [
    {
     "data": {
      "text/html": [
       "<table id='params' width=100%><tr><td>Name</td><td>values</td><td>prior</td><td>constraint</td></tr><tr><td>adapt_ll_noise_gps.V1</td><td>[[0.]</br> [0.]</br> [0.]</br> [0.]</br> [0.]</br> [0.]</br> [0.]</br> [0.]</br> [0.]</br> [0.]</br> [0.]</br> [0.]</br> [0.]</br> [0.]</br> [0.]</br> [0.]</br> [0.]</br> [0.]</br> [0.]</br> [0.]</br> [0.]</br> [0.]</br> [0.]</br> [0.]</br> [0.]</br> [0.]</br> [0.]</br> [0.]</br> [0.]</br> [0.]</br> [0.]</br> [0.]</br> [0.]</br> [0.]</br> [0.]</br> [0.]</br> [0.]</br> [0.]</br> [0.]</br> [0.]</br> [0.]</br> [0.]</br> [0.]</br> [0.]</br> [0.]</br> [0.]</br> [0.]</br> [0.]</br> [0.]</br> [0.]</br> [0.]</br> [0.]</br> [0.]</br> [0.]</br> [0.]</br> [0.]</br> [0.]</br> [0.]</br> [0.]</br> [0.]</br> [0.]</br> [0.]</br> [0.]</br> [0.]</br> [0.]</br> [0.]</br> [0.]</br> [0.]</br> [0.]</br> [0.]</br> [0.]</br> [0.]</br> [0.]</br> [0.]</br> [0.]</br> [0.]</br> [0.]</br> [0.]</br> [0.]</br> [0.]</br> [0.]</br> [0.]</br> [0.]</br> [0.]</br> [0.]</br> [0.]</br> [0.]</br> [0.]</br> [0.]</br> [0.]</br> [0.]</br> [0.]</br> [0.]</br> [0.]]</td><td>N([0.],[1.])</td><td>(none)</td></tr><tr><td>adapt_ll_noise_gps.V2</td><td>[[0.]</br> [0.]</br> [0.]</br> [0.]</br> [0.]</br> [0.]</br> [0.]</br> [0.]</br> [0.]</br> [0.]</br> [0.]</br> [0.]</br> [0.]</br> [0.]</br> [0.]</br> [0.]</br> [0.]</br> [0.]</br> [0.]</br> [0.]</br> [0.]</br> [0.]</br> [0.]</br> [0.]</br> [0.]</br> [0.]</br> [0.]</br> [0.]</br> [0.]</br> [0.]</br> [0.]</br> [0.]</br> [0.]</br> [0.]</br> [0.]</br> [0.]</br> [0.]</br> [0.]</br> [0.]</br> [0.]</br> [0.]</br> [0.]</br> [0.]</br> [0.]</br> [0.]</br> [0.]</br> [0.]</br> [0.]</br> [0.]</br> [0.]</br> [0.]</br> [0.]</br> [0.]</br> [0.]</br> [0.]</br> [0.]</br> [0.]</br> [0.]</br> [0.]</br> [0.]</br> [0.]</br> [0.]</br> [0.]</br> [0.]</br> [0.]</br> [0.]</br> [0.]</br> [0.]</br> [0.]</br> [0.]</br> [0.]</br> [0.]</br> [0.]</br> [0.]</br> [0.]</br> [0.]</br> [0.]</br> [0.]</br> [0.]</br> [0.]</br> [0.]</br> [0.]</br> [0.]</br> [0.]</br> [0.]</br> [0.]</br> [0.]</br> [0.]</br> [0.]</br> [0.]</br> [0.]</br> [0.]</br> [0.]</br> [0.]]</td><td>N([0.],[1.])</td><td>(none)</td></tr><tr><td>adapt_ll_noise_gps.V3</td><td>[[0.]</br> [0.]</br> [0.]</br> [0.]</br> [0.]</br> [0.]</br> [0.]</br> [0.]</br> [0.]</br> [0.]</br> [0.]</br> [0.]</br> [0.]</br> [0.]</br> [0.]</br> [0.]</br> [0.]</br> [0.]</br> [0.]</br> [0.]</br> [0.]</br> [0.]</br> [0.]</br> [0.]</br> [0.]</br> [0.]</br> [0.]</br> [0.]</br> [0.]</br> [0.]</br> [0.]</br> [0.]</br> [0.]</br> [0.]</br> [0.]</br> [0.]</br> [0.]</br> [0.]</br> [0.]</br> [0.]</br> [0.]</br> [0.]</br> [0.]</br> [0.]</br> [0.]</br> [0.]</br> [0.]</br> [0.]</br> [0.]</br> [0.]</br> [0.]</br> [0.]</br> [0.]</br> [0.]</br> [0.]</br> [0.]</br> [0.]</br> [0.]</br> [0.]</br> [0.]</br> [0.]</br> [0.]</br> [0.]</br> [0.]</br> [0.]</br> [0.]</br> [0.]</br> [0.]</br> [0.]</br> [0.]</br> [0.]</br> [0.]</br> [0.]</br> [0.]</br> [0.]</br> [0.]</br> [0.]</br> [0.]</br> [0.]</br> [0.]</br> [0.]</br> [0.]</br> [0.]</br> [0.]</br> [0.]</br> [0.]</br> [0.]</br> [0.]</br> [0.]</br> [0.]</br> [0.]</br> [0.]</br> [0.]</br> [0.]]</td><td>N([0.],[1.])</td><td>(none)</td></tr><tr><td>adapt_ll_noise_gps.kern1.lengthscales</td><td>[1.]</td><td>None</td><td>+ve</td></tr><tr><td>adapt_ll_noise_gps.kern1.variance</td><td>[1.]</td><td>None</td><td>+ve</td></tr><tr><td>adapt_ll_noise_gps.kern2.lengthscales</td><td>[1.]</td><td>None</td><td>+ve</td></tr><tr><td>adapt_ll_noise_gps.kern2.variance</td><td>[1.]</td><td>None</td><td>+ve</td></tr><tr><td>adapt_ll_noise_gps.nonstat.signal_variance</td><td>[1.]</td><td>None</td><td>+ve</td></tr><tr><td>adapt_ll_noise_gps.signal_variance</td><td>[1.]</td><td>None</td><td>+ve</td></tr></table>"
      ],
      "text/plain": [
       "<GPHetero.hetero_gpmc.GPMCAdaptLAdaptN at 0x124632450>"
      ]
     },
     "execution_count": 4,
     "metadata": {},
     "output_type": "execute_result"
    }
   ],
   "source": [
    "m"
   ]
  },
  {
   "cell_type": "code",
   "execution_count": 5,
   "metadata": {
    "collapsed": true
   },
   "outputs": [],
   "source": [
    "#m.kern1.lengthscales.prior = gpflow.priors.Gamma(1., 1.)\n",
    "m.kern1.variance = 0.1\n",
    "m.kern1.variance.fixed = True\n",
    "m.kern1.variance.prior = gpflow.priors.Gamma(1., 1.)\n",
    "\n",
    "m.kern2.lengthscales.prior = gpflow.priors.Gamma(1., 1.)\n",
    "#m.kern2.variance.prior = gpflow.priors.Gamma(1., 1.)\n",
    "m.kern2.variance = 0.1\n",
    "m.kern2.variance.fixed = True\n",
    "\n",
    "m.nonstat.signal_variance = 100\n",
    "m.nonstat.signal_variance.fixed = True"
   ]
  },
  {
   "cell_type": "code",
   "execution_count": 6,
   "metadata": {
    "collapsed": false
   },
   "outputs": [
    {
     "data": {
      "text/plain": [
       "      fun: array([775.22460878])\n",
       " hess_inv: <285x285 LbfgsInvHessProduct with dtype=float64>\n",
       "      jac: array([-6.71015587e-03,  5.45780775e-05,  2.55333489e-04,  4.79851647e-04,\n",
       "        3.00490998e-04,  4.15656367e-04,  1.09500683e-04,  2.95979572e-04,\n",
       "        2.98117954e-04,  3.10022122e-04,  3.74557714e-04,  5.17497794e-04,\n",
       "        1.19138518e-04,  2.84513099e-04,  4.12327051e-04, -1.88226001e-04,\n",
       "        3.85910668e-04, -5.19581893e-05,  1.20661930e-03, -1.06886411e-03,\n",
       "       -8.71430139e-04,  9.15626658e-04, -2.10456042e-04, -2.59097068e-05,\n",
       "        8.64715507e-05, -9.63744923e-05, -9.62198717e-05, -6.03708425e-05,\n",
       "       -2.64481635e-05, -2.73900200e-06, -5.03379862e-05, -4.84397443e-05,\n",
       "       -5.05394151e-05, -5.00511262e-05, -4.04288295e-05, -2.53505798e-05,\n",
       "       -1.68852426e-05, -2.52002375e-05, -8.75760461e-06, -1.39515198e-05,\n",
       "       -3.66730444e-06,  4.06155444e-06,  9.43994255e-06,  2.92483929e-06,\n",
       "        6.81949461e-06,  1.61843761e-05,  8.89717244e-06,  1.62206834e-05,\n",
       "        1.64549058e-05,  1.46632284e-05,  1.53867965e-05,  1.30505286e-05,\n",
       "        1.45216744e-05,  1.90805680e-05,  1.63953121e-05,  1.66587232e-05,\n",
       "        1.92237143e-05,  1.57245445e-05,  1.38873073e-05,  2.02638312e-05,\n",
       "        2.20678787e-05,  2.17830941e-05,  1.31098996e-05,  1.84614441e-05,\n",
       "        1.98588940e-05,  1.78788158e-05,  1.37478359e-05,  1.59385405e-05,\n",
       "        1.35665614e-05,  1.26718990e-05,  1.05940268e-05,  9.00982838e-06,\n",
       "        1.21746490e-05,  2.26899723e-05,  1.81670612e-05, -2.77172394e-07,\n",
       "        1.08310067e-05,  4.92846197e-06,  1.45123382e-05,  1.17109404e-05,\n",
       "        6.86881495e-06,  4.58044157e-06,  8.48535264e-06,  4.64209538e-06,\n",
       "        5.44419226e-06,  6.29809418e-06,  4.77703895e-06,  3.22384563e-06,\n",
       "        3.06932796e-06,  5.23802377e-06, -4.94640272e-07, -5.69549615e-08,\n",
       "        3.36923501e-08, -2.05038775e-06, -7.64907760e-04, -8.43502720e-04,\n",
       "       -9.24681969e-04,  2.29512281e-04,  6.41252501e-04, -6.96416847e-05,\n",
       "       -3.37922325e-04, -1.71810512e-04,  5.14489063e-05,  7.91753628e-05,\n",
       "        2.89861853e-04,  4.88395152e-04,  3.21746879e-04,  2.13429884e-04,\n",
       "        2.66843685e-04,  2.33342022e-04,  1.47443881e-04,  3.68647294e-05,\n",
       "       -9.00662620e-05, -2.04446292e-05,  2.49035815e-04,  1.90294973e-04,\n",
       "        3.78179277e-04,  2.90781319e-04,  2.73954886e-04,  2.77655203e-04,\n",
       "        2.89290008e-04,  3.02268586e-04,  3.08144218e-04,  3.13828352e-04,\n",
       "        5.79986785e-04,  3.65300484e-04,  4.86773470e-04,  4.03145889e-04,\n",
       "        2.47002530e-04,  2.09557907e-04,  3.43652152e-04,  2.70736527e-04,\n",
       "        4.66411023e-04,  3.16315836e-04,  3.42929655e-04,  2.87888764e-04,\n",
       "        6.47302293e-04,  3.66250783e-04,  4.49118275e-04,  3.37729874e-04,\n",
       "        3.85420536e-04,  4.19614286e-04,  4.41376782e-04,  3.69202459e-04,\n",
       "        4.20099543e-04,  3.59793954e-04,  3.33036822e-04,  4.75059586e-04,\n",
       "        3.75433549e-04,  3.95638300e-04,  4.58160048e-04,  3.34469744e-04,\n",
       "        2.79745252e-04,  4.27605696e-04,  4.60998628e-04,  4.34034109e-04,\n",
       "        2.67085669e-04,  3.64248417e-04,  3.98571591e-04,  3.49910369e-04,\n",
       "        2.84402655e-04,  3.08229036e-04,  2.66429983e-04,  2.49749610e-04,\n",
       "        1.97997496e-04,  1.76054553e-04,  2.39798675e-04,  4.07682105e-04,\n",
       "        2.57998070e-04,  1.19938854e-04,  1.30902260e-04,  1.18011627e-04,\n",
       "        1.83267653e-04,  1.41851079e-04,  9.24118642e-05,  6.54268196e-05,\n",
       "        9.52503514e-05,  6.80396251e-05,  6.35961756e-05,  8.10524531e-05,\n",
       "        5.24224963e-05,  3.23854295e-05,  2.94372695e-05,  1.66531585e-05,\n",
       "        8.18587012e-06,  5.52809679e-06,  2.53543453e-06,  2.80538016e-06,\n",
       "        1.48913925e-02,  4.68076655e-03,  2.95175081e-03,  1.71775726e-03,\n",
       "        9.38167850e-04,  1.05280687e-03,  6.97267542e-04,  1.31744143e-04,\n",
       "        9.50403555e-05, -2.03190723e-04, -2.96067290e-04, -3.37245909e-04,\n",
       "       -3.47941274e-04, -2.03381785e-04, -1.57603711e-04, -3.91687076e-04,\n",
       "        3.99016523e-04,  8.80753831e-05,  8.33206047e-04, -1.29345827e-04,\n",
       "        1.43228685e-03,  5.18374876e-04,  1.13124915e-03,  1.27251397e-03,\n",
       "        7.99641939e-04,  4.09077504e-04,  5.67283586e-04,  5.67062031e-04,\n",
       "        6.39976434e-04,  7.27583982e-04,  1.20370239e-03,  6.77505269e-04,\n",
       "        8.71953104e-04,  8.13630796e-04,  3.49989804e-04,  3.39804100e-04,\n",
       "        3.81338930e-04,  1.22843555e-04,  2.36216176e-04, -5.39177412e-05,\n",
       "        5.45074579e-06, -6.18384172e-05, -2.78508293e-04, -4.14537448e-04,\n",
       "       -2.79899814e-04, -4.10759124e-04, -4.80005223e-04, -3.67749548e-04,\n",
       "       -4.71939182e-04, -3.49422293e-04, -4.50258134e-04, -2.77932134e-04,\n",
       "       -3.06317375e-04, -4.40831243e-04, -2.85791574e-04, -3.63490109e-04,\n",
       "       -2.81798924e-04, -1.58323292e-04, -1.41864495e-04, -1.26705265e-04,\n",
       "        2.46577615e-05,  1.87821795e-04,  1.70040720e-04,  3.40489588e-04,\n",
       "        4.14617053e-04,  3.47786283e-04,  2.48661001e-04,  2.39932594e-04,\n",
       "        1.20854797e-04,  7.64793241e-05,  1.62068981e-05, -3.04596327e-06,\n",
       "       -3.94399419e-05, -2.17444138e-04, -3.58764542e-04, -2.22957836e-04,\n",
       "       -2.55457632e-04, -1.36507200e-04, -2.77676046e-04, -2.66095671e-04,\n",
       "       -2.18913534e-04, -1.50426618e-04, -2.74172496e-04, -2.01166835e-04,\n",
       "       -1.24482524e-04,  3.00894514e-05,  4.05768964e-04,  7.27756235e-04,\n",
       "        7.86049332e-04,  5.21445634e-04,  1.96517865e-04,  3.31905949e-06,\n",
       "       -2.98607255e-05, -3.62265552e-07, -6.47491207e-07,  7.30684066e-03,\n",
       "       -0.00000000e+00])\n",
       "  message: 'CONVERGENCE: REL_REDUCTION_OF_F_<=_FACTR*EPSMCH'\n",
       "     nfev: 346\n",
       "      nit: 323\n",
       "   status: 0\n",
       "  success: True\n",
       "        x: array([-3.76832966e+00, -8.42053792e-03, -5.17045902e-03, -4.18600943e-03,\n",
       "       -3.50832808e-03, -5.34707109e-03, -5.01151075e-03, -4.06333689e-03,\n",
       "       -4.56755328e-03, -4.23224625e-03, -4.03164136e-03, -3.91297122e-03,\n",
       "       -3.93812646e-03, -2.98826141e-03, -3.06019492e-03, -2.75359606e-03,\n",
       "       -3.40987984e-03, -5.13268232e-03, -4.26141076e-03, -6.69450311e-03,\n",
       "       -4.32285764e-03, -5.05222544e-03, -2.26813843e-03,  7.85150203e-04,\n",
       "       -3.07321666e-03,  2.38127977e-04, -3.54519938e-03, -5.57736971e-03,\n",
       "        1.55597096e-03,  2.22175720e-03, -2.14443984e-03,  1.42594708e-03,\n",
       "        8.71737559e-05, -6.02214445e-04, -9.36164626e-04, -8.17215176e-04,\n",
       "       -1.05097245e-03, -1.00531704e-03, -1.06753475e-03, -8.22926865e-04,\n",
       "       -7.70348347e-04, -7.19680720e-04, -3.45751127e-04, -2.19018766e-04,\n",
       "       -1.14467946e-04, -2.81462048e-04, -8.35239045e-04, -4.94259596e-04,\n",
       "       -1.84675319e-04, -1.08685631e-03, -1.40971034e-03,  1.08220888e-03,\n",
       "        1.24019639e-04, -8.76988072e-04, -4.86540922e-05, -1.13222552e-03,\n",
       "       -1.07749232e-03, -1.76802700e-04, -1.70447036e-03,  2.08418525e-05,\n",
       "       -9.30242206e-04, -1.36105834e-03, -1.94988952e-04, -7.46521752e-04,\n",
       "       -4.94321769e-04, -2.14796156e-04, -3.24601493e-04, -2.08452791e-04,\n",
       "       -1.05300841e-04, -3.44128298e-04,  8.05431482e-05, -8.53173218e-05,\n",
       "       -6.99788830e-04,  4.25468157e-04, -2.69371422e-04, -3.81347199e-04,\n",
       "       -6.22494828e-04, -4.30594632e-04,  1.11035542e-05, -1.23576923e-04,\n",
       "       -1.24699092e-04, -1.55794421e-04, -1.01292698e-04, -1.11990997e-04,\n",
       "       -1.28168768e-04,  3.40439628e-05, -6.00598370e-04, -2.81002377e-04,\n",
       "        3.13783370e-05,  5.53422017e-04, -9.95581365e-04, -3.27522444e-04,\n",
       "       -3.90833010e-04, -4.32241414e-04,  3.02241068e+00,  6.13928140e+00,\n",
       "        2.85080673e+00,  1.45274681e+00,  1.97506465e+00,  5.23602559e+00,\n",
       "        1.34955326e+00,  1.02643984e+00,  2.21217902e+00,  1.36516921e+00,\n",
       "        1.42159789e+00,  1.63535896e+00,  1.21483580e+00,  9.10935075e-01,\n",
       "        1.06255300e+00,  1.14028569e+00,  1.14732231e+00,  2.03578339e+00,\n",
       "        8.40223245e-01,  5.61338545e-01,  8.54675295e-01,  6.03110917e-01,\n",
       "        7.57266029e-01,  5.79427988e-01,  5.07096419e-01,  4.75453055e-01,\n",
       "        4.62997719e-01,  4.61853446e-01,  4.55259506e-01,  4.55867174e-01,\n",
       "        7.69073269e-01,  5.74339872e-01,  7.40219414e-01,  6.61717186e-01,\n",
       "        4.49348747e-01,  3.75587264e-01,  4.88300299e-01,  3.92229487e-01,\n",
       "        5.67236425e-01,  4.07265303e-01,  4.07788272e-01,  3.40544397e-01,\n",
       "        6.12043565e-01,  3.76654746e-01,  3.99913275e-01,  2.97923942e-01,\n",
       "        3.06660908e-01,  3.13268259e-01,  3.16553744e-01,  2.65861135e-01,\n",
       "        2.90293869e-01,  2.55697433e-01,  2.30608086e-01,  3.11398475e-01,\n",
       "        2.57445756e-01,  2.70090219e-01,  3.11058247e-01,  2.39214112e-01,\n",
       "        2.06012737e-01,  2.88494825e-01,  3.10211560e-01,  2.92523502e-01,\n",
       "        1.83355443e-01,  2.24401563e-01,  2.30721403e-01,  1.97436582e-01,\n",
       "        1.59783938e-01,  1.63942381e-01,  1.44608920e-01,  1.29728999e-01,\n",
       "        1.06506887e-01,  9.06069999e-02,  1.20938129e-01,  2.02527856e-01,\n",
       "        1.36870523e-01,  6.78204243e-02,  6.92914660e-02,  5.92746522e-02,\n",
       "        8.60865749e-02,  6.90321409e-02,  4.53622050e-02,  3.27156799e-02,\n",
       "        4.43766183e-02,  3.25686177e-02,  3.02865179e-02,  3.72782997e-02,\n",
       "        2.58029649e-02,  1.20613758e-02,  9.81890377e-03,  7.36617122e-03,\n",
       "        7.36965195e-04, -2.18635268e-03, -5.59812991e-04,  4.49415977e-04,\n",
       "       -8.58092770e-02, -1.98541565e-01, -2.00670276e-01, -1.64204094e-01,\n",
       "        1.49529182e-02,  2.07441684e-01,  3.77136849e-01,  1.18674214e-01,\n",
       "       -1.46705873e-03, -5.78948205e-01, -8.12670576e-01, -1.61230816e+00,\n",
       "       -1.94339882e+00, -1.26434561e+00, -1.92884444e+00, -2.16157636e+00,\n",
       "       -2.36844438e+00, -3.92960888e+00, -3.71893343e+00, -1.48262835e+00,\n",
       "       -3.05587720e+00, -1.62589715e+00, -2.01973850e+00, -1.19814179e+00,\n",
       "       -1.32134268e+00, -1.06646943e+00, -8.54693933e-01, -7.56291653e-01,\n",
       "       -7.15910569e-01, -6.84400715e-01, -1.02808586e+00, -4.50846331e-01,\n",
       "       -5.53115274e-01, -1.86287104e-01, -2.45517660e-03,  4.18170264e-02,\n",
       "        1.67944083e-01,  2.02672728e-01,  4.51065962e-01,  3.60745355e-01,\n",
       "        5.37013511e-01,  3.33976549e-01,  8.14265636e-01,  6.51357146e-01,\n",
       "        6.74484251e-01,  4.37941269e-01,  6.72448288e-01,  5.10052359e-01,\n",
       "        5.05759817e-01,  3.50673843e-01,  4.86220003e-01,  2.87169273e-01,\n",
       "        3.00958955e-01,  4.21326494e-01,  2.21314142e-01,  3.15529874e-01,\n",
       "        2.61539532e-01,  1.38953910e-01,  1.41769283e-01,  1.73792060e-01,\n",
       "        1.34555810e-01,  9.70823161e-02,  6.10841371e-02,  1.05126628e-01,\n",
       "        1.59447871e-01,  1.86407113e-01,  1.78204837e-01,  2.09848142e-01,\n",
       "        1.94682057e-01,  1.75045848e-01,  1.11560725e-01,  1.14070997e-01,\n",
       "        1.45047363e-01,  7.46218681e-02, -1.52720461e-01, -2.57066846e-01,\n",
       "       -2.07248195e-01, -2.41038035e-01, -2.71697048e-01, -2.12626105e-01,\n",
       "       -1.11377530e-01, -6.03411735e-02, -1.01273338e-01, -1.04892090e-01,\n",
       "       -1.02138073e-01, -1.96238682e-01, -1.82983771e-01, -2.21889408e-03,\n",
       "        3.50669572e-01,  6.32348459e-01,  6.33627365e-01,  4.18261063e-01,\n",
       "        1.37409946e-01,  4.36351638e-02,  3.01279856e+02,  1.05316263e+00,\n",
       "        5.41323273e-01])"
      ]
     },
     "execution_count": 6,
     "metadata": {},
     "output_type": "execute_result"
    }
   ],
   "source": [
    "m.optimize(maxiter=5000)"
   ]
  },
  {
   "cell_type": "code",
   "execution_count": 39,
   "metadata": {
    "collapsed": false,
    "scrolled": true
   },
   "outputs": [
    {
     "name": "stdout",
     "output_type": "stream",
     "text": [
      "burn-in sampling started\n",
      "Iteration:  100 \t Acc Rate:  98.0 %\n",
      "burn-in sampling ended\n"
     ]
    }
   ],
   "source": [
    "samples = m.sample(20, verbose=True, epsilon=0.01, thin = 2, burn = 100, Lmax = 40)"
   ]
  },
  {
   "cell_type": "code",
   "execution_count": 74,
   "metadata": {
    "collapsed": false
   },
   "outputs": [
    {
     "name": "stdout",
     "output_type": "stream",
     "text": [
      "(285, 1)\n"
     ]
    }
   ],
   "source": [
    "print samples.shape"
   ]
  },
  {
   "cell_type": "code",
   "execution_count": 44,
   "metadata": {
    "collapsed": false,
    "scrolled": true
   },
   "outputs": [],
   "source": [
    "Xnorm.shape\n",
    "sample = m.optimize(maxiter=500)\n",
    "samples = sample.x[:, None]"
   ]
  },
  {
   "cell_type": "code",
   "execution_count": 45,
   "metadata": {
    "collapsed": false
   },
   "outputs": [
    {
     "name": "stdout",
     "output_type": "stream",
     "text": [
      "(285, 1)\n",
      "94\n"
     ]
    }
   ],
   "source": [
    "print samples.shape\n",
    "print X.shape[0]"
   ]
  },
  {
   "cell_type": "code",
   "execution_count": 47,
   "metadata": {
    "collapsed": false
   },
   "outputs": [],
   "source": [
    "sample_df = m.get_samples_df(samples.T)"
   ]
  },
  {
   "cell_type": "code",
   "execution_count": 48,
   "metadata": {
    "collapsed": false
   },
   "outputs": [],
   "source": [
    "mean_l_mat = np.zeros(shape = (samples.shape[0], xx.shape[0]))\n",
    "var_l_mat = np.zeros(shape = (samples.shape[0], xx.shape[0]))"
   ]
  },
  {
   "cell_type": "code",
   "execution_count": 49,
   "metadata": {
    "collapsed": true
   },
   "outputs": [],
   "source": [
    "xnew = np.linspace(0, 60, 50)[:,None]\n",
    "xx = (xnew - Xm) / Xv"
   ]
  },
  {
   "cell_type": "code",
   "execution_count": 50,
   "metadata": {
    "collapsed": true
   },
   "outputs": [],
   "source": [
    "for i, s in sample_df.iterrows():\n",
    "    m.set_parameter_dict(s)\n",
    "    mean1, v1 = m.predict_l(xx)\n",
    "    var1 = v1[:,:]\n",
    "    mean_l_mat[i,:] = mean1[:,0]\n",
    "    var_l_mat[i,:] = np.diag(var1)\n",
    "\n",
    "std_l_mat = np.sqrt(var_l_mat)"
   ]
  },
  {
   "cell_type": "code",
   "execution_count": 51,
   "metadata": {
    "collapsed": false
   },
   "outputs": [],
   "source": [
    "LowerlogL = mean_l_mat - 2*std_l_mat\n",
    "UpperlogL = mean_l_mat + 2*std_l_mat"
   ]
  },
  {
   "cell_type": "code",
   "execution_count": 54,
   "metadata": {
    "collapsed": false
   },
   "outputs": [],
   "source": [
    "MeanL = np.exp(mean_l_mat)\n",
    "LowerL = np.exp(LowerlogL)\n",
    "UpperL = np.exp(UpperlogL)"
   ]
  },
  {
   "cell_type": "code",
   "execution_count": 55,
   "metadata": {
    "collapsed": true
   },
   "outputs": [],
   "source": [
    "def visualize(Xgrid, M, L, U):\n",
    "    \"\"\"\n",
    "    Visualize 1D utility funciton values\n",
    "    Xgrid : grid states\n",
    "    Mgrid : mean of GP at those finite grid points\n",
    "    Vargrid : variance of GP at those finite grid points\n",
    "    \"\"\"\n",
    "    \n",
    "    line, = plt.plot(Xgrid, M, lw = 2, color = 'b', label = 'utility', alpha = 0.5)\n",
    "    plt.fill_between(Xgrid[:,0], L, U,\n",
    "                     color = 'b', alpha = 0.25)\n",
    "    #plt.fill_between(Xgrid[:,0], lower1, upper1,\n",
    "    #                 color = 'g', alpha = 0.25)\n",
    "    plt.xlabel('x')\n",
    "    plt.ylabel('y')\n",
    "    return"
   ]
  },
  {
   "cell_type": "code",
   "execution_count": 56,
   "metadata": {
    "collapsed": false
   },
   "outputs": [
    {
     "data": {
      "image/png": "[encoded data removed]",
      "text/plain": [
       "<matplotlib.figure.Figure at 0x127b91510>"
      ]
     },
     "metadata": {},
     "output_type": "display_data"
    }
   ],
   "source": [
    "mini = 50\n",
    "maxi = 110\n",
    "plt.figure(figsize=(12,8))\n",
    "for i in xrange(mini,maxi):\n",
    "    visualize(xnew, MeanL[i,:], LowerL[i,:], UpperL[i,:])  "
   ]
  },
  {
   "cell_type": "code",
   "execution_count": 57,
   "metadata": {
    "collapsed": false
   },
   "outputs": [
    {
     "data": {
      "text/plain": [
       "(50, 1)"
      ]
     },
     "execution_count": 57,
     "metadata": {},
     "output_type": "execute_result"
    }
   ],
   "source": [
    "v1.shape"
   ]
  },
  {
   "cell_type": "code",
   "execution_count": 58,
   "metadata": {
    "collapsed": false
   },
   "outputs": [],
   "source": [
    "mean_n_mat = np.zeros(shape = (samples.shape[0], xx.shape[0]))\n",
    "var_n_mat = np.zeros(shape = (samples.shape[0], xx.shape[0]))"
   ]
  },
  {
   "cell_type": "code",
   "execution_count": 59,
   "metadata": {
    "collapsed": false
   },
   "outputs": [],
   "source": [
    "for i, s in sample_df.iterrows():\n",
    "    m.set_parameter_dict(s)\n",
    "    mean1, v1 = m.predict_n(xx)\n",
    "    var1 = v1[:,:]\n",
    "    mean_n_mat[i,:] = mean1[:,0]\n",
    "    var_n_mat[i,:] = np.diag(var1)\n",
    "\n",
    "std_n_mat = np.sqrt(var_n_mat)"
   ]
  },
  {
   "cell_type": "code",
   "execution_count": 60,
   "metadata": {
    "collapsed": false
   },
   "outputs": [],
   "source": [
    "LowerlogN = mean_n_mat - 2*std_n_mat\n",
    "UpperlogN = mean_n_mat + 2*std_n_mat"
   ]
  },
  {
   "cell_type": "code",
   "execution_count": 61,
   "metadata": {
    "collapsed": false
   },
   "outputs": [],
   "source": [
    "MeanN = np.exp(mean_n_mat)\n",
    "LowerN = np.exp(LowerlogN)\n",
    "UpperN = np.exp(UpperlogN)"
   ]
  },
  {
   "cell_type": "code",
   "execution_count": 62,
   "metadata": {
    "collapsed": false
   },
   "outputs": [
    {
     "data": {
      "image/png": "[encoded data removed]",
      "text/plain": [
       "<matplotlib.figure.Figure at 0x12948c2d0>"
      ]
     },
     "metadata": {},
     "output_type": "display_data"
    }
   ],
   "source": [
    "mini = 50\n",
    "maxi = 151\n",
    "plt.figure(figsize=(12,8))\n",
    "for i in xrange(mini,maxi):\n",
    "    visualize(xnew, MeanN[i,:], LowerN[i,:], UpperN[i,:])  "
   ]
  },
  {
   "cell_type": "code",
   "execution_count": 65,
   "metadata": {
    "collapsed": false
   },
   "outputs": [],
   "source": [
    "sig_samples = m.signal_variance.get_samples_df(samples.T)\n",
    "signal_var = np.array([])\n",
    "for s in sig_samples:\n",
    "    signal_var = np.append(signal_var, s)"
   ]
  },
  {
   "cell_type": "code",
   "execution_count": 66,
   "metadata": {
    "collapsed": false
   },
   "outputs": [],
   "source": [
    "mean_f_mat = np.zeros(shape = (samples.T.shape[0], xx.shape[0]))\n",
    "var_f_mat = np.zeros(shape = (samples.T.shape[0], xx.shape[0]))\n",
    "\n",
    "for i, s in sample_df.iterrows():\n",
    "    m.set_parameter_dict(s)\n",
    "    mean1, v1 = m.predict_f(xx)\n",
    "    var1 = v1[:,:,0]\n",
    "    mean_f_mat[i,:] = mean1[:,0]\n",
    "    var_f_mat[i,:] = np.diag(var1)    "
   ]
  },
  {
   "cell_type": "code",
   "execution_count": 67,
   "metadata": {
    "collapsed": false
   },
   "outputs": [],
   "source": [
    "std_f_mat = np.sqrt(var_f_mat)"
   ]
  },
  {
   "cell_type": "code",
   "execution_count": 68,
   "metadata": {
    "collapsed": false
   },
   "outputs": [],
   "source": [
    "Lowerf = mean_f_mat - 2*std_f_mat\n",
    "Upperf = mean_f_mat + 2*std_f_mat"
   ]
  },
  {
   "cell_type": "code",
   "execution_count": 69,
   "metadata": {
    "collapsed": true
   },
   "outputs": [],
   "source": [
    "def visualize_all(Xgrid, M1, L1, U1, U2):\n",
    "    \"\"\"\n",
    "    Visualize\n",
    "    \"\"\"  \n",
    "    L2 = L1 - U2\n",
    "    U2 = U1 + U2\n",
    "    \n",
    "    plt.plot(X, Y, '.')\n",
    "    line, = plt.plot(Xgrid, M1, lw = 2, color = 'b', label = 'utility', alpha = 0.5)\n",
    "    plt.fill_between(Xgrid[:,0], L1, U1,\n",
    "                     color = 'b', alpha = 0.25)\n",
    "    plt.fill_between(Xgrid[:,0], L2, U2,\n",
    "                     color = 'g', alpha = 0.25)\n",
    "    plt.xlabel('x')\n",
    "    plt.ylabel('y')\n",
    "    return"
   ]
  },
  {
   "cell_type": "code",
   "execution_count": 71,
   "metadata": {
    "collapsed": false
   },
   "outputs": [
    {
     "data": {
      "image/png": "[encoded data removed]",
      "text/plain": [
       "<matplotlib.figure.Figure at 0x124858f10>"
      ]
     },
     "metadata": {},
     "output_type": "display_data"
    }
   ],
   "source": [
    "mini = 0\n",
    "maxi = 1\n",
    "plt.figure(figsize=(12,8))\n",
    "for i in xrange(mini,maxi):\n",
    "    visualize_all(xnew, mean_f_mat[i,:],\n",
    "              Lowerf[i,:], Upperf[i,:],\n",
    "              UpperN[i,:])"
   ]
  },
  {
   "cell_type": "code",
   "execution_count": null,
   "metadata": {
    "collapsed": true
   },
   "outputs": [],
   "source": []
  }
 ],
 "metadata": {
  "kernelspec": {
   "display_name": "Python 2",
   "language": "python",
   "name": "python2"
  },
  "language_info": {
   "codemirror_mode": {
    "name": "ipython",
    "version": 2
   },
   "file_extension": ".py",
   "mimetype": "text/x-python",
   "name": "python",
   "nbconvert_exporter": "python",
   "pygments_lexer": "ipython2",
   "version": "2.7.6"
  }
 },
 "nbformat": 4,
 "nbformat_minor": 2
}
