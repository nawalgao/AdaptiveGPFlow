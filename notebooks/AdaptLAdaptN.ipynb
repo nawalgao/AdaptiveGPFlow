{
 "cells": [
  {
   "cell_type": "code",
   "execution_count": 1,
   "metadata": {
    "collapsed": false
   },
   "outputs": [],
   "source": [
    "import gpflow\n",
    "import numpy as np\n",
    "import matplotlib.pyplot as plt\n",
    "%matplotlib inline\n",
    "import sys\n",
    "sys.path.append('../')\n",
    "from GPHetero import hetero_kernels, hetero_likelihoods, hetero_gpmc"
   ]
  },
  {
   "cell_type": "code",
   "execution_count": 2,
   "metadata": {
    "collapsed": false
   },
   "outputs": [
    {
     "data": {
      "text/plain": [
       "<matplotlib.text.Text at 0x123751090>"
      ]
     },
     "execution_count": 2,
     "metadata": {},
     "output_type": "execute_result"
    },
    {
     "name": "stderr",
     "output_type": "stream",
     "text": [
      "/Users/piyushpandita/anaconda/lib/python2.7/site-packages/matplotlib/figure.py:1742: UserWarning: This figure includes Axes that are not compatible with tight_layout, so its results might be incorrect.\n",
      "  warnings.warn(\"This figure includes Axes that are not \"\n"
     ]
    },
    {
     "data": {
      "image/png": "[encoded data removed]",
      "text/plain": [
       "<matplotlib.figure.Figure at 0x102d1e850>"
      ]
     },
     "metadata": {},
     "output_type": "display_data"
    }
   ],
   "source": [
    "data = np.loadtxt('../data/motor.dat')\n",
    "X = data[:, 0][:, None]\n",
    "Xm = np.mean(X)\n",
    "Xv = np.std(X)\n",
    "Xnorm = (X - Xm)/Xv\n",
    "Y = data[:, 1]\n",
    "fig, ax = plt.subplots()\n",
    "ax.plot(X, Y, 'x', markeredgewidth=2)\n",
    "ax.set_xlabel('$x$')\n",
    "ax.set_ylabel('$y$')"
   ]
  },
  {
   "cell_type": "code",
   "execution_count": 3,
   "metadata": {
    "collapsed": false
   },
   "outputs": [],
   "source": [
    "#build the model\n",
    "k = gpflow.kernels.RBF(input_dim=1)\n",
    "noisekern = gpflow.kernels.RBF(input_dim=1, ARD=True)\n",
    "nonstat = hetero_kernels.NonStationaryLengthscaleRBF()\n",
    "m = hetero_gpmc.GPMCAdaptiveLengthscale2D(Xnorm, Y[:, None], k, nonstat, noisekern)"
   ]
  },
  {
   "cell_type": "code",
   "execution_count": 4,
   "metadata": {
    "collapsed": true
   },
   "outputs": [],
   "source": [
    "#m.kern1.lengthscales.prior = gpflow.priors.Gamma(1., 1.)\n",
    "m.kerns[\"ell0\"].variance.prior = gpflow.priors.Gaussian(0, 1.)\n",
    "m.kerns[\"ell0\"].lengthscales.prior = gpflow.priors.Gaussian(0, 1.)\n",
    "# m.likelihood.variance = 0.01\n",
    "# m.likelihood.variance.fixed = True\n",
    "m.nonstat.signal_variance.prior = gpflow.priors.Gamma(1., 1.)\n",
    "m.noisekern.lengthscales.prior = gpflow.priors.Gamma(1., 1.)\n",
    "#m.kern2.variance.prior = gpflow.priors.Gamma(1., 1.)\n",
    "# m.noisekern.variance.fixed = True\n",
    "m.noisekern.variance.prior = gpflow.priors.Gamma(1., 1.)"
   ]
  },
  {
   "cell_type": "code",
   "execution_count": 5,
   "metadata": {
    "collapsed": false
   },
   "outputs": [
    {
     "data": {
      "text/plain": [
       "      fun: array([687.02859215])\n",
       " hess_inv: <287x287 LbfgsInvHessProduct with dtype=float64>\n",
       "      jac: array([ 3.07938865e-03,  7.80406860e-04,  1.52370693e-03, -2.94290659e-04,\n",
       "        1.43128630e-04,  1.04161928e-03,  2.44864750e-04,  2.16853899e-04,\n",
       "        4.89125895e-04,  2.80044169e-04,  2.66167398e-04,  2.83536734e-04,\n",
       "        1.92612604e-04,  1.52495784e-04,  1.43378385e-04,  1.60057632e-04,\n",
       "        1.29599898e-04,  2.54922689e-04,  1.05386442e-04,  7.47128481e-05,\n",
       "        1.42657018e-04,  9.31039762e-05,  1.23004152e-04,  8.47543022e-05,\n",
       "        6.99893861e-05,  6.48330870e-05,  6.13125134e-05,  5.95534493e-05,\n",
       "        5.94086597e-05,  5.83062280e-05,  1.05584289e-04,  6.74572239e-05,\n",
       "        1.02124476e-04,  9.70875752e-05,  6.47269817e-05,  5.76723714e-05,\n",
       "        9.65579368e-05,  7.44042842e-05,  1.18790610e-04,  7.14256244e-05,\n",
       "        7.13523373e-05,  5.50996014e-05,  1.08388428e-04,  4.90011854e-05,\n",
       "        6.03801406e-05,  4.25424799e-05,  4.98937979e-05,  5.41143948e-05,\n",
       "        5.52308906e-05,  4.32137964e-05,  4.86603605e-05,  3.93154636e-05,\n",
       "        3.48585264e-05,  4.93678641e-05,  3.44529021e-05,  3.47511000e-05,\n",
       "        3.75853201e-05,  2.33649570e-05,  1.88046255e-05,  2.84985844e-05,\n",
       "        2.53093248e-05,  1.72994340e-05,  6.50677694e-06,  8.57459881e-06,\n",
       "        4.03667143e-06, -1.52767892e-06, -4.04729847e-06, -7.08599133e-06,\n",
       "       -8.52371203e-06, -1.01117698e-05, -9.15820440e-06, -9.08231333e-06,\n",
       "       -1.46594773e-05, -3.37032162e-05, -3.05916350e-05, -1.58670585e-05,\n",
       "       -2.19107665e-05, -2.10425141e-05, -3.45727713e-05, -2.79628298e-05,\n",
       "       -2.03712381e-05, -1.39940304e-05, -2.55758311e-05, -1.80478411e-05,\n",
       "       -1.76559288e-05, -2.51483613e-05, -1.72978874e-05, -1.14253479e-05,\n",
       "       -1.10271548e-05, -5.79711605e-06, -5.27193615e-06, -1.75737503e-06,\n",
       "       -1.94756857e-07,  5.72568089e-07, -7.67169643e-04, -8.42884014e-04,\n",
       "       -2.99751698e-04,  2.35253338e-05, -7.49166286e-04, -1.59324880e-03,\n",
       "       -2.06306470e-03, -8.28660967e-04, -1.66188119e-03, -1.02701558e-03,\n",
       "       -1.20079185e-03, -1.39432035e-03, -1.42938386e-03, -1.15770376e-03,\n",
       "       -1.45467478e-03, -8.96328419e-04, -6.46787874e-04, -2.13194386e-03,\n",
       "       -1.43305086e-03, -1.05459581e-03, -1.44627840e-03, -5.22717516e-04,\n",
       "       -1.48623549e-03, -8.76664846e-04, -8.94635473e-04, -9.00629399e-04,\n",
       "       -8.46721284e-04, -7.75976455e-04, -7.29060759e-04, -7.23085808e-04,\n",
       "       -1.63767794e-03, -7.79092401e-04, -2.15353782e-03, -1.43814261e-03,\n",
       "       -7.05699191e-04, -7.83983732e-04, -1.43988483e-03, -6.13428099e-04,\n",
       "       -1.46392732e-03, -5.08728872e-04, -7.64243467e-04, -4.25999897e-04,\n",
       "       -9.52558309e-05,  4.43672789e-04,  4.43209146e-04,  8.56932378e-05,\n",
       "        4.00871030e-04,  7.05599742e-04,  9.85500105e-04,  7.65769044e-04,\n",
       "        1.10695864e-03,  6.70030350e-04,  6.45053449e-04,  1.04090302e-03,\n",
       "        5.53947692e-04,  9.20576896e-04,  1.03581903e-03,  5.25569267e-04,\n",
       "        5.49490816e-04,  9.24781617e-04,  6.81022593e-04,  4.37149787e-04,\n",
       "        1.46750313e-04,  1.02666082e-04, -1.01828708e-04, -3.53321992e-04,\n",
       "       -3.77768697e-04, -4.66946592e-04, -2.91677789e-04, -3.50099503e-04,\n",
       "       -2.68542724e-04, -2.89933112e-04, -5.25314588e-04, -1.64389495e-04,\n",
       "        4.36905454e-04,  4.31574130e-04,  1.03455845e-03,  7.19619230e-04,\n",
       "        1.21328805e-03,  1.15887915e-03,  6.58941497e-04,  4.37017454e-04,\n",
       "        7.32781395e-04,  3.56594147e-04,  2.68820813e-04,  1.19673810e-04,\n",
       "       -1.48541708e-04,  8.38272610e-05,  7.20425353e-05,  2.14818459e-04,\n",
       "        3.49056172e-04,  1.69253190e-04,  1.18132568e-04,  3.39887133e-05,\n",
       "       -1.83239426e-04, -6.34223526e-04, -6.71794269e-04, -1.47986874e-04,\n",
       "       -8.67328546e-04, -8.05022107e-04, -5.63480016e-04, -5.39389318e-04,\n",
       "       -1.25375469e-03, -4.23717005e-04, -5.21256315e-04, -6.57725937e-04,\n",
       "       -4.31374066e-04, -3.08178628e-04, -4.31379944e-04, -4.55011613e-04,\n",
       "       -4.54002232e-04, -7.48253640e-04, -2.11033001e-04, -1.21776490e-04,\n",
       "       -1.24313932e-04, -1.20642702e-04, -1.01761674e-04, -9.51180182e-05,\n",
       "       -6.59480890e-05, -3.75956278e-05, -1.23205158e-05,  1.01133530e-05,\n",
       "        2.98634462e-05,  4.67254410e-05,  1.83927031e-04,  7.12948528e-05,\n",
       "        1.93381571e-04,  1.75946621e-04,  9.61050801e-05,  9.41737629e-05,\n",
       "        2.05464468e-04,  1.36879427e-04,  2.26043357e-04,  1.04831575e-04,\n",
       "        1.08819115e-04,  8.11896745e-05,  2.06262100e-04,  8.90841948e-05,\n",
       "        1.22886864e-04,  8.91589569e-05,  1.07564345e-04,  1.18060109e-04,\n",
       "        1.21039261e-04,  9.61897964e-05,  1.04623166e-04,  8.49381889e-05,\n",
       "        7.38504717e-05,  9.56065951e-05,  6.81942448e-05,  6.35914710e-05,\n",
       "        6.24952020e-05,  3.94277798e-05,  2.89283751e-05,  3.78210118e-05,\n",
       "        3.26105470e-05,  2.24492300e-05,  9.85205321e-06,  6.57779779e-06,\n",
       "       -5.52349712e-06, -1.82195627e-05, -2.42184110e-05, -4.08169742e-05,\n",
       "       -4.43988529e-05, -5.14539760e-05, -4.42856474e-05, -4.39744315e-05,\n",
       "       -7.75330137e-05, -1.72142915e-04, -1.47972453e-04, -7.21152286e-05,\n",
       "       -1.13991477e-04, -1.11113665e-04, -1.82772374e-04, -1.24396097e-04,\n",
       "       -7.86566057e-05, -5.52854056e-05, -9.39691441e-05, -6.43284955e-05,\n",
       "       -5.98501674e-05, -7.49867444e-05, -3.48758086e-05, -9.49221008e-06,\n",
       "        1.57437497e-06,  6.27343625e-06,  9.21633836e-06,  1.20618514e-05,\n",
       "        1.98625928e-06,  3.80600213e-06,  1.51115418e-04,  1.35808026e-04,\n",
       "       -7.41761838e-03, -1.99594336e-03,  8.95161100e-04])\n",
       "  message: 'CONVERGENCE: REL_REDUCTION_OF_F_<=_FACTR*EPSMCH'\n",
       "     nfev: 165\n",
       "      nit: 147\n",
       "   status: 0\n",
       "  success: True\n",
       "        x: array([-3.95963346e-01, -7.14137468e-04, -2.00482965e-03, -1.97878090e-02,\n",
       "       -7.54842281e-04, -3.53074653e-02, -1.20779334e-02, -1.56643543e-02,\n",
       "       -1.73693058e-02, -1.19039919e-02, -1.47164443e-02, -1.62798517e-02,\n",
       "       -1.30161672e-02, -1.09137896e-02, -1.28321009e-02, -1.58835733e-02,\n",
       "       -1.52286758e-02, -3.84642074e-02, -1.88697332e-02, -1.44372321e-02,\n",
       "       -3.13951192e-02, -2.28316570e-02, -3.32675885e-02, -2.56237206e-02,\n",
       "       -2.29780649e-02, -2.23081724e-02, -2.22860242e-02, -2.26087322e-02,\n",
       "       -2.30868111e-02, -2.34427959e-02, -4.27060807e-02, -3.04872539e-02,\n",
       "       -4.32049273e-02, -4.08457687e-02, -2.83244422e-02, -2.45322133e-02,\n",
       "       -3.70795308e-02, -3.01732109e-02, -4.80526370e-02, -3.36424779e-02,\n",
       "       -3.47699310e-02, -2.88156504e-02, -5.58904774e-02, -3.17032672e-02,\n",
       "       -3.55596914e-02, -2.61511732e-02, -2.80833635e-02, -2.91810535e-02,\n",
       "       -2.95127116e-02, -2.42833015e-02, -2.67578049e-02, -2.25007081e-02,\n",
       "       -2.05982033e-02, -2.85691097e-02, -2.23498105e-02, -2.34487151e-02,\n",
       "       -2.66960999e-02, -1.93489880e-02, -1.65771955e-02, -2.38039837e-02,\n",
       "       -2.50923161e-02, -2.24744025e-02, -1.30663672e-02, -1.66322022e-02,\n",
       "       -1.63213788e-02, -1.28915936e-02, -9.87723979e-03, -9.58027829e-03,\n",
       "       -8.00908084e-03, -6.59444749e-03, -5.34979390e-03, -4.37016311e-03,\n",
       "       -5.12604002e-03, -7.50606753e-03, -3.03201484e-03, -1.12999840e-03,\n",
       "       -3.17553692e-04,  1.52404432e-05,  9.17911038e-04,  1.67066918e-03,\n",
       "        1.82601751e-03,  1.28707321e-03,  3.20823245e-03,  2.52146053e-03,\n",
       "        2.77638506e-03,  4.92899454e-03,  4.05169011e-03,  3.47753065e-03,\n",
       "        4.40638712e-03,  3.17710077e-03,  2.10917448e-03,  2.29448670e-03,\n",
       "        8.69614423e-04,  1.29824433e-03,  8.95127169e-02, -3.64827195e-01,\n",
       "       -8.95114756e-02,  7.84212016e-02,  1.79341219e-01,  4.43419166e-01,\n",
       "        6.81781284e-01,  2.70947959e-01,  6.78132627e-01,  6.30200224e-01,\n",
       "        6.92106924e-01,  7.51825810e-01,  5.99483006e-01,  4.26833314e-01,\n",
       "        5.62915894e-01,  4.70225619e-01,  4.56109029e-01,  7.70091595e-01,\n",
       "        4.04648400e-01,  2.36267280e-01,  3.31029344e-01,  1.27244767e-01,\n",
       "        2.67118225e-01,  1.22461880e-01,  1.16454503e-01,  1.16418906e-01,\n",
       "        1.09607685e-01,  1.04852069e-01,  1.04180425e-01,  1.04183128e-01,\n",
       "        2.11440564e-01,  9.91150514e-02,  2.45950963e-01,  2.21063156e-01,\n",
       "        1.39554161e-01,  1.67516739e-01,  3.24611787e-01,  1.71089388e-01,\n",
       "        4.19238296e-01,  2.00515030e-01,  3.64237275e-01,  2.60425655e-01,\n",
       "        5.97167521e-01,  2.48533385e-01,  5.83466749e-01,  2.65505712e-01,\n",
       "        3.76262810e-01,  3.59609934e-01,  3.51026815e-01,  2.43323922e-01,\n",
       "        3.50283028e-01,  2.32051544e-01,  2.12633590e-01,  3.37002147e-01,\n",
       "        1.60077014e-01,  2.28597710e-01,  2.57332772e-01,  1.23580702e-01,\n",
       "        1.25155334e-01,  2.28676106e-01,  1.80985464e-01,  1.79190946e-01,\n",
       "        7.73689900e-02,  1.81507885e-01,  1.81602203e-01,  1.87537819e-01,\n",
       "        1.62359427e-01,  2.10448802e-01,  1.80889595e-01,  2.07027541e-01,\n",
       "        1.53696136e-01,  1.59782512e-01,  2.87441125e-01,  4.42242622e-01,\n",
       "        4.88062297e-01,  1.53125139e-01,  3.34966582e-01,  2.14676721e-01,\n",
       "        3.12351118e-01,  2.18157556e-01,  1.21853817e-01,  8.27759019e-02,\n",
       "        1.52794505e-01,  8.60258653e-02,  1.15416603e-01,  1.68523642e-01,\n",
       "        2.51413109e-01,  2.62897174e-01,  3.52433649e-01,  3.26293541e-01,\n",
       "        2.23750564e-01,  1.46553141e-01,  4.98230080e-02,  4.01477560e-02,\n",
       "       -9.11746562e-01, -1.20727127e+00, -6.30857286e-01, -3.37774874e-01,\n",
       "       -4.77180914e-01, -7.33086849e-01, -1.81883075e-01, -1.35267158e-01,\n",
       "       -3.29378040e-01, -1.46760357e-01, -1.22021577e-01, -1.27412819e-01,\n",
       "       -6.82213523e-02, -5.35214794e-02, -3.02825420e-02, -2.98134904e-02,\n",
       "       -6.17739799e-03,  1.41052103e-02,  2.03307654e-02,  2.19248481e-02,\n",
       "        6.65610543e-02,  4.60931767e-02,  7.07494514e-02,  5.11202602e-02,\n",
       "        4.68115204e-02,  4.61351774e-02,  4.75691936e-02,  4.92905578e-02,\n",
       "        5.05705867e-02,  5.20444233e-02,  9.98487913e-02,  6.76173099e-02,\n",
       "        9.88571296e-02,  9.13633975e-02,  6.15812373e-02,  5.29846832e-02,\n",
       "        7.95631682e-02,  6.27892377e-02,  9.54042691e-02,  6.43353876e-02,\n",
       "        6.42550096e-02,  5.21811308e-02,  9.54146998e-02,  5.40602027e-02,\n",
       "        5.79370052e-02,  4.23398022e-02,  4.38583644e-02,  4.43664623e-02,\n",
       "        4.39753676e-02,  3.61775871e-02,  3.87641379e-02,  3.26288338e-02,\n",
       "        2.95829167e-02,  3.91907546e-02,  3.10384800e-02,  3.17542328e-02,\n",
       "        3.49956287e-02,  2.56278808e-02,  2.15933115e-02,  2.88446189e-02,\n",
       "        2.92113898e-02,  2.50660976e-02,  1.44788904e-02,  1.66116249e-02,\n",
       "        1.49160484e-02,  1.07345773e-02,  7.53706416e-03,  6.22607872e-03,\n",
       "        4.65300875e-03,  3.01997363e-03,  2.38206790e-03,  1.57066075e-03,\n",
       "        9.50607246e-04,  9.23755587e-04,  5.34716268e-04,  4.08183856e-04,\n",
       "        1.35597855e-03,  2.22598720e-03,  7.10514687e-03,  7.03546879e-03,\n",
       "        5.17086468e-03,  5.14200963e-03,  1.35200681e-02,  1.09289179e-02,\n",
       "        1.39389006e-02,  2.50842941e-02,  2.01007199e-02,  2.01068120e-02,\n",
       "        2.56476239e-02,  1.70584989e-02,  1.08144714e-02,  1.13505900e-02,\n",
       "        4.06175848e-03,  5.92958424e-03,  2.33243618e-01,  3.03834896e-01,\n",
       "       -5.96855996e-01,  4.80624287e+00,  2.11806096e+00])"
      ]
     },
     "execution_count": 5,
     "metadata": {},
     "output_type": "execute_result"
    }
   ],
   "source": [
    "m.optimize(maxiter=500)"
   ]
  },
  {
   "cell_type": "code",
   "execution_count": 6,
   "metadata": {
    "collapsed": false,
    "scrolled": true
   },
   "outputs": [
    {
     "name": "stdout",
     "output_type": "stream",
     "text": [
      "burn-in sampling started\n",
      "Iteration:  100 \t Acc Rate:  98.0 %\n",
      "burn-in sampling ended\n"
     ]
    }
   ],
   "source": [
    "samples = m.sample(20, verbose=True, epsilon=0.00005, thin = 2, burn = 100, Lmax = 160)"
   ]
  },
  {
   "cell_type": "code",
   "execution_count": 8,
   "metadata": {
    "collapsed": false
   },
   "outputs": [],
   "source": [
    "sample_df = m.get_samples_df(samples)"
   ]
  },
  {
   "cell_type": "code",
   "execution_count": 9,
   "metadata": {
    "collapsed": false
   },
   "outputs": [
    {
     "ename": "NameError",
     "evalue": "name 'xx' is not defined",
     "output_type": "error",
     "traceback": [
      "\u001b[0;31m---------------------------------------------------------------------------\u001b[0m",
      "\u001b[0;31mNameError\u001b[0m                                 Traceback (most recent call last)",
      "\u001b[0;32m<ipython-input-9-c34a935c122a>\u001b[0m in \u001b[0;36m<module>\u001b[0;34m()\u001b[0m\n\u001b[0;32m----> 1\u001b[0;31m \u001b[0mmean_l_mat\u001b[0m \u001b[0;34m=\u001b[0m \u001b[0mnp\u001b[0m\u001b[0;34m.\u001b[0m\u001b[0mzeros\u001b[0m\u001b[0;34m(\u001b[0m\u001b[0mshape\u001b[0m \u001b[0;34m=\u001b[0m \u001b[0;34m(\u001b[0m\u001b[0msamples\u001b[0m\u001b[0;34m.\u001b[0m\u001b[0mshape\u001b[0m\u001b[0;34m[\u001b[0m\u001b[0;36m0\u001b[0m\u001b[0;34m]\u001b[0m\u001b[0;34m,\u001b[0m \u001b[0mxx\u001b[0m\u001b[0;34m.\u001b[0m\u001b[0mshape\u001b[0m\u001b[0;34m[\u001b[0m\u001b[0;36m0\u001b[0m\u001b[0;34m]\u001b[0m\u001b[0;34m)\u001b[0m\u001b[0;34m)\u001b[0m\u001b[0;34m\u001b[0m\u001b[0m\n\u001b[0m\u001b[1;32m      2\u001b[0m \u001b[0mvar_l_mat\u001b[0m \u001b[0;34m=\u001b[0m \u001b[0mnp\u001b[0m\u001b[0;34m.\u001b[0m\u001b[0mzeros\u001b[0m\u001b[0;34m(\u001b[0m\u001b[0mshape\u001b[0m \u001b[0;34m=\u001b[0m \u001b[0;34m(\u001b[0m\u001b[0msamples\u001b[0m\u001b[0;34m.\u001b[0m\u001b[0mshape\u001b[0m\u001b[0;34m[\u001b[0m\u001b[0;36m0\u001b[0m\u001b[0;34m]\u001b[0m\u001b[0;34m,\u001b[0m \u001b[0mxx\u001b[0m\u001b[0;34m.\u001b[0m\u001b[0mshape\u001b[0m\u001b[0;34m[\u001b[0m\u001b[0;36m0\u001b[0m\u001b[0;34m]\u001b[0m\u001b[0;34m)\u001b[0m\u001b[0;34m)\u001b[0m\u001b[0;34m\u001b[0m\u001b[0m\n",
      "\u001b[0;31mNameError\u001b[0m: name 'xx' is not defined"
     ]
    }
   ],
   "source": [
    "mean_l_mat = np.zeros(shape = (samples.shape[0], xx.shape[0]))\n",
    "var_l_mat = np.zeros(shape = (samples.shape[0], xx.shape[0]))"
   ]
  },
  {
   "cell_type": "code",
   "execution_count": null,
   "metadata": {
    "collapsed": true
   },
   "outputs": [],
   "source": [
    "xnew = np.linspace(0, 60, 50)[:,None]\n",
    "xx = (xnew - Xm) / Xv"
   ]
  },
  {
   "cell_type": "code",
   "execution_count": null,
   "metadata": {
    "collapsed": true
   },
   "outputs": [],
   "source": [
    "for i, s in sample_df.iterrows():\n",
    "    m.set_parameter_dict(s)\n",
    "    mean1, v1 = m.predict_l(xx)\n",
    "    var1 = v1[:,:]\n",
    "    mean_l_mat[i,:] = mean1[:,0]\n",
    "    var_l_mat[i,:] = np.diag(var1)\n",
    "\n",
    "std_l_mat = np.sqrt(var_l_mat)"
   ]
  },
  {
   "cell_type": "code",
   "execution_count": null,
   "metadata": {
    "collapsed": false
   },
   "outputs": [],
   "source": [
    "LowerlogL = mean_l_mat - 2*std_l_mat\n",
    "UpperlogL = mean_l_mat + 2*std_l_mat"
   ]
  },
  {
   "cell_type": "code",
   "execution_count": null,
   "metadata": {
    "collapsed": false
   },
   "outputs": [],
   "source": [
    "MeanL = np.exp(mean_l_mat)\n",
    "LowerL = np.exp(LowerlogL)\n",
    "UpperL = np.exp(UpperlogL)"
   ]
  },
  {
   "cell_type": "code",
   "execution_count": null,
   "metadata": {
    "collapsed": true
   },
   "outputs": [],
   "source": [
    "def visualize(Xgrid, M, L, U):\n",
    "    \"\"\"\n",
    "    Visualize 1D utility funciton values\n",
    "    Xgrid : grid states\n",
    "    Mgrid : mean of GP at those finite grid points\n",
    "    Vargrid : variance of GP at those finite grid points\n",
    "    \"\"\"\n",
    "    \n",
    "    line, = plt.plot(Xgrid, M, lw = 2, color = 'b', label = 'utility', alpha = 0.5)\n",
    "    plt.fill_between(Xgrid[:,0], L, U,\n",
    "                     color = 'b', alpha = 0.25)\n",
    "    #plt.fill_between(Xgrid[:,0], lower1, upper1,\n",
    "    #                 color = 'g', alpha = 0.25)\n",
    "    plt.xlabel('x')\n",
    "    plt.ylabel('y')\n",
    "    return"
   ]
  },
  {
   "cell_type": "code",
   "execution_count": null,
   "metadata": {
    "collapsed": false
   },
   "outputs": [],
   "source": [
    "mini = 50\n",
    "maxi = 110\n",
    "plt.figure(figsize=(12,8))\n",
    "for i in xrange(mini,maxi):\n",
    "    visualize(xnew, MeanL[i,:], LowerL[i,:], UpperL[i,:])  "
   ]
  },
  {
   "cell_type": "code",
   "execution_count": null,
   "metadata": {
    "collapsed": false
   },
   "outputs": [],
   "source": [
    "v1.shape"
   ]
  },
  {
   "cell_type": "code",
   "execution_count": null,
   "metadata": {
    "collapsed": false
   },
   "outputs": [],
   "source": [
    "mean_n_mat = np.zeros(shape = (samples.shape[0], xx.shape[0]))\n",
    "var_n_mat = np.zeros(shape = (samples.shape[0], xx.shape[0]))"
   ]
  },
  {
   "cell_type": "code",
   "execution_count": null,
   "metadata": {
    "collapsed": false
   },
   "outputs": [],
   "source": [
    "for i, s in sample_df.iterrows():\n",
    "    m.set_parameter_dict(s)\n",
    "    mean1, v1 = m.predict_n(xx)\n",
    "    var1 = v1[:,:]\n",
    "    mean_n_mat[i,:] = mean1[:,0]\n",
    "    var_n_mat[i,:] = np.diag(var1)\n",
    "\n",
    "std_n_mat = np.sqrt(var_n_mat)"
   ]
  },
  {
   "cell_type": "code",
   "execution_count": null,
   "metadata": {
    "collapsed": false
   },
   "outputs": [],
   "source": [
    "LowerlogN = mean_n_mat - 2*std_n_mat\n",
    "UpperlogN = mean_n_mat + 2*std_n_mat"
   ]
  },
  {
   "cell_type": "code",
   "execution_count": null,
   "metadata": {
    "collapsed": false
   },
   "outputs": [],
   "source": [
    "MeanN = np.exp(mean_n_mat)\n",
    "LowerN = np.exp(LowerlogN)\n",
    "UpperN = np.exp(UpperlogN)"
   ]
  },
  {
   "cell_type": "code",
   "execution_count": null,
   "metadata": {
    "collapsed": false
   },
   "outputs": [],
   "source": [
    "mini = 50\n",
    "maxi = 151\n",
    "plt.figure(figsize=(12,8))\n",
    "for i in xrange(mini,maxi):\n",
    "    visualize(xnew, MeanN[i,:], LowerN[i,:], UpperN[i,:])  "
   ]
  },
  {
   "cell_type": "code",
   "execution_count": null,
   "metadata": {
    "collapsed": false
   },
   "outputs": [],
   "source": [
    "sig_samples = m.signal_variance.get_samples_df(samples.T)\n",
    "signal_var = np.array([])\n",
    "for s in sig_samples:\n",
    "    signal_var = np.append(signal_var, s)"
   ]
  },
  {
   "cell_type": "code",
   "execution_count": null,
   "metadata": {
    "collapsed": false
   },
   "outputs": [],
   "source": [
    "mean_f_mat = np.zeros(shape = (samples.T.shape[0], xx.shape[0]))\n",
    "var_f_mat = np.zeros(shape = (samples.T.shape[0], xx.shape[0]))\n",
    "\n",
    "for i, s in sample_df.iterrows():\n",
    "    m.set_parameter_dict(s)\n",
    "    mean1, v1 = m.predict_f(xx)\n",
    "    var1 = v1[:,:,0]\n",
    "    mean_f_mat[i,:] = mean1[:,0]\n",
    "    var_f_mat[i,:] = np.diag(var1)    "
   ]
  },
  {
   "cell_type": "code",
   "execution_count": null,
   "metadata": {
    "collapsed": false
   },
   "outputs": [],
   "source": [
    "std_f_mat = np.sqrt(var_f_mat)"
   ]
  },
  {
   "cell_type": "code",
   "execution_count": null,
   "metadata": {
    "collapsed": false
   },
   "outputs": [],
   "source": [
    "Lowerf = mean_f_mat - 2*std_f_mat\n",
    "Upperf = mean_f_mat + 2*std_f_mat"
   ]
  },
  {
   "cell_type": "code",
   "execution_count": null,
   "metadata": {
    "collapsed": true
   },
   "outputs": [],
   "source": [
    "def visualize_all(Xgrid, M1, L1, U1, U2):\n",
    "    \"\"\"\n",
    "    Visualize\n",
    "    \"\"\"  \n",
    "    L2 = L1 - U2\n",
    "    U2 = U1 + U2\n",
    "    \n",
    "    plt.plot(X, Y, '.')\n",
    "    line, = plt.plot(Xgrid, M1, lw = 2, color = 'b', label = 'utility', alpha = 0.5)\n",
    "    plt.fill_between(Xgrid[:,0], L1, U1,\n",
    "                     color = 'b', alpha = 0.25)\n",
    "    plt.fill_between(Xgrid[:,0], L2, U2,\n",
    "                     color = 'g', alpha = 0.25)\n",
    "    plt.xlabel('x')\n",
    "    plt.ylabel('y')\n",
    "    return"
   ]
  },
  {
   "cell_type": "code",
   "execution_count": null,
   "metadata": {
    "collapsed": false
   },
   "outputs": [],
   "source": [
    "mini = 0\n",
    "maxi = 1\n",
    "plt.figure(figsize=(12,8))\n",
    "for i in xrange(mini,maxi):\n",
    "    visualize_all(xnew, mean_f_mat[i,:],\n",
    "              Lowerf[i,:], Upperf[i,:],\n",
    "              UpperN[i,:])"
   ]
  },
  {
   "cell_type": "code",
   "execution_count": null,
   "metadata": {
    "collapsed": true
   },
   "outputs": [],
   "source": []
  }
 ],
 "metadata": {
  "kernelspec": {
   "display_name": "Python 2",
   "language": "python",
   "name": "python2"
  },
  "language_info": {
   "codemirror_mode": {
    "name": "ipython",
    "version": 2
   },
   "file_extension": ".py",
   "mimetype": "text/x-python",
   "name": "python",
   "nbconvert_exporter": "python",
   "pygments_lexer": "ipython2",
   "version": "2.7.6"
  }
 },
 "nbformat": 4,
 "nbformat_minor": 2
}
