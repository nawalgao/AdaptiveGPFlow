{
 "cells": [
  {
   "cell_type": "code",
   "execution_count": 1,
   "metadata": {},
   "outputs": [
    {
     "ename": "RuntimeError",
     "evalue": "module compiled against API version 0xb but this version of numpy is 0xa",
     "output_type": "error",
     "traceback": [
      "\u001b[0;31m---------------------------------------------------------------------------\u001b[0m",
      "\u001b[0;31mRuntimeError\u001b[0m                              Traceback (most recent call last)",
      "\u001b[0;31mRuntimeError\u001b[0m: module compiled against API version 0xb but this version of numpy is 0xa"
     ]
    },
    {
     "ename": "RuntimeError",
     "evalue": "module compiled against API version 0xb but this version of numpy is 0xa",
     "output_type": "error",
     "traceback": [
      "\u001b[0;31m---------------------------------------------------------------------------\u001b[0m",
      "\u001b[0;31mRuntimeError\u001b[0m                              Traceback (most recent call last)",
      "\u001b[0;31mRuntimeError\u001b[0m: module compiled against API version 0xb but this version of numpy is 0xa"
     ]
    }
   ],
   "source": [
    "import gpflow\n",
    "import numpy as np\n",
    "import matplotlib.pyplot as plt\n",
    "%matplotlib inline\n",
    "import sys\n",
    "sys.path.append('../')\n",
    "from GPHetero import hetero_kernels, hetero_likelihoods, hetero_gpmc"
   ]
  },
  {
   "cell_type": "code",
   "execution_count": 2,
   "metadata": {
    "collapsed": true
   },
   "outputs": [],
   "source": [
    "class Ex1Func(object):\n",
    "    \n",
    "    def __init__(self, sigma=lambda x: 0.5):\n",
    "        self.sigma = sigma\n",
    "\n",
    "    def __call__(self, x):\n",
    "        \n",
    "        if x[0] < 0.5:\n",
    "            return x[0]**2. +  self.sigma(x[0]) * np.random.randn()\n",
    "        if x[0] == 0.5:\n",
    "            return 1.\n",
    "        if x[0] > 0.5:\n",
    "            return 2. - (x[0]-0.5) ** 2."
   ]
  },
  {
   "cell_type": "code",
   "execution_count": 3,
   "metadata": {
    "collapsed": true
   },
   "outputs": [],
   "source": [
    "from pyDOE import *"
   ]
  },
  {
   "cell_type": "code",
   "execution_count": 4,
   "metadata": {},
   "outputs": [
    {
     "data": {
      "text/plain": [
       "Text(0,0.5,u'$y$')"
      ]
     },
     "execution_count": 4,
     "metadata": {},
     "output_type": "execute_result"
    },
    {
     "data": {
      "image/png": "[encoded data removed]",
      "text/plain": [
       "<matplotlib.figure.Figure at 0x18156b4a90>"
      ]
     },
     "metadata": {},
     "output_type": "display_data"
    }
   ],
   "source": [
    "dim = 1\n",
    "n = 20\n",
    "noise=0\n",
    "sigma = eval('lambda x: ' + str(noise))\n",
    "objective = Ex1Func(sigma=sigma)\n",
    "X = lhs(dim, n , criterion='center')\n",
    "Y = np.array([objective(x) for x in X])[:, None]\n",
    "Xnorm = (X - 0.5) / 0.5\n",
    "fig, ax = plt.subplots()\n",
    "ax.plot(X, Y, 'x', markeredgewidth=2)\n",
    "ax.set_xlabel('$x$')\n",
    "ax.set_ylabel('$y$')"
   ]
  },
  {
   "cell_type": "code",
   "execution_count": 5,
   "metadata": {
    "collapsed": true
   },
   "outputs": [],
   "source": [
    "#build the model\n",
    "k = gpflow.kernels.RBF(input_dim=1)\n",
    "noisekern = gpflow.kernels.RBF(input_dim=1, ARD=True)\n",
    "nonstat = hetero_kernels.NonStationaryLengthscaleRBF()\n",
    "m = hetero_gpmc.GPMCAdaptiveLengthscale2D(Xnorm, Y, k, nonstat, noisekern)"
   ]
  },
  {
   "cell_type": "code",
   "execution_count": 6,
   "metadata": {
    "collapsed": true
   },
   "outputs": [],
   "source": [
    "m.kerns[\"ell0\"].variance.prior = gpflow.priors.Gamma(1., 1.)\n",
    "m.kerns[\"ell0\"].lengthscales.prior = gpflow.priors.Gamma(1., 1.)\n",
    "# m.likelihood.variance = 0.01\n",
    "# m.likelihood.variance.fixed = True\n",
    "m.nonstat.signal_variance.prior = gpflow.priors.Gamma(1., 1.)\n",
    "m.noisekern.lengthscales.prior = gpflow.priors.Gamma(1., 1.)\n",
    "#m.kern2.variance.prior = gpflow.priors.Gamma(1., 1.)\n",
    "#m.noisekern.variance = 1e-8\n",
    "#m.noisekern.variance.fixed = True\n",
    "m.noisekern.variance.prior = gpflow.priors.Gamma(1., 1.)"
   ]
  },
  {
   "cell_type": "code",
   "execution_count": 7,
   "metadata": {},
   "outputs": [
    {
     "data": {
      "text/plain": [
       "      fun: array([ 9.09638699])\n",
       " hess_inv: <65x65 LbfgsInvHessProduct with dtype=float64>\n",
       "      jac: array([ -1.20204498e+01,  -3.20064671e+01,  -1.00394990e+01,\n",
       "        -2.27672373e+01,  -4.24420074e+01,   3.20415279e+01,\n",
       "         1.38746402e+01,   3.51001253e+01,  -1.37777978e+01,\n",
       "         7.53523700e-01,  -7.48147297e-01,   6.69710388e+00,\n",
       "         1.20421000e+00,   2.95119217e+00,   1.03945942e-01,\n",
       "        -1.12562924e-01,   1.41356588e+00,  -8.01527040e-01,\n",
       "        -1.47509440e+01,   1.22697510e-01,   9.38739474e+00,\n",
       "         7.83499657e+00,   3.75819839e+00,  -7.20476341e-01,\n",
       "         5.43806594e+00,   1.59818767e+00,   1.12112285e-02,\n",
       "         4.41727080e-02,  -5.77497771e-03,   2.37033209e-02,\n",
       "        -3.75219580e-03,  -2.89187877e-03,  -4.85009007e-04,\n",
       "         8.57633141e-03,   6.29709672e-03,   8.81422895e-04,\n",
       "         4.19798330e-03,   1.09551424e-04,   2.26837057e-05,\n",
       "         2.81788230e-04,  -8.76379209e+01,  -1.64814095e+02,\n",
       "        -7.25850626e+01,  -3.83384440e+01,   1.03169080e+02,\n",
       "        -1.05509633e+02,  -9.18627968e-01,  -5.10438000e+00,\n",
       "         7.13500392e+00,   1.14118148e+01,  -6.14123023e-02,\n",
       "         5.07218473e+00,   3.29818370e+00,   3.92752639e-01,\n",
       "         7.11863022e-01,   8.45695884e-01,   9.11778732e-01,\n",
       "        -2.63827206e-01,   2.42866316e+01,  -3.84481852e-01,\n",
       "         7.80717739e+01,  -5.43749583e+00,  -7.84400955e+00,\n",
       "        -6.16600490e+00,   2.25631392e+01])\n",
       "  message: 'STOP: TOTAL NO. of ITERATIONS EXCEEDS LIMIT'\n",
       "     nfev: 601\n",
       "      nit: 501\n",
       "   status: 1\n",
       "  success: False\n",
       "        x: array([ -1.21993735e+00,  -5.82562576e-01,  -7.73284260e-01,\n",
       "         7.71698623e-01,   7.30232050e-01,  -1.11259161e-01,\n",
       "        -8.49443729e-01,   2.08512358e-01,  -2.04569822e-02,\n",
       "        -1.68316114e-01,  -7.42943513e-03,   2.93904349e-01,\n",
       "         1.23883586e-01,  -1.69787100e-01,  -3.54080818e-02,\n",
       "         1.96797573e-02,  -4.14907286e-02,  -1.62923378e-02,\n",
       "        -1.14815357e-01,   1.95544386e-02,  -3.71004516e+00,\n",
       "         1.12806207e+00,   9.96110302e-01,   1.16438125e+00,\n",
       "        -3.90322951e+00,  -6.61235070e-01,   2.98289487e-01,\n",
       "         3.66805213e-02,   5.79913921e-02,   4.76988891e-02,\n",
       "        -4.57166951e-03,  -5.43462578e-03,   7.33641517e-04,\n",
       "         1.05417288e-02,   8.70003147e-03,  -1.46884877e-03,\n",
       "         6.39420485e-03,  -1.14542197e-03,  -1.71330976e-03,\n",
       "        -1.10970242e-03,   4.65988841e-04,   1.93158792e-02,\n",
       "         6.21130231e-02,  -8.38522914e-02,   1.41863804e+00,\n",
       "         4.91509619e-01,   1.06046860e+00,   9.80221842e-01,\n",
       "         1.15554248e+00,   1.06529046e+00,   1.43061257e-01,\n",
       "        -1.66958853e-02,   1.61636150e-01,  -3.11024877e-01,\n",
       "         4.79392719e-02,  -3.32990939e-02,  -1.18756147e-01,\n",
       "        -1.72027542e-02,   1.69116836e-01,  -2.30647776e-02,\n",
       "        -1.21351389e+00,   3.30015222e-01,  -2.76181565e-01,\n",
       "         5.45727064e+00,   1.60917991e+00])"
      ]
     },
     "execution_count": 7,
     "metadata": {},
     "output_type": "execute_result"
    }
   ],
   "source": [
    "m.optimize(maxiter=500) # start near MAP"
   ]
  },
  {
   "cell_type": "code",
   "execution_count": 9,
   "metadata": {},
   "outputs": [
    {
     "name": "stdout",
     "output_type": "stream",
     "text": [
      "burn-in sampling started\n",
      "Iteration:  100 \t Acc Rate:  87.0 %\n",
      "burn-in sampling ended\n",
      "Iteration:  100 \t Acc Rate:  94.0 %\n",
      "Iteration:  200 \t Acc Rate:  97.0 %\n",
      "Iteration:  300 \t Acc Rate:  99.0 %\n",
      "Iteration:  400 \t Acc Rate:  95.0 %\n",
      "Iteration:  500 \t Acc Rate:  96.0 %\n",
      "Iteration:  600 \t Acc Rate:  95.0 %\n",
      "Iteration:  700 \t Acc Rate:  98.0 %\n",
      "Iteration:  800 \t Acc Rate:  96.0 %\n",
      "Iteration:  900 \t Acc Rate:  99.0 %\n",
      "Iteration:  1000 \t Acc Rate:  97.0 %\n"
     ]
    }
   ],
   "source": [
    "samples = m.sample(500, verbose=True, epsilon=0.00005, thin = 2, burn = 100, Lmax = 160)"
   ]
  },
  {
   "cell_type": "code",
   "execution_count": 10,
   "metadata": {
    "collapsed": true
   },
   "outputs": [],
   "source": [
    "sample_df = m.get_samples_df(samples)\n",
    "xnew = np.linspace(0, 1, 50)[:,None]\n",
    "xx = (xnew - 0.5) / 0.5\n",
    "mean_f_mat = np.zeros(shape = (sample_df.shape[0], xx.shape[0]))\n",
    "mean_n_mat = np.zeros(shape = (sample_df.shape[0], xx.shape[0]))\n",
    "var_f_mat = np.zeros(shape = (sample_df.shape[0], xx.shape[0]))"
   ]
  },
  {
   "cell_type": "code",
   "execution_count": 11,
   "metadata": {
    "collapsed": true
   },
   "outputs": [],
   "source": [
    "for i, s in sample_df.iterrows():\n",
    "    m.set_parameter_dict(s)\n",
    "    mean_f, var_f = m.predict_f(xx)\n",
    "    mean_f_mat[i, :] = mean_f[:, 0]\n",
    "    var_f_mat[i, :] = np.diag(var_f)\n",
    "    mean_n, var_n = m.predict_n(xx)\n",
    "    mean_n_mat[i, :] = np.exp(mean_n[:, 0]) ** 2"
   ]
  },
  {
   "cell_type": "code",
   "execution_count": 12,
   "metadata": {},
   "outputs": [
    {
     "data": {
      "text/plain": [
       "array([  1.83003375e-04,   1.98071234e-04,   2.30736381e-04,\n",
       "         2.88786289e-04,   3.86991830e-04,   5.52433480e-04,\n",
       "         8.34517024e-04,   1.32341064e-03,   2.18310276e-03,\n",
       "         3.70833563e-03,   6.41675091e-03,   1.11842792e-02,\n",
       "         1.94143799e-02,   3.31885542e-02,   5.52718858e-02,\n",
       "         8.87676527e-02,   1.36207051e-01,   1.98041862e-01,\n",
       "         2.70938294e-01,   3.46784781e-01,   4.13484262e-01,\n",
       "         4.57966643e-01,   4.70533956e-01,   4.48507088e-01,\n",
       "         3.97210867e-01,   3.27779552e-01,   2.53064178e-01,\n",
       "         1.83756556e-01,   1.26280226e-01,   8.27192992e-02,\n",
       "         5.20562703e-02,   3.17393917e-02,   1.89158736e-02,\n",
       "         1.11200165e-02,   6.50755734e-03,   3.82567113e-03,\n",
       "         2.27933714e-03,   1.38796403e-03,   8.70630083e-04,\n",
       "         5.66622290e-04,   3.85058747e-04,   2.74731754e-04,\n",
       "         2.06721559e-04,   1.64607720e-04,   1.39035399e-04,\n",
       "         1.24727074e-04,   1.18860570e-04,   1.20222759e-04,\n",
       "         1.28828547e-04,   1.45857386e-04])"
      ]
     },
     "execution_count": 12,
     "metadata": {},
     "output_type": "execute_result"
    }
   ],
   "source": [
    "np.sqrt(mean_n_mat[0,:])"
   ]
  },
  {
   "cell_type": "code",
   "execution_count": 13,
   "metadata": {
    "collapsed": true
   },
   "outputs": [],
   "source": [
    "std_f_mat = np.sqrt(var_f_mat)\n",
    "Lowerf = mean_f_mat - 2 * std_f_mat\n",
    "Upperf = mean_f_mat + 2 * std_f_mat"
   ]
  },
  {
   "cell_type": "code",
   "execution_count": 14,
   "metadata": {
    "collapsed": true
   },
   "outputs": [],
   "source": [
    "def visualize(Xgrid, Mgrid, Vargrid, noise_var):\n",
    "    \"\"\"\n",
    "    Visualize 1D utility funciton values\n",
    "    Xgrid : grid states\n",
    "    Mgrid : mean of GP at those finite grid points\n",
    "    Vargrid : variance of GP at those finite grid points\n",
    "    \"\"\"\n",
    "    Sd_noise = np.sqrt(noise_var) \n",
    "    Sd_epis = np.sqrt(Vargrid)\n",
    "    \n",
    "    lower = Mgrid - 2. * Sd_epis\n",
    "    upper = Mgrid + 2. * Sd_epis\n",
    "    \n",
    "    lower1 = lower - 2. * Sd_noise\n",
    "    upper1 = upper + 2. * Sd_noise\n",
    "    \n",
    "    plt.plot(X, Y, '.')\n",
    "    line, = plt.plot(Xgrid, Mgrid, lw = 2, color = 'b', label = 'utility', alpha = 0.5)\n",
    "    plt.fill_between(Xgrid[:,0], lower, upper,\n",
    "                     color = 'b', alpha = 0.05)\n",
    "    plt.fill_between(Xgrid[:,0], lower1, upper1,\n",
    "                    color = 'g', alpha = 0.25)\n",
    "    plt.xlabel('x')\n",
    "    plt.ylabel('y')\n",
    "    return"
   ]
  },
  {
   "cell_type": "code",
   "execution_count": 15,
   "metadata": {
    "collapsed": true
   },
   "outputs": [],
   "source": [
    "X_true = np.linspace(0, 1, 100)[:,None]\n",
    "Y_true = np.array([objective(x) for x in X_true])[:, None]"
   ]
  },
  {
   "cell_type": "code",
   "execution_count": 18,
   "metadata": {},
   "outputs": [
    {
     "data": {
      "text/plain": [
       "[<matplotlib.lines.Line2D at 0x181fbebdd0>]"
      ]
     },
     "execution_count": 18,
     "metadata": {},
     "output_type": "execute_result"
    },
    {
     "data": {
      "image/png": "[encoded data removed]",
      "text/plain": [
       "<matplotlib.figure.Figure at 0x181fbc2590>"
      ]
     },
     "metadata": {},
     "output_type": "display_data"
    }
   ],
   "source": [
    "mini = 250\n",
    "maxi = 300\n",
    "plt.figure(figsize=(12, 8))\n",
    "\n",
    "for i in xrange(mini,maxi):\n",
    "    visualize(xnew, mean_f_mat[i,:], var_f_mat[i,:], noise_var=mean_n_mat[i,:])  \n",
    "plt.plot(X_true, Y_true, 'k')"
   ]
  },
  {
   "cell_type": "code",
   "execution_count": 19,
   "metadata": {
    "collapsed": true
   },
   "outputs": [],
   "source": [
    "def visualize_l(Xgrid, M, L, U):\n",
    "    \"\"\"\n",
    "    Visualize 1D utility funciton values\n",
    "    Xgrid : grid states\n",
    "    Mgrid : mean of GP at those finite grid points\n",
    "    Vargrid : variance of GP at those finite grid points\n",
    "    \"\"\"\n",
    "    \n",
    "    line, = plt.plot(Xgrid, M, lw = 2, color = 'b', label = 'utility', alpha = 0.5)\n",
    "    plt.fill_between(Xgrid[:,0], L, U,\n",
    "                     color = 'b', alpha = 0.25)\n",
    "    #plt.fill_between(Xgrid[:,0], lower1, upper1,\n",
    "    #                 color = 'g', alpha = 0.25)\n",
    "    plt.xlabel('x')\n",
    "    plt.ylabel('y')\n",
    "    return"
   ]
  },
  {
   "cell_type": "code",
   "execution_count": 20,
   "metadata": {},
   "outputs": [
    {
     "ename": "NameError",
     "evalue": "name 'MeanL' is not defined",
     "output_type": "error",
     "traceback": [
      "\u001b[0;31m---------------------------------------------------------------------------\u001b[0m",
      "\u001b[0;31mNameError\u001b[0m                                 Traceback (most recent call last)",
      "\u001b[0;32m<ipython-input-20-bdc98f59ec68>\u001b[0m in \u001b[0;36m<module>\u001b[0;34m()\u001b[0m\n\u001b[1;32m      3\u001b[0m \u001b[0mplt\u001b[0m\u001b[0;34m.\u001b[0m\u001b[0mfigure\u001b[0m\u001b[0;34m(\u001b[0m\u001b[0mfigsize\u001b[0m\u001b[0;34m=\u001b[0m\u001b[0;34m(\u001b[0m\u001b[0;36m12\u001b[0m\u001b[0;34m,\u001b[0m\u001b[0;36m8\u001b[0m\u001b[0;34m)\u001b[0m\u001b[0;34m)\u001b[0m\u001b[0;34m\u001b[0m\u001b[0m\n\u001b[1;32m      4\u001b[0m \u001b[0;32mfor\u001b[0m \u001b[0mi\u001b[0m \u001b[0;32min\u001b[0m \u001b[0mxrange\u001b[0m\u001b[0;34m(\u001b[0m\u001b[0mmini\u001b[0m\u001b[0;34m,\u001b[0m\u001b[0mmaxi\u001b[0m\u001b[0;34m)\u001b[0m\u001b[0;34m:\u001b[0m\u001b[0;34m\u001b[0m\u001b[0m\n\u001b[0;32m----> 5\u001b[0;31m     \u001b[0mvisualize_l\u001b[0m\u001b[0;34m(\u001b[0m\u001b[0mxnew\u001b[0m\u001b[0;34m,\u001b[0m \u001b[0mMeanL\u001b[0m\u001b[0;34m[\u001b[0m\u001b[0mi\u001b[0m\u001b[0;34m,\u001b[0m\u001b[0;34m:\u001b[0m\u001b[0;34m]\u001b[0m\u001b[0;34m,\u001b[0m \u001b[0mLowerL\u001b[0m\u001b[0;34m[\u001b[0m\u001b[0mi\u001b[0m\u001b[0;34m,\u001b[0m\u001b[0;34m:\u001b[0m\u001b[0;34m]\u001b[0m\u001b[0;34m,\u001b[0m \u001b[0mUpperL\u001b[0m\u001b[0;34m[\u001b[0m\u001b[0mi\u001b[0m\u001b[0;34m,\u001b[0m\u001b[0;34m:\u001b[0m\u001b[0;34m]\u001b[0m\u001b[0;34m)\u001b[0m\u001b[0;34m\u001b[0m\u001b[0m\n\u001b[0m",
      "\u001b[0;31mNameError\u001b[0m: name 'MeanL' is not defined"
     ]
    },
    {
     "data": {
      "text/plain": [
       "<matplotlib.figure.Figure at 0x181f843210>"
      ]
     },
     "metadata": {},
     "output_type": "display_data"
    }
   ],
   "source": [
    "mini = 100\n",
    "maxi = 200\n",
    "plt.figure(figsize=(12,8))\n",
    "for i in xrange(mini,maxi):\n",
    "    visualize_l(xnew, MeanL[i,:], LowerL[i,:], UpperL[i,:])  "
   ]
  },
  {
   "cell_type": "code",
   "execution_count": null,
   "metadata": {
    "collapsed": true
   },
   "outputs": [],
   "source": [
    "m.predict_f_samples(xx, 100).shape"
   ]
  },
  {
   "cell_type": "code",
   "execution_count": null,
   "metadata": {
    "collapsed": true
   },
   "outputs": [],
   "source": []
  }
 ],
 "metadata": {
  "kernelspec": {
   "display_name": "Python [default]",
   "language": "python",
   "name": "python2"
  },
  "language_info": {
   "codemirror_mode": {
    "name": "ipython",
    "version": 2
   },
   "file_extension": ".py",
   "mimetype": "text/x-python",
   "name": "python",
   "nbconvert_exporter": "python",
   "pygments_lexer": "ipython2",
   "version": "2.7.14"
  }
 },
 "nbformat": 4,
 "nbformat_minor": 2
}
