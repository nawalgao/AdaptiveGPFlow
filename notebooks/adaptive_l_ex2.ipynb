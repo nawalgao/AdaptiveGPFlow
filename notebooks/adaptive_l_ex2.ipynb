{
 "cells": [
  {
   "cell_type": "code",
   "execution_count": 1,
   "metadata": {},
   "outputs": [
    {
     "ename": "RuntimeError",
     "evalue": "module compiled against API version 0xb but this version of numpy is 0xa",
     "output_type": "error",
     "traceback": [
      "\u001b[0;31m---------------------------------------------------------------------------\u001b[0m",
      "\u001b[0;31mRuntimeError\u001b[0m                              Traceback (most recent call last)",
      "\u001b[0;31mRuntimeError\u001b[0m: module compiled against API version 0xb but this version of numpy is 0xa"
     ]
    },
    {
     "ename": "RuntimeError",
     "evalue": "module compiled against API version 0xb but this version of numpy is 0xa",
     "output_type": "error",
     "traceback": [
      "\u001b[0;31m---------------------------------------------------------------------------\u001b[0m",
      "\u001b[0;31mRuntimeError\u001b[0m                              Traceback (most recent call last)",
      "\u001b[0;31mRuntimeError\u001b[0m: module compiled against API version 0xb but this version of numpy is 0xa"
     ]
    }
   ],
   "source": [
    "import gpflow\n",
    "import numpy as np\n",
    "import matplotlib.pyplot as plt\n",
    "%matplotlib inline\n",
    "import sys\n",
    "sys.path.append('../')\n",
    "from GPHetero import hetero_kernels, hetero_likelihoods, hetero_gpmc"
   ]
  },
  {
   "cell_type": "code",
   "execution_count": 2,
   "metadata": {
    "collapsed": true
   },
   "outputs": [],
   "source": [
    "class Ex1Func(object):\n",
    "    \n",
    "    def __init__(self, sigma=lambda x: 0.5):\n",
    "        self.sigma = sigma\n",
    "\n",
    "    def __call__(self, x):\n",
    "        \n",
    "        if x[0] < 0.5:\n",
    "            return x[0]**2. +  self.sigma(x[0]) * np.random.randn()\n",
    "        if x[0] == 0.5:\n",
    "            return 1.\n",
    "        if x[0] > 0.5:\n",
    "            return 2. - (x[0]-0.5) ** 2."
   ]
  },
  {
   "cell_type": "code",
   "execution_count": 3,
   "metadata": {
    "collapsed": true
   },
   "outputs": [],
   "source": [
    "from pyDOE import *"
   ]
  },
  {
   "cell_type": "code",
   "execution_count": 4,
   "metadata": {},
   "outputs": [
    {
     "data": {
      "text/plain": [
       "Text(0,0.5,u'$y$')"
      ]
     },
     "execution_count": 4,
     "metadata": {},
     "output_type": "execute_result"
    },
    {
     "data": {
      "image/png": "[encoded data removed]",
      "text/plain": [
       "<matplotlib.figure.Figure at 0x181737fb90>"
      ]
     },
     "metadata": {},
     "output_type": "display_data"
    }
   ],
   "source": [
    "dim = 1\n",
    "n = 20\n",
    "noise=0\n",
    "sigma = eval('lambda x: ' + str(noise))\n",
    "objective = Ex1Func(sigma=sigma)\n",
    "X = lhs(dim, n , criterion='center')\n",
    "Y = np.array([objective(x) for x in X])[:, None]\n",
    "Xnorm = (X - 0.5) / 0.5\n",
    "fig, ax = plt.subplots()\n",
    "ax.plot(X, Y, 'x', markeredgewidth=2)\n",
    "ax.set_xlabel('$x$')\n",
    "ax.set_ylabel('$y$')"
   ]
  },
  {
   "cell_type": "code",
   "execution_count": 5,
   "metadata": {
    "collapsed": true
   },
   "outputs": [],
   "source": [
    "#build the model\n",
    "k = gpflow.kernels.RBF(input_dim=1)\n",
    "noisekern = gpflow.kernels.RBF(input_dim=1, ARD=True)\n",
    "nonstat = hetero_kernels.NonStationaryLengthscaleRBF()\n",
    "m = hetero_gpmc.GPMCAdaptiveLengthscale2D(Xnorm, Y, k, nonstat, noisekern)"
   ]
  },
  {
   "cell_type": "code",
   "execution_count": 6,
   "metadata": {
    "collapsed": true
   },
   "outputs": [],
   "source": [
    "m.kerns[\"ell0\"].variance.prior = gpflow.priors.Gamma(1., 1.)\n",
    "m.kerns[\"ell0\"].lengthscales.prior = gpflow.priors.Gamma(1., 1.)\n",
    "# m.likelihood.variance = 0.01\n",
    "# m.likelihood.variance.fixed = True\n",
    "m.nonstat.signal_variance.prior = gpflow.priors.Gamma(1., 1.)\n",
    "m.noisekern.lengthscales.prior = gpflow.priors.Gamma(1., 1.)\n",
    "#m.kern2.variance.prior = gpflow.priors.Gamma(1., 1.)\n",
    "#m.noisekern.variance = 1e-8\n",
    "#m.noisekern.variance.fixed = True\n",
    "m.noisekern.variance.prior = gpflow.priors.Gamma(.1, .1)"
   ]
  },
  {
   "cell_type": "code",
   "execution_count": 7,
   "metadata": {},
   "outputs": [
    {
     "data": {
      "text/plain": [
       "      fun: array([-21.5735159])\n",
       " hess_inv: <65x65 LbfgsInvHessProduct with dtype=float64>\n",
       "      jac: array([ -1.25124125e+02,   8.35943435e+01,  -2.10147115e+02,\n",
       "        -1.17993053e+02,   6.57912021e+00,  -6.86813036e+00,\n",
       "         2.47731585e+01,   1.13612503e+01,   1.39353961e+01,\n",
       "        -2.11321797e+01,  -2.33970182e+00,   8.71429635e-01,\n",
       "        -2.11729442e-01,   3.51972224e-01,   1.40164493e+00,\n",
       "        -1.68134999e-01,   2.41992007e-01,   1.84727818e+00,\n",
       "        -2.13453279e+00,   4.58362369e+00,   2.45900659e+01,\n",
       "        -2.11723527e+00,   1.41177640e+00,   2.19988247e-01,\n",
       "        -6.32379588e-03,  -1.47724965e-03,   7.05389966e-04,\n",
       "         8.60954598e-03,  -1.01441651e-03,  -3.58434715e-03,\n",
       "         2.27538744e-03,  -5.59470879e-04,   1.44030646e-03,\n",
       "        -1.16379657e-03,   2.06756376e-03,   2.56241217e-04,\n",
       "         3.81084813e-04,   3.91738085e-04,   4.84331177e-05,\n",
       "        -9.84872665e-04,   1.50306290e+02,   2.70731560e+02,\n",
       "        -3.75685639e+02,  -3.07148470e+02,   8.87947716e+01,\n",
       "        -1.65684567e+02,  -1.08779315e+02,   1.70660099e+02,\n",
       "        -4.35168845e+01,  -4.95517899e+01,  -1.41642168e+02,\n",
       "         4.83138335e+00,  -3.38678706e+01,   5.42293156e+01,\n",
       "         5.20829046e+01,  -1.01195096e+02,   1.73117883e+01,\n",
       "         5.54806957e+01,  -1.48331493e+01,   2.87066293e+01,\n",
       "        -7.50786022e+01,   8.85054845e+01,  -1.82449736e+00,\n",
       "        -1.08299718e+01,  -1.96339925e+02])\n",
       "  message: 'STOP: TOTAL NO. of ITERATIONS EXCEEDS LIMIT'\n",
       "     nfev: 554\n",
       "      nit: 501\n",
       "   status: 1\n",
       "  success: False\n",
       "        x: array([ -1.37647147e+00,   8.85160635e-02,   7.64137984e-02,\n",
       "        -1.44308543e+00,   5.03250437e-01,  -2.90170651e-01,\n",
       "         3.85377366e-01,  -3.77619645e-01,  -8.85111647e-02,\n",
       "         1.23190075e-01,   3.89010383e-02,   5.93178158e-02,\n",
       "         3.22043758e-02,   1.96306103e-02,   9.60865984e-02,\n",
       "         2.67521851e-02,   5.69674615e-02,   5.34235201e-02,\n",
       "         2.82443422e-02,  -1.37841091e-02,  -4.38854699e+00,\n",
       "         1.09564738e+00,  -9.66652101e-01,   5.41626801e-03,\n",
       "        -6.81715111e-03,  -4.20324727e-03,  -4.10898036e-03,\n",
       "         3.62858810e-03,  -1.74655420e-03,  -5.17848306e-03,\n",
       "         1.24517848e-04,  -3.36632982e-03,   7.65440806e-04,\n",
       "        -7.94047813e-04,  -3.20942237e-03,  -1.49387314e-03,\n",
       "        -1.54144953e-03,  -9.30299692e-04,  -1.06628207e-03,\n",
       "        -1.19461042e-03,   7.22862259e-02,  -1.34990914e-02,\n",
       "         1.28210582e+00,   1.04010435e+00,   1.58820474e-02,\n",
       "        -3.25888222e-02,   2.41398957e-01,  -1.05208817e+00,\n",
       "        -3.34154405e-01,   1.93271453e-02,   7.16391112e-01,\n",
       "         2.38928505e-01,  -5.07019098e-01,   1.52974223e-01,\n",
       "        -3.13914370e-02,  -7.21732056e-01,  -5.33231346e-02,\n",
       "         7.07759247e-01,   2.28640337e-01,  -2.32223714e-02,\n",
       "        -5.35476563e-01,   1.21511873e+00,   1.68919102e+00,\n",
       "         3.03195520e+00,   2.01296456e+00])"
      ]
     },
     "execution_count": 7,
     "metadata": {},
     "output_type": "execute_result"
    }
   ],
   "source": [
    "m.optimize(maxiter=500) # start near MAP"
   ]
  },
  {
   "cell_type": "code",
   "execution_count": 8,
   "metadata": {},
   "outputs": [
    {
     "name": "stdout",
     "output_type": "stream",
     "text": [
      "burn-in sampling started\n",
      "Iteration:  100 \t Acc Rate:  90.0 %\n",
      "burn-in sampling ended\n",
      "Iteration:  100 \t Acc Rate:  92.0 %\n",
      "Iteration:  200 \t Acc Rate:  96.0 %\n",
      "Iteration:  300 \t Acc Rate:  95.0 %\n",
      "Iteration:  400 \t Acc Rate:  94.0 %\n",
      "Iteration:  500 \t Acc Rate:  98.0 %\n",
      "Iteration:  600 \t Acc Rate:  97.0 %\n",
      "Iteration:  700 \t Acc Rate:  95.0 %\n",
      "Iteration:  800 \t Acc Rate:  97.0 %\n",
      "Iteration:  900 \t Acc Rate:  96.0 %\n",
      "Iteration:  1000 \t Acc Rate:  98.0 %\n"
     ]
    }
   ],
   "source": [
    "samples = m.sample(500, verbose=True, epsilon=0.00005, thin = 2, burn = 100, Lmax = 160)"
   ]
  },
  {
   "cell_type": "code",
   "execution_count": 9,
   "metadata": {
    "collapsed": true
   },
   "outputs": [],
   "source": [
    "sample_df = m.get_samples_df(samples)\n",
    "xnew = np.linspace(0, 1, 50)[:,None]\n",
    "xx = (xnew - 0.5) / 0.5\n",
    "mean_f_mat = np.zeros(shape = (sample_df.shape[0], xx.shape[0]))\n",
    "mean_n_mat = np.zeros(shape = (sample_df.shape[0], xx.shape[0]))\n",
    "var_f_mat = np.zeros(shape = (sample_df.shape[0], xx.shape[0]))"
   ]
  },
  {
   "cell_type": "code",
   "execution_count": 10,
   "metadata": {
    "collapsed": true
   },
   "outputs": [],
   "source": [
    "for i, s in sample_df.iterrows():\n",
    "    m.set_parameter_dict(s)\n",
    "    mean_f, var_f = m.predict_f(xx)\n",
    "    mean_f_mat[i, :] = mean_f[:, 0]\n",
    "    var_f_mat[i, :] = np.diag(var_f)\n",
    "    mean_n, var_n = m.predict_n(xx)\n",
    "    mean_n_mat[i, :] = np.exp(mean_n[:, 0]) ** 2"
   ]
  },
  {
   "cell_type": "code",
   "execution_count": 11,
   "metadata": {},
   "outputs": [
    {
     "data": {
      "text/plain": [
       "array([ 0.00132825,  0.00122319,  0.00112829,  0.00104257,  0.00096511,\n",
       "        0.0008951 ,  0.00083183,  0.00077462,  0.00072291,  0.00067616,\n",
       "        0.00063389,  0.00059568,  0.00056116,  0.00052997,  0.00050183,\n",
       "        0.00047644,  0.00045358,  0.00043303,  0.00041459,  0.0003981 ,\n",
       "        0.00038339,  0.00037035,  0.00035884,  0.00034878,  0.00034006,\n",
       "        0.00033262,  0.0003264 ,  0.00032133,  0.00031737,  0.0003145 ,\n",
       "        0.00031269,  0.00031192,  0.00031219,  0.00031351,  0.00031588,\n",
       "        0.00031934,  0.00032391,  0.00032964,  0.00033658,  0.00034479,\n",
       "        0.00035436,  0.00036537,  0.00037792,  0.00039215,  0.00040819,\n",
       "        0.00042619,  0.00044634,  0.00046883,  0.0004939 ,  0.0005218 ])"
      ]
     },
     "execution_count": 11,
     "metadata": {},
     "output_type": "execute_result"
    }
   ],
   "source": [
    "np.sqrt(mean_n_mat[0,:])"
   ]
  },
  {
   "cell_type": "code",
   "execution_count": 12,
   "metadata": {
    "collapsed": true
   },
   "outputs": [],
   "source": [
    "std_f_mat = np.sqrt(var_f_mat)\n",
    "Lowerf = mean_f_mat - 2 * std_f_mat\n",
    "Upperf = mean_f_mat + 2 * std_f_mat"
   ]
  },
  {
   "cell_type": "code",
   "execution_count": 13,
   "metadata": {
    "collapsed": true
   },
   "outputs": [],
   "source": [
    "def visualize(Xgrid, Mgrid, Vargrid, noise_var):\n",
    "    \"\"\"\n",
    "    Visualize 1D utility funciton values\n",
    "    Xgrid : grid states\n",
    "    Mgrid : mean of GP at those finite grid points\n",
    "    Vargrid : variance of GP at those finite grid points\n",
    "    \"\"\"\n",
    "    Sd_noise = np.sqrt(noise_var) \n",
    "    Sd_epis = np.sqrt(Vargrid)\n",
    "    \n",
    "    lower = Mgrid - 2. * Sd_epis\n",
    "    upper = Mgrid + 2. * Sd_epis\n",
    "    \n",
    "    lower1 = lower - 2. * Sd_noise\n",
    "    upper1 = upper + 2. * Sd_noise\n",
    "    \n",
    "    plt.plot(X, Y, '.')\n",
    "    line, = plt.plot(Xgrid, Mgrid, lw = 2, color = 'b', label = 'utility', alpha = 0.5)\n",
    "    plt.fill_between(Xgrid[:,0], lower, upper,\n",
    "                     color = 'b', alpha = 0.05)\n",
    "    plt.fill_between(Xgrid[:,0], lower1, upper1,\n",
    "                    color = 'g', alpha = 0.25)\n",
    "    plt.xlabel('x')\n",
    "    plt.ylabel('y')\n",
    "    return"
   ]
  },
  {
   "cell_type": "code",
   "execution_count": 14,
   "metadata": {
    "collapsed": true
   },
   "outputs": [],
   "source": [
    "X_true = np.linspace(0, 1, 100)[:,None]\n",
    "Y_true = np.array([objective(x) for x in X_true])[:, None]"
   ]
  },
  {
   "cell_type": "code",
   "execution_count": 19,
   "metadata": {},
   "outputs": [
    {
     "data": {
      "text/plain": [
       "[<matplotlib.lines.Line2D at 0x1821a56d50>]"
      ]
     },
     "execution_count": 19,
     "metadata": {},
     "output_type": "execute_result"
    },
    {
     "data": {
      "image/png": "[encoded data removed]",
      "text/plain": [
       "<matplotlib.figure.Figure at 0x1821a56850>"
      ]
     },
     "metadata": {},
     "output_type": "display_data"
    }
   ],
   "source": [
    "mini = 150\n",
    "maxi = 400\n",
    "plt.figure(figsize=(12, 8))\n",
    "\n",
    "for i in xrange(mini,maxi):\n",
    "    visualize(xnew, mean_f_mat[i,:], var_f_mat[i,:], noise_var=mean_n_mat[i,:])  \n",
    "plt.plot(X_true, Y_true, 'k')"
   ]
  },
  {
   "cell_type": "code",
   "execution_count": 16,
   "metadata": {
    "collapsed": true
   },
   "outputs": [],
   "source": [
    "def visualize_l(Xgrid, M, L, U):\n",
    "    \"\"\"\n",
    "    Visualize 1D utility funciton values\n",
    "    Xgrid : grid states\n",
    "    Mgrid : mean of GP at those finite grid points\n",
    "    Vargrid : variance of GP at those finite grid points\n",
    "    \"\"\"\n",
    "    \n",
    "    line, = plt.plot(Xgrid, M, lw = 2, color = 'b', label = 'utility', alpha = 0.5)\n",
    "    plt.fill_between(Xgrid[:,0], L, U,\n",
    "                     color = 'b', alpha = 0.25)\n",
    "    #plt.fill_between(Xgrid[:,0], lower1, upper1,\n",
    "    #                 color = 'g', alpha = 0.25)\n",
    "    plt.xlabel('x')\n",
    "    plt.ylabel('y')\n",
    "    return"
   ]
  },
  {
   "cell_type": "code",
   "execution_count": 17,
   "metadata": {},
   "outputs": [
    {
     "ename": "NameError",
     "evalue": "name 'MeanL' is not defined",
     "output_type": "error",
     "traceback": [
      "\u001b[0;31m---------------------------------------------------------------------------\u001b[0m",
      "\u001b[0;31mNameError\u001b[0m                                 Traceback (most recent call last)",
      "\u001b[0;32m<ipython-input-17-bdc98f59ec68>\u001b[0m in \u001b[0;36m<module>\u001b[0;34m()\u001b[0m\n\u001b[1;32m      3\u001b[0m \u001b[0mplt\u001b[0m\u001b[0;34m.\u001b[0m\u001b[0mfigure\u001b[0m\u001b[0;34m(\u001b[0m\u001b[0mfigsize\u001b[0m\u001b[0;34m=\u001b[0m\u001b[0;34m(\u001b[0m\u001b[0;36m12\u001b[0m\u001b[0;34m,\u001b[0m\u001b[0;36m8\u001b[0m\u001b[0;34m)\u001b[0m\u001b[0;34m)\u001b[0m\u001b[0;34m\u001b[0m\u001b[0m\n\u001b[1;32m      4\u001b[0m \u001b[0;32mfor\u001b[0m \u001b[0mi\u001b[0m \u001b[0;32min\u001b[0m \u001b[0mxrange\u001b[0m\u001b[0;34m(\u001b[0m\u001b[0mmini\u001b[0m\u001b[0;34m,\u001b[0m\u001b[0mmaxi\u001b[0m\u001b[0;34m)\u001b[0m\u001b[0;34m:\u001b[0m\u001b[0;34m\u001b[0m\u001b[0m\n\u001b[0;32m----> 5\u001b[0;31m     \u001b[0mvisualize_l\u001b[0m\u001b[0;34m(\u001b[0m\u001b[0mxnew\u001b[0m\u001b[0;34m,\u001b[0m \u001b[0mMeanL\u001b[0m\u001b[0;34m[\u001b[0m\u001b[0mi\u001b[0m\u001b[0;34m,\u001b[0m\u001b[0;34m:\u001b[0m\u001b[0;34m]\u001b[0m\u001b[0;34m,\u001b[0m \u001b[0mLowerL\u001b[0m\u001b[0;34m[\u001b[0m\u001b[0mi\u001b[0m\u001b[0;34m,\u001b[0m\u001b[0;34m:\u001b[0m\u001b[0;34m]\u001b[0m\u001b[0;34m,\u001b[0m \u001b[0mUpperL\u001b[0m\u001b[0;34m[\u001b[0m\u001b[0mi\u001b[0m\u001b[0;34m,\u001b[0m\u001b[0;34m:\u001b[0m\u001b[0;34m]\u001b[0m\u001b[0;34m)\u001b[0m\u001b[0;34m\u001b[0m\u001b[0m\n\u001b[0m",
      "\u001b[0;31mNameError\u001b[0m: name 'MeanL' is not defined"
     ]
    },
    {
     "data": {
      "text/plain": [
       "<matplotlib.figure.Figure at 0x18211341d0>"
      ]
     },
     "metadata": {},
     "output_type": "display_data"
    }
   ],
   "source": [
    "mini = 100\n",
    "maxi = 200\n",
    "plt.figure(figsize=(12,8))\n",
    "for i in xrange(mini,maxi):\n",
    "    visualize_l(xnew, MeanL[i,:], LowerL[i,:], UpperL[i,:])  "
   ]
  },
  {
   "cell_type": "code",
   "execution_count": null,
   "metadata": {
    "collapsed": true
   },
   "outputs": [],
   "source": [
    "m.predict_f_samples(xx, 100).shape"
   ]
  },
  {
   "cell_type": "code",
   "execution_count": null,
   "metadata": {
    "collapsed": true
   },
   "outputs": [],
   "source": []
  }
 ],
 "metadata": {
  "kernelspec": {
   "display_name": "Python [default]",
   "language": "python",
   "name": "python2"
  },
  "language_info": {
   "codemirror_mode": {
    "name": "ipython",
    "version": 2
   },
   "file_extension": ".py",
   "mimetype": "text/x-python",
   "name": "python",
   "nbconvert_exporter": "python",
   "pygments_lexer": "ipython2",
   "version": "2.7.14"
  }
 },
 "nbformat": 4,
 "nbformat_minor": 2
}
