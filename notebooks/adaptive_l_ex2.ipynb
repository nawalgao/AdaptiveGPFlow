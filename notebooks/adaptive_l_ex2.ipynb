{
 "cells": [
  {
   "cell_type": "code",
   "execution_count": 1,
   "metadata": {
    "collapsed": false
   },
   "outputs": [],
   "source": [
    "import gpflow\n",
    "import numpy as np\n",
    "import matplotlib.pyplot as plt\n",
    "%matplotlib inline\n",
    "import sys\n",
    "sys.path.append('../')\n",
    "from GPHetero import hetero_kernels, hetero_likelihoods, hetero_gpmc"
   ]
  },
  {
   "cell_type": "code",
   "execution_count": 2,
   "metadata": {
    "collapsed": true
   },
   "outputs": [],
   "source": [
    "class Ex1Func(object):\n",
    "    \n",
    "    def __init__(self, sigma=lambda x: 0.5):\n",
    "        self.sigma = sigma\n",
    "\n",
    "    def __call__(self, x):\n",
    "        \n",
    "        if x[0] < 0.5:\n",
    "            return x[0]**2. +  self.sigma(x[0]) * np.random.randn()\n",
    "        if x[0] == 0.5:\n",
    "            return 1.\n",
    "        if x[0] > 0.5:\n",
    "            return 2. - (x[0]-0.5) ** 2."
   ]
  },
  {
   "cell_type": "code",
   "execution_count": 3,
   "metadata": {
    "collapsed": true
   },
   "outputs": [],
   "source": [
    "from pyDOE import *"
   ]
  },
  {
   "cell_type": "code",
   "execution_count": 4,
   "metadata": {
    "collapsed": false
   },
   "outputs": [
    {
     "data": {
      "text/plain": [
       "<matplotlib.text.Text at 0x123730150>"
      ]
     },
     "execution_count": 4,
     "metadata": {},
     "output_type": "execute_result"
    },
    {
     "name": "stderr",
     "output_type": "stream",
     "text": [
      "/Users/piyushpandita/anaconda/lib/python2.7/site-packages/matplotlib/figure.py:1742: UserWarning: This figure includes Axes that are not compatible with tight_layout, so its results might be incorrect.\n",
      "  warnings.warn(\"This figure includes Axes that are not \"\n"
     ]
    },
    {
     "data": {
      "image/png": "[encoded data removed]",
      "text/plain": [
       "<matplotlib.figure.Figure at 0x123725b90>"
      ]
     },
     "metadata": {},
     "output_type": "display_data"
    }
   ],
   "source": [
    "dim = 1\n",
    "n = 20\n",
    "noise=0\n",
    "sigma = eval('lambda x: ' + str(noise))\n",
    "objective = Ex1Func(sigma=sigma)\n",
    "X = lhs(dim, n , criterion='center')\n",
    "Y = np.array([objective(x) for x in X])[:, None]\n",
    "\n",
    "\n",
    "\n",
    "#Xm = np.mean(X)\n",
    "#Xv = np.std(X)\n",
    "Xnorm = (X - 0.5) / 0.5\n",
    "\n",
    "fig, ax = plt.subplots()\n",
    "ax.plot(X, Y, 'x', markeredgewidth=2)\n",
    "ax.set_xlabel('$x$')\n",
    "ax.set_ylabel('$y$')"
   ]
  },
  {
   "cell_type": "code",
   "execution_count": 7,
   "metadata": {
    "collapsed": false
   },
   "outputs": [
    {
     "name": "stdout",
     "output_type": "stream",
     "text": [
      "(20, 1)\n"
     ]
    }
   ],
   "source": [
    "print Y.shape"
   ]
  },
  {
   "cell_type": "code",
   "execution_count": 57,
   "metadata": {
    "collapsed": false
   },
   "outputs": [],
   "source": [
    "#build the model\n",
    "k = gpflow.kernels.RBF(input_dim=1)\n",
    "nonstat = hetero_kernels.NonStationaryLengthscaleRBF()\n",
    "m = hetero_gpmc.GPMCAdaptiveLengthscale2D(Xnorm, Y, k, nonstat)"
   ]
  },
  {
   "cell_type": "code",
   "execution_count": 61,
   "metadata": {
    "collapsed": true
   },
   "outputs": [],
   "source": [
    "m.kerns[\"ell0\"].variance.prior = gpflow.priors.Gaussian(0, 1.)\n",
    "m.kerns[\"ell0\"].lengthscales.prior = gpflow.priors.Gaussian(0, 1.)\n",
    "m.likelihood.variance = 0.01\n",
    "m.likelihood.variance.fixed = True\n",
    "m.nonstat.signal_variance.prior = gpflow.priors.Gamma(1., 1.)"
   ]
  },
  {
   "cell_type": "code",
   "execution_count": 62,
   "metadata": {
    "collapsed": false
   },
   "outputs": [
    {
     "data": {
      "text/plain": [
       "      fun: array([19.77433393])\n",
       " hess_inv: <43x43 LbfgsInvHessProduct with dtype=float64>\n",
       "      jac: array([ 1.32284310e-04, -2.07156105e-03,  2.32041407e-04,  1.00605950e-03,\n",
       "       -1.23442362e-03,  2.74224756e-04, -1.66741738e-05, -3.49427028e-05,\n",
       "        3.08973640e-05, -2.09022150e-05, -6.50493406e-05,  4.24845959e-06,\n",
       "       -9.28060322e-06,  2.95328646e-05, -6.72856809e-05, -8.10027914e-06,\n",
       "        6.60228653e-05,  1.66726046e-06, -3.63288541e-06, -1.18865392e-05,\n",
       "        5.89560427e-03, -3.54703318e-04, -2.09165955e-04,  1.77118719e-03,\n",
       "       -1.20422686e-03,  3.45785717e-04,  1.27418643e-04,  4.12153385e-04,\n",
       "        1.12136710e-03,  1.73343997e-03, -3.12216990e-04,  3.57795583e-04,\n",
       "       -1.62090730e-04,  1.34465358e-03, -5.80732814e-04, -8.56392705e-04,\n",
       "        1.03503049e-03, -9.89980110e-05, -9.35103780e-04, -1.74198550e-04,\n",
       "       -4.58324623e-04,  1.25339028e-03,  1.24892888e-03])\n",
       "  message: 'CONVERGENCE: REL_REDUCTION_OF_F_<=_FACTR*EPSMCH'\n",
       "     nfev: 113\n",
       "      nit: 99\n",
       "   status: 0\n",
       "  success: True\n",
       "        x: array([ 9.81907688e-02, -1.98538580e+00, -8.60041048e-02,  2.26204638e-01,\n",
       "        1.41078173e-02,  1.93436896e-02, -2.75667192e-02, -2.75646457e-03,\n",
       "        1.51916593e-03, -3.62537700e-03,  1.32580626e-03, -1.21073777e-04,\n",
       "       -2.00828857e-03,  1.39071571e-05,  1.09474529e-03, -1.69881892e-03,\n",
       "        1.12706508e-02, -3.87234758e-04, -4.70405187e-04,  1.58163689e-04,\n",
       "        1.18662233e+00, -5.50032634e-02, -1.16055600e-01,  7.07052312e-01,\n",
       "        9.75970060e-03,  1.24859780e+00, -1.69777724e-01,  2.51335496e-02,\n",
       "       -3.19795842e-02,  3.75382690e-01,  2.49228293e-01,  1.10993931e-01,\n",
       "       -4.29199065e-02,  6.27454397e-02,  2.04268417e-02, -2.16728451e-01,\n",
       "        2.51246285e-01, -8.26924615e-03, -2.09866963e-01,  4.53025401e-03,\n",
       "       -5.08940717e-01,  1.31934310e+00,  2.09855147e+00])"
      ]
     },
     "execution_count": 62,
     "metadata": {},
     "output_type": "execute_result"
    }
   ],
   "source": [
    "m.optimize(maxiter=500) # start near MAP"
   ]
  },
  {
   "cell_type": "code",
   "execution_count": 63,
   "metadata": {
    "collapsed": false
   },
   "outputs": [
    {
     "name": "stdout",
     "output_type": "stream",
     "text": [
      "burn-in sampling started\n",
      "Iteration:  100 \t Acc Rate:  98.0 %\n",
      "burn-in sampling ended\n",
      "Iteration:  100 \t Acc Rate:  98.0 %\n",
      "Iteration:  200 \t Acc Rate:  100.0 %\n",
      "Iteration:  300 \t Acc Rate:  100.0 %\n",
      "Iteration:  400 \t Acc Rate:  100.0 %\n"
     ]
    }
   ],
   "source": [
    "samples = m.sample(200, verbose=True, epsilon=0.00005, thin = 2, burn = 100, Lmax = 160)"
   ]
  },
  {
   "cell_type": "code",
   "execution_count": 64,
   "metadata": {
    "collapsed": false
   },
   "outputs": [],
   "source": [
    "sample_df = m.get_samples_df(samples)\n",
    "xnew = np.linspace(0, 1, 50)[:,None]\n",
    "xx = (xnew - 0.5) / 0.5\n",
    "mean_f_mat = np.zeros(shape = (sample_df.shape[0], xx.shape[0]))\n",
    "var_f_mat = np.zeros(shape = (sample_df.shape[0], xx.shape[0]))"
   ]
  },
  {
   "cell_type": "code",
   "execution_count": 67,
   "metadata": {
    "collapsed": false
   },
   "outputs": [],
   "source": [
    "for i, s in sample_df.iterrows():\n",
    "    m.set_parameter_dict(s)\n",
    "    mean_f, var_f = m.predict_f(xx)\n",
    "    mean_f_mat[i, :] = mean_f[:, 0]\n",
    "    var_f_mat[i, :] = np.diag(var_f)"
   ]
  },
  {
   "cell_type": "code",
   "execution_count": 68,
   "metadata": {
    "collapsed": true
   },
   "outputs": [],
   "source": [
    "std_f_mat = np.sqrt(var_f_mat)\n",
    "Lowerf = mean_f_mat - 2 * std_f_mat\n",
    "Upperf = mean_f_mat + 2 * std_f_mat"
   ]
  },
  {
   "cell_type": "code",
   "execution_count": 69,
   "metadata": {
    "collapsed": true
   },
   "outputs": [],
   "source": [
    "def visualize(Xgrid, Mgrid, Vargrid, noise_var):\n",
    "    \"\"\"\n",
    "    Visualize 1D utility funciton values\n",
    "    Xgrid : grid states\n",
    "    Mgrid : mean of GP at those finite grid points\n",
    "    Vargrid : variance of GP at those finite grid points\n",
    "    \"\"\"\n",
    "    Sd_noise = np.sqrt(noise_var)\n",
    "#     signal_std = np.sqrt(signal_var)\n",
    " \n",
    "    Sd_epis = np.sqrt(Vargrid)\n",
    "    \n",
    "    lower = Mgrid - 2. * Sd_epis\n",
    "    upper = Mgrid + 2. * Sd_epis\n",
    "    \n",
    "    lower1 = lower - 2. * Sd_noise\n",
    "    upper1 = upper + 2. * Sd_noise\n",
    "    \n",
    "    plt.plot(X, Y, '.')\n",
    "    line, = plt.plot(Xgrid, Mgrid, lw = 2, color = 'b', label = 'utility', alpha = 0.5)\n",
    "    plt.fill_between(Xgrid[:,0], lower, upper,\n",
    "                     color = 'b', alpha = 0.05)\n",
    "    #plt.fill_between(Xgrid[:,0], lower1, upper1,\n",
    "    #                 color = 'g', alpha = 0.25)\n",
    "    plt.xlabel('x')\n",
    "    plt.ylabel('y')\n",
    "    return"
   ]
  },
  {
   "cell_type": "code",
   "execution_count": 70,
   "metadata": {
    "collapsed": true
   },
   "outputs": [],
   "source": [
    "X_true = np.linspace(0, 1, 100)[:,None]\n",
    "Y_true = np.array([objective(x) for x in X_true])[:, None]"
   ]
  },
  {
   "cell_type": "code",
   "execution_count": 72,
   "metadata": {
    "collapsed": false
   },
   "outputs": [
    {
     "data": {
      "text/plain": [
       "[<matplotlib.lines.Line2D at 0x12c72d050>]"
      ]
     },
     "execution_count": 72,
     "metadata": {},
     "output_type": "execute_result"
    },
    {
     "data": {
      "image/png": "[encoded data removed]",
      "text/plain": [
       "<matplotlib.figure.Figure at 0x12c729e90>"
      ]
     },
     "metadata": {},
     "output_type": "display_data"
    }
   ],
   "source": [
    "mini = 0\n",
    "maxi = 200\n",
    "plt.figure(figsize=(12,8))\n",
    "\n",
    "for i in xrange(mini,maxi):\n",
    "    visualize(xnew, mean_f_mat[i,:], var_f_mat[i,:], noise_var=.01)  \n",
    "plt.plot(X_true, Y_true, 'k')"
   ]
  },
  {
   "cell_type": "code",
   "execution_count": null,
   "metadata": {
    "collapsed": true
   },
   "outputs": [],
   "source": [
    "def visualize_l(Xgrid, M, L, U):\n",
    "    \"\"\"\n",
    "    Visualize 1D utility funciton values\n",
    "    Xgrid : grid states\n",
    "    Mgrid : mean of GP at those finite grid points\n",
    "    Vargrid : variance of GP at those finite grid points\n",
    "    \"\"\"\n",
    "    \n",
    "    line, = plt.plot(Xgrid, M, lw = 2, color = 'b', label = 'utility', alpha = 0.5)\n",
    "    plt.fill_between(Xgrid[:,0], L, U,\n",
    "                     color = 'b', alpha = 0.25)\n",
    "    #plt.fill_between(Xgrid[:,0], lower1, upper1,\n",
    "    #                 color = 'g', alpha = 0.25)\n",
    "    plt.xlabel('x')\n",
    "    plt.ylabel('y')\n",
    "    return"
   ]
  },
  {
   "cell_type": "code",
   "execution_count": null,
   "metadata": {
    "collapsed": true
   },
   "outputs": [],
   "source": [
    "mini = 100\n",
    "maxi = 200\n",
    "plt.figure(figsize=(12,8))\n",
    "for i in xrange(mini,maxi):\n",
    "    visualize_l(xnew, MeanL[i,:], LowerL[i,:], UpperL[i,:])  "
   ]
  },
  {
   "cell_type": "code",
   "execution_count": null,
   "metadata": {
    "collapsed": true
   },
   "outputs": [],
   "source": [
    "m.predict_f_samples(xx, 100).shape"
   ]
  },
  {
   "cell_type": "code",
   "execution_count": null,
   "metadata": {
    "collapsed": true
   },
   "outputs": [],
   "source": []
  }
 ],
 "metadata": {
  "kernelspec": {
   "display_name": "Python 2",
   "language": "python",
   "name": "python2"
  },
  "language_info": {
   "codemirror_mode": {
    "name": "ipython",
    "version": 2
   },
   "file_extension": ".py",
   "mimetype": "text/x-python",
   "name": "python",
   "nbconvert_exporter": "python",
   "pygments_lexer": "ipython2",
   "version": "2.7.6"
  }
 },
 "nbformat": 4,
 "nbformat_minor": 2
}
